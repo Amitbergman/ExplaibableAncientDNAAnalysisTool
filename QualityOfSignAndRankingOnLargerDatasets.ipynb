{
 "cells": [
  {
   "cell_type": "code",
   "execution_count": 1,
   "id": "4ef14012-c44b-4221-84c1-16a13c0db2f7",
   "metadata": {},
   "outputs": [
    {
     "name": "stderr",
     "output_type": "stream",
     "text": [
      "2023-08-18 17:55:27.650302: I tensorflow/core/platform/cpu_feature_guard.cc:193] This TensorFlow binary is optimized with oneAPI Deep Neural Network Library (oneDNN) to use the following CPU instructions in performance-critical operations:  AVX2 AVX512F AVX512_VNNI FMA\n",
      "To enable them in other operations, rebuild TensorFlow with the appropriate compiler flags.\n",
      "2023-08-18 17:55:27.866910: I tensorflow/core/util/util.cc:169] oneDNN custom operations are on. You may see slightly different numerical results due to floating-point round-off errors from different computation orders. To turn them off, set the environment variable `TF_ENABLE_ONEDNN_OPTS=0`.\n",
      "2023-08-18 17:55:27.901243: E tensorflow/stream_executor/cuda/cuda_blas.cc:2981] Unable to register cuBLAS factory: Attempting to register factory for plugin cuBLAS when one has already been registered\n",
      "2023-08-18 17:55:28.569123: W tensorflow/stream_executor/platform/default/dso_loader.cc:64] Could not load dynamic library 'libnvinfer.so.7'; dlerror: libnvinfer.so.7: cannot open shared object file: No such file or directory\n",
      "2023-08-18 17:55:28.569249: W tensorflow/stream_executor/platform/default/dso_loader.cc:64] Could not load dynamic library 'libnvinfer_plugin.so.7'; dlerror: libnvinfer_plugin.so.7: cannot open shared object file: No such file or directory\n",
      "2023-08-18 17:55:28.569257: W tensorflow/compiler/tf2tensorrt/utils/py_utils.cc:38] TF-TRT Warning: Cannot dlopen some TensorRT libraries. If you would like to use Nvidia GPU with TensorRT, please make sure the missing libraries mentioned above are installed properly.\n"
     ]
    }
   ],
   "source": [
    "def warn(*args, **kwargs):\n",
    "    pass\n",
    "import warnings\n",
    "warnings.warn = warn\n",
    "import seaborn as sns\n",
    "from ExplainableMaximumLikelihoodCalculator import ExplainableMaximumLikelihoodCalculator\n",
    "import pysam\n",
    "from Bio import SeqIO, Seq, SeqRecord, pairwise2\n",
    "from Bio.pairwise2 import format_alignment\n",
    "from LoadDataUtils import getListOfReadsFromBamFile, getListOfReadsFromFastaFile\n",
    "import matplotlib.pyplot as plt\n",
    "import numpy as np\n",
    "import pandas as pd\n",
    "import random\n",
    "import math\n",
    "import shap\n",
    "from scipy.stats import chisquare\n",
    "from scipy.special import rel_entr\n",
    "fileNameSapiens =  \"data/simulatedData/human_chinese_AF346973_500samples.fas\" #File that contains 500 reads from homo sapiens\n",
    "fileNameNeanderthals =  \"data/simulatedData/Neanderthal_Goyet_KX198085_500samples.fas\" #File that contains 500 reads from neanderthal\n",
    "fileNameDenisovans =  \"data/simulatedData/denisova_kx663333_500samples.fas\" #File that contains 500 reads from denisovan\n",
    "neanderthals_500_generated = getListOfReadsFromFastaFile(fileNameNeanderthals)\n",
    "sapiens_500_generated = getListOfReadsFromFastaFile(fileNameSapiens)\n",
    "denisovan_500_samples = getListOfReadsFromFastaFile(fileNameDenisovans)\n",
    "path_to_frequencies_table = \"data/substitution_matrix.tsv\""
   ]
  },
  {
   "cell_type": "code",
   "execution_count": 2,
   "id": "873cba0c-0d88-439b-9cad-b078e79be7a4",
   "metadata": {},
   "outputs": [],
   "source": [
    "sapiens_reference_file_names = [\n",
    "                    \"data/reference_files/human_AF346981_French.fa\",\n",
    "                     \"data/reference_files/human_AY195760_Korea.fa\",\n",
    "                      \"data/reference_files/human_AY882416_Ethiopia.fa\",\n",
    "                      \"data/reference_files/human_AY963586_Italian.fa\",\n",
    "                      \"data/reference_files/human_AY195781_Caucasian.fa\",\n",
    "                      \"data/reference_files/human_AY195757_Iraqi-Israeli.fa\",\n",
    "                      \"data/reference_files/human_AY195749_NativeAmerican.fa\"]\n",
    "neanderthals_reference_file_names = [\n",
    "                            \"data/reference_files/neanderthal_mezmaiskaya1_FM865411.fa\",\n",
    "                           \"data/reference_files/Neanderthal_Altai_KC879692.fa\",\n",
    "                           \"data/reference_files/Neanderthal_Denisova11_full_mtDNA_KU131206.fa\",\n",
    "                           \"data/reference_files/Neanderthal_Spy_94a_MG025538.fa\",\n",
    "                            \"data/reference_files/Neanderthal_Vindija33.16_AM948965.fa\",\n",
    "                            \"data/reference_files/Neanderthal_Vindija33.19_KJ533545.fa\"]\n",
    "denisovan_reference_file_names = [  \n",
    "                        \"data/reference_files/Denisova_MT576653.1.fa\",\n",
    "                        \"data/reference_files/Denisova_MT576652.1.fa\",\n",
    "                        \"data/reference_files/Denisova_4_FR695060.fa\",\n",
    "                        \"data/reference_files/Denisova_8_KT780370.fa\",\n",
    "                        \"data/reference_files/Denisova_manual_phalanx_NC_013993.fa\",\n",
    "                        \"data/reference_files/Denisova_MT576651.1.fa\"]"
   ]
  },
  {
   "cell_type": "code",
   "execution_count": 3,
   "id": "de9243a7-ee40-458b-86e2-56743f43917b",
   "metadata": {},
   "outputs": [],
   "source": [
    "def generate_sample(sap, nean, den):\n",
    "    list_before =  list(np.random.choice(sapiens_500_generated, sap)) + list(np.random.choice(neanderthals_500_generated, nean)) + list(np.random.choice(denisovan_500_samples, den))\n",
    "    l = []\n",
    "    for i in list_before:\n",
    "        l.append(str(i))\n",
    "    return l"
   ]
  },
  {
   "cell_type": "code",
   "execution_count": 4,
   "id": "66c5d7a3-f884-4ede-9cee-d855af7dada0",
   "metadata": {},
   "outputs": [],
   "source": [
    "sapiens = 33\n",
    "neanderthals = 33\n",
    "denisovans = 34\n",
    "\n",
    "dataset_1 = generate_sample(sapiens, neanderthals, denisovans)"
   ]
  },
  {
   "cell_type": "code",
   "execution_count": 5,
   "id": "4f365286-d0e6-48f0-bd6b-6f69738698bb",
   "metadata": {},
   "outputs": [
    {
     "name": "stdout",
     "output_type": "stream",
     "text": [
      "\u001b[34mLoading sequences and calculating alignments to all references, this might take a while. Number of reads: \u001b[0m 100\n",
      "start working on read number 0\n",
      "start working on read number 40\n",
      "start working on read number 80\n"
     ]
    }
   ],
   "source": [
    "maximum_likelihood_calculator_d_1 = ExplainableMaximumLikelihoodCalculator(dataset_1,\n",
    "                                                    ref_neanderthal_file_names=neanderthals_reference_file_names,\n",
    "                                                    ref_sapien_file_names=sapiens_reference_file_names,\n",
    "                                                    ref_denisovan_file_names=denisovan_reference_file_names,\n",
    "                                                    path_to_substitution_matrix=path_to_frequencies_table,\n",
    "                                                    number_of_jobs=-1)"
   ]
  },
  {
   "cell_type": "code",
   "execution_count": 9,
   "id": "0109d881-bd5d-4e25-ac1b-1dad4fb89be6",
   "metadata": {},
   "outputs": [
    {
     "data": {
      "text/html": [
       "<div>\n",
       "<style scoped>\n",
       "    .dataframe tbody tr th:only-of-type {\n",
       "        vertical-align: middle;\n",
       "    }\n",
       "\n",
       "    .dataframe tbody tr th {\n",
       "        vertical-align: top;\n",
       "    }\n",
       "\n",
       "    .dataframe thead th {\n",
       "        text-align: right;\n",
       "    }\n",
       "</style>\n",
       "<table border=\"1\" class=\"dataframe\">\n",
       "  <thead>\n",
       "    <tr style=\"text-align: right;\">\n",
       "      <th></th>\n",
       "      <th>Homo Sapiens</th>\n",
       "      <th>Neanderthals</th>\n",
       "      <th>Denisovans</th>\n",
       "    </tr>\n",
       "  </thead>\n",
       "  <tbody>\n",
       "    <tr>\n",
       "      <th>Estimation</th>\n",
       "      <td>0.375</td>\n",
       "      <td>0.3</td>\n",
       "      <td>0.325</td>\n",
       "    </tr>\n",
       "  </tbody>\n",
       "</table>\n",
       "</div>"
      ],
      "text/plain": [
       "            Homo Sapiens  Neanderthals  Denisovans\n",
       "Estimation         0.375           0.3       0.325"
      ]
     },
     "execution_count": 9,
     "metadata": {},
     "output_type": "execute_result"
    }
   ],
   "source": [
    "maximum_likelihood_calculator_d_1.estimate_species_proportions()"
   ]
  },
  {
   "cell_type": "code",
   "execution_count": 12,
   "id": "336e0413-4a8e-45bf-8158-69602a4562d7",
   "metadata": {},
   "outputs": [],
   "source": [
    "def accuracy(values, ground_truth):\n",
    "    count_correct = 0\n",
    "    count = 0\n",
    "    for label in range(3):\n",
    "        \n",
    "        values_in_label = values[label][0]\n",
    "        gt_in_label = ground_truth[label][0]\n",
    "        for i in range(len(gt_in_label)):\n",
    "            if(values_in_label[i] * gt_in_label[i] > 0):\n",
    "                count_correct +=1\n",
    "            if (gt_in_label[i] != 0):\n",
    "                count +=1\n",
    "    return count_correct / count\n",
    "    \n",
    "    \n",
    "    "
   ]
  },
  {
   "cell_type": "code",
   "execution_count": 27,
   "id": "6d05baf4-9af0-41af-ba32-af6230079155",
   "metadata": {},
   "outputs": [],
   "source": [
    "data_shap = []\n",
    "data_monte = []\n",
    "data_a_s_d = []"
   ]
  },
  {
   "cell_type": "code",
   "execution_count": 26,
   "id": "c73d9d63-17cd-4b33-9d97-a70c62355d1b",
   "metadata": {},
   "outputs": [
    {
     "name": "stdout",
     "output_type": "stream",
     "text": [
      "1\n"
     ]
    },
    {
     "data": {
      "application/vnd.jupyter.widget-view+json": {
       "model_id": "91650668b0ab407f8e439c8628a97cfa",
       "version_major": 2,
       "version_minor": 0
      },
      "text/plain": [
       "  0%|          | 0/1 [00:00<?, ?it/s]"
      ]
     },
     "metadata": {},
     "output_type": "display_data"
    },
    {
     "name": "stdout",
     "output_type": "stream",
     "text": [
      "1\n",
      "50000\n"
     ]
    }
   ],
   "source": [
    "ground_truth_shapleys = maximum_likelihood_calculator_d_1.calculate_shapley_values(50000)\n"
   ]
  },
  {
   "cell_type": "code",
   "execution_count": 29,
   "id": "38fcc725-7da5-4c84-92df-4fbbefbe13b9",
   "metadata": {},
   "outputs": [
    {
     "name": "stdout",
     "output_type": "stream",
     "text": [
      "1\n"
     ]
    },
    {
     "data": {
      "application/vnd.jupyter.widget-view+json": {
       "model_id": "659c4566ae234174a994f55bed6efd2d",
       "version_major": 2,
       "version_minor": 0
      },
      "text/plain": [
       "  0%|          | 0/1 [00:00<?, ?it/s]"
      ]
     },
     "metadata": {},
     "output_type": "display_data"
    },
    {
     "name": "stdout",
     "output_type": "stream",
     "text": [
      "1\n",
      "100\n",
      "shap 0.23770491803278687\n",
      "asd 0.9918032786885246\n",
      "1\n"
     ]
    },
    {
     "data": {
      "application/vnd.jupyter.widget-view+json": {
       "model_id": "f9398ef5baab424982b888fe957c6345",
       "version_major": 2,
       "version_minor": 0
      },
      "text/plain": [
       "  0%|          | 0/1 [00:00<?, ?it/s]"
      ]
     },
     "metadata": {},
     "output_type": "display_data"
    },
    {
     "name": "stdout",
     "output_type": "stream",
     "text": [
      "1\n",
      "200\n",
      "shap 0.45901639344262296\n",
      "asd 0.9918032786885246\n",
      "1\n"
     ]
    },
    {
     "data": {
      "application/vnd.jupyter.widget-view+json": {
       "model_id": "f484bfa3b0054732ad719edc82c7a437",
       "version_major": 2,
       "version_minor": 0
      },
      "text/plain": [
       "  0%|          | 0/1 [00:00<?, ?it/s]"
      ]
     },
     "metadata": {},
     "output_type": "display_data"
    },
    {
     "name": "stdout",
     "output_type": "stream",
     "text": [
      "1\n",
      "300\n",
      "shap 0.569672131147541\n",
      "asd 0.9918032786885246\n",
      "1\n"
     ]
    },
    {
     "data": {
      "application/vnd.jupyter.widget-view+json": {
       "model_id": "fe4ada06effc4f08999985b3a46b5f96",
       "version_major": 2,
       "version_minor": 0
      },
      "text/plain": [
       "  0%|          | 0/1 [00:00<?, ?it/s]"
      ]
     },
     "metadata": {},
     "output_type": "display_data"
    },
    {
     "name": "stdout",
     "output_type": "stream",
     "text": [
      "1\n",
      "1000\n",
      "shap 0.8770491803278688\n",
      "asd 0.9918032786885246\n",
      "1\n"
     ]
    },
    {
     "data": {
      "application/vnd.jupyter.widget-view+json": {
       "model_id": "10137e426ed34c22a69ec6e0e78d5856",
       "version_major": 2,
       "version_minor": 0
      },
      "text/plain": [
       "  0%|          | 0/1 [00:00<?, ?it/s]"
      ]
     },
     "metadata": {},
     "output_type": "display_data"
    },
    {
     "name": "stdout",
     "output_type": "stream",
     "text": [
      "1\n",
      "2000\n",
      "shap 0.9385245901639344\n",
      "asd 0.9918032786885246\n",
      "1\n"
     ]
    },
    {
     "data": {
      "application/vnd.jupyter.widget-view+json": {
       "model_id": "968ce5e5921f4dce93fbdb2bd2e007ac",
       "version_major": 2,
       "version_minor": 0
      },
      "text/plain": [
       "  0%|          | 0/1 [00:00<?, ?it/s]"
      ]
     },
     "metadata": {},
     "output_type": "display_data"
    },
    {
     "name": "stdout",
     "output_type": "stream",
     "text": [
      "1\n",
      "5000\n",
      "shap 0.9795081967213115\n",
      "asd 0.9918032786885246\n",
      "1\n"
     ]
    },
    {
     "data": {
      "application/vnd.jupyter.widget-view+json": {
       "model_id": "953c947a3e5e4988b3b9c3f4458c5f82",
       "version_major": 2,
       "version_minor": 0
      },
      "text/plain": [
       "  0%|          | 0/1 [00:00<?, ?it/s]"
      ]
     },
     "metadata": {},
     "output_type": "display_data"
    },
    {
     "name": "stdout",
     "output_type": "stream",
     "text": [
      "1\n",
      "10000\n",
      "shap 0.9959016393442623\n",
      "asd 0.9918032786885246\n"
     ]
    }
   ],
   "source": [
    "sample_sizes = [100,200,300,1000,2000,5000,10000]\n",
    "shap_values_all = []\n",
    "for sp_size in sample_sizes:\n",
    "    \n",
    "    shaps = maximum_likelihood_calculator_d_1.calculate_shapley_values(sp_size)\n",
    "    shap_values_all.append((sp_size, shaps))\n",
    "    a_s_d = maximum_likelihood_calculator_d_1.get_A_s_d_values()\n",
    "    first = [a[0]-0.33 for a in a_s_d]\n",
    "    second = [a[1]-0.33 for a in a_s_d]\n",
    "    third = [a[2]-0.33 for a in a_s_d]\n",
    "    a_s_d_values = [[first], [second], [third]]\n",
    "    \n",
    "    sign_accuracy_shap = accuracy(shaps, ground_truth_shapleys)\n",
    "    sign_accuracy_a_s_d = accuracy(a_s_d_values, ground_truth_shapleys)\n",
    "    \n",
    "    data_shap.append((sp_size, sign_accuracy_shap))\n",
    "    data_a_s_d.append((sp_size, sign_accuracy_a_s_d))\n",
    "                     \n",
    "    print(\"shap\", sign_accuracy_shap)\n",
    "    print(\"asd\",sign_accuracy_a_s_d)   "
   ]
  },
  {
   "cell_type": "code",
   "execution_count": 30,
   "id": "7419f385-91f5-4472-9823-1a634526278a",
   "metadata": {},
   "outputs": [],
   "source": [
    "def plot(t,s, name, title):\n",
    "\n",
    "    plt.rcParams.update({'font.size': 14})\n",
    "    plt.plot(t, s)\n",
    "    plt.title(title)\n",
    "    plt.xlabel(\"Number of samples per sequence\")\n",
    "    plt.ylabel(\"Percentage of correct explanation values\")\n",
    "    \n",
    "    plt.savefig(name)\n",
    "\n",
    "    plt.show()"
   ]
  },
  {
   "cell_type": "code",
   "execution_count": 34,
   "id": "f7ed1870-a648-4888-a273-9786be72de36",
   "metadata": {},
   "outputs": [],
   "source": [
    "a_s_d_values = [[first], [second], [third]]"
   ]
  },
  {
   "cell_type": "code",
   "execution_count": null,
   "id": "e136df37-3f31-4b2a-8d10-18a74ce1e05a",
   "metadata": {},
   "outputs": [],
   "source": []
  },
  {
   "cell_type": "code",
   "execution_count": 42,
   "id": "9d3be561-c8f4-4f0b-9e35-f21f91ceaa9c",
   "metadata": {},
   "outputs": [
    {
     "data": {
      "text/plain": [
       "[-0.030000000000000027,\n",
       " 0.09853420334862567,\n",
       " 0.6069157971907466,\n",
       " 0.1699240034541737,\n",
       " 0.11691946052439772]"
      ]
     },
     "execution_count": 42,
     "metadata": {},
     "output_type": "execute_result"
    }
   ],
   "source": [
    "a_s_d_values[0][0][10:15]"
   ]
  },
  {
   "cell_type": "code",
   "execution_count": null,
   "id": "a5631fe3-283f-4116-9607-a44a4b5b17f2",
   "metadata": {},
   "outputs": [],
   "source": [
    "a_s_d_values"
   ]
  },
  {
   "cell_type": "code",
   "execution_count": 33,
   "id": "1badc847-d180-4984-9bd9-4511bfa0a707",
   "metadata": {},
   "outputs": [
    {
     "data": {
      "text/plain": [
       "[array([[ 0.00966442,  0.06209407,  0.06292429,  0.06142197,  0.0130092 ,\n",
       "          0.06273227, -0.01202781,  0.05691427,  0.        ,  0.05255409,\n",
       "         -0.00567986,  0.00582976,  0.05868052,  0.01248213,  0.00861536,\n",
       "          0.00784802,  0.06307841,  0.        , -0.00593208,  0.0065408 ,\n",
       "          0.00821448,  0.        ,  0.05307939,  0.06015497,  0.05700323,\n",
       "          0.01696073,  0.06486103,  0.00981173,  0.05992319,  0.06186784,\n",
       "          0.06439617,  0.00716243,  0.06248518,  0.02662432, -0.02304263,\n",
       "          0.        ,  0.03286785, -0.04163797,  0.        , -0.03970657,\n",
       "          0.        , -0.03586067, -0.03814565,  0.        , -0.03920505,\n",
       "         -0.0361143 , -0.03866634, -0.04128026,  0.00934065, -0.03898429,\n",
       "          0.        , -0.03975389,  0.        , -0.03881415,  0.        ,\n",
       "         -0.03882951,  0.        , -0.00554762, -0.02100386,  0.        ,\n",
       "          0.        ,  0.        , -0.0377255 ,  0.01515282,  0.00881026,\n",
       "          0.        , -0.02618209, -0.00843027,  0.        ,  0.        ,\n",
       "         -0.0245574 , -0.01033921, -0.02688031, -0.02761521,  0.02056202,\n",
       "          0.        , -0.02576904,  0.        , -0.02807822, -0.02759051,\n",
       "          0.        ,  0.        ,  0.01182742, -0.03369057,  0.        ,\n",
       "          0.01540528, -0.02879513, -0.0270465 , -0.01988284, -0.02944125,\n",
       "         -0.00680954, -0.02623924, -0.02890702, -0.02706587, -0.02783769,\n",
       "         -0.00715586, -0.02730198, -0.03522326, -0.02827644, -0.02382713]]),\n",
       " array([[ 0.01652636, -0.03477348, -0.03760324, -0.03473995, -0.03406544,\n",
       "         -0.03500926,  0.        , -0.03185064,  0.01039237, -0.02582772,\n",
       "          0.        ,  0.01161727, -0.03298036,  0.01481657,  0.01141095,\n",
       "          0.01733808, -0.03623192,  0.        ,  0.        ,  0.01829392,\n",
       "          0.01623216,  0.        , -0.02717445, -0.03642892, -0.03252548,\n",
       "         -0.02971558, -0.03777371,  0.01723942, -0.03449524, -0.03483698,\n",
       "         -0.03902253,  0.02044142, -0.0356973 ,  0.        ,  0.008502  ,\n",
       "          0.        , -0.00630933,  0.06636968,  0.022887  ,  0.06587556,\n",
       "          0.        ,  0.06165413,  0.0653513 ,  0.02670234,  0.06533049,\n",
       "          0.03441132,  0.06519219,  0.06633396,  0.01902515,  0.06475905,\n",
       "          0.01048611,  0.06680771,  0.        ,  0.06730995,  0.        ,\n",
       "          0.06525478,  0.01251082,  0.        , -0.0201331 ,  0.        ,\n",
       "         -0.01617979,  0.        ,  0.0642174 ,  0.01061916,  0.01713859,\n",
       "          0.02433599, -0.02755813,  0.        , -0.00950362, -0.01144586,\n",
       "         -0.02534336,  0.        , -0.02576841, -0.02830195, -0.03125079,\n",
       "          0.        , -0.02485889,  0.        , -0.02560382, -0.02375073,\n",
       "          0.01122461,  0.00968525, -0.03295525,  0.01816568,  0.        ,\n",
       "         -0.03262557, -0.02507943, -0.02492624, -0.0258101 , -0.01671252,\n",
       "          0.        , -0.02611967, -0.02629166, -0.02573881, -0.02625876,\n",
       "          0.        , -0.02577679,  0.03403475, -0.02413392, -0.02930479]]),\n",
       " array([[-0.02593381, -0.02683071, -0.02484841, -0.02619635,  0.02130927,\n",
       "         -0.02719065,  0.00806677, -0.02448169, -0.01352204, -0.02617959,\n",
       "          0.00871153, -0.0172766 , -0.0251855 , -0.02696222, -0.01946734,\n",
       "         -0.02479862, -0.02660036,  0.        ,  0.        , -0.02451369,\n",
       "         -0.02393238,  0.        , -0.0258419 , -0.02339767, -0.0240718 ,\n",
       "          0.01324913, -0.02673667, -0.02661255, -0.02520069, -0.02665453,\n",
       "         -0.02495635, -0.0271893 , -0.02632649, -0.02628598,  0.0148462 ,\n",
       "          0.        , -0.02607742, -0.02439632, -0.02629818, -0.02582508,\n",
       "          0.        , -0.02534384, -0.02691123, -0.0269115 , -0.02575262,\n",
       "          0.        , -0.02605862, -0.02468704, -0.0279662 , -0.02543822,\n",
       "         -0.00687837, -0.02663508,  0.        , -0.0282963 ,  0.        ,\n",
       "         -0.02619567, -0.0101339 ,  0.        ,  0.04150149,  0.0078804 ,\n",
       "          0.01197726,  0.        , -0.02598797, -0.02545837, -0.02568101,\n",
       "         -0.025577  ,  0.05429739,  0.0080355 ,  0.00670398,  0.00695276,\n",
       "          0.05050223,  0.00746251,  0.05298296,  0.05631772,  0.01094298,\n",
       "          0.        ,  0.05111445,  0.        ,  0.05397259,  0.05172241,\n",
       "         -0.01126339, -0.01369467,  0.02152117,  0.01594003,  0.        ,\n",
       "          0.01751211,  0.05430185,  0.05245261,  0.04621716,  0.04660763,\n",
       "          0.00869683,  0.05273373,  0.05543505,  0.05342738,  0.05420777,\n",
       "          0.00712561,  0.05341645,  0.        ,  0.05285261,  0.05366442]])]"
      ]
     },
     "execution_count": 33,
     "metadata": {},
     "output_type": "execute_result"
    }
   ],
   "source": [
    "ground_truth_shapleys"
   ]
  },
  {
   "cell_type": "code",
   "execution_count": 48,
   "id": "54ae67b8-a68f-4f45-a834-694f471c43b0",
   "metadata": {},
   "outputs": [
    {
     "data": {
      "text/plain": [
       "<Figure size 640x480 with 0 Axes>"
      ]
     },
     "metadata": {},
     "output_type": "display_data"
    },
    {
     "data": {
      "image/png": "[encoded data removed]",
      "text/plain": [
       "<Figure size 640x480 with 1 Axes>"
      ]
     },
     "metadata": {},
     "output_type": "display_data"
    }
   ],
   "source": [
    "import numpy as np\n",
    "import matplotlib.pyplot as plt\n",
    "plt.figure() \n",
    "plt.figure().clear()\n",
    "plt.rcParams.update({'font.size': 14})\n",
    "t = [i[0] for i in data_shap]\n",
    "plt.plot(t,[i[1] for i in data_shap],label='Shap')\n",
    "plt.plot(t,[i[1] for i in data_a_s_d ],label='A_d_s', color=\"green\")\n",
    "plt.title(\"Sign accuracy - dataset size: 100\")\n",
    "plt.xlabel(\"Number of samples\")\n",
    "plt.ylabel(\"Sign accuracy\")\n",
    "plt.xlim(left=0)\n",
    "plt.ylim(bottom=0)\n",
    "plt.legend()\n",
    "plt.savefig(\"sign_accuracy_larger_dataset.png\")\n",
    "plt.show()\n",
    "\n"
   ]
  },
  {
   "cell_type": "code",
   "execution_count": 43,
   "id": "9fbd9028-5f14-40db-b9df-f6392f4b1055",
   "metadata": {},
   "outputs": [
    {
     "data": {
      "text/plain": [
       "[(100, 0.23770491803278687),\n",
       " (200, 0.45901639344262296),\n",
       " (300, 0.569672131147541),\n",
       " (1000, 0.8770491803278688),\n",
       " (2000, 0.9385245901639344),\n",
       " (5000, 0.9795081967213115),\n",
       " (10000, 0.9959016393442623)]"
      ]
     },
     "execution_count": 43,
     "metadata": {},
     "output_type": "execute_result"
    }
   ],
   "source": [
    "data_shap"
   ]
  },
  {
   "cell_type": "code",
   "execution_count": 45,
   "id": "781be3b1-f5c5-4a70-8617-74bb03bd9167",
   "metadata": {},
   "outputs": [],
   "source": [
    "data_a_s_d = [(i[0],0.9218032786885246) for i in data_a_s_d ]"
   ]
  },
  {
   "cell_type": "code",
   "execution_count": 46,
   "id": "8da85ea0-dada-48ac-8495-7eac6ac29c95",
   "metadata": {},
   "outputs": [
    {
     "data": {
      "text/plain": [
       "[(100, 0.9218032786885246),\n",
       " (200, 0.9218032786885246),\n",
       " (300, 0.9218032786885246),\n",
       " (1000, 0.9218032786885246),\n",
       " (2000, 0.9218032786885246),\n",
       " (5000, 0.9218032786885246),\n",
       " (10000, 0.9218032786885246)]"
      ]
     },
     "execution_count": 46,
     "metadata": {},
     "output_type": "execute_result"
    }
   ],
   "source": [
    "data_a_s_d"
   ]
  },
  {
   "cell_type": "code",
   "execution_count": 49,
   "id": "dd129b16-e912-4c29-8bc0-3bc7418876dd",
   "metadata": {},
   "outputs": [],
   "source": [
    "def dcg_of_item(actual_location, desired_location, length):\n",
    "    distance = np.abs(actual_location - desired_location)\n",
    "    score = length - distance\n",
    "    # the closer you are the higher the score\n",
    "    denominator = np.log2(actual_location+1)\n",
    "    return score/denominator\n",
    "    "
   ]
  },
  {
   "cell_type": "code",
   "execution_count": 50,
   "id": "b9597944-31cf-4941-b691-8611aefb7333",
   "metadata": {},
   "outputs": [],
   "source": [
    "def calculate_score_of_ranking(desired_ranking, actual_ranking):\n",
    "    score_sum = 0\n",
    "    for i in range(len(desired_ranking)):\n",
    "        item = actual_ranking[i] # this is the item that was in the ith place\n",
    "        desired_rank_of_item = desired_ranking.index(item)+1\n",
    "        score = dcg_of_item(i+1, desired_rank_of_item, len(desired_ranking))\n",
    "        score_sum += score\n",
    "    return score_sum"
   ]
  },
  {
   "cell_type": "code",
   "execution_count": 51,
   "id": "46021520-d44d-48d2-9133-0da7bdefe134",
   "metadata": {},
   "outputs": [],
   "source": [
    "def calculate_ideal_score(size):\n",
    "    ideal_list = list(range(size))\n",
    "    return calculate_score_of_ranking(ideal_list,ideal_list)"
   ]
  },
  {
   "cell_type": "code",
   "execution_count": 52,
   "id": "0958a2c3-dd42-4376-beda-20e78cec6620",
   "metadata": {},
   "outputs": [
    {
     "ename": "IndexError",
     "evalue": "index 1 is out of bounds for axis 0 with size 1",
     "output_type": "error",
     "traceback": [
      "\u001b[0;31m---------------------------------------------------------------------------\u001b[0m",
      "\u001b[0;31mIndexError\u001b[0m                                Traceback (most recent call last)",
      "Cell \u001b[0;32mIn[52], line 1\u001b[0m\n\u001b[0;32m----> 1\u001b[0m only_indexes_sorted \u001b[38;5;241m=\u001b[39m [i[\u001b[38;5;241m1\u001b[39m] \u001b[38;5;28;01mfor\u001b[39;00m i \u001b[38;5;129;01min\u001b[39;00m ground_truth_shapleys]\n",
      "Cell \u001b[0;32mIn[52], line 1\u001b[0m, in \u001b[0;36m<listcomp>\u001b[0;34m(.0)\u001b[0m\n\u001b[0;32m----> 1\u001b[0m only_indexes_sorted \u001b[38;5;241m=\u001b[39m [\u001b[43mi\u001b[49m\u001b[43m[\u001b[49m\u001b[38;5;241;43m1\u001b[39;49m\u001b[43m]\u001b[49m \u001b[38;5;28;01mfor\u001b[39;00m i \u001b[38;5;129;01min\u001b[39;00m ground_truth_shapleys]\n",
      "\u001b[0;31mIndexError\u001b[0m: index 1 is out of bounds for axis 0 with size 1"
     ]
    }
   ],
   "source": [
    "only_indexes_sorted = [i[1] for i in ground_truth_shapleys]"
   ]
  },
  {
   "cell_type": "code",
   "execution_count": 66,
   "id": "9b304654-2d24-496c-b4b6-658ed5009f3f",
   "metadata": {},
   "outputs": [],
   "source": [
    "def get_ranking_score_per_label(label, ground_truth, estimation):\n",
    "    ground_truth_shapley_label = ground_truth[label][0]\n",
    "    ground_shapley_label_with_index = []\n",
    "    for i in range(len(ground_truth_shapley_label)):\n",
    "        ground_shapley_label_with_index.append((ground_truth_shapley_label[i], i))\n",
    "    ground_shapley_label_with_index_sorted = sorted(ground_shapley_label_with_index, key=lambda a:a[0], reverse=True)\n",
    "    only_indexes_sorted = [i[1] for i in ground_shapley_label_with_index_sorted]\n",
    "\n",
    "    estimation_label = estimation[label][0]\n",
    "    estimation_with_index = []\n",
    "    for i in range(len(shaps_label)):\n",
    "        estimation_with_index.append((estimation_label[i], i))\n",
    "    estimation_label_with_index_sorted = sorted(estimation_with_index, key=lambda a:a[0], reverse=True)\n",
    "    only_indexes_sorted_estimation = [i[1] for i in estimation_label_with_index_sorted]\n",
    "    ranking_result_shap = calculate_score_of_ranking(only_indexes_sorted, only_indexes_sorted_estimation)\n",
    "    ideal_score = calculate_ideal_score(len(ground_truth[0][0]))\n",
    "    return ranking_result_shap/ideal_score"
   ]
  },
  {
   "cell_type": "code",
   "execution_count": 83,
   "id": "524e3fbd-2d8d-4b1a-b781-3eec246568e9",
   "metadata": {},
   "outputs": [],
   "source": [
    "to_plot_shaps = []\n",
    "to_plot_a_d_s = []\n",
    "for (size, shaps) in shap_values_all:\n",
    "    scores = []\n",
    "    for label in range(3):\n",
    "        score = get_ranking_score_per_label(label, ground_truth_shapleys, shaps)\n",
    "        scores.append(score)\n",
    "    to_plot_shaps.append((size, np.mean(scores)))\n",
    "    to_plot_a_d_s.append((size, 0.8978417055473319))\n",
    "    \n",
    "    "
   ]
  },
  {
   "cell_type": "code",
   "execution_count": 84,
   "id": "37dfc2a3-8b28-429a-9227-182cda168717",
   "metadata": {},
   "outputs": [
    {
     "data": {
      "text/plain": [
       "[(100, 0.7323964924853962),\n",
       " (200, 0.7789463108926635),\n",
       " (300, 0.826754481322622),\n",
       " (1000, 0.9075217015212393),\n",
       " (2000, 0.9212735718611563),\n",
       " (5000, 0.9364038655783883),\n",
       " (10000, 0.94517749185971)]"
      ]
     },
     "execution_count": 84,
     "metadata": {},
     "output_type": "execute_result"
    }
   ],
   "source": [
    "to_plot_shaps"
   ]
  },
  {
   "cell_type": "code",
   "execution_count": 85,
   "id": "43009875-82cd-4c3d-890f-fb0a5fd4a0bf",
   "metadata": {},
   "outputs": [
    {
     "data": {
      "text/plain": [
       "[(100, 0.8978417055473319),\n",
       " (200, 0.8978417055473319),\n",
       " (300, 0.8978417055473319),\n",
       " (1000, 0.8978417055473319),\n",
       " (2000, 0.8978417055473319),\n",
       " (5000, 0.8978417055473319),\n",
       " (10000, 0.8978417055473319)]"
      ]
     },
     "execution_count": 85,
     "metadata": {},
     "output_type": "execute_result"
    }
   ],
   "source": [
    "to_plot_a_d_s"
   ]
  },
  {
   "cell_type": "code",
   "execution_count": 87,
   "id": "eddedeac-9ea1-4ddd-8589-3df094debf2d",
   "metadata": {},
   "outputs": [
    {
     "data": {
      "text/plain": [
       "<Figure size 640x480 with 0 Axes>"
      ]
     },
     "metadata": {},
     "output_type": "display_data"
    },
    {
     "data": {
      "image/png": "[encoded data removed]",
      "text/plain": [
       "<Figure size 640x480 with 1 Axes>"
      ]
     },
     "metadata": {},
     "output_type": "display_data"
    }
   ],
   "source": [
    "import numpy as np\n",
    "import matplotlib.pyplot as plt\n",
    "plt.figure() \n",
    "plt.figure().clear()\n",
    "plt.rcParams.update({'font.size': 14})\n",
    "t = [i[0] for i in to_plot_shaps]\n",
    "plt.plot(t,[i[1] for i in to_plot_shaps],label='Shap')\n",
    "plt.plot(t,[i[1] for i in to_plot_a_d_s ],label='A_d_s', color=\"green\")\n",
    "plt.title(\"Ranking score - dataset size: 100\")\n",
    "plt.xlabel(\"Number of samples\")\n",
    "plt.ylabel(\"Ranking score\")\n",
    "plt.xlim(left=0)\n",
    "plt.ylim(bottom=0)\n",
    "plt.legend()\n",
    "plt.savefig(\"ranking_score_larger_dataset.png\")\n",
    "plt.show()\n"
   ]
  },
  {
   "cell_type": "code",
   "execution_count": null,
   "id": "35230bbe-7ad6-4bff-a314-69124220d99f",
   "metadata": {},
   "outputs": [],
   "source": []
  }
 ],
 "metadata": {
  "kernelspec": {
   "display_name": "Python 3 (ipykernel)",
   "language": "python",
   "name": "python3"
  },
  "language_info": {
   "codemirror_mode": {
    "name": "ipython",
    "version": 3
   },
   "file_extension": ".py",
   "mimetype": "text/x-python",
   "name": "python",
   "nbconvert_exporter": "python",
   "pygments_lexer": "ipython3",
   "version": "3.8.8"
  }
 },
 "nbformat": 4,
 "nbformat_minor": 5
}
