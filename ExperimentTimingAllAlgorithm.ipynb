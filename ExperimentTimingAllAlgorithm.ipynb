{
 "cells": [
  {
   "cell_type": "code",
   "execution_count": 4,
   "id": "2046eca9-2005-44a3-9e83-02db6de747f0",
   "metadata": {},
   "outputs": [],
   "source": [
    "def warn(*args, **kwargs):\n",
    "    pass\n",
    "import warnings\n",
    "warnings.warn = warn\n",
    "import seaborn as sns\n",
    "from ExplainableMaximumLikelihoodCalculator import ExplainableMaximumLikelihoodCalculator\n",
    "import pysam\n",
    "from Bio import SeqIO, Seq, SeqRecord, pairwise2\n",
    "from Bio.pairwise2 import format_alignment\n",
    "from LoadDataUtils import getListOfReadsFromBamFile, getListOfReadsFromFastaFile\n",
    "import matplotlib.pyplot as plt\n",
    "import numpy as np\n",
    "import pandas as pd\n",
    "import random\n",
    "import math\n",
    "import shap\n",
    "import time\n",
    "import matplotlib.pyplot as plt\n",
    "import numpy as np\n",
    "\n",
    "from scipy.stats import chisquare\n",
    "from scipy.special import rel_entr\n",
    "fileNameSapiens =  \"data/simulatedData/human_chinese_AF346973_500samples.fas\" #File that contains 500 reads from homo sapiens\n",
    "fileNameNeanderthals =  \"data/simulatedData/Neanderthal_Goyet_KX198085_500samples.fas\" #File that contains 500 reads from neanderthal\n",
    "fileNameDenisovans =  \"data/simulatedData/denisova_kx663333_500samples.fas\" #File that contains 500 reads from denisovan\n",
    "neanderthals_500_generated = getListOfReadsFromFastaFile(fileNameNeanderthals)\n",
    "sapiens_500_generated = getListOfReadsFromFastaFile(fileNameSapiens)\n",
    "denisovan_500_samples = getListOfReadsFromFastaFile(fileNameDenisovans)\n",
    "path_to_frequencies_table = \"data/substitution_matrix.tsv\""
   ]
  },
  {
   "cell_type": "code",
   "execution_count": 5,
   "id": "6c38967d-bbf8-4bf4-b2e8-453079d9b36d",
   "metadata": {},
   "outputs": [],
   "source": [
    "real_data = getListOfReadsFromFastaFile(\"data/RealData/fasta_of_merged_50_50.fas\")\n",
    "use_real_data = True"
   ]
  },
  {
   "cell_type": "code",
   "execution_count": 6,
   "id": "bb8fb0ec-5b30-4018-8e39-de9b4779a3eb",
   "metadata": {},
   "outputs": [],
   "source": [
    "sapiens_reference_file_names = [\n",
    "                    \"data/reference_files/human_AF346981_French.fa\",\n",
    "                     \"data/reference_files/human_AY195760_Korea.fa\",\n",
    "                      \"data/reference_files/human_AY882416_Ethiopia.fa\",\n",
    "                      \"data/reference_files/human_AY963586_Italian.fa\",\n",
    "                      \"data/reference_files/human_AY195781_Caucasian.fa\",\n",
    "                      \"data/reference_files/human_AY195757_Iraqi-Israeli.fa\",\n",
    "                      \"data/reference_files/human_AY195749_NativeAmerican.fa\"]\n",
    "neanderthals_reference_file_names = [\n",
    "                            \"data/reference_files/neanderthal_mezmaiskaya1_FM865411.fa\",\n",
    "                           \"data/reference_files/Neanderthal_Altai_KC879692.fa\",\n",
    "                           \"data/reference_files/Neanderthal_Denisova11_full_mtDNA_KU131206.fa\",\n",
    "                           \"data/reference_files/Neanderthal_Spy_94a_MG025538.fa\",\n",
    "                            \"data/reference_files/Neanderthal_Vindija33.16_AM948965.fa\",\n",
    "                            \"data/reference_files/Neanderthal_Vindija33.19_KJ533545.fa\"]\n",
    "denisovan_reference_file_names = [  \n",
    "                        \"data/reference_files/Denisova_MT576653.1.fa\",\n",
    "                        \"data/reference_files/Denisova_MT576652.1.fa\",\n",
    "                        \"data/reference_files/Denisova_4_FR695060.fa\",\n",
    "                        \"data/reference_files/Denisova_8_KT780370.fa\",\n",
    "                        \"data/reference_files/Denisova_manual_phalanx_NC_013993.fa\",\n",
    "                        \"data/reference_files/Denisova_MT576651.1.fa\"]"
   ]
  },
  {
   "cell_type": "markdown",
   "id": "5d947f10-2195-405f-8899-731e1b06ce20",
   "metadata": {
    "tags": []
   },
   "source": [
    "## Data experiment"
   ]
  },
  {
   "cell_type": "code",
   "execution_count": 10,
   "id": "98727f9d-230a-4d71-8851-dab6cc755256",
   "metadata": {},
   "outputs": [],
   "source": [
    "pre_processing_times = []\n",
    "maximization_times = []\n",
    "mc_times = []\n",
    "shap_times = []\n",
    "ref_calculation_times = []\n",
    "counter_factual_calc_times = []\n",
    "general_time_for_all = []\n",
    "algorithm_1_running_times = []\n",
    "dataset_sizes = [10,20,30,40,50,60,70,80,90,100]\n",
    "number_of_experiments = 1\n",
    "def generate_sample(sap, nean, den):\n",
    "    list_before =  list(np.random.choice(sapiens_500_generated, sap)) + list(np.random.choice(neanderthals_500_generated, nean)) + list(np.random.choice(denisovan_500_samples, den))\n",
    "    l = []\n",
    "    for i in list_before:\n",
    "        l.append(str(i))\n",
    "    return l\n",
    "\n",
    "def generate_sample_real_data(size):\n",
    "    list_before =  list(np.random.choice(real_data, size))\n",
    "    l = []\n",
    "    for i in list_before:\n",
    "        l.append(str(i))\n",
    "    return l"
   ]
  },
  {
   "cell_type": "code",
   "execution_count": 11,
   "id": "96943e29-740c-411c-b131-8e08adf8c3c5",
   "metadata": {},
   "outputs": [
    {
     "name": "stdout",
     "output_type": "stream",
     "text": [
      "starting experiment number:  0\n",
      "\u001b[34mLoading sequences and calculating alignments to all references, this might take a while. Number of reads: \u001b[0m 10\n",
      "start working on read number 0\n",
      "finish_1\n",
      "finish_2\n",
      "running shap with sample size: 1 with data size: 10\n",
      "1\n"
     ]
    },
    {
     "data": {
      "application/vnd.jupyter.widget-view+json": {
       "model_id": "6b95b58cb214462bbd016519342648a1",
       "version_major": 2,
       "version_minor": 0
      },
      "text/plain": [
       "  0%|          | 0/1 [00:00<?, ?it/s]"
      ]
     },
     "metadata": {},
     "output_type": "display_data"
    },
    {
     "name": "stdout",
     "output_type": "stream",
     "text": [
      "1\n",
      "1\n",
      "running shap with sample size: 5 with data size: 10\n",
      "1\n"
     ]
    },
    {
     "data": {
      "application/vnd.jupyter.widget-view+json": {
       "model_id": "74c5df38e569438eb2a0cb7aa18c0ed8",
       "version_major": 2,
       "version_minor": 0
      },
      "text/plain": [
       "  0%|          | 0/1 [00:00<?, ?it/s]"
      ]
     },
     "metadata": {},
     "output_type": "display_data"
    },
    {
     "name": "stdout",
     "output_type": "stream",
     "text": [
      "1\n",
      "5\n",
      "running shap with sample size: 10 with data size: 10\n",
      "1\n"
     ]
    },
    {
     "data": {
      "application/vnd.jupyter.widget-view+json": {
       "model_id": "bb8a5c783d0e4dd790b9ca60a8a01990",
       "version_major": 2,
       "version_minor": 0
      },
      "text/plain": [
       "  0%|          | 0/1 [00:00<?, ?it/s]"
      ]
     },
     "metadata": {},
     "output_type": "display_data"
    },
    {
     "name": "stdout",
     "output_type": "stream",
     "text": [
      "1\n",
      "10\n",
      "running shap with sample size: 20 with data size: 10\n",
      "1\n"
     ]
    },
    {
     "data": {
      "application/vnd.jupyter.widget-view+json": {
       "model_id": "5d3cbb555c964028ba6647df7244da64",
       "version_major": 2,
       "version_minor": 0
      },
      "text/plain": [
       "  0%|          | 0/1 [00:00<?, ?it/s]"
      ]
     },
     "metadata": {},
     "output_type": "display_data"
    },
    {
     "name": "stdout",
     "output_type": "stream",
     "text": [
      "1\n",
      "20\n",
      "running shap with sample size: 30 with data size: 10\n",
      "1\n"
     ]
    },
    {
     "data": {
      "application/vnd.jupyter.widget-view+json": {
       "model_id": "74084e9ded4a485c8bc49b57637deaf1",
       "version_major": 2,
       "version_minor": 0
      },
      "text/plain": [
       "  0%|          | 0/1 [00:00<?, ?it/s]"
      ]
     },
     "metadata": {},
     "output_type": "display_data"
    },
    {
     "name": "stdout",
     "output_type": "stream",
     "text": [
      "1\n",
      "30\n",
      "running shap with sample size: 50 with data size: 10\n",
      "1\n"
     ]
    },
    {
     "data": {
      "application/vnd.jupyter.widget-view+json": {
       "model_id": "98d1fd42ff5646c6b8acff4c9b7ec8e5",
       "version_major": 2,
       "version_minor": 0
      },
      "text/plain": [
       "  0%|          | 0/1 [00:00<?, ?it/s]"
      ]
     },
     "metadata": {},
     "output_type": "display_data"
    },
    {
     "name": "stdout",
     "output_type": "stream",
     "text": [
      "1\n",
      "50\n",
      "running shap with sample size: 100 with data size: 10\n",
      "1\n"
     ]
    },
    {
     "data": {
      "application/vnd.jupyter.widget-view+json": {
       "model_id": "21145a689b54408796d2c8ec1c4ac315",
       "version_major": 2,
       "version_minor": 0
      },
      "text/plain": [
       "  0%|          | 0/1 [00:00<?, ?it/s]"
      ]
     },
     "metadata": {},
     "output_type": "display_data"
    },
    {
     "name": "stdout",
     "output_type": "stream",
     "text": [
      "1\n",
      "100\n",
      "running shap with sample size: 200 with data size: 10\n",
      "1\n"
     ]
    },
    {
     "data": {
      "application/vnd.jupyter.widget-view+json": {
       "model_id": "3e6c6cb7610542d5be53975606723f93",
       "version_major": 2,
       "version_minor": 0
      },
      "text/plain": [
       "  0%|          | 0/1 [00:00<?, ?it/s]"
      ]
     },
     "metadata": {},
     "output_type": "display_data"
    },
    {
     "name": "stdout",
     "output_type": "stream",
     "text": [
      "1\n",
      "200\n",
      "running shap with sample size: 400 with data size: 10\n",
      "1\n"
     ]
    },
    {
     "data": {
      "application/vnd.jupyter.widget-view+json": {
       "model_id": "4a5be36ddf5a477984f061764933de76",
       "version_major": 2,
       "version_minor": 0
      },
      "text/plain": [
       "  0%|          | 0/1 [00:00<?, ?it/s]"
      ]
     },
     "metadata": {},
     "output_type": "display_data"
    },
    {
     "name": "stdout",
     "output_type": "stream",
     "text": [
      "1\n",
      "400\n",
      "running shap with sample size: 600 with data size: 10\n",
      "1\n"
     ]
    },
    {
     "data": {
      "application/vnd.jupyter.widget-view+json": {
       "model_id": "b9e16aff9f7949eabf386785da63fff8",
       "version_major": 2,
       "version_minor": 0
      },
      "text/plain": [
       "  0%|          | 0/1 [00:00<?, ?it/s]"
      ]
     },
     "metadata": {},
     "output_type": "display_data"
    },
    {
     "name": "stdout",
     "output_type": "stream",
     "text": [
      "1\n",
      "600\n",
      "running shap with sample size: 800 with data size: 10\n",
      "1\n"
     ]
    },
    {
     "data": {
      "application/vnd.jupyter.widget-view+json": {
       "model_id": "4452163165b0447f8a1843deedffbf72",
       "version_major": 2,
       "version_minor": 0
      },
      "text/plain": [
       "  0%|          | 0/1 [00:00<?, ?it/s]"
      ]
     },
     "metadata": {},
     "output_type": "display_data"
    },
    {
     "name": "stdout",
     "output_type": "stream",
     "text": [
      "1\n",
      "800\n",
      "running shap with sample size: 1000 with data size: 10\n",
      "1\n"
     ]
    },
    {
     "data": {
      "application/vnd.jupyter.widget-view+json": {
       "model_id": "1d3860b54cfe45298ff532b26836e8b2",
       "version_major": 2,
       "version_minor": 0
      },
      "text/plain": [
       "  0%|          | 0/1 [00:00<?, ?it/s]"
      ]
     },
     "metadata": {},
     "output_type": "display_data"
    },
    {
     "name": "stdout",
     "output_type": "stream",
     "text": [
      "1\n",
      "1000\n",
      "algorithm 1 running time: [(10, 36.979782111011446)]\n",
      "shap times: [(10, 1, 0.9583084320183843), (10, 5, 1.2341979579941835), (10, 10, 1.0939882539969403), (10, 20, 1.2254540550056845), (10, 30, 1.492087287013419), (10, 50, 1.5765212750120554), (10, 100, 2.2741091850039084), (10, 200, 4.450663307012292), (10, 400, 6.415339119994314), (10, 600, 9.82729852598277), (10, 800, 14.13862849099678), (10, 1000, 16.990117239998654)]\n",
      "mc times: []\n",
      "\u001b[34mLoading sequences and calculating alignments to all references, this might take a while. Number of reads: \u001b[0m 20\n",
      "start working on read number 0\n",
      "finish_1\n",
      "finish_2\n",
      "running shap with sample size: 1 with data size: 20\n",
      "1\n"
     ]
    },
    {
     "data": {
      "application/vnd.jupyter.widget-view+json": {
       "model_id": "876231743cf948a28068daefdd09c271",
       "version_major": 2,
       "version_minor": 0
      },
      "text/plain": [
       "  0%|          | 0/1 [00:00<?, ?it/s]"
      ]
     },
     "metadata": {},
     "output_type": "display_data"
    },
    {
     "name": "stdout",
     "output_type": "stream",
     "text": [
      "1\n",
      "1\n",
      "running shap with sample size: 5 with data size: 20\n",
      "1\n"
     ]
    },
    {
     "data": {
      "application/vnd.jupyter.widget-view+json": {
       "model_id": "e50d8724c61e468d8a74b08021b9a28e",
       "version_major": 2,
       "version_minor": 0
      },
      "text/plain": [
       "  0%|          | 0/1 [00:00<?, ?it/s]"
      ]
     },
     "metadata": {},
     "output_type": "display_data"
    },
    {
     "name": "stdout",
     "output_type": "stream",
     "text": [
      "1\n",
      "5\n",
      "running shap with sample size: 10 with data size: 20\n",
      "1\n"
     ]
    },
    {
     "data": {
      "application/vnd.jupyter.widget-view+json": {
       "model_id": "17d4a1b1450647acb10c069a1f9d3e0d",
       "version_major": 2,
       "version_minor": 0
      },
      "text/plain": [
       "  0%|          | 0/1 [00:00<?, ?it/s]"
      ]
     },
     "metadata": {},
     "output_type": "display_data"
    },
    {
     "name": "stdout",
     "output_type": "stream",
     "text": [
      "1\n",
      "10\n",
      "running shap with sample size: 20 with data size: 20\n",
      "1\n"
     ]
    },
    {
     "data": {
      "application/vnd.jupyter.widget-view+json": {
       "model_id": "2c760c395501411386342d823d1f1eb7",
       "version_major": 2,
       "version_minor": 0
      },
      "text/plain": [
       "  0%|          | 0/1 [00:00<?, ?it/s]"
      ]
     },
     "metadata": {},
     "output_type": "display_data"
    },
    {
     "name": "stdout",
     "output_type": "stream",
     "text": [
      "1\n",
      "20\n",
      "running shap with sample size: 30 with data size: 20\n",
      "1\n"
     ]
    },
    {
     "data": {
      "application/vnd.jupyter.widget-view+json": {
       "model_id": "c96ad8bd35a14ea0af2e4db132291f80",
       "version_major": 2,
       "version_minor": 0
      },
      "text/plain": [
       "  0%|          | 0/1 [00:00<?, ?it/s]"
      ]
     },
     "metadata": {},
     "output_type": "display_data"
    },
    {
     "name": "stdout",
     "output_type": "stream",
     "text": [
      "1\n",
      "30\n",
      "running shap with sample size: 50 with data size: 20\n",
      "1\n"
     ]
    },
    {
     "data": {
      "application/vnd.jupyter.widget-view+json": {
       "model_id": "8577fcdf04714b819f451688bf9f7958",
       "version_major": 2,
       "version_minor": 0
      },
      "text/plain": [
       "  0%|          | 0/1 [00:00<?, ?it/s]"
      ]
     },
     "metadata": {},
     "output_type": "display_data"
    },
    {
     "name": "stdout",
     "output_type": "stream",
     "text": [
      "1\n",
      "50\n",
      "running shap with sample size: 100 with data size: 20\n",
      "1\n"
     ]
    },
    {
     "data": {
      "application/vnd.jupyter.widget-view+json": {
       "model_id": "2aa82a971d9048d1a46a8a57f8660576",
       "version_major": 2,
       "version_minor": 0
      },
      "text/plain": [
       "  0%|          | 0/1 [00:00<?, ?it/s]"
      ]
     },
     "metadata": {},
     "output_type": "display_data"
    },
    {
     "name": "stdout",
     "output_type": "stream",
     "text": [
      "1\n",
      "100\n",
      "running shap with sample size: 200 with data size: 20\n",
      "1\n"
     ]
    },
    {
     "data": {
      "application/vnd.jupyter.widget-view+json": {
       "model_id": "c2406d0b167f45198fa529933e909fb7",
       "version_major": 2,
       "version_minor": 0
      },
      "text/plain": [
       "  0%|          | 0/1 [00:00<?, ?it/s]"
      ]
     },
     "metadata": {},
     "output_type": "display_data"
    },
    {
     "name": "stdout",
     "output_type": "stream",
     "text": [
      "1\n",
      "200\n",
      "running shap with sample size: 400 with data size: 20\n",
      "1\n"
     ]
    },
    {
     "data": {
      "application/vnd.jupyter.widget-view+json": {
       "model_id": "63ee0134e72a4941ba36bc2bf9cccf2b",
       "version_major": 2,
       "version_minor": 0
      },
      "text/plain": [
       "  0%|          | 0/1 [00:00<?, ?it/s]"
      ]
     },
     "metadata": {},
     "output_type": "display_data"
    },
    {
     "name": "stdout",
     "output_type": "stream",
     "text": [
      "1\n",
      "400\n",
      "running shap with sample size: 600 with data size: 20\n",
      "1\n"
     ]
    },
    {
     "data": {
      "application/vnd.jupyter.widget-view+json": {
       "model_id": "d2fc055268e64c3db4532a439141f7cf",
       "version_major": 2,
       "version_minor": 0
      },
      "text/plain": [
       "  0%|          | 0/1 [00:00<?, ?it/s]"
      ]
     },
     "metadata": {},
     "output_type": "display_data"
    },
    {
     "name": "stdout",
     "output_type": "stream",
     "text": [
      "1\n",
      "600\n",
      "running shap with sample size: 800 with data size: 20\n",
      "1\n"
     ]
    },
    {
     "data": {
      "application/vnd.jupyter.widget-view+json": {
       "model_id": "5a33624538d14eefa6909f6a86f860f3",
       "version_major": 2,
       "version_minor": 0
      },
      "text/plain": [
       "  0%|          | 0/1 [00:00<?, ?it/s]"
      ]
     },
     "metadata": {},
     "output_type": "display_data"
    },
    {
     "name": "stdout",
     "output_type": "stream",
     "text": [
      "1\n",
      "800\n",
      "running shap with sample size: 1000 with data size: 20\n",
      "1\n"
     ]
    },
    {
     "data": {
      "application/vnd.jupyter.widget-view+json": {
       "model_id": "9b3854aa52274c1d937da4c87e0277d9",
       "version_major": 2,
       "version_minor": 0
      },
      "text/plain": [
       "  0%|          | 0/1 [00:00<?, ?it/s]"
      ]
     },
     "metadata": {},
     "output_type": "display_data"
    },
    {
     "name": "stdout",
     "output_type": "stream",
     "text": [
      "1\n",
      "1000\n",
      "algorithm 1 running time: [(10, 36.979782111011446), (20, 49.89881650501047)]\n",
      "shap times: [(10, 1, 0.9583084320183843), (10, 5, 1.2341979579941835), (10, 10, 1.0939882539969403), (10, 20, 1.2254540550056845), (10, 30, 1.492087287013419), (10, 50, 1.5765212750120554), (10, 100, 2.2741091850039084), (10, 200, 4.450663307012292), (10, 400, 6.415339119994314), (10, 600, 9.82729852598277), (10, 800, 14.13862849099678), (10, 1000, 16.990117239998654), (20, 1, 1.096559122990584), (20, 5, 1.2230667539988644), (20, 10, 1.2745034309918992), (20, 20, 1.58105860100477), (20, 30, 1.933937813009834), (20, 50, 2.233374816016294), (20, 100, 3.8361531700065825), (20, 200, 6.116974606993608), (20, 400, 11.814977917005308), (20, 600, 19.159665464016143), (20, 800, 26.737085915985517), (20, 1000, 31.334491460991558)]\n",
      "mc times: []\n",
      "\u001b[34mLoading sequences and calculating alignments to all references, this might take a while. Number of reads: \u001b[0m 30\n",
      "start working on read number 0\n",
      "finish_1\n",
      "finish_2\n",
      "running shap with sample size: 1 with data size: 30\n",
      "1\n"
     ]
    },
    {
     "data": {
      "application/vnd.jupyter.widget-view+json": {
       "model_id": "c2942ed1623140f485e3de218037a3de",
       "version_major": 2,
       "version_minor": 0
      },
      "text/plain": [
       "  0%|          | 0/1 [00:00<?, ?it/s]"
      ]
     },
     "metadata": {},
     "output_type": "display_data"
    },
    {
     "name": "stdout",
     "output_type": "stream",
     "text": [
      "1\n",
      "1\n",
      "running shap with sample size: 5 with data size: 30\n",
      "1\n"
     ]
    },
    {
     "data": {
      "application/vnd.jupyter.widget-view+json": {
       "model_id": "01400a3eff104e66939c98f781c8e095",
       "version_major": 2,
       "version_minor": 0
      },
      "text/plain": [
       "  0%|          | 0/1 [00:00<?, ?it/s]"
      ]
     },
     "metadata": {},
     "output_type": "display_data"
    },
    {
     "name": "stdout",
     "output_type": "stream",
     "text": [
      "1\n",
      "5\n",
      "running shap with sample size: 10 with data size: 30\n",
      "1\n"
     ]
    },
    {
     "data": {
      "application/vnd.jupyter.widget-view+json": {
       "model_id": "e8270e3366de4dbaa28d0a892ab3a95d",
       "version_major": 2,
       "version_minor": 0
      },
      "text/plain": [
       "  0%|          | 0/1 [00:00<?, ?it/s]"
      ]
     },
     "metadata": {},
     "output_type": "display_data"
    },
    {
     "name": "stdout",
     "output_type": "stream",
     "text": [
      "1\n",
      "10\n",
      "running shap with sample size: 20 with data size: 30\n",
      "1\n"
     ]
    },
    {
     "data": {
      "application/vnd.jupyter.widget-view+json": {
       "model_id": "03521e6841d241debc229d8e39c24a37",
       "version_major": 2,
       "version_minor": 0
      },
      "text/plain": [
       "  0%|          | 0/1 [00:00<?, ?it/s]"
      ]
     },
     "metadata": {},
     "output_type": "display_data"
    },
    {
     "name": "stdout",
     "output_type": "stream",
     "text": [
      "1\n",
      "20\n",
      "running shap with sample size: 30 with data size: 30\n",
      "1\n"
     ]
    },
    {
     "data": {
      "application/vnd.jupyter.widget-view+json": {
       "model_id": "2b57bd936ead4e69ac4ae32e1e31b2a2",
       "version_major": 2,
       "version_minor": 0
      },
      "text/plain": [
       "  0%|          | 0/1 [00:00<?, ?it/s]"
      ]
     },
     "metadata": {},
     "output_type": "display_data"
    },
    {
     "name": "stdout",
     "output_type": "stream",
     "text": [
      "1\n",
      "30\n",
      "running shap with sample size: 50 with data size: 30\n",
      "1\n"
     ]
    },
    {
     "data": {
      "application/vnd.jupyter.widget-view+json": {
       "model_id": "d99d598f1d5143e1b9b4d1446f9da12a",
       "version_major": 2,
       "version_minor": 0
      },
      "text/plain": [
       "  0%|          | 0/1 [00:00<?, ?it/s]"
      ]
     },
     "metadata": {},
     "output_type": "display_data"
    },
    {
     "name": "stdout",
     "output_type": "stream",
     "text": [
      "1\n",
      "50\n",
      "running shap with sample size: 100 with data size: 30\n",
      "1\n"
     ]
    },
    {
     "data": {
      "application/vnd.jupyter.widget-view+json": {
       "model_id": "2d4865e7096949c886191f417db4b3b6",
       "version_major": 2,
       "version_minor": 0
      },
      "text/plain": [
       "  0%|          | 0/1 [00:00<?, ?it/s]"
      ]
     },
     "metadata": {},
     "output_type": "display_data"
    },
    {
     "name": "stdout",
     "output_type": "stream",
     "text": [
      "1\n",
      "100\n",
      "running shap with sample size: 200 with data size: 30\n",
      "1\n"
     ]
    },
    {
     "data": {
      "application/vnd.jupyter.widget-view+json": {
       "model_id": "d77fc8396a024a13be60e2927c24a83b",
       "version_major": 2,
       "version_minor": 0
      },
      "text/plain": [
       "  0%|          | 0/1 [00:00<?, ?it/s]"
      ]
     },
     "metadata": {},
     "output_type": "display_data"
    },
    {
     "name": "stdout",
     "output_type": "stream",
     "text": [
      "1\n",
      "200\n",
      "running shap with sample size: 400 with data size: 30\n",
      "1\n"
     ]
    },
    {
     "data": {
      "application/vnd.jupyter.widget-view+json": {
       "model_id": "2723abf9862c40b893b8bedce4ff4a15",
       "version_major": 2,
       "version_minor": 0
      },
      "text/plain": [
       "  0%|          | 0/1 [00:00<?, ?it/s]"
      ]
     },
     "metadata": {},
     "output_type": "display_data"
    },
    {
     "name": "stdout",
     "output_type": "stream",
     "text": [
      "1\n",
      "400\n",
      "running shap with sample size: 600 with data size: 30\n",
      "1\n"
     ]
    },
    {
     "data": {
      "application/vnd.jupyter.widget-view+json": {
       "model_id": "fa971e125aaf477c87fbba970489b43a",
       "version_major": 2,
       "version_minor": 0
      },
      "text/plain": [
       "  0%|          | 0/1 [00:00<?, ?it/s]"
      ]
     },
     "metadata": {},
     "output_type": "display_data"
    },
    {
     "name": "stdout",
     "output_type": "stream",
     "text": [
      "1\n",
      "600\n",
      "running shap with sample size: 800 with data size: 30\n",
      "1\n"
     ]
    },
    {
     "data": {
      "application/vnd.jupyter.widget-view+json": {
       "model_id": "2fdd7a311c6e41af801cea69ce8f752b",
       "version_major": 2,
       "version_minor": 0
      },
      "text/plain": [
       "  0%|          | 0/1 [00:00<?, ?it/s]"
      ]
     },
     "metadata": {},
     "output_type": "display_data"
    },
    {
     "name": "stdout",
     "output_type": "stream",
     "text": [
      "1\n",
      "800\n",
      "running shap with sample size: 1000 with data size: 30\n",
      "1\n"
     ]
    },
    {
     "data": {
      "application/vnd.jupyter.widget-view+json": {
       "model_id": "9b798efb738c461c9c356d460e37f9f7",
       "version_major": 2,
       "version_minor": 0
      },
      "text/plain": [
       "  0%|          | 0/1 [00:00<?, ?it/s]"
      ]
     },
     "metadata": {},
     "output_type": "display_data"
    },
    {
     "name": "stdout",
     "output_type": "stream",
     "text": [
      "1\n",
      "1000\n",
      "algorithm 1 running time: [(10, 36.979782111011446), (20, 49.89881650501047), (30, 109.55784690199653)]\n",
      "shap times: [(10, 1, 0.9583084320183843), (10, 5, 1.2341979579941835), (10, 10, 1.0939882539969403), (10, 20, 1.2254540550056845), (10, 30, 1.492087287013419), (10, 50, 1.5765212750120554), (10, 100, 2.2741091850039084), (10, 200, 4.450663307012292), (10, 400, 6.415339119994314), (10, 600, 9.82729852598277), (10, 800, 14.13862849099678), (10, 1000, 16.990117239998654), (20, 1, 1.096559122990584), (20, 5, 1.2230667539988644), (20, 10, 1.2745034309918992), (20, 20, 1.58105860100477), (20, 30, 1.933937813009834), (20, 50, 2.233374816016294), (20, 100, 3.8361531700065825), (20, 200, 6.116974606993608), (20, 400, 11.814977917005308), (20, 600, 19.159665464016143), (20, 800, 26.737085915985517), (20, 1000, 31.334491460991558), (30, 1, 1.217628654994769), (30, 5, 1.4383228489896283), (30, 10, 2.5108562560053542), (30, 20, 1.9399308050051332), (30, 30, 2.2973916949995328), (30, 50, 3.263040379009908), (30, 100, 5.272530871006893), (30, 200, 8.577085408993298), (30, 400, 15.947731892985757), (30, 600, 25.811623480985872), (30, 800, 35.91617601699545), (30, 1000, 40.4363517750171)]\n",
      "mc times: []\n",
      "\u001b[34mLoading sequences and calculating alignments to all references, this might take a while. Number of reads: \u001b[0m 40\n",
      "start working on read number 0\n",
      "finish_1\n",
      "finish_2\n",
      "running shap with sample size: 1 with data size: 40\n",
      "1\n"
     ]
    },
    {
     "data": {
      "application/vnd.jupyter.widget-view+json": {
       "model_id": "6246706bb6594a96bcd6140be53400c2",
       "version_major": 2,
       "version_minor": 0
      },
      "text/plain": [
       "  0%|          | 0/1 [00:00<?, ?it/s]"
      ]
     },
     "metadata": {},
     "output_type": "display_data"
    },
    {
     "name": "stdout",
     "output_type": "stream",
     "text": [
      "1\n",
      "1\n",
      "running shap with sample size: 5 with data size: 40\n",
      "1\n"
     ]
    },
    {
     "data": {
      "application/vnd.jupyter.widget-view+json": {
       "model_id": "b131c2fb1b1c46eea2cd1b67bfbd7378",
       "version_major": 2,
       "version_minor": 0
      },
      "text/plain": [
       "  0%|          | 0/1 [00:00<?, ?it/s]"
      ]
     },
     "metadata": {},
     "output_type": "display_data"
    },
    {
     "name": "stdout",
     "output_type": "stream",
     "text": [
      "1\n",
      "5\n",
      "running shap with sample size: 10 with data size: 40\n",
      "1\n"
     ]
    },
    {
     "data": {
      "application/vnd.jupyter.widget-view+json": {
       "model_id": "4913b16ccd344eacbad0e57e99414923",
       "version_major": 2,
       "version_minor": 0
      },
      "text/plain": [
       "  0%|          | 0/1 [00:00<?, ?it/s]"
      ]
     },
     "metadata": {},
     "output_type": "display_data"
    },
    {
     "name": "stdout",
     "output_type": "stream",
     "text": [
      "1\n",
      "10\n",
      "running shap with sample size: 20 with data size: 40\n",
      "1\n"
     ]
    },
    {
     "data": {
      "application/vnd.jupyter.widget-view+json": {
       "model_id": "7ecea468065343259cbdbd86590c43c7",
       "version_major": 2,
       "version_minor": 0
      },
      "text/plain": [
       "  0%|          | 0/1 [00:00<?, ?it/s]"
      ]
     },
     "metadata": {},
     "output_type": "display_data"
    },
    {
     "name": "stdout",
     "output_type": "stream",
     "text": [
      "1\n",
      "20\n",
      "running shap with sample size: 30 with data size: 40\n",
      "1\n"
     ]
    },
    {
     "data": {
      "application/vnd.jupyter.widget-view+json": {
       "model_id": "7583316c070644e48bfc266d932df8a4",
       "version_major": 2,
       "version_minor": 0
      },
      "text/plain": [
       "  0%|          | 0/1 [00:00<?, ?it/s]"
      ]
     },
     "metadata": {},
     "output_type": "display_data"
    },
    {
     "name": "stdout",
     "output_type": "stream",
     "text": [
      "1\n",
      "30\n",
      "running shap with sample size: 50 with data size: 40\n",
      "1\n"
     ]
    },
    {
     "data": {
      "application/vnd.jupyter.widget-view+json": {
       "model_id": "804f685a9c71484d839441b43be7137c",
       "version_major": 2,
       "version_minor": 0
      },
      "text/plain": [
       "  0%|          | 0/1 [00:00<?, ?it/s]"
      ]
     },
     "metadata": {},
     "output_type": "display_data"
    },
    {
     "name": "stdout",
     "output_type": "stream",
     "text": [
      "1\n",
      "50\n",
      "running shap with sample size: 100 with data size: 40\n",
      "1\n"
     ]
    },
    {
     "data": {
      "application/vnd.jupyter.widget-view+json": {
       "model_id": "d36a56b8198e4d23a62723c7d2c8542e",
       "version_major": 2,
       "version_minor": 0
      },
      "text/plain": [
       "  0%|          | 0/1 [00:00<?, ?it/s]"
      ]
     },
     "metadata": {},
     "output_type": "display_data"
    },
    {
     "name": "stdout",
     "output_type": "stream",
     "text": [
      "1\n",
      "100\n",
      "running shap with sample size: 200 with data size: 40\n",
      "1\n"
     ]
    },
    {
     "data": {
      "application/vnd.jupyter.widget-view+json": {
       "model_id": "4666200065b04e5d8245b7aff7ec56fb",
       "version_major": 2,
       "version_minor": 0
      },
      "text/plain": [
       "  0%|          | 0/1 [00:00<?, ?it/s]"
      ]
     },
     "metadata": {},
     "output_type": "display_data"
    },
    {
     "name": "stdout",
     "output_type": "stream",
     "text": [
      "1\n",
      "200\n",
      "running shap with sample size: 400 with data size: 40\n",
      "1\n"
     ]
    },
    {
     "data": {
      "application/vnd.jupyter.widget-view+json": {
       "model_id": "10a2bfed2430425092a844a811059424",
       "version_major": 2,
       "version_minor": 0
      },
      "text/plain": [
       "  0%|          | 0/1 [00:00<?, ?it/s]"
      ]
     },
     "metadata": {},
     "output_type": "display_data"
    },
    {
     "name": "stdout",
     "output_type": "stream",
     "text": [
      "1\n",
      "400\n",
      "running shap with sample size: 600 with data size: 40\n",
      "1\n"
     ]
    },
    {
     "data": {
      "application/vnd.jupyter.widget-view+json": {
       "model_id": "41c8e9a543e7459d8fd9c58544d9a340",
       "version_major": 2,
       "version_minor": 0
      },
      "text/plain": [
       "  0%|          | 0/1 [00:00<?, ?it/s]"
      ]
     },
     "metadata": {},
     "output_type": "display_data"
    },
    {
     "name": "stdout",
     "output_type": "stream",
     "text": [
      "1\n",
      "600\n",
      "running shap with sample size: 800 with data size: 40\n",
      "1\n"
     ]
    },
    {
     "data": {
      "application/vnd.jupyter.widget-view+json": {
       "model_id": "cc1c82f357df435b8e4cb20e8101045a",
       "version_major": 2,
       "version_minor": 0
      },
      "text/plain": [
       "  0%|          | 0/1 [00:00<?, ?it/s]"
      ]
     },
     "metadata": {},
     "output_type": "display_data"
    },
    {
     "name": "stdout",
     "output_type": "stream",
     "text": [
      "1\n",
      "800\n",
      "running shap with sample size: 1000 with data size: 40\n",
      "1\n"
     ]
    },
    {
     "data": {
      "application/vnd.jupyter.widget-view+json": {
       "model_id": "9170e4d09d084cb5970bbbf295e34a3b",
       "version_major": 2,
       "version_minor": 0
      },
      "text/plain": [
       "  0%|          | 0/1 [00:00<?, ?it/s]"
      ]
     },
     "metadata": {},
     "output_type": "display_data"
    },
    {
     "name": "stdout",
     "output_type": "stream",
     "text": [
      "1\n",
      "1000\n",
      "algorithm 1 running time: [(10, 36.979782111011446), (20, 49.89881650501047), (30, 109.55784690199653), (40, 121.88443845001166)]\n",
      "shap times: [(10, 1, 0.9583084320183843), (10, 5, 1.2341979579941835), (10, 10, 1.0939882539969403), (10, 20, 1.2254540550056845), (10, 30, 1.492087287013419), (10, 50, 1.5765212750120554), (10, 100, 2.2741091850039084), (10, 200, 4.450663307012292), (10, 400, 6.415339119994314), (10, 600, 9.82729852598277), (10, 800, 14.13862849099678), (10, 1000, 16.990117239998654), (20, 1, 1.096559122990584), (20, 5, 1.2230667539988644), (20, 10, 1.2745034309918992), (20, 20, 1.58105860100477), (20, 30, 1.933937813009834), (20, 50, 2.233374816016294), (20, 100, 3.8361531700065825), (20, 200, 6.116974606993608), (20, 400, 11.814977917005308), (20, 600, 19.159665464016143), (20, 800, 26.737085915985517), (20, 1000, 31.334491460991558), (30, 1, 1.217628654994769), (30, 5, 1.4383228489896283), (30, 10, 2.5108562560053542), (30, 20, 1.9399308050051332), (30, 30, 2.2973916949995328), (30, 50, 3.263040379009908), (30, 100, 5.272530871006893), (30, 200, 8.577085408993298), (30, 400, 15.947731892985757), (30, 600, 25.811623480985872), (30, 800, 35.91617601699545), (30, 1000, 40.4363517750171), (40, 1, 1.147003312013112), (40, 5, 1.2852421829884406), (40, 10, 1.7898178680043202), (40, 20, 2.667178089002846), (40, 30, 2.783080041001085), (40, 50, 3.26439852497424), (40, 100, 5.8982853179913945), (40, 200, 9.720270385994809), (40, 400, 22.960323416016763), (40, 600, 31.750840087013785), (40, 800, 40.14104331898852), (40, 1000, 45.92850655500661)]\n",
      "mc times: []\n",
      "\u001b[34mLoading sequences and calculating alignments to all references, this might take a while. Number of reads: \u001b[0m 50\n",
      "start working on read number 0\n",
      "start working on read number 40\n",
      "finish_1\n",
      "finish_2\n",
      "running shap with sample size: 1 with data size: 50\n",
      "1\n"
     ]
    },
    {
     "data": {
      "application/vnd.jupyter.widget-view+json": {
       "model_id": "d3fcd17466d84dca9b2b234435ae77f6",
       "version_major": 2,
       "version_minor": 0
      },
      "text/plain": [
       "  0%|          | 0/1 [00:00<?, ?it/s]"
      ]
     },
     "metadata": {},
     "output_type": "display_data"
    },
    {
     "name": "stdout",
     "output_type": "stream",
     "text": [
      "1\n",
      "1\n",
      "running shap with sample size: 5 with data size: 50\n",
      "1\n"
     ]
    },
    {
     "data": {
      "application/vnd.jupyter.widget-view+json": {
       "model_id": "f43954996d794566bc280b2858e08a4d",
       "version_major": 2,
       "version_minor": 0
      },
      "text/plain": [
       "  0%|          | 0/1 [00:00<?, ?it/s]"
      ]
     },
     "metadata": {},
     "output_type": "display_data"
    },
    {
     "name": "stdout",
     "output_type": "stream",
     "text": [
      "1\n",
      "5\n",
      "running shap with sample size: 10 with data size: 50\n",
      "1\n"
     ]
    },
    {
     "data": {
      "application/vnd.jupyter.widget-view+json": {
       "model_id": "4695f236d0044b25a0e6c71f2564edfd",
       "version_major": 2,
       "version_minor": 0
      },
      "text/plain": [
       "  0%|          | 0/1 [00:00<?, ?it/s]"
      ]
     },
     "metadata": {},
     "output_type": "display_data"
    },
    {
     "name": "stdout",
     "output_type": "stream",
     "text": [
      "1\n",
      "10\n",
      "running shap with sample size: 20 with data size: 50\n",
      "1\n"
     ]
    },
    {
     "data": {
      "application/vnd.jupyter.widget-view+json": {
       "model_id": "f4de28e87cc3459ca07aa42e100ebbd4",
       "version_major": 2,
       "version_minor": 0
      },
      "text/plain": [
       "  0%|          | 0/1 [00:00<?, ?it/s]"
      ]
     },
     "metadata": {},
     "output_type": "display_data"
    },
    {
     "name": "stdout",
     "output_type": "stream",
     "text": [
      "1\n",
      "20\n",
      "running shap with sample size: 30 with data size: 50\n",
      "1\n"
     ]
    },
    {
     "data": {
      "application/vnd.jupyter.widget-view+json": {
       "model_id": "79d66e9e0b854add819e2c28602ea473",
       "version_major": 2,
       "version_minor": 0
      },
      "text/plain": [
       "  0%|          | 0/1 [00:00<?, ?it/s]"
      ]
     },
     "metadata": {},
     "output_type": "display_data"
    },
    {
     "name": "stdout",
     "output_type": "stream",
     "text": [
      "1\n",
      "30\n",
      "running shap with sample size: 50 with data size: 50\n",
      "1\n"
     ]
    },
    {
     "data": {
      "application/vnd.jupyter.widget-view+json": {
       "model_id": "d8de953d8d4c4ec7a1fb7aca3c4f0a66",
       "version_major": 2,
       "version_minor": 0
      },
      "text/plain": [
       "  0%|          | 0/1 [00:00<?, ?it/s]"
      ]
     },
     "metadata": {},
     "output_type": "display_data"
    },
    {
     "name": "stdout",
     "output_type": "stream",
     "text": [
      "1\n",
      "50\n",
      "running shap with sample size: 100 with data size: 50\n",
      "1\n"
     ]
    },
    {
     "data": {
      "application/vnd.jupyter.widget-view+json": {
       "model_id": "d2717d418c9447adbe9a0b1ab1d3ed4c",
       "version_major": 2,
       "version_minor": 0
      },
      "text/plain": [
       "  0%|          | 0/1 [00:00<?, ?it/s]"
      ]
     },
     "metadata": {},
     "output_type": "display_data"
    },
    {
     "name": "stdout",
     "output_type": "stream",
     "text": [
      "1\n",
      "100\n",
      "running shap with sample size: 200 with data size: 50\n",
      "1\n"
     ]
    },
    {
     "data": {
      "application/vnd.jupyter.widget-view+json": {
       "model_id": "bd53100af775485388a33d445f9b3dd5",
       "version_major": 2,
       "version_minor": 0
      },
      "text/plain": [
       "  0%|          | 0/1 [00:00<?, ?it/s]"
      ]
     },
     "metadata": {},
     "output_type": "display_data"
    },
    {
     "name": "stdout",
     "output_type": "stream",
     "text": [
      "1\n",
      "200\n",
      "running shap with sample size: 400 with data size: 50\n",
      "1\n"
     ]
    },
    {
     "data": {
      "application/vnd.jupyter.widget-view+json": {
       "model_id": "493c8283002e4097a7c36e3c680457a1",
       "version_major": 2,
       "version_minor": 0
      },
      "text/plain": [
       "  0%|          | 0/1 [00:00<?, ?it/s]"
      ]
     },
     "metadata": {},
     "output_type": "display_data"
    },
    {
     "name": "stdout",
     "output_type": "stream",
     "text": [
      "1\n",
      "400\n",
      "running shap with sample size: 600 with data size: 50\n",
      "1\n"
     ]
    },
    {
     "data": {
      "application/vnd.jupyter.widget-view+json": {
       "model_id": "8d20ef83245142bf84166d47e1e7fcc3",
       "version_major": 2,
       "version_minor": 0
      },
      "text/plain": [
       "  0%|          | 0/1 [00:00<?, ?it/s]"
      ]
     },
     "metadata": {},
     "output_type": "display_data"
    },
    {
     "name": "stdout",
     "output_type": "stream",
     "text": [
      "1\n",
      "600\n",
      "running shap with sample size: 800 with data size: 50\n",
      "1\n"
     ]
    },
    {
     "data": {
      "application/vnd.jupyter.widget-view+json": {
       "model_id": "50f7e367e1c747d5a5b8ab655cd445a8",
       "version_major": 2,
       "version_minor": 0
      },
      "text/plain": [
       "  0%|          | 0/1 [00:00<?, ?it/s]"
      ]
     },
     "metadata": {},
     "output_type": "display_data"
    },
    {
     "name": "stdout",
     "output_type": "stream",
     "text": [
      "1\n",
      "800\n",
      "running shap with sample size: 1000 with data size: 50\n",
      "1\n"
     ]
    },
    {
     "data": {
      "application/vnd.jupyter.widget-view+json": {
       "model_id": "bffdd015326248209802e76531d6f252",
       "version_major": 2,
       "version_minor": 0
      },
      "text/plain": [
       "  0%|          | 0/1 [00:00<?, ?it/s]"
      ]
     },
     "metadata": {},
     "output_type": "display_data"
    },
    {
     "name": "stdout",
     "output_type": "stream",
     "text": [
      "1\n",
      "1000\n",
      "algorithm 1 running time: [(10, 36.979782111011446), (20, 49.89881650501047), (30, 109.55784690199653), (40, 121.88443845001166), (50, 107.08572422800353)]\n",
      "shap times: [(10, 1, 0.9583084320183843), (10, 5, 1.2341979579941835), (10, 10, 1.0939882539969403), (10, 20, 1.2254540550056845), (10, 30, 1.492087287013419), (10, 50, 1.5765212750120554), (10, 100, 2.2741091850039084), (10, 200, 4.450663307012292), (10, 400, 6.415339119994314), (10, 600, 9.82729852598277), (10, 800, 14.13862849099678), (10, 1000, 16.990117239998654), (20, 1, 1.096559122990584), (20, 5, 1.2230667539988644), (20, 10, 1.2745034309918992), (20, 20, 1.58105860100477), (20, 30, 1.933937813009834), (20, 50, 2.233374816016294), (20, 100, 3.8361531700065825), (20, 200, 6.116974606993608), (20, 400, 11.814977917005308), (20, 600, 19.159665464016143), (20, 800, 26.737085915985517), (20, 1000, 31.334491460991558), (30, 1, 1.217628654994769), (30, 5, 1.4383228489896283), (30, 10, 2.5108562560053542), (30, 20, 1.9399308050051332), (30, 30, 2.2973916949995328), (30, 50, 3.263040379009908), (30, 100, 5.272530871006893), (30, 200, 8.577085408993298), (30, 400, 15.947731892985757), (30, 600, 25.811623480985872), (30, 800, 35.91617601699545), (30, 1000, 40.4363517750171), (40, 1, 1.147003312013112), (40, 5, 1.2852421829884406), (40, 10, 1.7898178680043202), (40, 20, 2.667178089002846), (40, 30, 2.783080041001085), (40, 50, 3.26439852497424), (40, 100, 5.8982853179913945), (40, 200, 9.720270385994809), (40, 400, 22.960323416016763), (40, 600, 31.750840087013785), (40, 800, 40.14104331898852), (40, 1000, 45.92850655500661), (50, 1, 1.4312578800017945), (50, 5, 1.8645689980185125), (50, 10, 2.5419416559743695), (50, 20, 3.1485247800010256), (50, 30, 3.1727332760056015), (50, 50, 4.1253797950048465), (50, 100, 6.80754426799831), (50, 200, 12.336662316985894), (50, 400, 20.835201252019033), (50, 600, 29.714895654004067), (50, 800, 40.61047645000508), (50, 1000, 54.317526972008636)]\n",
      "mc times: []\n",
      "\u001b[34mLoading sequences and calculating alignments to all references, this might take a while. Number of reads: \u001b[0m 60\n",
      "start working on read number 0\n",
      "start working on read number 40\n",
      "finish_1\n",
      "finish_2\n",
      "running shap with sample size: 1 with data size: 60\n",
      "1\n"
     ]
    },
    {
     "data": {
      "application/vnd.jupyter.widget-view+json": {
       "model_id": "d71f4b65cf86489388560219ea8b823e",
       "version_major": 2,
       "version_minor": 0
      },
      "text/plain": [
       "  0%|          | 0/1 [00:00<?, ?it/s]"
      ]
     },
     "metadata": {},
     "output_type": "display_data"
    },
    {
     "name": "stdout",
     "output_type": "stream",
     "text": [
      "1\n",
      "1\n",
      "running shap with sample size: 5 with data size: 60\n",
      "1\n"
     ]
    },
    {
     "data": {
      "application/vnd.jupyter.widget-view+json": {
       "model_id": "ce7aca76c264426aa9cc6d6ee5fb3088",
       "version_major": 2,
       "version_minor": 0
      },
      "text/plain": [
       "  0%|          | 0/1 [00:00<?, ?it/s]"
      ]
     },
     "metadata": {},
     "output_type": "display_data"
    },
    {
     "name": "stdout",
     "output_type": "stream",
     "text": [
      "1\n",
      "5\n",
      "running shap with sample size: 10 with data size: 60\n",
      "1\n"
     ]
    },
    {
     "data": {
      "application/vnd.jupyter.widget-view+json": {
       "model_id": "2c09dc3210174e9396e54be1a755357a",
       "version_major": 2,
       "version_minor": 0
      },
      "text/plain": [
       "  0%|          | 0/1 [00:00<?, ?it/s]"
      ]
     },
     "metadata": {},
     "output_type": "display_data"
    },
    {
     "name": "stdout",
     "output_type": "stream",
     "text": [
      "1\n",
      "10\n",
      "running shap with sample size: 20 with data size: 60\n",
      "1\n"
     ]
    },
    {
     "data": {
      "application/vnd.jupyter.widget-view+json": {
       "model_id": "870607ca289d4782a4ec5e24104fb5d4",
       "version_major": 2,
       "version_minor": 0
      },
      "text/plain": [
       "  0%|          | 0/1 [00:00<?, ?it/s]"
      ]
     },
     "metadata": {},
     "output_type": "display_data"
    },
    {
     "name": "stdout",
     "output_type": "stream",
     "text": [
      "1\n",
      "20\n",
      "running shap with sample size: 30 with data size: 60\n",
      "1\n"
     ]
    },
    {
     "data": {
      "application/vnd.jupyter.widget-view+json": {
       "model_id": "f6cb996dbd8b46cfa291f519a670d3ee",
       "version_major": 2,
       "version_minor": 0
      },
      "text/plain": [
       "  0%|          | 0/1 [00:00<?, ?it/s]"
      ]
     },
     "metadata": {},
     "output_type": "display_data"
    },
    {
     "name": "stdout",
     "output_type": "stream",
     "text": [
      "1\n",
      "30\n",
      "running shap with sample size: 50 with data size: 60\n",
      "1\n"
     ]
    },
    {
     "data": {
      "application/vnd.jupyter.widget-view+json": {
       "model_id": "3dd7dea666334eed9321f07189b74ba9",
       "version_major": 2,
       "version_minor": 0
      },
      "text/plain": [
       "  0%|          | 0/1 [00:00<?, ?it/s]"
      ]
     },
     "metadata": {},
     "output_type": "display_data"
    },
    {
     "name": "stdout",
     "output_type": "stream",
     "text": [
      "1\n",
      "50\n",
      "running shap with sample size: 100 with data size: 60\n",
      "1\n"
     ]
    },
    {
     "data": {
      "application/vnd.jupyter.widget-view+json": {
       "model_id": "6111fb2cd8324b2eba495c954bffc8f1",
       "version_major": 2,
       "version_minor": 0
      },
      "text/plain": [
       "  0%|          | 0/1 [00:00<?, ?it/s]"
      ]
     },
     "metadata": {},
     "output_type": "display_data"
    },
    {
     "name": "stdout",
     "output_type": "stream",
     "text": [
      "1\n",
      "100\n",
      "running shap with sample size: 200 with data size: 60\n",
      "1\n"
     ]
    },
    {
     "data": {
      "application/vnd.jupyter.widget-view+json": {
       "model_id": "03849c85676b4a159116a5e5592bce83",
       "version_major": 2,
       "version_minor": 0
      },
      "text/plain": [
       "  0%|          | 0/1 [00:00<?, ?it/s]"
      ]
     },
     "metadata": {},
     "output_type": "display_data"
    },
    {
     "name": "stdout",
     "output_type": "stream",
     "text": [
      "1\n",
      "200\n",
      "running shap with sample size: 400 with data size: 60\n",
      "1\n"
     ]
    },
    {
     "data": {
      "application/vnd.jupyter.widget-view+json": {
       "model_id": "6e67d33876a444b5aeb6340c0d4e247e",
       "version_major": 2,
       "version_minor": 0
      },
      "text/plain": [
       "  0%|          | 0/1 [00:00<?, ?it/s]"
      ]
     },
     "metadata": {},
     "output_type": "display_data"
    },
    {
     "name": "stdout",
     "output_type": "stream",
     "text": [
      "1\n",
      "400\n",
      "running shap with sample size: 600 with data size: 60\n",
      "1\n"
     ]
    },
    {
     "data": {
      "application/vnd.jupyter.widget-view+json": {
       "model_id": "fc7412c0843e42d7abc5cb904f3ab829",
       "version_major": 2,
       "version_minor": 0
      },
      "text/plain": [
       "  0%|          | 0/1 [00:00<?, ?it/s]"
      ]
     },
     "metadata": {},
     "output_type": "display_data"
    },
    {
     "name": "stdout",
     "output_type": "stream",
     "text": [
      "1\n",
      "600\n",
      "running shap with sample size: 800 with data size: 60\n",
      "1\n"
     ]
    },
    {
     "data": {
      "application/vnd.jupyter.widget-view+json": {
       "model_id": "2d4d849af52f4d6e81f8507cd7255887",
       "version_major": 2,
       "version_minor": 0
      },
      "text/plain": [
       "  0%|          | 0/1 [00:00<?, ?it/s]"
      ]
     },
     "metadata": {},
     "output_type": "display_data"
    },
    {
     "name": "stdout",
     "output_type": "stream",
     "text": [
      "1\n",
      "800\n",
      "running shap with sample size: 1000 with data size: 60\n",
      "1\n"
     ]
    },
    {
     "data": {
      "application/vnd.jupyter.widget-view+json": {
       "model_id": "561dd87212ff43edbaf3ff6840329a42",
       "version_major": 2,
       "version_minor": 0
      },
      "text/plain": [
       "  0%|          | 0/1 [00:00<?, ?it/s]"
      ]
     },
     "metadata": {},
     "output_type": "display_data"
    },
    {
     "name": "stdout",
     "output_type": "stream",
     "text": [
      "1\n",
      "1000\n",
      "algorithm 1 running time: [(10, 36.979782111011446), (20, 49.89881650501047), (30, 109.55784690199653), (40, 121.88443845001166), (50, 107.08572422800353), (60, 224.7550165640132)]\n",
      "shap times: [(10, 1, 0.9583084320183843), (10, 5, 1.2341979579941835), (10, 10, 1.0939882539969403), (10, 20, 1.2254540550056845), (10, 30, 1.492087287013419), (10, 50, 1.5765212750120554), (10, 100, 2.2741091850039084), (10, 200, 4.450663307012292), (10, 400, 6.415339119994314), (10, 600, 9.82729852598277), (10, 800, 14.13862849099678), (10, 1000, 16.990117239998654), (20, 1, 1.096559122990584), (20, 5, 1.2230667539988644), (20, 10, 1.2745034309918992), (20, 20, 1.58105860100477), (20, 30, 1.933937813009834), (20, 50, 2.233374816016294), (20, 100, 3.8361531700065825), (20, 200, 6.116974606993608), (20, 400, 11.814977917005308), (20, 600, 19.159665464016143), (20, 800, 26.737085915985517), (20, 1000, 31.334491460991558), (30, 1, 1.217628654994769), (30, 5, 1.4383228489896283), (30, 10, 2.5108562560053542), (30, 20, 1.9399308050051332), (30, 30, 2.2973916949995328), (30, 50, 3.263040379009908), (30, 100, 5.272530871006893), (30, 200, 8.577085408993298), (30, 400, 15.947731892985757), (30, 600, 25.811623480985872), (30, 800, 35.91617601699545), (30, 1000, 40.4363517750171), (40, 1, 1.147003312013112), (40, 5, 1.2852421829884406), (40, 10, 1.7898178680043202), (40, 20, 2.667178089002846), (40, 30, 2.783080041001085), (40, 50, 3.26439852497424), (40, 100, 5.8982853179913945), (40, 200, 9.720270385994809), (40, 400, 22.960323416016763), (40, 600, 31.750840087013785), (40, 800, 40.14104331898852), (40, 1000, 45.92850655500661), (50, 1, 1.4312578800017945), (50, 5, 1.8645689980185125), (50, 10, 2.5419416559743695), (50, 20, 3.1485247800010256), (50, 30, 3.1727332760056015), (50, 50, 4.1253797950048465), (50, 100, 6.80754426799831), (50, 200, 12.336662316985894), (50, 400, 20.835201252019033), (50, 600, 29.714895654004067), (50, 800, 40.61047645000508), (50, 1000, 54.317526972008636), (60, 1, 1.5784481430018786), (60, 5, 2.5802835000213236), (60, 10, 3.498640397010604), (60, 20, 4.07446394499857), (60, 30, 4.398981343983905), (60, 50, 6.8867137299967), (60, 100, 10.076756703987485), (60, 200, 17.646919843013166), (60, 400, 37.931292954977835), (60, 600, 55.529581856011646), (60, 800, 62.087062640988734), (60, 1000, 81.39700435198029)]\n",
      "mc times: []\n",
      "\u001b[34mLoading sequences and calculating alignments to all references, this might take a while. Number of reads: \u001b[0m 70\n",
      "start working on read number 0\n",
      "start working on read number 40\n",
      "finish_1\n",
      "finish_2\n",
      "running shap with sample size: 1 with data size: 70\n",
      "1\n"
     ]
    },
    {
     "data": {
      "application/vnd.jupyter.widget-view+json": {
       "model_id": "d9e85570cbcc46179136722405f2d569",
       "version_major": 2,
       "version_minor": 0
      },
      "text/plain": [
       "  0%|          | 0/1 [00:00<?, ?it/s]"
      ]
     },
     "metadata": {},
     "output_type": "display_data"
    },
    {
     "name": "stdout",
     "output_type": "stream",
     "text": [
      "1\n",
      "1\n",
      "running shap with sample size: 5 with data size: 70\n",
      "1\n"
     ]
    },
    {
     "data": {
      "application/vnd.jupyter.widget-view+json": {
       "model_id": "cc787ab72b044b6fb115c04fdff6fd7b",
       "version_major": 2,
       "version_minor": 0
      },
      "text/plain": [
       "  0%|          | 0/1 [00:00<?, ?it/s]"
      ]
     },
     "metadata": {},
     "output_type": "display_data"
    },
    {
     "name": "stdout",
     "output_type": "stream",
     "text": [
      "1\n",
      "5\n",
      "running shap with sample size: 10 with data size: 70\n",
      "1\n"
     ]
    },
    {
     "data": {
      "application/vnd.jupyter.widget-view+json": {
       "model_id": "0d47134f6b4b40cfaa226381702dfec7",
       "version_major": 2,
       "version_minor": 0
      },
      "text/plain": [
       "  0%|          | 0/1 [00:00<?, ?it/s]"
      ]
     },
     "metadata": {},
     "output_type": "display_data"
    },
    {
     "name": "stdout",
     "output_type": "stream",
     "text": [
      "1\n",
      "10\n",
      "running shap with sample size: 20 with data size: 70\n",
      "1\n"
     ]
    },
    {
     "data": {
      "application/vnd.jupyter.widget-view+json": {
       "model_id": "1c865380b23a41ba9e5f0f50e58e9cbe",
       "version_major": 2,
       "version_minor": 0
      },
      "text/plain": [
       "  0%|          | 0/1 [00:00<?, ?it/s]"
      ]
     },
     "metadata": {},
     "output_type": "display_data"
    },
    {
     "name": "stdout",
     "output_type": "stream",
     "text": [
      "1\n",
      "20\n",
      "running shap with sample size: 30 with data size: 70\n",
      "1\n"
     ]
    },
    {
     "data": {
      "application/vnd.jupyter.widget-view+json": {
       "model_id": "e48bf196874d4385aced3cca2eaa7fdf",
       "version_major": 2,
       "version_minor": 0
      },
      "text/plain": [
       "  0%|          | 0/1 [00:00<?, ?it/s]"
      ]
     },
     "metadata": {},
     "output_type": "display_data"
    },
    {
     "name": "stdout",
     "output_type": "stream",
     "text": [
      "1\n",
      "30\n",
      "running shap with sample size: 50 with data size: 70\n",
      "1\n"
     ]
    },
    {
     "data": {
      "application/vnd.jupyter.widget-view+json": {
       "model_id": "6c84e0ca5df549c9852f275aa7885926",
       "version_major": 2,
       "version_minor": 0
      },
      "text/plain": [
       "  0%|          | 0/1 [00:00<?, ?it/s]"
      ]
     },
     "metadata": {},
     "output_type": "display_data"
    },
    {
     "name": "stdout",
     "output_type": "stream",
     "text": [
      "1\n",
      "50\n",
      "running shap with sample size: 100 with data size: 70\n",
      "1\n"
     ]
    },
    {
     "data": {
      "application/vnd.jupyter.widget-view+json": {
       "model_id": "ab49dfe28cc847cda05b21acdf3abf15",
       "version_major": 2,
       "version_minor": 0
      },
      "text/plain": [
       "  0%|          | 0/1 [00:00<?, ?it/s]"
      ]
     },
     "metadata": {},
     "output_type": "display_data"
    },
    {
     "name": "stdout",
     "output_type": "stream",
     "text": [
      "1\n",
      "100\n",
      "running shap with sample size: 200 with data size: 70\n",
      "1\n"
     ]
    },
    {
     "data": {
      "application/vnd.jupyter.widget-view+json": {
       "model_id": "0f10bf69992a43babcc8ef27bd05b22c",
       "version_major": 2,
       "version_minor": 0
      },
      "text/plain": [
       "  0%|          | 0/1 [00:00<?, ?it/s]"
      ]
     },
     "metadata": {},
     "output_type": "display_data"
    },
    {
     "name": "stdout",
     "output_type": "stream",
     "text": [
      "1\n",
      "200\n",
      "running shap with sample size: 400 with data size: 70\n",
      "1\n"
     ]
    },
    {
     "data": {
      "application/vnd.jupyter.widget-view+json": {
       "model_id": "5c3c3da916b84cada441c07cd45117ab",
       "version_major": 2,
       "version_minor": 0
      },
      "text/plain": [
       "  0%|          | 0/1 [00:00<?, ?it/s]"
      ]
     },
     "metadata": {},
     "output_type": "display_data"
    },
    {
     "name": "stdout",
     "output_type": "stream",
     "text": [
      "1\n",
      "400\n",
      "running shap with sample size: 600 with data size: 70\n",
      "1\n"
     ]
    },
    {
     "data": {
      "application/vnd.jupyter.widget-view+json": {
       "model_id": "cbbed6700a4d4e27a5e3cb83c6f2f3d6",
       "version_major": 2,
       "version_minor": 0
      },
      "text/plain": [
       "  0%|          | 0/1 [00:00<?, ?it/s]"
      ]
     },
     "metadata": {},
     "output_type": "display_data"
    },
    {
     "name": "stdout",
     "output_type": "stream",
     "text": [
      "1\n",
      "600\n",
      "running shap with sample size: 800 with data size: 70\n",
      "1\n"
     ]
    },
    {
     "data": {
      "application/vnd.jupyter.widget-view+json": {
       "model_id": "e7ecf40ca1a04f3cafc615d123c50e5b",
       "version_major": 2,
       "version_minor": 0
      },
      "text/plain": [
       "  0%|          | 0/1 [00:00<?, ?it/s]"
      ]
     },
     "metadata": {},
     "output_type": "display_data"
    },
    {
     "name": "stdout",
     "output_type": "stream",
     "text": [
      "1\n",
      "800\n",
      "running shap with sample size: 1000 with data size: 70\n",
      "1\n"
     ]
    },
    {
     "data": {
      "application/vnd.jupyter.widget-view+json": {
       "model_id": "8c2edad20dc244de967b90cfb576fe11",
       "version_major": 2,
       "version_minor": 0
      },
      "text/plain": [
       "  0%|          | 0/1 [00:00<?, ?it/s]"
      ]
     },
     "metadata": {},
     "output_type": "display_data"
    },
    {
     "name": "stdout",
     "output_type": "stream",
     "text": [
      "1\n",
      "1000\n",
      "algorithm 1 running time: [(10, 36.979782111011446), (20, 49.89881650501047), (30, 109.55784690199653), (40, 121.88443845001166), (50, 107.08572422800353), (60, 224.7550165640132), (70, 244.3696679819841)]\n",
      "shap times: [(10, 1, 0.9583084320183843), (10, 5, 1.2341979579941835), (10, 10, 1.0939882539969403), (10, 20, 1.2254540550056845), (10, 30, 1.492087287013419), (10, 50, 1.5765212750120554), (10, 100, 2.2741091850039084), (10, 200, 4.450663307012292), (10, 400, 6.415339119994314), (10, 600, 9.82729852598277), (10, 800, 14.13862849099678), (10, 1000, 16.990117239998654), (20, 1, 1.096559122990584), (20, 5, 1.2230667539988644), (20, 10, 1.2745034309918992), (20, 20, 1.58105860100477), (20, 30, 1.933937813009834), (20, 50, 2.233374816016294), (20, 100, 3.8361531700065825), (20, 200, 6.116974606993608), (20, 400, 11.814977917005308), (20, 600, 19.159665464016143), (20, 800, 26.737085915985517), (20, 1000, 31.334491460991558), (30, 1, 1.217628654994769), (30, 5, 1.4383228489896283), (30, 10, 2.5108562560053542), (30, 20, 1.9399308050051332), (30, 30, 2.2973916949995328), (30, 50, 3.263040379009908), (30, 100, 5.272530871006893), (30, 200, 8.577085408993298), (30, 400, 15.947731892985757), (30, 600, 25.811623480985872), (30, 800, 35.91617601699545), (30, 1000, 40.4363517750171), (40, 1, 1.147003312013112), (40, 5, 1.2852421829884406), (40, 10, 1.7898178680043202), (40, 20, 2.667178089002846), (40, 30, 2.783080041001085), (40, 50, 3.26439852497424), (40, 100, 5.8982853179913945), (40, 200, 9.720270385994809), (40, 400, 22.960323416016763), (40, 600, 31.750840087013785), (40, 800, 40.14104331898852), (40, 1000, 45.92850655500661), (50, 1, 1.4312578800017945), (50, 5, 1.8645689980185125), (50, 10, 2.5419416559743695), (50, 20, 3.1485247800010256), (50, 30, 3.1727332760056015), (50, 50, 4.1253797950048465), (50, 100, 6.80754426799831), (50, 200, 12.336662316985894), (50, 400, 20.835201252019033), (50, 600, 29.714895654004067), (50, 800, 40.61047645000508), (50, 1000, 54.317526972008636), (60, 1, 1.5784481430018786), (60, 5, 2.5802835000213236), (60, 10, 3.498640397010604), (60, 20, 4.07446394499857), (60, 30, 4.398981343983905), (60, 50, 6.8867137299967), (60, 100, 10.076756703987485), (60, 200, 17.646919843013166), (60, 400, 37.931292954977835), (60, 600, 55.529581856011646), (60, 800, 62.087062640988734), (60, 1000, 81.39700435198029), (70, 1, 1.390225883020321), (70, 5, 5.7936740620061755), (70, 10, 5.589386918989476), (70, 20, 4.04693010498886), (70, 30, 6.617823792010313), (70, 50, 8.420079576986609), (70, 100, 13.520739895000588), (70, 200, 24.20006651399308), (70, 400, 42.422428176010726), (70, 600, 53.28260005998891), (70, 800, 64.4364389909897), (70, 1000, 77.32672041998012)]\n",
      "mc times: []\n",
      "\u001b[34mLoading sequences and calculating alignments to all references, this might take a while. Number of reads: \u001b[0m 80\n",
      "start working on read number 0\n",
      "start working on read number 40\n",
      "finish_1\n",
      "finish_2\n",
      "running shap with sample size: 1 with data size: 80\n",
      "1\n"
     ]
    },
    {
     "data": {
      "application/vnd.jupyter.widget-view+json": {
       "model_id": "9662368d00e849bf92d1884fb61eb2fa",
       "version_major": 2,
       "version_minor": 0
      },
      "text/plain": [
       "  0%|          | 0/1 [00:00<?, ?it/s]"
      ]
     },
     "metadata": {},
     "output_type": "display_data"
    },
    {
     "name": "stdout",
     "output_type": "stream",
     "text": [
      "1\n",
      "1\n",
      "running shap with sample size: 5 with data size: 80\n",
      "1\n"
     ]
    },
    {
     "data": {
      "application/vnd.jupyter.widget-view+json": {
       "model_id": "2d7059ad80db471cbf2b981def1212e2",
       "version_major": 2,
       "version_minor": 0
      },
      "text/plain": [
       "  0%|          | 0/1 [00:00<?, ?it/s]"
      ]
     },
     "metadata": {},
     "output_type": "display_data"
    },
    {
     "name": "stdout",
     "output_type": "stream",
     "text": [
      "1\n",
      "5\n",
      "running shap with sample size: 10 with data size: 80\n",
      "1\n"
     ]
    },
    {
     "data": {
      "application/vnd.jupyter.widget-view+json": {
       "model_id": "24f77255f4fa4e42bc9544ba7b11be1e",
       "version_major": 2,
       "version_minor": 0
      },
      "text/plain": [
       "  0%|          | 0/1 [00:00<?, ?it/s]"
      ]
     },
     "metadata": {},
     "output_type": "display_data"
    },
    {
     "name": "stdout",
     "output_type": "stream",
     "text": [
      "1\n",
      "10\n",
      "running shap with sample size: 20 with data size: 80\n",
      "1\n"
     ]
    },
    {
     "data": {
      "application/vnd.jupyter.widget-view+json": {
       "model_id": "ebc1ff4df0bb4e22b87088137c5dd6c9",
       "version_major": 2,
       "version_minor": 0
      },
      "text/plain": [
       "  0%|          | 0/1 [00:00<?, ?it/s]"
      ]
     },
     "metadata": {},
     "output_type": "display_data"
    },
    {
     "name": "stdout",
     "output_type": "stream",
     "text": [
      "1\n",
      "20\n",
      "running shap with sample size: 30 with data size: 80\n",
      "1\n"
     ]
    },
    {
     "data": {
      "application/vnd.jupyter.widget-view+json": {
       "model_id": "0665a7ef1ff1470f8094b5941bf4efeb",
       "version_major": 2,
       "version_minor": 0
      },
      "text/plain": [
       "  0%|          | 0/1 [00:00<?, ?it/s]"
      ]
     },
     "metadata": {},
     "output_type": "display_data"
    },
    {
     "name": "stdout",
     "output_type": "stream",
     "text": [
      "1\n",
      "30\n",
      "running shap with sample size: 50 with data size: 80\n",
      "1\n"
     ]
    },
    {
     "data": {
      "application/vnd.jupyter.widget-view+json": {
       "model_id": "ff7bd1cae97b46648c29122dc3d16fe2",
       "version_major": 2,
       "version_minor": 0
      },
      "text/plain": [
       "  0%|          | 0/1 [00:00<?, ?it/s]"
      ]
     },
     "metadata": {},
     "output_type": "display_data"
    },
    {
     "name": "stdout",
     "output_type": "stream",
     "text": [
      "1\n",
      "50\n",
      "running shap with sample size: 100 with data size: 80\n",
      "1\n"
     ]
    },
    {
     "data": {
      "application/vnd.jupyter.widget-view+json": {
       "model_id": "f68fb2ccb8f84ca4bcd5dd4b6ac5ffb6",
       "version_major": 2,
       "version_minor": 0
      },
      "text/plain": [
       "  0%|          | 0/1 [00:00<?, ?it/s]"
      ]
     },
     "metadata": {},
     "output_type": "display_data"
    },
    {
     "name": "stdout",
     "output_type": "stream",
     "text": [
      "1\n",
      "100\n",
      "running shap with sample size: 200 with data size: 80\n",
      "1\n"
     ]
    },
    {
     "data": {
      "application/vnd.jupyter.widget-view+json": {
       "model_id": "92451a1e93fe494493ab21bfb81762f1",
       "version_major": 2,
       "version_minor": 0
      },
      "text/plain": [
       "  0%|          | 0/1 [00:00<?, ?it/s]"
      ]
     },
     "metadata": {},
     "output_type": "display_data"
    },
    {
     "name": "stdout",
     "output_type": "stream",
     "text": [
      "1\n",
      "200\n",
      "running shap with sample size: 400 with data size: 80\n",
      "1\n"
     ]
    },
    {
     "data": {
      "application/vnd.jupyter.widget-view+json": {
       "model_id": "c97452efcc324f938c0773930c546f28",
       "version_major": 2,
       "version_minor": 0
      },
      "text/plain": [
       "  0%|          | 0/1 [00:00<?, ?it/s]"
      ]
     },
     "metadata": {},
     "output_type": "display_data"
    },
    {
     "name": "stdout",
     "output_type": "stream",
     "text": [
      "1\n",
      "400\n",
      "running shap with sample size: 600 with data size: 80\n",
      "1\n"
     ]
    },
    {
     "data": {
      "application/vnd.jupyter.widget-view+json": {
       "model_id": "1cee6af7ab7f432fa9c17aeacac7dddf",
       "version_major": 2,
       "version_minor": 0
      },
      "text/plain": [
       "  0%|          | 0/1 [00:00<?, ?it/s]"
      ]
     },
     "metadata": {},
     "output_type": "display_data"
    },
    {
     "name": "stdout",
     "output_type": "stream",
     "text": [
      "1\n",
      "600\n",
      "running shap with sample size: 800 with data size: 80\n",
      "1\n"
     ]
    },
    {
     "data": {
      "application/vnd.jupyter.widget-view+json": {
       "model_id": "3f828c142de4474db729a63fbd8abdb6",
       "version_major": 2,
       "version_minor": 0
      },
      "text/plain": [
       "  0%|          | 0/1 [00:00<?, ?it/s]"
      ]
     },
     "metadata": {},
     "output_type": "display_data"
    },
    {
     "name": "stdout",
     "output_type": "stream",
     "text": [
      "1\n",
      "800\n",
      "running shap with sample size: 1000 with data size: 80\n",
      "1\n"
     ]
    },
    {
     "data": {
      "application/vnd.jupyter.widget-view+json": {
       "model_id": "178bd30e33984bbd87b9afcbbeba01c6",
       "version_major": 2,
       "version_minor": 0
      },
      "text/plain": [
       "  0%|          | 0/1 [00:00<?, ?it/s]"
      ]
     },
     "metadata": {},
     "output_type": "display_data"
    },
    {
     "name": "stdout",
     "output_type": "stream",
     "text": [
      "1\n",
      "1000\n",
      "algorithm 1 running time: [(10, 36.979782111011446), (20, 49.89881650501047), (30, 109.55784690199653), (40, 121.88443845001166), (50, 107.08572422800353), (60, 224.7550165640132), (70, 244.3696679819841), (80, 206.05867536598817)]\n",
      "shap times: [(10, 1, 0.9583084320183843), (10, 5, 1.2341979579941835), (10, 10, 1.0939882539969403), (10, 20, 1.2254540550056845), (10, 30, 1.492087287013419), (10, 50, 1.5765212750120554), (10, 100, 2.2741091850039084), (10, 200, 4.450663307012292), (10, 400, 6.415339119994314), (10, 600, 9.82729852598277), (10, 800, 14.13862849099678), (10, 1000, 16.990117239998654), (20, 1, 1.096559122990584), (20, 5, 1.2230667539988644), (20, 10, 1.2745034309918992), (20, 20, 1.58105860100477), (20, 30, 1.933937813009834), (20, 50, 2.233374816016294), (20, 100, 3.8361531700065825), (20, 200, 6.116974606993608), (20, 400, 11.814977917005308), (20, 600, 19.159665464016143), (20, 800, 26.737085915985517), (20, 1000, 31.334491460991558), (30, 1, 1.217628654994769), (30, 5, 1.4383228489896283), (30, 10, 2.5108562560053542), (30, 20, 1.9399308050051332), (30, 30, 2.2973916949995328), (30, 50, 3.263040379009908), (30, 100, 5.272530871006893), (30, 200, 8.577085408993298), (30, 400, 15.947731892985757), (30, 600, 25.811623480985872), (30, 800, 35.91617601699545), (30, 1000, 40.4363517750171), (40, 1, 1.147003312013112), (40, 5, 1.2852421829884406), (40, 10, 1.7898178680043202), (40, 20, 2.667178089002846), (40, 30, 2.783080041001085), (40, 50, 3.26439852497424), (40, 100, 5.8982853179913945), (40, 200, 9.720270385994809), (40, 400, 22.960323416016763), (40, 600, 31.750840087013785), (40, 800, 40.14104331898852), (40, 1000, 45.92850655500661), (50, 1, 1.4312578800017945), (50, 5, 1.8645689980185125), (50, 10, 2.5419416559743695), (50, 20, 3.1485247800010256), (50, 30, 3.1727332760056015), (50, 50, 4.1253797950048465), (50, 100, 6.80754426799831), (50, 200, 12.336662316985894), (50, 400, 20.835201252019033), (50, 600, 29.714895654004067), (50, 800, 40.61047645000508), (50, 1000, 54.317526972008636), (60, 1, 1.5784481430018786), (60, 5, 2.5802835000213236), (60, 10, 3.498640397010604), (60, 20, 4.07446394499857), (60, 30, 4.398981343983905), (60, 50, 6.8867137299967), (60, 100, 10.076756703987485), (60, 200, 17.646919843013166), (60, 400, 37.931292954977835), (60, 600, 55.529581856011646), (60, 800, 62.087062640988734), (60, 1000, 81.39700435198029), (70, 1, 1.390225883020321), (70, 5, 5.7936740620061755), (70, 10, 5.589386918989476), (70, 20, 4.04693010498886), (70, 30, 6.617823792010313), (70, 50, 8.420079576986609), (70, 100, 13.520739895000588), (70, 200, 24.20006651399308), (70, 400, 42.422428176010726), (70, 600, 53.28260005998891), (70, 800, 64.4364389909897), (70, 1000, 77.32672041998012), (80, 1, 1.2853923280199524), (80, 5, 1.787509255023906), (80, 10, 3.126976512983674), (80, 20, 4.266513956012204), (80, 30, 4.096600844000932), (80, 50, 6.198428839998087), (80, 100, 11.559818432986503), (80, 200, 19.692797479016008), (80, 400, 39.24045269101043), (80, 600, 62.64904775499599), (80, 800, 70.31640261801658), (80, 1000, 81.50598216400249)]\n",
      "mc times: []\n",
      "\u001b[34mLoading sequences and calculating alignments to all references, this might take a while. Number of reads: \u001b[0m 90\n",
      "start working on read number 0\n",
      "start working on read number 40\n",
      "start working on read number 80\n",
      "finish_1\n",
      "finish_2\n",
      "running shap with sample size: 1 with data size: 90\n",
      "1\n"
     ]
    },
    {
     "data": {
      "application/vnd.jupyter.widget-view+json": {
       "model_id": "1ea2b49f54274ddea09733d794e68f1a",
       "version_major": 2,
       "version_minor": 0
      },
      "text/plain": [
       "  0%|          | 0/1 [00:00<?, ?it/s]"
      ]
     },
     "metadata": {},
     "output_type": "display_data"
    },
    {
     "name": "stdout",
     "output_type": "stream",
     "text": [
      "1\n",
      "1\n",
      "running shap with sample size: 5 with data size: 90\n",
      "1\n"
     ]
    },
    {
     "data": {
      "application/vnd.jupyter.widget-view+json": {
       "model_id": "48c1cf7588f640778a46c138d4221adc",
       "version_major": 2,
       "version_minor": 0
      },
      "text/plain": [
       "  0%|          | 0/1 [00:00<?, ?it/s]"
      ]
     },
     "metadata": {},
     "output_type": "display_data"
    },
    {
     "name": "stdout",
     "output_type": "stream",
     "text": [
      "1\n",
      "5\n",
      "running shap with sample size: 10 with data size: 90\n",
      "1\n"
     ]
    },
    {
     "data": {
      "application/vnd.jupyter.widget-view+json": {
       "model_id": "73f58160357f49b9a877847d0a5d5e54",
       "version_major": 2,
       "version_minor": 0
      },
      "text/plain": [
       "  0%|          | 0/1 [00:00<?, ?it/s]"
      ]
     },
     "metadata": {},
     "output_type": "display_data"
    },
    {
     "name": "stdout",
     "output_type": "stream",
     "text": [
      "1\n",
      "10\n",
      "running shap with sample size: 20 with data size: 90\n",
      "1\n"
     ]
    },
    {
     "data": {
      "application/vnd.jupyter.widget-view+json": {
       "model_id": "41b9a6c5a084471ea88afa07763b41d5",
       "version_major": 2,
       "version_minor": 0
      },
      "text/plain": [
       "  0%|          | 0/1 [00:00<?, ?it/s]"
      ]
     },
     "metadata": {},
     "output_type": "display_data"
    },
    {
     "name": "stdout",
     "output_type": "stream",
     "text": [
      "1\n",
      "20\n",
      "running shap with sample size: 30 with data size: 90\n",
      "1\n"
     ]
    },
    {
     "data": {
      "application/vnd.jupyter.widget-view+json": {
       "model_id": "1153e23c8eb84407982e98266776802b",
       "version_major": 2,
       "version_minor": 0
      },
      "text/plain": [
       "  0%|          | 0/1 [00:00<?, ?it/s]"
      ]
     },
     "metadata": {},
     "output_type": "display_data"
    },
    {
     "name": "stdout",
     "output_type": "stream",
     "text": [
      "1\n",
      "30\n",
      "running shap with sample size: 50 with data size: 90\n",
      "1\n"
     ]
    },
    {
     "data": {
      "application/vnd.jupyter.widget-view+json": {
       "model_id": "48d1a0f6392c42d39fd6e796a118f323",
       "version_major": 2,
       "version_minor": 0
      },
      "text/plain": [
       "  0%|          | 0/1 [00:00<?, ?it/s]"
      ]
     },
     "metadata": {},
     "output_type": "display_data"
    },
    {
     "name": "stdout",
     "output_type": "stream",
     "text": [
      "1\n",
      "50\n",
      "running shap with sample size: 100 with data size: 90\n",
      "1\n"
     ]
    },
    {
     "data": {
      "application/vnd.jupyter.widget-view+json": {
       "model_id": "494178cc7b7042ef851289f09ca039e2",
       "version_major": 2,
       "version_minor": 0
      },
      "text/plain": [
       "  0%|          | 0/1 [00:00<?, ?it/s]"
      ]
     },
     "metadata": {},
     "output_type": "display_data"
    },
    {
     "name": "stdout",
     "output_type": "stream",
     "text": [
      "1\n",
      "100\n",
      "running shap with sample size: 200 with data size: 90\n",
      "1\n"
     ]
    },
    {
     "data": {
      "application/vnd.jupyter.widget-view+json": {
       "model_id": "cf5bd19404754a4bade4045bb3d7a337",
       "version_major": 2,
       "version_minor": 0
      },
      "text/plain": [
       "  0%|          | 0/1 [00:00<?, ?it/s]"
      ]
     },
     "metadata": {},
     "output_type": "display_data"
    },
    {
     "name": "stdout",
     "output_type": "stream",
     "text": [
      "1\n",
      "200\n",
      "running shap with sample size: 400 with data size: 90\n",
      "1\n"
     ]
    },
    {
     "data": {
      "application/vnd.jupyter.widget-view+json": {
       "model_id": "f0e6d16dbade48a8839d7e5fa233c99d",
       "version_major": 2,
       "version_minor": 0
      },
      "text/plain": [
       "  0%|          | 0/1 [00:00<?, ?it/s]"
      ]
     },
     "metadata": {},
     "output_type": "display_data"
    },
    {
     "name": "stdout",
     "output_type": "stream",
     "text": [
      "1\n",
      "400\n",
      "running shap with sample size: 600 with data size: 90\n",
      "1\n"
     ]
    },
    {
     "data": {
      "application/vnd.jupyter.widget-view+json": {
       "model_id": "38197321d8e540c88420a2f585de25f7",
       "version_major": 2,
       "version_minor": 0
      },
      "text/plain": [
       "  0%|          | 0/1 [00:00<?, ?it/s]"
      ]
     },
     "metadata": {},
     "output_type": "display_data"
    },
    {
     "name": "stdout",
     "output_type": "stream",
     "text": [
      "1\n",
      "600\n",
      "running shap with sample size: 800 with data size: 90\n",
      "1\n"
     ]
    },
    {
     "data": {
      "application/vnd.jupyter.widget-view+json": {
       "model_id": "7748614635a34e6390f525a99c4a8a9a",
       "version_major": 2,
       "version_minor": 0
      },
      "text/plain": [
       "  0%|          | 0/1 [00:00<?, ?it/s]"
      ]
     },
     "metadata": {},
     "output_type": "display_data"
    },
    {
     "name": "stdout",
     "output_type": "stream",
     "text": [
      "1\n",
      "800\n",
      "running shap with sample size: 1000 with data size: 90\n",
      "1\n"
     ]
    },
    {
     "data": {
      "application/vnd.jupyter.widget-view+json": {
       "model_id": "f9dd0c0c431f4c2c8f4d32c2b18bda12",
       "version_major": 2,
       "version_minor": 0
      },
      "text/plain": [
       "  0%|          | 0/1 [00:00<?, ?it/s]"
      ]
     },
     "metadata": {},
     "output_type": "display_data"
    },
    {
     "name": "stdout",
     "output_type": "stream",
     "text": [
      "1\n",
      "1000\n",
      "algorithm 1 running time: [(10, 36.979782111011446), (20, 49.89881650501047), (30, 109.55784690199653), (40, 121.88443845001166), (50, 107.08572422800353), (60, 224.7550165640132), (70, 244.3696679819841), (80, 206.05867536598817), (90, 272.93429057797766)]\n",
      "shap times: [(10, 1, 0.9583084320183843), (10, 5, 1.2341979579941835), (10, 10, 1.0939882539969403), (10, 20, 1.2254540550056845), (10, 30, 1.492087287013419), (10, 50, 1.5765212750120554), (10, 100, 2.2741091850039084), (10, 200, 4.450663307012292), (10, 400, 6.415339119994314), (10, 600, 9.82729852598277), (10, 800, 14.13862849099678), (10, 1000, 16.990117239998654), (20, 1, 1.096559122990584), (20, 5, 1.2230667539988644), (20, 10, 1.2745034309918992), (20, 20, 1.58105860100477), (20, 30, 1.933937813009834), (20, 50, 2.233374816016294), (20, 100, 3.8361531700065825), (20, 200, 6.116974606993608), (20, 400, 11.814977917005308), (20, 600, 19.159665464016143), (20, 800, 26.737085915985517), (20, 1000, 31.334491460991558), (30, 1, 1.217628654994769), (30, 5, 1.4383228489896283), (30, 10, 2.5108562560053542), (30, 20, 1.9399308050051332), (30, 30, 2.2973916949995328), (30, 50, 3.263040379009908), (30, 100, 5.272530871006893), (30, 200, 8.577085408993298), (30, 400, 15.947731892985757), (30, 600, 25.811623480985872), (30, 800, 35.91617601699545), (30, 1000, 40.4363517750171), (40, 1, 1.147003312013112), (40, 5, 1.2852421829884406), (40, 10, 1.7898178680043202), (40, 20, 2.667178089002846), (40, 30, 2.783080041001085), (40, 50, 3.26439852497424), (40, 100, 5.8982853179913945), (40, 200, 9.720270385994809), (40, 400, 22.960323416016763), (40, 600, 31.750840087013785), (40, 800, 40.14104331898852), (40, 1000, 45.92850655500661), (50, 1, 1.4312578800017945), (50, 5, 1.8645689980185125), (50, 10, 2.5419416559743695), (50, 20, 3.1485247800010256), (50, 30, 3.1727332760056015), (50, 50, 4.1253797950048465), (50, 100, 6.80754426799831), (50, 200, 12.336662316985894), (50, 400, 20.835201252019033), (50, 600, 29.714895654004067), (50, 800, 40.61047645000508), (50, 1000, 54.317526972008636), (60, 1, 1.5784481430018786), (60, 5, 2.5802835000213236), (60, 10, 3.498640397010604), (60, 20, 4.07446394499857), (60, 30, 4.398981343983905), (60, 50, 6.8867137299967), (60, 100, 10.076756703987485), (60, 200, 17.646919843013166), (60, 400, 37.931292954977835), (60, 600, 55.529581856011646), (60, 800, 62.087062640988734), (60, 1000, 81.39700435198029), (70, 1, 1.390225883020321), (70, 5, 5.7936740620061755), (70, 10, 5.589386918989476), (70, 20, 4.04693010498886), (70, 30, 6.617823792010313), (70, 50, 8.420079576986609), (70, 100, 13.520739895000588), (70, 200, 24.20006651399308), (70, 400, 42.422428176010726), (70, 600, 53.28260005998891), (70, 800, 64.4364389909897), (70, 1000, 77.32672041998012), (80, 1, 1.2853923280199524), (80, 5, 1.787509255023906), (80, 10, 3.126976512983674), (80, 20, 4.266513956012204), (80, 30, 4.096600844000932), (80, 50, 6.198428839998087), (80, 100, 11.559818432986503), (80, 200, 19.692797479016008), (80, 400, 39.24045269101043), (80, 600, 62.64904775499599), (80, 800, 70.31640261801658), (80, 1000, 81.50598216400249), (90, 1, 1.7781756799959112), (90, 5, 2.84863151301397), (90, 10, 3.7063441010250244), (90, 20, 3.953982429986354), (90, 30, 5.829405656986637), (90, 50, 9.537696324987337), (90, 100, 16.910111022996716), (90, 200, 31.633404152991716), (90, 400, 51.97747877999791), (90, 600, 78.16734058200382), (90, 800, 86.53357715997845), (90, 1000, 97.40982741600601)]\n",
      "mc times: []\n",
      "\u001b[34mLoading sequences and calculating alignments to all references, this might take a while. Number of reads: \u001b[0m 100\n",
      "start working on read number 0\n",
      "start working on read number 40\n",
      "start working on read number 80\n",
      "finish_1\n",
      "finish_2\n",
      "running shap with sample size: 1 with data size: 100\n",
      "1\n"
     ]
    },
    {
     "data": {
      "application/vnd.jupyter.widget-view+json": {
       "model_id": "bd3814edbd23404f87112c84490bb228",
       "version_major": 2,
       "version_minor": 0
      },
      "text/plain": [
       "  0%|          | 0/1 [00:00<?, ?it/s]"
      ]
     },
     "metadata": {},
     "output_type": "display_data"
    },
    {
     "name": "stdout",
     "output_type": "stream",
     "text": [
      "1\n",
      "1\n",
      "running shap with sample size: 5 with data size: 100\n",
      "1\n"
     ]
    },
    {
     "data": {
      "application/vnd.jupyter.widget-view+json": {
       "model_id": "6d541e579eaf41dab8b8e0be64a6f413",
       "version_major": 2,
       "version_minor": 0
      },
      "text/plain": [
       "  0%|          | 0/1 [00:00<?, ?it/s]"
      ]
     },
     "metadata": {},
     "output_type": "display_data"
    },
    {
     "name": "stdout",
     "output_type": "stream",
     "text": [
      "1\n",
      "5\n",
      "running shap with sample size: 10 with data size: 100\n",
      "1\n"
     ]
    },
    {
     "data": {
      "application/vnd.jupyter.widget-view+json": {
       "model_id": "09d1dece5bb240acbb857a4df527f61d",
       "version_major": 2,
       "version_minor": 0
      },
      "text/plain": [
       "  0%|          | 0/1 [00:00<?, ?it/s]"
      ]
     },
     "metadata": {},
     "output_type": "display_data"
    },
    {
     "name": "stdout",
     "output_type": "stream",
     "text": [
      "1\n",
      "10\n",
      "running shap with sample size: 20 with data size: 100\n",
      "1\n"
     ]
    },
    {
     "data": {
      "application/vnd.jupyter.widget-view+json": {
       "model_id": "36d57fafe1fc4fbfa60e8ad904d16dce",
       "version_major": 2,
       "version_minor": 0
      },
      "text/plain": [
       "  0%|          | 0/1 [00:00<?, ?it/s]"
      ]
     },
     "metadata": {},
     "output_type": "display_data"
    },
    {
     "name": "stdout",
     "output_type": "stream",
     "text": [
      "1\n",
      "20\n",
      "running shap with sample size: 30 with data size: 100\n",
      "1\n"
     ]
    },
    {
     "data": {
      "application/vnd.jupyter.widget-view+json": {
       "model_id": "a319f47f9cae46289d44270c8b8787b9",
       "version_major": 2,
       "version_minor": 0
      },
      "text/plain": [
       "  0%|          | 0/1 [00:00<?, ?it/s]"
      ]
     },
     "metadata": {},
     "output_type": "display_data"
    },
    {
     "name": "stdout",
     "output_type": "stream",
     "text": [
      "1\n",
      "30\n",
      "running shap with sample size: 50 with data size: 100\n",
      "1\n"
     ]
    },
    {
     "data": {
      "application/vnd.jupyter.widget-view+json": {
       "model_id": "3e2c9de3cf084a5da1db4d3ffb54b826",
       "version_major": 2,
       "version_minor": 0
      },
      "text/plain": [
       "  0%|          | 0/1 [00:00<?, ?it/s]"
      ]
     },
     "metadata": {},
     "output_type": "display_data"
    },
    {
     "name": "stdout",
     "output_type": "stream",
     "text": [
      "1\n",
      "50\n",
      "running shap with sample size: 100 with data size: 100\n",
      "1\n"
     ]
    },
    {
     "data": {
      "application/vnd.jupyter.widget-view+json": {
       "model_id": "00274b286b3b43bfbcd00873711d634c",
       "version_major": 2,
       "version_minor": 0
      },
      "text/plain": [
       "  0%|          | 0/1 [00:00<?, ?it/s]"
      ]
     },
     "metadata": {},
     "output_type": "display_data"
    },
    {
     "name": "stdout",
     "output_type": "stream",
     "text": [
      "1\n",
      "100\n",
      "running shap with sample size: 200 with data size: 100\n",
      "1\n"
     ]
    },
    {
     "data": {
      "application/vnd.jupyter.widget-view+json": {
       "model_id": "f32a689d8e524a0599313cd732238545",
       "version_major": 2,
       "version_minor": 0
      },
      "text/plain": [
       "  0%|          | 0/1 [00:00<?, ?it/s]"
      ]
     },
     "metadata": {},
     "output_type": "display_data"
    },
    {
     "name": "stdout",
     "output_type": "stream",
     "text": [
      "1\n",
      "200\n",
      "running shap with sample size: 400 with data size: 100\n",
      "1\n"
     ]
    },
    {
     "data": {
      "application/vnd.jupyter.widget-view+json": {
       "model_id": "6e07ceec38f24620b19bb41a9f9cf151",
       "version_major": 2,
       "version_minor": 0
      },
      "text/plain": [
       "  0%|          | 0/1 [00:00<?, ?it/s]"
      ]
     },
     "metadata": {},
     "output_type": "display_data"
    },
    {
     "name": "stdout",
     "output_type": "stream",
     "text": [
      "1\n",
      "400\n",
      "running shap with sample size: 600 with data size: 100\n",
      "1\n"
     ]
    },
    {
     "data": {
      "application/vnd.jupyter.widget-view+json": {
       "model_id": "5fb8517e3456452f80ede1ea529fcf24",
       "version_major": 2,
       "version_minor": 0
      },
      "text/plain": [
       "  0%|          | 0/1 [00:00<?, ?it/s]"
      ]
     },
     "metadata": {},
     "output_type": "display_data"
    },
    {
     "name": "stdout",
     "output_type": "stream",
     "text": [
      "1\n",
      "600\n",
      "running shap with sample size: 800 with data size: 100\n",
      "1\n"
     ]
    },
    {
     "data": {
      "application/vnd.jupyter.widget-view+json": {
       "model_id": "9ec85fa3e6a44e6e8dc0332c1f23569e",
       "version_major": 2,
       "version_minor": 0
      },
      "text/plain": [
       "  0%|          | 0/1 [00:00<?, ?it/s]"
      ]
     },
     "metadata": {},
     "output_type": "display_data"
    },
    {
     "name": "stdout",
     "output_type": "stream",
     "text": [
      "1\n",
      "800\n",
      "running shap with sample size: 1000 with data size: 100\n",
      "1\n"
     ]
    },
    {
     "data": {
      "application/vnd.jupyter.widget-view+json": {
       "model_id": "e923b3c8b6494fc885c5be726bdc9e9b",
       "version_major": 2,
       "version_minor": 0
      },
      "text/plain": [
       "  0%|          | 0/1 [00:00<?, ?it/s]"
      ]
     },
     "metadata": {},
     "output_type": "display_data"
    },
    {
     "name": "stdout",
     "output_type": "stream",
     "text": [
      "1\n",
      "1000\n",
      "algorithm 1 running time: [(10, 36.979782111011446), (20, 49.89881650501047), (30, 109.55784690199653), (40, 121.88443845001166), (50, 107.08572422800353), (60, 224.7550165640132), (70, 244.3696679819841), (80, 206.05867536598817), (90, 272.93429057797766), (100, 226.263813802012)]\n",
      "shap times: [(10, 1, 0.9583084320183843), (10, 5, 1.2341979579941835), (10, 10, 1.0939882539969403), (10, 20, 1.2254540550056845), (10, 30, 1.492087287013419), (10, 50, 1.5765212750120554), (10, 100, 2.2741091850039084), (10, 200, 4.450663307012292), (10, 400, 6.415339119994314), (10, 600, 9.82729852598277), (10, 800, 14.13862849099678), (10, 1000, 16.990117239998654), (20, 1, 1.096559122990584), (20, 5, 1.2230667539988644), (20, 10, 1.2745034309918992), (20, 20, 1.58105860100477), (20, 30, 1.933937813009834), (20, 50, 2.233374816016294), (20, 100, 3.8361531700065825), (20, 200, 6.116974606993608), (20, 400, 11.814977917005308), (20, 600, 19.159665464016143), (20, 800, 26.737085915985517), (20, 1000, 31.334491460991558), (30, 1, 1.217628654994769), (30, 5, 1.4383228489896283), (30, 10, 2.5108562560053542), (30, 20, 1.9399308050051332), (30, 30, 2.2973916949995328), (30, 50, 3.263040379009908), (30, 100, 5.272530871006893), (30, 200, 8.577085408993298), (30, 400, 15.947731892985757), (30, 600, 25.811623480985872), (30, 800, 35.91617601699545), (30, 1000, 40.4363517750171), (40, 1, 1.147003312013112), (40, 5, 1.2852421829884406), (40, 10, 1.7898178680043202), (40, 20, 2.667178089002846), (40, 30, 2.783080041001085), (40, 50, 3.26439852497424), (40, 100, 5.8982853179913945), (40, 200, 9.720270385994809), (40, 400, 22.960323416016763), (40, 600, 31.750840087013785), (40, 800, 40.14104331898852), (40, 1000, 45.92850655500661), (50, 1, 1.4312578800017945), (50, 5, 1.8645689980185125), (50, 10, 2.5419416559743695), (50, 20, 3.1485247800010256), (50, 30, 3.1727332760056015), (50, 50, 4.1253797950048465), (50, 100, 6.80754426799831), (50, 200, 12.336662316985894), (50, 400, 20.835201252019033), (50, 600, 29.714895654004067), (50, 800, 40.61047645000508), (50, 1000, 54.317526972008636), (60, 1, 1.5784481430018786), (60, 5, 2.5802835000213236), (60, 10, 3.498640397010604), (60, 20, 4.07446394499857), (60, 30, 4.398981343983905), (60, 50, 6.8867137299967), (60, 100, 10.076756703987485), (60, 200, 17.646919843013166), (60, 400, 37.931292954977835), (60, 600, 55.529581856011646), (60, 800, 62.087062640988734), (60, 1000, 81.39700435198029), (70, 1, 1.390225883020321), (70, 5, 5.7936740620061755), (70, 10, 5.589386918989476), (70, 20, 4.04693010498886), (70, 30, 6.617823792010313), (70, 50, 8.420079576986609), (70, 100, 13.520739895000588), (70, 200, 24.20006651399308), (70, 400, 42.422428176010726), (70, 600, 53.28260005998891), (70, 800, 64.4364389909897), (70, 1000, 77.32672041998012), (80, 1, 1.2853923280199524), (80, 5, 1.787509255023906), (80, 10, 3.126976512983674), (80, 20, 4.266513956012204), (80, 30, 4.096600844000932), (80, 50, 6.198428839998087), (80, 100, 11.559818432986503), (80, 200, 19.692797479016008), (80, 400, 39.24045269101043), (80, 600, 62.64904775499599), (80, 800, 70.31640261801658), (80, 1000, 81.50598216400249), (90, 1, 1.7781756799959112), (90, 5, 2.84863151301397), (90, 10, 3.7063441010250244), (90, 20, 3.953982429986354), (90, 30, 5.829405656986637), (90, 50, 9.537696324987337), (90, 100, 16.910111022996716), (90, 200, 31.633404152991716), (90, 400, 51.97747877999791), (90, 600, 78.16734058200382), (90, 800, 86.53357715997845), (90, 1000, 97.40982741600601), (100, 1, 1.5360964930150658), (100, 5, 3.158868369006086), (100, 10, 3.839272831013659), (100, 20, 4.5052492980030365), (100, 30, 6.061787529004505), (100, 50, 10.000128201005282), (100, 100, 19.74467118299799), (100, 200, 33.60019242699491), (100, 400, 60.38858639000682), (100, 600, 91.83583452599123), (100, 800, 89.68625775101827), (100, 1000, 104.17434195798705)]\n",
      "mc times: []\n"
     ]
    }
   ],
   "source": [
    "for i in range(number_of_experiments):\n",
    "    print(\"starting experiment number: \", i)\n",
    "    for size in dataset_sizes:\n",
    "        if  (use_real_data):\n",
    "            dataset_1 = generate_sample_real_data(size)\n",
    "        else:  \n",
    "            biggest = int(size / 2)\n",
    "            second = int((size - biggest)/2)\n",
    "            third = size - biggest - second\n",
    "            print(biggest, second, third)\n",
    "            number_of_sapienses = biggest\n",
    "            number_of_neanderthals = second\n",
    "            number_of_denisovans = third\n",
    "            dataset_1 = generate_sample(number_of_sapienses, number_of_neanderthals, number_of_denisovans)\n",
    "        start_all = time.perf_counter()\n",
    "        maximum_likelihood_calculator_d_1 = ExplainableMaximumLikelihoodCalculator(dataset_1,\n",
    "                                                    ref_neanderthal_file_names=neanderthals_reference_file_names,\n",
    "                                                    ref_sapien_file_names=sapiens_reference_file_names,\n",
    "                                                    ref_denisovan_file_names=denisovan_reference_file_names,\n",
    "                                                    path_to_substitution_matrix=path_to_frequencies_table,\n",
    "                                                    number_of_jobs=-1)\n",
    "        after_pre_processing = time.perf_counter()\n",
    "        time_of_preprocessing = after_pre_processing - start_all\n",
    "        pre_processing_times.append((size,time_of_preprocessing))\n",
    "        print(\"finish_1\")\n",
    "\n",
    "        estimation = maximum_likelihood_calculator_d_1.estimate_species_proportions(result_resolution=50)\n",
    "        after_maximization = time.perf_counter()\n",
    "        time_of_maximization = after_maximization - after_pre_processing\n",
    "        maximization_times.append((size,time_of_maximization))\n",
    "        entire_algorithm_1 =  after_maximization - start_all\n",
    "        algorithm_1_running_times.append((size,entire_algorithm_1))\n",
    "        print(\"finish_2\")\n",
    "\n",
    "        sample_sizes = [1,5,10,20,30,50,100,200,400,600,800,1000]\n",
    "        \n",
    "        for sample_size in sample_sizes:\n",
    "            print(\"running shap with sample size:\", sample_size, \"with data size:\", size)\n",
    "            time_before_shap = time.perf_counter()\n",
    "            shaps = maximum_likelihood_calculator_d_1.calculate_shapley_values(sample_size)\n",
    "            time_after_shap = time.perf_counter()\n",
    "            time_shap_took = time_after_shap - time_before_shap\n",
    "            shap_times.append((size, sample_size, time_shap_took))\n",
    "        \n",
    "        # for sample_size in sample_sizes:\n",
    "        #     print(\"running mc estimation with sample size:\", sample_size, \"with data size:\", size)\n",
    "        #     time_before_mc = time.perf_counter()\n",
    "        #     shaps = maximum_likelihood_calculator_d_1.estimate_shapley_values(number_of_samples_per_read = sample_size)\n",
    "        #     time_after_smc= time.perf_counter()\n",
    "        #     time_shap_took = time_after_smc - time_before_mc\n",
    "        #     mc_times.append((size, sample_size, time_shap_took))\n",
    "            \n",
    "        print(\"algorithm 1 running time:\", algorithm_1_running_times)\n",
    "        print(\"shap times:\", shap_times)\n",
    "        print(\"mc times:\", mc_times)\n",
    "        # ref = maximum_likelihood_calculator_d_1.analyze_diff_on_removing_reference(number_of_samples=100,size_of_sample=8,result_resolution=50)\n",
    "        # after_ref_calculation = time.perf_counter()\n",
    "        # time_of_ref_calculation = after_ref_calculation - after_shapley\n",
    "        # ref_calculation_times.append((size,time_of_ref_calculation))\n",
    "        # print(\"finish_4\")\n",
    "\n",
    "        # cf = maximum_likelihood_calculator_d_1.generateCounterFactualMinimalSetToRemoveAndChangeMax(shapleys)\n",
    "        # after_counter_factual = time.perf_counter()\n",
    "        # time_of_cf_calculation = after_counter_factual - after_ref_calculation\n",
    "        # counter_factual_calc_times.append((size,time_of_cf_calculation))\n"
   ]
  },
  {
   "cell_type": "code",
   "execution_count": 12,
   "id": "4b109ab5-fa2b-434b-ba9c-aaac4dee52e3",
   "metadata": {},
   "outputs": [],
   "source": [
    "def getListOfAverages(list_of_data):\n",
    "    averages = []\n",
    "    for size in dataset_sizes:\n",
    "        rel_data = [i[1] for i in list_of_data if i[0] ==size]\n",
    "        avg = np.mean(rel_data)\n",
    "        averages.append(avg)\n",
    "    return averages"
   ]
  },
  {
   "cell_type": "code",
   "execution_count": 67,
   "id": "dafbba14-bb98-42f9-a2b1-5b19f34c806e",
   "metadata": {},
   "outputs": [],
   "source": [
    "def plot(x,y, name, title):\n",
    "    plt.figure() \n",
    "    plt.figure().clear()\n",
    "    plt.rcParams.update({'font.size': 14})\n",
    "    plt.plot(x, y)\n",
    "    plt.title(title)\n",
    "    plt.xlabel(\"Sample size\")\n",
    "    plt.ylabel(\"Execution time in seconds\")\n",
    "    plt.xlim(left=0)\n",
    "    plt.ylim(bottom=0)\n",
    "    plt.savefig(name)\n",
    "    \n",
    "\n",
    "    plt.show()"
   ]
  },
  {
   "cell_type": "code",
   "execution_count": 75,
   "id": "4b594853-a09c-4da5-b806-c8d778228e37",
   "metadata": {},
   "outputs": [],
   "source": [
    "times_50 = [i[2] for i in shap_times if i[0] == 20]"
   ]
  },
  {
   "cell_type": "code",
   "execution_count": 73,
   "id": "3ef6bcc8-759f-41e0-b710-dbff3d858810",
   "metadata": {},
   "outputs": [
    {
     "data": {
      "text/plain": [
       "[1.4312578800017945,\n",
       " 1.8645689980185125,\n",
       " 2.5419416559743695,\n",
       " 3.1485247800010256,\n",
       " 3.1727332760056015,\n",
       " 4.1253797950048465,\n",
       " 6.80754426799831,\n",
       " 12.336662316985894,\n",
       " 20.835201252019033,\n",
       " 29.714895654004067,\n",
       " 40.61047645000508,\n",
       " 54.317526972008636]"
      ]
     },
     "execution_count": 73,
     "metadata": {},
     "output_type": "execute_result"
    }
   ],
   "source": [
    "times_50"
   ]
  },
  {
   "cell_type": "code",
   "execution_count": 76,
   "id": "39fc5b82-6e6a-4282-8e04-c13f0e294a95",
   "metadata": {},
   "outputs": [
    {
     "data": {
      "text/plain": [
       "<Figure size 640x480 with 0 Axes>"
      ]
     },
     "metadata": {},
     "output_type": "display_data"
    },
    {
     "data": {
      "image/png": "[encoded data removed]",
      "text/plain": [
       "<Figure size 640x480 with 1 Axes>"
      ]
     },
     "metadata": {},
     "output_type": "display_data"
    }
   ],
   "source": [
    "plot(sample_sizes, times_50, \"shap_running_time_20.png\", \"SHAP running time - data size: 20\" )"
   ]
  },
  {
   "cell_type": "code",
   "execution_count": 51,
   "id": "a9403785-6298-4a1b-8e57-c1752e667c94",
   "metadata": {},
   "outputs": [
    {
     "data": {
      "image/png": "[encoded data removed]",
      "text/plain": [
       "<Figure size 640x480 with 1 Axes>"
      ]
     },
     "metadata": {},
     "output_type": "display_data"
    }
   ],
   "source": [
    "plot(dataset_sizes, getListOfAverages(shapley_estimation_times), \"shapley_RealDataSizePlot.png\", \"Attribution based data-level explanation\")"
   ]
  },
  {
   "cell_type": "code",
   "execution_count": 43,
   "id": "2e18e520-7fe8-438a-beaa-818cf8a99cdb",
   "metadata": {},
   "outputs": [
    {
     "data": {
      "image/png": "[encoded data removed]",
      "text/plain": [
       "<Figure size 640x480 with 1 Axes>"
      ]
     },
     "metadata": {},
     "output_type": "display_data"
    }
   ],
   "source": [
    "plot(dataset_sizes, getListOfAverages(ref_calculation_times), \"reference_RealDataSizePlot.png\", \"Attribution based reference-level explanation\")"
   ]
  },
  {
   "cell_type": "code",
   "execution_count": 65,
   "id": "7146baee-3674-4547-806d-f0f12d4ac293",
   "metadata": {},
   "outputs": [
    {
     "data": {
      "image/png": "[encoded data removed]",
      "text/plain": [
       "<Figure size 640x480 with 1 Axes>"
      ]
     },
     "metadata": {},
     "output_type": "display_data"
    }
   ],
   "source": [
    "plot(dataset_sizes, getListOfAverages(counter_factual_calc_times), \"counterfactual_RealDataSizePlot.png\", \"Counterfactual explanation\")"
   ]
  },
  {
   "cell_type": "markdown",
   "id": "ec1a8cf1-a503-4b5d-a0c9-988fd16bdf7d",
   "metadata": {},
   "source": [
    "# Threads"
   ]
  },
  {
   "cell_type": "code",
   "execution_count": 53,
   "id": "1c48827e-b9e5-4dc9-990e-e0b3a2ea5809",
   "metadata": {},
   "outputs": [],
   "source": [
    "num_of_threads = [1,2,3,4,5,6,7,8]"
   ]
  },
  {
   "cell_type": "code",
   "execution_count": 54,
   "id": "97cbe54f-9391-4aee-abd7-9ca2c0c951f0",
   "metadata": {},
   "outputs": [],
   "source": [
    "pre_processing_times_threads = []\n",
    "maximization_times_threads = []\n",
    "shapley_estimation_times_threads = []\n",
    "ref_calculation_times_threads = []\n",
    "counter_factual_calc_times_threads = []\n",
    "general_time_for_all_threads = []\n",
    "algorithm_1_time_threads = []\n",
    "number_of_exps = 1"
   ]
  },
  {
   "cell_type": "code",
   "execution_count": 55,
   "id": "d3f2a641-5fd8-4077-8320-e116b48bf02e",
   "metadata": {},
   "outputs": [
    {
     "name": "stdout",
     "output_type": "stream",
     "text": [
      "\u001b[34mLoading sequences and calculating alignments to all references, this might take a while. Number of reads: \u001b[0m 60\n",
      "start working on read number 0\n",
      "start working on read number 40\n",
      "finish_1\n",
      "finish_2\n",
      "finish_3\n",
      "finish_4\n",
      "Change dominating species from Homo Sapiens to Neanderthal would require removing 13 reads: [28, 8, 15, 54, 38, 44, 51, 34, 41, 40, 0, 11, 57]\n",
      "finish_5\n",
      "[(1, 1443.9724489159998)]\n",
      "\u001b[34mLoading sequences and calculating alignments to all references, this might take a while. Number of reads: \u001b[0m 60\n",
      "start working on read number 0\n",
      "start working on read number 40\n",
      "finish_1\n",
      "finish_2\n",
      "finish_3\n",
      "finish_4\n",
      "Change dominating species from Homo Sapiens to Neanderthal would require removing 11 reads: [27, 39, 43, 53, 18, 59, 37, 34, 21, 58, 48]\n",
      "finish_5\n",
      "[(1, 1443.9724489159998), (2, 1024.7924145949983)]\n",
      "\u001b[34mLoading sequences and calculating alignments to all references, this might take a while. Number of reads: \u001b[0m 60\n",
      "start working on read number 0\n",
      "start working on read number 40\n",
      "finish_1\n",
      "finish_2\n",
      "finish_3\n",
      "finish_4\n",
      "Change dominating species from Homo Sapiens to Neanderthal would require removing 9 reads: [20, 29, 10, 48, 26, 13, 17, 34, 16]\n",
      "finish_5\n",
      "[(1, 1443.9724489159998), (2, 1024.7924145949983), (3, 892.3441123880002)]\n",
      "\u001b[34mLoading sequences and calculating alignments to all references, this might take a while. Number of reads: \u001b[0m 60\n",
      "start working on read number 0\n",
      "start working on read number 40\n",
      "finish_1\n",
      "finish_2\n",
      "finish_3\n",
      "finish_4\n",
      "Change dominating species from Homo Sapiens to Neanderthal would require removing 11 reads: [44, 35, 37, 50, 10, 39, 58, 49, 34, 9, 24]\n",
      "finish_5\n",
      "[(1, 1443.9724489159998), (2, 1024.7924145949983), (3, 892.3441123880002), (4, 797.4590185839988)]\n",
      "\u001b[34mLoading sequences and calculating alignments to all references, this might take a while. Number of reads: \u001b[0m 60\n",
      "start working on read number 0\n",
      "start working on read number 40\n",
      "finish_1\n",
      "finish_2\n",
      "finish_3\n",
      "finish_4\n",
      "Change dominating species from Homo Sapiens to Neanderthal would require removing 7 reads: [17, 59, 23, 48, 43, 7, 50]\n",
      "finish_5\n",
      "[(1, 1443.9724489159998), (2, 1024.7924145949983), (3, 892.3441123880002), (4, 797.4590185839988), (5, 759.1321047349993)]\n",
      "\u001b[34mLoading sequences and calculating alignments to all references, this might take a while. Number of reads: \u001b[0m 60\n",
      "start working on read number 0\n",
      "start working on read number 40\n",
      "finish_1\n",
      "finish_2\n",
      "finish_3\n",
      "finish_4\n",
      "Change dominating species from Homo Sapiens to Neanderthal would require removing 15 reads: [4, 44, 54, 8, 10, 58, 47, 26, 20, 16, 0, 31, 5, 46, 36]\n",
      "finish_5\n",
      "[(1, 1443.9724489159998), (2, 1024.7924145949983), (3, 892.3441123880002), (4, 797.4590185839988), (5, 759.1321047349993), (6, 719.9999966359974)]\n",
      "\u001b[34mLoading sequences and calculating alignments to all references, this might take a while. Number of reads: \u001b[0m 60\n",
      "start working on read number 0\n",
      "start working on read number 40\n",
      "finish_1\n",
      "finish_2\n",
      "finish_3\n",
      "finish_4\n",
      "Change dominating species from Homo Sapiens to Neanderthal would require removing 13 reads: [14, 32, 49, 35, 30, 52, 8, 51, 57, 7, 40, 1, 9]\n",
      "finish_5\n",
      "[(1, 1443.9724489159998), (2, 1024.7924145949983), (3, 892.3441123880002), (4, 797.4590185839988), (5, 759.1321047349993), (6, 719.9999966359974), (7, 720.2218529210004)]\n",
      "\u001b[34mLoading sequences and calculating alignments to all references, this might take a while. Number of reads: \u001b[0m 60\n",
      "start working on read number 0\n",
      "start working on read number 40\n",
      "finish_1\n",
      "finish_2\n",
      "finish_3\n",
      "finish_4\n",
      "Change dominating species from Homo Sapiens to Neanderthal would require removing 24 reads: [44, 1, 55, 19, 59, 53, 25, 8, 56, 21, 48, 2, 33, 23, 29, 38, 15, 58, 42, 5, 51, 41, 27, 52]\n",
      "finish_5\n",
      "[(1, 1443.9724489159998), (2, 1024.7924145949983), (3, 892.3441123880002), (4, 797.4590185839988), (5, 759.1321047349993), (6, 719.9999966359974), (7, 720.2218529210004), (8, 708.9496881369996)]\n"
     ]
    }
   ],
   "source": [
    "for i in range(number_of_exps):    \n",
    "    for threads in num_of_threads:\n",
    "        if (use_real_data):\n",
    "            dataset_1 = generate_sample_real_data(60)\n",
    "        else:\n",
    "            number_of_sapienses = 30\n",
    "            number_of_neanderthals = 20\n",
    "            number_of_denisovans = 10\n",
    "            dataset_1 = neanderthals_500_generated[:number_of_neanderthals] + sapiens_500_generated[:number_of_sapienses] + denisovan_500_samples[:number_of_denisovans]\n",
    "        start_all = time.perf_counter()\n",
    "        maximum_likelihood_calculator_d_1 = ExplainableMaximumLikelihoodCalculator(dataset_1,\n",
    "                                                    ref_neanderthal_file_names=neanderthals_reference_file_names,\n",
    "                                                    ref_sapien_file_names=sapiens_reference_file_names,\n",
    "                                                    ref_denisovan_file_names=denisovan_reference_file_names,\n",
    "                                                    path_to_substitution_matrix=path_to_frequencies_table,\n",
    "                                                    number_of_jobs=threads)\n",
    "        after_pre_processing = time.perf_counter()\n",
    "        time_of_preprocessing = after_pre_processing - start_all\n",
    "        pre_processing_times_threads.append((threads, time_of_preprocessing))\n",
    "        print(\"finish_1\")\n",
    "\n",
    "        estimation = maximum_likelihood_calculator_d_1.estimate_species_proportions(result_resolution=50)\n",
    "        after_maximization = time.perf_counter()\n",
    "        time_of_maximization = after_maximization - after_pre_processing\n",
    "        maximization_times_threads.append((threads, time_of_maximization))\n",
    "        entire_alg_time = after_maximization - start_all\n",
    "        algorithm_1_time_threads.append((threads, entire_alg_time))\n",
    "        print(\"finish_2\")\n",
    "\n",
    "        shapleys = maximum_likelihood_calculator_d_1.estimate_shapley_values(number_of_samples_per_read=50,number_of_jobs=threads)[0] #[0] is to get the scaled values\n",
    "        after_shapley = time.perf_counter()\n",
    "        time_of_shapley = after_shapley - after_maximization\n",
    "        shapley_estimation_times_threads.append((threads, time_of_shapley))\n",
    "        print(\"finish_3\")\n",
    "\n",
    "        ref = maximum_likelihood_calculator_d_1.analyze_diff_on_removing_reference(number_of_samples=100,size_of_sample=8,result_resolution=50)\n",
    "        after_ref_calculation = time.perf_counter()\n",
    "        time_of_ref_calculation = after_ref_calculation - after_shapley\n",
    "        ref_calculation_times_threads.append((threads, time_of_ref_calculation))\n",
    "        print(\"finish_4\")\n",
    "\n",
    "        cf = maximum_likelihood_calculator_d_1.generateCounterFactualMinimalSetToRemoveAndChangeMax(shapleys)\n",
    "        after_counter_factual = time.perf_counter()\n",
    "        time_of_cf_calculation = after_counter_factual - after_ref_calculation\n",
    "        counter_factual_calc_times_threads.append((threads, time_of_cf_calculation))\n",
    "        print(\"finish_5\")\n",
    "\n",
    "        general_time_for_all_threads.append((threads, after_counter_factual - start_all))\n",
    "        print(general_time_for_all_threads)"
   ]
  },
  {
   "cell_type": "code",
   "execution_count": 66,
   "id": "e6a9e072-9baf-4926-9c1b-66383d8a14ad",
   "metadata": {},
   "outputs": [],
   "source": [
    "def getListOfAveragesThreads(list_of_data):\n",
    "    averages = []\n",
    "    for size in num_of_threads:\n",
    "        rel_data = [i[1] for i in list_of_data if i[0] ==size]\n",
    "        avg = np.mean(rel_data)\n",
    "        averages.append(avg)\n",
    "    return averages"
   ]
  },
  {
   "cell_type": "code",
   "execution_count": 75,
   "id": "27f70dbe-e433-4d61-947b-61b6b786f119",
   "metadata": {},
   "outputs": [
    {
     "data": {
      "image/png": "[encoded data removed]",
      "text/plain": [
       "<Figure size 640x480 with 1 Axes>"
      ]
     },
     "metadata": {},
     "output_type": "display_data"
    }
   ],
   "source": [
    "plotThreads(num_of_threads, getListOfAveragesThreads(shapley_estimation_times_threads), \"numberOfThreadsToExecutionDataAttribution.png\", \"Attribution based data-level explanation\")"
   ]
  },
  {
   "cell_type": "code",
   "execution_count": 57,
   "id": "cdc53520-33f2-40da-a46c-e2f62b8b39b2",
   "metadata": {},
   "outputs": [
    {
     "data": {
      "text/plain": [
       "[1, 2, 3, 4, 5, 6, 7, 8]"
      ]
     },
     "execution_count": 57,
     "metadata": {},
     "output_type": "execute_result"
    }
   ],
   "source": [
    "plotThreads(num_of_threads, getListOfAveragesThreads(algorithm_1_time_threads), \"numberOfThreadsToExecutionAlgorithm1.png\", \"Algorithm 1 execution time\")"
   ]
  },
  {
   "cell_type": "code",
   "execution_count": 77,
   "id": "9db17abe-87d0-4bb8-8137-75bdc863b698",
   "metadata": {},
   "outputs": [
    {
     "data": {
      "image/png": "[encoded data removed]",
      "text/plain": [
       "<Figure size 640x480 with 1 Axes>"
      ]
     },
     "metadata": {},
     "output_type": "display_data"
    }
   ],
   "source": [
    "plotThreads(num_of_threads, getListOfAveragesThreads(counter_factual_calc_times_threads), \"ba.png\", \"Algorithm 1 execution time\")"
   ]
  },
  {
   "cell_type": "code",
   "execution_count": 73,
   "id": "b24a2a0b-1ebe-4d04-937d-25d7fbf8c12f",
   "metadata": {},
   "outputs": [],
   "source": [
    "def plotThreads(t,s, name, title):\n",
    "\n",
    "    plt.rcParams.update({'font.size': 14})\n",
    "    plt.plot(t, s)\n",
    "    plt.title(title)\n",
    "    plt.xlabel(\"Number of threads\")\n",
    "    plt.ylabel(\"Execution time in seconds\")\n",
    "    plt.xlim(left=0)\n",
    "    plt.ylim(bottom=0)\n",
    "    plt.savefig(name)\n",
    "\n",
    "    plt.show()"
   ]
  },
  {
   "cell_type": "code",
   "execution_count": null,
   "id": "4d0f8af7-e6a7-475e-908d-81d606e6665a",
   "metadata": {},
   "outputs": [],
   "source": []
  }
 ],
 "metadata": {
  "kernelspec": {
   "display_name": "Python 3 (ipykernel)",
   "language": "python",
   "name": "python3"
  },
  "language_info": {
   "codemirror_mode": {
    "name": "ipython",
    "version": 3
   },
   "file_extension": ".py",
   "mimetype": "text/x-python",
   "name": "python",
   "nbconvert_exporter": "python",
   "pygments_lexer": "ipython3",
   "version": "3.8.8"
  }
 },
 "nbformat": 4,
 "nbformat_minor": 5
}
