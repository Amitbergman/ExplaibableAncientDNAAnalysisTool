{
 "cells": [
  {
   "cell_type": "code",
   "execution_count": 1,
   "id": "6c90d2ae-e1d4-4899-81a1-768ca55ffb52",
   "metadata": {},
   "outputs": [
    {
     "name": "stderr",
     "output_type": "stream",
     "text": [
      "2023-06-25 17:30:39.419501: I tensorflow/core/platform/cpu_feature_guard.cc:193] This TensorFlow binary is optimized with oneAPI Deep Neural Network Library (oneDNN) to use the following CPU instructions in performance-critical operations:  AVX2 AVX512F AVX512_VNNI FMA\n",
      "To enable them in other operations, rebuild TensorFlow with the appropriate compiler flags.\n",
      "2023-06-25 17:30:39.803917: I tensorflow/core/util/util.cc:169] oneDNN custom operations are on. You may see slightly different numerical results due to floating-point round-off errors from different computation orders. To turn them off, set the environment variable `TF_ENABLE_ONEDNN_OPTS=0`.\n",
      "2023-06-25 17:30:39.826034: W tensorflow/stream_executor/platform/default/dso_loader.cc:64] Could not load dynamic library 'libcudart.so.11.0'; dlerror: libcudart.so.11.0: cannot open shared object file: No such file or directory\n",
      "2023-06-25 17:30:39.826056: I tensorflow/stream_executor/cuda/cudart_stub.cc:29] Ignore above cudart dlerror if you do not have a GPU set up on your machine.\n",
      "2023-06-25 17:30:39.861228: E tensorflow/stream_executor/cuda/cuda_blas.cc:2981] Unable to register cuBLAS factory: Attempting to register factory for plugin cuBLAS when one has already been registered\n",
      "2023-06-25 17:30:40.616343: W tensorflow/stream_executor/platform/default/dso_loader.cc:64] Could not load dynamic library 'libnvinfer.so.7'; dlerror: libnvinfer.so.7: cannot open shared object file: No such file or directory\n",
      "2023-06-25 17:30:40.616425: W tensorflow/stream_executor/platform/default/dso_loader.cc:64] Could not load dynamic library 'libnvinfer_plugin.so.7'; dlerror: libnvinfer_plugin.so.7: cannot open shared object file: No such file or directory\n",
      "2023-06-25 17:30:40.616431: W tensorflow/compiler/tf2tensorrt/utils/py_utils.cc:38] TF-TRT Warning: Cannot dlopen some TensorRT libraries. If you would like to use Nvidia GPU with TensorRT, please make sure the missing libraries mentioned above are installed properly.\n"
     ]
    }
   ],
   "source": [
    "def warn(*args, **kwargs):\n",
    "    pass\n",
    "import warnings\n",
    "warnings.warn = warn\n",
    "import seaborn as sns\n",
    "from ExplainableMaximumLikelihoodCalculator import ExplainableMaximumLikelihoodCalculator\n",
    "import pysam\n",
    "from Bio import SeqIO, Seq, SeqRecord, pairwise2\n",
    "from Bio.pairwise2 import format_alignment\n",
    "from LoadDataUtils import getListOfReadsFromBamFile, getListOfReadsFromFastaFile\n",
    "import matplotlib.pyplot as plt\n",
    "import numpy as np\n",
    "import pandas as pd\n",
    "import random\n",
    "import math\n",
    "import shap\n",
    "from scipy.stats import chisquare\n",
    "from scipy.special import rel_entr\n",
    "fileNameSapiens =  \"data/simulatedData/human_chinese_AF346973_500samples.fas\" #File that contains 500 reads from homo sapiens\n",
    "fileNameNeanderthals =  \"data/simulatedData/Neanderthal_Goyet_KX198085_500samples.fas\" #File that contains 500 reads from neanderthal\n",
    "fileNameDenisovans =  \"data/simulatedData/denisova_kx663333_500samples.fas\" #File that contains 500 reads from denisovan\n",
    "neanderthals_500_generated = getListOfReadsFromFastaFile(fileNameNeanderthals)\n",
    "sapiens_500_generated = getListOfReadsFromFastaFile(fileNameSapiens)\n",
    "denisovan_500_samples = getListOfReadsFromFastaFile(fileNameDenisovans)\n",
    "path_to_frequencies_table = \"data/substitution_matrix.tsv\"\n",
    "import itertools\n",
    " \n",
    "def findsubsets(s, n):\n",
    "    subsets = list(itertools.combinations(s, n))\n",
    "    return [list(a) for a in subsets]"
   ]
  },
  {
   "cell_type": "code",
   "execution_count": 2,
   "id": "d68414ea-a32a-4451-824d-173059c9c521",
   "metadata": {},
   "outputs": [],
   "source": [
    "sapiens_reference_file_names = [\n",
    "                    \"data/reference_files/human_AF346981_French.fa\",\n",
    "                     \"data/reference_files/human_AY195760_Korea.fa\",\n",
    "                      \"data/reference_files/human_AY882416_Ethiopia.fa\",\n",
    "                      \"data/reference_files/human_AY963586_Italian.fa\",\n",
    "                      \"data/reference_files/human_AY195781_Caucasian.fa\",\n",
    "                      \"data/reference_files/human_AY195757_Iraqi-Israeli.fa\",\n",
    "                      \"data/reference_files/human_AY195749_NativeAmerican.fa\"]\n",
    "neanderthals_reference_file_names = [\n",
    "                            \"data/reference_files/neanderthal_mezmaiskaya1_FM865411.fa\",\n",
    "                           \"data/reference_files/Neanderthal_Altai_KC879692.fa\",\n",
    "                           \"data/reference_files/Neanderthal_Denisova11_full_mtDNA_KU131206.fa\",\n",
    "                           \"data/reference_files/Neanderthal_Spy_94a_MG025538.fa\",\n",
    "                            \"data/reference_files/Neanderthal_Vindija33.16_AM948965.fa\",\n",
    "                            \"data/reference_files/Neanderthal_Vindija33.19_KJ533545.fa\"]\n",
    "denisovan_reference_file_names = [  \n",
    "                        \"data/reference_files/Denisova_MT576653.1.fa\",\n",
    "                        \"data/reference_files/Denisova_MT576652.1.fa\",\n",
    "                        \"data/reference_files/Denisova_4_FR695060.fa\",\n",
    "                        \"data/reference_files/Denisova_8_KT780370.fa\",\n",
    "                        \"data/reference_files/Denisova_manual_phalanx_NC_013993.fa\",\n",
    "                        \"data/reference_files/Denisova_MT576651.1.fa\"]"
   ]
  },
  {
   "cell_type": "code",
   "execution_count": 3,
   "id": "a667e390-7d32-4e21-9d28-31c3d6a6db64",
   "metadata": {},
   "outputs": [],
   "source": [
    "def generate_sample(sap, nean, den):\n",
    "    list_before =  list(np.random.choice(sapiens_500_generated, sap)) + list(np.random.choice(neanderthals_500_generated, nean)) + list(np.random.choice(denisovan_500_samples, den))\n",
    "    l = []\n",
    "    for i in list_before:\n",
    "        l.append(str(i))\n",
    "    return l"
   ]
  },
  {
   "cell_type": "code",
   "execution_count": 37,
   "id": "f291d72f-588b-4066-899d-d2aaeaf099a8",
   "metadata": {},
   "outputs": [
    {
     "name": "stdout",
     "output_type": "stream",
     "text": [
      "39 7 4\n",
      "['TGTATTTCGTACATTACTGCCAGCCACCATGAATATTGCACGGTACCATAAATAC', 'ACGGACTTCACGTCATTATTGGCTTAACTTTCCTCACTATCTGCTTCATCCGCCAACTAATATTTCATTTT', 'TTATGAAACTTAAGGGTCGAAGGTGGATTTAGCAGTAAACTGAGAGTAGAGTGC', 'GTGGCTCCTTTAACCTCTCCACCCTTATCACAACACAAGAATACCTCTGATTACTCCTGCCATCATGACCCTTGGCCATAATAT', 'CGTTCAATATTACAGGCGAACATACTTACTAAAGTGTGTTAATTAATTAATGCTTGTAGGACATAATAATAACAATTG', 'CTACCCCGATGCATACACCACATGAAACATCCTATCATCTGTAGGCTCATTCATTTCTCTAACAGCAATAA', 'GTGACTATATGGATGCCCCCCACCCTACCACACATTTGAAGAACCCGTATACATAAAATCTAGACAAAAAAGGAAGGAATCGAACCCGCCAAAGT', 'TCACAAAAAACAATAGCCTCATCATCCCCACCATCATAGCCACCATCACCCTCCTTAACCTCTACTTCTACCTACGCTTAATCTACTCCACCT', 'TCAATACAACCCCCGCTCATCCTACCTAGCACACACACACCGCTGCTAACCCCATACCCCGAACCAACCAAACCCCAAAAACACCC', 'TAATCTCTACTTCTACCTACGCCTAATCTACTCCACCTCAATCACACTACTCC', 'AGCATCACCAGTATTAGAGGCACCGCCTGCTCAGTGAT', 'CATGCCTCAGGATACTCCTCAATAGCCATCGCTGTAG', 'AAATCTCCTTAATTATAACATTCACAGCCACAGAATTAATCATATTTTATAT', 'TCCACGCCTTCTTCAAAGCCATACTATTTATGTGCTCCGGGTCCATCATCCACAACCTTAACAATGAACAAGATATTCGAAAA', 'CCTCTTCAACAATATACTCTCCGGACAATGAACCATAACCAATACTACCAATCAATAT', 'AAGTAGGTCTACAAGACGCTACTTTCCCTATCATAGAAGAGCTTATTACCTTTCATGATCACGCCTTCAT', 'GCTGCTGGCATCACTATACTACTAATAGACCGCAACCTCAACACCACCTTCTTCGACCCCGCCGGAGGAGGAGATCCCA', 'TCACTATCATATTCATCGGCGTAAATCTAATTTTCTTCCCACAACACTTTCTCGGCCTATT', 'CCCTCAGTAAGTTGCAATACTTAATTTCTGTAACAGCTAAGGACTGCAAAACCCCACTCTGCATCAACTG', 'ATTATATACCAAATCTCTCCCTCACTAAACGTAAGCCTTCTCCTCACTCTCTCAATCTTATC', 'TACCTAACCAACAAACTTAAAATAAAATCCCCACTATGCACATTTTATTTCTCCAACATACTCGGATTCTACCCTACCATCACACATCGCACAATC', 'TAATCTCTACTTCTACCTACGCCTAATCTACTCCACCTCAATCACACTACTCC', 'TAGGAGGCCTGCCCCCGCTAACCGGCTTTTTGCCCAAATGGGTCATTA', 'TTAACCCTGACCCCTCTCCTTCATAAATTATTCAGCTTCCTACACTATTAAAGTTTACCACAACTAT', 'CATGCCTCAGGATACTCCTCAATAGCCATCGCTGTAG', 'TTGACTGGCATTGTATTAGCAAACTCATCACTAGACATCGTACTACACGACACGTACTACGTTGTAGCT', 'ACAATATTCATGTGCCTAGACCAAGAAGTTATTATCTCGAACTGACACTGAGCCATAACCCAAACAACCTAG', 'TCCTCCTTAACCTCTACTTCTACCTACGCCTAATCTACTCCACCTC', 'TATAATTAAACTTTACTTCCTCTCTTTCTTCTTCCCACTCATCCTAACCCTACTCCTAATCACATAACCTATTCCCTCGAGCA', 'AAGACAACCATCATTCCCCCTAAATAAATTAAAAAAACTATTAAACTCATATAACCTCCCCCAAAATT', 'TAGCCCCAAACCCACTCCACCTTACTACCAGACAACCTTAGCCAAACTATTTACTC', 'CCGGAGCACCCTATGTCGCAGTATCTGTCTTTGATTCCTGCCCCATCCTATTATTTATCGCATCTACG', 'CCATACCCATTACAATCTCCAGCATTTCCCCTCAAATCTAAGA', 'TTTACGACCCCTTATTTACCGAGAAAGCTCACAAGAATT', 'TTTAACACCACCTTCTTCGACCCCGCCGGAGGAGGAG', 'GACCTAACCATCTTCTCCTTACACCTAGCAGGTGTCTCCTCTATCTTAGGGGCCATCAACTTCATCACAACA', 'TCACAAAAAACAATAGCCTCATCATCCCCACCATCATAGCCACCATCACCCTCCTTAACCTCTACTTCTACCTACGCTTAATCTACTCCACCT', 'ATGCTTAGGCGCTATCACCACTCTGTTCGCAGCAGTC', 'TTTTTTCAAGGACAAATCAGAGAAAAAGTCTTTAACTCCACCATTAGCACTCAAAGCTAAGATTC', 'AAACCAAATCCAGCTATGCAAAATCTTAGCATACTCCTCAATTACCCACATAGGATGAATAATAGCAGTTCTACCGTACAACCCTAAC', 'CTTCTTACTACAAGGCACATCTACACCCCTTATCCCTATACTAGTTATTATCGAAACCATCAGCCTACTCATTCAACCAGTAGCCCT', 'GGCTCATTCATTTCTCTAACAGCAGTAATATTAATAATTTTC', 'TAGCCCTTATGAAACCTAAGGGTCGAAGGTGGATTTAGCAGTAAACTGA', 'ACTATCCCTATGGGGTATAATTATAACAAGCTCCATCTGCCTGCGACAAACAGACCTAAAA', 'TATCCGCCATCCCATACATTGGGACAGACCTGGTTCAGTG', 'TTCACCCCTTACGAGTGCGGCTTCGACCCTATATCCCCCGCCTGC', 'CATTGTATTAGTAAACTCATCACTAGACATCGTACTACACGACACG', 'TAAATAAGCTATCGGGCCCATACCCCGAAAATGTTGGTTATATCCTTCCTGTACTAATTAATCCCCTGGCCCAACCCGTCATCTACTCTACCA', 'GTTCCTACTTCAGGGTCATAAAGTCTAAATAGTCCACATGTTCCCTTTA', 'TATCATCTGCAGGCTCATTCATTTCTCTAACAGCAGTAATATTAATAATTTTCATAATTT']\n",
      "\u001b[34mLoading sequences and calculating alignments to all references, this might take a while. Number of reads: \u001b[0m 50\n",
      "start working on read number 0\n",
      "start working on read number 40\n"
     ]
    }
   ],
   "source": [
    "\n",
    "size_of_sample = 50\n",
    "number_of_sap = random.randint(0,size_of_sample)\n",
    "number_of_nean = ((size_of_sample-number_of_sap)*2)//3\n",
    "number_of_denisovan = size_of_sample - number_of_sap - number_of_nean\n",
    "print(number_of_sap, number_of_nean, number_of_denisovan)\n",
    "sample = generate_sample(number_of_sap, number_of_nean, number_of_denisovan)\n",
    "print(sample)\n",
    "maximum_likelihood_calculator_on_sample = ExplainableMaximumLikelihoodCalculator(sample,\n",
    "                                            ref_neanderthal_file_names=neanderthals_reference_file_names,\n",
    "                                            ref_sapien_file_names=sapiens_reference_file_names,\n",
    "                                            ref_denisovan_file_names=denisovan_reference_file_names,\n",
    "                                            path_to_substitution_matrix=path_to_frequencies_table,\n",
    "                                            number_of_jobs=-1)"
   ]
  },
  {
   "cell_type": "code",
   "execution_count": 39,
   "id": "605c033e-1ec7-462a-aebd-d143b692e8f0",
   "metadata": {},
   "outputs": [],
   "source": [
    "estimation = maximum_likelihood_calculator_on_sample.estimate_species_proportions(result_resolution=50)"
   ]
  },
  {
   "cell_type": "code",
   "execution_count": 40,
   "id": "3d98fe97-7bd7-4428-96d6-cc86a057deb3",
   "metadata": {},
   "outputs": [
    {
     "data": {
      "text/plain": [
       "array([[0.8 , 0.16, 0.04]])"
      ]
     },
     "execution_count": 40,
     "metadata": {},
     "output_type": "execute_result"
    }
   ],
   "source": [
    "estimation.values"
   ]
  },
  {
   "cell_type": "code",
   "execution_count": 41,
   "id": "b64c168b-5e0f-4c49-9ab6-e180bfe992e3",
   "metadata": {},
   "outputs": [],
   "source": [
    "est_b = maximum_likelihood_calculator_on_sample.estimate_species_proportions_gradient_descent(1)\n"
   ]
  },
  {
   "cell_type": "code",
   "execution_count": 42,
   "id": "a43674c6-3201-49e5-8b1a-51ae5aee6216",
   "metadata": {},
   "outputs": [
    {
     "data": {
      "text/html": [
       "<div>\n",
       "<style scoped>\n",
       "    .dataframe tbody tr th:only-of-type {\n",
       "        vertical-align: middle;\n",
       "    }\n",
       "\n",
       "    .dataframe tbody tr th {\n",
       "        vertical-align: top;\n",
       "    }\n",
       "\n",
       "    .dataframe thead th {\n",
       "        text-align: right;\n",
       "    }\n",
       "</style>\n",
       "<table border=\"1\" class=\"dataframe\">\n",
       "  <thead>\n",
       "    <tr style=\"text-align: right;\">\n",
       "      <th></th>\n",
       "      <th>Homo Sapiens</th>\n",
       "      <th>Neanderthals</th>\n",
       "      <th>Denisovans</th>\n",
       "    </tr>\n",
       "  </thead>\n",
       "  <tbody>\n",
       "    <tr>\n",
       "      <th>Estimation</th>\n",
       "      <td>0.8</td>\n",
       "      <td>0.16</td>\n",
       "      <td>0.04</td>\n",
       "    </tr>\n",
       "  </tbody>\n",
       "</table>\n",
       "</div>"
      ],
      "text/plain": [
       "            Homo Sapiens  Neanderthals  Denisovans\n",
       "Estimation           0.8          0.16        0.04"
      ]
     },
     "execution_count": 42,
     "metadata": {},
     "output_type": "execute_result"
    }
   ],
   "source": [
    "est_b"
   ]
  },
  {
   "cell_type": "code",
   "execution_count": 24,
   "id": "5eac153d-c484-4da1-9006-678406137f96",
   "metadata": {},
   "outputs": [
    {
     "data": {
      "text/plain": [
       "0.0"
      ]
     },
     "execution_count": 24,
     "metadata": {},
     "output_type": "execute_result"
    }
   ],
   "source": [
    "(est_b.values - estimation.values).sum()"
   ]
  },
  {
   "cell_type": "code",
   "execution_count": 43,
   "id": "6385b933-8a9f-4cec-b087-fd486a6ad169",
   "metadata": {},
   "outputs": [
    {
     "name": "stdout",
     "output_type": "stream",
     "text": [
      "[[0.8  0.16 0.04]]\n",
      "[[0.8  0.16 0.04]]\n",
      "[[0.8  0.16 0.04]]\n",
      "[[0.8  0.16 0.04]]\n",
      "[[0.8  0.16 0.04]]\n",
      "[[0.8  0.16 0.04]]\n",
      "[[0.8  0.16 0.04]]\n",
      "[[0.8  0.16 0.04]]\n",
      "[[0.8  0.16 0.04]]\n",
      "[[0.8  0.16 0.04]]\n",
      "[[0.8  0.16 0.04]]\n",
      "[[0.8  0.16 0.04]]\n",
      "[[0.8  0.16 0.04]]\n",
      "[[0.8  0.16 0.04]]\n",
      "[[0.8  0.16 0.04]]\n",
      "[[0.8  0.16 0.04]]\n",
      "[[0.8  0.16 0.04]]\n",
      "[[0.8  0.16 0.04]]\n",
      "[[0.8  0.16 0.04]]\n",
      "[[0.8  0.16 0.04]]\n",
      "[[0.8  0.16 0.04]]\n",
      "[[0.8  0.16 0.04]]\n",
      "[[0.8  0.16 0.04]]\n",
      "[[0.8  0.16 0.04]]\n",
      "[[0.8  0.16 0.04]]\n",
      "[[0.8  0.16 0.04]]\n",
      "[[0.8  0.16 0.04]]\n",
      "[[0.8  0.16 0.04]]\n",
      "[[0.8  0.16 0.04]]\n",
      "[[0.8  0.16 0.04]]\n",
      "[[0.8  0.16 0.04]]\n",
      "[[0.8  0.16 0.04]]\n",
      "[[0.8  0.16 0.04]]\n",
      "[[0.8  0.16 0.04]]\n",
      "[[0.8  0.16 0.04]]\n",
      "[[0.8  0.16 0.04]]\n",
      "[[0.8  0.16 0.04]]\n",
      "[[0.8  0.16 0.04]]\n",
      "[[0.8  0.16 0.04]]\n",
      "[[0.8  0.16 0.04]]\n",
      "[[0.8  0.16 0.04]]\n",
      "[[0.8  0.16 0.04]]\n",
      "[[0.8  0.16 0.04]]\n",
      "[[0.8  0.16 0.04]]\n",
      "[[0.8  0.16 0.04]]\n",
      "[[0.8  0.16 0.04]]\n",
      "[[0.8  0.16 0.04]]\n",
      "[[0.8  0.16 0.04]]\n",
      "[[0.8  0.16 0.04]]\n",
      "[[0.8  0.16 0.04]]\n",
      "[[0.8  0.16 0.04]]\n",
      "[[0.8  0.16 0.04]]\n",
      "[[0.8  0.16 0.04]]\n",
      "[[0.8  0.16 0.04]]\n",
      "[[0.8  0.16 0.04]]\n",
      "[[0.8  0.16 0.04]]\n",
      "[[0.8  0.16 0.04]]\n",
      "[[0.8  0.16 0.04]]\n",
      "[[0.8  0.16 0.04]]\n",
      "[[0.8  0.16 0.04]]\n",
      "[[0.8  0.16 0.04]]\n",
      "[[0.8  0.16 0.04]]\n",
      "[[0.8  0.16 0.04]]\n",
      "[[0.8  0.16 0.04]]\n",
      "[[0.8  0.16 0.04]]\n",
      "[[0.8  0.16 0.04]]\n",
      "[[0.8  0.16 0.04]]\n",
      "[[0.8  0.16 0.04]]\n",
      "[[0.8  0.16 0.04]]\n",
      "[[0.8  0.16 0.04]]\n",
      "[[0.8  0.16 0.04]]\n",
      "[[0.8  0.16 0.04]]\n",
      "[[0.8  0.16 0.04]]\n",
      "[[0.8  0.16 0.04]]\n",
      "[[0.8  0.16 0.04]]\n",
      "[[0.8  0.16 0.04]]\n",
      "[[0.8  0.16 0.04]]\n",
      "[[0.8  0.16 0.04]]\n",
      "[[0.8  0.16 0.04]]\n",
      "[[0.8  0.16 0.04]]\n",
      "[[0.8  0.16 0.04]]\n",
      "[[0.8  0.16 0.04]]\n",
      "[[0.8  0.16 0.04]]\n",
      "[[0.8  0.16 0.04]]\n",
      "[[0.8  0.16 0.04]]\n",
      "[[0.8  0.16 0.04]]\n",
      "[[0.8  0.16 0.04]]\n",
      "[[0.8  0.16 0.04]]\n",
      "[[0.8  0.16 0.04]]\n",
      "[[0.8  0.16 0.04]]\n",
      "[[0.8  0.16 0.04]]\n",
      "[[0.8  0.16 0.04]]\n",
      "[[0.8  0.16 0.04]]\n",
      "[[0.8  0.16 0.04]]\n",
      "[[0.8  0.16 0.04]]\n",
      "[[0.8  0.16 0.04]]\n",
      "[[0.8  0.16 0.04]]\n",
      "[[0.8  0.16 0.04]]\n",
      "[[0.8  0.16 0.04]]\n",
      "[[0.8  0.16 0.04]]\n"
     ]
    }
   ],
   "source": [
    "for i in range(100):\n",
    "    val = maximum_likelihood_calculator_on_sample.estimate_species_proportions_gradient_descent(3).values\n",
    "    diff = (est_b.values - val).sum()\n",
    "    print(val)\n",
    "    \n",
    "    "
   ]
  },
  {
   "cell_type": "code",
   "execution_count": null,
   "id": "21e6a5f5-26f6-4dfd-aef8-61df2e6a9d9b",
   "metadata": {},
   "outputs": [],
   "source": []
  }
 ],
 "metadata": {
  "kernelspec": {
   "display_name": "Python 3 (ipykernel)",
   "language": "python",
   "name": "python3"
  },
  "language_info": {
   "codemirror_mode": {
    "name": "ipython",
    "version": 3
   },
   "file_extension": ".py",
   "mimetype": "text/x-python",
   "name": "python",
   "nbconvert_exporter": "python",
   "pygments_lexer": "ipython3",
   "version": "3.8.8"
  }
 },
 "nbformat": 4,
 "nbformat_minor": 5
}
