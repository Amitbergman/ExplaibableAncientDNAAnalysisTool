{
 "cells": [
  {
   "cell_type": "code",
   "execution_count": 1,
   "id": "4c24df62-11a3-492e-9be4-9faef2950108",
   "metadata": {},
   "outputs": [
    {
     "name": "stderr",
     "output_type": "stream",
     "text": [
      "2023-08-12 10:57:59.792859: I tensorflow/core/platform/cpu_feature_guard.cc:193] This TensorFlow binary is optimized with oneAPI Deep Neural Network Library (oneDNN) to use the following CPU instructions in performance-critical operations:  AVX2 AVX512F AVX512_VNNI FMA\n",
      "To enable them in other operations, rebuild TensorFlow with the appropriate compiler flags.\n",
      "2023-08-12 10:58:00.752200: I tensorflow/core/util/util.cc:169] oneDNN custom operations are on. You may see slightly different numerical results due to floating-point round-off errors from different computation orders. To turn them off, set the environment variable `TF_ENABLE_ONEDNN_OPTS=0`.\n",
      "2023-08-12 10:58:01.041484: E tensorflow/stream_executor/cuda/cuda_blas.cc:2981] Unable to register cuBLAS factory: Attempting to register factory for plugin cuBLAS when one has already been registered\n",
      "2023-08-12 10:58:03.048881: W tensorflow/stream_executor/platform/default/dso_loader.cc:64] Could not load dynamic library 'libnvinfer.so.7'; dlerror: libnvinfer.so.7: cannot open shared object file: No such file or directory\n",
      "2023-08-12 10:58:03.049207: W tensorflow/stream_executor/platform/default/dso_loader.cc:64] Could not load dynamic library 'libnvinfer_plugin.so.7'; dlerror: libnvinfer_plugin.so.7: cannot open shared object file: No such file or directory\n",
      "2023-08-12 10:58:03.049222: W tensorflow/compiler/tf2tensorrt/utils/py_utils.cc:38] TF-TRT Warning: Cannot dlopen some TensorRT libraries. If you would like to use Nvidia GPU with TensorRT, please make sure the missing libraries mentioned above are installed properly.\n"
     ]
    }
   ],
   "source": [
    "def warn(*args, **kwargs):\n",
    "    pass\n",
    "import warnings\n",
    "warnings.warn = warn\n",
    "import seaborn as sns\n",
    "from ExplainableMaximumLikelihoodCalculator import ExplainableMaximumLikelihoodCalculator\n",
    "import pysam\n",
    "from Bio import SeqIO, Seq, SeqRecord, pairwise2\n",
    "from Bio.pairwise2 import format_alignment\n",
    "from LoadDataUtils import getListOfReadsFromBamFile, getListOfReadsFromFastaFile\n",
    "import matplotlib.pyplot as plt\n",
    "import numpy as np\n",
    "import pandas as pd\n",
    "import random\n",
    "import math\n",
    "import shap\n",
    "import numpy as np\n",
    "import time\n",
    "\n",
    "import matplotlib.pyplot as plt\n",
    "from scipy.stats import chisquare\n",
    "from scipy.special import rel_entr\n",
    "fileNameSapiens =  \"data/simulatedData/human_chinese_AF346973_500samples.fas\" #File that contains 500 reads from homo sapiens\n",
    "fileNameNeanderthals =  \"data/simulatedData/Neanderthal_Goyet_KX198085_500samples.fas\" #File that contains 500 reads from neanderthal\n",
    "fileNameDenisovans =  \"data/simulatedData/denisova_kx663333_500samples.fas\" #File that contains 500 reads from denisovan\n",
    "neanderthals_500_generated = getListOfReadsFromFastaFile(fileNameNeanderthals)\n",
    "sapiens_500_generated = getListOfReadsFromFastaFile(fileNameSapiens)\n",
    "denisovan_500_samples = getListOfReadsFromFastaFile(fileNameDenisovans)\n",
    "path_to_frequencies_table = \"data/substitution_matrix.tsv\""
   ]
  },
  {
   "cell_type": "code",
   "execution_count": 2,
   "id": "3ed0b0af-06c0-4734-bf32-f145015350ee",
   "metadata": {},
   "outputs": [],
   "source": [
    "sapiens_reference_file_names = [\n",
    "                    \"data/reference_files/human_AF346981_French.fa\",\n",
    "                     \"data/reference_files/human_AY195760_Korea.fa\",\n",
    "                      \"data/reference_files/human_AY882416_Ethiopia.fa\",\n",
    "                      \"data/reference_files/human_AY963586_Italian.fa\",\n",
    "                      \"data/reference_files/human_AY195781_Caucasian.fa\",\n",
    "                      \"data/reference_files/human_AY195757_Iraqi-Israeli.fa\",\n",
    "                      \"data/reference_files/human_AY195749_NativeAmerican.fa\"]\n",
    "neanderthals_reference_file_names = [\n",
    "                            \"data/reference_files/neanderthal_mezmaiskaya1_FM865411.fa\",\n",
    "                           \"data/reference_files/Neanderthal_Altai_KC879692.fa\",\n",
    "                           \"data/reference_files/Neanderthal_Denisova11_full_mtDNA_KU131206.fa\",\n",
    "                           \"data/reference_files/Neanderthal_Spy_94a_MG025538.fa\",\n",
    "                            \"data/reference_files/Neanderthal_Vindija33.16_AM948965.fa\",\n",
    "                            \"data/reference_files/Neanderthal_Vindija33.19_KJ533545.fa\"]\n",
    "denisovan_reference_file_names = [  \n",
    "                        \"data/reference_files/Denisova_MT576653.1.fa\",\n",
    "                        \"data/reference_files/Denisova_MT576652.1.fa\",\n",
    "                        \"data/reference_files/Denisova_4_FR695060.fa\",\n",
    "                        \"data/reference_files/Denisova_8_KT780370.fa\",\n",
    "                        \"data/reference_files/Denisova_manual_phalanx_NC_013993.fa\",\n",
    "                        \"data/reference_files/Denisova_MT576651.1.fa\"]"
   ]
  },
  {
   "cell_type": "code",
   "execution_count": 3,
   "id": "87f99a53-c737-4912-bed7-73b19f0f2964",
   "metadata": {},
   "outputs": [],
   "source": [
    "def plot(t,s, name, title):\n",
    "\n",
    "    plt.rcParams.update({'font.size': 14})\n",
    "    plt.plot(t, s)\n",
    "    plt.title(title)\n",
    "    plt.xlabel(\"Number of samples per sequence\")\n",
    "    plt.ylabel(\"Percentage of correct explanation values\")\n",
    "    \n",
    "    plt.savefig(name)\n",
    "\n",
    "    plt.show()"
   ]
  },
  {
   "cell_type": "code",
   "execution_count": 4,
   "id": "8b9bb5cc-2b73-44b3-87e1-3e5bc7094ca4",
   "metadata": {},
   "outputs": [],
   "source": [
    "def generate_sample(sap, nean, den):\n",
    "    list_before =  list(np.random.choice(sapiens_500_generated, sap)) + list(np.random.choice(neanderthals_500_generated, nean)) + list(np.random.choice(denisovan_500_samples, den))\n",
    "    l = []\n",
    "    for i in list_before:\n",
    "        l.append(str(i))\n",
    "    return l"
   ]
  },
  {
   "cell_type": "code",
   "execution_count": 5,
   "id": "62fc5573-72da-4653-abb1-301fb9646702",
   "metadata": {},
   "outputs": [],
   "source": [
    "from itertools import combinations\n",
    "\n",
    "def find_all_subsets(group):\n",
    "    all_subsets = []\n",
    "    n = len(group)\n",
    "    \n",
    "    for r in range(n + 1):\n",
    "        subsets_r = combinations(group, r)\n",
    "        all_subsets.extend(list(subsets_r))\n",
    "        \n",
    "    return all_subsets"
   ]
  },
  {
   "cell_type": "code",
   "execution_count": 6,
   "id": "0aa91ea8-ce61-4875-b35e-881a254b9869",
   "metadata": {},
   "outputs": [],
   "source": [
    "def calculate_shapley_values_for_datum(data_point, length_of_data, ml_calculator):\n",
    "    indexes_without_datum = [i for i in range(length_of_data) if i != data_point]\n",
    "    all_subsets = find_all_subsets(indexes_without_datum)\n",
    "    sum_over_all_subsets = 0 \n",
    "    for G in all_subsets:\n",
    "        g_with = [i for i in G]\n",
    "        g_with.append(data_point)\n",
    "        with_datum = ml_calculator.calc_maximum_likelihood_on_subset(subset_of_indexes=g_with).values[0]\n",
    "        without_datum = ml_calculator.calc_maximum_likelihood_on_subset(subset_of_indexes=G).values[0]\n",
    "        with_minus_without = with_datum - without_datum\n",
    "        multiplier = np.math.factorial(len(G)) * np.math.factorial(length_of_data - len(G) - 1)\n",
    "        value_for_sum = with_minus_without * multiplier \n",
    "        sum_over_all_subsets += value_for_sum\n",
    "    shapleys = sum_over_all_subsets / np.math.factorial(length_of_data)\n",
    "    return  shapleys"
   ]
  },
  {
   "cell_type": "code",
   "execution_count": 7,
   "id": "3129ad63-3c4f-4c36-9c82-88b26a14c409",
   "metadata": {},
   "outputs": [],
   "source": [
    "def calculate_l_1_distance(vector_a, vector_b):\n",
    "    a = np.array(vector_a)\n",
    "    b = np.array(vector_b)\n",
    "    return np.linalg.norm((a - b), ord=1)\n"
   ]
  },
  {
   "cell_type": "code",
   "execution_count": 8,
   "id": "65e4ba82-87f0-4e35-a269-bd24901554b2",
   "metadata": {},
   "outputs": [],
   "source": [
    "def get_highest_dist(vector_a, vector_b):\n",
    "    a = np.array(vector_a)\n",
    "    b = np.array(vector_b)\n",
    "    return np.abs(a-b).max()"
   ]
  },
  {
   "cell_type": "code",
   "execution_count": 9,
   "id": "2d19519f-78ac-414b-a743-993802cde256",
   "metadata": {},
   "outputs": [],
   "source": [
    "def getOrderedValues(values, data_len):\n",
    "    ordered_values = []\n",
    "    for i in range(data_len):\n",
    "        shapley_of_datum = [k[0][i] for k in values]\n",
    "        ordered_values.append(shapley_of_datum)\n",
    "    return ordered_values"
   ]
  },
  {
   "cell_type": "code",
   "execution_count": 10,
   "id": "37d4f2d1-93e1-4acc-bdd3-21c4fe9f3d49",
   "metadata": {},
   "outputs": [],
   "source": [
    "def number_of_sign_agrees(vector_a, vector_b):\n",
    "    count = 0\n",
    "    for i in range(len(vector_a)):\n",
    "        if (vector_a[i] * vector_b[i] > 0):\n",
    "            count+=1\n",
    "    return count"
   ]
  },
  {
   "cell_type": "code",
   "execution_count": null,
   "id": "c4fb5890-e594-4107-a85f-973894264905",
   "metadata": {},
   "outputs": [],
   "source": [
    "def accuracy_a_d_s(a_d_s_values, ground_truth):\n",
    "    count_correct = 0\n",
    "    count = 0\n",
    "    for label in range(3):\n",
    "        first_label_a_d = a_d_s_values[label][0]\n",
    "        first_label_gt = [i[label] for i in ground_truth]\n",
    "        for i in range(len(first_label_gt)):\n",
    "            if(first_label_a_d[i] * first_label_gt[i] > 0):\n",
    "                count_correct +=1\n",
    "            count +=1\n",
    "    return count_correct / count"
   ]
  },
  {
   "cell_type": "code",
   "execution_count": 91,
   "id": "0674e294-5eed-4499-9f8a-1334899a653e",
   "metadata": {},
   "outputs": [],
   "source": [
    "def calculate_distance_of_shap_and_mc_to_ground_truth_shapleys(data, ground_truth_shapleys, sample_sizes):\n",
    "    results = []\n",
    "    \n",
    "    data_size = len(data)\n",
    "    for sample_size in sample_sizes:\n",
    "        print(sample_size)\n",
    "        time_before_shap = time.time()\n",
    " \n",
    "        shaps = maximum_likelihood_calculator_d_1.calculate_shapley_values(sample_size)\n",
    "        shaps_ordered = getOrderedValues(shaps, len(data))\n",
    "        \n",
    "        time_after_shap = time.time()\n",
    "        \n",
    "        shapley_values_monte_carlo = maximum_likelihood_calculator_d_1.estimate_shapley_values(number_of_samples_per_read = sample_size)\n",
    "        mc_ordered = getOrderedValues(shapley_values_monte_carlo, len(data))\n",
    "        \n",
    "        time_after_mc = time.time()\n",
    "        \n",
    "        time_shap_took = time_after_shap - time_before_shap\n",
    "        time_mc_took = time_after_mc - time_after_shap\n",
    "        \n",
    "        sum_of_distances_shap = 0\n",
    "        highest_dist_shap = 0\n",
    "        number_of_sign_agrees_shap = 0\n",
    "        for i in range(len(data)):\n",
    "            sum_of_distances_shap += calculate_l_1_distance(shaps_ordered[i], ground_truth_shapleys[i])\n",
    "            highest_current = get_highest_dist(shaps_ordered[i], ground_truth_shapleys[i])\n",
    "            if (highest_current > highest_dist_shap):\n",
    "                highest_dist_shap = highest_current\n",
    "            number_of_sign_agrees_shap += number_of_sign_agrees(shaps_ordered[i], ground_truth_shapleys[i])\n",
    "            \n",
    "        number_of_sign_agrees_mc = 0\n",
    "        highest_dist_mc = 0\n",
    "        sum_of_distances_mc = 0\n",
    "        for i in range(len(data)):\n",
    "            sum_of_distances_mc += calculate_l_1_distance(mc_ordered[i], ground_truth_shapleys[i])\n",
    "            highest_current = get_highest_dist(mc_ordered[i], ground_truth_shapleys[i])\n",
    "            if (highest_current > highest_dist_mc):\n",
    "                highest_dist_mc = highest_current\n",
    "            number_of_sign_agrees_mc += number_of_sign_agrees(mc_ordered[i], ground_truth_shapleys[i])\n",
    "        \n",
    "        number_of_indexes = data_size * 3\n",
    "        results.append((sample_size, sum_of_distances_shap, highest_dist_shap, sum_of_distances_mc, highest_dist_mc, time_shap_took, time_mc_took, number_of_sign_agrees_shap/number_of_indexes, number_of_sign_agrees_mc/number_of_indexes))\n",
    "    return results\n",
    "    \n",
    "    "
   ]
  },
  {
   "cell_type": "code",
   "execution_count": 92,
   "id": "f00c90fd-42a1-49ba-a620-84e4e4e2a12b",
   "metadata": {},
   "outputs": [],
   "source": [
    "all_results = []"
   ]
  },
  {
   "cell_type": "code",
   "execution_count": 96,
   "id": "cc22a483-fbe9-4ba8-bbab-a24af50e1302",
   "metadata": {},
   "outputs": [
    {
     "name": "stdout",
     "output_type": "stream",
     "text": [
      "\u001b[34mLoading sequences and calculating alignments to all references, this might take a while. Number of reads: \u001b[0m 12\n",
      "start working on read number 0\n",
      "starting to calculate ground truth shapleys\n",
      "0\n",
      "1\n",
      "2\n",
      "3\n",
      "4\n",
      "5\n",
      "6\n",
      "7\n",
      "8\n",
      "9\n",
      "10\n",
      "11\n",
      "ground  truth shapleys:\n",
      "[array([-3.96825397e-05,  1.09841270e-01, -1.09801587e-01]), array([ 0.42      , -0.24251984, -0.17748016]), array([-0.0275 , -0.02125,  0.04875]), array([-0.0275 , -0.02125,  0.04875]), array([-0.04867063,  0.19052579, -0.14185516]), array([-0.11950397,  0.24021825, -0.12071429]), array([ 0.01243056,  0.13747024, -0.14990079]), array([-0.11117063,  0.2409623 , -0.12979167]), array([-0.11083333, -0.13357143,  0.24440476]), array([-0.0303869 , -0.03196429,  0.06235119]), array([-0.11734127, -0.14656746,  0.26390873]), array([ 0.08051587, -0.20189484,  0.12137897])]\n",
      "1\n",
      "1\n"
     ]
    },
    {
     "data": {
      "application/vnd.jupyter.widget-view+json": {
       "model_id": "a6c70abd365741a38cad9357f7b80114",
       "version_major": 2,
       "version_minor": 0
      },
      "text/plain": [
       "  0%|          | 0/1 [00:00<?, ?it/s]"
      ]
     },
     "metadata": {},
     "output_type": "display_data"
    },
    {
     "name": "stdout",
     "output_type": "stream",
     "text": [
      "1\n",
      "1\n",
      "5\n",
      "1\n"
     ]
    },
    {
     "data": {
      "application/vnd.jupyter.widget-view+json": {
       "model_id": "639e932630bd4e5d94c72bfb185b68d9",
       "version_major": 2,
       "version_minor": 0
      },
      "text/plain": [
       "  0%|          | 0/1 [00:00<?, ?it/s]"
      ]
     },
     "metadata": {},
     "output_type": "display_data"
    },
    {
     "name": "stdout",
     "output_type": "stream",
     "text": [
      "1\n",
      "5\n",
      "10\n",
      "1\n"
     ]
    },
    {
     "data": {
      "application/vnd.jupyter.widget-view+json": {
       "model_id": "e2e96517fbc34d3e8500578d9a99e948",
       "version_major": 2,
       "version_minor": 0
      },
      "text/plain": [
       "  0%|          | 0/1 [00:00<?, ?it/s]"
      ]
     },
     "metadata": {},
     "output_type": "display_data"
    },
    {
     "name": "stdout",
     "output_type": "stream",
     "text": [
      "1\n",
      "10\n",
      "20\n",
      "1\n"
     ]
    },
    {
     "data": {
      "application/vnd.jupyter.widget-view+json": {
       "model_id": "2869f8ff612546508f548f4be238e7d1",
       "version_major": 2,
       "version_minor": 0
      },
      "text/plain": [
       "  0%|          | 0/1 [00:00<?, ?it/s]"
      ]
     },
     "metadata": {},
     "output_type": "display_data"
    },
    {
     "name": "stdout",
     "output_type": "stream",
     "text": [
      "1\n",
      "20\n",
      "30\n",
      "1\n"
     ]
    },
    {
     "data": {
      "application/vnd.jupyter.widget-view+json": {
       "model_id": "cbb22d4206204dc5a27439bef54a79a6",
       "version_major": 2,
       "version_minor": 0
      },
      "text/plain": [
       "  0%|          | 0/1 [00:00<?, ?it/s]"
      ]
     },
     "metadata": {},
     "output_type": "display_data"
    },
    {
     "name": "stdout",
     "output_type": "stream",
     "text": [
      "1\n",
      "30\n",
      "50\n",
      "1\n"
     ]
    },
    {
     "data": {
      "application/vnd.jupyter.widget-view+json": {
       "model_id": "1dc42ff916fd4860981dd88b34ba24aa",
       "version_major": 2,
       "version_minor": 0
      },
      "text/plain": [
       "  0%|          | 0/1 [00:00<?, ?it/s]"
      ]
     },
     "metadata": {},
     "output_type": "display_data"
    },
    {
     "name": "stdout",
     "output_type": "stream",
     "text": [
      "1\n",
      "50\n",
      "100\n",
      "1\n"
     ]
    },
    {
     "data": {
      "application/vnd.jupyter.widget-view+json": {
       "model_id": "279a662436e245b097f9c286eac18cb9",
       "version_major": 2,
       "version_minor": 0
      },
      "text/plain": [
       "  0%|          | 0/1 [00:00<?, ?it/s]"
      ]
     },
     "metadata": {},
     "output_type": "display_data"
    },
    {
     "name": "stdout",
     "output_type": "stream",
     "text": [
      "1\n",
      "100\n",
      "200\n",
      "1\n"
     ]
    },
    {
     "data": {
      "application/vnd.jupyter.widget-view+json": {
       "model_id": "bb20c8b1db5049549a643f60f889a977",
       "version_major": 2,
       "version_minor": 0
      },
      "text/plain": [
       "  0%|          | 0/1 [00:00<?, ?it/s]"
      ]
     },
     "metadata": {},
     "output_type": "display_data"
    },
    {
     "name": "stdout",
     "output_type": "stream",
     "text": [
      "1\n",
      "200\n",
      "400\n",
      "1\n"
     ]
    },
    {
     "data": {
      "application/vnd.jupyter.widget-view+json": {
       "model_id": "13aff2aa782a44abadc8fb5f984a54b5",
       "version_major": 2,
       "version_minor": 0
      },
      "text/plain": [
       "  0%|          | 0/1 [00:00<?, ?it/s]"
      ]
     },
     "metadata": {},
     "output_type": "display_data"
    },
    {
     "name": "stdout",
     "output_type": "stream",
     "text": [
      "1\n",
      "400\n",
      "600\n",
      "1\n"
     ]
    },
    {
     "data": {
      "application/vnd.jupyter.widget-view+json": {
       "model_id": "d258b4ea46c64b15a1ed9e573878456a",
       "version_major": 2,
       "version_minor": 0
      },
      "text/plain": [
       "  0%|          | 0/1 [00:00<?, ?it/s]"
      ]
     },
     "metadata": {},
     "output_type": "display_data"
    },
    {
     "name": "stdout",
     "output_type": "stream",
     "text": [
      "1\n",
      "600\n",
      "800\n",
      "1\n"
     ]
    },
    {
     "data": {
      "application/vnd.jupyter.widget-view+json": {
       "model_id": "a1719ac3287141e18e8f32f0e0196e5b",
       "version_major": 2,
       "version_minor": 0
      },
      "text/plain": [
       "  0%|          | 0/1 [00:00<?, ?it/s]"
      ]
     },
     "metadata": {},
     "output_type": "display_data"
    },
    {
     "name": "stdout",
     "output_type": "stream",
     "text": [
      "1\n",
      "800\n",
      "1000\n",
      "1\n"
     ]
    },
    {
     "data": {
      "application/vnd.jupyter.widget-view+json": {
       "model_id": "751f1f7bbcc94ae58c90c765b8a07af0",
       "version_major": 2,
       "version_minor": 0
      },
      "text/plain": [
       "  0%|          | 0/1 [00:00<?, ?it/s]"
      ]
     },
     "metadata": {},
     "output_type": "display_data"
    },
    {
     "name": "stdout",
     "output_type": "stream",
     "text": [
      "1\n",
      "1000\n",
      "[(1, 4.443015873015872, 0.42, 3.9323214285714285, 0.5325297619047619, 0.9676532745361328, 0.4947483539581299, 0.0, 0.5), (5, 5.626964285714285, 0.6298015873015873, 2.7617103174603175, 0.2741984126984127, 1.0011882781982422, 2.5541460514068604, 0.1111111111111111, 0.9722222222222222), (10, 3.3890277777777778, 0.2639087301587302, 1.7712063492063497, 0.1714801587301587, 1.0189135074615479, 4.998800039291382, 0.2777777777777778, 0.8333333333333334), (20, 5.308603592314116, 0.4832500000000006, 0.8407976190476191, 0.06902579365079362, 1.1065828800201416, 10.61689567565918, 0.4722222222222222, 1.0), (30, 2.446025751820906, 0.5270146212847554, 0.8542579365079361, 0.07915873015873016, 1.1619789600372314, 14.858620882034302, 0.6944444444444444, 1.0), (50, 1.788778537949271, 0.14695779235005074, 0.718326984126984, 0.05399999999999994, 1.3303864002227783, 26.010924339294434, 0.8055555555555556, 0.9722222222222222), (100, 0.8278007856579709, 0.06198424365280156, 0.46897698412698396, 0.04165873015872999, 2.27578067779541, 52.26693820953369, 0.8611111111111112, 1.0), (200, 0.3582924804064009, 0.0263730113121104, 0.3210873015873009, 0.023344841269841127, 2.9701790809631348, 107.00057411193848, 0.8888888888888888, 1.0), (400, 0.32340648972704444, 0.03142609286015313, 0.3397547619047621, 0.030218253968254172, 5.241470098495483, 203.07880401611328, 0.8888888888888888, 1.0), (600, 0.21301617632839676, 0.015827433267645637, 0.2787650793650774, 0.01796666666666681, 7.5707848072052, 302.21429538726807, 0.9444444444444444, 1.0), (800, 0.26854128834718355, 0.026298208867555226, 0.2066210317460303, 0.015749999999999972, 9.998533725738525, 411.42526626586914, 0.9444444444444444, 1.0), (1000, 0.1713656866996891, 0.014058518625807741, 0.21299539682539453, 0.019044126984127524, 12.921245813369751, 536.3127241134644, 0.9722222222222222, 1.0)]\n",
      "\u001b[34mLoading sequences and calculating alignments to all references, this might take a while. Number of reads: \u001b[0m 12\n",
      "start working on read number 0\n",
      "starting to calculate ground truth shapleys\n",
      "0\n",
      "1\n",
      "2\n",
      "3\n",
      "4\n",
      "5\n",
      "6\n",
      "7\n",
      "8\n",
      "9\n",
      "10\n",
      "11\n",
      "ground  truth shapleys:\n",
      "[array([ 0.10645202, -0.15944174,  0.05298972]), array([ 0.37756674, -0.2010588 , -0.17650794]), array([-0.03117424, -0.02041667,  0.05159091]), array([ 0.00143579,  0.15605429, -0.15749008]), array([ 0.01498737, -0.03248737,  0.0175    ]), array([-0.12767136,  0.27142136, -0.14375   ]), array([-0.12796898,  0.27171898, -0.14375   ]), array([ 0.04806367,  0.1109145 , -0.15897817]), array([-0.10511544, -0.11078734,  0.21590278]), array([-0.10630231, -0.10960047,  0.21590278]), array([-0.0562031 , -0.01448413,  0.07068723]), array([-0.09907017, -0.11683261,  0.21590278])]\n",
      "1\n",
      "1\n"
     ]
    },
    {
     "data": {
      "application/vnd.jupyter.widget-view+json": {
       "model_id": "5f143516cfd14771892a0d82583101e0",
       "version_major": 2,
       "version_minor": 0
      },
      "text/plain": [
       "  0%|          | 0/1 [00:00<?, ?it/s]"
      ]
     },
     "metadata": {},
     "output_type": "display_data"
    },
    {
     "name": "stdout",
     "output_type": "stream",
     "text": [
      "1\n",
      "1\n",
      "5\n",
      "1\n"
     ]
    },
    {
     "data": {
      "application/vnd.jupyter.widget-view+json": {
       "model_id": "6c11fc62830e4a12a1ec9a7b0cab19e1",
       "version_major": 2,
       "version_minor": 0
      },
      "text/plain": [
       "  0%|          | 0/1 [00:00<?, ?it/s]"
      ]
     },
     "metadata": {},
     "output_type": "display_data"
    },
    {
     "name": "stdout",
     "output_type": "stream",
     "text": [
      "1\n",
      "5\n",
      "10\n",
      "1\n"
     ]
    },
    {
     "data": {
      "application/vnd.jupyter.widget-view+json": {
       "model_id": "aabb89f3df604fb58af25400e5d7c9a0",
       "version_major": 2,
       "version_minor": 0
      },
      "text/plain": [
       "  0%|          | 0/1 [00:00<?, ?it/s]"
      ]
     },
     "metadata": {},
     "output_type": "display_data"
    },
    {
     "name": "stdout",
     "output_type": "stream",
     "text": [
      "1\n",
      "10\n",
      "20\n",
      "1\n"
     ]
    },
    {
     "data": {
      "application/vnd.jupyter.widget-view+json": {
       "model_id": "ffd78971e1db496c8062e48237d6a038",
       "version_major": 2,
       "version_minor": 0
      },
      "text/plain": [
       "  0%|          | 0/1 [00:00<?, ?it/s]"
      ]
     },
     "metadata": {},
     "output_type": "display_data"
    },
    {
     "name": "stdout",
     "output_type": "stream",
     "text": [
      "1\n",
      "20\n",
      "30\n",
      "1\n"
     ]
    },
    {
     "data": {
      "application/vnd.jupyter.widget-view+json": {
       "model_id": "c994cb4470fb478ca96740b245f96eda",
       "version_major": 2,
       "version_minor": 0
      },
      "text/plain": [
       "  0%|          | 0/1 [00:00<?, ?it/s]"
      ]
     },
     "metadata": {},
     "output_type": "display_data"
    },
    {
     "name": "stdout",
     "output_type": "stream",
     "text": [
      "1\n",
      "30\n",
      "50\n",
      "1\n"
     ]
    },
    {
     "data": {
      "application/vnd.jupyter.widget-view+json": {
       "model_id": "a33e94f364254610ba27586d5ee334cd",
       "version_major": 2,
       "version_minor": 0
      },
      "text/plain": [
       "  0%|          | 0/1 [00:00<?, ?it/s]"
      ]
     },
     "metadata": {},
     "output_type": "display_data"
    },
    {
     "name": "stdout",
     "output_type": "stream",
     "text": [
      "1\n",
      "50\n",
      "100\n",
      "1\n"
     ]
    },
    {
     "data": {
      "application/vnd.jupyter.widget-view+json": {
       "model_id": "1a1fb4a8d8224e939e98d6e09ff81c95",
       "version_major": 2,
       "version_minor": 0
      },
      "text/plain": [
       "  0%|          | 0/1 [00:00<?, ?it/s]"
      ]
     },
     "metadata": {},
     "output_type": "display_data"
    },
    {
     "name": "stdout",
     "output_type": "stream",
     "text": [
      "1\n",
      "100\n",
      "200\n",
      "1\n"
     ]
    },
    {
     "data": {
      "application/vnd.jupyter.widget-view+json": {
       "model_id": "aa44ccda969e49cc8651976113846ad5",
       "version_major": 2,
       "version_minor": 0
      },
      "text/plain": [
       "  0%|          | 0/1 [00:00<?, ?it/s]"
      ]
     },
     "metadata": {},
     "output_type": "display_data"
    },
    {
     "name": "stdout",
     "output_type": "stream",
     "text": [
      "1\n",
      "200\n",
      "400\n",
      "1\n"
     ]
    },
    {
     "data": {
      "application/vnd.jupyter.widget-view+json": {
       "model_id": "4a8d784f5b9d481c972e29710c221691",
       "version_major": 2,
       "version_minor": 0
      },
      "text/plain": [
       "  0%|          | 0/1 [00:00<?, ?it/s]"
      ]
     },
     "metadata": {},
     "output_type": "display_data"
    },
    {
     "name": "stdout",
     "output_type": "stream",
     "text": [
      "1\n",
      "400\n",
      "600\n",
      "1\n"
     ]
    },
    {
     "data": {
      "application/vnd.jupyter.widget-view+json": {
       "model_id": "acba6bdeae8e49f1bfe46b48d758470f",
       "version_major": 2,
       "version_minor": 0
      },
      "text/plain": [
       "  0%|          | 0/1 [00:00<?, ?it/s]"
      ]
     },
     "metadata": {},
     "output_type": "display_data"
    },
    {
     "name": "stdout",
     "output_type": "stream",
     "text": [
      "1\n",
      "600\n",
      "800\n",
      "1\n"
     ]
    },
    {
     "data": {
      "application/vnd.jupyter.widget-view+json": {
       "model_id": "11bc350c58614c4d91170b6a2adc5449",
       "version_major": 2,
       "version_minor": 0
      },
      "text/plain": [
       "  0%|          | 0/1 [00:00<?, ?it/s]"
      ]
     },
     "metadata": {},
     "output_type": "display_data"
    },
    {
     "name": "stdout",
     "output_type": "stream",
     "text": [
      "1\n",
      "800\n",
      "1000\n",
      "1\n"
     ]
    },
    {
     "data": {
      "application/vnd.jupyter.widget-view+json": {
       "model_id": "ad98fc929ef44755a3581c9186c3e96c",
       "version_major": 2,
       "version_minor": 0
      },
      "text/plain": [
       "  0%|          | 0/1 [00:00<?, ?it/s]"
      ]
     },
     "metadata": {},
     "output_type": "display_data"
    },
    {
     "name": "stdout",
     "output_type": "stream",
     "text": [
      "1\n",
      "1000\n",
      "[(1, 4.443015873015872, 0.42, 3.9323214285714285, 0.5325297619047619, 0.9676532745361328, 0.4947483539581299, 0.0, 0.5), (5, 5.626964285714285, 0.6298015873015873, 2.7617103174603175, 0.2741984126984127, 1.0011882781982422, 2.5541460514068604, 0.1111111111111111, 0.9722222222222222), (10, 3.3890277777777778, 0.2639087301587302, 1.7712063492063497, 0.1714801587301587, 1.0189135074615479, 4.998800039291382, 0.2777777777777778, 0.8333333333333334), (20, 5.308603592314116, 0.4832500000000006, 0.8407976190476191, 0.06902579365079362, 1.1065828800201416, 10.61689567565918, 0.4722222222222222, 1.0), (30, 2.446025751820906, 0.5270146212847554, 0.8542579365079361, 0.07915873015873016, 1.1619789600372314, 14.858620882034302, 0.6944444444444444, 1.0), (50, 1.788778537949271, 0.14695779235005074, 0.718326984126984, 0.05399999999999994, 1.3303864002227783, 26.010924339294434, 0.8055555555555556, 0.9722222222222222), (100, 0.8278007856579709, 0.06198424365280156, 0.46897698412698396, 0.04165873015872999, 2.27578067779541, 52.26693820953369, 0.8611111111111112, 1.0), (200, 0.3582924804064009, 0.0263730113121104, 0.3210873015873009, 0.023344841269841127, 2.9701790809631348, 107.00057411193848, 0.8888888888888888, 1.0), (400, 0.32340648972704444, 0.03142609286015313, 0.3397547619047621, 0.030218253968254172, 5.241470098495483, 203.07880401611328, 0.8888888888888888, 1.0), (600, 0.21301617632839676, 0.015827433267645637, 0.2787650793650774, 0.01796666666666681, 7.5707848072052, 302.21429538726807, 0.9444444444444444, 1.0), (800, 0.26854128834718355, 0.026298208867555226, 0.2066210317460303, 0.015749999999999972, 9.998533725738525, 411.42526626586914, 0.9444444444444444, 1.0), (1000, 0.1713656866996891, 0.014058518625807741, 0.21299539682539453, 0.019044126984127524, 12.921245813369751, 536.3127241134644, 0.9722222222222222, 1.0), (1, 4.398181818181818, 0.3775667388167388, 3.529830447330447, 0.39857864357864353, 0.9409890174865723, 0.4667685031890869, 0.0, 0.6944444444444444), (5, 4.5668722943722955, 0.3775667388167388, 2.4397294372294374, 0.19003102453102452, 0.9869785308837891, 2.4245567321777344, 0.08333333333333333, 0.8888888888888888), (10, 4.7026443001443, 0.41606421356421314, 1.2242781385281387, 0.08639953102453103, 1.00632905960083, 4.98859429359436, 0.3333333333333333, 0.9166666666666666), (20, 3.3466644093677482, 0.27171897546897544, 1.474235930735931, 0.10393326118326113, 1.135087251663208, 11.13571286201477, 0.4166666666666667, 0.9722222222222222), (30, 2.3794364687100273, 0.169376604786114, 1.1298564213564215, 0.07794119769119767, 1.3239431381225586, 17.063701391220093, 0.5277777777777778, 0.9166666666666666), (50, 1.881655694429032, 0.16423049122771197, 0.6556676767676767, 0.05341028138528136, 1.4696855545043945, 24.723631858825684, 0.8333333333333334, 0.9166666666666666), (100, 0.8385622015254565, 0.09792509149433361, 0.6618725108225104, 0.06461028138528133, 1.9072468280792236, 48.93336343765259, 0.8888888888888888, 0.9444444444444444), (200, 0.4556552503289836, 0.05188856689828927, 0.510054329004329, 0.058552020202020286, 3.0610175132751465, 136.59093523025513, 0.9166666666666666, 0.9722222222222222), (400, 0.4552990400178666, 0.04976733262812265, 0.438442063492064, 0.052652020202020325, 5.265297889709473, 201.63228297233582, 0.9722222222222222, 0.9444444444444444), (600, 0.4276504608439886, 0.04504163163280779, 0.3607050505050512, 0.04439999999999997, 7.655845403671265, 296.42506670951843, 0.9444444444444444, 0.9444444444444444), (800, 0.40721700147703016, 0.0552141230590015, 0.37807637085136825, 0.04142499999999997, 9.896599054336548, 396.63388562202454, 0.9444444444444444, 0.9722222222222222), (1000, 0.33306341965512504, 0.04431206395062946, 0.318700476190468, 0.04015999999999998, 12.066482543945312, 495.2029917240143, 0.9722222222222222, 0.9722222222222222)]\n"
     ]
    }
   ],
   "source": [
    "sample_sizes = [1,5,10,20,30,50,100,200,400,600,800,1000]\n",
    "for trial in range(2):\n",
    "    sapiens = 4\n",
    "    neanderthals = 4\n",
    "    denisovans = 4\n",
    "    dataset = generate_sample(sapiens, neanderthals, denisovans)\n",
    "    maximum_likelihood_calculator_d_1 = ExplainableMaximumLikelihoodCalculator(dataset,\n",
    "                                                        ref_neanderthal_file_names=neanderthals_reference_file_names,\n",
    "                                                        ref_sapien_file_names=sapiens_reference_file_names,\n",
    "                                                        ref_denisovan_file_names=denisovan_reference_file_names,\n",
    "                                                        path_to_substitution_matrix=path_to_frequencies_table,\n",
    "                                                        number_of_jobs=-1)\n",
    "    print(\"starting to calculate ground truth shapleys\")\n",
    "    ground_truth_shapleys = []\n",
    "\n",
    "    for i in range(len(dataset)):\n",
    "        print(i)\n",
    "        ground_truth_shapleys.append(calculate_shapley_values_for_datum(i,len(dataset),maximum_likelihood_calculator_d_1))\n",
    "    print(\"ground  truth shapleys:\")\n",
    "    print(ground_truth_shapleys)\n",
    "    results_current = calculate_distance_of_shap_and_mc_to_ground_truth_shapleys(dataset, ground_truth_shapleys, sample_sizes)\n",
    "    all_results = all_results + results_current\n",
    "    print(all_results)"
   ]
  },
  {
   "cell_type": "code",
   "execution_count": 97,
   "id": "0062aca1-149d-496c-a67e-620a748844a7",
   "metadata": {},
   "outputs": [
    {
     "data": {
      "text/plain": [
       "[(1,\n",
       "  4.443015873015872,\n",
       "  0.42,\n",
       "  3.9323214285714285,\n",
       "  0.5325297619047619,\n",
       "  0.9676532745361328,\n",
       "  0.4947483539581299,\n",
       "  0.0,\n",
       "  0.5),\n",
       " (5,\n",
       "  5.626964285714285,\n",
       "  0.6298015873015873,\n",
       "  2.7617103174603175,\n",
       "  0.2741984126984127,\n",
       "  1.0011882781982422,\n",
       "  2.5541460514068604,\n",
       "  0.1111111111111111,\n",
       "  0.9722222222222222),\n",
       " (10,\n",
       "  3.3890277777777778,\n",
       "  0.2639087301587302,\n",
       "  1.7712063492063497,\n",
       "  0.1714801587301587,\n",
       "  1.0189135074615479,\n",
       "  4.998800039291382,\n",
       "  0.2777777777777778,\n",
       "  0.8333333333333334),\n",
       " (20,\n",
       "  5.308603592314116,\n",
       "  0.4832500000000006,\n",
       "  0.8407976190476191,\n",
       "  0.06902579365079362,\n",
       "  1.1065828800201416,\n",
       "  10.61689567565918,\n",
       "  0.4722222222222222,\n",
       "  1.0),\n",
       " (30,\n",
       "  2.446025751820906,\n",
       "  0.5270146212847554,\n",
       "  0.8542579365079361,\n",
       "  0.07915873015873016,\n",
       "  1.1619789600372314,\n",
       "  14.858620882034302,\n",
       "  0.6944444444444444,\n",
       "  1.0),\n",
       " (50,\n",
       "  1.788778537949271,\n",
       "  0.14695779235005074,\n",
       "  0.718326984126984,\n",
       "  0.05399999999999994,\n",
       "  1.3303864002227783,\n",
       "  26.010924339294434,\n",
       "  0.8055555555555556,\n",
       "  0.9722222222222222),\n",
       " (100,\n",
       "  0.8278007856579709,\n",
       "  0.06198424365280156,\n",
       "  0.46897698412698396,\n",
       "  0.04165873015872999,\n",
       "  2.27578067779541,\n",
       "  52.26693820953369,\n",
       "  0.8611111111111112,\n",
       "  1.0),\n",
       " (200,\n",
       "  0.3582924804064009,\n",
       "  0.0263730113121104,\n",
       "  0.3210873015873009,\n",
       "  0.023344841269841127,\n",
       "  2.9701790809631348,\n",
       "  107.00057411193848,\n",
       "  0.8888888888888888,\n",
       "  1.0),\n",
       " (400,\n",
       "  0.32340648972704444,\n",
       "  0.03142609286015313,\n",
       "  0.3397547619047621,\n",
       "  0.030218253968254172,\n",
       "  5.241470098495483,\n",
       "  203.07880401611328,\n",
       "  0.8888888888888888,\n",
       "  1.0),\n",
       " (600,\n",
       "  0.21301617632839676,\n",
       "  0.015827433267645637,\n",
       "  0.2787650793650774,\n",
       "  0.01796666666666681,\n",
       "  7.5707848072052,\n",
       "  302.21429538726807,\n",
       "  0.9444444444444444,\n",
       "  1.0),\n",
       " (800,\n",
       "  0.26854128834718355,\n",
       "  0.026298208867555226,\n",
       "  0.2066210317460303,\n",
       "  0.015749999999999972,\n",
       "  9.998533725738525,\n",
       "  411.42526626586914,\n",
       "  0.9444444444444444,\n",
       "  1.0),\n",
       " (1000,\n",
       "  0.1713656866996891,\n",
       "  0.014058518625807741,\n",
       "  0.21299539682539453,\n",
       "  0.019044126984127524,\n",
       "  12.921245813369751,\n",
       "  536.3127241134644,\n",
       "  0.9722222222222222,\n",
       "  1.0),\n",
       " (1,\n",
       "  4.398181818181818,\n",
       "  0.3775667388167388,\n",
       "  3.529830447330447,\n",
       "  0.39857864357864353,\n",
       "  0.9409890174865723,\n",
       "  0.4667685031890869,\n",
       "  0.0,\n",
       "  0.6944444444444444),\n",
       " (5,\n",
       "  4.5668722943722955,\n",
       "  0.3775667388167388,\n",
       "  2.4397294372294374,\n",
       "  0.19003102453102452,\n",
       "  0.9869785308837891,\n",
       "  2.4245567321777344,\n",
       "  0.08333333333333333,\n",
       "  0.8888888888888888),\n",
       " (10,\n",
       "  4.7026443001443,\n",
       "  0.41606421356421314,\n",
       "  1.2242781385281387,\n",
       "  0.08639953102453103,\n",
       "  1.00632905960083,\n",
       "  4.98859429359436,\n",
       "  0.3333333333333333,\n",
       "  0.9166666666666666),\n",
       " (20,\n",
       "  3.3466644093677482,\n",
       "  0.27171897546897544,\n",
       "  1.474235930735931,\n",
       "  0.10393326118326113,\n",
       "  1.135087251663208,\n",
       "  11.13571286201477,\n",
       "  0.4166666666666667,\n",
       "  0.9722222222222222),\n",
       " (30,\n",
       "  2.3794364687100273,\n",
       "  0.169376604786114,\n",
       "  1.1298564213564215,\n",
       "  0.07794119769119767,\n",
       "  1.3239431381225586,\n",
       "  17.063701391220093,\n",
       "  0.5277777777777778,\n",
       "  0.9166666666666666),\n",
       " (50,\n",
       "  1.881655694429032,\n",
       "  0.16423049122771197,\n",
       "  0.6556676767676767,\n",
       "  0.05341028138528136,\n",
       "  1.4696855545043945,\n",
       "  24.723631858825684,\n",
       "  0.8333333333333334,\n",
       "  0.9166666666666666),\n",
       " (100,\n",
       "  0.8385622015254565,\n",
       "  0.09792509149433361,\n",
       "  0.6618725108225104,\n",
       "  0.06461028138528133,\n",
       "  1.9072468280792236,\n",
       "  48.93336343765259,\n",
       "  0.8888888888888888,\n",
       "  0.9444444444444444),\n",
       " (200,\n",
       "  0.4556552503289836,\n",
       "  0.05188856689828927,\n",
       "  0.510054329004329,\n",
       "  0.058552020202020286,\n",
       "  3.0610175132751465,\n",
       "  136.59093523025513,\n",
       "  0.9166666666666666,\n",
       "  0.9722222222222222),\n",
       " (400,\n",
       "  0.4552990400178666,\n",
       "  0.04976733262812265,\n",
       "  0.438442063492064,\n",
       "  0.052652020202020325,\n",
       "  5.265297889709473,\n",
       "  201.63228297233582,\n",
       "  0.9722222222222222,\n",
       "  0.9444444444444444),\n",
       " (600,\n",
       "  0.4276504608439886,\n",
       "  0.04504163163280779,\n",
       "  0.3607050505050512,\n",
       "  0.04439999999999997,\n",
       "  7.655845403671265,\n",
       "  296.42506670951843,\n",
       "  0.9444444444444444,\n",
       "  0.9444444444444444),\n",
       " (800,\n",
       "  0.40721700147703016,\n",
       "  0.0552141230590015,\n",
       "  0.37807637085136825,\n",
       "  0.04142499999999997,\n",
       "  9.896599054336548,\n",
       "  396.63388562202454,\n",
       "  0.9444444444444444,\n",
       "  0.9722222222222222),\n",
       " (1000,\n",
       "  0.33306341965512504,\n",
       "  0.04431206395062946,\n",
       "  0.318700476190468,\n",
       "  0.04015999999999998,\n",
       "  12.066482543945312,\n",
       "  495.2029917240143,\n",
       "  0.9722222222222222,\n",
       "  0.9722222222222222)]"
      ]
     },
     "execution_count": 97,
     "metadata": {},
     "output_type": "execute_result"
    }
   ],
   "source": [
    "all_results"
   ]
  },
  {
   "cell_type": "code",
   "execution_count": 98,
   "id": "e2651d0b-7b41-4dd0-b3be-f7ca7275ead8",
   "metadata": {},
   "outputs": [],
   "source": [
    "all_results = all_results + results_1"
   ]
  },
  {
   "cell_type": "code",
   "execution_count": 99,
   "id": "6a0e873f-46e0-4872-8211-ec8fc0f1907e",
   "metadata": {},
   "outputs": [
    {
     "data": {
      "text/plain": [
       "[(1,\n",
       "  4.443015873015872,\n",
       "  0.42,\n",
       "  3.9323214285714285,\n",
       "  0.5325297619047619,\n",
       "  0.9676532745361328,\n",
       "  0.4947483539581299,\n",
       "  0.0,\n",
       "  0.5),\n",
       " (5,\n",
       "  5.626964285714285,\n",
       "  0.6298015873015873,\n",
       "  2.7617103174603175,\n",
       "  0.2741984126984127,\n",
       "  1.0011882781982422,\n",
       "  2.5541460514068604,\n",
       "  0.1111111111111111,\n",
       "  0.9722222222222222),\n",
       " (10,\n",
       "  3.3890277777777778,\n",
       "  0.2639087301587302,\n",
       "  1.7712063492063497,\n",
       "  0.1714801587301587,\n",
       "  1.0189135074615479,\n",
       "  4.998800039291382,\n",
       "  0.2777777777777778,\n",
       "  0.8333333333333334),\n",
       " (20,\n",
       "  5.308603592314116,\n",
       "  0.4832500000000006,\n",
       "  0.8407976190476191,\n",
       "  0.06902579365079362,\n",
       "  1.1065828800201416,\n",
       "  10.61689567565918,\n",
       "  0.4722222222222222,\n",
       "  1.0),\n",
       " (30,\n",
       "  2.446025751820906,\n",
       "  0.5270146212847554,\n",
       "  0.8542579365079361,\n",
       "  0.07915873015873016,\n",
       "  1.1619789600372314,\n",
       "  14.858620882034302,\n",
       "  0.6944444444444444,\n",
       "  1.0),\n",
       " (50,\n",
       "  1.788778537949271,\n",
       "  0.14695779235005074,\n",
       "  0.718326984126984,\n",
       "  0.05399999999999994,\n",
       "  1.3303864002227783,\n",
       "  26.010924339294434,\n",
       "  0.8055555555555556,\n",
       "  0.9722222222222222),\n",
       " (100,\n",
       "  0.8278007856579709,\n",
       "  0.06198424365280156,\n",
       "  0.46897698412698396,\n",
       "  0.04165873015872999,\n",
       "  2.27578067779541,\n",
       "  52.26693820953369,\n",
       "  0.8611111111111112,\n",
       "  1.0),\n",
       " (200,\n",
       "  0.3582924804064009,\n",
       "  0.0263730113121104,\n",
       "  0.3210873015873009,\n",
       "  0.023344841269841127,\n",
       "  2.9701790809631348,\n",
       "  107.00057411193848,\n",
       "  0.8888888888888888,\n",
       "  1.0),\n",
       " (400,\n",
       "  0.32340648972704444,\n",
       "  0.03142609286015313,\n",
       "  0.3397547619047621,\n",
       "  0.030218253968254172,\n",
       "  5.241470098495483,\n",
       "  203.07880401611328,\n",
       "  0.8888888888888888,\n",
       "  1.0),\n",
       " (600,\n",
       "  0.21301617632839676,\n",
       "  0.015827433267645637,\n",
       "  0.2787650793650774,\n",
       "  0.01796666666666681,\n",
       "  7.5707848072052,\n",
       "  302.21429538726807,\n",
       "  0.9444444444444444,\n",
       "  1.0),\n",
       " (800,\n",
       "  0.26854128834718355,\n",
       "  0.026298208867555226,\n",
       "  0.2066210317460303,\n",
       "  0.015749999999999972,\n",
       "  9.998533725738525,\n",
       "  411.42526626586914,\n",
       "  0.9444444444444444,\n",
       "  1.0),\n",
       " (1000,\n",
       "  0.1713656866996891,\n",
       "  0.014058518625807741,\n",
       "  0.21299539682539453,\n",
       "  0.019044126984127524,\n",
       "  12.921245813369751,\n",
       "  536.3127241134644,\n",
       "  0.9722222222222222,\n",
       "  1.0),\n",
       " (1,\n",
       "  4.398181818181818,\n",
       "  0.3775667388167388,\n",
       "  3.529830447330447,\n",
       "  0.39857864357864353,\n",
       "  0.9409890174865723,\n",
       "  0.4667685031890869,\n",
       "  0.0,\n",
       "  0.6944444444444444),\n",
       " (5,\n",
       "  4.5668722943722955,\n",
       "  0.3775667388167388,\n",
       "  2.4397294372294374,\n",
       "  0.19003102453102452,\n",
       "  0.9869785308837891,\n",
       "  2.4245567321777344,\n",
       "  0.08333333333333333,\n",
       "  0.8888888888888888),\n",
       " (10,\n",
       "  4.7026443001443,\n",
       "  0.41606421356421314,\n",
       "  1.2242781385281387,\n",
       "  0.08639953102453103,\n",
       "  1.00632905960083,\n",
       "  4.98859429359436,\n",
       "  0.3333333333333333,\n",
       "  0.9166666666666666),\n",
       " (20,\n",
       "  3.3466644093677482,\n",
       "  0.27171897546897544,\n",
       "  1.474235930735931,\n",
       "  0.10393326118326113,\n",
       "  1.135087251663208,\n",
       "  11.13571286201477,\n",
       "  0.4166666666666667,\n",
       "  0.9722222222222222),\n",
       " (30,\n",
       "  2.3794364687100273,\n",
       "  0.169376604786114,\n",
       "  1.1298564213564215,\n",
       "  0.07794119769119767,\n",
       "  1.3239431381225586,\n",
       "  17.063701391220093,\n",
       "  0.5277777777777778,\n",
       "  0.9166666666666666),\n",
       " (50,\n",
       "  1.881655694429032,\n",
       "  0.16423049122771197,\n",
       "  0.6556676767676767,\n",
       "  0.05341028138528136,\n",
       "  1.4696855545043945,\n",
       "  24.723631858825684,\n",
       "  0.8333333333333334,\n",
       "  0.9166666666666666),\n",
       " (100,\n",
       "  0.8385622015254565,\n",
       "  0.09792509149433361,\n",
       "  0.6618725108225104,\n",
       "  0.06461028138528133,\n",
       "  1.9072468280792236,\n",
       "  48.93336343765259,\n",
       "  0.8888888888888888,\n",
       "  0.9444444444444444),\n",
       " (200,\n",
       "  0.4556552503289836,\n",
       "  0.05188856689828927,\n",
       "  0.510054329004329,\n",
       "  0.058552020202020286,\n",
       "  3.0610175132751465,\n",
       "  136.59093523025513,\n",
       "  0.9166666666666666,\n",
       "  0.9722222222222222),\n",
       " (400,\n",
       "  0.4552990400178666,\n",
       "  0.04976733262812265,\n",
       "  0.438442063492064,\n",
       "  0.052652020202020325,\n",
       "  5.265297889709473,\n",
       "  201.63228297233582,\n",
       "  0.9722222222222222,\n",
       "  0.9444444444444444),\n",
       " (600,\n",
       "  0.4276504608439886,\n",
       "  0.04504163163280779,\n",
       "  0.3607050505050512,\n",
       "  0.04439999999999997,\n",
       "  7.655845403671265,\n",
       "  296.42506670951843,\n",
       "  0.9444444444444444,\n",
       "  0.9444444444444444),\n",
       " (800,\n",
       "  0.40721700147703016,\n",
       "  0.0552141230590015,\n",
       "  0.37807637085136825,\n",
       "  0.04142499999999997,\n",
       "  9.896599054336548,\n",
       "  396.63388562202454,\n",
       "  0.9444444444444444,\n",
       "  0.9722222222222222),\n",
       " (1000,\n",
       "  0.33306341965512504,\n",
       "  0.04431206395062946,\n",
       "  0.318700476190468,\n",
       "  0.04015999999999998,\n",
       "  12.066482543945312,\n",
       "  495.2029917240143,\n",
       "  0.9722222222222222,\n",
       "  0.9722222222222222),\n",
       " (1,\n",
       "  4.528501082251083,\n",
       "  0.286366341991342,\n",
       "  4.435952380952381,\n",
       "  0.627288961038961,\n",
       "  1.0754506587982178,\n",
       "  0.4467494487762451,\n",
       "  0.0,\n",
       "  0.75),\n",
       " (5,\n",
       "  4.874929653679654,\n",
       "  0.31592532467532464,\n",
       "  1.4573268398268402,\n",
       "  0.10917586580086575,\n",
       "  0.9699313640594482,\n",
       "  2.313971519470215,\n",
       "  0.16666666666666666,\n",
       "  0.8055555555555556),\n",
       " (10,\n",
       "  3.858308441558441,\n",
       "  0.27068181818181813,\n",
       "  1.3965584415584416,\n",
       "  0.13176839826839826,\n",
       "  1.218735694885254,\n",
       "  4.808845520019531,\n",
       "  0.2777777777777778,\n",
       "  0.9166666666666666),\n",
       " (20,\n",
       "  5.553704112554114,\n",
       "  0.46109848484848515,\n",
       "  0.978244588744589,\n",
       "  0.08882413419913421,\n",
       "  1.1123549938201904,\n",
       "  8.948806047439575,\n",
       "  0.5833333333333334,\n",
       "  1.0),\n",
       " (30,\n",
       "  2.6759054854867066,\n",
       "  0.26893398268398266,\n",
       "  1.0008376623376622,\n",
       "  0.11536038961038955,\n",
       "  1.1484801769256592,\n",
       "  13.124885559082031,\n",
       "  0.6666666666666666,\n",
       "  0.9722222222222222),\n",
       " (50,\n",
       "  1.6964550919558603,\n",
       "  0.18042422807284286,\n",
       "  0.6938452380952377,\n",
       "  0.059451515151515144,\n",
       "  1.280153512954712,\n",
       "  22.260908603668213,\n",
       "  0.8055555555555556,\n",
       "  1.0),\n",
       " (100,\n",
       "  0.7901670730327401,\n",
       "  0.0649186688934226,\n",
       "  0.502177489177489,\n",
       "  0.036205627705627685,\n",
       "  1.570345401763916,\n",
       "  52.13532757759094,\n",
       "  0.9166666666666666,\n",
       "  1.0),\n",
       " (200,\n",
       "  0.48544995760552034,\n",
       "  0.04818181818181818,\n",
       "  0.3716932900432902,\n",
       "  0.028033982683982744,\n",
       "  3.1584277153015137,\n",
       "  94.6525206565857,\n",
       "  0.8611111111111112,\n",
       "  1.0),\n",
       " (400,\n",
       "  0.34477316485714027,\n",
       "  0.031076089784185277,\n",
       "  0.2580974025974019,\n",
       "  0.018479220779220734,\n",
       "  5.241225004196167,\n",
       "  202.58175992965698,\n",
       "  0.9444444444444444,\n",
       "  1.0),\n",
       " (600,\n",
       "  0.24598252522843986,\n",
       "  0.028146834677191136,\n",
       "  0.23452727272727392,\n",
       "  0.015049675324675799,\n",
       "  7.93058967590332,\n",
       "  350.7652928829193,\n",
       "  0.9444444444444444,\n",
       "  1.0),\n",
       " (800,\n",
       "  0.20530879411118072,\n",
       "  0.017660382124705436,\n",
       "  0.2430900432900398,\n",
       "  0.02056634199134255,\n",
       "  13.125152587890625,\n",
       "  429.65598726272583,\n",
       "  1.0,\n",
       "  1.0),\n",
       " (1000,\n",
       "  0.18433426288837465,\n",
       "  0.0157678912429764,\n",
       "  0.21358380952380493,\n",
       "  0.017161818181818125,\n",
       "  16.97101902961731,\n",
       "  549.9243884086609,\n",
       "  1.0,\n",
       "  1.0)]"
      ]
     },
     "execution_count": 99,
     "metadata": {},
     "output_type": "execute_result"
    }
   ],
   "source": [
    "all_results"
   ]
  },
  {
   "cell_type": "code",
   "execution_count": 110,
   "id": "d1ea75d8-7049-4c6c-89dc-9be51452112f",
   "metadata": {},
   "outputs": [],
   "source": [
    "l_1_shap = [(i[0],i[1]) for i in all_results]"
   ]
  },
  {
   "cell_type": "code",
   "execution_count": 122,
   "id": "832b96a4-f80b-4497-82a1-adec5bc8e3a0",
   "metadata": {},
   "outputs": [],
   "source": [
    "def return_avg(list_of_sizes):\n",
    "    to_ret = []\n",
    "    for size in sample_sizes:\n",
    "        cur = [i[1] for i in list_of_sizes if i[0] == size]\n",
    "        to_ret.append(np.mean(cur))\n",
    "    return to_ret"
   ]
  },
  {
   "cell_type": "code",
   "execution_count": 112,
   "id": "5b8371a7-a4c8-4803-a994-66cf43b6fde1",
   "metadata": {},
   "outputs": [],
   "source": [
    "l_1_mc = [(i[0],i[3]) for i in all_results]"
   ]
  },
  {
   "cell_type": "code",
   "execution_count": 113,
   "id": "e7d4cb13-485a-47b6-bf2b-8ba260a02530",
   "metadata": {},
   "outputs": [],
   "source": [
    "largest_distance_shap = [(i[0], i[2]) for i in all_results]\n",
    "largest_distance_mc = [(i[0], i[4]) for i in all_results]"
   ]
  },
  {
   "cell_type": "code",
   "execution_count": 114,
   "id": "6683d35a-2b06-497a-b6c7-66eff86cffb0",
   "metadata": {},
   "outputs": [],
   "source": [
    "time_shap = [(i[0], i[5]) for i in all_results]\n",
    "time_mc = [(i[0], i[6]) for i in all_results]"
   ]
  },
  {
   "cell_type": "code",
   "execution_count": 115,
   "id": "0b848d5d-5c9c-4bba-b728-fbc5c14f83ed",
   "metadata": {},
   "outputs": [],
   "source": [
    "sign_accuracy_shap = [(i[0], i[7]) for i in all_results]\n",
    "sign_accuracy_mc = [(i[0], i[8]) for i in all_results]"
   ]
  },
  {
   "cell_type": "code",
   "execution_count": 116,
   "id": "8424ec8a-7073-42ae-9932-47f7322d33fd",
   "metadata": {},
   "outputs": [
    {
     "data": {
      "text/plain": [
       "<Figure size 640x480 with 0 Axes>"
      ]
     },
     "metadata": {},
     "output_type": "display_data"
    },
    {
     "data": {
      "text/plain": [
       "<Figure size 640x480 with 0 Axes>"
      ]
     },
     "metadata": {},
     "output_type": "display_data"
    }
   ],
   "source": [
    "plt.figure() \n",
    "plt.figure().clear()\n",
    "plt.rcParams.update({'font.size': 14})\n",
    "t = [i  for i in sample_sizes]\n"
   ]
  },
  {
   "cell_type": "code",
   "execution_count": 121,
   "id": "ae920944-0c55-4601-944e-e1d834d6f135",
   "metadata": {},
   "outputs": [
    {
     "data": {
      "text/plain": [
       "[4.456566257816258,\n",
       " 5.022922077922078,\n",
       " 3.983326839826839,\n",
       " 4.73632403807866,\n",
       " 2.5004559020058803,\n",
       " 1.788963108111388,\n",
       " 0.8188433534053892,\n",
       " 0.43313256278030154,\n",
       " 0.3744928982006838,\n",
       " 0.2955497208002751,\n",
       " 0.2936890279784648,\n",
       " 0.22958778974772956]"
      ]
     },
     "execution_count": 121,
     "metadata": {},
     "output_type": "execute_result"
    }
   ],
   "source": [
    "return_avg(l_1_shap)"
   ]
  },
  {
   "cell_type": "code",
   "execution_count": 120,
   "id": "8423ad58-1343-469e-95ac-f7b8ac76c49b",
   "metadata": {},
   "outputs": [
    {
     "data": {
      "text/plain": [
       "[4.456566257816258,\n",
       " 5.022922077922078,\n",
       " 3.983326839826839,\n",
       " 4.73632403807866,\n",
       " 2.5004559020058803,\n",
       " 1.788963108111388,\n",
       " 0.8188433534053892,\n",
       " 0.43313256278030154,\n",
       " 0.3744928982006838,\n",
       " 0.2955497208002751,\n",
       " 0.2936890279784648,\n",
       " 0.22958778974772956]"
      ]
     },
     "execution_count": 120,
     "metadata": {},
     "output_type": "execute_result"
    }
   ],
   "source": [
    "return_avg(l_1_mc)"
   ]
  },
  {
   "cell_type": "code",
   "execution_count": 123,
   "id": "d7262964-cd90-4b90-900e-ff811a048e00",
   "metadata": {},
   "outputs": [
    {
     "data": {
      "image/png": "[encoded data removed]",
      "text/plain": [
       "<Figure size 640x480 with 1 Axes>"
      ]
     },
     "metadata": {},
     "output_type": "display_data"
    }
   ],
   "source": [
    "plt.plot(t,return_avg(l_1_shap),label='Shap')\n",
    "plt.plot(t,return_avg(l_1_mc),label='Sampling')\n",
    "plt.title(\"L_1 distance from ground truth\")\n",
    "plt.xlabel(\"Number of samples\")\n",
    "plt.ylabel(\"L_1 distance\")\n",
    "plt.xlim(left=0)\n",
    "plt.ylim(bottom=0)\n",
    "plt.legend()\n",
    "plt.savefig(\"l_1_distance.png\")\n",
    "plt.show()"
   ]
  },
  {
   "cell_type": "code",
   "execution_count": 87,
   "id": "6c8b741d-471a-4f5b-af6a-4b65177e813b",
   "metadata": {},
   "outputs": [
    {
     "data": {
      "text/plain": [
       "<Figure size 640x480 with 0 Axes>"
      ]
     },
     "metadata": {},
     "output_type": "display_data"
    },
    {
     "data": {
      "text/plain": [
       "<Figure size 640x480 with 0 Axes>"
      ]
     },
     "metadata": {},
     "output_type": "display_data"
    }
   ],
   "source": [
    "plt.figure() \n",
    "plt.figure().clear()\n",
    "plt.rcParams.update({'font.size': 14})\n"
   ]
  },
  {
   "cell_type": "code",
   "execution_count": 124,
   "id": "28a6e5bd-72cd-4f96-915b-c115b11b5d88",
   "metadata": {},
   "outputs": [
    {
     "data": {
      "image/png": "[encoded data removed]",
      "text/plain": [
       "<Figure size 640x480 with 1 Axes>"
      ]
     },
     "metadata": {},
     "output_type": "display_data"
    }
   ],
   "source": [
    "plt.plot(t,return_avg(largest_distance_shap),label='Shap')\n",
    "plt.plot(t,return_avg(largest_distance_mc),label='Sampling')\n",
    "plt.title(\"Highest distance from ground truth\")\n",
    "plt.xlabel(\"Number of samples\")\n",
    "plt.ylabel(\"Highest distance\")\n",
    "plt.xlim(left=0)\n",
    "plt.ylim(bottom=0)\n",
    "plt.legend()\n",
    "plt.savefig(\"highest_distance.png\")\n",
    "plt.show()"
   ]
  },
  {
   "cell_type": "code",
   "execution_count": 125,
   "id": "8732e3e1-768b-4c11-bece-11206bb9c75c",
   "metadata": {},
   "outputs": [
    {
     "data": {
      "image/png": "[encoded data removed]",
      "text/plain": [
       "<Figure size 640x480 with 1 Axes>"
      ]
     },
     "metadata": {},
     "output_type": "display_data"
    }
   ],
   "source": [
    "plt.plot(t,return_avg(time_shap),label='Shap')\n",
    "plt.plot(t,return_avg(time_mc),label='Sampling')\n",
    "plt.title(\"Execution time\")\n",
    "plt.xlabel(\"Number of samples\")\n",
    "plt.ylabel(\"Time in seconds\")\n",
    "plt.xlim(left=0)\n",
    "plt.ylim(bottom=0)\n",
    "plt.legend()\n",
    "plt.savefig(\"execution_time.png\")\n",
    "plt.show()"
   ]
  },
  {
   "cell_type": "code",
   "execution_count": 127,
   "id": "934e2dd9-1aa5-4cf7-959e-bd7d67f01ab1",
   "metadata": {},
   "outputs": [
    {
     "data": {
      "image/png": "[encoded data removed]",
      "text/plain": [
       "<Figure size 640x480 with 1 Axes>"
      ]
     },
     "metadata": {},
     "output_type": "display_data"
    }
   ],
   "source": [
    "a_s_d = maximum_likelihood_calculator_d_1.get_A_s_d_values()\n",
    "first = [a[0]-0.33 for a in a_s_d ]\n",
    "second = [a[1]-0.33 for a in a_s_d ]\n",
    "thirs = [a[2]-0.33 for a in a_s_d ]\n",
    "a_s_d_values = [[first], [second], [thirs]]\n",
    "sign_accuracy_a_s_d = accuracy_a_d_s(a_s_d_values, ground_truth_shapleys)\n",
    "sign_acc_a_d_s_list = [sign_accuracy_a_s_d for i in range(len(t))]\n",
    "plt.plot(t,return_avg(sign_accuracy_shap),label='Shap')\n",
    "plt.plot(t,return_avg(sign_accuracy_mc),label='Sampling')\n",
    "plt.plot(t,sign_acc_a_d_s_list,label='A_s_d values')\n",
    "plt.title(\"Sign accuracy\")\n",
    "plt.xlabel(\"Number of samples\")\n",
    "plt.ylabel(\"Sign accuracy\")\n",
    "plt.xlim(left=0)\n",
    "plt.ylim(bottom=0)\n",
    "plt.legend()\n",
    "plt.savefig(\"sign_accuracy.png\")\n",
    "plt.show()"
   ]
  },
  {
   "cell_type": "code",
   "execution_count": 128,
   "id": "ad80e69b-a603-4b85-aff1-90d751e35b8f",
   "metadata": {},
   "outputs": [
    {
     "data": {
      "text/plain": [
       "[array([ 0.10645202, -0.15944174,  0.05298972]),\n",
       " array([ 0.37756674, -0.2010588 , -0.17650794]),\n",
       " array([-0.03117424, -0.02041667,  0.05159091]),\n",
       " array([ 0.00143579,  0.15605429, -0.15749008]),\n",
       " array([ 0.01498737, -0.03248737,  0.0175    ]),\n",
       " array([-0.12767136,  0.27142136, -0.14375   ]),\n",
       " array([-0.12796898,  0.27171898, -0.14375   ]),\n",
       " array([ 0.04806367,  0.1109145 , -0.15897817]),\n",
       " array([-0.10511544, -0.11078734,  0.21590278]),\n",
       " array([-0.10630231, -0.10960047,  0.21590278]),\n",
       " array([-0.0562031 , -0.01448413,  0.07068723]),\n",
       " array([-0.09907017, -0.11683261,  0.21590278])]"
      ]
     },
     "execution_count": 128,
     "metadata": {},
     "output_type": "execute_result"
    }
   ],
   "source": [
    "ground_truth_shapleys"
   ]
  },
  {
   "cell_type": "code",
   "execution_count": null,
   "id": "cfdd71d9-b5db-49c7-9894-da1ea606d308",
   "metadata": {},
   "outputs": [],
   "source": []
  }
 ],
 "metadata": {
  "kernelspec": {
   "display_name": "Python 3 (ipykernel)",
   "language": "python",
   "name": "python3"
  },
  "language_info": {
   "codemirror_mode": {
    "name": "ipython",
    "version": 3
   },
   "file_extension": ".py",
   "mimetype": "text/x-python",
   "name": "python",
   "nbconvert_exporter": "python",
   "pygments_lexer": "ipython3",
   "version": "3.8.8"
  }
 },
 "nbformat": 4,
 "nbformat_minor": 5
}
