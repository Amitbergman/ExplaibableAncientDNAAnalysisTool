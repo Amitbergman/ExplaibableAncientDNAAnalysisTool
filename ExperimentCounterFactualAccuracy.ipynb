{
 "cells": [
  {
   "cell_type": "code",
   "execution_count": 1,
   "id": "4a766c28-5127-4009-9d8f-5e2ba2a168e6",
   "metadata": {},
   "outputs": [
    {
     "name": "stderr",
     "output_type": "stream",
     "text": [
      "2023-06-19 14:30:05.287193: I tensorflow/core/platform/cpu_feature_guard.cc:193] This TensorFlow binary is optimized with oneAPI Deep Neural Network Library (oneDNN) to use the following CPU instructions in performance-critical operations:  AVX2 AVX512F AVX512_VNNI FMA\n",
      "To enable them in other operations, rebuild TensorFlow with the appropriate compiler flags.\n",
      "2023-06-19 14:30:05.849001: I tensorflow/core/util/util.cc:169] oneDNN custom operations are on. You may see slightly different numerical results due to floating-point round-off errors from different computation orders. To turn them off, set the environment variable `TF_ENABLE_ONEDNN_OPTS=0`.\n",
      "2023-06-19 14:30:05.974456: W tensorflow/stream_executor/platform/default/dso_loader.cc:64] Could not load dynamic library 'libcudart.so.11.0'; dlerror: libcudart.so.11.0: cannot open shared object file: No such file or directory\n",
      "2023-06-19 14:30:05.974474: I tensorflow/stream_executor/cuda/cudart_stub.cc:29] Ignore above cudart dlerror if you do not have a GPU set up on your machine.\n",
      "2023-06-19 14:30:06.033411: E tensorflow/stream_executor/cuda/cuda_blas.cc:2981] Unable to register cuBLAS factory: Attempting to register factory for plugin cuBLAS when one has already been registered\n",
      "2023-06-19 14:30:07.681573: W tensorflow/stream_executor/platform/default/dso_loader.cc:64] Could not load dynamic library 'libnvinfer.so.7'; dlerror: libnvinfer.so.7: cannot open shared object file: No such file or directory\n",
      "2023-06-19 14:30:07.681672: W tensorflow/stream_executor/platform/default/dso_loader.cc:64] Could not load dynamic library 'libnvinfer_plugin.so.7'; dlerror: libnvinfer_plugin.so.7: cannot open shared object file: No such file or directory\n",
      "2023-06-19 14:30:07.681679: W tensorflow/compiler/tf2tensorrt/utils/py_utils.cc:38] TF-TRT Warning: Cannot dlopen some TensorRT libraries. If you would like to use Nvidia GPU with TensorRT, please make sure the missing libraries mentioned above are installed properly.\n"
     ]
    }
   ],
   "source": [
    "def warn(*args, **kwargs):\n",
    "    pass\n",
    "import warnings\n",
    "warnings.warn = warn\n",
    "import seaborn as sns\n",
    "from ExplainableMaximumLikelihoodCalculator import ExplainableMaximumLikelihoodCalculator\n",
    "import pysam\n",
    "from Bio import SeqIO, Seq, SeqRecord, pairwise2\n",
    "from Bio.pairwise2 import format_alignment\n",
    "from LoadDataUtils import getListOfReadsFromBamFile, getListOfReadsFromFastaFile\n",
    "import matplotlib.pyplot as plt\n",
    "import numpy as np\n",
    "import pandas as pd\n",
    "import random\n",
    "import math\n",
    "import shap\n",
    "from scipy.stats import chisquare\n",
    "from scipy.special import rel_entr\n",
    "fileNameSapiens =  \"data/simulatedData/human_chinese_AF346973_500samples.fas\" #File that contains 500 reads from homo sapiens\n",
    "fileNameNeanderthals =  \"data/simulatedData/Neanderthal_Goyet_KX198085_500samples.fas\" #File that contains 500 reads from neanderthal\n",
    "fileNameDenisovans =  \"data/simulatedData/denisova_kx663333_500samples.fas\" #File that contains 500 reads from denisovan\n",
    "neanderthals_500_generated = getListOfReadsFromFastaFile(fileNameNeanderthals)\n",
    "sapiens_500_generated = getListOfReadsFromFastaFile(fileNameSapiens)\n",
    "denisovan_500_samples = getListOfReadsFromFastaFile(fileNameDenisovans)\n",
    "path_to_frequencies_table = \"data/substitution_matrix.tsv\"\n",
    "import itertools\n",
    " \n",
    "def findsubsets(s, n):\n",
    "    subsets = list(itertools.combinations(s, n))\n",
    "    return [list(a) for a in subsets]"
   ]
  },
  {
   "cell_type": "code",
   "execution_count": 2,
   "id": "4c7219dd-0276-46fc-a577-e12d25c90044",
   "metadata": {},
   "outputs": [],
   "source": [
    "sapiens_reference_file_names = [\n",
    "                    \"data/reference_files/human_AF346981_French.fa\",\n",
    "                     \"data/reference_files/human_AY195760_Korea.fa\",\n",
    "                      \"data/reference_files/human_AY882416_Ethiopia.fa\",\n",
    "                      \"data/reference_files/human_AY963586_Italian.fa\",\n",
    "                      \"data/reference_files/human_AY195781_Caucasian.fa\",\n",
    "                      \"data/reference_files/human_AY195757_Iraqi-Israeli.fa\",\n",
    "                      \"data/reference_files/human_AY195749_NativeAmerican.fa\"]\n",
    "neanderthals_reference_file_names = [\n",
    "                            \"data/reference_files/neanderthal_mezmaiskaya1_FM865411.fa\",\n",
    "                           \"data/reference_files/Neanderthal_Altai_KC879692.fa\",\n",
    "                           \"data/reference_files/Neanderthal_Denisova11_full_mtDNA_KU131206.fa\",\n",
    "                           \"data/reference_files/Neanderthal_Spy_94a_MG025538.fa\",\n",
    "                            \"data/reference_files/Neanderthal_Vindija33.16_AM948965.fa\",\n",
    "                            \"data/reference_files/Neanderthal_Vindija33.19_KJ533545.fa\"]\n",
    "denisovan_reference_file_names = [  \n",
    "                        \"data/reference_files/Denisova_MT576653.1.fa\",\n",
    "                        \"data/reference_files/Denisova_MT576652.1.fa\",\n",
    "                        \"data/reference_files/Denisova_4_FR695060.fa\",\n",
    "                        \"data/reference_files/Denisova_8_KT780370.fa\",\n",
    "                        \"data/reference_files/Denisova_manual_phalanx_NC_013993.fa\",\n",
    "                        \"data/reference_files/Denisova_MT576651.1.fa\"]"
   ]
  },
  {
   "cell_type": "code",
   "execution_count": 3,
   "id": "06f5d486-17d9-45c9-9483-c5abe04b49f8",
   "metadata": {},
   "outputs": [],
   "source": [
    "def generate_sample(sap, nean, den):\n",
    "    list_before =  list(np.random.choice(sapiens_500_generated, sap)) + list(np.random.choice(neanderthals_500_generated, nean)) + list(np.random.choice(denisovan_500_samples, den))\n",
    "    l = []\n",
    "    for i in list_before:\n",
    "        l.append(str(i))\n",
    "    return l"
   ]
  },
  {
   "cell_type": "code",
   "execution_count": 4,
   "id": "d9ffa3b0-5d87-4490-888f-f953cbbaef86",
   "metadata": {},
   "outputs": [],
   "source": [
    "def get_counter_factual(ml_estimtator):\n",
    "    \n",
    "    shapleys = ml_estimtator.calculate_shapley_values(5000)\n",
    "    cf = ml_estimtator.generateCounterFactualMinimalSetToRemoveAndChangeMax(shapleys)\n",
    "    print(cf[0])\n",
    "    size_of_cf = len(cf[0])\n",
    "    return size_of_cf\n",
    "    "
   ]
  },
  {
   "cell_type": "code",
   "execution_count": 5,
   "id": "2581f6c1-350e-4d56-bf19-7b688db47265",
   "metadata": {},
   "outputs": [],
   "source": [
    "def get_cf_based_on_a_s_d(ml_estimtator):\n",
    "    cf = ml_estimtator.generateCounterFactualMinimalSetToRemoveAndChangeMax_using_a_s_d_values()\n",
    "    print(cf[0])\n",
    "    size_of_cf = len(cf[0])\n",
    "    return size_of_cf\n",
    "    "
   ]
  },
  {
   "cell_type": "code",
   "execution_count": 26,
   "id": "bba6a819-4dfb-45de-bd82-3b53015ccb57",
   "metadata": {},
   "outputs": [],
   "source": [
    "def calculate_ground_truth(ml_estimator, sample):\n",
    "    maxer_before = ml_estimator.estimate_species_proportions().values.argmax()\n",
    "    sample_indexes = [i for i in range(len(sample))]\n",
    "    for i in range(len(sample)):\n",
    "        print(\"working on size: \", i)\n",
    "        subsets = findsubsets(sample_indexes, i)\n",
    "        for to_ignore in subsets:\n",
    "            result_after = ml_estimator.estimate_species_proportions(ignore_list_indexes=to_ignore).values.argmax()\n",
    "            if (result_after != maxer_before):\n",
    "                return (i, to_ignore)\n",
    "    return (0, [])\n",
    "        \n",
    "    \n",
    "    "
   ]
  },
  {
   "cell_type": "code",
   "execution_count": 8,
   "id": "a2e2952b-4471-444f-9873-5ae71d15f8fc",
   "metadata": {},
   "outputs": [
    {
     "name": "stdout",
     "output_type": "stream",
     "text": [
      "14 0 1\n",
      "\u001b[34mLoading sequences and calculating alignments to all references, this might take a while. Number of reads: \u001b[0m 15\n",
      "start working on read number 0\n",
      "working on size:  0\n",
      "working on size:  1\n",
      "working on size:  2\n",
      "working on size:  3\n",
      "working on size:  4\n",
      "working on size:  5\n",
      "working on size:  6\n",
      "working on size:  7\n",
      "groundtruth: 7\n",
      "groundtruth values: [2, 3, 5, 6, 9, 11, 12]\n",
      "1\n"
     ]
    },
    {
     "data": {
      "application/vnd.jupyter.widget-view+json": {
       "model_id": "436f27dfd01c4093a7bd601c13bab3e0",
       "version_major": 2,
       "version_minor": 0
      },
      "text/plain": [
       "  0%|          | 0/1 [00:00<?, ?it/s]"
      ]
     },
     "metadata": {},
     "output_type": "display_data"
    },
    {
     "name": "stdout",
     "output_type": "stream",
     "text": [
      "1\n",
      "5000\n",
      "Change dominating species from Homo Sapiens to Neanderthal would require removing 7 reads: [2, 12, 6, 13, 3, 11, 9]\n",
      "[2, 12, 6, 13, 3, 11, 9]\n",
      "counter_factual: 7\n",
      "Change dominating species from Homo Sapiens to Neanderthal would require removing 7 reads: [13, 11, 3, 12, 6, 2, 9]\n",
      "[13, 11, 3, 12, 6, 2, 9]\n",
      "counter_factualA_s_d: 7\n",
      "[(14, 0, 1, 7, 7, 7)]\n",
      "3 8 4\n",
      "\u001b[34mLoading sequences and calculating alignments to all references, this might take a while. Number of reads: \u001b[0m 15\n",
      "start working on read number 0\n",
      "working on size:  0\n",
      "working on size:  1\n",
      "working on size:  2\n",
      "groundtruth: 2\n",
      "groundtruth values: [3, 7]\n",
      "1\n"
     ]
    },
    {
     "data": {
      "application/vnd.jupyter.widget-view+json": {
       "model_id": "a4e8e0cd0ae84641ab498ed46060b58b",
       "version_major": 2,
       "version_minor": 0
      },
      "text/plain": [
       "  0%|          | 0/1 [00:00<?, ?it/s]"
      ]
     },
     "metadata": {},
     "output_type": "display_data"
    },
    {
     "name": "stdout",
     "output_type": "stream",
     "text": [
      "1\n",
      "5000\n",
      "Change dominating species from Neanderthal to Homo Sapiens would require removing 2 reads: [3, 7]\n",
      "[3, 7]\n",
      "counter_factual: 2\n",
      "Change dominating species from Neanderthal to Homo Sapiens would require removing 2 reads: [3, 7]\n",
      "[3, 7]\n",
      "counter_factualA_s_d: 2\n",
      "[(14, 0, 1, 7, 7, 7), (3, 8, 4, 2, 2, 2)]\n",
      "4 7 4\n",
      "\u001b[34mLoading sequences and calculating alignments to all references, this might take a while. Number of reads: \u001b[0m 15\n",
      "start working on read number 0\n",
      "working on size:  0\n",
      "working on size:  1\n",
      "working on size:  2\n",
      "groundtruth: 2\n",
      "groundtruth values: [0, 1]\n",
      "1\n"
     ]
    },
    {
     "data": {
      "application/vnd.jupyter.widget-view+json": {
       "model_id": "f43fb1822c034fb080615d79bfada474",
       "version_major": 2,
       "version_minor": 0
      },
      "text/plain": [
       "  0%|          | 0/1 [00:00<?, ?it/s]"
      ]
     },
     "metadata": {},
     "output_type": "display_data"
    },
    {
     "name": "stdout",
     "output_type": "stream",
     "text": [
      "1\n",
      "5000\n",
      "Change dominating species from Homo Sapiens to Neanderthal would require removing 2 reads: [1, 2]\n",
      "[1, 2]\n",
      "counter_factual: 2\n",
      "Change dominating species from Homo Sapiens to Neanderthal would require removing 2 reads: [1, 2]\n",
      "[1, 2]\n",
      "counter_factualA_s_d: 2\n",
      "[(14, 0, 1, 7, 7, 7), (3, 8, 4, 2, 2, 2), (4, 7, 4, 2, 2, 2)]\n",
      "12 2 1\n",
      "\u001b[34mLoading sequences and calculating alignments to all references, this might take a while. Number of reads: \u001b[0m 15\n",
      "start working on read number 0\n",
      "working on size:  0\n",
      "working on size:  1\n",
      "working on size:  2\n",
      "working on size:  3\n",
      "working on size:  4\n",
      "working on size:  5\n",
      "groundtruth: 5\n",
      "groundtruth values: [1, 2, 3, 4, 7]\n",
      "1\n"
     ]
    },
    {
     "data": {
      "application/vnd.jupyter.widget-view+json": {
       "model_id": "3c29e40ecef14d1b90a7a4c4d3fc6203",
       "version_major": 2,
       "version_minor": 0
      },
      "text/plain": [
       "  0%|          | 0/1 [00:00<?, ?it/s]"
      ]
     },
     "metadata": {},
     "output_type": "display_data"
    },
    {
     "name": "stdout",
     "output_type": "stream",
     "text": [
      "1\n",
      "5000\n",
      "Change dominating species from Homo Sapiens to Neanderthal would require removing 5 reads: [1, 9, 2, 11, 3]\n",
      "[1, 9, 2, 11, 3]\n",
      "counter_factual: 5\n",
      "Change dominating species from Homo Sapiens to Neanderthal would require removing 5 reads: [1, 11, 2, 9, 7]\n",
      "[1, 11, 2, 9, 7]\n",
      "counter_factualA_s_d: 5\n",
      "[(14, 0, 1, 7, 7, 7), (3, 8, 4, 2, 2, 2), (4, 7, 4, 2, 2, 2), (12, 2, 1, 5, 5, 5)]\n",
      "1 9 5\n",
      "\u001b[34mLoading sequences and calculating alignments to all references, this might take a while. Number of reads: \u001b[0m 15\n",
      "start working on read number 0\n",
      "working on size:  0\n",
      "working on size:  1\n",
      "working on size:  2\n",
      "working on size:  3\n",
      "working on size:  4\n",
      "working on size:  5\n",
      "groundtruth: 5\n",
      "groundtruth values: [0, 2, 3, 4, 5]\n",
      "1\n"
     ]
    },
    {
     "data": {
      "application/vnd.jupyter.widget-view+json": {
       "model_id": "87e2a07d230248bb99c120243da9cf97",
       "version_major": 2,
       "version_minor": 0
      },
      "text/plain": [
       "  0%|          | 0/1 [00:00<?, ?it/s]"
      ]
     },
     "metadata": {},
     "output_type": "display_data"
    },
    {
     "name": "stdout",
     "output_type": "stream",
     "text": [
      "1\n",
      "5000\n",
      "Change dominating species from Neanderthal to Denisovan would require removing 5 reads: [6, 5, 3, 2, 9]\n",
      "[6, 5, 3, 2, 9]\n",
      "counter_factual: 5\n",
      "Change dominating species from Neanderthal to Denisovan would require removing 5 reads: [3, 5, 9, 6, 1]\n",
      "[3, 5, 9, 6, 1]\n",
      "counter_factualA_s_d: 5\n",
      "[(14, 0, 1, 7, 7, 7), (3, 8, 4, 2, 2, 2), (4, 7, 4, 2, 2, 2), (12, 2, 1, 5, 5, 5), (1, 9, 5, 5, 5, 5)]\n",
      "9 4 2\n",
      "\u001b[34mLoading sequences and calculating alignments to all references, this might take a while. Number of reads: \u001b[0m 15\n",
      "start working on read number 0\n",
      "working on size:  0\n",
      "working on size:  1\n",
      "working on size:  2\n",
      "working on size:  3\n",
      "working on size:  4\n",
      "working on size:  5\n",
      "working on size:  6\n",
      "groundtruth: 6\n",
      "groundtruth values: [0, 1, 2, 3, 7, 8]\n",
      "1\n"
     ]
    },
    {
     "data": {
      "application/vnd.jupyter.widget-view+json": {
       "model_id": "43ee380d88ab40ca9d9f3809e8b96b59",
       "version_major": 2,
       "version_minor": 0
      },
      "text/plain": [
       "  0%|          | 0/1 [00:00<?, ?it/s]"
      ]
     },
     "metadata": {},
     "output_type": "display_data"
    },
    {
     "name": "stdout",
     "output_type": "stream",
     "text": [
      "1\n",
      "5000\n",
      "Change dominating species from Homo Sapiens to Neanderthal would require removing 6 reads: [2, 1, 8, 3, 7, 4]\n",
      "[2, 1, 8, 3, 7, 4]\n",
      "counter_factual: 6\n",
      "Change dominating species from Homo Sapiens to Neanderthal would require removing 6 reads: [2, 8, 1, 3, 7, 12]\n",
      "[2, 8, 1, 3, 7, 12]\n",
      "counter_factualA_s_d: 6\n",
      "[(14, 0, 1, 7, 7, 7), (3, 8, 4, 2, 2, 2), (4, 7, 4, 2, 2, 2), (12, 2, 1, 5, 5, 5), (1, 9, 5, 5, 5, 5), (9, 4, 2, 6, 6, 6)]\n",
      "3 8 4\n",
      "\u001b[34mLoading sequences and calculating alignments to all references, this might take a while. Number of reads: \u001b[0m 15\n",
      "start working on read number 0\n",
      "working on size:  0\n",
      "working on size:  1\n",
      "working on size:  2\n",
      "working on size:  3\n",
      "groundtruth: 3\n",
      "groundtruth values: [4, 5, 7]\n",
      "1\n"
     ]
    },
    {
     "data": {
      "application/vnd.jupyter.widget-view+json": {
       "model_id": "ab7b00e7e07b4cad93a4b7efa9bb87c5",
       "version_major": 2,
       "version_minor": 0
      },
      "text/plain": [
       "  0%|          | 0/1 [00:00<?, ?it/s]"
      ]
     },
     "metadata": {},
     "output_type": "display_data"
    },
    {
     "name": "stdout",
     "output_type": "stream",
     "text": [
      "1\n",
      "5000\n",
      "Change dominating species from Neanderthal to Denisovan would require removing 3 reads: [7, 4, 10]\n",
      "[7, 4, 10]\n",
      "counter_factual: 3\n",
      "Change dominating species from Neanderthal to Denisovan would require removing 3 reads: [10, 4, 7]\n",
      "[10, 4, 7]\n",
      "counter_factualA_s_d: 3\n",
      "[(14, 0, 1, 7, 7, 7), (3, 8, 4, 2, 2, 2), (4, 7, 4, 2, 2, 2), (12, 2, 1, 5, 5, 5), (1, 9, 5, 5, 5, 5), (9, 4, 2, 6, 6, 6), (3, 8, 4, 3, 3, 3)]\n",
      "2 8 5\n",
      "\u001b[34mLoading sequences and calculating alignments to all references, this might take a while. Number of reads: \u001b[0m 15\n",
      "start working on read number 0\n",
      "working on size:  0\n",
      "working on size:  1\n",
      "working on size:  2\n",
      "working on size:  3\n",
      "groundtruth: 3\n",
      "groundtruth values: [1, 2, 4]\n",
      "1\n"
     ]
    },
    {
     "data": {
      "application/vnd.jupyter.widget-view+json": {
       "model_id": "4c1598d513b142d0858392fdeedf95c9",
       "version_major": 2,
       "version_minor": 0
      },
      "text/plain": [
       "  0%|          | 0/1 [00:00<?, ?it/s]"
      ]
     },
     "metadata": {},
     "output_type": "display_data"
    },
    {
     "name": "stdout",
     "output_type": "stream",
     "text": [
      "1\n",
      "5000\n",
      "Change dominating species from Neanderthal to Denisovan would require removing 3 reads: [1, 9, 5]\n",
      "[1, 9, 5]\n",
      "counter_factual: 3\n",
      "Change dominating species from Neanderthal to Denisovan would require removing 3 reads: [4, 5, 2]\n",
      "[4, 5, 2]\n",
      "counter_factualA_s_d: 3\n",
      "[(14, 0, 1, 7, 7, 7), (3, 8, 4, 2, 2, 2), (4, 7, 4, 2, 2, 2), (12, 2, 1, 5, 5, 5), (1, 9, 5, 5, 5, 5), (9, 4, 2, 6, 6, 6), (3, 8, 4, 3, 3, 3), (2, 8, 5, 3, 3, 3)]\n",
      "6 6 3\n",
      "\u001b[34mLoading sequences and calculating alignments to all references, this might take a while. Number of reads: \u001b[0m 15\n",
      "start working on read number 0\n",
      "working on size:  0\n",
      "working on size:  1\n",
      "groundtruth: 1\n",
      "groundtruth values: [7]\n",
      "1\n"
     ]
    },
    {
     "data": {
      "application/vnd.jupyter.widget-view+json": {
       "model_id": "c1e0ac136f1345acabbe29827c76b4a7",
       "version_major": 2,
       "version_minor": 0
      },
      "text/plain": [
       "  0%|          | 0/1 [00:00<?, ?it/s]"
      ]
     },
     "metadata": {},
     "output_type": "display_data"
    },
    {
     "name": "stdout",
     "output_type": "stream",
     "text": [
      "1\n",
      "5000\n",
      "Change dominating species from Neanderthal to Homo Sapiens would require removing 1 reads: [11]\n",
      "[11]\n",
      "counter_factual: 1\n",
      "Change dominating species from Neanderthal to Homo Sapiens would require removing 1 reads: [7]\n",
      "[7]\n",
      "counter_factualA_s_d: 1\n",
      "[(14, 0, 1, 7, 7, 7), (3, 8, 4, 2, 2, 2), (4, 7, 4, 2, 2, 2), (12, 2, 1, 5, 5, 5), (1, 9, 5, 5, 5, 5), (9, 4, 2, 6, 6, 6), (3, 8, 4, 3, 3, 3), (2, 8, 5, 3, 3, 3), (6, 6, 3, 1, 1, 1)]\n",
      "15 0 0\n",
      "\u001b[34mLoading sequences and calculating alignments to all references, this might take a while. Number of reads: \u001b[0m 15\n",
      "start working on read number 0\n",
      "working on size:  0\n",
      "working on size:  1\n",
      "working on size:  2\n",
      "working on size:  3\n",
      "working on size:  4\n",
      "working on size:  5\n",
      "groundtruth: 5\n",
      "groundtruth values: [5, 7, 10, 11, 13]\n",
      "1\n"
     ]
    },
    {
     "data": {
      "application/vnd.jupyter.widget-view+json": {
       "model_id": "a8347f767f8a462ca7c35643a1577b7a",
       "version_major": 2,
       "version_minor": 0
      },
      "text/plain": [
       "  0%|          | 0/1 [00:00<?, ?it/s]"
      ]
     },
     "metadata": {},
     "output_type": "display_data"
    },
    {
     "name": "stdout",
     "output_type": "stream",
     "text": [
      "1\n",
      "5000\n",
      "Change dominating species from Homo Sapiens to Neanderthal would require removing 5 reads: [5, 13, 10, 12, 7]\n",
      "[5, 13, 10, 12, 7]\n",
      "counter_factual: 5\n",
      "Change dominating species from Homo Sapiens to Neanderthal would require removing 6 reads: [5, 11, 10, 12, 7, 13]\n",
      "[5, 11, 10, 12, 7, 13]\n",
      "counter_factualA_s_d: 6\n",
      "[(14, 0, 1, 7, 7, 7), (3, 8, 4, 2, 2, 2), (4, 7, 4, 2, 2, 2), (12, 2, 1, 5, 5, 5), (1, 9, 5, 5, 5, 5), (9, 4, 2, 6, 6, 6), (3, 8, 4, 3, 3, 3), (2, 8, 5, 3, 3, 3), (6, 6, 3, 1, 1, 1), (15, 0, 0, 5, 5, 6)]\n",
      "8 4 3\n",
      "\u001b[34mLoading sequences and calculating alignments to all references, this might take a while. Number of reads: \u001b[0m 15\n",
      "start working on read number 0\n",
      "working on size:  0\n",
      "working on size:  1\n",
      "working on size:  2\n",
      "groundtruth: 2\n",
      "groundtruth values: [9, 11]\n",
      "1\n"
     ]
    },
    {
     "data": {
      "application/vnd.jupyter.widget-view+json": {
       "model_id": "cdcd8c2805fd4050b46437d1ba9c3fe0",
       "version_major": 2,
       "version_minor": 0
      },
      "text/plain": [
       "  0%|          | 0/1 [00:00<?, ?it/s]"
      ]
     },
     "metadata": {},
     "output_type": "display_data"
    },
    {
     "name": "stdout",
     "output_type": "stream",
     "text": [
      "1\n",
      "5000\n",
      "Change dominating species from Neanderthal to Homo Sapiens would require removing 2 reads: [9, 11]\n",
      "[9, 11]\n",
      "counter_factual: 2\n",
      "Change dominating species from Neanderthal to Homo Sapiens would require removing 2 reads: [11, 9]\n",
      "[11, 9]\n",
      "counter_factualA_s_d: 2\n",
      "[(14, 0, 1, 7, 7, 7), (3, 8, 4, 2, 2, 2), (4, 7, 4, 2, 2, 2), (12, 2, 1, 5, 5, 5), (1, 9, 5, 5, 5, 5), (9, 4, 2, 6, 6, 6), (3, 8, 4, 3, 3, 3), (2, 8, 5, 3, 3, 3), (6, 6, 3, 1, 1, 1), (15, 0, 0, 5, 5, 6), (8, 4, 3, 2, 2, 2)]\n",
      "6 6 3\n",
      "\u001b[34mLoading sequences and calculating alignments to all references, this might take a while. Number of reads: \u001b[0m 15\n",
      "start working on read number 0\n",
      "working on size:  0\n",
      "working on size:  1\n",
      "working on size:  2\n",
      "groundtruth: 2\n",
      "groundtruth values: [6, 7]\n",
      "1\n"
     ]
    },
    {
     "data": {
      "application/vnd.jupyter.widget-view+json": {
       "model_id": "460c29aec02c49e2bb6dec03e0f815d6",
       "version_major": 2,
       "version_minor": 0
      },
      "text/plain": [
       "  0%|          | 0/1 [00:00<?, ?it/s]"
      ]
     },
     "metadata": {},
     "output_type": "display_data"
    },
    {
     "name": "stdout",
     "output_type": "stream",
     "text": [
      "1\n",
      "5000\n",
      "Change dominating species from Neanderthal to Homo Sapiens would require removing 2 reads: [8, 9]\n",
      "[8, 9]\n",
      "counter_factual: 2\n",
      "Change dominating species from Neanderthal to Homo Sapiens would require removing 2 reads: [8, 10]\n",
      "[8, 10]\n",
      "counter_factualA_s_d: 2\n",
      "[(14, 0, 1, 7, 7, 7), (3, 8, 4, 2, 2, 2), (4, 7, 4, 2, 2, 2), (12, 2, 1, 5, 5, 5), (1, 9, 5, 5, 5, 5), (9, 4, 2, 6, 6, 6), (3, 8, 4, 3, 3, 3), (2, 8, 5, 3, 3, 3), (6, 6, 3, 1, 1, 1), (15, 0, 0, 5, 5, 6), (8, 4, 3, 2, 2, 2), (6, 6, 3, 2, 2, 2)]\n",
      "6 6 3\n",
      "\u001b[34mLoading sequences and calculating alignments to all references, this might take a while. Number of reads: \u001b[0m 15\n",
      "start working on read number 0\n",
      "working on size:  0\n",
      "working on size:  1\n",
      "working on size:  2\n",
      "working on size:  3\n",
      "groundtruth: 3\n",
      "groundtruth values: [0, 2, 3]\n",
      "1\n"
     ]
    },
    {
     "data": {
      "application/vnd.jupyter.widget-view+json": {
       "model_id": "d78b5d5d6e2a41149ca621b776a830df",
       "version_major": 2,
       "version_minor": 0
      },
      "text/plain": [
       "  0%|          | 0/1 [00:00<?, ?it/s]"
      ]
     },
     "metadata": {},
     "output_type": "display_data"
    },
    {
     "name": "stdout",
     "output_type": "stream",
     "text": [
      "1\n",
      "5000\n",
      "Change dominating species from Homo Sapiens to Neanderthal would require removing 3 reads: [5, 4, 2]\n",
      "[5, 4, 2]\n",
      "counter_factual: 3\n",
      "Change dominating species from Homo Sapiens to Neanderthal would require removing 3 reads: [4, 5, 0]\n",
      "[4, 5, 0]\n",
      "counter_factualA_s_d: 3\n",
      "[(14, 0, 1, 7, 7, 7), (3, 8, 4, 2, 2, 2), (4, 7, 4, 2, 2, 2), (12, 2, 1, 5, 5, 5), (1, 9, 5, 5, 5, 5), (9, 4, 2, 6, 6, 6), (3, 8, 4, 3, 3, 3), (2, 8, 5, 3, 3, 3), (6, 6, 3, 1, 1, 1), (15, 0, 0, 5, 5, 6), (8, 4, 3, 2, 2, 2), (6, 6, 3, 2, 2, 2), (6, 6, 3, 3, 3, 3)]\n",
      "1 9 5\n",
      "\u001b[34mLoading sequences and calculating alignments to all references, this might take a while. Number of reads: \u001b[0m 15\n",
      "start working on read number 0\n",
      "working on size:  0\n",
      "working on size:  1\n",
      "working on size:  2\n",
      "working on size:  3\n",
      "groundtruth: 3\n",
      "groundtruth values: [1, 2, 4]\n",
      "1\n"
     ]
    },
    {
     "data": {
      "application/vnd.jupyter.widget-view+json": {
       "model_id": "f1ab8f169482405c99510aab351f0e79",
       "version_major": 2,
       "version_minor": 0
      },
      "text/plain": [
       "  0%|          | 0/1 [00:00<?, ?it/s]"
      ]
     },
     "metadata": {},
     "output_type": "display_data"
    },
    {
     "name": "stdout",
     "output_type": "stream",
     "text": [
      "1\n",
      "5000\n",
      "Change dominating species from Neanderthal to Denisovan would require removing 3 reads: [1, 4, 9]\n",
      "[1, 4, 9]\n",
      "counter_factual: 3\n",
      "Change dominating species from Neanderthal to Denisovan would require removing 3 reads: [1, 4, 9]\n",
      "[1, 4, 9]\n",
      "counter_factualA_s_d: 3\n",
      "[(14, 0, 1, 7, 7, 7), (3, 8, 4, 2, 2, 2), (4, 7, 4, 2, 2, 2), (12, 2, 1, 5, 5, 5), (1, 9, 5, 5, 5, 5), (9, 4, 2, 6, 6, 6), (3, 8, 4, 3, 3, 3), (2, 8, 5, 3, 3, 3), (6, 6, 3, 1, 1, 1), (15, 0, 0, 5, 5, 6), (8, 4, 3, 2, 2, 2), (6, 6, 3, 2, 2, 2), (6, 6, 3, 3, 3, 3), (1, 9, 5, 3, 3, 3)]\n",
      "7 5 3\n",
      "\u001b[34mLoading sequences and calculating alignments to all references, this might take a while. Number of reads: \u001b[0m 15\n",
      "start working on read number 0\n",
      "working on size:  0\n",
      "working on size:  1\n",
      "working on size:  2\n",
      "groundtruth: 2\n",
      "groundtruth values: [0, 4]\n",
      "1\n"
     ]
    },
    {
     "data": {
      "application/vnd.jupyter.widget-view+json": {
       "model_id": "8ebdd1587d7b4c958220dc67895dc63f",
       "version_major": 2,
       "version_minor": 0
      },
      "text/plain": [
       "  0%|          | 0/1 [00:00<?, ?it/s]"
      ]
     },
     "metadata": {},
     "output_type": "display_data"
    },
    {
     "name": "stdout",
     "output_type": "stream",
     "text": [
      "1\n",
      "5000\n",
      "Change dominating species from Homo Sapiens to Neanderthal would require removing 2 reads: [0, 5]\n",
      "[0, 5]\n",
      "counter_factual: 2\n",
      "Change dominating species from Homo Sapiens to Neanderthal would require removing 2 reads: [5, 0]\n",
      "[5, 0]\n",
      "counter_factualA_s_d: 2\n",
      "[(14, 0, 1, 7, 7, 7), (3, 8, 4, 2, 2, 2), (4, 7, 4, 2, 2, 2), (12, 2, 1, 5, 5, 5), (1, 9, 5, 5, 5, 5), (9, 4, 2, 6, 6, 6), (3, 8, 4, 3, 3, 3), (2, 8, 5, 3, 3, 3), (6, 6, 3, 1, 1, 1), (15, 0, 0, 5, 5, 6), (8, 4, 3, 2, 2, 2), (6, 6, 3, 2, 2, 2), (6, 6, 3, 3, 3, 3), (1, 9, 5, 3, 3, 3), (7, 5, 3, 2, 2, 2)]\n",
      "1 9 5\n",
      "\u001b[34mLoading sequences and calculating alignments to all references, this might take a while. Number of reads: \u001b[0m 15\n",
      "start working on read number 0\n",
      "working on size:  0\n",
      "working on size:  1\n",
      "working on size:  2\n",
      "groundtruth: 2\n",
      "groundtruth values: [1, 2]\n",
      "1\n"
     ]
    },
    {
     "data": {
      "application/vnd.jupyter.widget-view+json": {
       "model_id": "d7599a90860940089ce40b145eabf044",
       "version_major": 2,
       "version_minor": 0
      },
      "text/plain": [
       "  0%|          | 0/1 [00:00<?, ?it/s]"
      ]
     },
     "metadata": {},
     "output_type": "display_data"
    },
    {
     "name": "stdout",
     "output_type": "stream",
     "text": [
      "1\n",
      "5000\n",
      "Change dominating species from Neanderthal to Denisovan would require removing 2 reads: [9, 6]\n",
      "[9, 6]\n",
      "counter_factual: 2\n",
      "Change dominating species from Neanderthal to Denisovan would require removing 2 reads: [1, 6]\n",
      "[1, 6]\n",
      "counter_factualA_s_d: 2\n",
      "[(14, 0, 1, 7, 7, 7), (3, 8, 4, 2, 2, 2), (4, 7, 4, 2, 2, 2), (12, 2, 1, 5, 5, 5), (1, 9, 5, 5, 5, 5), (9, 4, 2, 6, 6, 6), (3, 8, 4, 3, 3, 3), (2, 8, 5, 3, 3, 3), (6, 6, 3, 1, 1, 1), (15, 0, 0, 5, 5, 6), (8, 4, 3, 2, 2, 2), (6, 6, 3, 2, 2, 2), (6, 6, 3, 3, 3, 3), (1, 9, 5, 3, 3, 3), (7, 5, 3, 2, 2, 2), (1, 9, 5, 2, 2, 2)]\n",
      "11 2 2\n",
      "\u001b[34mLoading sequences and calculating alignments to all references, this might take a while. Number of reads: \u001b[0m 15\n",
      "start working on read number 0\n",
      "working on size:  0\n",
      "working on size:  1\n",
      "working on size:  2\n",
      "working on size:  3\n",
      "working on size:  4\n",
      "groundtruth: 4\n",
      "groundtruth values: [0, 1, 2, 6]\n",
      "1\n"
     ]
    },
    {
     "data": {
      "application/vnd.jupyter.widget-view+json": {
       "model_id": "a0084fa5eaef4cbda6c848c9a4d4d1db",
       "version_major": 2,
       "version_minor": 0
      },
      "text/plain": [
       "  0%|          | 0/1 [00:00<?, ?it/s]"
      ]
     },
     "metadata": {},
     "output_type": "display_data"
    },
    {
     "name": "stdout",
     "output_type": "stream",
     "text": [
      "1\n",
      "5000\n",
      "Change dominating species from Homo Sapiens to Neanderthal would require removing 4 reads: [6, 0, 2, 9]\n",
      "[6, 0, 2, 9]\n",
      "counter_factual: 4\n",
      "Change dominating species from Homo Sapiens to Neanderthal would require removing 4 reads: [6, 1, 7, 0]\n",
      "[6, 1, 7, 0]\n",
      "counter_factualA_s_d: 4\n",
      "[(14, 0, 1, 7, 7, 7), (3, 8, 4, 2, 2, 2), (4, 7, 4, 2, 2, 2), (12, 2, 1, 5, 5, 5), (1, 9, 5, 5, 5, 5), (9, 4, 2, 6, 6, 6), (3, 8, 4, 3, 3, 3), (2, 8, 5, 3, 3, 3), (6, 6, 3, 1, 1, 1), (15, 0, 0, 5, 5, 6), (8, 4, 3, 2, 2, 2), (6, 6, 3, 2, 2, 2), (6, 6, 3, 3, 3, 3), (1, 9, 5, 3, 3, 3), (7, 5, 3, 2, 2, 2), (1, 9, 5, 2, 2, 2), (11, 2, 2, 4, 4, 4)]\n",
      "8 4 3\n",
      "\u001b[34mLoading sequences and calculating alignments to all references, this might take a while. Number of reads: \u001b[0m 15\n",
      "start working on read number 0\n",
      "working on size:  0\n",
      "working on size:  1\n",
      "working on size:  2\n",
      "working on size:  3\n",
      "working on size:  4\n",
      "groundtruth: 4\n",
      "groundtruth values: [2, 4, 6, 7]\n",
      "1\n"
     ]
    },
    {
     "data": {
      "application/vnd.jupyter.widget-view+json": {
       "model_id": "bac4ab76d5d047e1b6fec05fea5277dd",
       "version_major": 2,
       "version_minor": 0
      },
      "text/plain": [
       "  0%|          | 0/1 [00:00<?, ?it/s]"
      ]
     },
     "metadata": {},
     "output_type": "display_data"
    },
    {
     "name": "stdout",
     "output_type": "stream",
     "text": [
      "1\n",
      "5000\n",
      "Change dominating species from Homo Sapiens to Neanderthal would require removing 4 reads: [2, 4, 6, 10]\n",
      "[2, 4, 6, 10]\n",
      "counter_factual: 4\n",
      "Change dominating species from Homo Sapiens to Neanderthal would require removing 4 reads: [6, 4, 2, 10]\n",
      "[6, 4, 2, 10]\n",
      "counter_factualA_s_d: 4\n",
      "[(14, 0, 1, 7, 7, 7), (3, 8, 4, 2, 2, 2), (4, 7, 4, 2, 2, 2), (12, 2, 1, 5, 5, 5), (1, 9, 5, 5, 5, 5), (9, 4, 2, 6, 6, 6), (3, 8, 4, 3, 3, 3), (2, 8, 5, 3, 3, 3), (6, 6, 3, 1, 1, 1), (15, 0, 0, 5, 5, 6), (8, 4, 3, 2, 2, 2), (6, 6, 3, 2, 2, 2), (6, 6, 3, 3, 3, 3), (1, 9, 5, 3, 3, 3), (7, 5, 3, 2, 2, 2), (1, 9, 5, 2, 2, 2), (11, 2, 2, 4, 4, 4), (8, 4, 3, 4, 4, 4)]\n",
      "4 7 4\n",
      "\u001b[34mLoading sequences and calculating alignments to all references, this might take a while. Number of reads: \u001b[0m 15\n",
      "start working on read number 0\n",
      "working on size:  0\n",
      "working on size:  1\n",
      "groundtruth: 1\n",
      "groundtruth values: [13]\n",
      "1\n"
     ]
    },
    {
     "data": {
      "application/vnd.jupyter.widget-view+json": {
       "model_id": "08567b52833f49c0bf38fc534e2425ca",
       "version_major": 2,
       "version_minor": 0
      },
      "text/plain": [
       "  0%|          | 0/1 [00:00<?, ?it/s]"
      ]
     },
     "metadata": {},
     "output_type": "display_data"
    },
    {
     "name": "stdout",
     "output_type": "stream",
     "text": [
      "1\n",
      "5000\n",
      "Change dominating species from Neanderthal to Homo Sapiens would require removing 1 reads: [13]\n",
      "[13]\n",
      "counter_factual: 1\n",
      "Change dominating species from Neanderthal to Homo Sapiens would require removing 3 reads: [4, 0, 13]\n",
      "[4, 0, 13]\n",
      "counter_factualA_s_d: 3\n",
      "[(14, 0, 1, 7, 7, 7), (3, 8, 4, 2, 2, 2), (4, 7, 4, 2, 2, 2), (12, 2, 1, 5, 5, 5), (1, 9, 5, 5, 5, 5), (9, 4, 2, 6, 6, 6), (3, 8, 4, 3, 3, 3), (2, 8, 5, 3, 3, 3), (6, 6, 3, 1, 1, 1), (15, 0, 0, 5, 5, 6), (8, 4, 3, 2, 2, 2), (6, 6, 3, 2, 2, 2), (6, 6, 3, 3, 3, 3), (1, 9, 5, 3, 3, 3), (7, 5, 3, 2, 2, 2), (1, 9, 5, 2, 2, 2), (11, 2, 2, 4, 4, 4), (8, 4, 3, 4, 4, 4), (4, 7, 4, 1, 1, 3)]\n",
      "15 0 0\n",
      "\u001b[34mLoading sequences and calculating alignments to all references, this might take a while. Number of reads: \u001b[0m 15\n",
      "start working on read number 0\n",
      "working on size:  0\n",
      "working on size:  1\n",
      "working on size:  2\n",
      "working on size:  3\n",
      "working on size:  4\n",
      "working on size:  5\n",
      "working on size:  6\n",
      "working on size:  7\n",
      "working on size:  8\n",
      "working on size:  9\n",
      "groundtruth: 9\n",
      "groundtruth values: [0, 1, 2, 4, 6, 8, 9, 10, 13]\n",
      "1\n"
     ]
    },
    {
     "data": {
      "application/vnd.jupyter.widget-view+json": {
       "model_id": "87c283e91eff4af1bcaee11f5dff2932",
       "version_major": 2,
       "version_minor": 0
      },
      "text/plain": [
       "  0%|          | 0/1 [00:00<?, ?it/s]"
      ]
     },
     "metadata": {},
     "output_type": "display_data"
    },
    {
     "name": "stdout",
     "output_type": "stream",
     "text": [
      "1\n",
      "5000\n",
      "Change dominating species from Homo Sapiens to Neanderthal would require removing 9 reads: [8, 6, 9, 2, 4, 1, 10, 13, 0]\n",
      "[8, 6, 9, 2, 4, 1, 10, 13, 0]\n",
      "counter_factual: 9\n",
      "Change dominating species from Homo Sapiens to Neanderthal would require removing 9 reads: [13, 10, 4, 8, 6, 0, 9, 2, 1]\n",
      "[13, 10, 4, 8, 6, 0, 9, 2, 1]\n",
      "counter_factualA_s_d: 9\n",
      "[(14, 0, 1, 7, 7, 7), (3, 8, 4, 2, 2, 2), (4, 7, 4, 2, 2, 2), (12, 2, 1, 5, 5, 5), (1, 9, 5, 5, 5, 5), (9, 4, 2, 6, 6, 6), (3, 8, 4, 3, 3, 3), (2, 8, 5, 3, 3, 3), (6, 6, 3, 1, 1, 1), (15, 0, 0, 5, 5, 6), (8, 4, 3, 2, 2, 2), (6, 6, 3, 2, 2, 2), (6, 6, 3, 3, 3, 3), (1, 9, 5, 3, 3, 3), (7, 5, 3, 2, 2, 2), (1, 9, 5, 2, 2, 2), (11, 2, 2, 4, 4, 4), (8, 4, 3, 4, 4, 4), (4, 7, 4, 1, 1, 3), (15, 0, 0, 9, 9, 9)]\n"
     ]
    }
   ],
   "source": [
    "import random\n",
    "results = []\n",
    "number_of_experiments = 20\n",
    "for i in range(number_of_experiments):\n",
    "    size_of_sample = 15\n",
    "    number_of_sap = random.randint(0,size_of_sample)\n",
    "    number_of_nean = ((size_of_sample-number_of_sap)*2)//3\n",
    "    number_of_denisovan = size_of_sample - number_of_sap - number_of_nean\n",
    "    print(number_of_sap, number_of_nean, number_of_denisovan)\n",
    "    sample = generate_sample(number_of_sap, number_of_nean, number_of_denisovan)\n",
    "    maximum_likelihood_calculator_on_sample = ExplainableMaximumLikelihoodCalculator(sample,\n",
    "                                                ref_neanderthal_file_names=neanderthals_reference_file_names,\n",
    "                                                ref_sapien_file_names=sapiens_reference_file_names,\n",
    "                                                ref_denisovan_file_names=denisovan_reference_file_names,\n",
    "                                                path_to_substitution_matrix=path_to_frequencies_table,\n",
    "                                                number_of_jobs=-1)\n",
    "    ground_truth = calculate_ground_truth(maximum_likelihood_calculator_on_sample, sample)\n",
    "    print(\"groundtruth:\", ground_truth[0])\n",
    "    print(\"groundtruth values:\", ground_truth[1])\n",
    "    if (ground_truth[0] == size_of_sample):\n",
    "        continue\n",
    "    size_of_cf = get_counter_factual(maximum_likelihood_calculator_on_sample)\n",
    "    print(\"counter_factual:\", size_of_cf)\n",
    "    size_of_cf_based_on_a_s_d = counter_factual_based_on_a_s_d = get_cf_based_on_a_s_d(maximum_likelihood_calculator_on_sample)\n",
    "    print(\"counter_factualA_s_d:\", size_of_cf_based_on_a_s_d)\n",
    "\n",
    "    results.append((number_of_sap, number_of_nean, number_of_denisovan, ground_truth[0], size_of_cf, size_of_cf_based_on_a_s_d))\n",
    "    print(results)\n",
    "    \n",
    "    "
   ]
  },
  {
   "cell_type": "markdown",
   "id": "fecdbcd4-840e-49ec-9612-2cab8ab038f8",
   "metadata": {},
   "source": [
    "## We will create datasets of 50%-25%-25% and will run shapley and CF1`"
   ]
  },
  {
   "cell_type": "code",
   "execution_count": 9,
   "id": "feeb69e7-1332-4fe8-9cc6-7f6b86f80913",
   "metadata": {},
   "outputs": [],
   "source": [
    "results_a = [(6, 4, 3, 3, 3), (2, 8, 4, 4, 4), (8, 2, 5, 5, 5), (3, 7, 2, 2, 2), (6, 4, 1, 1, 1), (9, 1, 6, 6, 6), (8, 2, 4, 4, 4), (2, 8, 4, 4, 4), (8, 2, 1, 1, 1), (6, 4, 1, 1, 1), (5, 5, 2, 2, 2), (8, 2, 1, 1, 1), (8, 2, 6, 7, 7), (1, 9, 4, 7, 6), (2, 8, 10, 0, 0), (9, 1, 4, 4, 4), (5, 5, 3, 3, 3), (7, 3, 3, 6, 5), (0, 10, 3, 5, 7), (4, 6, 4, 5, 8)]\n",
    "\n",
    "results_b = [(5, 10, 3, 3, 3), (5, 10, 4, 4, 4), (15, 0, 6, 6, 6), (15, 0, 6, 6, 6), (13, 2, 6, 6, 6), (15, 0, 9, 9, 9), (7, 8, 1, 1, 1), (12, 3, 6, 7, 7), (9, 6, 3, 3, 3), (12, 3, 3, 3, 3), (11, 4, 4, 4, 4), (5, 10, 2, 2, 2), (6, 9, 2, 2, 2), (2, 13, 9, 12, 12), (5, 10, 6, 6, 6), (4, 11, 4, 4, 4), (10, 5, 4, 4, 4), (1, 14, 9, 12, 12), (15, 0, 9, 10, 12), (4, 11, 2, 2, 2)]\n",
    "\n",
    "results_c = [(12, 2, 1, 4, 4, 4), (8, 4, 3, 3, 3, 3), (2, 8, 5, 1, 1, 1), (12, 2, 1, 5, 5, 5), (15, 0, 0, 8, 8, 8), (5, 6, 4, 2, 2, 2), (11, 2, 2, 6, 6, 6), (6, 6, 3, 5, 5, 5), (5, 6, 4, 1, 1, 1), (7, 5, 3, 1, 1, 1), (14, 0, 1, 5, 5, 5), (7, 5, 3, 1, 1, 1), (13, 1, 1, 8, 8, 8), (8, 4, 3, 4, 4, 4), (4, 7, 4, 1, 1, 1), (15, 0, 0, 8, 8, 8), (2, 8, 5, 1, 1, 1), (1, 9, 5, 3, 3, 4), (13, 1, 1, 5, 5, 5), (14, 0, 1, 4, 4, 4)]\n",
    "\n",
    "results_d = [(14, 0, 1, 7, 7, 7), (3, 8, 4, 2, 2, 2), (4, 7, 4, 2, 2, 2), (12, 2, 1, 5, 5, 5), (1, 9, 5, 5, 5, 5), (9, 4, 2, 6, 6, 6), (3, 8, 4, 3, 3, 3), (2, 8, 5, 3, 3, 3), (6, 6, 3, 1, 1, 1), (15, 0, 0, 5, 5, 6), (8, 4, 3, 2, 2, 2), (6, 6, 3, 2, 2, 2), (6, 6, 3, 3, 3, 3), (1, 9, 5, 3, 3, 3), (7, 5, 3, 2, 2, 2), (1, 9, 5, 2, 2, 2), (11, 2, 2, 4, 4, 4), (8, 4, 3, 4, 4, 4), (4, 7, 4, 1, 1, 3), (15, 0, 0, 9, 9, 9)]\n",
    "\n",
    "results_e = [(12, 2, 1, 3, 3, 3), (9, 4, 2, 2, 2, 2), (11, 2, 2, 3, 3, 3), (8, 4, 3, 4, 4, 4), (5, 6, 4, 2, 2, 2), (13, 1, 1, 4, 4, 4), (15, 0, 0, 10, 11, 11), (2, 8, 5, 2, 2, 2), (12, 2, 1, 8, 9, 13), (3, 8, 4, 3, 3, 3), (0, 10, 5, 6, 7, 6), (13, 1, 1, 2, 2, 2), (0, 10, 5, 5, 5, 5), (1, 9, 5, 3, 3, 3), (4, 7, 4, 2, 2, 2), (3, 8, 4, 2, 2, 2), (2, 8, 5, 4, 4, 4), (11, 2, 2, 5, 5, 5), (15, 0, 0, 7, 7, 7), (9, 4, 2, 1, 1, 1)]"
   ]
  },
  {
   "cell_type": "code",
   "execution_count": 28,
   "id": "dfa4eee5-f85c-4d97-8d72-fd6a7e585c13",
   "metadata": {},
   "outputs": [],
   "source": [
    "results_a = [(6, 4, 0, 3, 3, 3),\n",
    " (2, 8, 0, 4, 4, 4),\n",
    " (8, 2, 0, 5, 5, 5),\n",
    " (3, 7, 0, 2, 2, 2),\n",
    " (6, 4, 0, 1, 1, 1),\n",
    " (9, 1, 0, 6, 6, 6),\n",
    " (8, 2, 0, 4, 4, 4),\n",
    " (2, 8, 0, 4, 4, 4),\n",
    " (8, 2, 0, 1, 1, 1),\n",
    " (6, 4, 0, 1, 1, 1),\n",
    " (5, 5, 0, 2, 2, 2),\n",
    " (8, 2, 0, 1, 1, 1),\n",
    " (8, 2, 0, 6, 7, 7),\n",
    " (1, 9, 0, 4, 7, 6),\n",
    " (2, 8, 0, 0, 0, 0),\n",
    " (9, 1, 0, 4, 4, 4),\n",
    " (5, 5, 0, 3, 3, 3),\n",
    " (7, 3, 0, 3, 6, 5),\n",
    " (0, 10, 0, 3, 5, 7),\n",
    " (4, 6, 0, 4, 5, 8)]"
   ]
  },
  {
   "cell_type": "code",
   "execution_count": 12,
   "id": "b18bded1-3d73-4137-a7f3-20e23f4f9b73",
   "metadata": {},
   "outputs": [],
   "source": [
    "results_b = [(t[0], t[1], 0, t[2], t[3], t[4]) for t in results_b]"
   ]
  },
  {
   "cell_type": "code",
   "execution_count": 13,
   "id": "b014c7ea-9394-4059-8052-31949bae9792",
   "metadata": {},
   "outputs": [
    {
     "data": {
      "text/plain": [
       "[(5, 10, 0, 3, 3, 3),\n",
       " (5, 10, 0, 4, 4, 4),\n",
       " (15, 0, 0, 6, 6, 6),\n",
       " (15, 0, 0, 6, 6, 6),\n",
       " (13, 2, 0, 6, 6, 6),\n",
       " (15, 0, 0, 9, 9, 9),\n",
       " (7, 8, 0, 1, 1, 1),\n",
       " (12, 3, 0, 6, 7, 7),\n",
       " (9, 6, 0, 3, 3, 3),\n",
       " (12, 3, 0, 3, 3, 3),\n",
       " (11, 4, 0, 4, 4, 4),\n",
       " (5, 10, 0, 2, 2, 2),\n",
       " (6, 9, 0, 2, 2, 2),\n",
       " (2, 13, 0, 9, 12, 12),\n",
       " (5, 10, 0, 6, 6, 6),\n",
       " (4, 11, 0, 4, 4, 4),\n",
       " (10, 5, 0, 4, 4, 4),\n",
       " (1, 14, 0, 9, 12, 12),\n",
       " (15, 0, 0, 9, 10, 12),\n",
       " (4, 11, 0, 2, 2, 2)]"
      ]
     },
     "execution_count": 13,
     "metadata": {},
     "output_type": "execute_result"
    }
   ],
   "source": [
    "results_b"
   ]
  },
  {
   "cell_type": "code",
   "execution_count": 29,
   "id": "77fafd15-11f2-45a3-9674-c954ca0368d7",
   "metadata": {},
   "outputs": [],
   "source": [
    "all = results_a + results_b + results_c + results_d + results_e"
   ]
  },
  {
   "cell_type": "code",
   "execution_count": 30,
   "id": "df4e18ee-3cc4-4cc5-b0c4-7d1cb906483a",
   "metadata": {},
   "outputs": [],
   "source": [
    "ground = [i[3] for i in all]"
   ]
  },
  {
   "cell_type": "code",
   "execution_count": 31,
   "id": "20a01715-1b9c-483c-9e1c-d2a1c8a8eb10",
   "metadata": {},
   "outputs": [
    {
     "data": {
      "text/plain": [
       "3.84"
      ]
     },
     "execution_count": 31,
     "metadata": {},
     "output_type": "execute_result"
    }
   ],
   "source": [
    "np.mean(ground)"
   ]
  },
  {
   "cell_type": "code",
   "execution_count": 32,
   "id": "eed8b5b7-17cf-4482-9e84-d07e33560894",
   "metadata": {},
   "outputs": [],
   "source": [
    "diffs_shap = [i[4]-i[3] for i in all]\n",
    "diffs_a_s_d = [i[5]-i[3] for i in all]"
   ]
  },
  {
   "cell_type": "code",
   "execution_count": 35,
   "id": "66590287-3c54-4321-a0ab-7316c452a5a0",
   "metadata": {},
   "outputs": [
    {
     "data": {
      "text/plain": [
       "88"
      ]
     },
     "execution_count": 35,
     "metadata": {},
     "output_type": "execute_result"
    }
   ],
   "source": [
    "diffs_shap.count(0)"
   ]
  },
  {
   "cell_type": "code",
   "execution_count": 38,
   "id": "89248b9c-71d5-4a3e-9abd-3c1a4aa1c6e3",
   "metadata": {},
   "outputs": [
    {
     "data": {
      "image/png": "[encoded data removed]",
      "text/plain": [
       "<Figure size 640x480 with 1 Axes>"
      ]
     },
     "metadata": {},
     "output_type": "display_data"
    }
   ],
   "source": [
    "import matplotlib.pyplot as plt\n",
    "import numpy as np\n",
    "plt.rcParams.update({'font.size': 14})\n",
    "\n",
    "your_bins=10\n",
    "arr=plt.hist(diffs_shap,bins=your_bins, range=[0, 5])\n",
    "for i in range(your_bins):\n",
    "    if (i%2==0):\n",
    "        plt.text(arr[1][i],arr[0][i],str(arr[0][i]))\n",
    "plt.ylabel('Number of datasets')\n",
    "plt.xlabel('Distance from ground truth - SHAP');\n",
    "plt.title(\"Counterfactual accuracy\")\n",
    "\n",
    "plt.savefig(\"accuracy_of_counter_factual_shap.png\")"
   ]
  },
  {
   "cell_type": "code",
   "execution_count": 39,
   "id": "88c61c36-f3e1-4724-8d66-34d8e4d14cc2",
   "metadata": {},
   "outputs": [
    {
     "data": {
      "image/png": "[encoded data removed]",
      "text/plain": [
       "<Figure size 640x480 with 1 Axes>"
      ]
     },
     "metadata": {},
     "output_type": "display_data"
    }
   ],
   "source": [
    "\n",
    "plt.rcParams.update({'font.size': 14})\n",
    "\n",
    "your_bins=10\n",
    "arr=plt.hist(diffs_a_s_d,bins=your_bins, range=[0, 5])\n",
    "for i in range(your_bins):\n",
    "    if (i%2==0):\n",
    "        plt.text(arr[1][i],arr[0][i],str(arr[0][i]))\n",
    "plt.ylabel('Number of datasets')\n",
    "plt.xlabel('Distance from ground truth - a_s_d values');\n",
    "plt.title(\"Counterfactual accuracy\")\n",
    "\n",
    "plt.savefig(\"accuracy_of_counter_factual_a_s_d.png\")"
   ]
  },
  {
   "cell_type": "code",
   "execution_count": null,
   "id": "9e959df9-fe9f-4a74-b281-3e34e8c8eee9",
   "metadata": {},
   "outputs": [],
   "source": []
  }
 ],
 "metadata": {
  "kernelspec": {
   "display_name": "Python 3 (ipykernel)",
   "language": "python",
   "name": "python3"
  },
  "language_info": {
   "codemirror_mode": {
    "name": "ipython",
    "version": 3
   },
   "file_extension": ".py",
   "mimetype": "text/x-python",
   "name": "python",
   "nbconvert_exporter": "python",
   "pygments_lexer": "ipython3",
   "version": "3.8.8"
  }
 },
 "nbformat": 4,
 "nbformat_minor": 5
}
