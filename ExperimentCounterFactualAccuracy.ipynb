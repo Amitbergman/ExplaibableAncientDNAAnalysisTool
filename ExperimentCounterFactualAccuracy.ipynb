{
 "cells": [
  {
   "cell_type": "code",
   "execution_count": 1,
   "id": "4a766c28-5127-4009-9d8f-5e2ba2a168e6",
   "metadata": {},
   "outputs": [
    {
     "name": "stderr",
     "output_type": "stream",
     "text": [
      "2023-08-16 22:09:44.002085: I tensorflow/core/platform/cpu_feature_guard.cc:193] This TensorFlow binary is optimized with oneAPI Deep Neural Network Library (oneDNN) to use the following CPU instructions in performance-critical operations:  AVX2 AVX512F AVX512_VNNI FMA\n",
      "To enable them in other operations, rebuild TensorFlow with the appropriate compiler flags.\n",
      "2023-08-16 22:09:44.617114: I tensorflow/core/util/util.cc:169] oneDNN custom operations are on. You may see slightly different numerical results due to floating-point round-off errors from different computation orders. To turn them off, set the environment variable `TF_ENABLE_ONEDNN_OPTS=0`.\n",
      "2023-08-16 22:09:45.022552: E tensorflow/stream_executor/cuda/cuda_blas.cc:2981] Unable to register cuBLAS factory: Attempting to register factory for plugin cuBLAS when one has already been registered\n",
      "2023-08-16 22:09:46.555977: W tensorflow/stream_executor/platform/default/dso_loader.cc:64] Could not load dynamic library 'libnvinfer.so.7'; dlerror: libnvinfer.so.7: cannot open shared object file: No such file or directory\n",
      "2023-08-16 22:09:46.556096: W tensorflow/stream_executor/platform/default/dso_loader.cc:64] Could not load dynamic library 'libnvinfer_plugin.so.7'; dlerror: libnvinfer_plugin.so.7: cannot open shared object file: No such file or directory\n",
      "2023-08-16 22:09:46.556103: W tensorflow/compiler/tf2tensorrt/utils/py_utils.cc:38] TF-TRT Warning: Cannot dlopen some TensorRT libraries. If you would like to use Nvidia GPU with TensorRT, please make sure the missing libraries mentioned above are installed properly.\n"
     ]
    }
   ],
   "source": [
    "def warn(*args, **kwargs):\n",
    "    pass\n",
    "import warnings\n",
    "warnings.warn = warn\n",
    "import seaborn as sns\n",
    "from ExplainableMaximumLikelihoodCalculator import ExplainableMaximumLikelihoodCalculator\n",
    "import pysam\n",
    "from Bio import SeqIO, Seq, SeqRecord, pairwise2\n",
    "from Bio.pairwise2 import format_alignment\n",
    "from LoadDataUtils import getListOfReadsFromBamFile, getListOfReadsFromFastaFile\n",
    "import matplotlib.pyplot as plt\n",
    "import numpy as np\n",
    "import pandas as pd\n",
    "import random\n",
    "import math\n",
    "import shap\n",
    "from scipy.stats import chisquare\n",
    "from scipy.special import rel_entr\n",
    "fileNameSapiens =  \"data/simulatedData/human_chinese_AF346973_500samples.fas\" #File that contains 500 reads from homo sapiens\n",
    "fileNameNeanderthals =  \"data/simulatedData/Neanderthal_Goyet_KX198085_500samples.fas\" #File that contains 500 reads from neanderthal\n",
    "fileNameDenisovans =  \"data/simulatedData/denisova_kx663333_500samples.fas\" #File that contains 500 reads from denisovan\n",
    "neanderthals_500_generated = getListOfReadsFromFastaFile(fileNameNeanderthals)\n",
    "sapiens_500_generated = getListOfReadsFromFastaFile(fileNameSapiens)\n",
    "denisovan_500_samples = getListOfReadsFromFastaFile(fileNameDenisovans)\n",
    "path_to_frequencies_table = \"data/substitution_matrix.tsv\"\n",
    "import itertools\n",
    " \n",
    "def findsubsets(s, n):\n",
    "    subsets = list(itertools.combinations(s, n))\n",
    "    return [list(a) for a in subsets]"
   ]
  },
  {
   "cell_type": "code",
   "execution_count": 2,
   "id": "4c7219dd-0276-46fc-a577-e12d25c90044",
   "metadata": {},
   "outputs": [],
   "source": [
    "sapiens_reference_file_names = [\n",
    "                    \"data/reference_files/human_AF346981_French.fa\",\n",
    "                     \"data/reference_files/human_AY195760_Korea.fa\",\n",
    "                      \"data/reference_files/human_AY882416_Ethiopia.fa\",\n",
    "                      \"data/reference_files/human_AY963586_Italian.fa\",\n",
    "                      \"data/reference_files/human_AY195781_Caucasian.fa\",\n",
    "                      \"data/reference_files/human_AY195757_Iraqi-Israeli.fa\",\n",
    "                      \"data/reference_files/human_AY195749_NativeAmerican.fa\"]\n",
    "neanderthals_reference_file_names = [\n",
    "                            \"data/reference_files/neanderthal_mezmaiskaya1_FM865411.fa\",\n",
    "                           \"data/reference_files/Neanderthal_Altai_KC879692.fa\",\n",
    "                           \"data/reference_files/Neanderthal_Denisova11_full_mtDNA_KU131206.fa\",\n",
    "                           \"data/reference_files/Neanderthal_Spy_94a_MG025538.fa\",\n",
    "                            \"data/reference_files/Neanderthal_Vindija33.16_AM948965.fa\",\n",
    "                            \"data/reference_files/Neanderthal_Vindija33.19_KJ533545.fa\"]\n",
    "denisovan_reference_file_names = [  \n",
    "                        \"data/reference_files/Denisova_MT576653.1.fa\",\n",
    "                        \"data/reference_files/Denisova_MT576652.1.fa\",\n",
    "                        \"data/reference_files/Denisova_4_FR695060.fa\",\n",
    "                        \"data/reference_files/Denisova_8_KT780370.fa\",\n",
    "                        \"data/reference_files/Denisova_manual_phalanx_NC_013993.fa\",\n",
    "                        \"data/reference_files/Denisova_MT576651.1.fa\"]"
   ]
  },
  {
   "cell_type": "code",
   "execution_count": 3,
   "id": "06f5d486-17d9-45c9-9483-c5abe04b49f8",
   "metadata": {},
   "outputs": [],
   "source": [
    "def generate_sample(sap, nean, den):\n",
    "    list_before =  list(np.random.choice(sapiens_500_generated, sap)) + list(np.random.choice(neanderthals_500_generated, nean)) + list(np.random.choice(denisovan_500_samples, den))\n",
    "    l = []\n",
    "    for i in list_before:\n",
    "        l.append(str(i))\n",
    "    return l"
   ]
  },
  {
   "cell_type": "code",
   "execution_count": 4,
   "id": "d9ffa3b0-5d87-4490-888f-f953cbbaef86",
   "metadata": {},
   "outputs": [],
   "source": [
    "def get_counter_factual_based_on_shap(ml_estimtator, sample_size):\n",
    "    \n",
    "    shapleys = ml_estimtator.calculate_shapley_values(sample_size)\n",
    "    cf = ml_estimtator.generateCounterFactualMinimalSetToRemoveAndChangeMax(shapleys)\n",
    "    print(cf[0])\n",
    "    size_of_cf = len(cf[0])\n",
    "    return size_of_cf\n",
    "    "
   ]
  },
  {
   "cell_type": "code",
   "execution_count": 5,
   "id": "2581f6c1-350e-4d56-bf19-7b688db47265",
   "metadata": {},
   "outputs": [],
   "source": [
    "def get_cf_based_on_a_s_d(ml_estimtator):\n",
    "    cf = ml_estimtator.generateCounterFactualMinimalSetToRemoveAndChangeMax_using_a_s_d_values()\n",
    "    print(cf[0])\n",
    "    size_of_cf = len(cf[0])\n",
    "    return size_of_cf\n",
    "    "
   ]
  },
  {
   "cell_type": "code",
   "execution_count": 6,
   "id": "3ce1ea04-41ef-45e2-85ff-fc800d143afc",
   "metadata": {},
   "outputs": [],
   "source": [
    "def get_counter_factual_based_on_monte_carlo(ml_estimtator, sample_size):\n",
    "    \n",
    "    shapley_values_monte_carlo = ml_estimtator.estimate_shapley_values(number_of_samples_per_read = sample_size)\n",
    "    cf = ml_estimtator.generateCounterFactualMinimalSetToRemoveAndChangeMax(shapley_values_monte_carlo)\n",
    "    print(cf[0])\n",
    "    size_of_cf = len(cf[0])\n",
    "    return size_of_cf\n",
    "    "
   ]
  },
  {
   "cell_type": "code",
   "execution_count": 7,
   "id": "bba6a819-4dfb-45de-bd82-3b53015ccb57",
   "metadata": {},
   "outputs": [],
   "source": [
    "def calculate_ground_truth(ml_estimator, sample):\n",
    "    maxer_before = ml_estimator.estimate_species_proportions().values.argmax()\n",
    "    sample_indexes = [i for i in range(len(sample))]\n",
    "    for i in range(len(sample)):\n",
    "        print(\"working on size: \", i)\n",
    "        subsets = findsubsets(sample_indexes, i)\n",
    "        for to_ignore in subsets:\n",
    "            result_after = ml_estimator.estimate_species_proportions(ignore_list_indexes=to_ignore).values.argmax()\n",
    "            if (result_after != maxer_before):\n",
    "                return (i, to_ignore)\n",
    "    return (0, [])\n",
    "        \n",
    "    \n",
    "    "
   ]
  },
  {
   "cell_type": "code",
   "execution_count": 8,
   "id": "a2e2952b-4471-444f-9873-5ae71d15f8fc",
   "metadata": {},
   "outputs": [
    {
     "name": "stdout",
     "output_type": "stream",
     "text": [
      "new experiment: 0\n",
      "10 1 1\n",
      "\u001b[34mLoading sequences and calculating alignments to all references, this might take a while. Number of reads: \u001b[0m 12\n",
      "start working on read number 0\n",
      "working on size:  0\n",
      "working on size:  1\n",
      "working on size:  2\n",
      "working on size:  3\n",
      "working on size:  4\n",
      "working on size:  5\n",
      "working on size:  6\n",
      "groundtruth: 6\n",
      "groundtruth values: [0, 2, 4, 6, 8, 9]\n",
      "Change dominating species from Homo Sapiens to Neanderthal would require removing 9 reads: [6, 8, 9, 10, 0, 1, 2, 3, 4]\n",
      "[6, 8, 9, 10, 0, 1, 2, 3, 4]\n",
      "counter_factual monte carlo on size 1: 9\n",
      "1\n"
     ]
    },
    {
     "data": {
      "application/vnd.jupyter.widget-view+json": {
       "model_id": "0cc45544be23400abf3ef303e806fcc0",
       "version_major": 2,
       "version_minor": 0
      },
      "text/plain": [
       "  0%|          | 0/1 [00:00<?, ?it/s]"
      ]
     },
     "metadata": {},
     "output_type": "display_data"
    },
    {
     "name": "stdout",
     "output_type": "stream",
     "text": [
      "1\n",
      "1\n",
      "Change dominating species from Homo Sapiens to Denisovan would require removing 10 reads: [0, 1, 2, 3, 4, 5, 6, 7, 8, 9]\n",
      "[0, 1, 2, 3, 4, 5, 6, 7, 8, 9]\n",
      "counter_factual shap on size 1: 10\n",
      "Change dominating species from Homo Sapiens to Neanderthal would require removing 6 reads: [4, 2, 0, 9, 6, 8]\n",
      "[4, 2, 0, 9, 6, 8]\n",
      "counter_factual monte carlo on size 5: 6\n",
      "1\n"
     ]
    },
    {
     "data": {
      "application/vnd.jupyter.widget-view+json": {
       "model_id": "d5a7ad2927154fe7945818350132e1d1",
       "version_major": 2,
       "version_minor": 0
      },
      "text/plain": [
       "  0%|          | 0/1 [00:00<?, ?it/s]"
      ]
     },
     "metadata": {},
     "output_type": "display_data"
    },
    {
     "name": "stdout",
     "output_type": "stream",
     "text": [
      "1\n",
      "5\n",
      "Change dominating species from Homo Sapiens to Denisovan would require removing 10 reads: [1, 0, 2, 3, 4, 5, 6, 7, 8, 9]\n",
      "[1, 0, 2, 3, 4, 5, 6, 7, 8, 9]\n",
      "counter_factual shap on size 5: 10\n",
      "Change dominating species from Homo Sapiens to Neanderthal would require removing 8 reads: [6, 8, 4, 3, 10, 0, 9, 2]\n",
      "[6, 8, 4, 3, 10, 0, 9, 2]\n",
      "counter_factual monte carlo on size 10: 8\n",
      "1\n"
     ]
    },
    {
     "data": {
      "application/vnd.jupyter.widget-view+json": {
       "model_id": "2ddcdddf8474479392d0471dc7b08095",
       "version_major": 2,
       "version_minor": 0
      },
      "text/plain": [
       "  0%|          | 0/1 [00:00<?, ?it/s]"
      ]
     },
     "metadata": {},
     "output_type": "display_data"
    },
    {
     "name": "stdout",
     "output_type": "stream",
     "text": [
      "1\n",
      "10\n",
      "Change dominating species from Homo Sapiens to Denisovan would require removing 10 reads: [1, 6, 2, 0, 3, 4, 5, 7, 8, 9]\n",
      "[1, 6, 2, 0, 3, 4, 5, 7, 8, 9]\n",
      "counter_factual shap on size 10: 10\n",
      "Change dominating species from Homo Sapiens to Neanderthal would require removing 6 reads: [4, 2, 6, 8, 9, 0]\n",
      "[4, 2, 6, 8, 9, 0]\n",
      "counter_factual monte carlo on size 20: 6\n",
      "1\n"
     ]
    },
    {
     "data": {
      "application/vnd.jupyter.widget-view+json": {
       "model_id": "998536b519724ac4abee13c1e6fc736c",
       "version_major": 2,
       "version_minor": 0
      },
      "text/plain": [
       "  0%|          | 0/1 [00:00<?, ?it/s]"
      ]
     },
     "metadata": {},
     "output_type": "display_data"
    },
    {
     "name": "stdout",
     "output_type": "stream",
     "text": [
      "1\n",
      "20\n",
      "Change dominating species from Homo Sapiens to Denisovan would require removing 11 reads: [3, 4, 2, 0, 1, 5, 6, 7, 9, 10, 8]\n",
      "[3, 4, 2, 0, 1, 5, 6, 7, 9, 10, 8]\n",
      "counter_factual shap on size 20: 11\n",
      "Change dominating species from Homo Sapiens to Denisovan would require removing 7 reads: [2, 8, 6, 9, 4, 5, 3]\n",
      "[2, 8, 6, 9, 4, 5, 3]\n",
      "counter_factual monte carlo on size 50: 7\n",
      "1\n"
     ]
    },
    {
     "data": {
      "application/vnd.jupyter.widget-view+json": {
       "model_id": "fe3fed86cdd6498cabfa781e1fc3319c",
       "version_major": 2,
       "version_minor": 0
      },
      "text/plain": [
       "  0%|          | 0/1 [00:00<?, ?it/s]"
      ]
     },
     "metadata": {},
     "output_type": "display_data"
    },
    {
     "name": "stdout",
     "output_type": "stream",
     "text": [
      "1\n",
      "50\n",
      "Change dominating species from Homo Sapiens to Neanderthal would require removing 7 reads: [2, 6, 8, 9, 4, 5, 0]\n",
      "[2, 6, 8, 9, 4, 5, 0]\n",
      "counter_factual shap on size 50: 7\n",
      "Change dominating species from Homo Sapiens to Neanderthal would require removing 7 reads: [8, 6, 2, 4, 9, 5, 0]\n",
      "[8, 6, 2, 4, 9, 5, 0]\n",
      "counter_factual monte carlo on size 100: 7\n",
      "1\n"
     ]
    },
    {
     "data": {
      "application/vnd.jupyter.widget-view+json": {
       "model_id": "45c5e0627dff40ec8bd1a5cb4a23f773",
       "version_major": 2,
       "version_minor": 0
      },
      "text/plain": [
       "  0%|          | 0/1 [00:00<?, ?it/s]"
      ]
     },
     "metadata": {},
     "output_type": "display_data"
    },
    {
     "name": "stdout",
     "output_type": "stream",
     "text": [
      "1\n",
      "100\n",
      "Change dominating species from Homo Sapiens to Neanderthal would require removing 6 reads: [4, 2, 8, 6, 9, 0]\n",
      "[4, 2, 8, 6, 9, 0]\n",
      "counter_factual shap on size 100: 6\n",
      "Change dominating species from Homo Sapiens to Neanderthal would require removing 7 reads: [8, 2, 4, 9, 6, 5, 0]\n",
      "[8, 2, 4, 9, 6, 5, 0]\n",
      "counter_factual monte carlo on size 200: 7\n",
      "1\n"
     ]
    },
    {
     "data": {
      "application/vnd.jupyter.widget-view+json": {
       "model_id": "753121d59bdd4a62b581e2f416a9cc64",
       "version_major": 2,
       "version_minor": 0
      },
      "text/plain": [
       "  0%|          | 0/1 [00:00<?, ?it/s]"
      ]
     },
     "metadata": {},
     "output_type": "display_data"
    },
    {
     "name": "stdout",
     "output_type": "stream",
     "text": [
      "1\n",
      "200\n",
      "Change dominating species from Homo Sapiens to Neanderthal would require removing 6 reads: [8, 6, 2, 4, 9, 0]\n",
      "[8, 6, 2, 4, 9, 0]\n",
      "counter_factual shap on size 200: 6\n",
      "Change dominating species from Homo Sapiens to Neanderthal would require removing 7 reads: [8, 2, 4, 9, 6, 5, 0]\n",
      "[8, 2, 4, 9, 6, 5, 0]\n",
      "counter_factual monte carlo on size 500: 7\n",
      "1\n"
     ]
    },
    {
     "data": {
      "application/vnd.jupyter.widget-view+json": {
       "model_id": "09f2f9b578c84053bbedb02675e86eff",
       "version_major": 2,
       "version_minor": 0
      },
      "text/plain": [
       "  0%|          | 0/1 [00:00<?, ?it/s]"
      ]
     },
     "metadata": {},
     "output_type": "display_data"
    },
    {
     "name": "stdout",
     "output_type": "stream",
     "text": [
      "1\n",
      "500\n",
      "Change dominating species from Homo Sapiens to Neanderthal would require removing 7 reads: [4, 9, 8, 2, 6, 5, 0]\n",
      "[4, 9, 8, 2, 6, 5, 0]\n",
      "counter_factual shap on size 500: 7\n",
      "Change dominating species from Homo Sapiens to Denisovan would require removing 7 reads: [6, 4, 9, 8, 2, 5, 3]\n",
      "[6, 4, 9, 8, 2, 5, 3]\n",
      "counter_factualA_s_d: 7\n",
      "[(10, 1, 1, 6, [(1, 10), (5, 10), (10, 10), (20, 11), (50, 7), (100, 6), (200, 6), (500, 7)], [(1, 9), (5, 6), (10, 8), (20, 6), (50, 7), (100, 7), (200, 7), (500, 7)], 7)]\n",
      "new experiment: 1\n",
      "5 4 3\n",
      "\u001b[34mLoading sequences and calculating alignments to all references, this might take a while. Number of reads: \u001b[0m 12\n",
      "start working on read number 0\n",
      "working on size:  0\n",
      "working on size:  1\n",
      "working on size:  2\n",
      "working on size:  3\n",
      "groundtruth: 3\n",
      "groundtruth values: [2, 3, 4]\n",
      "Change dominating species from Homo Sapiens to Neanderthal would require removing 4 reads: [3, 2, 7, 4]\n",
      "[3, 2, 7, 4]\n",
      "counter_factual monte carlo on size 1: 4\n",
      "1\n"
     ]
    },
    {
     "data": {
      "application/vnd.jupyter.widget-view+json": {
       "model_id": "6e5976e6c71e408f86844af5bb22c5a5",
       "version_major": 2,
       "version_minor": 0
      },
      "text/plain": [
       "  0%|          | 0/1 [00:00<?, ?it/s]"
      ]
     },
     "metadata": {},
     "output_type": "display_data"
    },
    {
     "name": "stdout",
     "output_type": "stream",
     "text": [
      "1\n",
      "1\n",
      "Change dominating species from Homo Sapiens to Neanderthal would require removing 5 reads: [0, 1, 2, 3, 4]\n",
      "[0, 1, 2, 3, 4]\n",
      "counter_factual shap on size 1: 5\n",
      "Change dominating species from Homo Sapiens to Neanderthal would require removing 3 reads: [3, 4, 9]\n",
      "[3, 4, 9]\n",
      "counter_factual monte carlo on size 5: 3\n",
      "1\n"
     ]
    },
    {
     "data": {
      "application/vnd.jupyter.widget-view+json": {
       "model_id": "a89a0a93f91d428b93cf343240ec6a8f",
       "version_major": 2,
       "version_minor": 0
      },
      "text/plain": [
       "  0%|          | 0/1 [00:00<?, ?it/s]"
      ]
     },
     "metadata": {},
     "output_type": "display_data"
    },
    {
     "name": "stdout",
     "output_type": "stream",
     "text": [
      "1\n",
      "5\n",
      "Change dominating species from Homo Sapiens to Neanderthal would require removing 5 reads: [3, 0, 1, 2, 4]\n",
      "[3, 0, 1, 2, 4]\n",
      "counter_factual shap on size 5: 5\n",
      "Change dominating species from Homo Sapiens to Neanderthal would require removing 3 reads: [9, 4, 3]\n",
      "[9, 4, 3]\n",
      "counter_factual monte carlo on size 10: 3\n",
      "1\n"
     ]
    },
    {
     "data": {
      "application/vnd.jupyter.widget-view+json": {
       "model_id": "2fe689bccf9749ca85e757aa3a6c0cac",
       "version_major": 2,
       "version_minor": 0
      },
      "text/plain": [
       "  0%|          | 0/1 [00:00<?, ?it/s]"
      ]
     },
     "metadata": {},
     "output_type": "display_data"
    },
    {
     "name": "stdout",
     "output_type": "stream",
     "text": [
      "1\n",
      "10\n",
      "Change dominating species from Homo Sapiens to Neanderthal would require removing 5 reads: [0, 1, 2, 3, 4]\n",
      "[0, 1, 2, 3, 4]\n",
      "counter_factual shap on size 10: 5\n",
      "Change dominating species from Homo Sapiens to Neanderthal would require removing 3 reads: [3, 4, 2]\n",
      "[3, 4, 2]\n",
      "counter_factual monte carlo on size 20: 3\n",
      "1\n"
     ]
    },
    {
     "data": {
      "application/vnd.jupyter.widget-view+json": {
       "model_id": "afdcceb0924747e6b8b0b159bdaa9704",
       "version_major": 2,
       "version_minor": 0
      },
      "text/plain": [
       "  0%|          | 0/1 [00:00<?, ?it/s]"
      ]
     },
     "metadata": {},
     "output_type": "display_data"
    },
    {
     "name": "stdout",
     "output_type": "stream",
     "text": [
      "1\n",
      "20\n",
      "Change dominating species from Homo Sapiens to Neanderthal would require removing 5 reads: [2, 9, 0, 1, 3]\n",
      "[2, 9, 0, 1, 3]\n",
      "counter_factual shap on size 20: 5\n",
      "Change dominating species from Homo Sapiens to Neanderthal would require removing 3 reads: [4, 3, 2]\n",
      "[4, 3, 2]\n",
      "counter_factual monte carlo on size 50: 3\n",
      "1\n"
     ]
    },
    {
     "data": {
      "application/vnd.jupyter.widget-view+json": {
       "model_id": "f90420525abe4ade95979f57464da00c",
       "version_major": 2,
       "version_minor": 0
      },
      "text/plain": [
       "  0%|          | 0/1 [00:00<?, ?it/s]"
      ]
     },
     "metadata": {},
     "output_type": "display_data"
    },
    {
     "name": "stdout",
     "output_type": "stream",
     "text": [
      "1\n",
      "50\n",
      "Change dominating species from Homo Sapiens to Neanderthal would require removing 3 reads: [2, 3, 4]\n",
      "[2, 3, 4]\n",
      "counter_factual shap on size 50: 3\n",
      "Change dominating species from Homo Sapiens to Neanderthal would require removing 3 reads: [3, 2, 4]\n",
      "[3, 2, 4]\n",
      "counter_factual monte carlo on size 100: 3\n",
      "1\n"
     ]
    },
    {
     "data": {
      "application/vnd.jupyter.widget-view+json": {
       "model_id": "5b0545c9f251459798697ad1bb2e677b",
       "version_major": 2,
       "version_minor": 0
      },
      "text/plain": [
       "  0%|          | 0/1 [00:00<?, ?it/s]"
      ]
     },
     "metadata": {},
     "output_type": "display_data"
    },
    {
     "name": "stdout",
     "output_type": "stream",
     "text": [
      "1\n",
      "100\n",
      "Change dominating species from Homo Sapiens to Neanderthal would require removing 3 reads: [3, 4, 2]\n",
      "[3, 4, 2]\n",
      "counter_factual shap on size 100: 3\n",
      "Change dominating species from Homo Sapiens to Neanderthal would require removing 3 reads: [4, 2, 3]\n",
      "[4, 2, 3]\n",
      "counter_factual monte carlo on size 200: 3\n",
      "1\n"
     ]
    },
    {
     "data": {
      "application/vnd.jupyter.widget-view+json": {
       "model_id": "1123dc8c92a24899b4ebd1352d4dea1c",
       "version_major": 2,
       "version_minor": 0
      },
      "text/plain": [
       "  0%|          | 0/1 [00:00<?, ?it/s]"
      ]
     },
     "metadata": {},
     "output_type": "display_data"
    },
    {
     "name": "stdout",
     "output_type": "stream",
     "text": [
      "1\n",
      "200\n",
      "Change dominating species from Homo Sapiens to Neanderthal would require removing 3 reads: [2, 3, 4]\n",
      "[2, 3, 4]\n",
      "counter_factual shap on size 200: 3\n",
      "Change dominating species from Homo Sapiens to Neanderthal would require removing 3 reads: [4, 2, 3]\n",
      "[4, 2, 3]\n",
      "counter_factual monte carlo on size 500: 3\n",
      "1\n"
     ]
    },
    {
     "data": {
      "application/vnd.jupyter.widget-view+json": {
       "model_id": "99d2eae5c5574e44a3be69177a178c42",
       "version_major": 2,
       "version_minor": 0
      },
      "text/plain": [
       "  0%|          | 0/1 [00:00<?, ?it/s]"
      ]
     },
     "metadata": {},
     "output_type": "display_data"
    },
    {
     "name": "stdout",
     "output_type": "stream",
     "text": [
      "1\n",
      "500\n",
      "Change dominating species from Homo Sapiens to Neanderthal would require removing 3 reads: [3, 4, 2]\n",
      "[3, 4, 2]\n",
      "counter_factual shap on size 500: 3\n",
      "Change dominating species from Homo Sapiens to Neanderthal would require removing 3 reads: [3, 4, 2]\n",
      "[3, 4, 2]\n",
      "counter_factualA_s_d: 3\n",
      "[(10, 1, 1, 6, [(1, 10), (5, 10), (10, 10), (20, 11), (50, 7), (100, 6), (200, 6), (500, 7)], [(1, 9), (5, 6), (10, 8), (20, 6), (50, 7), (100, 7), (200, 7), (500, 7)], 7), (5, 4, 3, 3, [(1, 5), (5, 5), (10, 5), (20, 5), (50, 3), (100, 3), (200, 3), (500, 3)], [(1, 4), (5, 3), (10, 3), (20, 3), (50, 3), (100, 3), (200, 3), (500, 3)], 3)]\n",
      "new experiment: 2\n",
      "2 6 4\n",
      "\u001b[34mLoading sequences and calculating alignments to all references, this might take a while. Number of reads: \u001b[0m 12\n",
      "start working on read number 0\n",
      "working on size:  0\n",
      "working on size:  1\n",
      "groundtruth: 1\n",
      "groundtruth values: [4]\n",
      "Change dominating species from Neanderthal to Denisovan would require removing 3 reads: [3, 5, 4]\n",
      "[3, 5, 4]\n",
      "counter_factual monte carlo on size 1: 3\n",
      "1\n"
     ]
    },
    {
     "data": {
      "application/vnd.jupyter.widget-view+json": {
       "model_id": "f07584defaf6442bbd981c474e4a8aaa",
       "version_major": 2,
       "version_minor": 0
      },
      "text/plain": [
       "  0%|          | 0/1 [00:00<?, ?it/s]"
      ]
     },
     "metadata": {},
     "output_type": "display_data"
    },
    {
     "name": "stdout",
     "output_type": "stream",
     "text": [
      "1\n",
      "1\n",
      "Change dominating species from Neanderthal to Denisovan would require removing 3 reads: [0, 1, 2]\n",
      "[0, 1, 2]\n",
      "counter_factual shap on size 1: 3\n",
      "Change dominating species from Neanderthal to Denisovan would require removing 1 reads: [4]\n",
      "[4]\n",
      "counter_factual monte carlo on size 5: 1\n",
      "1\n"
     ]
    },
    {
     "data": {
      "application/vnd.jupyter.widget-view+json": {
       "model_id": "89718c5ef935485197d79dcc37ef694e",
       "version_major": 2,
       "version_minor": 0
      },
      "text/plain": [
       "  0%|          | 0/1 [00:00<?, ?it/s]"
      ]
     },
     "metadata": {},
     "output_type": "display_data"
    },
    {
     "name": "stdout",
     "output_type": "stream",
     "text": [
      "1\n",
      "5\n",
      "Change dominating species from Neanderthal to Denisovan would require removing 3 reads: [0, 1, 2]\n",
      "[0, 1, 2]\n",
      "counter_factual shap on size 5: 3\n",
      "Change dominating species from Neanderthal to Denisovan would require removing 1 reads: [4]\n",
      "[4]\n",
      "counter_factual monte carlo on size 10: 1\n",
      "1\n"
     ]
    },
    {
     "data": {
      "application/vnd.jupyter.widget-view+json": {
       "model_id": "92e8ea0189914b4384f376bd334e00e3",
       "version_major": 2,
       "version_minor": 0
      },
      "text/plain": [
       "  0%|          | 0/1 [00:00<?, ?it/s]"
      ]
     },
     "metadata": {},
     "output_type": "display_data"
    },
    {
     "name": "stdout",
     "output_type": "stream",
     "text": [
      "1\n",
      "10\n",
      "Change dominating species from Neanderthal to Denisovan would require removing 2 reads: [2, 0]\n",
      "[2, 0]\n",
      "counter_factual shap on size 10: 2\n",
      "Change dominating species from Neanderthal to Denisovan would require removing 1 reads: [4]\n",
      "[4]\n",
      "counter_factual monte carlo on size 20: 1\n",
      "1\n"
     ]
    },
    {
     "data": {
      "application/vnd.jupyter.widget-view+json": {
       "model_id": "c93a11c4d17240218259e134d619dae9",
       "version_major": 2,
       "version_minor": 0
      },
      "text/plain": [
       "  0%|          | 0/1 [00:00<?, ?it/s]"
      ]
     },
     "metadata": {},
     "output_type": "display_data"
    },
    {
     "name": "stdout",
     "output_type": "stream",
     "text": [
      "1\n",
      "20\n",
      "Change dominating species from Neanderthal to Denisovan would require removing 1 reads: [4]\n",
      "[4]\n",
      "counter_factual shap on size 20: 1\n",
      "Change dominating species from Neanderthal to Denisovan would require removing 1 reads: [4]\n",
      "[4]\n",
      "counter_factual monte carlo on size 50: 1\n",
      "1\n"
     ]
    },
    {
     "data": {
      "application/vnd.jupyter.widget-view+json": {
       "model_id": "5bfc12b18fdc480891678d6f0b4843a6",
       "version_major": 2,
       "version_minor": 0
      },
      "text/plain": [
       "  0%|          | 0/1 [00:00<?, ?it/s]"
      ]
     },
     "metadata": {},
     "output_type": "display_data"
    },
    {
     "name": "stdout",
     "output_type": "stream",
     "text": [
      "1\n",
      "50\n",
      "Change dominating species from Neanderthal to Denisovan would require removing 1 reads: [4]\n",
      "[4]\n",
      "counter_factual shap on size 50: 1\n",
      "Change dominating species from Neanderthal to Denisovan would require removing 1 reads: [4]\n",
      "[4]\n",
      "counter_factual monte carlo on size 100: 1\n",
      "1\n"
     ]
    },
    {
     "data": {
      "application/vnd.jupyter.widget-view+json": {
       "model_id": "755526c7b5c84a438f36dfdc1e211191",
       "version_major": 2,
       "version_minor": 0
      },
      "text/plain": [
       "  0%|          | 0/1 [00:00<?, ?it/s]"
      ]
     },
     "metadata": {},
     "output_type": "display_data"
    },
    {
     "name": "stdout",
     "output_type": "stream",
     "text": [
      "1\n",
      "100\n",
      "Change dominating species from Neanderthal to Denisovan would require removing 1 reads: [4]\n",
      "[4]\n",
      "counter_factual shap on size 100: 1\n",
      "Change dominating species from Neanderthal to Denisovan would require removing 1 reads: [4]\n",
      "[4]\n",
      "counter_factual monte carlo on size 200: 1\n",
      "1\n"
     ]
    },
    {
     "data": {
      "application/vnd.jupyter.widget-view+json": {
       "model_id": "47f6d84f6bb341ed9fe49a2a19c57816",
       "version_major": 2,
       "version_minor": 0
      },
      "text/plain": [
       "  0%|          | 0/1 [00:00<?, ?it/s]"
      ]
     },
     "metadata": {},
     "output_type": "display_data"
    },
    {
     "name": "stdout",
     "output_type": "stream",
     "text": [
      "1\n",
      "200\n",
      "Change dominating species from Neanderthal to Denisovan would require removing 1 reads: [4]\n",
      "[4]\n",
      "counter_factual shap on size 200: 1\n",
      "Change dominating species from Neanderthal to Denisovan would require removing 1 reads: [4]\n",
      "[4]\n",
      "counter_factual monte carlo on size 500: 1\n",
      "1\n"
     ]
    },
    {
     "data": {
      "application/vnd.jupyter.widget-view+json": {
       "model_id": "1959f2ad4f6c46fc891826867448847f",
       "version_major": 2,
       "version_minor": 0
      },
      "text/plain": [
       "  0%|          | 0/1 [00:00<?, ?it/s]"
      ]
     },
     "metadata": {},
     "output_type": "display_data"
    },
    {
     "name": "stdout",
     "output_type": "stream",
     "text": [
      "1\n",
      "500\n",
      "Change dominating species from Neanderthal to Denisovan would require removing 1 reads: [4]\n",
      "[4]\n",
      "counter_factual shap on size 500: 1\n",
      "Change dominating species from Neanderthal to Denisovan would require removing 1 reads: [4]\n",
      "[4]\n",
      "counter_factualA_s_d: 1\n",
      "[(10, 1, 1, 6, [(1, 10), (5, 10), (10, 10), (20, 11), (50, 7), (100, 6), (200, 6), (500, 7)], [(1, 9), (5, 6), (10, 8), (20, 6), (50, 7), (100, 7), (200, 7), (500, 7)], 7), (5, 4, 3, 3, [(1, 5), (5, 5), (10, 5), (20, 5), (50, 3), (100, 3), (200, 3), (500, 3)], [(1, 4), (5, 3), (10, 3), (20, 3), (50, 3), (100, 3), (200, 3), (500, 3)], 3), (2, 6, 4, 1, [(1, 3), (5, 3), (10, 2), (20, 1), (50, 1), (100, 1), (200, 1), (500, 1)], [(1, 3), (5, 1), (10, 1), (20, 1), (50, 1), (100, 1), (200, 1), (500, 1)], 1)]\n",
      "new experiment: 3\n",
      "4 5 3\n",
      "\u001b[34mLoading sequences and calculating alignments to all references, this might take a while. Number of reads: \u001b[0m 12\n",
      "start working on read number 0\n",
      "working on size:  0\n",
      "working on size:  1\n",
      "working on size:  2\n",
      "groundtruth: 2\n",
      "groundtruth values: [0, 2]\n",
      "Change dominating species from Homo Sapiens to Neanderthal would require removing 2 reads: [2, 0]\n",
      "[2, 0]\n",
      "counter_factual monte carlo on size 1: 2\n",
      "1\n"
     ]
    },
    {
     "data": {
      "application/vnd.jupyter.widget-view+json": {
       "model_id": "5c3ee694535f4dd091bb3d1910d80365",
       "version_major": 2,
       "version_minor": 0
      },
      "text/plain": [
       "  0%|          | 0/1 [00:00<?, ?it/s]"
      ]
     },
     "metadata": {},
     "output_type": "display_data"
    },
    {
     "name": "stdout",
     "output_type": "stream",
     "text": [
      "1\n",
      "1\n",
      "Change dominating species from Homo Sapiens to Neanderthal would require removing 3 reads: [0, 1, 2]\n",
      "[0, 1, 2]\n",
      "counter_factual shap on size 1: 3\n",
      "Change dominating species from Homo Sapiens to Neanderthal would require removing 2 reads: [2, 3]\n",
      "[2, 3]\n",
      "counter_factual monte carlo on size 5: 2\n",
      "1\n"
     ]
    },
    {
     "data": {
      "application/vnd.jupyter.widget-view+json": {
       "model_id": "b674f31240b94741afd1e26100ce9569",
       "version_major": 2,
       "version_minor": 0
      },
      "text/plain": [
       "  0%|          | 0/1 [00:00<?, ?it/s]"
      ]
     },
     "metadata": {},
     "output_type": "display_data"
    },
    {
     "name": "stdout",
     "output_type": "stream",
     "text": [
      "1\n",
      "5\n",
      "Change dominating species from Homo Sapiens to Neanderthal would require removing 2 reads: [2, 0]\n",
      "[2, 0]\n",
      "counter_factual shap on size 5: 2\n",
      "Change dominating species from Homo Sapiens to Neanderthal would require removing 2 reads: [0, 3]\n",
      "[0, 3]\n",
      "counter_factual monte carlo on size 10: 2\n",
      "1\n"
     ]
    },
    {
     "data": {
      "application/vnd.jupyter.widget-view+json": {
       "model_id": "34ee1c9453b949d78c48fe9d835b46d3",
       "version_major": 2,
       "version_minor": 0
      },
      "text/plain": [
       "  0%|          | 0/1 [00:00<?, ?it/s]"
      ]
     },
     "metadata": {},
     "output_type": "display_data"
    },
    {
     "name": "stdout",
     "output_type": "stream",
     "text": [
      "1\n",
      "10\n",
      "Change dominating species from Homo Sapiens to Neanderthal would require removing 2 reads: [2, 0]\n",
      "[2, 0]\n",
      "counter_factual shap on size 10: 2\n",
      "Change dominating species from Homo Sapiens to Neanderthal would require removing 2 reads: [3, 0]\n",
      "[3, 0]\n",
      "counter_factual monte carlo on size 20: 2\n",
      "1\n"
     ]
    },
    {
     "data": {
      "application/vnd.jupyter.widget-view+json": {
       "model_id": "b77445c38150483eb0188671c143f6b1",
       "version_major": 2,
       "version_minor": 0
      },
      "text/plain": [
       "  0%|          | 0/1 [00:00<?, ?it/s]"
      ]
     },
     "metadata": {},
     "output_type": "display_data"
    },
    {
     "name": "stdout",
     "output_type": "stream",
     "text": [
      "1\n",
      "20\n",
      "Change dominating species from Homo Sapiens to Neanderthal would require removing 2 reads: [3, 2]\n",
      "[3, 2]\n",
      "counter_factual shap on size 20: 2\n",
      "Change dominating species from Homo Sapiens to Neanderthal would require removing 2 reads: [2, 0]\n",
      "[2, 0]\n",
      "counter_factual monte carlo on size 50: 2\n",
      "1\n"
     ]
    },
    {
     "data": {
      "application/vnd.jupyter.widget-view+json": {
       "model_id": "15b6512e46ca42189edf6c9a7371b8fc",
       "version_major": 2,
       "version_minor": 0
      },
      "text/plain": [
       "  0%|          | 0/1 [00:00<?, ?it/s]"
      ]
     },
     "metadata": {},
     "output_type": "display_data"
    },
    {
     "name": "stdout",
     "output_type": "stream",
     "text": [
      "1\n",
      "50\n",
      "Change dominating species from Homo Sapiens to Neanderthal would require removing 2 reads: [2, 0]\n",
      "[2, 0]\n",
      "counter_factual shap on size 50: 2\n",
      "Change dominating species from Homo Sapiens to Neanderthal would require removing 2 reads: [2, 3]\n",
      "[2, 3]\n",
      "counter_factual monte carlo on size 100: 2\n",
      "1\n"
     ]
    },
    {
     "data": {
      "application/vnd.jupyter.widget-view+json": {
       "model_id": "291e61cfce80457b9907e8b3591179d7",
       "version_major": 2,
       "version_minor": 0
      },
      "text/plain": [
       "  0%|          | 0/1 [00:00<?, ?it/s]"
      ]
     },
     "metadata": {},
     "output_type": "display_data"
    },
    {
     "name": "stdout",
     "output_type": "stream",
     "text": [
      "1\n",
      "100\n",
      "Change dominating species from Homo Sapiens to Neanderthal would require removing 2 reads: [0, 3]\n",
      "[0, 3]\n",
      "counter_factual shap on size 100: 2\n",
      "Change dominating species from Homo Sapiens to Neanderthal would require removing 2 reads: [2, 3]\n",
      "[2, 3]\n",
      "counter_factual monte carlo on size 200: 2\n",
      "1\n"
     ]
    },
    {
     "data": {
      "application/vnd.jupyter.widget-view+json": {
       "model_id": "1c84acfdf02d4f72a34601b28799ef83",
       "version_major": 2,
       "version_minor": 0
      },
      "text/plain": [
       "  0%|          | 0/1 [00:00<?, ?it/s]"
      ]
     },
     "metadata": {},
     "output_type": "display_data"
    },
    {
     "name": "stdout",
     "output_type": "stream",
     "text": [
      "1\n",
      "200\n",
      "Change dominating species from Homo Sapiens to Neanderthal would require removing 2 reads: [0, 3]\n",
      "[0, 3]\n",
      "counter_factual shap on size 200: 2\n",
      "Change dominating species from Homo Sapiens to Neanderthal would require removing 2 reads: [2, 0]\n",
      "[2, 0]\n",
      "counter_factual monte carlo on size 500: 2\n",
      "1\n"
     ]
    },
    {
     "data": {
      "application/vnd.jupyter.widget-view+json": {
       "model_id": "1d673bde69b743bfb3634ffdfd61079a",
       "version_major": 2,
       "version_minor": 0
      },
      "text/plain": [
       "  0%|          | 0/1 [00:00<?, ?it/s]"
      ]
     },
     "metadata": {},
     "output_type": "display_data"
    },
    {
     "name": "stdout",
     "output_type": "stream",
     "text": [
      "1\n",
      "500\n",
      "Change dominating species from Homo Sapiens to Neanderthal would require removing 2 reads: [3, 2]\n",
      "[3, 2]\n",
      "counter_factual shap on size 500: 2\n",
      "Change dominating species from Homo Sapiens to Neanderthal would require removing 2 reads: [3, 0]\n",
      "[3, 0]\n",
      "counter_factualA_s_d: 2\n",
      "[(10, 1, 1, 6, [(1, 10), (5, 10), (10, 10), (20, 11), (50, 7), (100, 6), (200, 6), (500, 7)], [(1, 9), (5, 6), (10, 8), (20, 6), (50, 7), (100, 7), (200, 7), (500, 7)], 7), (5, 4, 3, 3, [(1, 5), (5, 5), (10, 5), (20, 5), (50, 3), (100, 3), (200, 3), (500, 3)], [(1, 4), (5, 3), (10, 3), (20, 3), (50, 3), (100, 3), (200, 3), (500, 3)], 3), (2, 6, 4, 1, [(1, 3), (5, 3), (10, 2), (20, 1), (50, 1), (100, 1), (200, 1), (500, 1)], [(1, 3), (5, 1), (10, 1), (20, 1), (50, 1), (100, 1), (200, 1), (500, 1)], 1), (4, 5, 3, 2, [(1, 3), (5, 2), (10, 2), (20, 2), (50, 2), (100, 2), (200, 2), (500, 2)], [(1, 2), (5, 2), (10, 2), (20, 2), (50, 2), (100, 2), (200, 2), (500, 2)], 2)]\n",
      "new experiment: 4\n",
      "9 2 1\n",
      "\u001b[34mLoading sequences and calculating alignments to all references, this might take a while. Number of reads: \u001b[0m 12\n",
      "start working on read number 0\n",
      "working on size:  0\n",
      "working on size:  1\n",
      "working on size:  2\n",
      "working on size:  3\n",
      "groundtruth: 3\n",
      "groundtruth values: [2, 5, 7]\n",
      "Change dominating species from Homo Sapiens to Neanderthal would require removing 4 reads: [4, 5, 2, 7]\n",
      "[4, 5, 2, 7]\n",
      "counter_factual monte carlo on size 1: 4\n",
      "1\n"
     ]
    },
    {
     "data": {
      "application/vnd.jupyter.widget-view+json": {
       "model_id": "6bc844fd90c2402982fa489d0ebbcaad",
       "version_major": 2,
       "version_minor": 0
      },
      "text/plain": [
       "  0%|          | 0/1 [00:00<?, ?it/s]"
      ]
     },
     "metadata": {},
     "output_type": "display_data"
    },
    {
     "name": "stdout",
     "output_type": "stream",
     "text": [
      "1\n",
      "1\n",
      "Change dominating species from Homo Sapiens to Neanderthal would require removing 8 reads: [0, 1, 2, 3, 4, 5, 6, 7]\n",
      "[0, 1, 2, 3, 4, 5, 6, 7]\n",
      "counter_factual shap on size 1: 8\n",
      "Change dominating species from Homo Sapiens to Neanderthal would require removing 6 reads: [10, 5, 2, 3, 6, 7]\n",
      "[10, 5, 2, 3, 6, 7]\n",
      "counter_factual monte carlo on size 5: 6\n",
      "1\n"
     ]
    },
    {
     "data": {
      "application/vnd.jupyter.widget-view+json": {
       "model_id": "1891a030c0a14046a57258e0ddb5f73b",
       "version_major": 2,
       "version_minor": 0
      },
      "text/plain": [
       "  0%|          | 0/1 [00:00<?, ?it/s]"
      ]
     },
     "metadata": {},
     "output_type": "display_data"
    },
    {
     "name": "stdout",
     "output_type": "stream",
     "text": [
      "1\n",
      "5\n",
      "Change dominating species from Homo Sapiens to Neanderthal would require removing 7 reads: [7, 0, 1, 2, 3, 4, 5]\n",
      "[7, 0, 1, 2, 3, 4, 5]\n",
      "counter_factual shap on size 5: 7\n",
      "Change dominating species from Homo Sapiens to Neanderthal would require removing 5 reads: [1, 5, 10, 4, 7]\n",
      "[1, 5, 10, 4, 7]\n",
      "counter_factual monte carlo on size 10: 5\n",
      "1\n"
     ]
    },
    {
     "data": {
      "application/vnd.jupyter.widget-view+json": {
       "model_id": "d15c8b6fddec4dba8408cebedbbdecea",
       "version_major": 2,
       "version_minor": 0
      },
      "text/plain": [
       "  0%|          | 0/1 [00:00<?, ?it/s]"
      ]
     },
     "metadata": {},
     "output_type": "display_data"
    },
    {
     "name": "stdout",
     "output_type": "stream",
     "text": [
      "1\n",
      "10\n",
      "Change dominating species from Homo Sapiens to Neanderthal would require removing 7 reads: [11, 0, 7, 1, 2, 3, 5]\n",
      "[11, 0, 7, 1, 2, 3, 5]\n",
      "counter_factual shap on size 10: 7\n",
      "Change dominating species from Homo Sapiens to Neanderthal would require removing 5 reads: [2, 5, 10, 4, 7]\n",
      "[2, 5, 10, 4, 7]\n",
      "counter_factual monte carlo on size 20: 5\n",
      "1\n"
     ]
    },
    {
     "data": {
      "application/vnd.jupyter.widget-view+json": {
       "model_id": "6e9289713ef14d3f8241f64bbf10a254",
       "version_major": 2,
       "version_minor": 0
      },
      "text/plain": [
       "  0%|          | 0/1 [00:00<?, ?it/s]"
      ]
     },
     "metadata": {},
     "output_type": "display_data"
    },
    {
     "name": "stdout",
     "output_type": "stream",
     "text": [
      "1\n",
      "20\n",
      "Change dominating species from Homo Sapiens to Neanderthal would require removing 9 reads: [10, 1, 2, 3, 0, 4, 5, 6, 7]\n",
      "[10, 1, 2, 3, 0, 4, 5, 6, 7]\n",
      "counter_factual shap on size 20: 9\n",
      "Change dominating species from Homo Sapiens to Neanderthal would require removing 4 reads: [5, 2, 4, 7]\n",
      "[5, 2, 4, 7]\n",
      "counter_factual monte carlo on size 50: 4\n",
      "1\n"
     ]
    },
    {
     "data": {
      "application/vnd.jupyter.widget-view+json": {
       "model_id": "ef26178828d843338190559584f13b7b",
       "version_major": 2,
       "version_minor": 0
      },
      "text/plain": [
       "  0%|          | 0/1 [00:00<?, ?it/s]"
      ]
     },
     "metadata": {},
     "output_type": "display_data"
    },
    {
     "name": "stdout",
     "output_type": "stream",
     "text": [
      "1\n",
      "50\n",
      "Change dominating species from Homo Sapiens to Neanderthal would require removing 5 reads: [7, 5, 10, 8, 2]\n",
      "[7, 5, 10, 8, 2]\n",
      "counter_factual shap on size 50: 5\n",
      "Change dominating species from Homo Sapiens to Neanderthal would require removing 4 reads: [7, 5, 1, 4]\n",
      "[7, 5, 1, 4]\n",
      "counter_factual monte carlo on size 100: 4\n",
      "1\n"
     ]
    },
    {
     "data": {
      "application/vnd.jupyter.widget-view+json": {
       "model_id": "df14ef53ba6948aa9077bc8c249ee8b9",
       "version_major": 2,
       "version_minor": 0
      },
      "text/plain": [
       "  0%|          | 0/1 [00:00<?, ?it/s]"
      ]
     },
     "metadata": {},
     "output_type": "display_data"
    },
    {
     "name": "stdout",
     "output_type": "stream",
     "text": [
      "1\n",
      "100\n",
      "Change dominating species from Homo Sapiens to Neanderthal would require removing 5 reads: [5, 7, 10, 1, 4]\n",
      "[5, 7, 10, 1, 4]\n",
      "counter_factual shap on size 100: 5\n",
      "Change dominating species from Homo Sapiens to Neanderthal would require removing 4 reads: [5, 7, 1, 4]\n",
      "[5, 7, 1, 4]\n",
      "counter_factual monte carlo on size 200: 4\n",
      "1\n"
     ]
    },
    {
     "data": {
      "application/vnd.jupyter.widget-view+json": {
       "model_id": "30d6b98e996144249c5a34be6b2429fb",
       "version_major": 2,
       "version_minor": 0
      },
      "text/plain": [
       "  0%|          | 0/1 [00:00<?, ?it/s]"
      ]
     },
     "metadata": {},
     "output_type": "display_data"
    },
    {
     "name": "stdout",
     "output_type": "stream",
     "text": [
      "1\n",
      "200\n",
      "Change dominating species from Homo Sapiens to Neanderthal would require removing 6 reads: [5, 7, 10, 3, 1, 2]\n",
      "[5, 7, 10, 3, 1, 2]\n",
      "counter_factual shap on size 200: 6\n",
      "Change dominating species from Homo Sapiens to Neanderthal would require removing 5 reads: [7, 5, 1, 10, 2]\n",
      "[7, 5, 1, 10, 2]\n",
      "counter_factual monte carlo on size 500: 5\n",
      "1\n"
     ]
    },
    {
     "data": {
      "application/vnd.jupyter.widget-view+json": {
       "model_id": "e72004b8a73c4450a441f7109b7328d5",
       "version_major": 2,
       "version_minor": 0
      },
      "text/plain": [
       "  0%|          | 0/1 [00:00<?, ?it/s]"
      ]
     },
     "metadata": {},
     "output_type": "display_data"
    },
    {
     "name": "stdout",
     "output_type": "stream",
     "text": [
      "1\n",
      "500\n",
      "Change dominating species from Homo Sapiens to Neanderthal would require removing 5 reads: [5, 7, 1, 10, 4]\n",
      "[5, 7, 1, 10, 4]\n",
      "counter_factual shap on size 500: 5\n",
      "Change dominating species from Homo Sapiens to Neanderthal would require removing 6 reads: [7, 5, 1, 10, 6, 2]\n",
      "[7, 5, 1, 10, 6, 2]\n",
      "counter_factualA_s_d: 6\n",
      "[(10, 1, 1, 6, [(1, 10), (5, 10), (10, 10), (20, 11), (50, 7), (100, 6), (200, 6), (500, 7)], [(1, 9), (5, 6), (10, 8), (20, 6), (50, 7), (100, 7), (200, 7), (500, 7)], 7), (5, 4, 3, 3, [(1, 5), (5, 5), (10, 5), (20, 5), (50, 3), (100, 3), (200, 3), (500, 3)], [(1, 4), (5, 3), (10, 3), (20, 3), (50, 3), (100, 3), (200, 3), (500, 3)], 3), (2, 6, 4, 1, [(1, 3), (5, 3), (10, 2), (20, 1), (50, 1), (100, 1), (200, 1), (500, 1)], [(1, 3), (5, 1), (10, 1), (20, 1), (50, 1), (100, 1), (200, 1), (500, 1)], 1), (4, 5, 3, 2, [(1, 3), (5, 2), (10, 2), (20, 2), (50, 2), (100, 2), (200, 2), (500, 2)], [(1, 2), (5, 2), (10, 2), (20, 2), (50, 2), (100, 2), (200, 2), (500, 2)], 2), (9, 2, 1, 3, [(1, 8), (5, 7), (10, 7), (20, 9), (50, 5), (100, 5), (200, 6), (500, 5)], [(1, 4), (5, 6), (10, 5), (20, 5), (50, 4), (100, 4), (200, 4), (500, 5)], 6)]\n",
      "new experiment: 5\n",
      "6 4 2\n",
      "\u001b[34mLoading sequences and calculating alignments to all references, this might take a while. Number of reads: \u001b[0m 12\n",
      "start working on read number 0\n",
      "working on size:  0\n",
      "working on size:  1\n",
      "working on size:  2\n",
      "groundtruth: 2\n",
      "groundtruth values: [0, 4]\n",
      "Change dominating species from Homo Sapiens to Neanderthal would require removing 2 reads: [5, 4]\n",
      "[5, 4]\n",
      "counter_factual monte carlo on size 1: 2\n",
      "1\n"
     ]
    },
    {
     "data": {
      "application/vnd.jupyter.widget-view+json": {
       "model_id": "b70e93f132d8453f9d25570e47234a66",
       "version_major": 2,
       "version_minor": 0
      },
      "text/plain": [
       "  0%|          | 0/1 [00:00<?, ?it/s]"
      ]
     },
     "metadata": {},
     "output_type": "display_data"
    },
    {
     "name": "stdout",
     "output_type": "stream",
     "text": [
      "1\n",
      "1\n",
      "Change dominating species from Homo Sapiens to Neanderthal would require removing 5 reads: [0, 1, 2, 3, 4]\n",
      "[0, 1, 2, 3, 4]\n",
      "counter_factual shap on size 1: 5\n",
      "Change dominating species from Homo Sapiens to Neanderthal would require removing 2 reads: [5, 0]\n",
      "[5, 0]\n",
      "counter_factual monte carlo on size 5: 2\n",
      "1\n"
     ]
    },
    {
     "data": {
      "application/vnd.jupyter.widget-view+json": {
       "model_id": "1cf03461c43d4cf28bb682d9d1dfc01f",
       "version_major": 2,
       "version_minor": 0
      },
      "text/plain": [
       "  0%|          | 0/1 [00:00<?, ?it/s]"
      ]
     },
     "metadata": {},
     "output_type": "display_data"
    },
    {
     "name": "stdout",
     "output_type": "stream",
     "text": [
      "1\n",
      "5\n",
      "Change dominating species from Homo Sapiens to Neanderthal would require removing 5 reads: [1, 0, 2, 3, 4]\n",
      "[1, 0, 2, 3, 4]\n",
      "counter_factual shap on size 5: 5\n",
      "Change dominating species from Homo Sapiens to Neanderthal would require removing 2 reads: [8, 5]\n",
      "[8, 5]\n",
      "counter_factual monte carlo on size 10: 2\n",
      "1\n"
     ]
    },
    {
     "data": {
      "application/vnd.jupyter.widget-view+json": {
       "model_id": "53c8e49bc7ca439582133a74c8dbe70d",
       "version_major": 2,
       "version_minor": 0
      },
      "text/plain": [
       "  0%|          | 0/1 [00:00<?, ?it/s]"
      ]
     },
     "metadata": {},
     "output_type": "display_data"
    },
    {
     "name": "stdout",
     "output_type": "stream",
     "text": [
      "1\n",
      "10\n",
      "Change dominating species from Homo Sapiens to Neanderthal would require removing 3 reads: [8, 2, 0]\n",
      "[8, 2, 0]\n",
      "counter_factual shap on size 10: 3\n",
      "Change dominating species from Homo Sapiens to Neanderthal would require removing 2 reads: [5, 4]\n",
      "[5, 4]\n",
      "counter_factual monte carlo on size 20: 2\n",
      "1\n"
     ]
    },
    {
     "data": {
      "application/vnd.jupyter.widget-view+json": {
       "model_id": "710ee07800aa44cc96ec74197d2da3e3",
       "version_major": 2,
       "version_minor": 0
      },
      "text/plain": [
       "  0%|          | 0/1 [00:00<?, ?it/s]"
      ]
     },
     "metadata": {},
     "output_type": "display_data"
    },
    {
     "name": "stdout",
     "output_type": "stream",
     "text": [
      "1\n",
      "20\n",
      "Change dominating species from Homo Sapiens to Neanderthal would require removing 2 reads: [4, 0]\n",
      "[4, 0]\n",
      "counter_factual shap on size 20: 2\n",
      "Change dominating species from Homo Sapiens to Neanderthal would require removing 2 reads: [5, 0]\n",
      "[5, 0]\n",
      "counter_factual monte carlo on size 50: 2\n",
      "1\n"
     ]
    },
    {
     "data": {
      "application/vnd.jupyter.widget-view+json": {
       "model_id": "a01630c443544b048ce70d20131af241",
       "version_major": 2,
       "version_minor": 0
      },
      "text/plain": [
       "  0%|          | 0/1 [00:00<?, ?it/s]"
      ]
     },
     "metadata": {},
     "output_type": "display_data"
    },
    {
     "name": "stdout",
     "output_type": "stream",
     "text": [
      "1\n",
      "50\n",
      "Change dominating species from Homo Sapiens to Neanderthal would require removing 2 reads: [0, 4]\n",
      "[0, 4]\n",
      "counter_factual shap on size 50: 2\n",
      "Change dominating species from Homo Sapiens to Neanderthal would require removing 2 reads: [0, 5]\n",
      "[0, 5]\n",
      "counter_factual monte carlo on size 100: 2\n",
      "1\n"
     ]
    },
    {
     "data": {
      "application/vnd.jupyter.widget-view+json": {
       "model_id": "314304aa18044083b1bccfc3ec1e8950",
       "version_major": 2,
       "version_minor": 0
      },
      "text/plain": [
       "  0%|          | 0/1 [00:00<?, ?it/s]"
      ]
     },
     "metadata": {},
     "output_type": "display_data"
    },
    {
     "name": "stdout",
     "output_type": "stream",
     "text": [
      "1\n",
      "100\n",
      "Change dominating species from Homo Sapiens to Neanderthal would require removing 2 reads: [0, 4]\n",
      "[0, 4]\n",
      "counter_factual shap on size 100: 2\n",
      "Change dominating species from Homo Sapiens to Neanderthal would require removing 2 reads: [5, 0]\n",
      "[5, 0]\n",
      "counter_factual monte carlo on size 200: 2\n",
      "1\n"
     ]
    },
    {
     "data": {
      "application/vnd.jupyter.widget-view+json": {
       "model_id": "c60d12bc85bb4244b8ddf8ea9ebeef25",
       "version_major": 2,
       "version_minor": 0
      },
      "text/plain": [
       "  0%|          | 0/1 [00:00<?, ?it/s]"
      ]
     },
     "metadata": {},
     "output_type": "display_data"
    },
    {
     "name": "stdout",
     "output_type": "stream",
     "text": [
      "1\n",
      "200\n",
      "Change dominating species from Homo Sapiens to Neanderthal would require removing 2 reads: [0, 5]\n",
      "[0, 5]\n",
      "counter_factual shap on size 200: 2\n",
      "Change dominating species from Homo Sapiens to Neanderthal would require removing 2 reads: [5, 4]\n",
      "[5, 4]\n",
      "counter_factual monte carlo on size 500: 2\n",
      "1\n"
     ]
    },
    {
     "data": {
      "application/vnd.jupyter.widget-view+json": {
       "model_id": "316b29d303e044e59effbf49adeea743",
       "version_major": 2,
       "version_minor": 0
      },
      "text/plain": [
       "  0%|          | 0/1 [00:00<?, ?it/s]"
      ]
     },
     "metadata": {},
     "output_type": "display_data"
    },
    {
     "name": "stdout",
     "output_type": "stream",
     "text": [
      "1\n",
      "500\n",
      "Change dominating species from Homo Sapiens to Neanderthal would require removing 2 reads: [0, 5]\n",
      "[0, 5]\n",
      "counter_factual shap on size 500: 2\n",
      "Change dominating species from Homo Sapiens to Neanderthal would require removing 2 reads: [4, 5]\n",
      "[4, 5]\n",
      "counter_factualA_s_d: 2\n",
      "[(10, 1, 1, 6, [(1, 10), (5, 10), (10, 10), (20, 11), (50, 7), (100, 6), (200, 6), (500, 7)], [(1, 9), (5, 6), (10, 8), (20, 6), (50, 7), (100, 7), (200, 7), (500, 7)], 7), (5, 4, 3, 3, [(1, 5), (5, 5), (10, 5), (20, 5), (50, 3), (100, 3), (200, 3), (500, 3)], [(1, 4), (5, 3), (10, 3), (20, 3), (50, 3), (100, 3), (200, 3), (500, 3)], 3), (2, 6, 4, 1, [(1, 3), (5, 3), (10, 2), (20, 1), (50, 1), (100, 1), (200, 1), (500, 1)], [(1, 3), (5, 1), (10, 1), (20, 1), (50, 1), (100, 1), (200, 1), (500, 1)], 1), (4, 5, 3, 2, [(1, 3), (5, 2), (10, 2), (20, 2), (50, 2), (100, 2), (200, 2), (500, 2)], [(1, 2), (5, 2), (10, 2), (20, 2), (50, 2), (100, 2), (200, 2), (500, 2)], 2), (9, 2, 1, 3, [(1, 8), (5, 7), (10, 7), (20, 9), (50, 5), (100, 5), (200, 6), (500, 5)], [(1, 4), (5, 6), (10, 5), (20, 5), (50, 4), (100, 4), (200, 4), (500, 5)], 6), (6, 4, 2, 2, [(1, 5), (5, 5), (10, 3), (20, 2), (50, 2), (100, 2), (200, 2), (500, 2)], [(1, 2), (5, 2), (10, 2), (20, 2), (50, 2), (100, 2), (200, 2), (500, 2)], 2)]\n",
      "new experiment: 6\n",
      "6 4 2\n",
      "\u001b[34mLoading sequences and calculating alignments to all references, this might take a while. Number of reads: \u001b[0m 12\n",
      "start working on read number 0\n",
      "working on size:  0\n",
      "working on size:  1\n",
      "working on size:  2\n",
      "working on size:  3\n",
      "groundtruth: 3\n",
      "groundtruth values: [1, 2, 3]\n",
      "Change dominating species from Homo Sapiens to Neanderthal would require removing 3 reads: [3, 1, 2]\n",
      "[3, 1, 2]\n",
      "counter_factual monte carlo on size 1: 3\n",
      "1\n"
     ]
    },
    {
     "data": {
      "application/vnd.jupyter.widget-view+json": {
       "model_id": "41003a64b29b4ea5ae716e06f935ccd2",
       "version_major": 2,
       "version_minor": 0
      },
      "text/plain": [
       "  0%|          | 0/1 [00:00<?, ?it/s]"
      ]
     },
     "metadata": {},
     "output_type": "display_data"
    },
    {
     "name": "stdout",
     "output_type": "stream",
     "text": [
      "1\n",
      "1\n",
      "Change dominating species from Homo Sapiens to Neanderthal would require removing 4 reads: [0, 1, 2, 3]\n",
      "[0, 1, 2, 3]\n",
      "counter_factual shap on size 1: 4\n",
      "Change dominating species from Homo Sapiens to Neanderthal would require removing 3 reads: [3, 1, 2]\n",
      "[3, 1, 2]\n",
      "counter_factual monte carlo on size 5: 3\n",
      "1\n"
     ]
    },
    {
     "data": {
      "application/vnd.jupyter.widget-view+json": {
       "model_id": "8eb3097e63444c3488055d73b17e9016",
       "version_major": 2,
       "version_minor": 0
      },
      "text/plain": [
       "  0%|          | 0/1 [00:00<?, ?it/s]"
      ]
     },
     "metadata": {},
     "output_type": "display_data"
    },
    {
     "name": "stdout",
     "output_type": "stream",
     "text": [
      "1\n",
      "5\n",
      "Change dominating species from Homo Sapiens to Neanderthal would require removing 5 reads: [5, 0, 1, 2, 3]\n",
      "[5, 0, 1, 2, 3]\n",
      "counter_factual shap on size 5: 5\n",
      "Change dominating species from Homo Sapiens to Neanderthal would require removing 4 reads: [3, 4, 5, 2]\n",
      "[3, 4, 5, 2]\n",
      "counter_factual monte carlo on size 10: 4\n",
      "1\n"
     ]
    },
    {
     "data": {
      "application/vnd.jupyter.widget-view+json": {
       "model_id": "81453df712204b9a8cc9a075f11b824b",
       "version_major": 2,
       "version_minor": 0
      },
      "text/plain": [
       "  0%|          | 0/1 [00:00<?, ?it/s]"
      ]
     },
     "metadata": {},
     "output_type": "display_data"
    },
    {
     "name": "stdout",
     "output_type": "stream",
     "text": [
      "1\n",
      "10\n",
      "Change dominating species from Homo Sapiens to Neanderthal would require removing 4 reads: [3, 1, 0, 2]\n",
      "[3, 1, 0, 2]\n",
      "counter_factual shap on size 10: 4\n",
      "Change dominating species from Homo Sapiens to Neanderthal would require removing 3 reads: [3, 2, 1]\n",
      "[3, 2, 1]\n",
      "counter_factual monte carlo on size 20: 3\n",
      "1\n"
     ]
    },
    {
     "data": {
      "application/vnd.jupyter.widget-view+json": {
       "model_id": "bf536c7d489c40a0903584beabebe7ba",
       "version_major": 2,
       "version_minor": 0
      },
      "text/plain": [
       "  0%|          | 0/1 [00:00<?, ?it/s]"
      ]
     },
     "metadata": {},
     "output_type": "display_data"
    },
    {
     "name": "stdout",
     "output_type": "stream",
     "text": [
      "1\n",
      "20\n",
      "Change dominating species from Homo Sapiens to Neanderthal would require removing 5 reads: [8, 1, 0, 2, 3]\n",
      "[8, 1, 0, 2, 3]\n",
      "counter_factual shap on size 20: 5\n",
      "Change dominating species from Homo Sapiens to Neanderthal would require removing 3 reads: [4, 3, 2]\n",
      "[4, 3, 2]\n",
      "counter_factual monte carlo on size 50: 3\n",
      "1\n"
     ]
    },
    {
     "data": {
      "application/vnd.jupyter.widget-view+json": {
       "model_id": "8d23f777ceb44022b36f0d54244769e2",
       "version_major": 2,
       "version_minor": 0
      },
      "text/plain": [
       "  0%|          | 0/1 [00:00<?, ?it/s]"
      ]
     },
     "metadata": {},
     "output_type": "display_data"
    },
    {
     "name": "stdout",
     "output_type": "stream",
     "text": [
      "1\n",
      "50\n",
      "Change dominating species from Homo Sapiens to Neanderthal would require removing 3 reads: [3, 2, 1]\n",
      "[3, 2, 1]\n",
      "counter_factual shap on size 50: 3\n",
      "Change dominating species from Homo Sapiens to Neanderthal would require removing 3 reads: [4, 3, 2]\n",
      "[4, 3, 2]\n",
      "counter_factual monte carlo on size 100: 3\n",
      "1\n"
     ]
    },
    {
     "data": {
      "application/vnd.jupyter.widget-view+json": {
       "model_id": "9fa9545aedfd43d3ae92386164e710d6",
       "version_major": 2,
       "version_minor": 0
      },
      "text/plain": [
       "  0%|          | 0/1 [00:00<?, ?it/s]"
      ]
     },
     "metadata": {},
     "output_type": "display_data"
    },
    {
     "name": "stdout",
     "output_type": "stream",
     "text": [
      "1\n",
      "100\n",
      "Change dominating species from Homo Sapiens to Neanderthal would require removing 3 reads: [1, 2, 4]\n",
      "[1, 2, 4]\n",
      "counter_factual shap on size 100: 3\n",
      "Change dominating species from Homo Sapiens to Neanderthal would require removing 3 reads: [4, 3, 2]\n",
      "[4, 3, 2]\n",
      "counter_factual monte carlo on size 200: 3\n",
      "1\n"
     ]
    },
    {
     "data": {
      "application/vnd.jupyter.widget-view+json": {
       "model_id": "08675f2915cb4300bf5f533fce2d8712",
       "version_major": 2,
       "version_minor": 0
      },
      "text/plain": [
       "  0%|          | 0/1 [00:00<?, ?it/s]"
      ]
     },
     "metadata": {},
     "output_type": "display_data"
    },
    {
     "name": "stdout",
     "output_type": "stream",
     "text": [
      "1\n",
      "200\n",
      "Change dominating species from Homo Sapiens to Neanderthal would require removing 3 reads: [1, 4, 3]\n",
      "[1, 4, 3]\n",
      "counter_factual shap on size 200: 3\n",
      "Change dominating species from Homo Sapiens to Neanderthal would require removing 3 reads: [1, 3, 2]\n",
      "[1, 3, 2]\n",
      "counter_factual monte carlo on size 500: 3\n",
      "1\n"
     ]
    },
    {
     "data": {
      "application/vnd.jupyter.widget-view+json": {
       "model_id": "40e334f80ddb468da1c5291dabfb3e3f",
       "version_major": 2,
       "version_minor": 0
      },
      "text/plain": [
       "  0%|          | 0/1 [00:00<?, ?it/s]"
      ]
     },
     "metadata": {},
     "output_type": "display_data"
    },
    {
     "name": "stdout",
     "output_type": "stream",
     "text": [
      "1\n",
      "500\n",
      "Change dominating species from Homo Sapiens to Neanderthal would require removing 3 reads: [4, 2, 3]\n",
      "[4, 2, 3]\n",
      "counter_factual shap on size 500: 3\n",
      "Change dominating species from Homo Sapiens to Neanderthal would require removing 3 reads: [3, 4, 2]\n",
      "[3, 4, 2]\n",
      "counter_factualA_s_d: 3\n",
      "[(10, 1, 1, 6, [(1, 10), (5, 10), (10, 10), (20, 11), (50, 7), (100, 6), (200, 6), (500, 7)], [(1, 9), (5, 6), (10, 8), (20, 6), (50, 7), (100, 7), (200, 7), (500, 7)], 7), (5, 4, 3, 3, [(1, 5), (5, 5), (10, 5), (20, 5), (50, 3), (100, 3), (200, 3), (500, 3)], [(1, 4), (5, 3), (10, 3), (20, 3), (50, 3), (100, 3), (200, 3), (500, 3)], 3), (2, 6, 4, 1, [(1, 3), (5, 3), (10, 2), (20, 1), (50, 1), (100, 1), (200, 1), (500, 1)], [(1, 3), (5, 1), (10, 1), (20, 1), (50, 1), (100, 1), (200, 1), (500, 1)], 1), (4, 5, 3, 2, [(1, 3), (5, 2), (10, 2), (20, 2), (50, 2), (100, 2), (200, 2), (500, 2)], [(1, 2), (5, 2), (10, 2), (20, 2), (50, 2), (100, 2), (200, 2), (500, 2)], 2), (9, 2, 1, 3, [(1, 8), (5, 7), (10, 7), (20, 9), (50, 5), (100, 5), (200, 6), (500, 5)], [(1, 4), (5, 6), (10, 5), (20, 5), (50, 4), (100, 4), (200, 4), (500, 5)], 6), (6, 4, 2, 2, [(1, 5), (5, 5), (10, 3), (20, 2), (50, 2), (100, 2), (200, 2), (500, 2)], [(1, 2), (5, 2), (10, 2), (20, 2), (50, 2), (100, 2), (200, 2), (500, 2)], 2), (6, 4, 2, 3, [(1, 4), (5, 5), (10, 4), (20, 5), (50, 3), (100, 3), (200, 3), (500, 3)], [(1, 3), (5, 3), (10, 4), (20, 3), (50, 3), (100, 3), (200, 3), (500, 3)], 3)]\n",
      "new experiment: 7\n",
      "2 6 4\n",
      "\u001b[34mLoading sequences and calculating alignments to all references, this might take a while. Number of reads: \u001b[0m 12\n",
      "start working on read number 0\n",
      "working on size:  0\n",
      "working on size:  1\n",
      "working on size:  2\n",
      "working on size:  3\n",
      "groundtruth: 3\n",
      "groundtruth values: [2, 4, 5]\n",
      "Change dominating species from Neanderthal to Homo Sapiens would require removing 5 reads: [5, 6, 3, 0, 2]\n",
      "[5, 6, 3, 0, 2]\n",
      "counter_factual monte carlo on size 1: 5\n",
      "1\n"
     ]
    },
    {
     "data": {
      "application/vnd.jupyter.widget-view+json": {
       "model_id": "7107bbcd1aa549059dfa24b5d3b6b6bc",
       "version_major": 2,
       "version_minor": 0
      },
      "text/plain": [
       "  0%|          | 0/1 [00:00<?, ?it/s]"
      ]
     },
     "metadata": {},
     "output_type": "display_data"
    },
    {
     "name": "stdout",
     "output_type": "stream",
     "text": [
      "1\n",
      "1\n",
      "Change dominating species from Neanderthal to Denisovan would require removing 6 reads: [0, 1, 2, 3, 4, 5]\n",
      "[0, 1, 2, 3, 4, 5]\n",
      "counter_factual shap on size 1: 6\n",
      "Change dominating species from Neanderthal to Denisovan would require removing 4 reads: [5, 4, 6, 2]\n",
      "[5, 4, 6, 2]\n",
      "counter_factual monte carlo on size 5: 4\n",
      "1\n"
     ]
    },
    {
     "data": {
      "application/vnd.jupyter.widget-view+json": {
       "model_id": "640e632b431f4b5fad88f5e9b75eeed6",
       "version_major": 2,
       "version_minor": 0
      },
      "text/plain": [
       "  0%|          | 0/1 [00:00<?, ?it/s]"
      ]
     },
     "metadata": {},
     "output_type": "display_data"
    },
    {
     "name": "stdout",
     "output_type": "stream",
     "text": [
      "1\n",
      "5\n",
      "Change dominating species from Neanderthal to Denisovan would require removing 6 reads: [2, 0, 1, 3, 4, 5]\n",
      "[2, 0, 1, 3, 4, 5]\n",
      "counter_factual shap on size 5: 6\n",
      "Change dominating species from Neanderthal to Denisovan would require removing 3 reads: [5, 2, 4]\n",
      "[5, 2, 4]\n",
      "counter_factual monte carlo on size 10: 3\n",
      "1\n"
     ]
    },
    {
     "data": {
      "application/vnd.jupyter.widget-view+json": {
       "model_id": "5f5f946d28504662a8d5c33837af2359",
       "version_major": 2,
       "version_minor": 0
      },
      "text/plain": [
       "  0%|          | 0/1 [00:00<?, ?it/s]"
      ]
     },
     "metadata": {},
     "output_type": "display_data"
    },
    {
     "name": "stdout",
     "output_type": "stream",
     "text": [
      "1\n",
      "10\n",
      "Change dominating species from Neanderthal to Denisovan would require removing 6 reads: [5, 0, 1, 2, 3, 4]\n",
      "[5, 0, 1, 2, 3, 4]\n",
      "counter_factual shap on size 10: 6\n",
      "Change dominating species from Neanderthal to Denisovan would require removing 3 reads: [2, 5, 4]\n",
      "[2, 5, 4]\n",
      "counter_factual monte carlo on size 20: 3\n",
      "1\n"
     ]
    },
    {
     "data": {
      "application/vnd.jupyter.widget-view+json": {
       "model_id": "5ff1ed246dfa47ab9318d4cde5a0802f",
       "version_major": 2,
       "version_minor": 0
      },
      "text/plain": [
       "  0%|          | 0/1 [00:00<?, ?it/s]"
      ]
     },
     "metadata": {},
     "output_type": "display_data"
    },
    {
     "name": "stdout",
     "output_type": "stream",
     "text": [
      "1\n",
      "20\n",
      "Change dominating species from Neanderthal to Denisovan would require removing 5 reads: [6, 5, 4, 0, 2]\n",
      "[6, 5, 4, 0, 2]\n",
      "counter_factual shap on size 20: 5\n",
      "Change dominating species from Neanderthal to Denisovan would require removing 3 reads: [6, 2, 5]\n",
      "[6, 2, 5]\n",
      "counter_factual monte carlo on size 50: 3\n",
      "1\n"
     ]
    },
    {
     "data": {
      "application/vnd.jupyter.widget-view+json": {
       "model_id": "e3ecef6b2db94872b34dbe94612c3b8a",
       "version_major": 2,
       "version_minor": 0
      },
      "text/plain": [
       "  0%|          | 0/1 [00:00<?, ?it/s]"
      ]
     },
     "metadata": {},
     "output_type": "display_data"
    },
    {
     "name": "stdout",
     "output_type": "stream",
     "text": [
      "1\n",
      "50\n",
      "Change dominating species from Neanderthal to Denisovan would require removing 3 reads: [5, 2, 4]\n",
      "[5, 2, 4]\n",
      "counter_factual shap on size 50: 3\n",
      "Change dominating species from Neanderthal to Denisovan would require removing 3 reads: [5, 6, 2]\n",
      "[5, 6, 2]\n",
      "counter_factual monte carlo on size 100: 3\n",
      "1\n"
     ]
    },
    {
     "data": {
      "application/vnd.jupyter.widget-view+json": {
       "model_id": "ce33d5566ea8475aa1a2bed2fe16bdae",
       "version_major": 2,
       "version_minor": 0
      },
      "text/plain": [
       "  0%|          | 0/1 [00:00<?, ?it/s]"
      ]
     },
     "metadata": {},
     "output_type": "display_data"
    },
    {
     "name": "stdout",
     "output_type": "stream",
     "text": [
      "1\n",
      "100\n",
      "Change dominating species from Neanderthal to Denisovan would require removing 3 reads: [2, 5, 6]\n",
      "[2, 5, 6]\n",
      "counter_factual shap on size 100: 3\n",
      "Change dominating species from Neanderthal to Denisovan would require removing 3 reads: [6, 5, 2]\n",
      "[6, 5, 2]\n",
      "counter_factual monte carlo on size 200: 3\n",
      "1\n"
     ]
    },
    {
     "data": {
      "application/vnd.jupyter.widget-view+json": {
       "model_id": "36d7b46324744064a3b782acfae0a178",
       "version_major": 2,
       "version_minor": 0
      },
      "text/plain": [
       "  0%|          | 0/1 [00:00<?, ?it/s]"
      ]
     },
     "metadata": {},
     "output_type": "display_data"
    },
    {
     "name": "stdout",
     "output_type": "stream",
     "text": [
      "1\n",
      "200\n",
      "Change dominating species from Neanderthal to Denisovan would require removing 3 reads: [5, 2, 6]\n",
      "[5, 2, 6]\n",
      "counter_factual shap on size 200: 3\n",
      "Change dominating species from Neanderthal to Denisovan would require removing 3 reads: [6, 2, 5]\n",
      "[6, 2, 5]\n",
      "counter_factual monte carlo on size 500: 3\n",
      "1\n"
     ]
    },
    {
     "data": {
      "application/vnd.jupyter.widget-view+json": {
       "model_id": "d685fb6a22db4242977f6ea18d2aab51",
       "version_major": 2,
       "version_minor": 0
      },
      "text/plain": [
       "  0%|          | 0/1 [00:00<?, ?it/s]"
      ]
     },
     "metadata": {},
     "output_type": "display_data"
    },
    {
     "name": "stdout",
     "output_type": "stream",
     "text": [
      "1\n",
      "500\n",
      "Change dominating species from Neanderthal to Denisovan would require removing 3 reads: [5, 6, 2]\n",
      "[5, 6, 2]\n",
      "counter_factual shap on size 500: 3\n",
      "Change dominating species from Neanderthal to Denisovan would require removing 3 reads: [2, 5, 6]\n",
      "[2, 5, 6]\n",
      "counter_factualA_s_d: 3\n",
      "[(10, 1, 1, 6, [(1, 10), (5, 10), (10, 10), (20, 11), (50, 7), (100, 6), (200, 6), (500, 7)], [(1, 9), (5, 6), (10, 8), (20, 6), (50, 7), (100, 7), (200, 7), (500, 7)], 7), (5, 4, 3, 3, [(1, 5), (5, 5), (10, 5), (20, 5), (50, 3), (100, 3), (200, 3), (500, 3)], [(1, 4), (5, 3), (10, 3), (20, 3), (50, 3), (100, 3), (200, 3), (500, 3)], 3), (2, 6, 4, 1, [(1, 3), (5, 3), (10, 2), (20, 1), (50, 1), (100, 1), (200, 1), (500, 1)], [(1, 3), (5, 1), (10, 1), (20, 1), (50, 1), (100, 1), (200, 1), (500, 1)], 1), (4, 5, 3, 2, [(1, 3), (5, 2), (10, 2), (20, 2), (50, 2), (100, 2), (200, 2), (500, 2)], [(1, 2), (5, 2), (10, 2), (20, 2), (50, 2), (100, 2), (200, 2), (500, 2)], 2), (9, 2, 1, 3, [(1, 8), (5, 7), (10, 7), (20, 9), (50, 5), (100, 5), (200, 6), (500, 5)], [(1, 4), (5, 6), (10, 5), (20, 5), (50, 4), (100, 4), (200, 4), (500, 5)], 6), (6, 4, 2, 2, [(1, 5), (5, 5), (10, 3), (20, 2), (50, 2), (100, 2), (200, 2), (500, 2)], [(1, 2), (5, 2), (10, 2), (20, 2), (50, 2), (100, 2), (200, 2), (500, 2)], 2), (6, 4, 2, 3, [(1, 4), (5, 5), (10, 4), (20, 5), (50, 3), (100, 3), (200, 3), (500, 3)], [(1, 3), (5, 3), (10, 4), (20, 3), (50, 3), (100, 3), (200, 3), (500, 3)], 3), (2, 6, 4, 3, [(1, 6), (5, 6), (10, 6), (20, 5), (50, 3), (100, 3), (200, 3), (500, 3)], [(1, 5), (5, 4), (10, 3), (20, 3), (50, 3), (100, 3), (200, 3), (500, 3)], 3)]\n",
      "new experiment: 8\n",
      "0 8 4\n",
      "\u001b[34mLoading sequences and calculating alignments to all references, this might take a while. Number of reads: \u001b[0m 12\n",
      "start working on read number 0\n",
      "working on size:  0\n",
      "working on size:  1\n",
      "working on size:  2\n",
      "working on size:  3\n",
      "groundtruth: 3\n",
      "groundtruth values: [2, 3, 4]\n",
      "Change dominating species from Neanderthal to Denisovan would require removing 3 reads: [6, 4, 3]\n",
      "[6, 4, 3]\n",
      "counter_factual monte carlo on size 1: 3\n",
      "1\n"
     ]
    },
    {
     "data": {
      "application/vnd.jupyter.widget-view+json": {
       "model_id": "eff4882c07bb455dac114c9315a74814",
       "version_major": 2,
       "version_minor": 0
      },
      "text/plain": [
       "  0%|          | 0/1 [00:00<?, ?it/s]"
      ]
     },
     "metadata": {},
     "output_type": "display_data"
    },
    {
     "name": "stdout",
     "output_type": "stream",
     "text": [
      "1\n",
      "1\n",
      "Change dominating species from Neanderthal to Denisovan would require removing 5 reads: [0, 1, 2, 3, 4]\n",
      "[0, 1, 2, 3, 4]\n",
      "counter_factual shap on size 1: 5\n",
      "Change dominating species from Neanderthal to Denisovan would require removing 3 reads: [6, 2, 3]\n",
      "[6, 2, 3]\n",
      "counter_factual monte carlo on size 5: 3\n",
      "1\n"
     ]
    },
    {
     "data": {
      "application/vnd.jupyter.widget-view+json": {
       "model_id": "76a0e24277bd4bcd820f2adba6036c7f",
       "version_major": 2,
       "version_minor": 0
      },
      "text/plain": [
       "  0%|          | 0/1 [00:00<?, ?it/s]"
      ]
     },
     "metadata": {},
     "output_type": "display_data"
    },
    {
     "name": "stdout",
     "output_type": "stream",
     "text": [
      "1\n",
      "5\n",
      "Change dominating species from Neanderthal to Denisovan would require removing 5 reads: [5, 0, 1, 2, 3]\n",
      "[5, 0, 1, 2, 3]\n",
      "counter_factual shap on size 5: 5\n",
      "Change dominating species from Neanderthal to Denisovan would require removing 3 reads: [6, 5, 3]\n",
      "[6, 5, 3]\n",
      "counter_factual monte carlo on size 10: 3\n",
      "1\n"
     ]
    },
    {
     "data": {
      "application/vnd.jupyter.widget-view+json": {
       "model_id": "c56877f8466a4d40ac00def0b4e97bac",
       "version_major": 2,
       "version_minor": 0
      },
      "text/plain": [
       "  0%|          | 0/1 [00:00<?, ?it/s]"
      ]
     },
     "metadata": {},
     "output_type": "display_data"
    },
    {
     "name": "stdout",
     "output_type": "stream",
     "text": [
      "1\n",
      "10\n",
      "Change dominating species from Neanderthal to Denisovan would require removing 7 reads: [7, 10, 0, 1, 2, 3, 4]\n",
      "[7, 10, 0, 1, 2, 3, 4]\n",
      "counter_factual shap on size 10: 7\n",
      "Change dominating species from Neanderthal to Denisovan would require removing 3 reads: [5, 2, 6]\n",
      "[5, 2, 6]\n",
      "counter_factual monte carlo on size 20: 3\n",
      "1\n"
     ]
    },
    {
     "data": {
      "application/vnd.jupyter.widget-view+json": {
       "model_id": "ddeba2e3cee94a26a2b2f0d8356a60a4",
       "version_major": 2,
       "version_minor": 0
      },
      "text/plain": [
       "  0%|          | 0/1 [00:00<?, ?it/s]"
      ]
     },
     "metadata": {},
     "output_type": "display_data"
    },
    {
     "name": "stdout",
     "output_type": "stream",
     "text": [
      "1\n",
      "20\n",
      "Change dominating species from Neanderthal to Denisovan would require removing 4 reads: [4, 3, 7, 5]\n",
      "[4, 3, 7, 5]\n",
      "counter_factual shap on size 20: 4\n",
      "Change dominating species from Neanderthal to Denisovan would require removing 4 reads: [2, 3, 7, 6]\n",
      "[2, 3, 7, 6]\n",
      "counter_factual monte carlo on size 50: 4\n",
      "1\n"
     ]
    },
    {
     "data": {
      "application/vnd.jupyter.widget-view+json": {
       "model_id": "d1792230f1554170800cfa05377c4131",
       "version_major": 2,
       "version_minor": 0
      },
      "text/plain": [
       "  0%|          | 0/1 [00:00<?, ?it/s]"
      ]
     },
     "metadata": {},
     "output_type": "display_data"
    },
    {
     "name": "stdout",
     "output_type": "stream",
     "text": [
      "1\n",
      "50\n",
      "Change dominating species from Neanderthal to Denisovan would require removing 4 reads: [3, 2, 7, 6]\n",
      "[3, 2, 7, 6]\n",
      "counter_factual shap on size 50: 4\n",
      "Change dominating species from Neanderthal to Denisovan would require removing 3 reads: [5, 6, 2]\n",
      "[5, 6, 2]\n",
      "counter_factual monte carlo on size 100: 3\n",
      "1\n"
     ]
    },
    {
     "data": {
      "application/vnd.jupyter.widget-view+json": {
       "model_id": "4fb9890bef9d4e98989bab678d1d2d94",
       "version_major": 2,
       "version_minor": 0
      },
      "text/plain": [
       "  0%|          | 0/1 [00:00<?, ?it/s]"
      ]
     },
     "metadata": {},
     "output_type": "display_data"
    },
    {
     "name": "stdout",
     "output_type": "stream",
     "text": [
      "1\n",
      "100\n",
      "Change dominating species from Neanderthal to Denisovan would require removing 3 reads: [3, 6, 5]\n",
      "[3, 6, 5]\n",
      "counter_factual shap on size 100: 3\n",
      "Change dominating species from Neanderthal to Denisovan would require removing 3 reads: [5, 3, 2]\n",
      "[5, 3, 2]\n",
      "counter_factual monte carlo on size 200: 3\n",
      "1\n"
     ]
    },
    {
     "data": {
      "application/vnd.jupyter.widget-view+json": {
       "model_id": "8476f8bfc2754bb088818304d67ee808",
       "version_major": 2,
       "version_minor": 0
      },
      "text/plain": [
       "  0%|          | 0/1 [00:00<?, ?it/s]"
      ]
     },
     "metadata": {},
     "output_type": "display_data"
    },
    {
     "name": "stdout",
     "output_type": "stream",
     "text": [
      "1\n",
      "200\n",
      "Change dominating species from Neanderthal to Denisovan would require removing 3 reads: [5, 2, 3]\n",
      "[5, 2, 3]\n",
      "counter_factual shap on size 200: 3\n",
      "Change dominating species from Neanderthal to Denisovan would require removing 3 reads: [3, 6, 2]\n",
      "[3, 6, 2]\n",
      "counter_factual monte carlo on size 500: 3\n",
      "1\n"
     ]
    },
    {
     "data": {
      "application/vnd.jupyter.widget-view+json": {
       "model_id": "ea8effeb6ac14d94ad32bdc45afe8ee9",
       "version_major": 2,
       "version_minor": 0
      },
      "text/plain": [
       "  0%|          | 0/1 [00:00<?, ?it/s]"
      ]
     },
     "metadata": {},
     "output_type": "display_data"
    },
    {
     "name": "stdout",
     "output_type": "stream",
     "text": [
      "1\n",
      "500\n",
      "Change dominating species from Neanderthal to Denisovan would require removing 3 reads: [5, 2, 3]\n",
      "[5, 2, 3]\n",
      "counter_factual shap on size 500: 3\n",
      "Change dominating species from Neanderthal to Denisovan would require removing 3 reads: [2, 5, 3]\n",
      "[2, 5, 3]\n",
      "counter_factualA_s_d: 3\n",
      "[(10, 1, 1, 6, [(1, 10), (5, 10), (10, 10), (20, 11), (50, 7), (100, 6), (200, 6), (500, 7)], [(1, 9), (5, 6), (10, 8), (20, 6), (50, 7), (100, 7), (200, 7), (500, 7)], 7), (5, 4, 3, 3, [(1, 5), (5, 5), (10, 5), (20, 5), (50, 3), (100, 3), (200, 3), (500, 3)], [(1, 4), (5, 3), (10, 3), (20, 3), (50, 3), (100, 3), (200, 3), (500, 3)], 3), (2, 6, 4, 1, [(1, 3), (5, 3), (10, 2), (20, 1), (50, 1), (100, 1), (200, 1), (500, 1)], [(1, 3), (5, 1), (10, 1), (20, 1), (50, 1), (100, 1), (200, 1), (500, 1)], 1), (4, 5, 3, 2, [(1, 3), (5, 2), (10, 2), (20, 2), (50, 2), (100, 2), (200, 2), (500, 2)], [(1, 2), (5, 2), (10, 2), (20, 2), (50, 2), (100, 2), (200, 2), (500, 2)], 2), (9, 2, 1, 3, [(1, 8), (5, 7), (10, 7), (20, 9), (50, 5), (100, 5), (200, 6), (500, 5)], [(1, 4), (5, 6), (10, 5), (20, 5), (50, 4), (100, 4), (200, 4), (500, 5)], 6), (6, 4, 2, 2, [(1, 5), (5, 5), (10, 3), (20, 2), (50, 2), (100, 2), (200, 2), (500, 2)], [(1, 2), (5, 2), (10, 2), (20, 2), (50, 2), (100, 2), (200, 2), (500, 2)], 2), (6, 4, 2, 3, [(1, 4), (5, 5), (10, 4), (20, 5), (50, 3), (100, 3), (200, 3), (500, 3)], [(1, 3), (5, 3), (10, 4), (20, 3), (50, 3), (100, 3), (200, 3), (500, 3)], 3), (2, 6, 4, 3, [(1, 6), (5, 6), (10, 6), (20, 5), (50, 3), (100, 3), (200, 3), (500, 3)], [(1, 5), (5, 4), (10, 3), (20, 3), (50, 3), (100, 3), (200, 3), (500, 3)], 3), (0, 8, 4, 3, [(1, 5), (5, 5), (10, 7), (20, 4), (50, 4), (100, 3), (200, 3), (500, 3)], [(1, 3), (5, 3), (10, 3), (20, 3), (50, 4), (100, 3), (200, 3), (500, 3)], 3)]\n",
      "new experiment: 9\n",
      "4 5 3\n",
      "\u001b[34mLoading sequences and calculating alignments to all references, this might take a while. Number of reads: \u001b[0m 12\n",
      "start working on read number 0\n",
      "working on size:  0\n",
      "working on size:  1\n",
      "working on size:  2\n",
      "working on size:  3\n",
      "working on size:  4\n",
      "groundtruth: 4\n",
      "groundtruth values: [0, 1, 2, 3]\n",
      "Change dominating species from Homo Sapiens to Neanderthal would require removing 5 reads: [10, 7, 1, 2, 0]\n",
      "[10, 7, 1, 2, 0]\n",
      "counter_factual monte carlo on size 1: 5\n",
      "1\n"
     ]
    },
    {
     "data": {
      "application/vnd.jupyter.widget-view+json": {
       "model_id": "a254fdcd6a8d4bb8b4c4fc9184eaad2f",
       "version_major": 2,
       "version_minor": 0
      },
      "text/plain": [
       "  0%|          | 0/1 [00:00<?, ?it/s]"
      ]
     },
     "metadata": {},
     "output_type": "display_data"
    },
    {
     "name": "stdout",
     "output_type": "stream",
     "text": [
      "1\n",
      "1\n",
      "Change dominating species from Homo Sapiens to Denisovan would require removing 4 reads: [0, 1, 2, 3]\n",
      "[0, 1, 2, 3]\n",
      "counter_factual shap on size 1: 4\n",
      "Change dominating species from Homo Sapiens to Denisovan would require removing 4 reads: [2, 1, 3, 0]\n",
      "[2, 1, 3, 0]\n",
      "counter_factual monte carlo on size 5: 4\n",
      "1\n"
     ]
    },
    {
     "data": {
      "application/vnd.jupyter.widget-view+json": {
       "model_id": "c8077647b4c64e4e9b60d5f5eccf298a",
       "version_major": 2,
       "version_minor": 0
      },
      "text/plain": [
       "  0%|          | 0/1 [00:00<?, ?it/s]"
      ]
     },
     "metadata": {},
     "output_type": "display_data"
    },
    {
     "name": "stdout",
     "output_type": "stream",
     "text": [
      "1\n",
      "5\n",
      "Change dominating species from Homo Sapiens to Denisovan would require removing 4 reads: [2, 7, 0, 1]\n",
      "[2, 7, 0, 1]\n",
      "counter_factual shap on size 5: 4\n",
      "Change dominating species from Homo Sapiens to Neanderthal would require removing 5 reads: [0, 2, 7, 9, 1]\n",
      "[0, 2, 7, 9, 1]\n",
      "counter_factual monte carlo on size 10: 5\n",
      "1\n"
     ]
    },
    {
     "data": {
      "application/vnd.jupyter.widget-view+json": {
       "model_id": "c7b6c9939a1f440f885db256da400479",
       "version_major": 2,
       "version_minor": 0
      },
      "text/plain": [
       "  0%|          | 0/1 [00:00<?, ?it/s]"
      ]
     },
     "metadata": {},
     "output_type": "display_data"
    },
    {
     "name": "stdout",
     "output_type": "stream",
     "text": [
      "1\n",
      "10\n",
      "Change dominating species from Homo Sapiens to Denisovan would require removing 4 reads: [0, 1, 2, 3]\n",
      "[0, 1, 2, 3]\n",
      "counter_factual shap on size 10: 4\n",
      "Change dominating species from Homo Sapiens to Neanderthal would require removing 4 reads: [1, 2, 0, 9]\n",
      "[1, 2, 0, 9]\n",
      "counter_factual monte carlo on size 20: 4\n",
      "1\n"
     ]
    },
    {
     "data": {
      "application/vnd.jupyter.widget-view+json": {
       "model_id": "eb2f59808701496787af4feca8cb124c",
       "version_major": 2,
       "version_minor": 0
      },
      "text/plain": [
       "  0%|          | 0/1 [00:00<?, ?it/s]"
      ]
     },
     "metadata": {},
     "output_type": "display_data"
    },
    {
     "name": "stdout",
     "output_type": "stream",
     "text": [
      "1\n",
      "20\n",
      "Change dominating species from Homo Sapiens to Denisovan would require removing 6 reads: [2, 7, 5, 0, 3, 1]\n",
      "[2, 7, 5, 0, 3, 1]\n",
      "counter_factual shap on size 20: 6\n",
      "Change dominating species from Homo Sapiens to Denisovan would require removing 4 reads: [2, 1, 0, 7]\n",
      "[2, 1, 0, 7]\n",
      "counter_factual monte carlo on size 50: 4\n",
      "1\n"
     ]
    },
    {
     "data": {
      "application/vnd.jupyter.widget-view+json": {
       "model_id": "dbe249616b4b43729d266b8b0aafafb9",
       "version_major": 2,
       "version_minor": 0
      },
      "text/plain": [
       "  0%|          | 0/1 [00:00<?, ?it/s]"
      ]
     },
     "metadata": {},
     "output_type": "display_data"
    },
    {
     "name": "stdout",
     "output_type": "stream",
     "text": [
      "1\n",
      "50\n",
      "Change dominating species from Homo Sapiens to Denisovan would require removing 4 reads: [2, 1, 7, 0]\n",
      "[2, 1, 7, 0]\n",
      "counter_factual shap on size 50: 4\n",
      "Change dominating species from Homo Sapiens to Denisovan would require removing 4 reads: [0, 7, 1, 2]\n",
      "[0, 7, 1, 2]\n",
      "counter_factual monte carlo on size 100: 4\n",
      "1\n"
     ]
    },
    {
     "data": {
      "application/vnd.jupyter.widget-view+json": {
       "model_id": "a2c997bee44948fb9970ac7fc99d48ed",
       "version_major": 2,
       "version_minor": 0
      },
      "text/plain": [
       "  0%|          | 0/1 [00:00<?, ?it/s]"
      ]
     },
     "metadata": {},
     "output_type": "display_data"
    },
    {
     "name": "stdout",
     "output_type": "stream",
     "text": [
      "1\n",
      "100\n",
      "Change dominating species from Homo Sapiens to Neanderthal would require removing 4 reads: [0, 2, 1, 9]\n",
      "[0, 2, 1, 9]\n",
      "counter_factual shap on size 100: 4\n",
      "Change dominating species from Homo Sapiens to Denisovan would require removing 4 reads: [2, 0, 1, 7]\n",
      "[2, 0, 1, 7]\n",
      "counter_factual monte carlo on size 200: 4\n",
      "1\n"
     ]
    },
    {
     "data": {
      "application/vnd.jupyter.widget-view+json": {
       "model_id": "75e2007430764473910da3922803bcbf",
       "version_major": 2,
       "version_minor": 0
      },
      "text/plain": [
       "  0%|          | 0/1 [00:00<?, ?it/s]"
      ]
     },
     "metadata": {},
     "output_type": "display_data"
    },
    {
     "name": "stdout",
     "output_type": "stream",
     "text": [
      "1\n",
      "200\n",
      "Change dominating species from Homo Sapiens to Denisovan would require removing 4 reads: [1, 0, 2, 7]\n",
      "[1, 0, 2, 7]\n",
      "counter_factual shap on size 200: 4\n",
      "Change dominating species from Homo Sapiens to Denisovan would require removing 4 reads: [2, 0, 7, 1]\n",
      "[2, 0, 7, 1]\n",
      "counter_factual monte carlo on size 500: 4\n",
      "1\n"
     ]
    },
    {
     "data": {
      "application/vnd.jupyter.widget-view+json": {
       "model_id": "201cfeeb08af488f9a99d036c65efd8b",
       "version_major": 2,
       "version_minor": 0
      },
      "text/plain": [
       "  0%|          | 0/1 [00:00<?, ?it/s]"
      ]
     },
     "metadata": {},
     "output_type": "display_data"
    },
    {
     "name": "stdout",
     "output_type": "stream",
     "text": [
      "1\n",
      "500\n",
      "Change dominating species from Homo Sapiens to Denisovan would require removing 4 reads: [1, 0, 2, 7]\n",
      "[1, 0, 2, 7]\n",
      "counter_factual shap on size 500: 4\n",
      "Change dominating species from Homo Sapiens to Denisovan would require removing 4 reads: [1, 0, 2, 7]\n",
      "[1, 0, 2, 7]\n",
      "counter_factualA_s_d: 4\n",
      "[(10, 1, 1, 6, [(1, 10), (5, 10), (10, 10), (20, 11), (50, 7), (100, 6), (200, 6), (500, 7)], [(1, 9), (5, 6), (10, 8), (20, 6), (50, 7), (100, 7), (200, 7), (500, 7)], 7), (5, 4, 3, 3, [(1, 5), (5, 5), (10, 5), (20, 5), (50, 3), (100, 3), (200, 3), (500, 3)], [(1, 4), (5, 3), (10, 3), (20, 3), (50, 3), (100, 3), (200, 3), (500, 3)], 3), (2, 6, 4, 1, [(1, 3), (5, 3), (10, 2), (20, 1), (50, 1), (100, 1), (200, 1), (500, 1)], [(1, 3), (5, 1), (10, 1), (20, 1), (50, 1), (100, 1), (200, 1), (500, 1)], 1), (4, 5, 3, 2, [(1, 3), (5, 2), (10, 2), (20, 2), (50, 2), (100, 2), (200, 2), (500, 2)], [(1, 2), (5, 2), (10, 2), (20, 2), (50, 2), (100, 2), (200, 2), (500, 2)], 2), (9, 2, 1, 3, [(1, 8), (5, 7), (10, 7), (20, 9), (50, 5), (100, 5), (200, 6), (500, 5)], [(1, 4), (5, 6), (10, 5), (20, 5), (50, 4), (100, 4), (200, 4), (500, 5)], 6), (6, 4, 2, 2, [(1, 5), (5, 5), (10, 3), (20, 2), (50, 2), (100, 2), (200, 2), (500, 2)], [(1, 2), (5, 2), (10, 2), (20, 2), (50, 2), (100, 2), (200, 2), (500, 2)], 2), (6, 4, 2, 3, [(1, 4), (5, 5), (10, 4), (20, 5), (50, 3), (100, 3), (200, 3), (500, 3)], [(1, 3), (5, 3), (10, 4), (20, 3), (50, 3), (100, 3), (200, 3), (500, 3)], 3), (2, 6, 4, 3, [(1, 6), (5, 6), (10, 6), (20, 5), (50, 3), (100, 3), (200, 3), (500, 3)], [(1, 5), (5, 4), (10, 3), (20, 3), (50, 3), (100, 3), (200, 3), (500, 3)], 3), (0, 8, 4, 3, [(1, 5), (5, 5), (10, 7), (20, 4), (50, 4), (100, 3), (200, 3), (500, 3)], [(1, 3), (5, 3), (10, 3), (20, 3), (50, 4), (100, 3), (200, 3), (500, 3)], 3), (4, 5, 3, 4, [(1, 4), (5, 4), (10, 4), (20, 6), (50, 4), (100, 4), (200, 4), (500, 4)], [(1, 5), (5, 4), (10, 5), (20, 4), (50, 4), (100, 4), (200, 4), (500, 4)], 4)]\n",
      "new experiment: 10\n",
      "3 6 3\n",
      "\u001b[34mLoading sequences and calculating alignments to all references, this might take a while. Number of reads: \u001b[0m 12\n",
      "start working on read number 0\n",
      "working on size:  0\n",
      "working on size:  1\n",
      "working on size:  2\n",
      "groundtruth: 2\n",
      "groundtruth values: [0, 1]\n",
      "Change dominating species from Homo Sapiens to Neanderthal would require removing 4 reads: [0, 8, 6, 1]\n",
      "[0, 8, 6, 1]\n",
      "counter_factual monte carlo on size 1: 4\n",
      "1\n"
     ]
    },
    {
     "data": {
      "application/vnd.jupyter.widget-view+json": {
       "model_id": "557075a45dd941ef8fb49d6b84c50762",
       "version_major": 2,
       "version_minor": 0
      },
      "text/plain": [
       "  0%|          | 0/1 [00:00<?, ?it/s]"
      ]
     },
     "metadata": {},
     "output_type": "display_data"
    },
    {
     "name": "stdout",
     "output_type": "stream",
     "text": [
      "1\n",
      "1\n",
      "Change dominating species from Homo Sapiens to Neanderthal would require removing 2 reads: [0, 1]\n",
      "[0, 1]\n",
      "counter_factual shap on size 1: 2\n",
      "Change dominating species from Homo Sapiens to Neanderthal would require removing 2 reads: [2, 1]\n",
      "[2, 1]\n",
      "counter_factual monte carlo on size 5: 2\n",
      "1\n"
     ]
    },
    {
     "data": {
      "application/vnd.jupyter.widget-view+json": {
       "model_id": "81c0747911694c739529b5934130df98",
       "version_major": 2,
       "version_minor": 0
      },
      "text/plain": [
       "  0%|          | 0/1 [00:00<?, ?it/s]"
      ]
     },
     "metadata": {},
     "output_type": "display_data"
    },
    {
     "name": "stdout",
     "output_type": "stream",
     "text": [
      "1\n",
      "5\n",
      "Change dominating species from Homo Sapiens to Neanderthal would require removing 2 reads: [0, 1]\n",
      "[0, 1]\n",
      "counter_factual shap on size 5: 2\n",
      "Change dominating species from Homo Sapiens to Neanderthal would require removing 2 reads: [2, 1]\n",
      "[2, 1]\n",
      "counter_factual monte carlo on size 10: 2\n",
      "1\n"
     ]
    },
    {
     "data": {
      "application/vnd.jupyter.widget-view+json": {
       "model_id": "98c125ad37544e878bcca0cc34f55a4d",
       "version_major": 2,
       "version_minor": 0
      },
      "text/plain": [
       "  0%|          | 0/1 [00:00<?, ?it/s]"
      ]
     },
     "metadata": {},
     "output_type": "display_data"
    },
    {
     "name": "stdout",
     "output_type": "stream",
     "text": [
      "1\n",
      "10\n",
      "Change dominating species from Homo Sapiens to Neanderthal would require removing 2 reads: [1, 0]\n",
      "[1, 0]\n",
      "counter_factual shap on size 10: 2\n",
      "Change dominating species from Homo Sapiens to Neanderthal would require removing 2 reads: [1, 2]\n",
      "[1, 2]\n",
      "counter_factual monte carlo on size 20: 2\n",
      "1\n"
     ]
    },
    {
     "data": {
      "application/vnd.jupyter.widget-view+json": {
       "model_id": "682952c3ad3444a0a563735fd78790cc",
       "version_major": 2,
       "version_minor": 0
      },
      "text/plain": [
       "  0%|          | 0/1 [00:00<?, ?it/s]"
      ]
     },
     "metadata": {},
     "output_type": "display_data"
    },
    {
     "name": "stdout",
     "output_type": "stream",
     "text": [
      "1\n",
      "20\n",
      "Change dominating species from Homo Sapiens to Neanderthal would require removing 2 reads: [0, 1]\n",
      "[0, 1]\n",
      "counter_factual shap on size 20: 2\n",
      "Change dominating species from Homo Sapiens to Neanderthal would require removing 2 reads: [1, 2]\n",
      "[1, 2]\n",
      "counter_factual monte carlo on size 50: 2\n",
      "1\n"
     ]
    },
    {
     "data": {
      "application/vnd.jupyter.widget-view+json": {
       "model_id": "67d61006039c4a4394b7740d107fee49",
       "version_major": 2,
       "version_minor": 0
      },
      "text/plain": [
       "  0%|          | 0/1 [00:00<?, ?it/s]"
      ]
     },
     "metadata": {},
     "output_type": "display_data"
    },
    {
     "name": "stdout",
     "output_type": "stream",
     "text": [
      "1\n",
      "50\n",
      "Change dominating species from Homo Sapiens to Neanderthal would require removing 2 reads: [2, 1]\n",
      "[2, 1]\n",
      "counter_factual shap on size 50: 2\n",
      "Change dominating species from Homo Sapiens to Neanderthal would require removing 2 reads: [2, 1]\n",
      "[2, 1]\n",
      "counter_factual monte carlo on size 100: 2\n",
      "1\n"
     ]
    },
    {
     "data": {
      "application/vnd.jupyter.widget-view+json": {
       "model_id": "d31c2817009049d7b52c8bf3ea1b932b",
       "version_major": 2,
       "version_minor": 0
      },
      "text/plain": [
       "  0%|          | 0/1 [00:00<?, ?it/s]"
      ]
     },
     "metadata": {},
     "output_type": "display_data"
    },
    {
     "name": "stdout",
     "output_type": "stream",
     "text": [
      "1\n",
      "100\n",
      "Change dominating species from Homo Sapiens to Neanderthal would require removing 2 reads: [1, 2]\n",
      "[1, 2]\n",
      "counter_factual shap on size 100: 2\n",
      "Change dominating species from Homo Sapiens to Neanderthal would require removing 2 reads: [1, 2]\n",
      "[1, 2]\n",
      "counter_factual monte carlo on size 200: 2\n",
      "1\n"
     ]
    },
    {
     "data": {
      "application/vnd.jupyter.widget-view+json": {
       "model_id": "a0917bd4295f45b282467ea6c3402a90",
       "version_major": 2,
       "version_minor": 0
      },
      "text/plain": [
       "  0%|          | 0/1 [00:00<?, ?it/s]"
      ]
     },
     "metadata": {},
     "output_type": "display_data"
    },
    {
     "name": "stdout",
     "output_type": "stream",
     "text": [
      "1\n",
      "200\n",
      "Change dominating species from Homo Sapiens to Neanderthal would require removing 2 reads: [1, 2]\n",
      "[1, 2]\n",
      "counter_factual shap on size 200: 2\n",
      "Change dominating species from Homo Sapiens to Neanderthal would require removing 2 reads: [1, 2]\n",
      "[1, 2]\n",
      "counter_factual monte carlo on size 500: 2\n",
      "1\n"
     ]
    },
    {
     "data": {
      "application/vnd.jupyter.widget-view+json": {
       "model_id": "46ba4dd508a64887bb2b95512915c968",
       "version_major": 2,
       "version_minor": 0
      },
      "text/plain": [
       "  0%|          | 0/1 [00:00<?, ?it/s]"
      ]
     },
     "metadata": {},
     "output_type": "display_data"
    },
    {
     "name": "stdout",
     "output_type": "stream",
     "text": [
      "1\n",
      "500\n",
      "Change dominating species from Homo Sapiens to Neanderthal would require removing 2 reads: [2, 1]\n",
      "[2, 1]\n",
      "counter_factual shap on size 500: 2\n",
      "Change dominating species from Homo Sapiens to Neanderthal would require removing 2 reads: [1, 2]\n",
      "[1, 2]\n",
      "counter_factualA_s_d: 2\n",
      "[(10, 1, 1, 6, [(1, 10), (5, 10), (10, 10), (20, 11), (50, 7), (100, 6), (200, 6), (500, 7)], [(1, 9), (5, 6), (10, 8), (20, 6), (50, 7), (100, 7), (200, 7), (500, 7)], 7), (5, 4, 3, 3, [(1, 5), (5, 5), (10, 5), (20, 5), (50, 3), (100, 3), (200, 3), (500, 3)], [(1, 4), (5, 3), (10, 3), (20, 3), (50, 3), (100, 3), (200, 3), (500, 3)], 3), (2, 6, 4, 1, [(1, 3), (5, 3), (10, 2), (20, 1), (50, 1), (100, 1), (200, 1), (500, 1)], [(1, 3), (5, 1), (10, 1), (20, 1), (50, 1), (100, 1), (200, 1), (500, 1)], 1), (4, 5, 3, 2, [(1, 3), (5, 2), (10, 2), (20, 2), (50, 2), (100, 2), (200, 2), (500, 2)], [(1, 2), (5, 2), (10, 2), (20, 2), (50, 2), (100, 2), (200, 2), (500, 2)], 2), (9, 2, 1, 3, [(1, 8), (5, 7), (10, 7), (20, 9), (50, 5), (100, 5), (200, 6), (500, 5)], [(1, 4), (5, 6), (10, 5), (20, 5), (50, 4), (100, 4), (200, 4), (500, 5)], 6), (6, 4, 2, 2, [(1, 5), (5, 5), (10, 3), (20, 2), (50, 2), (100, 2), (200, 2), (500, 2)], [(1, 2), (5, 2), (10, 2), (20, 2), (50, 2), (100, 2), (200, 2), (500, 2)], 2), (6, 4, 2, 3, [(1, 4), (5, 5), (10, 4), (20, 5), (50, 3), (100, 3), (200, 3), (500, 3)], [(1, 3), (5, 3), (10, 4), (20, 3), (50, 3), (100, 3), (200, 3), (500, 3)], 3), (2, 6, 4, 3, [(1, 6), (5, 6), (10, 6), (20, 5), (50, 3), (100, 3), (200, 3), (500, 3)], [(1, 5), (5, 4), (10, 3), (20, 3), (50, 3), (100, 3), (200, 3), (500, 3)], 3), (0, 8, 4, 3, [(1, 5), (5, 5), (10, 7), (20, 4), (50, 4), (100, 3), (200, 3), (500, 3)], [(1, 3), (5, 3), (10, 3), (20, 3), (50, 4), (100, 3), (200, 3), (500, 3)], 3), (4, 5, 3, 4, [(1, 4), (5, 4), (10, 4), (20, 6), (50, 4), (100, 4), (200, 4), (500, 4)], [(1, 5), (5, 4), (10, 5), (20, 4), (50, 4), (100, 4), (200, 4), (500, 4)], 4), (3, 6, 3, 2, [(1, 2), (5, 2), (10, 2), (20, 2), (50, 2), (100, 2), (200, 2), (500, 2)], [(1, 4), (5, 2), (10, 2), (20, 2), (50, 2), (100, 2), (200, 2), (500, 2)], 2)]\n",
      "new experiment: 11\n",
      "3 6 3\n",
      "\u001b[34mLoading sequences and calculating alignments to all references, this might take a while. Number of reads: \u001b[0m 12\n",
      "start working on read number 0\n",
      "working on size:  0\n",
      "working on size:  1\n",
      "working on size:  2\n",
      "working on size:  3\n",
      "working on size:  4\n",
      "groundtruth: 4\n",
      "groundtruth values: [2, 3, 7, 8]\n",
      "Change dominating species from Neanderthal to Denisovan would require removing 8 reads: [2, 3, 6, 7, 0, 1, 4, 5]\n",
      "[2, 3, 6, 7, 0, 1, 4, 5]\n",
      "counter_factual monte carlo on size 1: 8\n",
      "1\n"
     ]
    },
    {
     "data": {
      "application/vnd.jupyter.widget-view+json": {
       "model_id": "3c29151b980945c3bc12c47893c125c8",
       "version_major": 2,
       "version_minor": 0
      },
      "text/plain": [
       "  0%|          | 0/1 [00:00<?, ?it/s]"
      ]
     },
     "metadata": {},
     "output_type": "display_data"
    },
    {
     "name": "stdout",
     "output_type": "stream",
     "text": [
      "1\n",
      "1\n",
      "Change dominating species from Neanderthal to Denisovan would require removing 8 reads: [0, 1, 2, 3, 4, 5, 6, 7]\n",
      "[0, 1, 2, 3, 4, 5, 6, 7]\n",
      "counter_factual shap on size 1: 8\n",
      "Change dominating species from Neanderthal to Homo Sapiens would require removing 6 reads: [6, 3, 0, 2, 8, 7]\n",
      "[6, 3, 0, 2, 8, 7]\n",
      "counter_factual monte carlo on size 5: 6\n",
      "1\n"
     ]
    },
    {
     "data": {
      "application/vnd.jupyter.widget-view+json": {
       "model_id": "7f002562456b42249a631c2f2dda6310",
       "version_major": 2,
       "version_minor": 0
      },
      "text/plain": [
       "  0%|          | 0/1 [00:00<?, ?it/s]"
      ]
     },
     "metadata": {},
     "output_type": "display_data"
    },
    {
     "name": "stdout",
     "output_type": "stream",
     "text": [
      "1\n",
      "5\n",
      "Change dominating species from Neanderthal to Homo Sapiens would require removing 6 reads: [8, 7, 0, 1, 2, 3]\n",
      "[8, 7, 0, 1, 2, 3]\n",
      "counter_factual shap on size 5: 6\n",
      "Change dominating species from Neanderthal to Homo Sapiens would require removing 5 reads: [3, 8, 2, 0, 7]\n",
      "[3, 8, 2, 0, 7]\n",
      "counter_factual monte carlo on size 10: 5\n",
      "1\n"
     ]
    },
    {
     "data": {
      "application/vnd.jupyter.widget-view+json": {
       "model_id": "d14133f717f146c3a65c418a6c07e38b",
       "version_major": 2,
       "version_minor": 0
      },
      "text/plain": [
       "  0%|          | 0/1 [00:00<?, ?it/s]"
      ]
     },
     "metadata": {},
     "output_type": "display_data"
    },
    {
     "name": "stdout",
     "output_type": "stream",
     "text": [
      "1\n",
      "10\n",
      "Change dominating species from Neanderthal to Denisovan would require removing 8 reads: [6, 4, 2, 0, 1, 3, 5, 7]\n",
      "[6, 4, 2, 0, 1, 3, 5, 7]\n",
      "counter_factual shap on size 10: 8\n",
      "Change dominating species from Neanderthal to Homo Sapiens would require removing 4 reads: [3, 7, 8, 2]\n",
      "[3, 7, 8, 2]\n",
      "counter_factual monte carlo on size 20: 4\n",
      "1\n"
     ]
    },
    {
     "data": {
      "application/vnd.jupyter.widget-view+json": {
       "model_id": "d1e17c842c3f43e3ab91164464fd42f5",
       "version_major": 2,
       "version_minor": 0
      },
      "text/plain": [
       "  0%|          | 0/1 [00:00<?, ?it/s]"
      ]
     },
     "metadata": {},
     "output_type": "display_data"
    },
    {
     "name": "stdout",
     "output_type": "stream",
     "text": [
      "1\n",
      "20\n",
      "Change dominating species from Neanderthal to Denisovan would require removing 8 reads: [8, 1, 2, 0, 3, 4, 6, 7]\n",
      "[8, 1, 2, 0, 3, 4, 6, 7]\n",
      "counter_factual shap on size 20: 8\n",
      "Change dominating species from Neanderthal to Homo Sapiens would require removing 4 reads: [2, 7, 3, 8]\n",
      "[2, 7, 3, 8]\n",
      "counter_factual monte carlo on size 50: 4\n",
      "1\n"
     ]
    },
    {
     "data": {
      "application/vnd.jupyter.widget-view+json": {
       "model_id": "69c8a8dbc63f4361a81cc3f1f30fab5a",
       "version_major": 2,
       "version_minor": 0
      },
      "text/plain": [
       "  0%|          | 0/1 [00:00<?, ?it/s]"
      ]
     },
     "metadata": {},
     "output_type": "display_data"
    },
    {
     "name": "stdout",
     "output_type": "stream",
     "text": [
      "1\n",
      "50\n",
      "Change dominating species from Neanderthal to Homo Sapiens would require removing 4 reads: [3, 8, 2, 7]\n",
      "[3, 8, 2, 7]\n",
      "counter_factual shap on size 50: 4\n",
      "Change dominating species from Neanderthal to Homo Sapiens would require removing 4 reads: [2, 7, 3, 8]\n",
      "[2, 7, 3, 8]\n",
      "counter_factual monte carlo on size 100: 4\n",
      "1\n"
     ]
    },
    {
     "data": {
      "application/vnd.jupyter.widget-view+json": {
       "model_id": "8838eae2fe6c4cef945da1997f7d540b",
       "version_major": 2,
       "version_minor": 0
      },
      "text/plain": [
       "  0%|          | 0/1 [00:00<?, ?it/s]"
      ]
     },
     "metadata": {},
     "output_type": "display_data"
    },
    {
     "name": "stdout",
     "output_type": "stream",
     "text": [
      "1\n",
      "100\n",
      "Change dominating species from Neanderthal to Homo Sapiens would require removing 4 reads: [7, 8, 3, 2]\n",
      "[7, 8, 3, 2]\n",
      "counter_factual shap on size 100: 4\n",
      "Change dominating species from Neanderthal to Homo Sapiens would require removing 4 reads: [7, 8, 2, 3]\n",
      "[7, 8, 2, 3]\n",
      "counter_factual monte carlo on size 200: 4\n",
      "1\n"
     ]
    },
    {
     "data": {
      "application/vnd.jupyter.widget-view+json": {
       "model_id": "14805dfc47d3489c8a839009d1d71e5a",
       "version_major": 2,
       "version_minor": 0
      },
      "text/plain": [
       "  0%|          | 0/1 [00:00<?, ?it/s]"
      ]
     },
     "metadata": {},
     "output_type": "display_data"
    },
    {
     "name": "stdout",
     "output_type": "stream",
     "text": [
      "1\n",
      "200\n",
      "Change dominating species from Neanderthal to Homo Sapiens would require removing 4 reads: [7, 3, 2, 8]\n",
      "[7, 3, 2, 8]\n",
      "counter_factual shap on size 200: 4\n",
      "Change dominating species from Neanderthal to Homo Sapiens would require removing 4 reads: [2, 3, 8, 7]\n",
      "[2, 3, 8, 7]\n",
      "counter_factual monte carlo on size 500: 4\n",
      "1\n"
     ]
    },
    {
     "data": {
      "application/vnd.jupyter.widget-view+json": {
       "model_id": "b53ea222de9e4b7bb82b7ee841dcca39",
       "version_major": 2,
       "version_minor": 0
      },
      "text/plain": [
       "  0%|          | 0/1 [00:00<?, ?it/s]"
      ]
     },
     "metadata": {},
     "output_type": "display_data"
    },
    {
     "name": "stdout",
     "output_type": "stream",
     "text": [
      "1\n",
      "500\n",
      "Change dominating species from Neanderthal to Homo Sapiens would require removing 4 reads: [2, 7, 3, 8]\n",
      "[2, 7, 3, 8]\n",
      "counter_factual shap on size 500: 4\n",
      "Change dominating species from Neanderthal to Homo Sapiens would require removing 4 reads: [7, 8, 3, 2]\n",
      "[7, 8, 3, 2]\n",
      "counter_factualA_s_d: 4\n",
      "[(10, 1, 1, 6, [(1, 10), (5, 10), (10, 10), (20, 11), (50, 7), (100, 6), (200, 6), (500, 7)], [(1, 9), (5, 6), (10, 8), (20, 6), (50, 7), (100, 7), (200, 7), (500, 7)], 7), (5, 4, 3, 3, [(1, 5), (5, 5), (10, 5), (20, 5), (50, 3), (100, 3), (200, 3), (500, 3)], [(1, 4), (5, 3), (10, 3), (20, 3), (50, 3), (100, 3), (200, 3), (500, 3)], 3), (2, 6, 4, 1, [(1, 3), (5, 3), (10, 2), (20, 1), (50, 1), (100, 1), (200, 1), (500, 1)], [(1, 3), (5, 1), (10, 1), (20, 1), (50, 1), (100, 1), (200, 1), (500, 1)], 1), (4, 5, 3, 2, [(1, 3), (5, 2), (10, 2), (20, 2), (50, 2), (100, 2), (200, 2), (500, 2)], [(1, 2), (5, 2), (10, 2), (20, 2), (50, 2), (100, 2), (200, 2), (500, 2)], 2), (9, 2, 1, 3, [(1, 8), (5, 7), (10, 7), (20, 9), (50, 5), (100, 5), (200, 6), (500, 5)], [(1, 4), (5, 6), (10, 5), (20, 5), (50, 4), (100, 4), (200, 4), (500, 5)], 6), (6, 4, 2, 2, [(1, 5), (5, 5), (10, 3), (20, 2), (50, 2), (100, 2), (200, 2), (500, 2)], [(1, 2), (5, 2), (10, 2), (20, 2), (50, 2), (100, 2), (200, 2), (500, 2)], 2), (6, 4, 2, 3, [(1, 4), (5, 5), (10, 4), (20, 5), (50, 3), (100, 3), (200, 3), (500, 3)], [(1, 3), (5, 3), (10, 4), (20, 3), (50, 3), (100, 3), (200, 3), (500, 3)], 3), (2, 6, 4, 3, [(1, 6), (5, 6), (10, 6), (20, 5), (50, 3), (100, 3), (200, 3), (500, 3)], [(1, 5), (5, 4), (10, 3), (20, 3), (50, 3), (100, 3), (200, 3), (500, 3)], 3), (0, 8, 4, 3, [(1, 5), (5, 5), (10, 7), (20, 4), (50, 4), (100, 3), (200, 3), (500, 3)], [(1, 3), (5, 3), (10, 3), (20, 3), (50, 4), (100, 3), (200, 3), (500, 3)], 3), (4, 5, 3, 4, [(1, 4), (5, 4), (10, 4), (20, 6), (50, 4), (100, 4), (200, 4), (500, 4)], [(1, 5), (5, 4), (10, 5), (20, 4), (50, 4), (100, 4), (200, 4), (500, 4)], 4), (3, 6, 3, 2, [(1, 2), (5, 2), (10, 2), (20, 2), (50, 2), (100, 2), (200, 2), (500, 2)], [(1, 4), (5, 2), (10, 2), (20, 2), (50, 2), (100, 2), (200, 2), (500, 2)], 2), (3, 6, 3, 4, [(1, 8), (5, 6), (10, 8), (20, 8), (50, 4), (100, 4), (200, 4), (500, 4)], [(1, 8), (5, 6), (10, 5), (20, 4), (50, 4), (100, 4), (200, 4), (500, 4)], 4)]\n",
      "new experiment: 12\n",
      "5 4 3\n",
      "\u001b[34mLoading sequences and calculating alignments to all references, this might take a while. Number of reads: \u001b[0m 12\n",
      "start working on read number 0\n",
      "working on size:  0\n",
      "working on size:  1\n",
      "working on size:  2\n",
      "working on size:  3\n",
      "groundtruth: 3\n",
      "groundtruth values: [5, 6, 7]\n",
      "Change dominating species from Neanderthal to Denisovan would require removing 5 reads: [5, 0, 7, 8, 2]\n",
      "[5, 0, 7, 8, 2]\n",
      "counter_factual monte carlo on size 1: 5\n",
      "1\n"
     ]
    },
    {
     "data": {
      "application/vnd.jupyter.widget-view+json": {
       "model_id": "5175f095c7584ac38578510f76e803e9",
       "version_major": 2,
       "version_minor": 0
      },
      "text/plain": [
       "  0%|          | 0/1 [00:00<?, ?it/s]"
      ]
     },
     "metadata": {},
     "output_type": "display_data"
    },
    {
     "name": "stdout",
     "output_type": "stream",
     "text": [
      "1\n",
      "1\n",
      "Change dominating species from Neanderthal to Denisovan would require removing 8 reads: [0, 1, 2, 3, 4, 5, 6, 7]\n",
      "[0, 1, 2, 3, 4, 5, 6, 7]\n",
      "counter_factual shap on size 1: 8\n",
      "Change dominating species from Neanderthal to Homo Sapiens would require removing 5 reads: [5, 11, 7, 8, 6]\n",
      "[5, 11, 7, 8, 6]\n",
      "counter_factual monte carlo on size 5: 5\n",
      "1\n"
     ]
    },
    {
     "data": {
      "application/vnd.jupyter.widget-view+json": {
       "model_id": "c6876611d4f74041ad3bab4a055e6371",
       "version_major": 2,
       "version_minor": 0
      },
      "text/plain": [
       "  0%|          | 0/1 [00:00<?, ?it/s]"
      ]
     },
     "metadata": {},
     "output_type": "display_data"
    },
    {
     "name": "stdout",
     "output_type": "stream",
     "text": [
      "1\n",
      "5\n",
      "Change dominating species from Neanderthal to Denisovan would require removing 8 reads: [2, 0, 1, 3, 4, 5, 6, 7]\n",
      "[2, 0, 1, 3, 4, 5, 6, 7]\n",
      "counter_factual shap on size 5: 8\n",
      "Change dominating species from Neanderthal to Homo Sapiens would require removing 5 reads: [7, 5, 11, 8, 6]\n",
      "[7, 5, 11, 8, 6]\n",
      "counter_factual monte carlo on size 10: 5\n",
      "1\n"
     ]
    },
    {
     "data": {
      "application/vnd.jupyter.widget-view+json": {
       "model_id": "ecd00e5f6bd243a5b9edd298013e0686",
       "version_major": 2,
       "version_minor": 0
      },
      "text/plain": [
       "  0%|          | 0/1 [00:00<?, ?it/s]"
      ]
     },
     "metadata": {},
     "output_type": "display_data"
    },
    {
     "name": "stdout",
     "output_type": "stream",
     "text": [
      "1\n",
      "10\n",
      "Change dominating species from Neanderthal to Denisovan would require removing 8 reads: [5, 0, 1, 2, 3, 4, 6, 7]\n",
      "[5, 0, 1, 2, 3, 4, 6, 7]\n",
      "counter_factual shap on size 10: 8\n",
      "Change dominating species from Neanderthal to Denisovan would require removing 4 reads: [8, 7, 6, 5]\n",
      "[8, 7, 6, 5]\n",
      "counter_factual monte carlo on size 20: 4\n",
      "1\n"
     ]
    },
    {
     "data": {
      "application/vnd.jupyter.widget-view+json": {
       "model_id": "d7d5887699fa44a3bfe7bc480d26afbb",
       "version_major": 2,
       "version_minor": 0
      },
      "text/plain": [
       "  0%|          | 0/1 [00:00<?, ?it/s]"
      ]
     },
     "metadata": {},
     "output_type": "display_data"
    },
    {
     "name": "stdout",
     "output_type": "stream",
     "text": [
      "1\n",
      "20\n",
      "Change dominating species from Neanderthal to Denisovan would require removing 4 reads: [6, 7, 8, 5]\n",
      "[6, 7, 8, 5]\n",
      "counter_factual shap on size 20: 4\n",
      "Change dominating species from Neanderthal to Homo Sapiens would require removing 4 reads: [5, 6, 11, 7]\n",
      "[5, 6, 11, 7]\n",
      "counter_factual monte carlo on size 50: 4\n",
      "1\n"
     ]
    },
    {
     "data": {
      "application/vnd.jupyter.widget-view+json": {
       "model_id": "93b66fd9b7054f69a69fe7e7100b8b37",
       "version_major": 2,
       "version_minor": 0
      },
      "text/plain": [
       "  0%|          | 0/1 [00:00<?, ?it/s]"
      ]
     },
     "metadata": {},
     "output_type": "display_data"
    },
    {
     "name": "stdout",
     "output_type": "stream",
     "text": [
      "1\n",
      "50\n",
      "Change dominating species from Neanderthal to Denisovan would require removing 4 reads: [5, 8, 7, 6]\n",
      "[5, 8, 7, 6]\n",
      "counter_factual shap on size 50: 4\n",
      "Change dominating species from Neanderthal to Denisovan would require removing 3 reads: [6, 7, 5]\n",
      "[6, 7, 5]\n",
      "counter_factual monte carlo on size 100: 3\n",
      "1\n"
     ]
    },
    {
     "data": {
      "application/vnd.jupyter.widget-view+json": {
       "model_id": "608f05a3f8104c228a9b27425ed1431d",
       "version_major": 2,
       "version_minor": 0
      },
      "text/plain": [
       "  0%|          | 0/1 [00:00<?, ?it/s]"
      ]
     },
     "metadata": {},
     "output_type": "display_data"
    },
    {
     "name": "stdout",
     "output_type": "stream",
     "text": [
      "1\n",
      "100\n",
      "Change dominating species from Neanderthal to Denisovan would require removing 4 reads: [5, 0, 7, 6]\n",
      "[5, 0, 7, 6]\n",
      "counter_factual shap on size 100: 4\n",
      "Change dominating species from Neanderthal to Denisovan would require removing 3 reads: [5, 6, 7]\n",
      "[5, 6, 7]\n",
      "counter_factual monte carlo on size 200: 3\n",
      "1\n"
     ]
    },
    {
     "data": {
      "application/vnd.jupyter.widget-view+json": {
       "model_id": "410b1e8fa4f249e288e7a1ac11b3a0d6",
       "version_major": 2,
       "version_minor": 0
      },
      "text/plain": [
       "  0%|          | 0/1 [00:00<?, ?it/s]"
      ]
     },
     "metadata": {},
     "output_type": "display_data"
    },
    {
     "name": "stdout",
     "output_type": "stream",
     "text": [
      "1\n",
      "200\n",
      "Change dominating species from Neanderthal to Denisovan would require removing 3 reads: [6, 5, 7]\n",
      "[6, 5, 7]\n",
      "counter_factual shap on size 200: 3\n",
      "Change dominating species from Neanderthal to Denisovan would require removing 3 reads: [6, 5, 7]\n",
      "[6, 5, 7]\n",
      "counter_factual monte carlo on size 500: 3\n",
      "1\n"
     ]
    },
    {
     "data": {
      "application/vnd.jupyter.widget-view+json": {
       "model_id": "4d68ea9c7cc64f42836479f82815f3bf",
       "version_major": 2,
       "version_minor": 0
      },
      "text/plain": [
       "  0%|          | 0/1 [00:00<?, ?it/s]"
      ]
     },
     "metadata": {},
     "output_type": "display_data"
    },
    {
     "name": "stdout",
     "output_type": "stream",
     "text": [
      "1\n",
      "500\n",
      "Change dominating species from Neanderthal to Denisovan would require removing 3 reads: [5, 6, 7]\n",
      "[5, 6, 7]\n",
      "counter_factual shap on size 500: 3\n",
      "Change dominating species from Neanderthal to Denisovan would require removing 3 reads: [6, 5, 7]\n",
      "[6, 5, 7]\n",
      "counter_factualA_s_d: 3\n",
      "[(10, 1, 1, 6, [(1, 10), (5, 10), (10, 10), (20, 11), (50, 7), (100, 6), (200, 6), (500, 7)], [(1, 9), (5, 6), (10, 8), (20, 6), (50, 7), (100, 7), (200, 7), (500, 7)], 7), (5, 4, 3, 3, [(1, 5), (5, 5), (10, 5), (20, 5), (50, 3), (100, 3), (200, 3), (500, 3)], [(1, 4), (5, 3), (10, 3), (20, 3), (50, 3), (100, 3), (200, 3), (500, 3)], 3), (2, 6, 4, 1, [(1, 3), (5, 3), (10, 2), (20, 1), (50, 1), (100, 1), (200, 1), (500, 1)], [(1, 3), (5, 1), (10, 1), (20, 1), (50, 1), (100, 1), (200, 1), (500, 1)], 1), (4, 5, 3, 2, [(1, 3), (5, 2), (10, 2), (20, 2), (50, 2), (100, 2), (200, 2), (500, 2)], [(1, 2), (5, 2), (10, 2), (20, 2), (50, 2), (100, 2), (200, 2), (500, 2)], 2), (9, 2, 1, 3, [(1, 8), (5, 7), (10, 7), (20, 9), (50, 5), (100, 5), (200, 6), (500, 5)], [(1, 4), (5, 6), (10, 5), (20, 5), (50, 4), (100, 4), (200, 4), (500, 5)], 6), (6, 4, 2, 2, [(1, 5), (5, 5), (10, 3), (20, 2), (50, 2), (100, 2), (200, 2), (500, 2)], [(1, 2), (5, 2), (10, 2), (20, 2), (50, 2), (100, 2), (200, 2), (500, 2)], 2), (6, 4, 2, 3, [(1, 4), (5, 5), (10, 4), (20, 5), (50, 3), (100, 3), (200, 3), (500, 3)], [(1, 3), (5, 3), (10, 4), (20, 3), (50, 3), (100, 3), (200, 3), (500, 3)], 3), (2, 6, 4, 3, [(1, 6), (5, 6), (10, 6), (20, 5), (50, 3), (100, 3), (200, 3), (500, 3)], [(1, 5), (5, 4), (10, 3), (20, 3), (50, 3), (100, 3), (200, 3), (500, 3)], 3), (0, 8, 4, 3, [(1, 5), (5, 5), (10, 7), (20, 4), (50, 4), (100, 3), (200, 3), (500, 3)], [(1, 3), (5, 3), (10, 3), (20, 3), (50, 4), (100, 3), (200, 3), (500, 3)], 3), (4, 5, 3, 4, [(1, 4), (5, 4), (10, 4), (20, 6), (50, 4), (100, 4), (200, 4), (500, 4)], [(1, 5), (5, 4), (10, 5), (20, 4), (50, 4), (100, 4), (200, 4), (500, 4)], 4), (3, 6, 3, 2, [(1, 2), (5, 2), (10, 2), (20, 2), (50, 2), (100, 2), (200, 2), (500, 2)], [(1, 4), (5, 2), (10, 2), (20, 2), (50, 2), (100, 2), (200, 2), (500, 2)], 2), (3, 6, 3, 4, [(1, 8), (5, 6), (10, 8), (20, 8), (50, 4), (100, 4), (200, 4), (500, 4)], [(1, 8), (5, 6), (10, 5), (20, 4), (50, 4), (100, 4), (200, 4), (500, 4)], 4), (5, 4, 3, 3, [(1, 8), (5, 8), (10, 8), (20, 4), (50, 4), (100, 4), (200, 3), (500, 3)], [(1, 5), (5, 5), (10, 5), (20, 4), (50, 4), (100, 3), (200, 3), (500, 3)], 3)]\n",
      "new experiment: 13\n",
      "11 0 1\n",
      "\u001b[34mLoading sequences and calculating alignments to all references, this might take a while. Number of reads: \u001b[0m 12\n",
      "start working on read number 0\n",
      "working on size:  0\n",
      "working on size:  1\n",
      "working on size:  2\n",
      "working on size:  3\n",
      "groundtruth: 3\n",
      "groundtruth values: [6, 8, 10]\n",
      "Change dominating species from Homo Sapiens to Denisovan would require removing 3 reads: [8, 10, 6]\n",
      "[8, 10, 6]\n",
      "counter_factual monte carlo on size 1: 3\n",
      "1\n"
     ]
    },
    {
     "data": {
      "application/vnd.jupyter.widget-view+json": {
       "model_id": "082fa194ea4745aebd3cb4d1189a081b",
       "version_major": 2,
       "version_minor": 0
      },
      "text/plain": [
       "  0%|          | 0/1 [00:00<?, ?it/s]"
      ]
     },
     "metadata": {},
     "output_type": "display_data"
    },
    {
     "name": "stdout",
     "output_type": "stream",
     "text": [
      "1\n",
      "1\n",
      "Change dominating species from Homo Sapiens to Denisovan would require removing 11 reads: [0, 1, 2, 3, 4, 5, 6, 7, 8, 9, 10]\n",
      "[0, 1, 2, 3, 4, 5, 6, 7, 8, 9, 10]\n",
      "counter_factual shap on size 1: 11\n",
      "Change dominating species from Homo Sapiens to Denisovan would require removing 4 reads: [8, 3, 10, 6]\n",
      "[8, 3, 10, 6]\n",
      "counter_factual monte carlo on size 5: 4\n",
      "1\n"
     ]
    },
    {
     "data": {
      "application/vnd.jupyter.widget-view+json": {
       "model_id": "987230d4c2b04c50be42c5b8c4d4ab4c",
       "version_major": 2,
       "version_minor": 0
      },
      "text/plain": [
       "  0%|          | 0/1 [00:00<?, ?it/s]"
      ]
     },
     "metadata": {},
     "output_type": "display_data"
    },
    {
     "name": "stdout",
     "output_type": "stream",
     "text": [
      "1\n",
      "5\n",
      "Change dominating species from Homo Sapiens to Denisovan would require removing 11 reads: [0, 1, 2, 3, 4, 5, 6, 7, 8, 9, 10]\n",
      "[0, 1, 2, 3, 4, 5, 6, 7, 8, 9, 10]\n",
      "counter_factual shap on size 5: 11\n",
      "Change dominating species from Homo Sapiens to Denisovan would require removing 3 reads: [8, 10, 6]\n",
      "[8, 10, 6]\n",
      "counter_factual monte carlo on size 10: 3\n",
      "1\n"
     ]
    },
    {
     "data": {
      "application/vnd.jupyter.widget-view+json": {
       "model_id": "72a146f368d04d97b7a51d100d699641",
       "version_major": 2,
       "version_minor": 0
      },
      "text/plain": [
       "  0%|          | 0/1 [00:00<?, ?it/s]"
      ]
     },
     "metadata": {},
     "output_type": "display_data"
    },
    {
     "name": "stdout",
     "output_type": "stream",
     "text": [
      "1\n",
      "10\n",
      "Change dominating species from Homo Sapiens to Denisovan would require removing 7 reads: [6, 2, 10, 0, 1, 3, 5]\n",
      "[6, 2, 10, 0, 1, 3, 5]\n",
      "counter_factual shap on size 10: 7\n",
      "Change dominating species from Homo Sapiens to Denisovan would require removing 4 reads: [10, 8, 3, 6]\n",
      "[10, 8, 3, 6]\n",
      "counter_factual monte carlo on size 20: 4\n",
      "1\n"
     ]
    },
    {
     "data": {
      "application/vnd.jupyter.widget-view+json": {
       "model_id": "8551784962b447ef879dc198a5c64200",
       "version_major": 2,
       "version_minor": 0
      },
      "text/plain": [
       "  0%|          | 0/1 [00:00<?, ?it/s]"
      ]
     },
     "metadata": {},
     "output_type": "display_data"
    },
    {
     "name": "stdout",
     "output_type": "stream",
     "text": [
      "1\n",
      "20\n",
      "Change dominating species from Homo Sapiens to Neanderthal would require removing 8 reads: [8, 9, 0, 1, 2, 3, 5, 6]\n",
      "[8, 9, 0, 1, 2, 3, 5, 6]\n",
      "counter_factual shap on size 20: 8\n",
      "Change dominating species from Homo Sapiens to Denisovan would require removing 4 reads: [10, 8, 3, 6]\n",
      "[10, 8, 3, 6]\n",
      "counter_factual monte carlo on size 50: 4\n",
      "1\n"
     ]
    },
    {
     "data": {
      "application/vnd.jupyter.widget-view+json": {
       "model_id": "8ca3a7698fc9466e8d2905f634ecb7e5",
       "version_major": 2,
       "version_minor": 0
      },
      "text/plain": [
       "  0%|          | 0/1 [00:00<?, ?it/s]"
      ]
     },
     "metadata": {},
     "output_type": "display_data"
    },
    {
     "name": "stdout",
     "output_type": "stream",
     "text": [
      "1\n",
      "50\n",
      "Change dominating species from Homo Sapiens to Denisovan would require removing 4 reads: [8, 6, 3, 10]\n",
      "[8, 6, 3, 10]\n",
      "counter_factual shap on size 50: 4\n",
      "Change dominating species from Homo Sapiens to Denisovan would require removing 4 reads: [3, 6, 10, 8]\n",
      "[3, 6, 10, 8]\n",
      "counter_factual monte carlo on size 100: 4\n",
      "1\n"
     ]
    },
    {
     "data": {
      "application/vnd.jupyter.widget-view+json": {
       "model_id": "c67f0c4019a448ebbfd205a5c8a1f4bb",
       "version_major": 2,
       "version_minor": 0
      },
      "text/plain": [
       "  0%|          | 0/1 [00:00<?, ?it/s]"
      ]
     },
     "metadata": {},
     "output_type": "display_data"
    },
    {
     "name": "stdout",
     "output_type": "stream",
     "text": [
      "1\n",
      "100\n",
      "Change dominating species from Homo Sapiens to Denisovan would require removing 4 reads: [10, 3, 6, 8]\n",
      "[10, 3, 6, 8]\n",
      "counter_factual shap on size 100: 4\n",
      "Change dominating species from Homo Sapiens to Denisovan would require removing 3 reads: [6, 8, 10]\n",
      "[6, 8, 10]\n",
      "counter_factual monte carlo on size 200: 3\n",
      "1\n"
     ]
    },
    {
     "data": {
      "application/vnd.jupyter.widget-view+json": {
       "model_id": "132837eedb9949ce9d1bb370bebfefe1",
       "version_major": 2,
       "version_minor": 0
      },
      "text/plain": [
       "  0%|          | 0/1 [00:00<?, ?it/s]"
      ]
     },
     "metadata": {},
     "output_type": "display_data"
    },
    {
     "name": "stdout",
     "output_type": "stream",
     "text": [
      "1\n",
      "200\n",
      "Change dominating species from Homo Sapiens to Denisovan would require removing 3 reads: [6, 8, 10]\n",
      "[6, 8, 10]\n",
      "counter_factual shap on size 200: 3\n",
      "Change dominating species from Homo Sapiens to Denisovan would require removing 4 reads: [10, 6, 3, 8]\n",
      "[10, 6, 3, 8]\n",
      "counter_factual monte carlo on size 500: 4\n",
      "1\n"
     ]
    },
    {
     "data": {
      "application/vnd.jupyter.widget-view+json": {
       "model_id": "a553933fa09d4f279da79b032ad0f33a",
       "version_major": 2,
       "version_minor": 0
      },
      "text/plain": [
       "  0%|          | 0/1 [00:00<?, ?it/s]"
      ]
     },
     "metadata": {},
     "output_type": "display_data"
    },
    {
     "name": "stdout",
     "output_type": "stream",
     "text": [
      "1\n",
      "500\n",
      "Change dominating species from Homo Sapiens to Denisovan would require removing 3 reads: [6, 8, 10]\n",
      "[6, 8, 10]\n",
      "counter_factual shap on size 500: 3\n",
      "Change dominating species from Homo Sapiens to Denisovan would require removing 3 reads: [8, 6, 10]\n",
      "[8, 6, 10]\n",
      "counter_factualA_s_d: 3\n",
      "[(10, 1, 1, 6, [(1, 10), (5, 10), (10, 10), (20, 11), (50, 7), (100, 6), (200, 6), (500, 7)], [(1, 9), (5, 6), (10, 8), (20, 6), (50, 7), (100, 7), (200, 7), (500, 7)], 7), (5, 4, 3, 3, [(1, 5), (5, 5), (10, 5), (20, 5), (50, 3), (100, 3), (200, 3), (500, 3)], [(1, 4), (5, 3), (10, 3), (20, 3), (50, 3), (100, 3), (200, 3), (500, 3)], 3), (2, 6, 4, 1, [(1, 3), (5, 3), (10, 2), (20, 1), (50, 1), (100, 1), (200, 1), (500, 1)], [(1, 3), (5, 1), (10, 1), (20, 1), (50, 1), (100, 1), (200, 1), (500, 1)], 1), (4, 5, 3, 2, [(1, 3), (5, 2), (10, 2), (20, 2), (50, 2), (100, 2), (200, 2), (500, 2)], [(1, 2), (5, 2), (10, 2), (20, 2), (50, 2), (100, 2), (200, 2), (500, 2)], 2), (9, 2, 1, 3, [(1, 8), (5, 7), (10, 7), (20, 9), (50, 5), (100, 5), (200, 6), (500, 5)], [(1, 4), (5, 6), (10, 5), (20, 5), (50, 4), (100, 4), (200, 4), (500, 5)], 6), (6, 4, 2, 2, [(1, 5), (5, 5), (10, 3), (20, 2), (50, 2), (100, 2), (200, 2), (500, 2)], [(1, 2), (5, 2), (10, 2), (20, 2), (50, 2), (100, 2), (200, 2), (500, 2)], 2), (6, 4, 2, 3, [(1, 4), (5, 5), (10, 4), (20, 5), (50, 3), (100, 3), (200, 3), (500, 3)], [(1, 3), (5, 3), (10, 4), (20, 3), (50, 3), (100, 3), (200, 3), (500, 3)], 3), (2, 6, 4, 3, [(1, 6), (5, 6), (10, 6), (20, 5), (50, 3), (100, 3), (200, 3), (500, 3)], [(1, 5), (5, 4), (10, 3), (20, 3), (50, 3), (100, 3), (200, 3), (500, 3)], 3), (0, 8, 4, 3, [(1, 5), (5, 5), (10, 7), (20, 4), (50, 4), (100, 3), (200, 3), (500, 3)], [(1, 3), (5, 3), (10, 3), (20, 3), (50, 4), (100, 3), (200, 3), (500, 3)], 3), (4, 5, 3, 4, [(1, 4), (5, 4), (10, 4), (20, 6), (50, 4), (100, 4), (200, 4), (500, 4)], [(1, 5), (5, 4), (10, 5), (20, 4), (50, 4), (100, 4), (200, 4), (500, 4)], 4), (3, 6, 3, 2, [(1, 2), (5, 2), (10, 2), (20, 2), (50, 2), (100, 2), (200, 2), (500, 2)], [(1, 4), (5, 2), (10, 2), (20, 2), (50, 2), (100, 2), (200, 2), (500, 2)], 2), (3, 6, 3, 4, [(1, 8), (5, 6), (10, 8), (20, 8), (50, 4), (100, 4), (200, 4), (500, 4)], [(1, 8), (5, 6), (10, 5), (20, 4), (50, 4), (100, 4), (200, 4), (500, 4)], 4), (5, 4, 3, 3, [(1, 8), (5, 8), (10, 8), (20, 4), (50, 4), (100, 4), (200, 3), (500, 3)], [(1, 5), (5, 5), (10, 5), (20, 4), (50, 4), (100, 3), (200, 3), (500, 3)], 3), (11, 0, 1, 3, [(1, 11), (5, 11), (10, 7), (20, 8), (50, 4), (100, 4), (200, 3), (500, 3)], [(1, 3), (5, 4), (10, 3), (20, 4), (50, 4), (100, 4), (200, 3), (500, 4)], 3)]\n",
      "new experiment: 14\n",
      "4 5 3\n",
      "\u001b[34mLoading sequences and calculating alignments to all references, this might take a while. Number of reads: \u001b[0m 12\n",
      "start working on read number 0\n",
      "working on size:  0\n",
      "working on size:  1\n",
      "working on size:  2\n",
      "groundtruth: 2\n",
      "groundtruth values: [6, 8]\n",
      "Change dominating species from Neanderthal to Homo Sapiens would require removing 4 reads: [4, 8, 2, 1]\n",
      "[4, 8, 2, 1]\n",
      "counter_factual monte carlo on size 1: 4\n",
      "1\n"
     ]
    },
    {
     "data": {
      "application/vnd.jupyter.widget-view+json": {
       "model_id": "54a91da0a4604d90b2d3de521d653223",
       "version_major": 2,
       "version_minor": 0
      },
      "text/plain": [
       "  0%|          | 0/1 [00:00<?, ?it/s]"
      ]
     },
     "metadata": {},
     "output_type": "display_data"
    },
    {
     "name": "stdout",
     "output_type": "stream",
     "text": [
      "1\n",
      "1\n",
      "Change dominating species from Neanderthal to Denisovan would require removing 9 reads: [0, 1, 2, 3, 4, 5, 6, 7, 8]\n",
      "[0, 1, 2, 3, 4, 5, 6, 7, 8]\n",
      "counter_factual shap on size 1: 9\n",
      "Change dominating species from Neanderthal to Homo Sapiens would require removing 2 reads: [6, 8]\n",
      "[6, 8]\n",
      "counter_factual monte carlo on size 5: 2\n",
      "1\n"
     ]
    },
    {
     "data": {
      "application/vnd.jupyter.widget-view+json": {
       "model_id": "cfd79759c9264d21b807b76bdb608a2e",
       "version_major": 2,
       "version_minor": 0
      },
      "text/plain": [
       "  0%|          | 0/1 [00:00<?, ?it/s]"
      ]
     },
     "metadata": {},
     "output_type": "display_data"
    },
    {
     "name": "stdout",
     "output_type": "stream",
     "text": [
      "1\n",
      "5\n",
      "Change dominating species from Neanderthal to Denisovan would require removing 8 reads: [2, 6, 1, 3, 4, 5, 7, 8]\n",
      "[2, 6, 1, 3, 4, 5, 7, 8]\n",
      "counter_factual shap on size 5: 8\n",
      "Change dominating species from Neanderthal to Homo Sapiens would require removing 2 reads: [8, 11]\n",
      "[8, 11]\n",
      "counter_factual monte carlo on size 10: 2\n",
      "1\n"
     ]
    },
    {
     "data": {
      "application/vnd.jupyter.widget-view+json": {
       "model_id": "7d498bc261784681b99c906312e1da34",
       "version_major": 2,
       "version_minor": 0
      },
      "text/plain": [
       "  0%|          | 0/1 [00:00<?, ?it/s]"
      ]
     },
     "metadata": {},
     "output_type": "display_data"
    },
    {
     "name": "stdout",
     "output_type": "stream",
     "text": [
      "1\n",
      "10\n",
      "Change dominating species from Neanderthal to Denisovan would require removing 9 reads: [4, 0, 1, 2, 3, 5, 6, 7, 8]\n",
      "[4, 0, 1, 2, 3, 5, 6, 7, 8]\n",
      "counter_factual shap on size 10: 9\n",
      "Change dominating species from Neanderthal to Homo Sapiens would require removing 2 reads: [6, 11]\n",
      "[6, 11]\n",
      "counter_factual monte carlo on size 20: 2\n",
      "1\n"
     ]
    },
    {
     "data": {
      "application/vnd.jupyter.widget-view+json": {
       "model_id": "cec32d9da7b2417b96251771dd416d76",
       "version_major": 2,
       "version_minor": 0
      },
      "text/plain": [
       "  0%|          | 0/1 [00:00<?, ?it/s]"
      ]
     },
     "metadata": {},
     "output_type": "display_data"
    },
    {
     "name": "stdout",
     "output_type": "stream",
     "text": [
      "1\n",
      "20\n",
      "Change dominating species from Neanderthal to Homo Sapiens would require removing 3 reads: [1, 11, 6]\n",
      "[1, 11, 6]\n",
      "counter_factual shap on size 20: 3\n",
      "Change dominating species from Neanderthal to Homo Sapiens would require removing 2 reads: [8, 6]\n",
      "[8, 6]\n",
      "counter_factual monte carlo on size 50: 2\n",
      "1\n"
     ]
    },
    {
     "data": {
      "application/vnd.jupyter.widget-view+json": {
       "model_id": "6214e9b294d84416bf89eb25c6096a61",
       "version_major": 2,
       "version_minor": 0
      },
      "text/plain": [
       "  0%|          | 0/1 [00:00<?, ?it/s]"
      ]
     },
     "metadata": {},
     "output_type": "display_data"
    },
    {
     "name": "stdout",
     "output_type": "stream",
     "text": [
      "1\n",
      "50\n",
      "Change dominating species from Neanderthal to Homo Sapiens would require removing 4 reads: [8, 4, 5, 6]\n",
      "[8, 4, 5, 6]\n",
      "counter_factual shap on size 50: 4\n",
      "Change dominating species from Neanderthal to Homo Sapiens would require removing 2 reads: [8, 6]\n",
      "[8, 6]\n",
      "counter_factual monte carlo on size 100: 2\n",
      "1\n"
     ]
    },
    {
     "data": {
      "application/vnd.jupyter.widget-view+json": {
       "model_id": "f4ab40fe67c643ec81445c04b0176316",
       "version_major": 2,
       "version_minor": 0
      },
      "text/plain": [
       "  0%|          | 0/1 [00:00<?, ?it/s]"
      ]
     },
     "metadata": {},
     "output_type": "display_data"
    },
    {
     "name": "stdout",
     "output_type": "stream",
     "text": [
      "1\n",
      "100\n",
      "Change dominating species from Neanderthal to Homo Sapiens would require removing 2 reads: [8, 6]\n",
      "[8, 6]\n",
      "counter_factual shap on size 100: 2\n",
      "Change dominating species from Neanderthal to Homo Sapiens would require removing 2 reads: [8, 6]\n",
      "[8, 6]\n",
      "counter_factual monte carlo on size 200: 2\n",
      "1\n"
     ]
    },
    {
     "data": {
      "application/vnd.jupyter.widget-view+json": {
       "model_id": "2e9ae0924b604a949e23d4830d92ebb5",
       "version_major": 2,
       "version_minor": 0
      },
      "text/plain": [
       "  0%|          | 0/1 [00:00<?, ?it/s]"
      ]
     },
     "metadata": {},
     "output_type": "display_data"
    },
    {
     "name": "stdout",
     "output_type": "stream",
     "text": [
      "1\n",
      "200\n",
      "Change dominating species from Neanderthal to Homo Sapiens would require removing 2 reads: [8, 6]\n",
      "[8, 6]\n",
      "counter_factual shap on size 200: 2\n",
      "Change dominating species from Neanderthal to Homo Sapiens would require removing 2 reads: [8, 6]\n",
      "[8, 6]\n",
      "counter_factual monte carlo on size 500: 2\n",
      "1\n"
     ]
    },
    {
     "data": {
      "application/vnd.jupyter.widget-view+json": {
       "model_id": "afcb876cadf2481bb56d8125cb92df15",
       "version_major": 2,
       "version_minor": 0
      },
      "text/plain": [
       "  0%|          | 0/1 [00:00<?, ?it/s]"
      ]
     },
     "metadata": {},
     "output_type": "display_data"
    },
    {
     "name": "stdout",
     "output_type": "stream",
     "text": [
      "1\n",
      "500\n",
      "Change dominating species from Neanderthal to Homo Sapiens would require removing 2 reads: [6, 8]\n",
      "[6, 8]\n",
      "counter_factual shap on size 500: 2\n",
      "Change dominating species from Neanderthal to Homo Sapiens would require removing 2 reads: [6, 8]\n",
      "[6, 8]\n",
      "counter_factualA_s_d: 2\n",
      "[(10, 1, 1, 6, [(1, 10), (5, 10), (10, 10), (20, 11), (50, 7), (100, 6), (200, 6), (500, 7)], [(1, 9), (5, 6), (10, 8), (20, 6), (50, 7), (100, 7), (200, 7), (500, 7)], 7), (5, 4, 3, 3, [(1, 5), (5, 5), (10, 5), (20, 5), (50, 3), (100, 3), (200, 3), (500, 3)], [(1, 4), (5, 3), (10, 3), (20, 3), (50, 3), (100, 3), (200, 3), (500, 3)], 3), (2, 6, 4, 1, [(1, 3), (5, 3), (10, 2), (20, 1), (50, 1), (100, 1), (200, 1), (500, 1)], [(1, 3), (5, 1), (10, 1), (20, 1), (50, 1), (100, 1), (200, 1), (500, 1)], 1), (4, 5, 3, 2, [(1, 3), (5, 2), (10, 2), (20, 2), (50, 2), (100, 2), (200, 2), (500, 2)], [(1, 2), (5, 2), (10, 2), (20, 2), (50, 2), (100, 2), (200, 2), (500, 2)], 2), (9, 2, 1, 3, [(1, 8), (5, 7), (10, 7), (20, 9), (50, 5), (100, 5), (200, 6), (500, 5)], [(1, 4), (5, 6), (10, 5), (20, 5), (50, 4), (100, 4), (200, 4), (500, 5)], 6), (6, 4, 2, 2, [(1, 5), (5, 5), (10, 3), (20, 2), (50, 2), (100, 2), (200, 2), (500, 2)], [(1, 2), (5, 2), (10, 2), (20, 2), (50, 2), (100, 2), (200, 2), (500, 2)], 2), (6, 4, 2, 3, [(1, 4), (5, 5), (10, 4), (20, 5), (50, 3), (100, 3), (200, 3), (500, 3)], [(1, 3), (5, 3), (10, 4), (20, 3), (50, 3), (100, 3), (200, 3), (500, 3)], 3), (2, 6, 4, 3, [(1, 6), (5, 6), (10, 6), (20, 5), (50, 3), (100, 3), (200, 3), (500, 3)], [(1, 5), (5, 4), (10, 3), (20, 3), (50, 3), (100, 3), (200, 3), (500, 3)], 3), (0, 8, 4, 3, [(1, 5), (5, 5), (10, 7), (20, 4), (50, 4), (100, 3), (200, 3), (500, 3)], [(1, 3), (5, 3), (10, 3), (20, 3), (50, 4), (100, 3), (200, 3), (500, 3)], 3), (4, 5, 3, 4, [(1, 4), (5, 4), (10, 4), (20, 6), (50, 4), (100, 4), (200, 4), (500, 4)], [(1, 5), (5, 4), (10, 5), (20, 4), (50, 4), (100, 4), (200, 4), (500, 4)], 4), (3, 6, 3, 2, [(1, 2), (5, 2), (10, 2), (20, 2), (50, 2), (100, 2), (200, 2), (500, 2)], [(1, 4), (5, 2), (10, 2), (20, 2), (50, 2), (100, 2), (200, 2), (500, 2)], 2), (3, 6, 3, 4, [(1, 8), (5, 6), (10, 8), (20, 8), (50, 4), (100, 4), (200, 4), (500, 4)], [(1, 8), (5, 6), (10, 5), (20, 4), (50, 4), (100, 4), (200, 4), (500, 4)], 4), (5, 4, 3, 3, [(1, 8), (5, 8), (10, 8), (20, 4), (50, 4), (100, 4), (200, 3), (500, 3)], [(1, 5), (5, 5), (10, 5), (20, 4), (50, 4), (100, 3), (200, 3), (500, 3)], 3), (11, 0, 1, 3, [(1, 11), (5, 11), (10, 7), (20, 8), (50, 4), (100, 4), (200, 3), (500, 3)], [(1, 3), (5, 4), (10, 3), (20, 4), (50, 4), (100, 4), (200, 3), (500, 4)], 3), (4, 5, 3, 2, [(1, 9), (5, 8), (10, 9), (20, 3), (50, 4), (100, 2), (200, 2), (500, 2)], [(1, 4), (5, 2), (10, 2), (20, 2), (50, 2), (100, 2), (200, 2), (500, 2)], 2)]\n",
      "new experiment: 15\n",
      "2 6 4\n",
      "\u001b[34mLoading sequences and calculating alignments to all references, this might take a while. Number of reads: \u001b[0m 12\n",
      "start working on read number 0\n",
      "working on size:  0\n",
      "working on size:  1\n",
      "working on size:  2\n",
      "working on size:  3\n",
      "groundtruth: 3\n",
      "groundtruth values: [0, 2, 6]\n",
      "Change dominating species from Neanderthal to Denisovan would require removing 3 reads: [1, 6, 2]\n",
      "[1, 6, 2]\n",
      "counter_factual monte carlo on size 1: 3\n",
      "1\n"
     ]
    },
    {
     "data": {
      "application/vnd.jupyter.widget-view+json": {
       "model_id": "1e6f62cd4bf24d45af13039fa11fe6a3",
       "version_major": 2,
       "version_minor": 0
      },
      "text/plain": [
       "  0%|          | 0/1 [00:00<?, ?it/s]"
      ]
     },
     "metadata": {},
     "output_type": "display_data"
    },
    {
     "name": "stdout",
     "output_type": "stream",
     "text": [
      "1\n",
      "1\n",
      "Change dominating species from Neanderthal to Denisovan would require removing 5 reads: [0, 1, 2, 3, 4]\n",
      "[0, 1, 2, 3, 4]\n",
      "counter_factual shap on size 1: 5\n",
      "Change dominating species from Neanderthal to Denisovan would require removing 3 reads: [5, 2, 6]\n",
      "[5, 2, 6]\n",
      "counter_factual monte carlo on size 5: 3\n",
      "1\n"
     ]
    },
    {
     "data": {
      "application/vnd.jupyter.widget-view+json": {
       "model_id": "27c9ad3a5d9c4ccc8648c28217307d16",
       "version_major": 2,
       "version_minor": 0
      },
      "text/plain": [
       "  0%|          | 0/1 [00:00<?, ?it/s]"
      ]
     },
     "metadata": {},
     "output_type": "display_data"
    },
    {
     "name": "stdout",
     "output_type": "stream",
     "text": [
      "1\n",
      "5\n",
      "Change dominating species from Neanderthal to Denisovan would require removing 6 reads: [10, 0, 1, 2, 3, 4]\n",
      "[10, 0, 1, 2, 3, 4]\n",
      "counter_factual shap on size 5: 6\n",
      "Change dominating species from Neanderthal to Denisovan would require removing 4 reads: [2, 5, 1, 6]\n",
      "[2, 5, 1, 6]\n",
      "counter_factual monte carlo on size 10: 4\n",
      "1\n"
     ]
    },
    {
     "data": {
      "application/vnd.jupyter.widget-view+json": {
       "model_id": "2cbc0aff6fa144298abcf2e220731249",
       "version_major": 2,
       "version_minor": 0
      },
      "text/plain": [
       "  0%|          | 0/1 [00:00<?, ?it/s]"
      ]
     },
     "metadata": {},
     "output_type": "display_data"
    },
    {
     "name": "stdout",
     "output_type": "stream",
     "text": [
      "1\n",
      "10\n",
      "Change dominating species from Neanderthal to Denisovan would require removing 3 reads: [2, 6, 1]\n",
      "[2, 6, 1]\n",
      "counter_factual shap on size 10: 3\n",
      "Change dominating species from Neanderthal to Denisovan would require removing 3 reads: [6, 5, 2]\n",
      "[6, 5, 2]\n",
      "counter_factual monte carlo on size 20: 3\n",
      "1\n"
     ]
    },
    {
     "data": {
      "application/vnd.jupyter.widget-view+json": {
       "model_id": "ee573422ead64a7ab2a6ce98dccc105c",
       "version_major": 2,
       "version_minor": 0
      },
      "text/plain": [
       "  0%|          | 0/1 [00:00<?, ?it/s]"
      ]
     },
     "metadata": {},
     "output_type": "display_data"
    },
    {
     "name": "stdout",
     "output_type": "stream",
     "text": [
      "1\n",
      "20\n",
      "Change dominating species from Neanderthal to Denisovan would require removing 4 reads: [6, 5, 4, 0]\n",
      "[6, 5, 4, 0]\n",
      "counter_factual shap on size 20: 4\n",
      "Change dominating species from Neanderthal to Denisovan would require removing 3 reads: [6, 2, 5]\n",
      "[6, 2, 5]\n",
      "counter_factual monte carlo on size 50: 3\n",
      "1\n"
     ]
    },
    {
     "data": {
      "application/vnd.jupyter.widget-view+json": {
       "model_id": "908e897d22034fe09cc0a96ea1126f63",
       "version_major": 2,
       "version_minor": 0
      },
      "text/plain": [
       "  0%|          | 0/1 [00:00<?, ?it/s]"
      ]
     },
     "metadata": {},
     "output_type": "display_data"
    },
    {
     "name": "stdout",
     "output_type": "stream",
     "text": [
      "1\n",
      "50\n",
      "Change dominating species from Neanderthal to Denisovan would require removing 3 reads: [2, 5, 6]\n",
      "[2, 5, 6]\n",
      "counter_factual shap on size 50: 3\n",
      "Change dominating species from Neanderthal to Denisovan would require removing 3 reads: [2, 5, 6]\n",
      "[2, 5, 6]\n",
      "counter_factual monte carlo on size 100: 3\n",
      "1\n"
     ]
    },
    {
     "data": {
      "application/vnd.jupyter.widget-view+json": {
       "model_id": "0f639ef3981746c69ffcb646e4bfaa01",
       "version_major": 2,
       "version_minor": 0
      },
      "text/plain": [
       "  0%|          | 0/1 [00:00<?, ?it/s]"
      ]
     },
     "metadata": {},
     "output_type": "display_data"
    },
    {
     "name": "stdout",
     "output_type": "stream",
     "text": [
      "1\n",
      "100\n",
      "Change dominating species from Neanderthal to Denisovan would require removing 3 reads: [2, 6, 5]\n",
      "[2, 6, 5]\n",
      "counter_factual shap on size 100: 3\n",
      "Change dominating species from Neanderthal to Denisovan would require removing 3 reads: [6, 5, 2]\n",
      "[6, 5, 2]\n",
      "counter_factual monte carlo on size 200: 3\n",
      "1\n"
     ]
    },
    {
     "data": {
      "application/vnd.jupyter.widget-view+json": {
       "model_id": "4dbae7d777094f7eb68607ebfe3e7693",
       "version_major": 2,
       "version_minor": 0
      },
      "text/plain": [
       "  0%|          | 0/1 [00:00<?, ?it/s]"
      ]
     },
     "metadata": {},
     "output_type": "display_data"
    },
    {
     "name": "stdout",
     "output_type": "stream",
     "text": [
      "1\n",
      "200\n",
      "Change dominating species from Neanderthal to Denisovan would require removing 3 reads: [2, 6, 5]\n",
      "[2, 6, 5]\n",
      "counter_factual shap on size 200: 3\n",
      "Change dominating species from Neanderthal to Denisovan would require removing 3 reads: [6, 2, 5]\n",
      "[6, 2, 5]\n",
      "counter_factual monte carlo on size 500: 3\n",
      "1\n"
     ]
    },
    {
     "data": {
      "application/vnd.jupyter.widget-view+json": {
       "model_id": "28f13ade1b594d869fb39f99a27b358f",
       "version_major": 2,
       "version_minor": 0
      },
      "text/plain": [
       "  0%|          | 0/1 [00:00<?, ?it/s]"
      ]
     },
     "metadata": {},
     "output_type": "display_data"
    },
    {
     "name": "stdout",
     "output_type": "stream",
     "text": [
      "1\n",
      "500\n",
      "Change dominating species from Neanderthal to Denisovan would require removing 3 reads: [2, 6, 5]\n",
      "[2, 6, 5]\n",
      "counter_factual shap on size 500: 3\n",
      "Change dominating species from Neanderthal to Denisovan would require removing 3 reads: [2, 6, 5]\n",
      "[2, 6, 5]\n",
      "counter_factualA_s_d: 3\n",
      "[(10, 1, 1, 6, [(1, 10), (5, 10), (10, 10), (20, 11), (50, 7), (100, 6), (200, 6), (500, 7)], [(1, 9), (5, 6), (10, 8), (20, 6), (50, 7), (100, 7), (200, 7), (500, 7)], 7), (5, 4, 3, 3, [(1, 5), (5, 5), (10, 5), (20, 5), (50, 3), (100, 3), (200, 3), (500, 3)], [(1, 4), (5, 3), (10, 3), (20, 3), (50, 3), (100, 3), (200, 3), (500, 3)], 3), (2, 6, 4, 1, [(1, 3), (5, 3), (10, 2), (20, 1), (50, 1), (100, 1), (200, 1), (500, 1)], [(1, 3), (5, 1), (10, 1), (20, 1), (50, 1), (100, 1), (200, 1), (500, 1)], 1), (4, 5, 3, 2, [(1, 3), (5, 2), (10, 2), (20, 2), (50, 2), (100, 2), (200, 2), (500, 2)], [(1, 2), (5, 2), (10, 2), (20, 2), (50, 2), (100, 2), (200, 2), (500, 2)], 2), (9, 2, 1, 3, [(1, 8), (5, 7), (10, 7), (20, 9), (50, 5), (100, 5), (200, 6), (500, 5)], [(1, 4), (5, 6), (10, 5), (20, 5), (50, 4), (100, 4), (200, 4), (500, 5)], 6), (6, 4, 2, 2, [(1, 5), (5, 5), (10, 3), (20, 2), (50, 2), (100, 2), (200, 2), (500, 2)], [(1, 2), (5, 2), (10, 2), (20, 2), (50, 2), (100, 2), (200, 2), (500, 2)], 2), (6, 4, 2, 3, [(1, 4), (5, 5), (10, 4), (20, 5), (50, 3), (100, 3), (200, 3), (500, 3)], [(1, 3), (5, 3), (10, 4), (20, 3), (50, 3), (100, 3), (200, 3), (500, 3)], 3), (2, 6, 4, 3, [(1, 6), (5, 6), (10, 6), (20, 5), (50, 3), (100, 3), (200, 3), (500, 3)], [(1, 5), (5, 4), (10, 3), (20, 3), (50, 3), (100, 3), (200, 3), (500, 3)], 3), (0, 8, 4, 3, [(1, 5), (5, 5), (10, 7), (20, 4), (50, 4), (100, 3), (200, 3), (500, 3)], [(1, 3), (5, 3), (10, 3), (20, 3), (50, 4), (100, 3), (200, 3), (500, 3)], 3), (4, 5, 3, 4, [(1, 4), (5, 4), (10, 4), (20, 6), (50, 4), (100, 4), (200, 4), (500, 4)], [(1, 5), (5, 4), (10, 5), (20, 4), (50, 4), (100, 4), (200, 4), (500, 4)], 4), (3, 6, 3, 2, [(1, 2), (5, 2), (10, 2), (20, 2), (50, 2), (100, 2), (200, 2), (500, 2)], [(1, 4), (5, 2), (10, 2), (20, 2), (50, 2), (100, 2), (200, 2), (500, 2)], 2), (3, 6, 3, 4, [(1, 8), (5, 6), (10, 8), (20, 8), (50, 4), (100, 4), (200, 4), (500, 4)], [(1, 8), (5, 6), (10, 5), (20, 4), (50, 4), (100, 4), (200, 4), (500, 4)], 4), (5, 4, 3, 3, [(1, 8), (5, 8), (10, 8), (20, 4), (50, 4), (100, 4), (200, 3), (500, 3)], [(1, 5), (5, 5), (10, 5), (20, 4), (50, 4), (100, 3), (200, 3), (500, 3)], 3), (11, 0, 1, 3, [(1, 11), (5, 11), (10, 7), (20, 8), (50, 4), (100, 4), (200, 3), (500, 3)], [(1, 3), (5, 4), (10, 3), (20, 4), (50, 4), (100, 4), (200, 3), (500, 4)], 3), (4, 5, 3, 2, [(1, 9), (5, 8), (10, 9), (20, 3), (50, 4), (100, 2), (200, 2), (500, 2)], [(1, 4), (5, 2), (10, 2), (20, 2), (50, 2), (100, 2), (200, 2), (500, 2)], 2), (2, 6, 4, 3, [(1, 5), (5, 6), (10, 3), (20, 4), (50, 3), (100, 3), (200, 3), (500, 3)], [(1, 3), (5, 3), (10, 4), (20, 3), (50, 3), (100, 3), (200, 3), (500, 3)], 3)]\n",
      "new experiment: 16\n",
      "0 8 4\n",
      "\u001b[34mLoading sequences and calculating alignments to all references, this might take a while. Number of reads: \u001b[0m 12\n",
      "start working on read number 0\n",
      "working on size:  0\n",
      "working on size:  1\n",
      "groundtruth: 1\n",
      "groundtruth values: [2]\n",
      "Change dominating species from Neanderthal to Denisovan would require removing 1 reads: [5]\n",
      "[5]\n",
      "counter_factual monte carlo on size 1: 1\n",
      "1\n"
     ]
    },
    {
     "data": {
      "application/vnd.jupyter.widget-view+json": {
       "model_id": "dc29217304244ffdae4e10746fcb7ccc",
       "version_major": 2,
       "version_minor": 0
      },
      "text/plain": [
       "  0%|          | 0/1 [00:00<?, ?it/s]"
      ]
     },
     "metadata": {},
     "output_type": "display_data"
    },
    {
     "name": "stdout",
     "output_type": "stream",
     "text": [
      "1\n",
      "1\n",
      "Change dominating species from Neanderthal to Denisovan would require removing 3 reads: [0, 1, 2]\n",
      "[0, 1, 2]\n",
      "counter_factual shap on size 1: 3\n",
      "Change dominating species from Neanderthal to Denisovan would require removing 1 reads: [5]\n",
      "[5]\n",
      "counter_factual monte carlo on size 5: 1\n",
      "1\n"
     ]
    },
    {
     "data": {
      "application/vnd.jupyter.widget-view+json": {
       "model_id": "68c22c34252c4dd4a2296f83a96906be",
       "version_major": 2,
       "version_minor": 0
      },
      "text/plain": [
       "  0%|          | 0/1 [00:00<?, ?it/s]"
      ]
     },
     "metadata": {},
     "output_type": "display_data"
    },
    {
     "name": "stdout",
     "output_type": "stream",
     "text": [
      "1\n",
      "5\n",
      "Change dominating species from Neanderthal to Denisovan would require removing 1 reads: [5]\n",
      "[5]\n",
      "counter_factual shap on size 5: 1\n",
      "Change dominating species from Neanderthal to Denisovan would require removing 1 reads: [5]\n",
      "[5]\n",
      "counter_factual monte carlo on size 10: 1\n",
      "1\n"
     ]
    },
    {
     "data": {
      "application/vnd.jupyter.widget-view+json": {
       "model_id": "967e28a9f33945188015c898950dd1e1",
       "version_major": 2,
       "version_minor": 0
      },
      "text/plain": [
       "  0%|          | 0/1 [00:00<?, ?it/s]"
      ]
     },
     "metadata": {},
     "output_type": "display_data"
    },
    {
     "name": "stdout",
     "output_type": "stream",
     "text": [
      "1\n",
      "10\n",
      "Change dominating species from Neanderthal to Denisovan would require removing 2 reads: [4, 5]\n",
      "[4, 5]\n",
      "counter_factual shap on size 10: 2\n",
      "Change dominating species from Neanderthal to Denisovan would require removing 1 reads: [5]\n",
      "[5]\n",
      "counter_factual monte carlo on size 20: 1\n",
      "1\n"
     ]
    },
    {
     "data": {
      "application/vnd.jupyter.widget-view+json": {
       "model_id": "7982ac503ce945ec8478e93dd811c71b",
       "version_major": 2,
       "version_minor": 0
      },
      "text/plain": [
       "  0%|          | 0/1 [00:00<?, ?it/s]"
      ]
     },
     "metadata": {},
     "output_type": "display_data"
    },
    {
     "name": "stdout",
     "output_type": "stream",
     "text": [
      "1\n",
      "20\n",
      "Change dominating species from Neanderthal to Denisovan would require removing 1 reads: [2]\n",
      "[2]\n",
      "counter_factual shap on size 20: 1\n",
      "Change dominating species from Neanderthal to Denisovan would require removing 1 reads: [2]\n",
      "[2]\n",
      "counter_factual monte carlo on size 50: 1\n",
      "1\n"
     ]
    },
    {
     "data": {
      "application/vnd.jupyter.widget-view+json": {
       "model_id": "7720589b688a49c0ba4981e420effc79",
       "version_major": 2,
       "version_minor": 0
      },
      "text/plain": [
       "  0%|          | 0/1 [00:00<?, ?it/s]"
      ]
     },
     "metadata": {},
     "output_type": "display_data"
    },
    {
     "name": "stdout",
     "output_type": "stream",
     "text": [
      "1\n",
      "50\n",
      "Change dominating species from Neanderthal to Denisovan would require removing 1 reads: [5]\n",
      "[5]\n",
      "counter_factual shap on size 50: 1\n",
      "Change dominating species from Neanderthal to Denisovan would require removing 1 reads: [5]\n",
      "[5]\n",
      "counter_factual monte carlo on size 100: 1\n",
      "1\n"
     ]
    },
    {
     "data": {
      "application/vnd.jupyter.widget-view+json": {
       "model_id": "014ad707f4d640228013201359ff0d4c",
       "version_major": 2,
       "version_minor": 0
      },
      "text/plain": [
       "  0%|          | 0/1 [00:00<?, ?it/s]"
      ]
     },
     "metadata": {},
     "output_type": "display_data"
    },
    {
     "name": "stdout",
     "output_type": "stream",
     "text": [
      "1\n",
      "100\n",
      "Change dominating species from Neanderthal to Denisovan would require removing 1 reads: [5]\n",
      "[5]\n",
      "counter_factual shap on size 100: 1\n",
      "Change dominating species from Neanderthal to Denisovan would require removing 1 reads: [5]\n",
      "[5]\n",
      "counter_factual monte carlo on size 200: 1\n",
      "1\n"
     ]
    },
    {
     "data": {
      "application/vnd.jupyter.widget-view+json": {
       "model_id": "97d4eb8236c44c389fd8ab9ec0560aab",
       "version_major": 2,
       "version_minor": 0
      },
      "text/plain": [
       "  0%|          | 0/1 [00:00<?, ?it/s]"
      ]
     },
     "metadata": {},
     "output_type": "display_data"
    },
    {
     "name": "stdout",
     "output_type": "stream",
     "text": [
      "1\n",
      "200\n",
      "Change dominating species from Neanderthal to Denisovan would require removing 1 reads: [2]\n",
      "[2]\n",
      "counter_factual shap on size 200: 1\n",
      "Change dominating species from Neanderthal to Denisovan would require removing 1 reads: [5]\n",
      "[5]\n",
      "counter_factual monte carlo on size 500: 1\n",
      "1\n"
     ]
    },
    {
     "data": {
      "application/vnd.jupyter.widget-view+json": {
       "model_id": "b367817ef96343cbb9cb6e1b76752205",
       "version_major": 2,
       "version_minor": 0
      },
      "text/plain": [
       "  0%|          | 0/1 [00:00<?, ?it/s]"
      ]
     },
     "metadata": {},
     "output_type": "display_data"
    },
    {
     "name": "stdout",
     "output_type": "stream",
     "text": [
      "1\n",
      "500\n",
      "Change dominating species from Neanderthal to Denisovan would require removing 1 reads: [5]\n",
      "[5]\n",
      "counter_factual shap on size 500: 1\n",
      "Change dominating species from Neanderthal to Denisovan would require removing 1 reads: [2]\n",
      "[2]\n",
      "counter_factualA_s_d: 1\n",
      "[(10, 1, 1, 6, [(1, 10), (5, 10), (10, 10), (20, 11), (50, 7), (100, 6), (200, 6), (500, 7)], [(1, 9), (5, 6), (10, 8), (20, 6), (50, 7), (100, 7), (200, 7), (500, 7)], 7), (5, 4, 3, 3, [(1, 5), (5, 5), (10, 5), (20, 5), (50, 3), (100, 3), (200, 3), (500, 3)], [(1, 4), (5, 3), (10, 3), (20, 3), (50, 3), (100, 3), (200, 3), (500, 3)], 3), (2, 6, 4, 1, [(1, 3), (5, 3), (10, 2), (20, 1), (50, 1), (100, 1), (200, 1), (500, 1)], [(1, 3), (5, 1), (10, 1), (20, 1), (50, 1), (100, 1), (200, 1), (500, 1)], 1), (4, 5, 3, 2, [(1, 3), (5, 2), (10, 2), (20, 2), (50, 2), (100, 2), (200, 2), (500, 2)], [(1, 2), (5, 2), (10, 2), (20, 2), (50, 2), (100, 2), (200, 2), (500, 2)], 2), (9, 2, 1, 3, [(1, 8), (5, 7), (10, 7), (20, 9), (50, 5), (100, 5), (200, 6), (500, 5)], [(1, 4), (5, 6), (10, 5), (20, 5), (50, 4), (100, 4), (200, 4), (500, 5)], 6), (6, 4, 2, 2, [(1, 5), (5, 5), (10, 3), (20, 2), (50, 2), (100, 2), (200, 2), (500, 2)], [(1, 2), (5, 2), (10, 2), (20, 2), (50, 2), (100, 2), (200, 2), (500, 2)], 2), (6, 4, 2, 3, [(1, 4), (5, 5), (10, 4), (20, 5), (50, 3), (100, 3), (200, 3), (500, 3)], [(1, 3), (5, 3), (10, 4), (20, 3), (50, 3), (100, 3), (200, 3), (500, 3)], 3), (2, 6, 4, 3, [(1, 6), (5, 6), (10, 6), (20, 5), (50, 3), (100, 3), (200, 3), (500, 3)], [(1, 5), (5, 4), (10, 3), (20, 3), (50, 3), (100, 3), (200, 3), (500, 3)], 3), (0, 8, 4, 3, [(1, 5), (5, 5), (10, 7), (20, 4), (50, 4), (100, 3), (200, 3), (500, 3)], [(1, 3), (5, 3), (10, 3), (20, 3), (50, 4), (100, 3), (200, 3), (500, 3)], 3), (4, 5, 3, 4, [(1, 4), (5, 4), (10, 4), (20, 6), (50, 4), (100, 4), (200, 4), (500, 4)], [(1, 5), (5, 4), (10, 5), (20, 4), (50, 4), (100, 4), (200, 4), (500, 4)], 4), (3, 6, 3, 2, [(1, 2), (5, 2), (10, 2), (20, 2), (50, 2), (100, 2), (200, 2), (500, 2)], [(1, 4), (5, 2), (10, 2), (20, 2), (50, 2), (100, 2), (200, 2), (500, 2)], 2), (3, 6, 3, 4, [(1, 8), (5, 6), (10, 8), (20, 8), (50, 4), (100, 4), (200, 4), (500, 4)], [(1, 8), (5, 6), (10, 5), (20, 4), (50, 4), (100, 4), (200, 4), (500, 4)], 4), (5, 4, 3, 3, [(1, 8), (5, 8), (10, 8), (20, 4), (50, 4), (100, 4), (200, 3), (500, 3)], [(1, 5), (5, 5), (10, 5), (20, 4), (50, 4), (100, 3), (200, 3), (500, 3)], 3), (11, 0, 1, 3, [(1, 11), (5, 11), (10, 7), (20, 8), (50, 4), (100, 4), (200, 3), (500, 3)], [(1, 3), (5, 4), (10, 3), (20, 4), (50, 4), (100, 4), (200, 3), (500, 4)], 3), (4, 5, 3, 2, [(1, 9), (5, 8), (10, 9), (20, 3), (50, 4), (100, 2), (200, 2), (500, 2)], [(1, 4), (5, 2), (10, 2), (20, 2), (50, 2), (100, 2), (200, 2), (500, 2)], 2), (2, 6, 4, 3, [(1, 5), (5, 6), (10, 3), (20, 4), (50, 3), (100, 3), (200, 3), (500, 3)], [(1, 3), (5, 3), (10, 4), (20, 3), (50, 3), (100, 3), (200, 3), (500, 3)], 3), (0, 8, 4, 1, [(1, 3), (5, 1), (10, 2), (20, 1), (50, 1), (100, 1), (200, 1), (500, 1)], [(1, 1), (5, 1), (10, 1), (20, 1), (50, 1), (100, 1), (200, 1), (500, 1)], 1)]\n",
      "new experiment: 17\n",
      "2 6 4\n",
      "\u001b[34mLoading sequences and calculating alignments to all references, this might take a while. Number of reads: \u001b[0m 12\n",
      "start working on read number 0\n",
      "working on size:  0\n",
      "working on size:  1\n",
      "working on size:  2\n",
      "groundtruth: 2\n",
      "groundtruth values: [2, 4]\n",
      "Change dominating species from Neanderthal to Homo Sapiens would require removing 2 reads: [4, 5]\n",
      "[4, 5]\n",
      "counter_factual monte carlo on size 1: 2\n",
      "1\n"
     ]
    },
    {
     "data": {
      "application/vnd.jupyter.widget-view+json": {
       "model_id": "b2906567b9244827b4d71c80ede93e5b",
       "version_major": 2,
       "version_minor": 0
      },
      "text/plain": [
       "  0%|          | 0/1 [00:00<?, ?it/s]"
      ]
     },
     "metadata": {},
     "output_type": "display_data"
    },
    {
     "name": "stdout",
     "output_type": "stream",
     "text": [
      "1\n",
      "1\n",
      "Change dominating species from Neanderthal to Denisovan would require removing 6 reads: [0, 1, 2, 3, 4, 5]\n",
      "[0, 1, 2, 3, 4, 5]\n",
      "counter_factual shap on size 1: 6\n",
      "Change dominating species from Neanderthal to Denisovan would require removing 3 reads: [2, 6, 5]\n",
      "[2, 6, 5]\n",
      "counter_factual monte carlo on size 5: 3\n",
      "1\n"
     ]
    },
    {
     "data": {
      "application/vnd.jupyter.widget-view+json": {
       "model_id": "ff5d424b13a14eacac29703006dcd564",
       "version_major": 2,
       "version_minor": 0
      },
      "text/plain": [
       "  0%|          | 0/1 [00:00<?, ?it/s]"
      ]
     },
     "metadata": {},
     "output_type": "display_data"
    },
    {
     "name": "stdout",
     "output_type": "stream",
     "text": [
      "1\n",
      "5\n",
      "Change dominating species from Neanderthal to Denisovan would require removing 6 reads: [6, 0, 1, 2, 3, 4]\n",
      "[6, 0, 1, 2, 3, 4]\n",
      "counter_factual shap on size 5: 6\n",
      "Change dominating species from Neanderthal to Homo Sapiens would require removing 2 reads: [2, 4]\n",
      "[2, 4]\n",
      "counter_factual monte carlo on size 10: 2\n",
      "1\n"
     ]
    },
    {
     "data": {
      "application/vnd.jupyter.widget-view+json": {
       "model_id": "33e4ee37e77643fa8ecd20c6cd9fc695",
       "version_major": 2,
       "version_minor": 0
      },
      "text/plain": [
       "  0%|          | 0/1 [00:00<?, ?it/s]"
      ]
     },
     "metadata": {},
     "output_type": "display_data"
    },
    {
     "name": "stdout",
     "output_type": "stream",
     "text": [
      "1\n",
      "10\n",
      "Change dominating species from Neanderthal to Denisovan would require removing 6 reads: [3, 2, 0, 1, 4, 5]\n",
      "[3, 2, 0, 1, 4, 5]\n",
      "counter_factual shap on size 10: 6\n",
      "Change dominating species from Neanderthal to Homo Sapiens would require removing 2 reads: [7, 2]\n",
      "[7, 2]\n",
      "counter_factual monte carlo on size 20: 2\n",
      "1\n"
     ]
    },
    {
     "data": {
      "application/vnd.jupyter.widget-view+json": {
       "model_id": "268e0b90263a47c3b878d44c74c19d09",
       "version_major": 2,
       "version_minor": 0
      },
      "text/plain": [
       "  0%|          | 0/1 [00:00<?, ?it/s]"
      ]
     },
     "metadata": {},
     "output_type": "display_data"
    },
    {
     "name": "stdout",
     "output_type": "stream",
     "text": [
      "1\n",
      "20\n",
      "Change dominating species from Neanderthal to Homo Sapiens would require removing 2 reads: [4, 7]\n",
      "[4, 7]\n",
      "counter_factual shap on size 20: 2\n",
      "Change dominating species from Neanderthal to Homo Sapiens would require removing 2 reads: [5, 2]\n",
      "[5, 2]\n",
      "counter_factual monte carlo on size 50: 2\n",
      "1\n"
     ]
    },
    {
     "data": {
      "application/vnd.jupyter.widget-view+json": {
       "model_id": "fef3a031f3004e91be3e8e936d5c86d1",
       "version_major": 2,
       "version_minor": 0
      },
      "text/plain": [
       "  0%|          | 0/1 [00:00<?, ?it/s]"
      ]
     },
     "metadata": {},
     "output_type": "display_data"
    },
    {
     "name": "stdout",
     "output_type": "stream",
     "text": [
      "1\n",
      "50\n",
      "Change dominating species from Neanderthal to Homo Sapiens would require removing 2 reads: [7, 5]\n",
      "[7, 5]\n",
      "counter_factual shap on size 50: 2\n",
      "Change dominating species from Neanderthal to Homo Sapiens would require removing 2 reads: [7, 4]\n",
      "[7, 4]\n",
      "counter_factual monte carlo on size 100: 2\n",
      "1\n"
     ]
    },
    {
     "data": {
      "application/vnd.jupyter.widget-view+json": {
       "model_id": "0f4c41ec8a8546248025cf837ae210e5",
       "version_major": 2,
       "version_minor": 0
      },
      "text/plain": [
       "  0%|          | 0/1 [00:00<?, ?it/s]"
      ]
     },
     "metadata": {},
     "output_type": "display_data"
    },
    {
     "name": "stdout",
     "output_type": "stream",
     "text": [
      "1\n",
      "100\n",
      "Change dominating species from Neanderthal to Homo Sapiens would require removing 2 reads: [2, 5]\n",
      "[2, 5]\n",
      "counter_factual shap on size 100: 2\n",
      "Change dominating species from Neanderthal to Homo Sapiens would require removing 2 reads: [2, 4]\n",
      "[2, 4]\n",
      "counter_factual monte carlo on size 200: 2\n",
      "1\n"
     ]
    },
    {
     "data": {
      "application/vnd.jupyter.widget-view+json": {
       "model_id": "b8d7ff3a53404485af372bb3022849a9",
       "version_major": 2,
       "version_minor": 0
      },
      "text/plain": [
       "  0%|          | 0/1 [00:00<?, ?it/s]"
      ]
     },
     "metadata": {},
     "output_type": "display_data"
    },
    {
     "name": "stdout",
     "output_type": "stream",
     "text": [
      "1\n",
      "200\n",
      "Change dominating species from Neanderthal to Homo Sapiens would require removing 2 reads: [2, 5]\n",
      "[2, 5]\n",
      "counter_factual shap on size 200: 2\n",
      "Change dominating species from Neanderthal to Homo Sapiens would require removing 2 reads: [2, 4]\n",
      "[2, 4]\n",
      "counter_factual monte carlo on size 500: 2\n",
      "1\n"
     ]
    },
    {
     "data": {
      "application/vnd.jupyter.widget-view+json": {
       "model_id": "70dfc938a73f40a6bcd8ee9012cf8597",
       "version_major": 2,
       "version_minor": 0
      },
      "text/plain": [
       "  0%|          | 0/1 [00:00<?, ?it/s]"
      ]
     },
     "metadata": {},
     "output_type": "display_data"
    },
    {
     "name": "stdout",
     "output_type": "stream",
     "text": [
      "1\n",
      "500\n",
      "Change dominating species from Neanderthal to Homo Sapiens would require removing 2 reads: [7, 4]\n",
      "[7, 4]\n",
      "counter_factual shap on size 500: 2\n",
      "Change dominating species from Neanderthal to Homo Sapiens would require removing 2 reads: [2, 4]\n",
      "[2, 4]\n",
      "counter_factualA_s_d: 2\n",
      "[(10, 1, 1, 6, [(1, 10), (5, 10), (10, 10), (20, 11), (50, 7), (100, 6), (200, 6), (500, 7)], [(1, 9), (5, 6), (10, 8), (20, 6), (50, 7), (100, 7), (200, 7), (500, 7)], 7), (5, 4, 3, 3, [(1, 5), (5, 5), (10, 5), (20, 5), (50, 3), (100, 3), (200, 3), (500, 3)], [(1, 4), (5, 3), (10, 3), (20, 3), (50, 3), (100, 3), (200, 3), (500, 3)], 3), (2, 6, 4, 1, [(1, 3), (5, 3), (10, 2), (20, 1), (50, 1), (100, 1), (200, 1), (500, 1)], [(1, 3), (5, 1), (10, 1), (20, 1), (50, 1), (100, 1), (200, 1), (500, 1)], 1), (4, 5, 3, 2, [(1, 3), (5, 2), (10, 2), (20, 2), (50, 2), (100, 2), (200, 2), (500, 2)], [(1, 2), (5, 2), (10, 2), (20, 2), (50, 2), (100, 2), (200, 2), (500, 2)], 2), (9, 2, 1, 3, [(1, 8), (5, 7), (10, 7), (20, 9), (50, 5), (100, 5), (200, 6), (500, 5)], [(1, 4), (5, 6), (10, 5), (20, 5), (50, 4), (100, 4), (200, 4), (500, 5)], 6), (6, 4, 2, 2, [(1, 5), (5, 5), (10, 3), (20, 2), (50, 2), (100, 2), (200, 2), (500, 2)], [(1, 2), (5, 2), (10, 2), (20, 2), (50, 2), (100, 2), (200, 2), (500, 2)], 2), (6, 4, 2, 3, [(1, 4), (5, 5), (10, 4), (20, 5), (50, 3), (100, 3), (200, 3), (500, 3)], [(1, 3), (5, 3), (10, 4), (20, 3), (50, 3), (100, 3), (200, 3), (500, 3)], 3), (2, 6, 4, 3, [(1, 6), (5, 6), (10, 6), (20, 5), (50, 3), (100, 3), (200, 3), (500, 3)], [(1, 5), (5, 4), (10, 3), (20, 3), (50, 3), (100, 3), (200, 3), (500, 3)], 3), (0, 8, 4, 3, [(1, 5), (5, 5), (10, 7), (20, 4), (50, 4), (100, 3), (200, 3), (500, 3)], [(1, 3), (5, 3), (10, 3), (20, 3), (50, 4), (100, 3), (200, 3), (500, 3)], 3), (4, 5, 3, 4, [(1, 4), (5, 4), (10, 4), (20, 6), (50, 4), (100, 4), (200, 4), (500, 4)], [(1, 5), (5, 4), (10, 5), (20, 4), (50, 4), (100, 4), (200, 4), (500, 4)], 4), (3, 6, 3, 2, [(1, 2), (5, 2), (10, 2), (20, 2), (50, 2), (100, 2), (200, 2), (500, 2)], [(1, 4), (5, 2), (10, 2), (20, 2), (50, 2), (100, 2), (200, 2), (500, 2)], 2), (3, 6, 3, 4, [(1, 8), (5, 6), (10, 8), (20, 8), (50, 4), (100, 4), (200, 4), (500, 4)], [(1, 8), (5, 6), (10, 5), (20, 4), (50, 4), (100, 4), (200, 4), (500, 4)], 4), (5, 4, 3, 3, [(1, 8), (5, 8), (10, 8), (20, 4), (50, 4), (100, 4), (200, 3), (500, 3)], [(1, 5), (5, 5), (10, 5), (20, 4), (50, 4), (100, 3), (200, 3), (500, 3)], 3), (11, 0, 1, 3, [(1, 11), (5, 11), (10, 7), (20, 8), (50, 4), (100, 4), (200, 3), (500, 3)], [(1, 3), (5, 4), (10, 3), (20, 4), (50, 4), (100, 4), (200, 3), (500, 4)], 3), (4, 5, 3, 2, [(1, 9), (5, 8), (10, 9), (20, 3), (50, 4), (100, 2), (200, 2), (500, 2)], [(1, 4), (5, 2), (10, 2), (20, 2), (50, 2), (100, 2), (200, 2), (500, 2)], 2), (2, 6, 4, 3, [(1, 5), (5, 6), (10, 3), (20, 4), (50, 3), (100, 3), (200, 3), (500, 3)], [(1, 3), (5, 3), (10, 4), (20, 3), (50, 3), (100, 3), (200, 3), (500, 3)], 3), (0, 8, 4, 1, [(1, 3), (5, 1), (10, 2), (20, 1), (50, 1), (100, 1), (200, 1), (500, 1)], [(1, 1), (5, 1), (10, 1), (20, 1), (50, 1), (100, 1), (200, 1), (500, 1)], 1), (2, 6, 4, 2, [(1, 6), (5, 6), (10, 6), (20, 2), (50, 2), (100, 2), (200, 2), (500, 2)], [(1, 2), (5, 3), (10, 2), (20, 2), (50, 2), (100, 2), (200, 2), (500, 2)], 2)]\n",
      "new experiment: 18\n",
      "5 4 3\n",
      "\u001b[34mLoading sequences and calculating alignments to all references, this might take a while. Number of reads: \u001b[0m 12\n",
      "start working on read number 0\n",
      "working on size:  0\n",
      "working on size:  1\n",
      "working on size:  2\n",
      "groundtruth: 2\n",
      "groundtruth values: [1, 2]\n",
      "Change dominating species from Homo Sapiens to Denisovan would require removing 3 reads: [2, 11, 1]\n",
      "[2, 11, 1]\n",
      "counter_factual monte carlo on size 1: 3\n",
      "1\n"
     ]
    },
    {
     "data": {
      "application/vnd.jupyter.widget-view+json": {
       "model_id": "e13f0875a8694d63968b686cdc77e1ee",
       "version_major": 2,
       "version_minor": 0
      },
      "text/plain": [
       "  0%|          | 0/1 [00:00<?, ?it/s]"
      ]
     },
     "metadata": {},
     "output_type": "display_data"
    },
    {
     "name": "stdout",
     "output_type": "stream",
     "text": [
      "1\n",
      "1\n",
      "Change dominating species from Homo Sapiens to Denisovan would require removing 3 reads: [0, 1, 2]\n",
      "[0, 1, 2]\n",
      "counter_factual shap on size 1: 3\n",
      "Change dominating species from Homo Sapiens to Denisovan would require removing 3 reads: [0, 4, 5]\n",
      "[0, 4, 5]\n",
      "counter_factual monte carlo on size 5: 3\n",
      "1\n"
     ]
    },
    {
     "data": {
      "application/vnd.jupyter.widget-view+json": {
       "model_id": "335f2cbba76c43e486c1bcc9dc5f7c36",
       "version_major": 2,
       "version_minor": 0
      },
      "text/plain": [
       "  0%|          | 0/1 [00:00<?, ?it/s]"
      ]
     },
     "metadata": {},
     "output_type": "display_data"
    },
    {
     "name": "stdout",
     "output_type": "stream",
     "text": [
      "1\n",
      "5\n",
      "Change dominating species from Homo Sapiens to Denisovan would require removing 3 reads: [1, 0, 2]\n",
      "[1, 0, 2]\n",
      "counter_factual shap on size 5: 3\n",
      "Change dominating species from Homo Sapiens to Denisovan would require removing 2 reads: [1, 2]\n",
      "[1, 2]\n",
      "counter_factual monte carlo on size 10: 2\n",
      "1\n"
     ]
    },
    {
     "data": {
      "application/vnd.jupyter.widget-view+json": {
       "model_id": "cb96c89e8c4946d1b2cc3a126b1d8689",
       "version_major": 2,
       "version_minor": 0
      },
      "text/plain": [
       "  0%|          | 0/1 [00:00<?, ?it/s]"
      ]
     },
     "metadata": {},
     "output_type": "display_data"
    },
    {
     "name": "stdout",
     "output_type": "stream",
     "text": [
      "1\n",
      "10\n",
      "Change dominating species from Homo Sapiens to Denisovan would require removing 3 reads: [4, 0, 1]\n",
      "[4, 0, 1]\n",
      "counter_factual shap on size 10: 3\n",
      "Change dominating species from Homo Sapiens to Denisovan would require removing 2 reads: [4, 2]\n",
      "[4, 2]\n",
      "counter_factual monte carlo on size 20: 2\n",
      "1\n"
     ]
    },
    {
     "data": {
      "application/vnd.jupyter.widget-view+json": {
       "model_id": "a99969b090294bc781d9ef319d602665",
       "version_major": 2,
       "version_minor": 0
      },
      "text/plain": [
       "  0%|          | 0/1 [00:00<?, ?it/s]"
      ]
     },
     "metadata": {},
     "output_type": "display_data"
    },
    {
     "name": "stdout",
     "output_type": "stream",
     "text": [
      "1\n",
      "20\n",
      "Change dominating species from Homo Sapiens to Denisovan would require removing 2 reads: [1, 4]\n",
      "[1, 4]\n",
      "counter_factual shap on size 20: 2\n",
      "Change dominating species from Homo Sapiens to Denisovan would require removing 2 reads: [2, 4]\n",
      "[2, 4]\n",
      "counter_factual monte carlo on size 50: 2\n",
      "1\n"
     ]
    },
    {
     "data": {
      "application/vnd.jupyter.widget-view+json": {
       "model_id": "3a65c2b2566b4009bfa70fbe05434a23",
       "version_major": 2,
       "version_minor": 0
      },
      "text/plain": [
       "  0%|          | 0/1 [00:00<?, ?it/s]"
      ]
     },
     "metadata": {},
     "output_type": "display_data"
    },
    {
     "name": "stdout",
     "output_type": "stream",
     "text": [
      "1\n",
      "50\n",
      "Change dominating species from Homo Sapiens to Denisovan would require removing 2 reads: [4, 1]\n",
      "[4, 1]\n",
      "counter_factual shap on size 50: 2\n",
      "Change dominating species from Homo Sapiens to Denisovan would require removing 2 reads: [1, 4]\n",
      "[1, 4]\n",
      "counter_factual monte carlo on size 100: 2\n",
      "1\n"
     ]
    },
    {
     "data": {
      "application/vnd.jupyter.widget-view+json": {
       "model_id": "2868b92162704eb5b7442916a82e8602",
       "version_major": 2,
       "version_minor": 0
      },
      "text/plain": [
       "  0%|          | 0/1 [00:00<?, ?it/s]"
      ]
     },
     "metadata": {},
     "output_type": "display_data"
    },
    {
     "name": "stdout",
     "output_type": "stream",
     "text": [
      "1\n",
      "100\n",
      "Change dominating species from Homo Sapiens to Denisovan would require removing 2 reads: [1, 2]\n",
      "[1, 2]\n",
      "counter_factual shap on size 100: 2\n",
      "Change dominating species from Homo Sapiens to Denisovan would require removing 2 reads: [4, 1]\n",
      "[4, 1]\n",
      "counter_factual monte carlo on size 200: 2\n",
      "1\n"
     ]
    },
    {
     "data": {
      "application/vnd.jupyter.widget-view+json": {
       "model_id": "423568c3b9c54715a5b4899434b943e6",
       "version_major": 2,
       "version_minor": 0
      },
      "text/plain": [
       "  0%|          | 0/1 [00:00<?, ?it/s]"
      ]
     },
     "metadata": {},
     "output_type": "display_data"
    },
    {
     "name": "stdout",
     "output_type": "stream",
     "text": [
      "1\n",
      "200\n",
      "Change dominating species from Homo Sapiens to Denisovan would require removing 2 reads: [1, 2]\n",
      "[1, 2]\n",
      "counter_factual shap on size 200: 2\n",
      "Change dominating species from Homo Sapiens to Denisovan would require removing 2 reads: [2, 1]\n",
      "[2, 1]\n",
      "counter_factual monte carlo on size 500: 2\n",
      "1\n"
     ]
    },
    {
     "data": {
      "application/vnd.jupyter.widget-view+json": {
       "model_id": "edc7c61929e94dc1bde4d1e9f4f5fbb9",
       "version_major": 2,
       "version_minor": 0
      },
      "text/plain": [
       "  0%|          | 0/1 [00:00<?, ?it/s]"
      ]
     },
     "metadata": {},
     "output_type": "display_data"
    },
    {
     "name": "stdout",
     "output_type": "stream",
     "text": [
      "1\n",
      "500\n",
      "Change dominating species from Homo Sapiens to Denisovan would require removing 2 reads: [1, 2]\n",
      "[1, 2]\n",
      "counter_factual shap on size 500: 2\n",
      "Change dominating species from Homo Sapiens to Denisovan would require removing 2 reads: [4, 2]\n",
      "[4, 2]\n",
      "counter_factualA_s_d: 2\n",
      "[(10, 1, 1, 6, [(1, 10), (5, 10), (10, 10), (20, 11), (50, 7), (100, 6), (200, 6), (500, 7)], [(1, 9), (5, 6), (10, 8), (20, 6), (50, 7), (100, 7), (200, 7), (500, 7)], 7), (5, 4, 3, 3, [(1, 5), (5, 5), (10, 5), (20, 5), (50, 3), (100, 3), (200, 3), (500, 3)], [(1, 4), (5, 3), (10, 3), (20, 3), (50, 3), (100, 3), (200, 3), (500, 3)], 3), (2, 6, 4, 1, [(1, 3), (5, 3), (10, 2), (20, 1), (50, 1), (100, 1), (200, 1), (500, 1)], [(1, 3), (5, 1), (10, 1), (20, 1), (50, 1), (100, 1), (200, 1), (500, 1)], 1), (4, 5, 3, 2, [(1, 3), (5, 2), (10, 2), (20, 2), (50, 2), (100, 2), (200, 2), (500, 2)], [(1, 2), (5, 2), (10, 2), (20, 2), (50, 2), (100, 2), (200, 2), (500, 2)], 2), (9, 2, 1, 3, [(1, 8), (5, 7), (10, 7), (20, 9), (50, 5), (100, 5), (200, 6), (500, 5)], [(1, 4), (5, 6), (10, 5), (20, 5), (50, 4), (100, 4), (200, 4), (500, 5)], 6), (6, 4, 2, 2, [(1, 5), (5, 5), (10, 3), (20, 2), (50, 2), (100, 2), (200, 2), (500, 2)], [(1, 2), (5, 2), (10, 2), (20, 2), (50, 2), (100, 2), (200, 2), (500, 2)], 2), (6, 4, 2, 3, [(1, 4), (5, 5), (10, 4), (20, 5), (50, 3), (100, 3), (200, 3), (500, 3)], [(1, 3), (5, 3), (10, 4), (20, 3), (50, 3), (100, 3), (200, 3), (500, 3)], 3), (2, 6, 4, 3, [(1, 6), (5, 6), (10, 6), (20, 5), (50, 3), (100, 3), (200, 3), (500, 3)], [(1, 5), (5, 4), (10, 3), (20, 3), (50, 3), (100, 3), (200, 3), (500, 3)], 3), (0, 8, 4, 3, [(1, 5), (5, 5), (10, 7), (20, 4), (50, 4), (100, 3), (200, 3), (500, 3)], [(1, 3), (5, 3), (10, 3), (20, 3), (50, 4), (100, 3), (200, 3), (500, 3)], 3), (4, 5, 3, 4, [(1, 4), (5, 4), (10, 4), (20, 6), (50, 4), (100, 4), (200, 4), (500, 4)], [(1, 5), (5, 4), (10, 5), (20, 4), (50, 4), (100, 4), (200, 4), (500, 4)], 4), (3, 6, 3, 2, [(1, 2), (5, 2), (10, 2), (20, 2), (50, 2), (100, 2), (200, 2), (500, 2)], [(1, 4), (5, 2), (10, 2), (20, 2), (50, 2), (100, 2), (200, 2), (500, 2)], 2), (3, 6, 3, 4, [(1, 8), (5, 6), (10, 8), (20, 8), (50, 4), (100, 4), (200, 4), (500, 4)], [(1, 8), (5, 6), (10, 5), (20, 4), (50, 4), (100, 4), (200, 4), (500, 4)], 4), (5, 4, 3, 3, [(1, 8), (5, 8), (10, 8), (20, 4), (50, 4), (100, 4), (200, 3), (500, 3)], [(1, 5), (5, 5), (10, 5), (20, 4), (50, 4), (100, 3), (200, 3), (500, 3)], 3), (11, 0, 1, 3, [(1, 11), (5, 11), (10, 7), (20, 8), (50, 4), (100, 4), (200, 3), (500, 3)], [(1, 3), (5, 4), (10, 3), (20, 4), (50, 4), (100, 4), (200, 3), (500, 4)], 3), (4, 5, 3, 2, [(1, 9), (5, 8), (10, 9), (20, 3), (50, 4), (100, 2), (200, 2), (500, 2)], [(1, 4), (5, 2), (10, 2), (20, 2), (50, 2), (100, 2), (200, 2), (500, 2)], 2), (2, 6, 4, 3, [(1, 5), (5, 6), (10, 3), (20, 4), (50, 3), (100, 3), (200, 3), (500, 3)], [(1, 3), (5, 3), (10, 4), (20, 3), (50, 3), (100, 3), (200, 3), (500, 3)], 3), (0, 8, 4, 1, [(1, 3), (5, 1), (10, 2), (20, 1), (50, 1), (100, 1), (200, 1), (500, 1)], [(1, 1), (5, 1), (10, 1), (20, 1), (50, 1), (100, 1), (200, 1), (500, 1)], 1), (2, 6, 4, 2, [(1, 6), (5, 6), (10, 6), (20, 2), (50, 2), (100, 2), (200, 2), (500, 2)], [(1, 2), (5, 3), (10, 2), (20, 2), (50, 2), (100, 2), (200, 2), (500, 2)], 2), (5, 4, 3, 2, [(1, 3), (5, 3), (10, 3), (20, 2), (50, 2), (100, 2), (200, 2), (500, 2)], [(1, 3), (5, 3), (10, 2), (20, 2), (50, 2), (100, 2), (200, 2), (500, 2)], 2)]\n",
      "new experiment: 19\n",
      "1 7 4\n",
      "\u001b[34mLoading sequences and calculating alignments to all references, this might take a while. Number of reads: \u001b[0m 12\n",
      "start working on read number 0\n",
      "working on size:  0\n",
      "working on size:  1\n",
      "groundtruth: 1\n",
      "groundtruth values: [4]\n",
      "Change dominating species from Neanderthal to Denisovan would require removing 2 reads: [3, 2]\n",
      "[3, 2]\n",
      "counter_factual monte carlo on size 1: 2\n",
      "1\n"
     ]
    },
    {
     "data": {
      "application/vnd.jupyter.widget-view+json": {
       "model_id": "33ca80b16eb643c095976f4f93c86e5e",
       "version_major": 2,
       "version_minor": 0
      },
      "text/plain": [
       "  0%|          | 0/1 [00:00<?, ?it/s]"
      ]
     },
     "metadata": {},
     "output_type": "display_data"
    },
    {
     "name": "stdout",
     "output_type": "stream",
     "text": [
      "1\n",
      "1\n",
      "Change dominating species from Neanderthal to Denisovan would require removing 4 reads: [0, 1, 2, 3]\n",
      "[0, 1, 2, 3]\n",
      "counter_factual shap on size 1: 4\n",
      "Change dominating species from Neanderthal to Denisovan would require removing 1 reads: [4]\n",
      "[4]\n",
      "counter_factual monte carlo on size 5: 1\n",
      "1\n"
     ]
    },
    {
     "data": {
      "application/vnd.jupyter.widget-view+json": {
       "model_id": "c6b6c9ec7fa84338b7cb1aba72fd2c1e",
       "version_major": 2,
       "version_minor": 0
      },
      "text/plain": [
       "  0%|          | 0/1 [00:00<?, ?it/s]"
      ]
     },
     "metadata": {},
     "output_type": "display_data"
    },
    {
     "name": "stdout",
     "output_type": "stream",
     "text": [
      "1\n",
      "5\n",
      "Change dominating species from Neanderthal to Denisovan would require removing 1 reads: [5]\n",
      "[5]\n",
      "counter_factual shap on size 5: 1\n",
      "Change dominating species from Neanderthal to Denisovan would require removing 1 reads: [4]\n",
      "[4]\n",
      "counter_factual monte carlo on size 10: 1\n",
      "1\n"
     ]
    },
    {
     "data": {
      "application/vnd.jupyter.widget-view+json": {
       "model_id": "837f149215864582880b21a5145ace05",
       "version_major": 2,
       "version_minor": 0
      },
      "text/plain": [
       "  0%|          | 0/1 [00:00<?, ?it/s]"
      ]
     },
     "metadata": {},
     "output_type": "display_data"
    },
    {
     "name": "stdout",
     "output_type": "stream",
     "text": [
      "1\n",
      "10\n",
      "Change dominating species from Neanderthal to Denisovan would require removing 1 reads: [4]\n",
      "[4]\n",
      "counter_factual shap on size 10: 1\n",
      "Change dominating species from Neanderthal to Denisovan would require removing 1 reads: [4]\n",
      "[4]\n",
      "counter_factual monte carlo on size 20: 1\n",
      "1\n"
     ]
    },
    {
     "data": {
      "application/vnd.jupyter.widget-view+json": {
       "model_id": "3b1ff6b287424a1e8416c4de65ddb059",
       "version_major": 2,
       "version_minor": 0
      },
      "text/plain": [
       "  0%|          | 0/1 [00:00<?, ?it/s]"
      ]
     },
     "metadata": {},
     "output_type": "display_data"
    },
    {
     "name": "stdout",
     "output_type": "stream",
     "text": [
      "1\n",
      "20\n",
      "Change dominating species from Neanderthal to Denisovan would require removing 1 reads: [5]\n",
      "[5]\n",
      "counter_factual shap on size 20: 1\n",
      "Change dominating species from Neanderthal to Denisovan would require removing 1 reads: [4]\n",
      "[4]\n",
      "counter_factual monte carlo on size 50: 1\n",
      "1\n"
     ]
    },
    {
     "data": {
      "application/vnd.jupyter.widget-view+json": {
       "model_id": "77ac7797e94c497e9ceb565f665e59c5",
       "version_major": 2,
       "version_minor": 0
      },
      "text/plain": [
       "  0%|          | 0/1 [00:00<?, ?it/s]"
      ]
     },
     "metadata": {},
     "output_type": "display_data"
    },
    {
     "name": "stdout",
     "output_type": "stream",
     "text": [
      "1\n",
      "50\n",
      "Change dominating species from Neanderthal to Denisovan would require removing 1 reads: [4]\n",
      "[4]\n",
      "counter_factual shap on size 50: 1\n",
      "Change dominating species from Neanderthal to Denisovan would require removing 1 reads: [4]\n",
      "[4]\n",
      "counter_factual monte carlo on size 100: 1\n",
      "1\n"
     ]
    },
    {
     "data": {
      "application/vnd.jupyter.widget-view+json": {
       "model_id": "0711124654ac4d9093ad482ed2cc8193",
       "version_major": 2,
       "version_minor": 0
      },
      "text/plain": [
       "  0%|          | 0/1 [00:00<?, ?it/s]"
      ]
     },
     "metadata": {},
     "output_type": "display_data"
    },
    {
     "name": "stdout",
     "output_type": "stream",
     "text": [
      "1\n",
      "100\n",
      "Change dominating species from Neanderthal to Denisovan would require removing 1 reads: [4]\n",
      "[4]\n",
      "counter_factual shap on size 100: 1\n",
      "Change dominating species from Neanderthal to Denisovan would require removing 1 reads: [4]\n",
      "[4]\n",
      "counter_factual monte carlo on size 200: 1\n",
      "1\n"
     ]
    },
    {
     "data": {
      "application/vnd.jupyter.widget-view+json": {
       "model_id": "b74eb0dc82d640709b886911fdcba42f",
       "version_major": 2,
       "version_minor": 0
      },
      "text/plain": [
       "  0%|          | 0/1 [00:00<?, ?it/s]"
      ]
     },
     "metadata": {},
     "output_type": "display_data"
    },
    {
     "name": "stdout",
     "output_type": "stream",
     "text": [
      "1\n",
      "200\n",
      "Change dominating species from Neanderthal to Denisovan would require removing 1 reads: [4]\n",
      "[4]\n",
      "counter_factual shap on size 200: 1\n",
      "Change dominating species from Neanderthal to Denisovan would require removing 1 reads: [4]\n",
      "[4]\n",
      "counter_factual monte carlo on size 500: 1\n",
      "1\n"
     ]
    },
    {
     "data": {
      "application/vnd.jupyter.widget-view+json": {
       "model_id": "e1bd8492695a41d1b09158e027323cfa",
       "version_major": 2,
       "version_minor": 0
      },
      "text/plain": [
       "  0%|          | 0/1 [00:00<?, ?it/s]"
      ]
     },
     "metadata": {},
     "output_type": "display_data"
    },
    {
     "name": "stdout",
     "output_type": "stream",
     "text": [
      "1\n",
      "500\n",
      "Change dominating species from Neanderthal to Denisovan would require removing 1 reads: [4]\n",
      "[4]\n",
      "counter_factual shap on size 500: 1\n",
      "Change dominating species from Neanderthal to Denisovan would require removing 1 reads: [4]\n",
      "[4]\n",
      "counter_factualA_s_d: 1\n",
      "[(10, 1, 1, 6, [(1, 10), (5, 10), (10, 10), (20, 11), (50, 7), (100, 6), (200, 6), (500, 7)], [(1, 9), (5, 6), (10, 8), (20, 6), (50, 7), (100, 7), (200, 7), (500, 7)], 7), (5, 4, 3, 3, [(1, 5), (5, 5), (10, 5), (20, 5), (50, 3), (100, 3), (200, 3), (500, 3)], [(1, 4), (5, 3), (10, 3), (20, 3), (50, 3), (100, 3), (200, 3), (500, 3)], 3), (2, 6, 4, 1, [(1, 3), (5, 3), (10, 2), (20, 1), (50, 1), (100, 1), (200, 1), (500, 1)], [(1, 3), (5, 1), (10, 1), (20, 1), (50, 1), (100, 1), (200, 1), (500, 1)], 1), (4, 5, 3, 2, [(1, 3), (5, 2), (10, 2), (20, 2), (50, 2), (100, 2), (200, 2), (500, 2)], [(1, 2), (5, 2), (10, 2), (20, 2), (50, 2), (100, 2), (200, 2), (500, 2)], 2), (9, 2, 1, 3, [(1, 8), (5, 7), (10, 7), (20, 9), (50, 5), (100, 5), (200, 6), (500, 5)], [(1, 4), (5, 6), (10, 5), (20, 5), (50, 4), (100, 4), (200, 4), (500, 5)], 6), (6, 4, 2, 2, [(1, 5), (5, 5), (10, 3), (20, 2), (50, 2), (100, 2), (200, 2), (500, 2)], [(1, 2), (5, 2), (10, 2), (20, 2), (50, 2), (100, 2), (200, 2), (500, 2)], 2), (6, 4, 2, 3, [(1, 4), (5, 5), (10, 4), (20, 5), (50, 3), (100, 3), (200, 3), (500, 3)], [(1, 3), (5, 3), (10, 4), (20, 3), (50, 3), (100, 3), (200, 3), (500, 3)], 3), (2, 6, 4, 3, [(1, 6), (5, 6), (10, 6), (20, 5), (50, 3), (100, 3), (200, 3), (500, 3)], [(1, 5), (5, 4), (10, 3), (20, 3), (50, 3), (100, 3), (200, 3), (500, 3)], 3), (0, 8, 4, 3, [(1, 5), (5, 5), (10, 7), (20, 4), (50, 4), (100, 3), (200, 3), (500, 3)], [(1, 3), (5, 3), (10, 3), (20, 3), (50, 4), (100, 3), (200, 3), (500, 3)], 3), (4, 5, 3, 4, [(1, 4), (5, 4), (10, 4), (20, 6), (50, 4), (100, 4), (200, 4), (500, 4)], [(1, 5), (5, 4), (10, 5), (20, 4), (50, 4), (100, 4), (200, 4), (500, 4)], 4), (3, 6, 3, 2, [(1, 2), (5, 2), (10, 2), (20, 2), (50, 2), (100, 2), (200, 2), (500, 2)], [(1, 4), (5, 2), (10, 2), (20, 2), (50, 2), (100, 2), (200, 2), (500, 2)], 2), (3, 6, 3, 4, [(1, 8), (5, 6), (10, 8), (20, 8), (50, 4), (100, 4), (200, 4), (500, 4)], [(1, 8), (5, 6), (10, 5), (20, 4), (50, 4), (100, 4), (200, 4), (500, 4)], 4), (5, 4, 3, 3, [(1, 8), (5, 8), (10, 8), (20, 4), (50, 4), (100, 4), (200, 3), (500, 3)], [(1, 5), (5, 5), (10, 5), (20, 4), (50, 4), (100, 3), (200, 3), (500, 3)], 3), (11, 0, 1, 3, [(1, 11), (5, 11), (10, 7), (20, 8), (50, 4), (100, 4), (200, 3), (500, 3)], [(1, 3), (5, 4), (10, 3), (20, 4), (50, 4), (100, 4), (200, 3), (500, 4)], 3), (4, 5, 3, 2, [(1, 9), (5, 8), (10, 9), (20, 3), (50, 4), (100, 2), (200, 2), (500, 2)], [(1, 4), (5, 2), (10, 2), (20, 2), (50, 2), (100, 2), (200, 2), (500, 2)], 2), (2, 6, 4, 3, [(1, 5), (5, 6), (10, 3), (20, 4), (50, 3), (100, 3), (200, 3), (500, 3)], [(1, 3), (5, 3), (10, 4), (20, 3), (50, 3), (100, 3), (200, 3), (500, 3)], 3), (0, 8, 4, 1, [(1, 3), (5, 1), (10, 2), (20, 1), (50, 1), (100, 1), (200, 1), (500, 1)], [(1, 1), (5, 1), (10, 1), (20, 1), (50, 1), (100, 1), (200, 1), (500, 1)], 1), (2, 6, 4, 2, [(1, 6), (5, 6), (10, 6), (20, 2), (50, 2), (100, 2), (200, 2), (500, 2)], [(1, 2), (5, 3), (10, 2), (20, 2), (50, 2), (100, 2), (200, 2), (500, 2)], 2), (5, 4, 3, 2, [(1, 3), (5, 3), (10, 3), (20, 2), (50, 2), (100, 2), (200, 2), (500, 2)], [(1, 3), (5, 3), (10, 2), (20, 2), (50, 2), (100, 2), (200, 2), (500, 2)], 2), (1, 7, 4, 1, [(1, 4), (5, 1), (10, 1), (20, 1), (50, 1), (100, 1), (200, 1), (500, 1)], [(1, 2), (5, 1), (10, 1), (20, 1), (50, 1), (100, 1), (200, 1), (500, 1)], 1)]\n",
      "new experiment: 20\n",
      "9 2 1\n",
      "\u001b[34mLoading sequences and calculating alignments to all references, this might take a while. Number of reads: \u001b[0m 12\n",
      "start working on read number 0\n",
      "working on size:  0\n",
      "working on size:  1\n",
      "working on size:  2\n",
      "groundtruth: 2\n",
      "groundtruth values: [0, 5]\n",
      "Change dominating species from Homo Sapiens to Neanderthal would require removing 2 reads: [0, 7]\n",
      "[0, 7]\n",
      "counter_factual monte carlo on size 1: 2\n",
      "1\n"
     ]
    },
    {
     "data": {
      "application/vnd.jupyter.widget-view+json": {
       "model_id": "7a64a2fe6ef246c2b4bd9f29db85bd6b",
       "version_major": 2,
       "version_minor": 0
      },
      "text/plain": [
       "  0%|          | 0/1 [00:00<?, ?it/s]"
      ]
     },
     "metadata": {},
     "output_type": "display_data"
    },
    {
     "name": "stdout",
     "output_type": "stream",
     "text": [
      "1\n",
      "1\n",
      "Change dominating species from Homo Sapiens to Neanderthal would require removing 7 reads: [0, 1, 2, 3, 4, 5, 6]\n",
      "[0, 1, 2, 3, 4, 5, 6]\n",
      "counter_factual shap on size 1: 7\n",
      "Change dominating species from Homo Sapiens to Neanderthal would require removing 2 reads: [7, 5]\n",
      "[7, 5]\n",
      "counter_factual monte carlo on size 5: 2\n",
      "1\n"
     ]
    },
    {
     "data": {
      "application/vnd.jupyter.widget-view+json": {
       "model_id": "0436d3f548a34e518997f97df696d5dc",
       "version_major": 2,
       "version_minor": 0
      },
      "text/plain": [
       "  0%|          | 0/1 [00:00<?, ?it/s]"
      ]
     },
     "metadata": {},
     "output_type": "display_data"
    },
    {
     "name": "stdout",
     "output_type": "stream",
     "text": [
      "1\n",
      "5\n",
      "Change dominating species from Homo Sapiens to Neanderthal would require removing 8 reads: [11, 0, 1, 2, 3, 4, 5, 6]\n",
      "[11, 0, 1, 2, 3, 4, 5, 6]\n",
      "counter_factual shap on size 5: 8\n",
      "Change dominating species from Homo Sapiens to Neanderthal would require removing 2 reads: [5, 6]\n",
      "[5, 6]\n",
      "counter_factual monte carlo on size 10: 2\n",
      "1\n"
     ]
    },
    {
     "data": {
      "application/vnd.jupyter.widget-view+json": {
       "model_id": "723dae04e8c140248be1e15ff960477a",
       "version_major": 2,
       "version_minor": 0
      },
      "text/plain": [
       "  0%|          | 0/1 [00:00<?, ?it/s]"
      ]
     },
     "metadata": {},
     "output_type": "display_data"
    },
    {
     "name": "stdout",
     "output_type": "stream",
     "text": [
      "1\n",
      "10\n",
      "Change dominating species from Homo Sapiens to Neanderthal would require removing 2 reads: [7, 0]\n",
      "[7, 0]\n",
      "counter_factual shap on size 10: 2\n",
      "Change dominating species from Homo Sapiens to Neanderthal would require removing 2 reads: [6, 5]\n",
      "[6, 5]\n",
      "counter_factual monte carlo on size 20: 2\n",
      "1\n"
     ]
    },
    {
     "data": {
      "application/vnd.jupyter.widget-view+json": {
       "model_id": "76721611ce0242ab84b930db47e0edfc",
       "version_major": 2,
       "version_minor": 0
      },
      "text/plain": [
       "  0%|          | 0/1 [00:00<?, ?it/s]"
      ]
     },
     "metadata": {},
     "output_type": "display_data"
    },
    {
     "name": "stdout",
     "output_type": "stream",
     "text": [
      "1\n",
      "20\n",
      "Change dominating species from Homo Sapiens to Neanderthal would require removing 2 reads: [6, 5]\n",
      "[6, 5]\n",
      "counter_factual shap on size 20: 2\n",
      "Change dominating species from Homo Sapiens to Neanderthal would require removing 2 reads: [5, 7]\n",
      "[5, 7]\n",
      "counter_factual monte carlo on size 50: 2\n",
      "1\n"
     ]
    },
    {
     "data": {
      "application/vnd.jupyter.widget-view+json": {
       "model_id": "0c7425d28b03476b917c8991d5cdaf6f",
       "version_major": 2,
       "version_minor": 0
      },
      "text/plain": [
       "  0%|          | 0/1 [00:00<?, ?it/s]"
      ]
     },
     "metadata": {},
     "output_type": "display_data"
    },
    {
     "name": "stdout",
     "output_type": "stream",
     "text": [
      "1\n",
      "50\n",
      "Change dominating species from Homo Sapiens to Neanderthal would require removing 3 reads: [8, 0, 6]\n",
      "[8, 0, 6]\n",
      "counter_factual shap on size 50: 3\n",
      "Change dominating species from Homo Sapiens to Neanderthal would require removing 2 reads: [6, 7]\n",
      "[6, 7]\n",
      "counter_factual monte carlo on size 100: 2\n",
      "1\n"
     ]
    },
    {
     "data": {
      "application/vnd.jupyter.widget-view+json": {
       "model_id": "7c270d90ed78464b80d4c54fe9c0ba5e",
       "version_major": 2,
       "version_minor": 0
      },
      "text/plain": [
       "  0%|          | 0/1 [00:00<?, ?it/s]"
      ]
     },
     "metadata": {},
     "output_type": "display_data"
    },
    {
     "name": "stdout",
     "output_type": "stream",
     "text": [
      "1\n",
      "100\n",
      "Change dominating species from Homo Sapiens to Neanderthal would require removing 2 reads: [0, 7]\n",
      "[0, 7]\n",
      "counter_factual shap on size 100: 2\n",
      "Change dominating species from Homo Sapiens to Neanderthal would require removing 2 reads: [0, 6]\n",
      "[0, 6]\n",
      "counter_factual monte carlo on size 200: 2\n",
      "1\n"
     ]
    },
    {
     "data": {
      "application/vnd.jupyter.widget-view+json": {
       "model_id": "9c24b75b04114adf83ad7f22060d9e79",
       "version_major": 2,
       "version_minor": 0
      },
      "text/plain": [
       "  0%|          | 0/1 [00:00<?, ?it/s]"
      ]
     },
     "metadata": {},
     "output_type": "display_data"
    },
    {
     "name": "stdout",
     "output_type": "stream",
     "text": [
      "1\n",
      "200\n",
      "Change dominating species from Homo Sapiens to Neanderthal would require removing 2 reads: [7, 6]\n",
      "[7, 6]\n",
      "counter_factual shap on size 200: 2\n",
      "Change dominating species from Homo Sapiens to Neanderthal would require removing 2 reads: [5, 6]\n",
      "[5, 6]\n",
      "counter_factual monte carlo on size 500: 2\n",
      "1\n"
     ]
    },
    {
     "data": {
      "application/vnd.jupyter.widget-view+json": {
       "model_id": "c5da4599ab0140298f6d2a9258de2ed3",
       "version_major": 2,
       "version_minor": 0
      },
      "text/plain": [
       "  0%|          | 0/1 [00:00<?, ?it/s]"
      ]
     },
     "metadata": {},
     "output_type": "display_data"
    },
    {
     "name": "stdout",
     "output_type": "stream",
     "text": [
      "1\n",
      "500\n",
      "Change dominating species from Homo Sapiens to Neanderthal would require removing 2 reads: [6, 7]\n",
      "[6, 7]\n",
      "counter_factual shap on size 500: 2\n",
      "Change dominating species from Homo Sapiens to Neanderthal would require removing 2 reads: [6, 5]\n",
      "[6, 5]\n",
      "counter_factualA_s_d: 2\n",
      "[(10, 1, 1, 6, [(1, 10), (5, 10), (10, 10), (20, 11), (50, 7), (100, 6), (200, 6), (500, 7)], [(1, 9), (5, 6), (10, 8), (20, 6), (50, 7), (100, 7), (200, 7), (500, 7)], 7), (5, 4, 3, 3, [(1, 5), (5, 5), (10, 5), (20, 5), (50, 3), (100, 3), (200, 3), (500, 3)], [(1, 4), (5, 3), (10, 3), (20, 3), (50, 3), (100, 3), (200, 3), (500, 3)], 3), (2, 6, 4, 1, [(1, 3), (5, 3), (10, 2), (20, 1), (50, 1), (100, 1), (200, 1), (500, 1)], [(1, 3), (5, 1), (10, 1), (20, 1), (50, 1), (100, 1), (200, 1), (500, 1)], 1), (4, 5, 3, 2, [(1, 3), (5, 2), (10, 2), (20, 2), (50, 2), (100, 2), (200, 2), (500, 2)], [(1, 2), (5, 2), (10, 2), (20, 2), (50, 2), (100, 2), (200, 2), (500, 2)], 2), (9, 2, 1, 3, [(1, 8), (5, 7), (10, 7), (20, 9), (50, 5), (100, 5), (200, 6), (500, 5)], [(1, 4), (5, 6), (10, 5), (20, 5), (50, 4), (100, 4), (200, 4), (500, 5)], 6), (6, 4, 2, 2, [(1, 5), (5, 5), (10, 3), (20, 2), (50, 2), (100, 2), (200, 2), (500, 2)], [(1, 2), (5, 2), (10, 2), (20, 2), (50, 2), (100, 2), (200, 2), (500, 2)], 2), (6, 4, 2, 3, [(1, 4), (5, 5), (10, 4), (20, 5), (50, 3), (100, 3), (200, 3), (500, 3)], [(1, 3), (5, 3), (10, 4), (20, 3), (50, 3), (100, 3), (200, 3), (500, 3)], 3), (2, 6, 4, 3, [(1, 6), (5, 6), (10, 6), (20, 5), (50, 3), (100, 3), (200, 3), (500, 3)], [(1, 5), (5, 4), (10, 3), (20, 3), (50, 3), (100, 3), (200, 3), (500, 3)], 3), (0, 8, 4, 3, [(1, 5), (5, 5), (10, 7), (20, 4), (50, 4), (100, 3), (200, 3), (500, 3)], [(1, 3), (5, 3), (10, 3), (20, 3), (50, 4), (100, 3), (200, 3), (500, 3)], 3), (4, 5, 3, 4, [(1, 4), (5, 4), (10, 4), (20, 6), (50, 4), (100, 4), (200, 4), (500, 4)], [(1, 5), (5, 4), (10, 5), (20, 4), (50, 4), (100, 4), (200, 4), (500, 4)], 4), (3, 6, 3, 2, [(1, 2), (5, 2), (10, 2), (20, 2), (50, 2), (100, 2), (200, 2), (500, 2)], [(1, 4), (5, 2), (10, 2), (20, 2), (50, 2), (100, 2), (200, 2), (500, 2)], 2), (3, 6, 3, 4, [(1, 8), (5, 6), (10, 8), (20, 8), (50, 4), (100, 4), (200, 4), (500, 4)], [(1, 8), (5, 6), (10, 5), (20, 4), (50, 4), (100, 4), (200, 4), (500, 4)], 4), (5, 4, 3, 3, [(1, 8), (5, 8), (10, 8), (20, 4), (50, 4), (100, 4), (200, 3), (500, 3)], [(1, 5), (5, 5), (10, 5), (20, 4), (50, 4), (100, 3), (200, 3), (500, 3)], 3), (11, 0, 1, 3, [(1, 11), (5, 11), (10, 7), (20, 8), (50, 4), (100, 4), (200, 3), (500, 3)], [(1, 3), (5, 4), (10, 3), (20, 4), (50, 4), (100, 4), (200, 3), (500, 4)], 3), (4, 5, 3, 2, [(1, 9), (5, 8), (10, 9), (20, 3), (50, 4), (100, 2), (200, 2), (500, 2)], [(1, 4), (5, 2), (10, 2), (20, 2), (50, 2), (100, 2), (200, 2), (500, 2)], 2), (2, 6, 4, 3, [(1, 5), (5, 6), (10, 3), (20, 4), (50, 3), (100, 3), (200, 3), (500, 3)], [(1, 3), (5, 3), (10, 4), (20, 3), (50, 3), (100, 3), (200, 3), (500, 3)], 3), (0, 8, 4, 1, [(1, 3), (5, 1), (10, 2), (20, 1), (50, 1), (100, 1), (200, 1), (500, 1)], [(1, 1), (5, 1), (10, 1), (20, 1), (50, 1), (100, 1), (200, 1), (500, 1)], 1), (2, 6, 4, 2, [(1, 6), (5, 6), (10, 6), (20, 2), (50, 2), (100, 2), (200, 2), (500, 2)], [(1, 2), (5, 3), (10, 2), (20, 2), (50, 2), (100, 2), (200, 2), (500, 2)], 2), (5, 4, 3, 2, [(1, 3), (5, 3), (10, 3), (20, 2), (50, 2), (100, 2), (200, 2), (500, 2)], [(1, 3), (5, 3), (10, 2), (20, 2), (50, 2), (100, 2), (200, 2), (500, 2)], 2), (1, 7, 4, 1, [(1, 4), (5, 1), (10, 1), (20, 1), (50, 1), (100, 1), (200, 1), (500, 1)], [(1, 2), (5, 1), (10, 1), (20, 1), (50, 1), (100, 1), (200, 1), (500, 1)], 1), (9, 2, 1, 2, [(1, 7), (5, 8), (10, 2), (20, 2), (50, 3), (100, 2), (200, 2), (500, 2)], [(1, 2), (5, 2), (10, 2), (20, 2), (50, 2), (100, 2), (200, 2), (500, 2)], 2)]\n",
      "new experiment: 21\n",
      "11 0 1\n",
      "\u001b[34mLoading sequences and calculating alignments to all references, this might take a while. Number of reads: \u001b[0m 12\n",
      "start working on read number 0\n",
      "working on size:  0\n",
      "working on size:  1\n",
      "working on size:  2\n",
      "working on size:  3\n",
      "working on size:  4\n",
      "working on size:  5\n",
      "working on size:  6\n",
      "working on size:  7\n",
      "groundtruth: 7\n",
      "groundtruth values: [1, 3, 4, 6, 7, 8, 9]\n",
      "Change dominating species from Homo Sapiens to Denisovan would require removing 10 reads: [3, 10, 7, 1, 4, 6, 0, 2, 8, 9]\n",
      "[3, 10, 7, 1, 4, 6, 0, 2, 8, 9]\n",
      "counter_factual monte carlo on size 1: 10\n",
      "1\n"
     ]
    },
    {
     "data": {
      "application/vnd.jupyter.widget-view+json": {
       "model_id": "077bc2acbec544f8b7b455e839a86522",
       "version_major": 2,
       "version_minor": 0
      },
      "text/plain": [
       "  0%|          | 0/1 [00:00<?, ?it/s]"
      ]
     },
     "metadata": {},
     "output_type": "display_data"
    },
    {
     "name": "stdout",
     "output_type": "stream",
     "text": [
      "1\n",
      "1\n",
      "Change dominating species from Homo Sapiens to Neanderthal would require removing 10 reads: [0, 1, 2, 3, 4, 5, 6, 7, 8, 9]\n",
      "[0, 1, 2, 3, 4, 5, 6, 7, 8, 9]\n",
      "counter_factual shap on size 1: 10\n",
      "Change dominating species from Homo Sapiens to Neanderthal would require removing 7 reads: [6, 9, 1, 7, 3, 4, 8]\n",
      "[6, 9, 1, 7, 3, 4, 8]\n",
      "counter_factual monte carlo on size 5: 7\n",
      "1\n"
     ]
    },
    {
     "data": {
      "application/vnd.jupyter.widget-view+json": {
       "model_id": "aadd4c1ce06d48cdaf147e9824df151b",
       "version_major": 2,
       "version_minor": 0
      },
      "text/plain": [
       "  0%|          | 0/1 [00:00<?, ?it/s]"
      ]
     },
     "metadata": {},
     "output_type": "display_data"
    },
    {
     "name": "stdout",
     "output_type": "stream",
     "text": [
      "1\n",
      "5\n",
      "Change dominating species from Homo Sapiens to Neanderthal would require removing 10 reads: [6, 0, 1, 2, 3, 4, 5, 7, 8, 9]\n",
      "[6, 0, 1, 2, 3, 4, 5, 7, 8, 9]\n",
      "counter_factual shap on size 5: 10\n",
      "Change dominating species from Homo Sapiens to Neanderthal would require removing 7 reads: [8, 4, 6, 7, 1, 9, 3]\n",
      "[8, 4, 6, 7, 1, 9, 3]\n",
      "counter_factual monte carlo on size 10: 7\n",
      "1\n"
     ]
    },
    {
     "data": {
      "application/vnd.jupyter.widget-view+json": {
       "model_id": "3a82d993e2424ac9b56d6532f4be9def",
       "version_major": 2,
       "version_minor": 0
      },
      "text/plain": [
       "  0%|          | 0/1 [00:00<?, ?it/s]"
      ]
     },
     "metadata": {},
     "output_type": "display_data"
    },
    {
     "name": "stdout",
     "output_type": "stream",
     "text": [
      "1\n",
      "10\n",
      "Change dominating species from Homo Sapiens to Neanderthal would require removing 9 reads: [1, 7, 6, 2, 3, 4, 5, 8, 9]\n",
      "[1, 7, 6, 2, 3, 4, 5, 8, 9]\n",
      "counter_factual shap on size 10: 9\n",
      "Change dominating species from Homo Sapiens to Neanderthal would require removing 7 reads: [3, 6, 8, 9, 1, 4, 7]\n",
      "[3, 6, 8, 9, 1, 4, 7]\n",
      "counter_factual monte carlo on size 20: 7\n",
      "1\n"
     ]
    },
    {
     "data": {
      "application/vnd.jupyter.widget-view+json": {
       "model_id": "7f02500eb9df478d8f54fffc5f651583",
       "version_major": 2,
       "version_minor": 0
      },
      "text/plain": [
       "  0%|          | 0/1 [00:00<?, ?it/s]"
      ]
     },
     "metadata": {},
     "output_type": "display_data"
    },
    {
     "name": "stdout",
     "output_type": "stream",
     "text": [
      "1\n",
      "20\n",
      "Change dominating species from Homo Sapiens to Denisovan would require removing 10 reads: [0, 6, 7, 3, 8, 10, 2, 4, 9, 1]\n",
      "[0, 6, 7, 3, 8, 10, 2, 4, 9, 1]\n",
      "counter_factual shap on size 20: 10\n",
      "Change dominating species from Homo Sapiens to Neanderthal would require removing 7 reads: [4, 6, 9, 7, 1, 8, 3]\n",
      "[4, 6, 9, 7, 1, 8, 3]\n",
      "counter_factual monte carlo on size 50: 7\n",
      "1\n"
     ]
    },
    {
     "data": {
      "application/vnd.jupyter.widget-view+json": {
       "model_id": "374c465d288d47b5a5f3297db0cfecaf",
       "version_major": 2,
       "version_minor": 0
      },
      "text/plain": [
       "  0%|          | 0/1 [00:00<?, ?it/s]"
      ]
     },
     "metadata": {},
     "output_type": "display_data"
    },
    {
     "name": "stdout",
     "output_type": "stream",
     "text": [
      "1\n",
      "50\n",
      "Change dominating species from Homo Sapiens to Neanderthal would require removing 10 reads: [8, 9, 7, 3, 0, 1, 2, 4, 5, 6]\n",
      "[8, 9, 7, 3, 0, 1, 2, 4, 5, 6]\n",
      "counter_factual shap on size 50: 10\n",
      "Change dominating species from Homo Sapiens to Neanderthal would require removing 7 reads: [8, 3, 9, 6, 7, 4, 1]\n",
      "[8, 3, 9, 6, 7, 4, 1]\n",
      "counter_factual monte carlo on size 100: 7\n",
      "1\n"
     ]
    },
    {
     "data": {
      "application/vnd.jupyter.widget-view+json": {
       "model_id": "a12fc233770e40dfb4856732e51800b8",
       "version_major": 2,
       "version_minor": 0
      },
      "text/plain": [
       "  0%|          | 0/1 [00:00<?, ?it/s]"
      ]
     },
     "metadata": {},
     "output_type": "display_data"
    },
    {
     "name": "stdout",
     "output_type": "stream",
     "text": [
      "1\n",
      "100\n",
      "Change dominating species from Homo Sapiens to Neanderthal would require removing 7 reads: [8, 6, 7, 3, 9, 1, 4]\n",
      "[8, 6, 7, 3, 9, 1, 4]\n",
      "counter_factual shap on size 100: 7\n",
      "Change dominating species from Homo Sapiens to Neanderthal would require removing 7 reads: [6, 9, 4, 3, 1, 7, 8]\n",
      "[6, 9, 4, 3, 1, 7, 8]\n",
      "counter_factual monte carlo on size 200: 7\n",
      "1\n"
     ]
    },
    {
     "data": {
      "application/vnd.jupyter.widget-view+json": {
       "model_id": "0521db0bba7b43b8aadc6b0d632e4bb6",
       "version_major": 2,
       "version_minor": 0
      },
      "text/plain": [
       "  0%|          | 0/1 [00:00<?, ?it/s]"
      ]
     },
     "metadata": {},
     "output_type": "display_data"
    },
    {
     "name": "stdout",
     "output_type": "stream",
     "text": [
      "1\n",
      "200\n",
      "Change dominating species from Homo Sapiens to Neanderthal would require removing 7 reads: [1, 8, 3, 7, 9, 4, 6]\n",
      "[1, 8, 3, 7, 9, 4, 6]\n",
      "counter_factual shap on size 200: 7\n",
      "Change dominating species from Homo Sapiens to Neanderthal would require removing 7 reads: [8, 1, 6, 7, 9, 3, 4]\n",
      "[8, 1, 6, 7, 9, 3, 4]\n",
      "counter_factual monte carlo on size 500: 7\n",
      "1\n"
     ]
    },
    {
     "data": {
      "application/vnd.jupyter.widget-view+json": {
       "model_id": "d276acdb98e244288f8bbebe6f29236f",
       "version_major": 2,
       "version_minor": 0
      },
      "text/plain": [
       "  0%|          | 0/1 [00:00<?, ?it/s]"
      ]
     },
     "metadata": {},
     "output_type": "display_data"
    },
    {
     "name": "stdout",
     "output_type": "stream",
     "text": [
      "1\n",
      "500\n",
      "Change dominating species from Homo Sapiens to Neanderthal would require removing 7 reads: [1, 9, 3, 7, 4, 8, 6]\n",
      "[1, 9, 3, 7, 4, 8, 6]\n",
      "counter_factual shap on size 500: 7\n",
      "Change dominating species from Homo Sapiens to Neanderthal would require removing 7 reads: [9, 3, 1, 7, 8, 6, 4]\n",
      "[9, 3, 1, 7, 8, 6, 4]\n",
      "counter_factualA_s_d: 7\n",
      "[(10, 1, 1, 6, [(1, 10), (5, 10), (10, 10), (20, 11), (50, 7), (100, 6), (200, 6), (500, 7)], [(1, 9), (5, 6), (10, 8), (20, 6), (50, 7), (100, 7), (200, 7), (500, 7)], 7), (5, 4, 3, 3, [(1, 5), (5, 5), (10, 5), (20, 5), (50, 3), (100, 3), (200, 3), (500, 3)], [(1, 4), (5, 3), (10, 3), (20, 3), (50, 3), (100, 3), (200, 3), (500, 3)], 3), (2, 6, 4, 1, [(1, 3), (5, 3), (10, 2), (20, 1), (50, 1), (100, 1), (200, 1), (500, 1)], [(1, 3), (5, 1), (10, 1), (20, 1), (50, 1), (100, 1), (200, 1), (500, 1)], 1), (4, 5, 3, 2, [(1, 3), (5, 2), (10, 2), (20, 2), (50, 2), (100, 2), (200, 2), (500, 2)], [(1, 2), (5, 2), (10, 2), (20, 2), (50, 2), (100, 2), (200, 2), (500, 2)], 2), (9, 2, 1, 3, [(1, 8), (5, 7), (10, 7), (20, 9), (50, 5), (100, 5), (200, 6), (500, 5)], [(1, 4), (5, 6), (10, 5), (20, 5), (50, 4), (100, 4), (200, 4), (500, 5)], 6), (6, 4, 2, 2, [(1, 5), (5, 5), (10, 3), (20, 2), (50, 2), (100, 2), (200, 2), (500, 2)], [(1, 2), (5, 2), (10, 2), (20, 2), (50, 2), (100, 2), (200, 2), (500, 2)], 2), (6, 4, 2, 3, [(1, 4), (5, 5), (10, 4), (20, 5), (50, 3), (100, 3), (200, 3), (500, 3)], [(1, 3), (5, 3), (10, 4), (20, 3), (50, 3), (100, 3), (200, 3), (500, 3)], 3), (2, 6, 4, 3, [(1, 6), (5, 6), (10, 6), (20, 5), (50, 3), (100, 3), (200, 3), (500, 3)], [(1, 5), (5, 4), (10, 3), (20, 3), (50, 3), (100, 3), (200, 3), (500, 3)], 3), (0, 8, 4, 3, [(1, 5), (5, 5), (10, 7), (20, 4), (50, 4), (100, 3), (200, 3), (500, 3)], [(1, 3), (5, 3), (10, 3), (20, 3), (50, 4), (100, 3), (200, 3), (500, 3)], 3), (4, 5, 3, 4, [(1, 4), (5, 4), (10, 4), (20, 6), (50, 4), (100, 4), (200, 4), (500, 4)], [(1, 5), (5, 4), (10, 5), (20, 4), (50, 4), (100, 4), (200, 4), (500, 4)], 4), (3, 6, 3, 2, [(1, 2), (5, 2), (10, 2), (20, 2), (50, 2), (100, 2), (200, 2), (500, 2)], [(1, 4), (5, 2), (10, 2), (20, 2), (50, 2), (100, 2), (200, 2), (500, 2)], 2), (3, 6, 3, 4, [(1, 8), (5, 6), (10, 8), (20, 8), (50, 4), (100, 4), (200, 4), (500, 4)], [(1, 8), (5, 6), (10, 5), (20, 4), (50, 4), (100, 4), (200, 4), (500, 4)], 4), (5, 4, 3, 3, [(1, 8), (5, 8), (10, 8), (20, 4), (50, 4), (100, 4), (200, 3), (500, 3)], [(1, 5), (5, 5), (10, 5), (20, 4), (50, 4), (100, 3), (200, 3), (500, 3)], 3), (11, 0, 1, 3, [(1, 11), (5, 11), (10, 7), (20, 8), (50, 4), (100, 4), (200, 3), (500, 3)], [(1, 3), (5, 4), (10, 3), (20, 4), (50, 4), (100, 4), (200, 3), (500, 4)], 3), (4, 5, 3, 2, [(1, 9), (5, 8), (10, 9), (20, 3), (50, 4), (100, 2), (200, 2), (500, 2)], [(1, 4), (5, 2), (10, 2), (20, 2), (50, 2), (100, 2), (200, 2), (500, 2)], 2), (2, 6, 4, 3, [(1, 5), (5, 6), (10, 3), (20, 4), (50, 3), (100, 3), (200, 3), (500, 3)], [(1, 3), (5, 3), (10, 4), (20, 3), (50, 3), (100, 3), (200, 3), (500, 3)], 3), (0, 8, 4, 1, [(1, 3), (5, 1), (10, 2), (20, 1), (50, 1), (100, 1), (200, 1), (500, 1)], [(1, 1), (5, 1), (10, 1), (20, 1), (50, 1), (100, 1), (200, 1), (500, 1)], 1), (2, 6, 4, 2, [(1, 6), (5, 6), (10, 6), (20, 2), (50, 2), (100, 2), (200, 2), (500, 2)], [(1, 2), (5, 3), (10, 2), (20, 2), (50, 2), (100, 2), (200, 2), (500, 2)], 2), (5, 4, 3, 2, [(1, 3), (5, 3), (10, 3), (20, 2), (50, 2), (100, 2), (200, 2), (500, 2)], [(1, 3), (5, 3), (10, 2), (20, 2), (50, 2), (100, 2), (200, 2), (500, 2)], 2), (1, 7, 4, 1, [(1, 4), (5, 1), (10, 1), (20, 1), (50, 1), (100, 1), (200, 1), (500, 1)], [(1, 2), (5, 1), (10, 1), (20, 1), (50, 1), (100, 1), (200, 1), (500, 1)], 1), (9, 2, 1, 2, [(1, 7), (5, 8), (10, 2), (20, 2), (50, 3), (100, 2), (200, 2), (500, 2)], [(1, 2), (5, 2), (10, 2), (20, 2), (50, 2), (100, 2), (200, 2), (500, 2)], 2), (11, 0, 1, 7, [(1, 10), (5, 10), (10, 9), (20, 10), (50, 10), (100, 7), (200, 7), (500, 7)], [(1, 10), (5, 7), (10, 7), (20, 7), (50, 7), (100, 7), (200, 7), (500, 7)], 7)]\n",
      "new experiment: 22\n",
      "3 6 3\n",
      "\u001b[34mLoading sequences and calculating alignments to all references, this might take a while. Number of reads: \u001b[0m 12\n",
      "start working on read number 0\n",
      "working on size:  0\n",
      "working on size:  1\n",
      "groundtruth: 1\n",
      "groundtruth values: [5]\n",
      "Change dominating species from Neanderthal to Denisovan would require removing 2 reads: [7, 5]\n",
      "[7, 5]\n",
      "counter_factual monte carlo on size 1: 2\n",
      "1\n"
     ]
    },
    {
     "data": {
      "application/vnd.jupyter.widget-view+json": {
       "model_id": "e2ad737956264993aa337aa7f7adc182",
       "version_major": 2,
       "version_minor": 0
      },
      "text/plain": [
       "  0%|          | 0/1 [00:00<?, ?it/s]"
      ]
     },
     "metadata": {},
     "output_type": "display_data"
    },
    {
     "name": "stdout",
     "output_type": "stream",
     "text": [
      "1\n",
      "1\n",
      "Change dominating species from Neanderthal to Denisovan would require removing 7 reads: [0, 1, 2, 3, 4, 5, 6]\n",
      "[0, 1, 2, 3, 4, 5, 6]\n",
      "counter_factual shap on size 1: 7\n",
      "Change dominating species from Neanderthal to Homo Sapiens would require removing 1 reads: [6]\n",
      "[6]\n",
      "counter_factual monte carlo on size 5: 1\n",
      "1\n"
     ]
    },
    {
     "data": {
      "application/vnd.jupyter.widget-view+json": {
       "model_id": "4e862909357a453ea00f343f9aaf3bde",
       "version_major": 2,
       "version_minor": 0
      },
      "text/plain": [
       "  0%|          | 0/1 [00:00<?, ?it/s]"
      ]
     },
     "metadata": {},
     "output_type": "display_data"
    },
    {
     "name": "stdout",
     "output_type": "stream",
     "text": [
      "1\n",
      "5\n",
      "Change dominating species from Neanderthal to Denisovan would require removing 8 reads: [4, 10, 0, 1, 2, 3, 5, 6]\n",
      "[4, 10, 0, 1, 2, 3, 5, 6]\n",
      "counter_factual shap on size 5: 8\n",
      "Change dominating species from Neanderthal to Homo Sapiens would require removing 1 reads: [6]\n",
      "[6]\n",
      "counter_factual monte carlo on size 10: 1\n",
      "1\n"
     ]
    },
    {
     "data": {
      "application/vnd.jupyter.widget-view+json": {
       "model_id": "ba6aed92e796408099ca7faad65d97dc",
       "version_major": 2,
       "version_minor": 0
      },
      "text/plain": [
       "  0%|          | 0/1 [00:00<?, ?it/s]"
      ]
     },
     "metadata": {},
     "output_type": "display_data"
    },
    {
     "name": "stdout",
     "output_type": "stream",
     "text": [
      "1\n",
      "10\n",
      "Change dominating species from Neanderthal to Homo Sapiens would require removing 1 reads: [6]\n",
      "[6]\n",
      "counter_factual shap on size 10: 1\n",
      "Change dominating species from Neanderthal to Homo Sapiens would require removing 1 reads: [5]\n",
      "[5]\n",
      "counter_factual monte carlo on size 20: 1\n",
      "1\n"
     ]
    },
    {
     "data": {
      "application/vnd.jupyter.widget-view+json": {
       "model_id": "6163a74339fa4bc0ac3606aa8589a47a",
       "version_major": 2,
       "version_minor": 0
      },
      "text/plain": [
       "  0%|          | 0/1 [00:00<?, ?it/s]"
      ]
     },
     "metadata": {},
     "output_type": "display_data"
    },
    {
     "name": "stdout",
     "output_type": "stream",
     "text": [
      "1\n",
      "20\n",
      "Change dominating species from Neanderthal to Homo Sapiens would require removing 1 reads: [5]\n",
      "[5]\n",
      "counter_factual shap on size 20: 1\n",
      "Change dominating species from Neanderthal to Homo Sapiens would require removing 1 reads: [6]\n",
      "[6]\n",
      "counter_factual monte carlo on size 50: 1\n",
      "1\n"
     ]
    },
    {
     "data": {
      "application/vnd.jupyter.widget-view+json": {
       "model_id": "85ada2c7cddc4bf4b357b3e6f539696c",
       "version_major": 2,
       "version_minor": 0
      },
      "text/plain": [
       "  0%|          | 0/1 [00:00<?, ?it/s]"
      ]
     },
     "metadata": {},
     "output_type": "display_data"
    },
    {
     "name": "stdout",
     "output_type": "stream",
     "text": [
      "1\n",
      "50\n",
      "Change dominating species from Neanderthal to Homo Sapiens would require removing 1 reads: [5]\n",
      "[5]\n",
      "counter_factual shap on size 50: 1\n",
      "Change dominating species from Neanderthal to Homo Sapiens would require removing 1 reads: [6]\n",
      "[6]\n",
      "counter_factual monte carlo on size 100: 1\n",
      "1\n"
     ]
    },
    {
     "data": {
      "application/vnd.jupyter.widget-view+json": {
       "model_id": "9cf046b7bc194ee0abfbc2ff4fb43bc3",
       "version_major": 2,
       "version_minor": 0
      },
      "text/plain": [
       "  0%|          | 0/1 [00:00<?, ?it/s]"
      ]
     },
     "metadata": {},
     "output_type": "display_data"
    },
    {
     "name": "stdout",
     "output_type": "stream",
     "text": [
      "1\n",
      "100\n",
      "Change dominating species from Neanderthal to Homo Sapiens would require removing 1 reads: [5]\n",
      "[5]\n",
      "counter_factual shap on size 100: 1\n",
      "Change dominating species from Neanderthal to Homo Sapiens would require removing 1 reads: [5]\n",
      "[5]\n",
      "counter_factual monte carlo on size 200: 1\n",
      "1\n"
     ]
    },
    {
     "data": {
      "application/vnd.jupyter.widget-view+json": {
       "model_id": "426e518aadc349ca9aedd36ad06ac15f",
       "version_major": 2,
       "version_minor": 0
      },
      "text/plain": [
       "  0%|          | 0/1 [00:00<?, ?it/s]"
      ]
     },
     "metadata": {},
     "output_type": "display_data"
    },
    {
     "name": "stdout",
     "output_type": "stream",
     "text": [
      "1\n",
      "200\n",
      "Change dominating species from Neanderthal to Homo Sapiens would require removing 1 reads: [5]\n",
      "[5]\n",
      "counter_factual shap on size 200: 1\n",
      "Change dominating species from Neanderthal to Homo Sapiens would require removing 1 reads: [6]\n",
      "[6]\n",
      "counter_factual monte carlo on size 500: 1\n",
      "1\n"
     ]
    },
    {
     "data": {
      "application/vnd.jupyter.widget-view+json": {
       "model_id": "6e2218ec7d2b44588fd2b23e4a115ee7",
       "version_major": 2,
       "version_minor": 0
      },
      "text/plain": [
       "  0%|          | 0/1 [00:00<?, ?it/s]"
      ]
     },
     "metadata": {},
     "output_type": "display_data"
    },
    {
     "name": "stdout",
     "output_type": "stream",
     "text": [
      "1\n",
      "500\n",
      "Change dominating species from Neanderthal to Homo Sapiens would require removing 1 reads: [5]\n",
      "[5]\n",
      "counter_factual shap on size 500: 1\n",
      "Change dominating species from Neanderthal to Homo Sapiens would require removing 1 reads: [6]\n",
      "[6]\n",
      "counter_factualA_s_d: 1\n",
      "[(10, 1, 1, 6, [(1, 10), (5, 10), (10, 10), (20, 11), (50, 7), (100, 6), (200, 6), (500, 7)], [(1, 9), (5, 6), (10, 8), (20, 6), (50, 7), (100, 7), (200, 7), (500, 7)], 7), (5, 4, 3, 3, [(1, 5), (5, 5), (10, 5), (20, 5), (50, 3), (100, 3), (200, 3), (500, 3)], [(1, 4), (5, 3), (10, 3), (20, 3), (50, 3), (100, 3), (200, 3), (500, 3)], 3), (2, 6, 4, 1, [(1, 3), (5, 3), (10, 2), (20, 1), (50, 1), (100, 1), (200, 1), (500, 1)], [(1, 3), (5, 1), (10, 1), (20, 1), (50, 1), (100, 1), (200, 1), (500, 1)], 1), (4, 5, 3, 2, [(1, 3), (5, 2), (10, 2), (20, 2), (50, 2), (100, 2), (200, 2), (500, 2)], [(1, 2), (5, 2), (10, 2), (20, 2), (50, 2), (100, 2), (200, 2), (500, 2)], 2), (9, 2, 1, 3, [(1, 8), (5, 7), (10, 7), (20, 9), (50, 5), (100, 5), (200, 6), (500, 5)], [(1, 4), (5, 6), (10, 5), (20, 5), (50, 4), (100, 4), (200, 4), (500, 5)], 6), (6, 4, 2, 2, [(1, 5), (5, 5), (10, 3), (20, 2), (50, 2), (100, 2), (200, 2), (500, 2)], [(1, 2), (5, 2), (10, 2), (20, 2), (50, 2), (100, 2), (200, 2), (500, 2)], 2), (6, 4, 2, 3, [(1, 4), (5, 5), (10, 4), (20, 5), (50, 3), (100, 3), (200, 3), (500, 3)], [(1, 3), (5, 3), (10, 4), (20, 3), (50, 3), (100, 3), (200, 3), (500, 3)], 3), (2, 6, 4, 3, [(1, 6), (5, 6), (10, 6), (20, 5), (50, 3), (100, 3), (200, 3), (500, 3)], [(1, 5), (5, 4), (10, 3), (20, 3), (50, 3), (100, 3), (200, 3), (500, 3)], 3), (0, 8, 4, 3, [(1, 5), (5, 5), (10, 7), (20, 4), (50, 4), (100, 3), (200, 3), (500, 3)], [(1, 3), (5, 3), (10, 3), (20, 3), (50, 4), (100, 3), (200, 3), (500, 3)], 3), (4, 5, 3, 4, [(1, 4), (5, 4), (10, 4), (20, 6), (50, 4), (100, 4), (200, 4), (500, 4)], [(1, 5), (5, 4), (10, 5), (20, 4), (50, 4), (100, 4), (200, 4), (500, 4)], 4), (3, 6, 3, 2, [(1, 2), (5, 2), (10, 2), (20, 2), (50, 2), (100, 2), (200, 2), (500, 2)], [(1, 4), (5, 2), (10, 2), (20, 2), (50, 2), (100, 2), (200, 2), (500, 2)], 2), (3, 6, 3, 4, [(1, 8), (5, 6), (10, 8), (20, 8), (50, 4), (100, 4), (200, 4), (500, 4)], [(1, 8), (5, 6), (10, 5), (20, 4), (50, 4), (100, 4), (200, 4), (500, 4)], 4), (5, 4, 3, 3, [(1, 8), (5, 8), (10, 8), (20, 4), (50, 4), (100, 4), (200, 3), (500, 3)], [(1, 5), (5, 5), (10, 5), (20, 4), (50, 4), (100, 3), (200, 3), (500, 3)], 3), (11, 0, 1, 3, [(1, 11), (5, 11), (10, 7), (20, 8), (50, 4), (100, 4), (200, 3), (500, 3)], [(1, 3), (5, 4), (10, 3), (20, 4), (50, 4), (100, 4), (200, 3), (500, 4)], 3), (4, 5, 3, 2, [(1, 9), (5, 8), (10, 9), (20, 3), (50, 4), (100, 2), (200, 2), (500, 2)], [(1, 4), (5, 2), (10, 2), (20, 2), (50, 2), (100, 2), (200, 2), (500, 2)], 2), (2, 6, 4, 3, [(1, 5), (5, 6), (10, 3), (20, 4), (50, 3), (100, 3), (200, 3), (500, 3)], [(1, 3), (5, 3), (10, 4), (20, 3), (50, 3), (100, 3), (200, 3), (500, 3)], 3), (0, 8, 4, 1, [(1, 3), (5, 1), (10, 2), (20, 1), (50, 1), (100, 1), (200, 1), (500, 1)], [(1, 1), (5, 1), (10, 1), (20, 1), (50, 1), (100, 1), (200, 1), (500, 1)], 1), (2, 6, 4, 2, [(1, 6), (5, 6), (10, 6), (20, 2), (50, 2), (100, 2), (200, 2), (500, 2)], [(1, 2), (5, 3), (10, 2), (20, 2), (50, 2), (100, 2), (200, 2), (500, 2)], 2), (5, 4, 3, 2, [(1, 3), (5, 3), (10, 3), (20, 2), (50, 2), (100, 2), (200, 2), (500, 2)], [(1, 3), (5, 3), (10, 2), (20, 2), (50, 2), (100, 2), (200, 2), (500, 2)], 2), (1, 7, 4, 1, [(1, 4), (5, 1), (10, 1), (20, 1), (50, 1), (100, 1), (200, 1), (500, 1)], [(1, 2), (5, 1), (10, 1), (20, 1), (50, 1), (100, 1), (200, 1), (500, 1)], 1), (9, 2, 1, 2, [(1, 7), (5, 8), (10, 2), (20, 2), (50, 3), (100, 2), (200, 2), (500, 2)], [(1, 2), (5, 2), (10, 2), (20, 2), (50, 2), (100, 2), (200, 2), (500, 2)], 2), (11, 0, 1, 7, [(1, 10), (5, 10), (10, 9), (20, 10), (50, 10), (100, 7), (200, 7), (500, 7)], [(1, 10), (5, 7), (10, 7), (20, 7), (50, 7), (100, 7), (200, 7), (500, 7)], 7), (3, 6, 3, 1, [(1, 7), (5, 8), (10, 1), (20, 1), (50, 1), (100, 1), (200, 1), (500, 1)], [(1, 2), (5, 1), (10, 1), (20, 1), (50, 1), (100, 1), (200, 1), (500, 1)], 1)]\n",
      "new experiment: 23\n",
      "7 3 2\n",
      "\u001b[34mLoading sequences and calculating alignments to all references, this might take a while. Number of reads: \u001b[0m 12\n",
      "start working on read number 0\n",
      "working on size:  0\n",
      "working on size:  1\n",
      "groundtruth: 1\n",
      "groundtruth values: [2]\n",
      "Change dominating species from Homo Sapiens to Neanderthal would require removing 1 reads: [2]\n",
      "[2]\n",
      "counter_factual monte carlo on size 1: 1\n",
      "1\n"
     ]
    },
    {
     "data": {
      "application/vnd.jupyter.widget-view+json": {
       "model_id": "406f196594984850b18ab3494c7ade98",
       "version_major": 2,
       "version_minor": 0
      },
      "text/plain": [
       "  0%|          | 0/1 [00:00<?, ?it/s]"
      ]
     },
     "metadata": {},
     "output_type": "display_data"
    },
    {
     "name": "stdout",
     "output_type": "stream",
     "text": [
      "1\n",
      "1\n",
      "Change dominating species from Homo Sapiens to Denisovan would require removing 2 reads: [0, 1]\n",
      "[0, 1]\n",
      "counter_factual shap on size 1: 2\n",
      "Change dominating species from Homo Sapiens to Neanderthal would require removing 1 reads: [2]\n",
      "[2]\n",
      "counter_factual monte carlo on size 5: 1\n",
      "1\n"
     ]
    },
    {
     "data": {
      "application/vnd.jupyter.widget-view+json": {
       "model_id": "be6b25ecd43542b9a0b0fd60a675dfe3",
       "version_major": 2,
       "version_minor": 0
      },
      "text/plain": [
       "  0%|          | 0/1 [00:00<?, ?it/s]"
      ]
     },
     "metadata": {},
     "output_type": "display_data"
    },
    {
     "name": "stdout",
     "output_type": "stream",
     "text": [
      "1\n",
      "5\n",
      "Change dominating species from Homo Sapiens to Denisovan would require removing 2 reads: [0, 1]\n",
      "[0, 1]\n",
      "counter_factual shap on size 5: 2\n",
      "Change dominating species from Homo Sapiens to Neanderthal would require removing 1 reads: [2]\n",
      "[2]\n",
      "counter_factual monte carlo on size 10: 1\n",
      "1\n"
     ]
    },
    {
     "data": {
      "application/vnd.jupyter.widget-view+json": {
       "model_id": "864a25fb729640a1af997fbe73a8dade",
       "version_major": 2,
       "version_minor": 0
      },
      "text/plain": [
       "  0%|          | 0/1 [00:00<?, ?it/s]"
      ]
     },
     "metadata": {},
     "output_type": "display_data"
    },
    {
     "name": "stdout",
     "output_type": "stream",
     "text": [
      "1\n",
      "10\n",
      "Change dominating species from Homo Sapiens to Neanderthal would require removing 2 reads: [6, 2]\n",
      "[6, 2]\n",
      "counter_factual shap on size 10: 2\n",
      "Change dominating species from Homo Sapiens to Neanderthal would require removing 1 reads: [2]\n",
      "[2]\n",
      "counter_factual monte carlo on size 20: 1\n",
      "1\n"
     ]
    },
    {
     "data": {
      "application/vnd.jupyter.widget-view+json": {
       "model_id": "973ce08f2455474b9e9a962b0c0a00c4",
       "version_major": 2,
       "version_minor": 0
      },
      "text/plain": [
       "  0%|          | 0/1 [00:00<?, ?it/s]"
      ]
     },
     "metadata": {},
     "output_type": "display_data"
    },
    {
     "name": "stdout",
     "output_type": "stream",
     "text": [
      "1\n",
      "20\n",
      "Change dominating species from Homo Sapiens to Denisovan would require removing 2 reads: [6, 1]\n",
      "[6, 1]\n",
      "counter_factual shap on size 20: 2\n",
      "Change dominating species from Homo Sapiens to Neanderthal would require removing 1 reads: [2]\n",
      "[2]\n",
      "counter_factual monte carlo on size 50: 1\n",
      "1\n"
     ]
    },
    {
     "data": {
      "application/vnd.jupyter.widget-view+json": {
       "model_id": "01670b5b18ba437f94dc4b84bd86d08b",
       "version_major": 2,
       "version_minor": 0
      },
      "text/plain": [
       "  0%|          | 0/1 [00:00<?, ?it/s]"
      ]
     },
     "metadata": {},
     "output_type": "display_data"
    },
    {
     "name": "stdout",
     "output_type": "stream",
     "text": [
      "1\n",
      "50\n",
      "Change dominating species from Homo Sapiens to Neanderthal would require removing 1 reads: [2]\n",
      "[2]\n",
      "counter_factual shap on size 50: 1\n",
      "Change dominating species from Homo Sapiens to Neanderthal would require removing 1 reads: [2]\n",
      "[2]\n",
      "counter_factual monte carlo on size 100: 1\n",
      "1\n"
     ]
    },
    {
     "data": {
      "application/vnd.jupyter.widget-view+json": {
       "model_id": "ba284a5f6a48452db356ef0a30d77034",
       "version_major": 2,
       "version_minor": 0
      },
      "text/plain": [
       "  0%|          | 0/1 [00:00<?, ?it/s]"
      ]
     },
     "metadata": {},
     "output_type": "display_data"
    },
    {
     "name": "stdout",
     "output_type": "stream",
     "text": [
      "1\n",
      "100\n",
      "Change dominating species from Homo Sapiens to Neanderthal would require removing 1 reads: [2]\n",
      "[2]\n",
      "counter_factual shap on size 100: 1\n",
      "Change dominating species from Homo Sapiens to Neanderthal would require removing 1 reads: [2]\n",
      "[2]\n",
      "counter_factual monte carlo on size 200: 1\n",
      "1\n"
     ]
    },
    {
     "data": {
      "application/vnd.jupyter.widget-view+json": {
       "model_id": "2c91484a8c8a4107b02c3be4872a7801",
       "version_major": 2,
       "version_minor": 0
      },
      "text/plain": [
       "  0%|          | 0/1 [00:00<?, ?it/s]"
      ]
     },
     "metadata": {},
     "output_type": "display_data"
    },
    {
     "name": "stdout",
     "output_type": "stream",
     "text": [
      "1\n",
      "200\n",
      "Change dominating species from Homo Sapiens to Neanderthal would require removing 1 reads: [2]\n",
      "[2]\n",
      "counter_factual shap on size 200: 1\n",
      "Change dominating species from Homo Sapiens to Neanderthal would require removing 1 reads: [2]\n",
      "[2]\n",
      "counter_factual monte carlo on size 500: 1\n",
      "1\n"
     ]
    },
    {
     "data": {
      "application/vnd.jupyter.widget-view+json": {
       "model_id": "93e9754faa38448894fbc789d7cd5c32",
       "version_major": 2,
       "version_minor": 0
      },
      "text/plain": [
       "  0%|          | 0/1 [00:00<?, ?it/s]"
      ]
     },
     "metadata": {},
     "output_type": "display_data"
    },
    {
     "name": "stdout",
     "output_type": "stream",
     "text": [
      "1\n",
      "500\n",
      "Change dominating species from Homo Sapiens to Neanderthal would require removing 1 reads: [2]\n",
      "[2]\n",
      "counter_factual shap on size 500: 1\n",
      "Change dominating species from Homo Sapiens to Neanderthal would require removing 1 reads: [2]\n",
      "[2]\n",
      "counter_factualA_s_d: 1\n",
      "[(10, 1, 1, 6, [(1, 10), (5, 10), (10, 10), (20, 11), (50, 7), (100, 6), (200, 6), (500, 7)], [(1, 9), (5, 6), (10, 8), (20, 6), (50, 7), (100, 7), (200, 7), (500, 7)], 7), (5, 4, 3, 3, [(1, 5), (5, 5), (10, 5), (20, 5), (50, 3), (100, 3), (200, 3), (500, 3)], [(1, 4), (5, 3), (10, 3), (20, 3), (50, 3), (100, 3), (200, 3), (500, 3)], 3), (2, 6, 4, 1, [(1, 3), (5, 3), (10, 2), (20, 1), (50, 1), (100, 1), (200, 1), (500, 1)], [(1, 3), (5, 1), (10, 1), (20, 1), (50, 1), (100, 1), (200, 1), (500, 1)], 1), (4, 5, 3, 2, [(1, 3), (5, 2), (10, 2), (20, 2), (50, 2), (100, 2), (200, 2), (500, 2)], [(1, 2), (5, 2), (10, 2), (20, 2), (50, 2), (100, 2), (200, 2), (500, 2)], 2), (9, 2, 1, 3, [(1, 8), (5, 7), (10, 7), (20, 9), (50, 5), (100, 5), (200, 6), (500, 5)], [(1, 4), (5, 6), (10, 5), (20, 5), (50, 4), (100, 4), (200, 4), (500, 5)], 6), (6, 4, 2, 2, [(1, 5), (5, 5), (10, 3), (20, 2), (50, 2), (100, 2), (200, 2), (500, 2)], [(1, 2), (5, 2), (10, 2), (20, 2), (50, 2), (100, 2), (200, 2), (500, 2)], 2), (6, 4, 2, 3, [(1, 4), (5, 5), (10, 4), (20, 5), (50, 3), (100, 3), (200, 3), (500, 3)], [(1, 3), (5, 3), (10, 4), (20, 3), (50, 3), (100, 3), (200, 3), (500, 3)], 3), (2, 6, 4, 3, [(1, 6), (5, 6), (10, 6), (20, 5), (50, 3), (100, 3), (200, 3), (500, 3)], [(1, 5), (5, 4), (10, 3), (20, 3), (50, 3), (100, 3), (200, 3), (500, 3)], 3), (0, 8, 4, 3, [(1, 5), (5, 5), (10, 7), (20, 4), (50, 4), (100, 3), (200, 3), (500, 3)], [(1, 3), (5, 3), (10, 3), (20, 3), (50, 4), (100, 3), (200, 3), (500, 3)], 3), (4, 5, 3, 4, [(1, 4), (5, 4), (10, 4), (20, 6), (50, 4), (100, 4), (200, 4), (500, 4)], [(1, 5), (5, 4), (10, 5), (20, 4), (50, 4), (100, 4), (200, 4), (500, 4)], 4), (3, 6, 3, 2, [(1, 2), (5, 2), (10, 2), (20, 2), (50, 2), (100, 2), (200, 2), (500, 2)], [(1, 4), (5, 2), (10, 2), (20, 2), (50, 2), (100, 2), (200, 2), (500, 2)], 2), (3, 6, 3, 4, [(1, 8), (5, 6), (10, 8), (20, 8), (50, 4), (100, 4), (200, 4), (500, 4)], [(1, 8), (5, 6), (10, 5), (20, 4), (50, 4), (100, 4), (200, 4), (500, 4)], 4), (5, 4, 3, 3, [(1, 8), (5, 8), (10, 8), (20, 4), (50, 4), (100, 4), (200, 3), (500, 3)], [(1, 5), (5, 5), (10, 5), (20, 4), (50, 4), (100, 3), (200, 3), (500, 3)], 3), (11, 0, 1, 3, [(1, 11), (5, 11), (10, 7), (20, 8), (50, 4), (100, 4), (200, 3), (500, 3)], [(1, 3), (5, 4), (10, 3), (20, 4), (50, 4), (100, 4), (200, 3), (500, 4)], 3), (4, 5, 3, 2, [(1, 9), (5, 8), (10, 9), (20, 3), (50, 4), (100, 2), (200, 2), (500, 2)], [(1, 4), (5, 2), (10, 2), (20, 2), (50, 2), (100, 2), (200, 2), (500, 2)], 2), (2, 6, 4, 3, [(1, 5), (5, 6), (10, 3), (20, 4), (50, 3), (100, 3), (200, 3), (500, 3)], [(1, 3), (5, 3), (10, 4), (20, 3), (50, 3), (100, 3), (200, 3), (500, 3)], 3), (0, 8, 4, 1, [(1, 3), (5, 1), (10, 2), (20, 1), (50, 1), (100, 1), (200, 1), (500, 1)], [(1, 1), (5, 1), (10, 1), (20, 1), (50, 1), (100, 1), (200, 1), (500, 1)], 1), (2, 6, 4, 2, [(1, 6), (5, 6), (10, 6), (20, 2), (50, 2), (100, 2), (200, 2), (500, 2)], [(1, 2), (5, 3), (10, 2), (20, 2), (50, 2), (100, 2), (200, 2), (500, 2)], 2), (5, 4, 3, 2, [(1, 3), (5, 3), (10, 3), (20, 2), (50, 2), (100, 2), (200, 2), (500, 2)], [(1, 3), (5, 3), (10, 2), (20, 2), (50, 2), (100, 2), (200, 2), (500, 2)], 2), (1, 7, 4, 1, [(1, 4), (5, 1), (10, 1), (20, 1), (50, 1), (100, 1), (200, 1), (500, 1)], [(1, 2), (5, 1), (10, 1), (20, 1), (50, 1), (100, 1), (200, 1), (500, 1)], 1), (9, 2, 1, 2, [(1, 7), (5, 8), (10, 2), (20, 2), (50, 3), (100, 2), (200, 2), (500, 2)], [(1, 2), (5, 2), (10, 2), (20, 2), (50, 2), (100, 2), (200, 2), (500, 2)], 2), (11, 0, 1, 7, [(1, 10), (5, 10), (10, 9), (20, 10), (50, 10), (100, 7), (200, 7), (500, 7)], [(1, 10), (5, 7), (10, 7), (20, 7), (50, 7), (100, 7), (200, 7), (500, 7)], 7), (3, 6, 3, 1, [(1, 7), (5, 8), (10, 1), (20, 1), (50, 1), (100, 1), (200, 1), (500, 1)], [(1, 2), (5, 1), (10, 1), (20, 1), (50, 1), (100, 1), (200, 1), (500, 1)], 1), (7, 3, 2, 1, [(1, 2), (5, 2), (10, 2), (20, 2), (50, 1), (100, 1), (200, 1), (500, 1)], [(1, 1), (5, 1), (10, 1), (20, 1), (50, 1), (100, 1), (200, 1), (500, 1)], 1)]\n",
      "new experiment: 24\n",
      "9 2 1\n",
      "\u001b[34mLoading sequences and calculating alignments to all references, this might take a while. Number of reads: \u001b[0m 12\n",
      "start working on read number 0\n",
      "working on size:  0\n",
      "working on size:  1\n",
      "working on size:  2\n",
      "groundtruth: 2\n",
      "groundtruth values: [0, 2]\n",
      "Change dominating species from Homo Sapiens to Neanderthal would require removing 2 reads: [7, 0]\n",
      "[7, 0]\n",
      "counter_factual monte carlo on size 1: 2\n",
      "1\n"
     ]
    },
    {
     "data": {
      "application/vnd.jupyter.widget-view+json": {
       "model_id": "0b477928a2dc4f959d852f090f8ed435",
       "version_major": 2,
       "version_minor": 0
      },
      "text/plain": [
       "  0%|          | 0/1 [00:00<?, ?it/s]"
      ]
     },
     "metadata": {},
     "output_type": "display_data"
    },
    {
     "name": "stdout",
     "output_type": "stream",
     "text": [
      "1\n",
      "1\n",
      "Change dominating species from Homo Sapiens to Neanderthal would require removing 3 reads: [0, 1, 2]\n",
      "[0, 1, 2]\n",
      "counter_factual shap on size 1: 3\n",
      "Change dominating species from Homo Sapiens to Neanderthal would require removing 2 reads: [2, 7]\n",
      "[2, 7]\n",
      "counter_factual monte carlo on size 5: 2\n",
      "1\n"
     ]
    },
    {
     "data": {
      "application/vnd.jupyter.widget-view+json": {
       "model_id": "e6cc7ad290d34c4dae06d5aa4abdb576",
       "version_major": 2,
       "version_minor": 0
      },
      "text/plain": [
       "  0%|          | 0/1 [00:00<?, ?it/s]"
      ]
     },
     "metadata": {},
     "output_type": "display_data"
    },
    {
     "name": "stdout",
     "output_type": "stream",
     "text": [
      "1\n",
      "5\n",
      "Change dominating species from Homo Sapiens to Neanderthal would require removing 4 reads: [3, 0, 1, 2]\n",
      "[3, 0, 1, 2]\n",
      "counter_factual shap on size 5: 4\n",
      "Change dominating species from Homo Sapiens to Neanderthal would require removing 2 reads: [0, 2]\n",
      "[0, 2]\n",
      "counter_factual monte carlo on size 10: 2\n",
      "1\n"
     ]
    },
    {
     "data": {
      "application/vnd.jupyter.widget-view+json": {
       "model_id": "acd119cb58fd4483bf300f626eec5e51",
       "version_major": 2,
       "version_minor": 0
      },
      "text/plain": [
       "  0%|          | 0/1 [00:00<?, ?it/s]"
      ]
     },
     "metadata": {},
     "output_type": "display_data"
    },
    {
     "name": "stdout",
     "output_type": "stream",
     "text": [
      "1\n",
      "10\n",
      "Change dominating species from Homo Sapiens to Neanderthal would require removing 3 reads: [2, 3, 0]\n",
      "[2, 3, 0]\n",
      "counter_factual shap on size 10: 3\n",
      "Change dominating species from Homo Sapiens to Neanderthal would require removing 3 reads: [3, 7, 2]\n",
      "[3, 7, 2]\n",
      "counter_factual monte carlo on size 20: 3\n",
      "1\n"
     ]
    },
    {
     "data": {
      "application/vnd.jupyter.widget-view+json": {
       "model_id": "8962258670ca4e8bb33e528e85cb3e4b",
       "version_major": 2,
       "version_minor": 0
      },
      "text/plain": [
       "  0%|          | 0/1 [00:00<?, ?it/s]"
      ]
     },
     "metadata": {},
     "output_type": "display_data"
    },
    {
     "name": "stdout",
     "output_type": "stream",
     "text": [
      "1\n",
      "20\n",
      "Change dominating species from Homo Sapiens to Neanderthal would require removing 2 reads: [0, 7]\n",
      "[0, 7]\n",
      "counter_factual shap on size 20: 2\n",
      "Change dominating species from Homo Sapiens to Neanderthal would require removing 2 reads: [2, 0]\n",
      "[2, 0]\n",
      "counter_factual monte carlo on size 50: 2\n",
      "1\n"
     ]
    },
    {
     "data": {
      "application/vnd.jupyter.widget-view+json": {
       "model_id": "4f66350325774f5fa5e4d701cbf59492",
       "version_major": 2,
       "version_minor": 0
      },
      "text/plain": [
       "  0%|          | 0/1 [00:00<?, ?it/s]"
      ]
     },
     "metadata": {},
     "output_type": "display_data"
    },
    {
     "name": "stdout",
     "output_type": "stream",
     "text": [
      "1\n",
      "50\n",
      "Change dominating species from Homo Sapiens to Neanderthal would require removing 2 reads: [2, 7]\n",
      "[2, 7]\n",
      "counter_factual shap on size 50: 2\n",
      "Change dominating species from Homo Sapiens to Neanderthal would require removing 3 reads: [3, 0, 2]\n",
      "[3, 0, 2]\n",
      "counter_factual monte carlo on size 100: 3\n",
      "1\n"
     ]
    },
    {
     "data": {
      "application/vnd.jupyter.widget-view+json": {
       "model_id": "ddb33abf8bb0425eb0d71d4ae312ed93",
       "version_major": 2,
       "version_minor": 0
      },
      "text/plain": [
       "  0%|          | 0/1 [00:00<?, ?it/s]"
      ]
     },
     "metadata": {},
     "output_type": "display_data"
    },
    {
     "name": "stdout",
     "output_type": "stream",
     "text": [
      "1\n",
      "100\n",
      "Change dominating species from Homo Sapiens to Neanderthal would require removing 2 reads: [7, 0]\n",
      "[7, 0]\n",
      "counter_factual shap on size 100: 2\n",
      "Change dominating species from Homo Sapiens to Neanderthal would require removing 3 reads: [3, 2, 0]\n",
      "[3, 2, 0]\n",
      "counter_factual monte carlo on size 200: 3\n",
      "1\n"
     ]
    },
    {
     "data": {
      "application/vnd.jupyter.widget-view+json": {
       "model_id": "f445c0da270845fea65b8bb1855be024",
       "version_major": 2,
       "version_minor": 0
      },
      "text/plain": [
       "  0%|          | 0/1 [00:00<?, ?it/s]"
      ]
     },
     "metadata": {},
     "output_type": "display_data"
    },
    {
     "name": "stdout",
     "output_type": "stream",
     "text": [
      "1\n",
      "200\n",
      "Change dominating species from Homo Sapiens to Neanderthal would require removing 2 reads: [7, 0]\n",
      "[7, 0]\n",
      "counter_factual shap on size 200: 2\n",
      "Change dominating species from Homo Sapiens to Neanderthal would require removing 2 reads: [2, 7]\n",
      "[2, 7]\n",
      "counter_factual monte carlo on size 500: 2\n",
      "1\n"
     ]
    },
    {
     "data": {
      "application/vnd.jupyter.widget-view+json": {
       "model_id": "ca72f636b96940dfb4d2d39069866f9d",
       "version_major": 2,
       "version_minor": 0
      },
      "text/plain": [
       "  0%|          | 0/1 [00:00<?, ?it/s]"
      ]
     },
     "metadata": {},
     "output_type": "display_data"
    },
    {
     "name": "stdout",
     "output_type": "stream",
     "text": [
      "1\n",
      "500\n",
      "Change dominating species from Homo Sapiens to Neanderthal would require removing 2 reads: [7, 2]\n",
      "[7, 2]\n",
      "counter_factual shap on size 500: 2\n",
      "Change dominating species from Homo Sapiens to Neanderthal would require removing 2 reads: [7, 2]\n",
      "[7, 2]\n",
      "counter_factualA_s_d: 2\n",
      "[(10, 1, 1, 6, [(1, 10), (5, 10), (10, 10), (20, 11), (50, 7), (100, 6), (200, 6), (500, 7)], [(1, 9), (5, 6), (10, 8), (20, 6), (50, 7), (100, 7), (200, 7), (500, 7)], 7), (5, 4, 3, 3, [(1, 5), (5, 5), (10, 5), (20, 5), (50, 3), (100, 3), (200, 3), (500, 3)], [(1, 4), (5, 3), (10, 3), (20, 3), (50, 3), (100, 3), (200, 3), (500, 3)], 3), (2, 6, 4, 1, [(1, 3), (5, 3), (10, 2), (20, 1), (50, 1), (100, 1), (200, 1), (500, 1)], [(1, 3), (5, 1), (10, 1), (20, 1), (50, 1), (100, 1), (200, 1), (500, 1)], 1), (4, 5, 3, 2, [(1, 3), (5, 2), (10, 2), (20, 2), (50, 2), (100, 2), (200, 2), (500, 2)], [(1, 2), (5, 2), (10, 2), (20, 2), (50, 2), (100, 2), (200, 2), (500, 2)], 2), (9, 2, 1, 3, [(1, 8), (5, 7), (10, 7), (20, 9), (50, 5), (100, 5), (200, 6), (500, 5)], [(1, 4), (5, 6), (10, 5), (20, 5), (50, 4), (100, 4), (200, 4), (500, 5)], 6), (6, 4, 2, 2, [(1, 5), (5, 5), (10, 3), (20, 2), (50, 2), (100, 2), (200, 2), (500, 2)], [(1, 2), (5, 2), (10, 2), (20, 2), (50, 2), (100, 2), (200, 2), (500, 2)], 2), (6, 4, 2, 3, [(1, 4), (5, 5), (10, 4), (20, 5), (50, 3), (100, 3), (200, 3), (500, 3)], [(1, 3), (5, 3), (10, 4), (20, 3), (50, 3), (100, 3), (200, 3), (500, 3)], 3), (2, 6, 4, 3, [(1, 6), (5, 6), (10, 6), (20, 5), (50, 3), (100, 3), (200, 3), (500, 3)], [(1, 5), (5, 4), (10, 3), (20, 3), (50, 3), (100, 3), (200, 3), (500, 3)], 3), (0, 8, 4, 3, [(1, 5), (5, 5), (10, 7), (20, 4), (50, 4), (100, 3), (200, 3), (500, 3)], [(1, 3), (5, 3), (10, 3), (20, 3), (50, 4), (100, 3), (200, 3), (500, 3)], 3), (4, 5, 3, 4, [(1, 4), (5, 4), (10, 4), (20, 6), (50, 4), (100, 4), (200, 4), (500, 4)], [(1, 5), (5, 4), (10, 5), (20, 4), (50, 4), (100, 4), (200, 4), (500, 4)], 4), (3, 6, 3, 2, [(1, 2), (5, 2), (10, 2), (20, 2), (50, 2), (100, 2), (200, 2), (500, 2)], [(1, 4), (5, 2), (10, 2), (20, 2), (50, 2), (100, 2), (200, 2), (500, 2)], 2), (3, 6, 3, 4, [(1, 8), (5, 6), (10, 8), (20, 8), (50, 4), (100, 4), (200, 4), (500, 4)], [(1, 8), (5, 6), (10, 5), (20, 4), (50, 4), (100, 4), (200, 4), (500, 4)], 4), (5, 4, 3, 3, [(1, 8), (5, 8), (10, 8), (20, 4), (50, 4), (100, 4), (200, 3), (500, 3)], [(1, 5), (5, 5), (10, 5), (20, 4), (50, 4), (100, 3), (200, 3), (500, 3)], 3), (11, 0, 1, 3, [(1, 11), (5, 11), (10, 7), (20, 8), (50, 4), (100, 4), (200, 3), (500, 3)], [(1, 3), (5, 4), (10, 3), (20, 4), (50, 4), (100, 4), (200, 3), (500, 4)], 3), (4, 5, 3, 2, [(1, 9), (5, 8), (10, 9), (20, 3), (50, 4), (100, 2), (200, 2), (500, 2)], [(1, 4), (5, 2), (10, 2), (20, 2), (50, 2), (100, 2), (200, 2), (500, 2)], 2), (2, 6, 4, 3, [(1, 5), (5, 6), (10, 3), (20, 4), (50, 3), (100, 3), (200, 3), (500, 3)], [(1, 3), (5, 3), (10, 4), (20, 3), (50, 3), (100, 3), (200, 3), (500, 3)], 3), (0, 8, 4, 1, [(1, 3), (5, 1), (10, 2), (20, 1), (50, 1), (100, 1), (200, 1), (500, 1)], [(1, 1), (5, 1), (10, 1), (20, 1), (50, 1), (100, 1), (200, 1), (500, 1)], 1), (2, 6, 4, 2, [(1, 6), (5, 6), (10, 6), (20, 2), (50, 2), (100, 2), (200, 2), (500, 2)], [(1, 2), (5, 3), (10, 2), (20, 2), (50, 2), (100, 2), (200, 2), (500, 2)], 2), (5, 4, 3, 2, [(1, 3), (5, 3), (10, 3), (20, 2), (50, 2), (100, 2), (200, 2), (500, 2)], [(1, 3), (5, 3), (10, 2), (20, 2), (50, 2), (100, 2), (200, 2), (500, 2)], 2), (1, 7, 4, 1, [(1, 4), (5, 1), (10, 1), (20, 1), (50, 1), (100, 1), (200, 1), (500, 1)], [(1, 2), (5, 1), (10, 1), (20, 1), (50, 1), (100, 1), (200, 1), (500, 1)], 1), (9, 2, 1, 2, [(1, 7), (5, 8), (10, 2), (20, 2), (50, 3), (100, 2), (200, 2), (500, 2)], [(1, 2), (5, 2), (10, 2), (20, 2), (50, 2), (100, 2), (200, 2), (500, 2)], 2), (11, 0, 1, 7, [(1, 10), (5, 10), (10, 9), (20, 10), (50, 10), (100, 7), (200, 7), (500, 7)], [(1, 10), (5, 7), (10, 7), (20, 7), (50, 7), (100, 7), (200, 7), (500, 7)], 7), (3, 6, 3, 1, [(1, 7), (5, 8), (10, 1), (20, 1), (50, 1), (100, 1), (200, 1), (500, 1)], [(1, 2), (5, 1), (10, 1), (20, 1), (50, 1), (100, 1), (200, 1), (500, 1)], 1), (7, 3, 2, 1, [(1, 2), (5, 2), (10, 2), (20, 2), (50, 1), (100, 1), (200, 1), (500, 1)], [(1, 1), (5, 1), (10, 1), (20, 1), (50, 1), (100, 1), (200, 1), (500, 1)], 1), (9, 2, 1, 2, [(1, 3), (5, 4), (10, 3), (20, 2), (50, 2), (100, 2), (200, 2), (500, 2)], [(1, 2), (5, 2), (10, 2), (20, 3), (50, 2), (100, 3), (200, 3), (500, 2)], 2)]\n",
      "new experiment: 25\n",
      "8 2 2\n",
      "\u001b[34mLoading sequences and calculating alignments to all references, this might take a while. Number of reads: \u001b[0m 12\n",
      "start working on read number 0\n",
      "working on size:  0\n",
      "working on size:  1\n",
      "working on size:  2\n",
      "working on size:  3\n",
      "working on size:  4\n",
      "groundtruth: 4\n",
      "groundtruth values: [0, 1, 3, 6]\n",
      "Change dominating species from Homo Sapiens to Denisovan would require removing 4 reads: [7, 6, 0, 1]\n",
      "[7, 6, 0, 1]\n",
      "counter_factual monte carlo on size 1: 4\n",
      "1\n"
     ]
    },
    {
     "data": {
      "application/vnd.jupyter.widget-view+json": {
       "model_id": "2bd74c4dc24346369503c0606698fd1b",
       "version_major": 2,
       "version_minor": 0
      },
      "text/plain": [
       "  0%|          | 0/1 [00:00<?, ?it/s]"
      ]
     },
     "metadata": {},
     "output_type": "display_data"
    },
    {
     "name": "stdout",
     "output_type": "stream",
     "text": [
      "1\n",
      "1\n",
      "Change dominating species from Homo Sapiens to Neanderthal would require removing 8 reads: [0, 1, 2, 3, 4, 5, 6, 7]\n",
      "[0, 1, 2, 3, 4, 5, 6, 7]\n",
      "counter_factual shap on size 1: 8\n",
      "Change dominating species from Homo Sapiens to Neanderthal would require removing 6 reads: [0, 6, 1, 4, 3, 7]\n",
      "[0, 6, 1, 4, 3, 7]\n",
      "counter_factual monte carlo on size 5: 6\n",
      "1\n"
     ]
    },
    {
     "data": {
      "application/vnd.jupyter.widget-view+json": {
       "model_id": "e8bc4f2135c042bea16dbae9e95850aa",
       "version_major": 2,
       "version_minor": 0
      },
      "text/plain": [
       "  0%|          | 0/1 [00:00<?, ?it/s]"
      ]
     },
     "metadata": {},
     "output_type": "display_data"
    },
    {
     "name": "stdout",
     "output_type": "stream",
     "text": [
      "1\n",
      "5\n",
      "Change dominating species from Homo Sapiens to Denisovan would require removing 5 reads: [6, 0, 1, 2, 3]\n",
      "[6, 0, 1, 2, 3]\n",
      "counter_factual shap on size 5: 5\n",
      "Change dominating species from Homo Sapiens to Denisovan would require removing 4 reads: [7, 1, 3, 0]\n",
      "[7, 1, 3, 0]\n",
      "counter_factual monte carlo on size 10: 4\n",
      "1\n"
     ]
    },
    {
     "data": {
      "application/vnd.jupyter.widget-view+json": {
       "model_id": "bc652e377ad14a90b72e95ef3b1e33c6",
       "version_major": 2,
       "version_minor": 0
      },
      "text/plain": [
       "  0%|          | 0/1 [00:00<?, ?it/s]"
      ]
     },
     "metadata": {},
     "output_type": "display_data"
    },
    {
     "name": "stdout",
     "output_type": "stream",
     "text": [
      "1\n",
      "10\n",
      "Change dominating species from Homo Sapiens to Denisovan would require removing 5 reads: [2, 7, 0, 1, 3]\n",
      "[2, 7, 0, 1, 3]\n",
      "counter_factual shap on size 10: 5\n",
      "Change dominating species from Homo Sapiens to Denisovan would require removing 4 reads: [6, 0, 3, 1]\n",
      "[6, 0, 3, 1]\n",
      "counter_factual monte carlo on size 20: 4\n",
      "1\n"
     ]
    },
    {
     "data": {
      "application/vnd.jupyter.widget-view+json": {
       "model_id": "e53772fb93244b9eacbacf13058b0c8e",
       "version_major": 2,
       "version_minor": 0
      },
      "text/plain": [
       "  0%|          | 0/1 [00:00<?, ?it/s]"
      ]
     },
     "metadata": {},
     "output_type": "display_data"
    },
    {
     "name": "stdout",
     "output_type": "stream",
     "text": [
      "1\n",
      "20\n",
      "Change dominating species from Homo Sapiens to Denisovan would require removing 4 reads: [1, 7, 6, 0]\n",
      "[1, 7, 6, 0]\n",
      "counter_factual shap on size 20: 4\n",
      "Change dominating species from Homo Sapiens to Neanderthal would require removing 4 reads: [6, 7, 0, 3]\n",
      "[6, 7, 0, 3]\n",
      "counter_factual monte carlo on size 50: 4\n",
      "1\n"
     ]
    },
    {
     "data": {
      "application/vnd.jupyter.widget-view+json": {
       "model_id": "dc0bbc736ede442da564198a5139e470",
       "version_major": 2,
       "version_minor": 0
      },
      "text/plain": [
       "  0%|          | 0/1 [00:00<?, ?it/s]"
      ]
     },
     "metadata": {},
     "output_type": "display_data"
    },
    {
     "name": "stdout",
     "output_type": "stream",
     "text": [
      "1\n",
      "50\n",
      "Change dominating species from Homo Sapiens to Denisovan would require removing 4 reads: [7, 3, 6, 1]\n",
      "[7, 3, 6, 1]\n",
      "counter_factual shap on size 50: 4\n",
      "Change dominating species from Homo Sapiens to Denisovan would require removing 4 reads: [1, 0, 6, 7]\n",
      "[1, 0, 6, 7]\n",
      "counter_factual monte carlo on size 100: 4\n",
      "1\n"
     ]
    },
    {
     "data": {
      "application/vnd.jupyter.widget-view+json": {
       "model_id": "316002da46694c9b8335ed58ce835472",
       "version_major": 2,
       "version_minor": 0
      },
      "text/plain": [
       "  0%|          | 0/1 [00:00<?, ?it/s]"
      ]
     },
     "metadata": {},
     "output_type": "display_data"
    },
    {
     "name": "stdout",
     "output_type": "stream",
     "text": [
      "1\n",
      "100\n",
      "Change dominating species from Homo Sapiens to Neanderthal would require removing 4 reads: [3, 0, 6, 7]\n",
      "[3, 0, 6, 7]\n",
      "counter_factual shap on size 100: 4\n",
      "Change dominating species from Homo Sapiens to Neanderthal would require removing 4 reads: [0, 3, 6, 7]\n",
      "[0, 3, 6, 7]\n",
      "counter_factual monte carlo on size 200: 4\n",
      "1\n"
     ]
    },
    {
     "data": {
      "application/vnd.jupyter.widget-view+json": {
       "model_id": "e0cb718da7da42c38d2375f5a3ca9844",
       "version_major": 2,
       "version_minor": 0
      },
      "text/plain": [
       "  0%|          | 0/1 [00:00<?, ?it/s]"
      ]
     },
     "metadata": {},
     "output_type": "display_data"
    },
    {
     "name": "stdout",
     "output_type": "stream",
     "text": [
      "1\n",
      "200\n",
      "Change dominating species from Homo Sapiens to Denisovan would require removing 4 reads: [1, 0, 3, 7]\n",
      "[1, 0, 3, 7]\n",
      "counter_factual shap on size 200: 4\n",
      "Change dominating species from Homo Sapiens to Neanderthal would require removing 4 reads: [6, 3, 0, 7]\n",
      "[6, 3, 0, 7]\n",
      "counter_factual monte carlo on size 500: 4\n",
      "1\n"
     ]
    },
    {
     "data": {
      "application/vnd.jupyter.widget-view+json": {
       "model_id": "75ffae90dea84b0eb87179b9b0b348b0",
       "version_major": 2,
       "version_minor": 0
      },
      "text/plain": [
       "  0%|          | 0/1 [00:00<?, ?it/s]"
      ]
     },
     "metadata": {},
     "output_type": "display_data"
    },
    {
     "name": "stdout",
     "output_type": "stream",
     "text": [
      "1\n",
      "500\n",
      "Change dominating species from Homo Sapiens to Neanderthal would require removing 4 reads: [3, 0, 7, 6]\n",
      "[3, 0, 7, 6]\n",
      "counter_factual shap on size 500: 4\n",
      "Change dominating species from Homo Sapiens to Neanderthal would require removing 4 reads: [6, 3, 0, 7]\n",
      "[6, 3, 0, 7]\n",
      "counter_factualA_s_d: 4\n",
      "[(10, 1, 1, 6, [(1, 10), (5, 10), (10, 10), (20, 11), (50, 7), (100, 6), (200, 6), (500, 7)], [(1, 9), (5, 6), (10, 8), (20, 6), (50, 7), (100, 7), (200, 7), (500, 7)], 7), (5, 4, 3, 3, [(1, 5), (5, 5), (10, 5), (20, 5), (50, 3), (100, 3), (200, 3), (500, 3)], [(1, 4), (5, 3), (10, 3), (20, 3), (50, 3), (100, 3), (200, 3), (500, 3)], 3), (2, 6, 4, 1, [(1, 3), (5, 3), (10, 2), (20, 1), (50, 1), (100, 1), (200, 1), (500, 1)], [(1, 3), (5, 1), (10, 1), (20, 1), (50, 1), (100, 1), (200, 1), (500, 1)], 1), (4, 5, 3, 2, [(1, 3), (5, 2), (10, 2), (20, 2), (50, 2), (100, 2), (200, 2), (500, 2)], [(1, 2), (5, 2), (10, 2), (20, 2), (50, 2), (100, 2), (200, 2), (500, 2)], 2), (9, 2, 1, 3, [(1, 8), (5, 7), (10, 7), (20, 9), (50, 5), (100, 5), (200, 6), (500, 5)], [(1, 4), (5, 6), (10, 5), (20, 5), (50, 4), (100, 4), (200, 4), (500, 5)], 6), (6, 4, 2, 2, [(1, 5), (5, 5), (10, 3), (20, 2), (50, 2), (100, 2), (200, 2), (500, 2)], [(1, 2), (5, 2), (10, 2), (20, 2), (50, 2), (100, 2), (200, 2), (500, 2)], 2), (6, 4, 2, 3, [(1, 4), (5, 5), (10, 4), (20, 5), (50, 3), (100, 3), (200, 3), (500, 3)], [(1, 3), (5, 3), (10, 4), (20, 3), (50, 3), (100, 3), (200, 3), (500, 3)], 3), (2, 6, 4, 3, [(1, 6), (5, 6), (10, 6), (20, 5), (50, 3), (100, 3), (200, 3), (500, 3)], [(1, 5), (5, 4), (10, 3), (20, 3), (50, 3), (100, 3), (200, 3), (500, 3)], 3), (0, 8, 4, 3, [(1, 5), (5, 5), (10, 7), (20, 4), (50, 4), (100, 3), (200, 3), (500, 3)], [(1, 3), (5, 3), (10, 3), (20, 3), (50, 4), (100, 3), (200, 3), (500, 3)], 3), (4, 5, 3, 4, [(1, 4), (5, 4), (10, 4), (20, 6), (50, 4), (100, 4), (200, 4), (500, 4)], [(1, 5), (5, 4), (10, 5), (20, 4), (50, 4), (100, 4), (200, 4), (500, 4)], 4), (3, 6, 3, 2, [(1, 2), (5, 2), (10, 2), (20, 2), (50, 2), (100, 2), (200, 2), (500, 2)], [(1, 4), (5, 2), (10, 2), (20, 2), (50, 2), (100, 2), (200, 2), (500, 2)], 2), (3, 6, 3, 4, [(1, 8), (5, 6), (10, 8), (20, 8), (50, 4), (100, 4), (200, 4), (500, 4)], [(1, 8), (5, 6), (10, 5), (20, 4), (50, 4), (100, 4), (200, 4), (500, 4)], 4), (5, 4, 3, 3, [(1, 8), (5, 8), (10, 8), (20, 4), (50, 4), (100, 4), (200, 3), (500, 3)], [(1, 5), (5, 5), (10, 5), (20, 4), (50, 4), (100, 3), (200, 3), (500, 3)], 3), (11, 0, 1, 3, [(1, 11), (5, 11), (10, 7), (20, 8), (50, 4), (100, 4), (200, 3), (500, 3)], [(1, 3), (5, 4), (10, 3), (20, 4), (50, 4), (100, 4), (200, 3), (500, 4)], 3), (4, 5, 3, 2, [(1, 9), (5, 8), (10, 9), (20, 3), (50, 4), (100, 2), (200, 2), (500, 2)], [(1, 4), (5, 2), (10, 2), (20, 2), (50, 2), (100, 2), (200, 2), (500, 2)], 2), (2, 6, 4, 3, [(1, 5), (5, 6), (10, 3), (20, 4), (50, 3), (100, 3), (200, 3), (500, 3)], [(1, 3), (5, 3), (10, 4), (20, 3), (50, 3), (100, 3), (200, 3), (500, 3)], 3), (0, 8, 4, 1, [(1, 3), (5, 1), (10, 2), (20, 1), (50, 1), (100, 1), (200, 1), (500, 1)], [(1, 1), (5, 1), (10, 1), (20, 1), (50, 1), (100, 1), (200, 1), (500, 1)], 1), (2, 6, 4, 2, [(1, 6), (5, 6), (10, 6), (20, 2), (50, 2), (100, 2), (200, 2), (500, 2)], [(1, 2), (5, 3), (10, 2), (20, 2), (50, 2), (100, 2), (200, 2), (500, 2)], 2), (5, 4, 3, 2, [(1, 3), (5, 3), (10, 3), (20, 2), (50, 2), (100, 2), (200, 2), (500, 2)], [(1, 3), (5, 3), (10, 2), (20, 2), (50, 2), (100, 2), (200, 2), (500, 2)], 2), (1, 7, 4, 1, [(1, 4), (5, 1), (10, 1), (20, 1), (50, 1), (100, 1), (200, 1), (500, 1)], [(1, 2), (5, 1), (10, 1), (20, 1), (50, 1), (100, 1), (200, 1), (500, 1)], 1), (9, 2, 1, 2, [(1, 7), (5, 8), (10, 2), (20, 2), (50, 3), (100, 2), (200, 2), (500, 2)], [(1, 2), (5, 2), (10, 2), (20, 2), (50, 2), (100, 2), (200, 2), (500, 2)], 2), (11, 0, 1, 7, [(1, 10), (5, 10), (10, 9), (20, 10), (50, 10), (100, 7), (200, 7), (500, 7)], [(1, 10), (5, 7), (10, 7), (20, 7), (50, 7), (100, 7), (200, 7), (500, 7)], 7), (3, 6, 3, 1, [(1, 7), (5, 8), (10, 1), (20, 1), (50, 1), (100, 1), (200, 1), (500, 1)], [(1, 2), (5, 1), (10, 1), (20, 1), (50, 1), (100, 1), (200, 1), (500, 1)], 1), (7, 3, 2, 1, [(1, 2), (5, 2), (10, 2), (20, 2), (50, 1), (100, 1), (200, 1), (500, 1)], [(1, 1), (5, 1), (10, 1), (20, 1), (50, 1), (100, 1), (200, 1), (500, 1)], 1), (9, 2, 1, 2, [(1, 3), (5, 4), (10, 3), (20, 2), (50, 2), (100, 2), (200, 2), (500, 2)], [(1, 2), (5, 2), (10, 2), (20, 3), (50, 2), (100, 3), (200, 3), (500, 2)], 2), (8, 2, 2, 4, [(1, 8), (5, 5), (10, 5), (20, 4), (50, 4), (100, 4), (200, 4), (500, 4)], [(1, 4), (5, 6), (10, 4), (20, 4), (50, 4), (100, 4), (200, 4), (500, 4)], 4)]\n",
      "new experiment: 26\n",
      "11 0 1\n",
      "\u001b[34mLoading sequences and calculating alignments to all references, this might take a while. Number of reads: \u001b[0m 12\n",
      "start working on read number 0\n",
      "working on size:  0\n",
      "working on size:  1\n",
      "working on size:  2\n",
      "working on size:  3\n",
      "working on size:  4\n",
      "working on size:  5\n",
      "working on size:  6\n",
      "working on size:  7\n",
      "working on size:  8\n",
      "groundtruth: 8\n",
      "groundtruth values: [0, 1, 2, 3, 4, 6, 8, 9]\n",
      "Change dominating species from Homo Sapiens to Denisovan would require removing 10 reads: [3, 0, 1, 2, 4, 5, 6, 7, 8, 9]\n",
      "[3, 0, 1, 2, 4, 5, 6, 7, 8, 9]\n",
      "counter_factual monte carlo on size 1: 10\n",
      "1\n"
     ]
    },
    {
     "data": {
      "application/vnd.jupyter.widget-view+json": {
       "model_id": "8b9f4ce6725d4ca9a8392436c1b7afac",
       "version_major": 2,
       "version_minor": 0
      },
      "text/plain": [
       "  0%|          | 0/1 [00:00<?, ?it/s]"
      ]
     },
     "metadata": {},
     "output_type": "display_data"
    },
    {
     "name": "stdout",
     "output_type": "stream",
     "text": [
      "1\n",
      "1\n",
      "Change dominating species from Homo Sapiens to Denisovan would require removing 10 reads: [0, 1, 2, 3, 4, 5, 6, 7, 8, 9]\n",
      "[0, 1, 2, 3, 4, 5, 6, 7, 8, 9]\n",
      "counter_factual shap on size 1: 10\n",
      "Change dominating species from Homo Sapiens to Neanderthal would require removing 9 reads: [6, 8, 4, 0, 1, 2, 3, 5, 9]\n",
      "[6, 8, 4, 0, 1, 2, 3, 5, 9]\n",
      "counter_factual monte carlo on size 5: 9\n",
      "1\n"
     ]
    },
    {
     "data": {
      "application/vnd.jupyter.widget-view+json": {
       "model_id": "54ae7af8f3fd43e6a48758d6335aa33b",
       "version_major": 2,
       "version_minor": 0
      },
      "text/plain": [
       "  0%|          | 0/1 [00:00<?, ?it/s]"
      ]
     },
     "metadata": {},
     "output_type": "display_data"
    },
    {
     "name": "stdout",
     "output_type": "stream",
     "text": [
      "1\n",
      "5\n",
      "Change dominating species from Homo Sapiens to Denisovan would require removing 10 reads: [1, 3, 0, 2, 4, 5, 6, 7, 8, 9]\n",
      "[1, 3, 0, 2, 4, 5, 6, 7, 8, 9]\n",
      "counter_factual shap on size 5: 10\n",
      "Change dominating species from Homo Sapiens to Neanderthal would require removing 9 reads: [3, 6, 0, 8, 9, 5, 1, 2, 4]\n",
      "[3, 6, 0, 8, 9, 5, 1, 2, 4]\n",
      "counter_factual monte carlo on size 10: 9\n",
      "1\n"
     ]
    },
    {
     "data": {
      "application/vnd.jupyter.widget-view+json": {
       "model_id": "544a19c1529844ca9de8405c0e669ad3",
       "version_major": 2,
       "version_minor": 0
      },
      "text/plain": [
       "  0%|          | 0/1 [00:00<?, ?it/s]"
      ]
     },
     "metadata": {},
     "output_type": "display_data"
    },
    {
     "name": "stdout",
     "output_type": "stream",
     "text": [
      "1\n",
      "10\n",
      "Change dominating species from Homo Sapiens to Denisovan would require removing 10 reads: [0, 9, 1, 2, 3, 4, 5, 6, 7, 8]\n",
      "[0, 9, 1, 2, 3, 4, 5, 6, 7, 8]\n",
      "counter_factual shap on size 10: 10\n",
      "Change dominating species from Homo Sapiens to Neanderthal would require removing 9 reads: [3, 8, 9, 2, 1, 6, 5, 0, 4]\n",
      "[3, 8, 9, 2, 1, 6, 5, 0, 4]\n",
      "counter_factual monte carlo on size 20: 9\n",
      "1\n"
     ]
    },
    {
     "data": {
      "application/vnd.jupyter.widget-view+json": {
       "model_id": "bdf78d1d76c14ed09c35d6f9a2d09bf4",
       "version_major": 2,
       "version_minor": 0
      },
      "text/plain": [
       "  0%|          | 0/1 [00:00<?, ?it/s]"
      ]
     },
     "metadata": {},
     "output_type": "display_data"
    },
    {
     "name": "stdout",
     "output_type": "stream",
     "text": [
      "1\n",
      "20\n",
      "Change dominating species from Homo Sapiens to Neanderthal would require removing 8 reads: [6, 2, 8, 9, 0, 1, 3, 4]\n",
      "[6, 2, 8, 9, 0, 1, 3, 4]\n",
      "counter_factual shap on size 20: 8\n",
      "Change dominating species from Homo Sapiens to Neanderthal would require removing 8 reads: [1, 9, 2, 8, 0, 3, 6, 4]\n",
      "[1, 9, 2, 8, 0, 3, 6, 4]\n",
      "counter_factual monte carlo on size 50: 8\n",
      "1\n"
     ]
    },
    {
     "data": {
      "application/vnd.jupyter.widget-view+json": {
       "model_id": "a9effa3a886e4bffb8f36f012715761b",
       "version_major": 2,
       "version_minor": 0
      },
      "text/plain": [
       "  0%|          | 0/1 [00:00<?, ?it/s]"
      ]
     },
     "metadata": {},
     "output_type": "display_data"
    },
    {
     "name": "stdout",
     "output_type": "stream",
     "text": [
      "1\n",
      "50\n",
      "Change dominating species from Homo Sapiens to Neanderthal would require removing 11 reads: [4, 6, 11, 1, 10, 3, 8, 0, 2, 7, 9]\n",
      "[4, 6, 11, 1, 10, 3, 8, 0, 2, 7, 9]\n",
      "counter_factual shap on size 50: 11\n",
      "Change dominating species from Homo Sapiens to Neanderthal would require removing 8 reads: [3, 0, 4, 8, 6, 2, 9, 1]\n",
      "[3, 0, 4, 8, 6, 2, 9, 1]\n",
      "counter_factual monte carlo on size 100: 8\n",
      "1\n"
     ]
    },
    {
     "data": {
      "application/vnd.jupyter.widget-view+json": {
       "model_id": "b3b7fc94b48a4b989e047a2805914367",
       "version_major": 2,
       "version_minor": 0
      },
      "text/plain": [
       "  0%|          | 0/1 [00:00<?, ?it/s]"
      ]
     },
     "metadata": {},
     "output_type": "display_data"
    },
    {
     "name": "stdout",
     "output_type": "stream",
     "text": [
      "1\n",
      "100\n",
      "Change dominating species from Homo Sapiens to Neanderthal would require removing 8 reads: [1, 4, 8, 3, 0, 2, 9, 6]\n",
      "[1, 4, 8, 3, 0, 2, 9, 6]\n",
      "counter_factual shap on size 100: 8\n",
      "Change dominating species from Homo Sapiens to Neanderthal would require removing 8 reads: [3, 1, 9, 8, 2, 0, 4, 6]\n",
      "[3, 1, 9, 8, 2, 0, 4, 6]\n",
      "counter_factual monte carlo on size 200: 8\n",
      "1\n"
     ]
    },
    {
     "data": {
      "application/vnd.jupyter.widget-view+json": {
       "model_id": "11665a7d64234d35a702d78ebc15e630",
       "version_major": 2,
       "version_minor": 0
      },
      "text/plain": [
       "  0%|          | 0/1 [00:00<?, ?it/s]"
      ]
     },
     "metadata": {},
     "output_type": "display_data"
    },
    {
     "name": "stdout",
     "output_type": "stream",
     "text": [
      "1\n",
      "200\n",
      "Change dominating species from Homo Sapiens to Neanderthal would require removing 8 reads: [4, 0, 2, 3, 8, 9, 6, 1]\n",
      "[4, 0, 2, 3, 8, 9, 6, 1]\n",
      "counter_factual shap on size 200: 8\n",
      "Change dominating species from Homo Sapiens to Neanderthal would require removing 8 reads: [6, 2, 0, 3, 1, 9, 8, 4]\n",
      "[6, 2, 0, 3, 1, 9, 8, 4]\n",
      "counter_factual monte carlo on size 500: 8\n",
      "1\n"
     ]
    },
    {
     "data": {
      "application/vnd.jupyter.widget-view+json": {
       "model_id": "d5c4562fb71341bd8ce6a373f5d5f969",
       "version_major": 2,
       "version_minor": 0
      },
      "text/plain": [
       "  0%|          | 0/1 [00:00<?, ?it/s]"
      ]
     },
     "metadata": {},
     "output_type": "display_data"
    },
    {
     "name": "stdout",
     "output_type": "stream",
     "text": [
      "1\n",
      "500\n",
      "Change dominating species from Homo Sapiens to Neanderthal would require removing 8 reads: [0, 2, 1, 9, 8, 4, 3, 6]\n",
      "[0, 2, 1, 9, 8, 4, 3, 6]\n",
      "counter_factual shap on size 500: 8\n",
      "Change dominating species from Homo Sapiens to Neanderthal would require removing 8 reads: [0, 2, 9, 8, 1, 6, 4, 3]\n",
      "[0, 2, 9, 8, 1, 6, 4, 3]\n",
      "counter_factualA_s_d: 8\n",
      "[(10, 1, 1, 6, [(1, 10), (5, 10), (10, 10), (20, 11), (50, 7), (100, 6), (200, 6), (500, 7)], [(1, 9), (5, 6), (10, 8), (20, 6), (50, 7), (100, 7), (200, 7), (500, 7)], 7), (5, 4, 3, 3, [(1, 5), (5, 5), (10, 5), (20, 5), (50, 3), (100, 3), (200, 3), (500, 3)], [(1, 4), (5, 3), (10, 3), (20, 3), (50, 3), (100, 3), (200, 3), (500, 3)], 3), (2, 6, 4, 1, [(1, 3), (5, 3), (10, 2), (20, 1), (50, 1), (100, 1), (200, 1), (500, 1)], [(1, 3), (5, 1), (10, 1), (20, 1), (50, 1), (100, 1), (200, 1), (500, 1)], 1), (4, 5, 3, 2, [(1, 3), (5, 2), (10, 2), (20, 2), (50, 2), (100, 2), (200, 2), (500, 2)], [(1, 2), (5, 2), (10, 2), (20, 2), (50, 2), (100, 2), (200, 2), (500, 2)], 2), (9, 2, 1, 3, [(1, 8), (5, 7), (10, 7), (20, 9), (50, 5), (100, 5), (200, 6), (500, 5)], [(1, 4), (5, 6), (10, 5), (20, 5), (50, 4), (100, 4), (200, 4), (500, 5)], 6), (6, 4, 2, 2, [(1, 5), (5, 5), (10, 3), (20, 2), (50, 2), (100, 2), (200, 2), (500, 2)], [(1, 2), (5, 2), (10, 2), (20, 2), (50, 2), (100, 2), (200, 2), (500, 2)], 2), (6, 4, 2, 3, [(1, 4), (5, 5), (10, 4), (20, 5), (50, 3), (100, 3), (200, 3), (500, 3)], [(1, 3), (5, 3), (10, 4), (20, 3), (50, 3), (100, 3), (200, 3), (500, 3)], 3), (2, 6, 4, 3, [(1, 6), (5, 6), (10, 6), (20, 5), (50, 3), (100, 3), (200, 3), (500, 3)], [(1, 5), (5, 4), (10, 3), (20, 3), (50, 3), (100, 3), (200, 3), (500, 3)], 3), (0, 8, 4, 3, [(1, 5), (5, 5), (10, 7), (20, 4), (50, 4), (100, 3), (200, 3), (500, 3)], [(1, 3), (5, 3), (10, 3), (20, 3), (50, 4), (100, 3), (200, 3), (500, 3)], 3), (4, 5, 3, 4, [(1, 4), (5, 4), (10, 4), (20, 6), (50, 4), (100, 4), (200, 4), (500, 4)], [(1, 5), (5, 4), (10, 5), (20, 4), (50, 4), (100, 4), (200, 4), (500, 4)], 4), (3, 6, 3, 2, [(1, 2), (5, 2), (10, 2), (20, 2), (50, 2), (100, 2), (200, 2), (500, 2)], [(1, 4), (5, 2), (10, 2), (20, 2), (50, 2), (100, 2), (200, 2), (500, 2)], 2), (3, 6, 3, 4, [(1, 8), (5, 6), (10, 8), (20, 8), (50, 4), (100, 4), (200, 4), (500, 4)], [(1, 8), (5, 6), (10, 5), (20, 4), (50, 4), (100, 4), (200, 4), (500, 4)], 4), (5, 4, 3, 3, [(1, 8), (5, 8), (10, 8), (20, 4), (50, 4), (100, 4), (200, 3), (500, 3)], [(1, 5), (5, 5), (10, 5), (20, 4), (50, 4), (100, 3), (200, 3), (500, 3)], 3), (11, 0, 1, 3, [(1, 11), (5, 11), (10, 7), (20, 8), (50, 4), (100, 4), (200, 3), (500, 3)], [(1, 3), (5, 4), (10, 3), (20, 4), (50, 4), (100, 4), (200, 3), (500, 4)], 3), (4, 5, 3, 2, [(1, 9), (5, 8), (10, 9), (20, 3), (50, 4), (100, 2), (200, 2), (500, 2)], [(1, 4), (5, 2), (10, 2), (20, 2), (50, 2), (100, 2), (200, 2), (500, 2)], 2), (2, 6, 4, 3, [(1, 5), (5, 6), (10, 3), (20, 4), (50, 3), (100, 3), (200, 3), (500, 3)], [(1, 3), (5, 3), (10, 4), (20, 3), (50, 3), (100, 3), (200, 3), (500, 3)], 3), (0, 8, 4, 1, [(1, 3), (5, 1), (10, 2), (20, 1), (50, 1), (100, 1), (200, 1), (500, 1)], [(1, 1), (5, 1), (10, 1), (20, 1), (50, 1), (100, 1), (200, 1), (500, 1)], 1), (2, 6, 4, 2, [(1, 6), (5, 6), (10, 6), (20, 2), (50, 2), (100, 2), (200, 2), (500, 2)], [(1, 2), (5, 3), (10, 2), (20, 2), (50, 2), (100, 2), (200, 2), (500, 2)], 2), (5, 4, 3, 2, [(1, 3), (5, 3), (10, 3), (20, 2), (50, 2), (100, 2), (200, 2), (500, 2)], [(1, 3), (5, 3), (10, 2), (20, 2), (50, 2), (100, 2), (200, 2), (500, 2)], 2), (1, 7, 4, 1, [(1, 4), (5, 1), (10, 1), (20, 1), (50, 1), (100, 1), (200, 1), (500, 1)], [(1, 2), (5, 1), (10, 1), (20, 1), (50, 1), (100, 1), (200, 1), (500, 1)], 1), (9, 2, 1, 2, [(1, 7), (5, 8), (10, 2), (20, 2), (50, 3), (100, 2), (200, 2), (500, 2)], [(1, 2), (5, 2), (10, 2), (20, 2), (50, 2), (100, 2), (200, 2), (500, 2)], 2), (11, 0, 1, 7, [(1, 10), (5, 10), (10, 9), (20, 10), (50, 10), (100, 7), (200, 7), (500, 7)], [(1, 10), (5, 7), (10, 7), (20, 7), (50, 7), (100, 7), (200, 7), (500, 7)], 7), (3, 6, 3, 1, [(1, 7), (5, 8), (10, 1), (20, 1), (50, 1), (100, 1), (200, 1), (500, 1)], [(1, 2), (5, 1), (10, 1), (20, 1), (50, 1), (100, 1), (200, 1), (500, 1)], 1), (7, 3, 2, 1, [(1, 2), (5, 2), (10, 2), (20, 2), (50, 1), (100, 1), (200, 1), (500, 1)], [(1, 1), (5, 1), (10, 1), (20, 1), (50, 1), (100, 1), (200, 1), (500, 1)], 1), (9, 2, 1, 2, [(1, 3), (5, 4), (10, 3), (20, 2), (50, 2), (100, 2), (200, 2), (500, 2)], [(1, 2), (5, 2), (10, 2), (20, 3), (50, 2), (100, 3), (200, 3), (500, 2)], 2), (8, 2, 2, 4, [(1, 8), (5, 5), (10, 5), (20, 4), (50, 4), (100, 4), (200, 4), (500, 4)], [(1, 4), (5, 6), (10, 4), (20, 4), (50, 4), (100, 4), (200, 4), (500, 4)], 4), (11, 0, 1, 8, [(1, 10), (5, 10), (10, 10), (20, 8), (50, 11), (100, 8), (200, 8), (500, 8)], [(1, 10), (5, 9), (10, 9), (20, 9), (50, 8), (100, 8), (200, 8), (500, 8)], 8)]\n",
      "new experiment: 27\n",
      "6 4 2\n",
      "\u001b[34mLoading sequences and calculating alignments to all references, this might take a while. Number of reads: \u001b[0m 12\n",
      "start working on read number 0\n",
      "working on size:  0\n",
      "working on size:  1\n",
      "groundtruth: 1\n",
      "groundtruth values: [0]\n",
      "Change dominating species from Homo Sapiens to Neanderthal would require removing 1 reads: [3]\n",
      "[3]\n",
      "counter_factual monte carlo on size 1: 1\n",
      "1\n"
     ]
    },
    {
     "data": {
      "application/vnd.jupyter.widget-view+json": {
       "model_id": "7b9634b73d564ea688c860dc9929df5c",
       "version_major": 2,
       "version_minor": 0
      },
      "text/plain": [
       "  0%|          | 0/1 [00:00<?, ?it/s]"
      ]
     },
     "metadata": {},
     "output_type": "display_data"
    },
    {
     "name": "stdout",
     "output_type": "stream",
     "text": [
      "1\n",
      "1\n",
      "Change dominating species from Homo Sapiens to Neanderthal would require removing 1 reads: [0]\n",
      "[0]\n",
      "counter_factual shap on size 1: 1\n",
      "Change dominating species from Homo Sapiens to Neanderthal would require removing 1 reads: [0]\n",
      "[0]\n",
      "counter_factual monte carlo on size 5: 1\n",
      "1\n"
     ]
    },
    {
     "data": {
      "application/vnd.jupyter.widget-view+json": {
       "model_id": "b58f4441835d447ba0e492f9f2827274",
       "version_major": 2,
       "version_minor": 0
      },
      "text/plain": [
       "  0%|          | 0/1 [00:00<?, ?it/s]"
      ]
     },
     "metadata": {},
     "output_type": "display_data"
    },
    {
     "name": "stdout",
     "output_type": "stream",
     "text": [
      "1\n",
      "5\n",
      "Change dominating species from Homo Sapiens to Neanderthal would require removing 1 reads: [0]\n",
      "[0]\n",
      "counter_factual shap on size 5: 1\n",
      "Change dominating species from Homo Sapiens to Neanderthal would require removing 1 reads: [0]\n",
      "[0]\n",
      "counter_factual monte carlo on size 10: 1\n",
      "1\n"
     ]
    },
    {
     "data": {
      "application/vnd.jupyter.widget-view+json": {
       "model_id": "d5c04b0aaef9497e9069add9f8791b02",
       "version_major": 2,
       "version_minor": 0
      },
      "text/plain": [
       "  0%|          | 0/1 [00:00<?, ?it/s]"
      ]
     },
     "metadata": {},
     "output_type": "display_data"
    },
    {
     "name": "stdout",
     "output_type": "stream",
     "text": [
      "1\n",
      "10\n",
      "Change dominating species from Homo Sapiens to Neanderthal would require removing 1 reads: [3]\n",
      "[3]\n",
      "counter_factual shap on size 10: 1\n",
      "Change dominating species from Homo Sapiens to Neanderthal would require removing 1 reads: [0]\n",
      "[0]\n",
      "counter_factual monte carlo on size 20: 1\n",
      "1\n"
     ]
    },
    {
     "data": {
      "application/vnd.jupyter.widget-view+json": {
       "model_id": "ab1f960592db44d8b4ba269d65248105",
       "version_major": 2,
       "version_minor": 0
      },
      "text/plain": [
       "  0%|          | 0/1 [00:00<?, ?it/s]"
      ]
     },
     "metadata": {},
     "output_type": "display_data"
    },
    {
     "name": "stdout",
     "output_type": "stream",
     "text": [
      "1\n",
      "20\n",
      "Change dominating species from Homo Sapiens to Neanderthal would require removing 1 reads: [4]\n",
      "[4]\n",
      "counter_factual shap on size 20: 1\n",
      "Change dominating species from Homo Sapiens to Neanderthal would require removing 1 reads: [4]\n",
      "[4]\n",
      "counter_factual monte carlo on size 50: 1\n",
      "1\n"
     ]
    },
    {
     "data": {
      "application/vnd.jupyter.widget-view+json": {
       "model_id": "73e8432cbcd743f09d825cf4cd92fef1",
       "version_major": 2,
       "version_minor": 0
      },
      "text/plain": [
       "  0%|          | 0/1 [00:00<?, ?it/s]"
      ]
     },
     "metadata": {},
     "output_type": "display_data"
    },
    {
     "name": "stdout",
     "output_type": "stream",
     "text": [
      "1\n",
      "50\n",
      "Change dominating species from Homo Sapiens to Neanderthal would require removing 1 reads: [0]\n",
      "[0]\n",
      "counter_factual shap on size 50: 1\n",
      "Change dominating species from Homo Sapiens to Neanderthal would require removing 1 reads: [3]\n",
      "[3]\n",
      "counter_factual monte carlo on size 100: 1\n",
      "1\n"
     ]
    },
    {
     "data": {
      "application/vnd.jupyter.widget-view+json": {
       "model_id": "589d4bb3fa4a4e6eb5c5cfc5fdb0711c",
       "version_major": 2,
       "version_minor": 0
      },
      "text/plain": [
       "  0%|          | 0/1 [00:00<?, ?it/s]"
      ]
     },
     "metadata": {},
     "output_type": "display_data"
    },
    {
     "name": "stdout",
     "output_type": "stream",
     "text": [
      "1\n",
      "100\n",
      "Change dominating species from Homo Sapiens to Neanderthal would require removing 1 reads: [4]\n",
      "[4]\n",
      "counter_factual shap on size 100: 1\n",
      "Change dominating species from Homo Sapiens to Neanderthal would require removing 1 reads: [3]\n",
      "[3]\n",
      "counter_factual monte carlo on size 200: 1\n",
      "1\n"
     ]
    },
    {
     "data": {
      "application/vnd.jupyter.widget-view+json": {
       "model_id": "caa445e3d80042299011bcf9167698c9",
       "version_major": 2,
       "version_minor": 0
      },
      "text/plain": [
       "  0%|          | 0/1 [00:00<?, ?it/s]"
      ]
     },
     "metadata": {},
     "output_type": "display_data"
    },
    {
     "name": "stdout",
     "output_type": "stream",
     "text": [
      "1\n",
      "200\n",
      "Change dominating species from Homo Sapiens to Neanderthal would require removing 1 reads: [4]\n",
      "[4]\n",
      "counter_factual shap on size 200: 1\n",
      "Change dominating species from Homo Sapiens to Neanderthal would require removing 1 reads: [4]\n",
      "[4]\n",
      "counter_factual monte carlo on size 500: 1\n",
      "1\n"
     ]
    },
    {
     "data": {
      "application/vnd.jupyter.widget-view+json": {
       "model_id": "aea8bf5d541343dbb4c81d0791397f4c",
       "version_major": 2,
       "version_minor": 0
      },
      "text/plain": [
       "  0%|          | 0/1 [00:00<?, ?it/s]"
      ]
     },
     "metadata": {},
     "output_type": "display_data"
    },
    {
     "name": "stdout",
     "output_type": "stream",
     "text": [
      "1\n",
      "500\n",
      "Change dominating species from Homo Sapiens to Neanderthal would require removing 1 reads: [4]\n",
      "[4]\n",
      "counter_factual shap on size 500: 1\n",
      "Change dominating species from Homo Sapiens to Neanderthal would require removing 1 reads: [4]\n",
      "[4]\n",
      "counter_factualA_s_d: 1\n",
      "[(10, 1, 1, 6, [(1, 10), (5, 10), (10, 10), (20, 11), (50, 7), (100, 6), (200, 6), (500, 7)], [(1, 9), (5, 6), (10, 8), (20, 6), (50, 7), (100, 7), (200, 7), (500, 7)], 7), (5, 4, 3, 3, [(1, 5), (5, 5), (10, 5), (20, 5), (50, 3), (100, 3), (200, 3), (500, 3)], [(1, 4), (5, 3), (10, 3), (20, 3), (50, 3), (100, 3), (200, 3), (500, 3)], 3), (2, 6, 4, 1, [(1, 3), (5, 3), (10, 2), (20, 1), (50, 1), (100, 1), (200, 1), (500, 1)], [(1, 3), (5, 1), (10, 1), (20, 1), (50, 1), (100, 1), (200, 1), (500, 1)], 1), (4, 5, 3, 2, [(1, 3), (5, 2), (10, 2), (20, 2), (50, 2), (100, 2), (200, 2), (500, 2)], [(1, 2), (5, 2), (10, 2), (20, 2), (50, 2), (100, 2), (200, 2), (500, 2)], 2), (9, 2, 1, 3, [(1, 8), (5, 7), (10, 7), (20, 9), (50, 5), (100, 5), (200, 6), (500, 5)], [(1, 4), (5, 6), (10, 5), (20, 5), (50, 4), (100, 4), (200, 4), (500, 5)], 6), (6, 4, 2, 2, [(1, 5), (5, 5), (10, 3), (20, 2), (50, 2), (100, 2), (200, 2), (500, 2)], [(1, 2), (5, 2), (10, 2), (20, 2), (50, 2), (100, 2), (200, 2), (500, 2)], 2), (6, 4, 2, 3, [(1, 4), (5, 5), (10, 4), (20, 5), (50, 3), (100, 3), (200, 3), (500, 3)], [(1, 3), (5, 3), (10, 4), (20, 3), (50, 3), (100, 3), (200, 3), (500, 3)], 3), (2, 6, 4, 3, [(1, 6), (5, 6), (10, 6), (20, 5), (50, 3), (100, 3), (200, 3), (500, 3)], [(1, 5), (5, 4), (10, 3), (20, 3), (50, 3), (100, 3), (200, 3), (500, 3)], 3), (0, 8, 4, 3, [(1, 5), (5, 5), (10, 7), (20, 4), (50, 4), (100, 3), (200, 3), (500, 3)], [(1, 3), (5, 3), (10, 3), (20, 3), (50, 4), (100, 3), (200, 3), (500, 3)], 3), (4, 5, 3, 4, [(1, 4), (5, 4), (10, 4), (20, 6), (50, 4), (100, 4), (200, 4), (500, 4)], [(1, 5), (5, 4), (10, 5), (20, 4), (50, 4), (100, 4), (200, 4), (500, 4)], 4), (3, 6, 3, 2, [(1, 2), (5, 2), (10, 2), (20, 2), (50, 2), (100, 2), (200, 2), (500, 2)], [(1, 4), (5, 2), (10, 2), (20, 2), (50, 2), (100, 2), (200, 2), (500, 2)], 2), (3, 6, 3, 4, [(1, 8), (5, 6), (10, 8), (20, 8), (50, 4), (100, 4), (200, 4), (500, 4)], [(1, 8), (5, 6), (10, 5), (20, 4), (50, 4), (100, 4), (200, 4), (500, 4)], 4), (5, 4, 3, 3, [(1, 8), (5, 8), (10, 8), (20, 4), (50, 4), (100, 4), (200, 3), (500, 3)], [(1, 5), (5, 5), (10, 5), (20, 4), (50, 4), (100, 3), (200, 3), (500, 3)], 3), (11, 0, 1, 3, [(1, 11), (5, 11), (10, 7), (20, 8), (50, 4), (100, 4), (200, 3), (500, 3)], [(1, 3), (5, 4), (10, 3), (20, 4), (50, 4), (100, 4), (200, 3), (500, 4)], 3), (4, 5, 3, 2, [(1, 9), (5, 8), (10, 9), (20, 3), (50, 4), (100, 2), (200, 2), (500, 2)], [(1, 4), (5, 2), (10, 2), (20, 2), (50, 2), (100, 2), (200, 2), (500, 2)], 2), (2, 6, 4, 3, [(1, 5), (5, 6), (10, 3), (20, 4), (50, 3), (100, 3), (200, 3), (500, 3)], [(1, 3), (5, 3), (10, 4), (20, 3), (50, 3), (100, 3), (200, 3), (500, 3)], 3), (0, 8, 4, 1, [(1, 3), (5, 1), (10, 2), (20, 1), (50, 1), (100, 1), (200, 1), (500, 1)], [(1, 1), (5, 1), (10, 1), (20, 1), (50, 1), (100, 1), (200, 1), (500, 1)], 1), (2, 6, 4, 2, [(1, 6), (5, 6), (10, 6), (20, 2), (50, 2), (100, 2), (200, 2), (500, 2)], [(1, 2), (5, 3), (10, 2), (20, 2), (50, 2), (100, 2), (200, 2), (500, 2)], 2), (5, 4, 3, 2, [(1, 3), (5, 3), (10, 3), (20, 2), (50, 2), (100, 2), (200, 2), (500, 2)], [(1, 3), (5, 3), (10, 2), (20, 2), (50, 2), (100, 2), (200, 2), (500, 2)], 2), (1, 7, 4, 1, [(1, 4), (5, 1), (10, 1), (20, 1), (50, 1), (100, 1), (200, 1), (500, 1)], [(1, 2), (5, 1), (10, 1), (20, 1), (50, 1), (100, 1), (200, 1), (500, 1)], 1), (9, 2, 1, 2, [(1, 7), (5, 8), (10, 2), (20, 2), (50, 3), (100, 2), (200, 2), (500, 2)], [(1, 2), (5, 2), (10, 2), (20, 2), (50, 2), (100, 2), (200, 2), (500, 2)], 2), (11, 0, 1, 7, [(1, 10), (5, 10), (10, 9), (20, 10), (50, 10), (100, 7), (200, 7), (500, 7)], [(1, 10), (5, 7), (10, 7), (20, 7), (50, 7), (100, 7), (200, 7), (500, 7)], 7), (3, 6, 3, 1, [(1, 7), (5, 8), (10, 1), (20, 1), (50, 1), (100, 1), (200, 1), (500, 1)], [(1, 2), (5, 1), (10, 1), (20, 1), (50, 1), (100, 1), (200, 1), (500, 1)], 1), (7, 3, 2, 1, [(1, 2), (5, 2), (10, 2), (20, 2), (50, 1), (100, 1), (200, 1), (500, 1)], [(1, 1), (5, 1), (10, 1), (20, 1), (50, 1), (100, 1), (200, 1), (500, 1)], 1), (9, 2, 1, 2, [(1, 3), (5, 4), (10, 3), (20, 2), (50, 2), (100, 2), (200, 2), (500, 2)], [(1, 2), (5, 2), (10, 2), (20, 3), (50, 2), (100, 3), (200, 3), (500, 2)], 2), (8, 2, 2, 4, [(1, 8), (5, 5), (10, 5), (20, 4), (50, 4), (100, 4), (200, 4), (500, 4)], [(1, 4), (5, 6), (10, 4), (20, 4), (50, 4), (100, 4), (200, 4), (500, 4)], 4), (11, 0, 1, 8, [(1, 10), (5, 10), (10, 10), (20, 8), (50, 11), (100, 8), (200, 8), (500, 8)], [(1, 10), (5, 9), (10, 9), (20, 9), (50, 8), (100, 8), (200, 8), (500, 8)], 8), (6, 4, 2, 1, [(1, 1), (5, 1), (10, 1), (20, 1), (50, 1), (100, 1), (200, 1), (500, 1)], [(1, 1), (5, 1), (10, 1), (20, 1), (50, 1), (100, 1), (200, 1), (500, 1)], 1)]\n",
      "new experiment: 28\n",
      "3 6 3\n",
      "\u001b[34mLoading sequences and calculating alignments to all references, this might take a while. Number of reads: \u001b[0m 12\n",
      "start working on read number 0\n",
      "working on size:  0\n",
      "working on size:  1\n",
      "working on size:  2\n",
      "groundtruth: 2\n",
      "groundtruth values: [2, 3]\n",
      "Change dominating species from Neanderthal to Homo Sapiens would require removing 2 reads: [11, 6]\n",
      "[11, 6]\n",
      "counter_factual monte carlo on size 1: 2\n",
      "1\n"
     ]
    },
    {
     "data": {
      "application/vnd.jupyter.widget-view+json": {
       "model_id": "d864ca496d1d4cd392f1d3e783f2a39d",
       "version_major": 2,
       "version_minor": 0
      },
      "text/plain": [
       "  0%|          | 0/1 [00:00<?, ?it/s]"
      ]
     },
     "metadata": {},
     "output_type": "display_data"
    },
    {
     "name": "stdout",
     "output_type": "stream",
     "text": [
      "1\n",
      "1\n",
      "Change dominating species from Neanderthal to Denisovan would require removing 6 reads: [0, 1, 2, 3, 4, 5]\n",
      "[0, 1, 2, 3, 4, 5]\n",
      "counter_factual shap on size 1: 6\n",
      "Change dominating species from Neanderthal to Homo Sapiens would require removing 2 reads: [2, 6]\n",
      "[2, 6]\n",
      "counter_factual monte carlo on size 5: 2\n",
      "1\n"
     ]
    },
    {
     "data": {
      "application/vnd.jupyter.widget-view+json": {
       "model_id": "cfafac9f878a4694bfb008c4776806f6",
       "version_major": 2,
       "version_minor": 0
      },
      "text/plain": [
       "  0%|          | 0/1 [00:00<?, ?it/s]"
      ]
     },
     "metadata": {},
     "output_type": "display_data"
    },
    {
     "name": "stdout",
     "output_type": "stream",
     "text": [
      "1\n",
      "5\n",
      "Change dominating species from Neanderthal to Denisovan would require removing 6 reads: [3, 0, 1, 4, 5, 6]\n",
      "[3, 0, 1, 4, 5, 6]\n",
      "counter_factual shap on size 5: 6\n",
      "Change dominating species from Neanderthal to Homo Sapiens would require removing 2 reads: [11, 3]\n",
      "[11, 3]\n",
      "counter_factual monte carlo on size 10: 2\n",
      "1\n"
     ]
    },
    {
     "data": {
      "application/vnd.jupyter.widget-view+json": {
       "model_id": "a4aa2fa928a24cac9e2074ed25b8a326",
       "version_major": 2,
       "version_minor": 0
      },
      "text/plain": [
       "  0%|          | 0/1 [00:00<?, ?it/s]"
      ]
     },
     "metadata": {},
     "output_type": "display_data"
    },
    {
     "name": "stdout",
     "output_type": "stream",
     "text": [
      "1\n",
      "10\n",
      "Change dominating species from Neanderthal to Denisovan would require removing 5 reads: [5, 4, 3, 0, 2]\n",
      "[5, 4, 3, 0, 2]\n",
      "counter_factual shap on size 10: 5\n",
      "Change dominating species from Neanderthal to Homo Sapiens would require removing 2 reads: [2, 6]\n",
      "[2, 6]\n",
      "counter_factual monte carlo on size 20: 2\n",
      "1\n"
     ]
    },
    {
     "data": {
      "application/vnd.jupyter.widget-view+json": {
       "model_id": "c45e3a9c14be485ab02774b2dffa3ba5",
       "version_major": 2,
       "version_minor": 0
      },
      "text/plain": [
       "  0%|          | 0/1 [00:00<?, ?it/s]"
      ]
     },
     "metadata": {},
     "output_type": "display_data"
    },
    {
     "name": "stdout",
     "output_type": "stream",
     "text": [
      "1\n",
      "20\n",
      "Change dominating species from Neanderthal to Homo Sapiens would require removing 2 reads: [2, 3]\n",
      "[2, 3]\n",
      "counter_factual shap on size 20: 2\n",
      "Change dominating species from Neanderthal to Homo Sapiens would require removing 2 reads: [6, 3]\n",
      "[6, 3]\n",
      "counter_factual monte carlo on size 50: 2\n",
      "1\n"
     ]
    },
    {
     "data": {
      "application/vnd.jupyter.widget-view+json": {
       "model_id": "0789c54de84a4b0bb4678eefc423808b",
       "version_major": 2,
       "version_minor": 0
      },
      "text/plain": [
       "  0%|          | 0/1 [00:00<?, ?it/s]"
      ]
     },
     "metadata": {},
     "output_type": "display_data"
    },
    {
     "name": "stdout",
     "output_type": "stream",
     "text": [
      "1\n",
      "50\n",
      "Change dominating species from Neanderthal to Homo Sapiens would require removing 2 reads: [3, 2]\n",
      "[3, 2]\n",
      "counter_factual shap on size 50: 2\n",
      "Change dominating species from Neanderthal to Homo Sapiens would require removing 2 reads: [3, 6]\n",
      "[3, 6]\n",
      "counter_factual monte carlo on size 100: 2\n",
      "1\n"
     ]
    },
    {
     "data": {
      "application/vnd.jupyter.widget-view+json": {
       "model_id": "bcdcf9fb47054eada92f8ce4a7955699",
       "version_major": 2,
       "version_minor": 0
      },
      "text/plain": [
       "  0%|          | 0/1 [00:00<?, ?it/s]"
      ]
     },
     "metadata": {},
     "output_type": "display_data"
    },
    {
     "name": "stdout",
     "output_type": "stream",
     "text": [
      "1\n",
      "100\n",
      "Change dominating species from Neanderthal to Homo Sapiens would require removing 2 reads: [3, 6]\n",
      "[3, 6]\n",
      "counter_factual shap on size 100: 2\n",
      "Change dominating species from Neanderthal to Homo Sapiens would require removing 2 reads: [6, 3]\n",
      "[6, 3]\n",
      "counter_factual monte carlo on size 200: 2\n",
      "1\n"
     ]
    },
    {
     "data": {
      "application/vnd.jupyter.widget-view+json": {
       "model_id": "c4f90f1ccc464a6fa3a0a7e797137c8a",
       "version_major": 2,
       "version_minor": 0
      },
      "text/plain": [
       "  0%|          | 0/1 [00:00<?, ?it/s]"
      ]
     },
     "metadata": {},
     "output_type": "display_data"
    },
    {
     "name": "stdout",
     "output_type": "stream",
     "text": [
      "1\n",
      "200\n",
      "Change dominating species from Neanderthal to Homo Sapiens would require removing 2 reads: [2, 3]\n",
      "[2, 3]\n",
      "counter_factual shap on size 200: 2\n",
      "Change dominating species from Neanderthal to Homo Sapiens would require removing 2 reads: [2, 6]\n",
      "[2, 6]\n",
      "counter_factual monte carlo on size 500: 2\n",
      "1\n"
     ]
    },
    {
     "data": {
      "application/vnd.jupyter.widget-view+json": {
       "model_id": "073481db625346f18e385a551113e4f2",
       "version_major": 2,
       "version_minor": 0
      },
      "text/plain": [
       "  0%|          | 0/1 [00:00<?, ?it/s]"
      ]
     },
     "metadata": {},
     "output_type": "display_data"
    },
    {
     "name": "stdout",
     "output_type": "stream",
     "text": [
      "1\n",
      "500\n",
      "Change dominating species from Neanderthal to Homo Sapiens would require removing 2 reads: [6, 2]\n",
      "[6, 2]\n",
      "counter_factual shap on size 500: 2\n",
      "Change dominating species from Neanderthal to Homo Sapiens would require removing 2 reads: [3, 6]\n",
      "[3, 6]\n",
      "counter_factualA_s_d: 2\n",
      "[(10, 1, 1, 6, [(1, 10), (5, 10), (10, 10), (20, 11), (50, 7), (100, 6), (200, 6), (500, 7)], [(1, 9), (5, 6), (10, 8), (20, 6), (50, 7), (100, 7), (200, 7), (500, 7)], 7), (5, 4, 3, 3, [(1, 5), (5, 5), (10, 5), (20, 5), (50, 3), (100, 3), (200, 3), (500, 3)], [(1, 4), (5, 3), (10, 3), (20, 3), (50, 3), (100, 3), (200, 3), (500, 3)], 3), (2, 6, 4, 1, [(1, 3), (5, 3), (10, 2), (20, 1), (50, 1), (100, 1), (200, 1), (500, 1)], [(1, 3), (5, 1), (10, 1), (20, 1), (50, 1), (100, 1), (200, 1), (500, 1)], 1), (4, 5, 3, 2, [(1, 3), (5, 2), (10, 2), (20, 2), (50, 2), (100, 2), (200, 2), (500, 2)], [(1, 2), (5, 2), (10, 2), (20, 2), (50, 2), (100, 2), (200, 2), (500, 2)], 2), (9, 2, 1, 3, [(1, 8), (5, 7), (10, 7), (20, 9), (50, 5), (100, 5), (200, 6), (500, 5)], [(1, 4), (5, 6), (10, 5), (20, 5), (50, 4), (100, 4), (200, 4), (500, 5)], 6), (6, 4, 2, 2, [(1, 5), (5, 5), (10, 3), (20, 2), (50, 2), (100, 2), (200, 2), (500, 2)], [(1, 2), (5, 2), (10, 2), (20, 2), (50, 2), (100, 2), (200, 2), (500, 2)], 2), (6, 4, 2, 3, [(1, 4), (5, 5), (10, 4), (20, 5), (50, 3), (100, 3), (200, 3), (500, 3)], [(1, 3), (5, 3), (10, 4), (20, 3), (50, 3), (100, 3), (200, 3), (500, 3)], 3), (2, 6, 4, 3, [(1, 6), (5, 6), (10, 6), (20, 5), (50, 3), (100, 3), (200, 3), (500, 3)], [(1, 5), (5, 4), (10, 3), (20, 3), (50, 3), (100, 3), (200, 3), (500, 3)], 3), (0, 8, 4, 3, [(1, 5), (5, 5), (10, 7), (20, 4), (50, 4), (100, 3), (200, 3), (500, 3)], [(1, 3), (5, 3), (10, 3), (20, 3), (50, 4), (100, 3), (200, 3), (500, 3)], 3), (4, 5, 3, 4, [(1, 4), (5, 4), (10, 4), (20, 6), (50, 4), (100, 4), (200, 4), (500, 4)], [(1, 5), (5, 4), (10, 5), (20, 4), (50, 4), (100, 4), (200, 4), (500, 4)], 4), (3, 6, 3, 2, [(1, 2), (5, 2), (10, 2), (20, 2), (50, 2), (100, 2), (200, 2), (500, 2)], [(1, 4), (5, 2), (10, 2), (20, 2), (50, 2), (100, 2), (200, 2), (500, 2)], 2), (3, 6, 3, 4, [(1, 8), (5, 6), (10, 8), (20, 8), (50, 4), (100, 4), (200, 4), (500, 4)], [(1, 8), (5, 6), (10, 5), (20, 4), (50, 4), (100, 4), (200, 4), (500, 4)], 4), (5, 4, 3, 3, [(1, 8), (5, 8), (10, 8), (20, 4), (50, 4), (100, 4), (200, 3), (500, 3)], [(1, 5), (5, 5), (10, 5), (20, 4), (50, 4), (100, 3), (200, 3), (500, 3)], 3), (11, 0, 1, 3, [(1, 11), (5, 11), (10, 7), (20, 8), (50, 4), (100, 4), (200, 3), (500, 3)], [(1, 3), (5, 4), (10, 3), (20, 4), (50, 4), (100, 4), (200, 3), (500, 4)], 3), (4, 5, 3, 2, [(1, 9), (5, 8), (10, 9), (20, 3), (50, 4), (100, 2), (200, 2), (500, 2)], [(1, 4), (5, 2), (10, 2), (20, 2), (50, 2), (100, 2), (200, 2), (500, 2)], 2), (2, 6, 4, 3, [(1, 5), (5, 6), (10, 3), (20, 4), (50, 3), (100, 3), (200, 3), (500, 3)], [(1, 3), (5, 3), (10, 4), (20, 3), (50, 3), (100, 3), (200, 3), (500, 3)], 3), (0, 8, 4, 1, [(1, 3), (5, 1), (10, 2), (20, 1), (50, 1), (100, 1), (200, 1), (500, 1)], [(1, 1), (5, 1), (10, 1), (20, 1), (50, 1), (100, 1), (200, 1), (500, 1)], 1), (2, 6, 4, 2, [(1, 6), (5, 6), (10, 6), (20, 2), (50, 2), (100, 2), (200, 2), (500, 2)], [(1, 2), (5, 3), (10, 2), (20, 2), (50, 2), (100, 2), (200, 2), (500, 2)], 2), (5, 4, 3, 2, [(1, 3), (5, 3), (10, 3), (20, 2), (50, 2), (100, 2), (200, 2), (500, 2)], [(1, 3), (5, 3), (10, 2), (20, 2), (50, 2), (100, 2), (200, 2), (500, 2)], 2), (1, 7, 4, 1, [(1, 4), (5, 1), (10, 1), (20, 1), (50, 1), (100, 1), (200, 1), (500, 1)], [(1, 2), (5, 1), (10, 1), (20, 1), (50, 1), (100, 1), (200, 1), (500, 1)], 1), (9, 2, 1, 2, [(1, 7), (5, 8), (10, 2), (20, 2), (50, 3), (100, 2), (200, 2), (500, 2)], [(1, 2), (5, 2), (10, 2), (20, 2), (50, 2), (100, 2), (200, 2), (500, 2)], 2), (11, 0, 1, 7, [(1, 10), (5, 10), (10, 9), (20, 10), (50, 10), (100, 7), (200, 7), (500, 7)], [(1, 10), (5, 7), (10, 7), (20, 7), (50, 7), (100, 7), (200, 7), (500, 7)], 7), (3, 6, 3, 1, [(1, 7), (5, 8), (10, 1), (20, 1), (50, 1), (100, 1), (200, 1), (500, 1)], [(1, 2), (5, 1), (10, 1), (20, 1), (50, 1), (100, 1), (200, 1), (500, 1)], 1), (7, 3, 2, 1, [(1, 2), (5, 2), (10, 2), (20, 2), (50, 1), (100, 1), (200, 1), (500, 1)], [(1, 1), (5, 1), (10, 1), (20, 1), (50, 1), (100, 1), (200, 1), (500, 1)], 1), (9, 2, 1, 2, [(1, 3), (5, 4), (10, 3), (20, 2), (50, 2), (100, 2), (200, 2), (500, 2)], [(1, 2), (5, 2), (10, 2), (20, 3), (50, 2), (100, 3), (200, 3), (500, 2)], 2), (8, 2, 2, 4, [(1, 8), (5, 5), (10, 5), (20, 4), (50, 4), (100, 4), (200, 4), (500, 4)], [(1, 4), (5, 6), (10, 4), (20, 4), (50, 4), (100, 4), (200, 4), (500, 4)], 4), (11, 0, 1, 8, [(1, 10), (5, 10), (10, 10), (20, 8), (50, 11), (100, 8), (200, 8), (500, 8)], [(1, 10), (5, 9), (10, 9), (20, 9), (50, 8), (100, 8), (200, 8), (500, 8)], 8), (6, 4, 2, 1, [(1, 1), (5, 1), (10, 1), (20, 1), (50, 1), (100, 1), (200, 1), (500, 1)], [(1, 1), (5, 1), (10, 1), (20, 1), (50, 1), (100, 1), (200, 1), (500, 1)], 1), (3, 6, 3, 2, [(1, 6), (5, 6), (10, 5), (20, 2), (50, 2), (100, 2), (200, 2), (500, 2)], [(1, 2), (5, 2), (10, 2), (20, 2), (50, 2), (100, 2), (200, 2), (500, 2)], 2)]\n",
      "new experiment: 29\n",
      "6 4 2\n",
      "\u001b[34mLoading sequences and calculating alignments to all references, this might take a while. Number of reads: \u001b[0m 12\n",
      "start working on read number 0\n",
      "working on size:  0\n",
      "working on size:  1\n",
      "working on size:  2\n",
      "groundtruth: 2\n",
      "groundtruth values: [0, 10]\n",
      "Change dominating species from Homo Sapiens to Neanderthal would require removing 10 reads: [11, 8, 0, 9, 7, 1, 3, 5, 6, 10]\n",
      "[11, 8, 0, 9, 7, 1, 3, 5, 6, 10]\n",
      "counter_factual monte carlo on size 1: 10\n",
      "1\n"
     ]
    },
    {
     "data": {
      "application/vnd.jupyter.widget-view+json": {
       "model_id": "88be6ef2eaf040d3a62a0b60dee178d3",
       "version_major": 2,
       "version_minor": 0
      },
      "text/plain": [
       "  0%|          | 0/1 [00:00<?, ?it/s]"
      ]
     },
     "metadata": {},
     "output_type": "display_data"
    },
    {
     "name": "stdout",
     "output_type": "stream",
     "text": [
      "1\n",
      "1\n",
      "Change dominating species from Homo Sapiens to Denisovan would require removing 10 reads: [0, 1, 2, 3, 4, 5, 6, 7, 8, 9]\n",
      "[0, 1, 2, 3, 4, 5, 6, 7, 8, 9]\n",
      "counter_factual shap on size 1: 10\n",
      "Change dominating species from Homo Sapiens to Neanderthal would require removing 3 reads: [10, 7, 0]\n",
      "[10, 7, 0]\n",
      "counter_factual monte carlo on size 5: 3\n",
      "1\n"
     ]
    },
    {
     "data": {
      "application/vnd.jupyter.widget-view+json": {
       "model_id": "3a3583e5d14148f88c50470995d0ef6d",
       "version_major": 2,
       "version_minor": 0
      },
      "text/plain": [
       "  0%|          | 0/1 [00:00<?, ?it/s]"
      ]
     },
     "metadata": {},
     "output_type": "display_data"
    },
    {
     "name": "stdout",
     "output_type": "stream",
     "text": [
      "1\n",
      "5\n",
      "Change dominating species from Homo Sapiens to Denisovan would require removing 10 reads: [0, 1, 2, 3, 4, 5, 6, 7, 8, 9]\n",
      "[0, 1, 2, 3, 4, 5, 6, 7, 8, 9]\n",
      "counter_factual shap on size 5: 10\n",
      "Change dominating species from Homo Sapiens to Neanderthal would require removing 4 reads: [0, 7, 9, 10]\n",
      "[0, 7, 9, 10]\n",
      "counter_factual monte carlo on size 10: 4\n",
      "1\n"
     ]
    },
    {
     "data": {
      "application/vnd.jupyter.widget-view+json": {
       "model_id": "f12f2b8537914ff1926a8db65a73700d",
       "version_major": 2,
       "version_minor": 0
      },
      "text/plain": [
       "  0%|          | 0/1 [00:00<?, ?it/s]"
      ]
     },
     "metadata": {},
     "output_type": "display_data"
    },
    {
     "name": "stdout",
     "output_type": "stream",
     "text": [
      "1\n",
      "10\n",
      "Change dominating species from Homo Sapiens to Denisovan would require removing 10 reads: [0, 1, 2, 3, 4, 5, 6, 7, 8, 9]\n",
      "[0, 1, 2, 3, 4, 5, 6, 7, 8, 9]\n",
      "counter_factual shap on size 10: 10\n",
      "Change dominating species from Homo Sapiens to Neanderthal would require removing 4 reads: [0, 7, 8, 10]\n",
      "[0, 7, 8, 10]\n",
      "counter_factual monte carlo on size 20: 4\n",
      "1\n"
     ]
    },
    {
     "data": {
      "application/vnd.jupyter.widget-view+json": {
       "model_id": "b6e355ee124644d3b18409629047bedf",
       "version_major": 2,
       "version_minor": 0
      },
      "text/plain": [
       "  0%|          | 0/1 [00:00<?, ?it/s]"
      ]
     },
     "metadata": {},
     "output_type": "display_data"
    },
    {
     "name": "stdout",
     "output_type": "stream",
     "text": [
      "1\n",
      "20\n",
      "Change dominating species from Homo Sapiens to Denisovan would require removing 10 reads: [0, 7, 1, 2, 3, 4, 5, 6, 8, 9]\n",
      "[0, 7, 1, 2, 3, 4, 5, 6, 8, 9]\n",
      "counter_factual shap on size 20: 10\n",
      "Change dominating species from Homo Sapiens to Neanderthal would require removing 3 reads: [0, 7, 10]\n",
      "[0, 7, 10]\n",
      "counter_factual monte carlo on size 50: 3\n",
      "1\n"
     ]
    },
    {
     "data": {
      "application/vnd.jupyter.widget-view+json": {
       "model_id": "e3caad4b82994b19acb93e738d564578",
       "version_major": 2,
       "version_minor": 0
      },
      "text/plain": [
       "  0%|          | 0/1 [00:00<?, ?it/s]"
      ]
     },
     "metadata": {},
     "output_type": "display_data"
    },
    {
     "name": "stdout",
     "output_type": "stream",
     "text": [
      "1\n",
      "50\n",
      "Change dominating species from Homo Sapiens to Neanderthal would require removing 3 reads: [0, 7, 10]\n",
      "[0, 7, 10]\n",
      "counter_factual shap on size 50: 3\n",
      "Change dominating species from Homo Sapiens to Neanderthal would require removing 3 reads: [0, 7, 10]\n",
      "[0, 7, 10]\n",
      "counter_factual monte carlo on size 100: 3\n",
      "1\n"
     ]
    },
    {
     "data": {
      "application/vnd.jupyter.widget-view+json": {
       "model_id": "2ccaaf97375b483d8a6764e0fb9c41d2",
       "version_major": 2,
       "version_minor": 0
      },
      "text/plain": [
       "  0%|          | 0/1 [00:00<?, ?it/s]"
      ]
     },
     "metadata": {},
     "output_type": "display_data"
    },
    {
     "name": "stdout",
     "output_type": "stream",
     "text": [
      "1\n",
      "100\n",
      "Change dominating species from Homo Sapiens to Neanderthal would require removing 3 reads: [7, 0, 10]\n",
      "[7, 0, 10]\n",
      "counter_factual shap on size 100: 3\n",
      "Change dominating species from Homo Sapiens to Neanderthal would require removing 3 reads: [0, 7, 10]\n",
      "[0, 7, 10]\n",
      "counter_factual monte carlo on size 200: 3\n",
      "1\n"
     ]
    },
    {
     "data": {
      "application/vnd.jupyter.widget-view+json": {
       "model_id": "bc45c35b87e34d919e192f920b5cfb47",
       "version_major": 2,
       "version_minor": 0
      },
      "text/plain": [
       "  0%|          | 0/1 [00:00<?, ?it/s]"
      ]
     },
     "metadata": {},
     "output_type": "display_data"
    },
    {
     "name": "stdout",
     "output_type": "stream",
     "text": [
      "1\n",
      "200\n",
      "Change dominating species from Homo Sapiens to Neanderthal would require removing 3 reads: [0, 7, 10]\n",
      "[0, 7, 10]\n",
      "counter_factual shap on size 200: 3\n",
      "Change dominating species from Homo Sapiens to Neanderthal would require removing 3 reads: [0, 7, 10]\n",
      "[0, 7, 10]\n",
      "counter_factual monte carlo on size 500: 3\n",
      "1\n"
     ]
    },
    {
     "data": {
      "application/vnd.jupyter.widget-view+json": {
       "model_id": "d1c30f1f967b4f618eec371f5fd122ea",
       "version_major": 2,
       "version_minor": 0
      },
      "text/plain": [
       "  0%|          | 0/1 [00:00<?, ?it/s]"
      ]
     },
     "metadata": {},
     "output_type": "display_data"
    },
    {
     "name": "stdout",
     "output_type": "stream",
     "text": [
      "1\n",
      "500\n",
      "Change dominating species from Homo Sapiens to Neanderthal would require removing 3 reads: [0, 7, 10]\n",
      "[0, 7, 10]\n",
      "counter_factual shap on size 500: 3\n",
      "Change dominating species from Homo Sapiens to Denisovan would require removing 4 reads: [0, 7, 4, 8]\n",
      "[0, 7, 4, 8]\n",
      "counter_factualA_s_d: 4\n",
      "[(10, 1, 1, 6, [(1, 10), (5, 10), (10, 10), (20, 11), (50, 7), (100, 6), (200, 6), (500, 7)], [(1, 9), (5, 6), (10, 8), (20, 6), (50, 7), (100, 7), (200, 7), (500, 7)], 7), (5, 4, 3, 3, [(1, 5), (5, 5), (10, 5), (20, 5), (50, 3), (100, 3), (200, 3), (500, 3)], [(1, 4), (5, 3), (10, 3), (20, 3), (50, 3), (100, 3), (200, 3), (500, 3)], 3), (2, 6, 4, 1, [(1, 3), (5, 3), (10, 2), (20, 1), (50, 1), (100, 1), (200, 1), (500, 1)], [(1, 3), (5, 1), (10, 1), (20, 1), (50, 1), (100, 1), (200, 1), (500, 1)], 1), (4, 5, 3, 2, [(1, 3), (5, 2), (10, 2), (20, 2), (50, 2), (100, 2), (200, 2), (500, 2)], [(1, 2), (5, 2), (10, 2), (20, 2), (50, 2), (100, 2), (200, 2), (500, 2)], 2), (9, 2, 1, 3, [(1, 8), (5, 7), (10, 7), (20, 9), (50, 5), (100, 5), (200, 6), (500, 5)], [(1, 4), (5, 6), (10, 5), (20, 5), (50, 4), (100, 4), (200, 4), (500, 5)], 6), (6, 4, 2, 2, [(1, 5), (5, 5), (10, 3), (20, 2), (50, 2), (100, 2), (200, 2), (500, 2)], [(1, 2), (5, 2), (10, 2), (20, 2), (50, 2), (100, 2), (200, 2), (500, 2)], 2), (6, 4, 2, 3, [(1, 4), (5, 5), (10, 4), (20, 5), (50, 3), (100, 3), (200, 3), (500, 3)], [(1, 3), (5, 3), (10, 4), (20, 3), (50, 3), (100, 3), (200, 3), (500, 3)], 3), (2, 6, 4, 3, [(1, 6), (5, 6), (10, 6), (20, 5), (50, 3), (100, 3), (200, 3), (500, 3)], [(1, 5), (5, 4), (10, 3), (20, 3), (50, 3), (100, 3), (200, 3), (500, 3)], 3), (0, 8, 4, 3, [(1, 5), (5, 5), (10, 7), (20, 4), (50, 4), (100, 3), (200, 3), (500, 3)], [(1, 3), (5, 3), (10, 3), (20, 3), (50, 4), (100, 3), (200, 3), (500, 3)], 3), (4, 5, 3, 4, [(1, 4), (5, 4), (10, 4), (20, 6), (50, 4), (100, 4), (200, 4), (500, 4)], [(1, 5), (5, 4), (10, 5), (20, 4), (50, 4), (100, 4), (200, 4), (500, 4)], 4), (3, 6, 3, 2, [(1, 2), (5, 2), (10, 2), (20, 2), (50, 2), (100, 2), (200, 2), (500, 2)], [(1, 4), (5, 2), (10, 2), (20, 2), (50, 2), (100, 2), (200, 2), (500, 2)], 2), (3, 6, 3, 4, [(1, 8), (5, 6), (10, 8), (20, 8), (50, 4), (100, 4), (200, 4), (500, 4)], [(1, 8), (5, 6), (10, 5), (20, 4), (50, 4), (100, 4), (200, 4), (500, 4)], 4), (5, 4, 3, 3, [(1, 8), (5, 8), (10, 8), (20, 4), (50, 4), (100, 4), (200, 3), (500, 3)], [(1, 5), (5, 5), (10, 5), (20, 4), (50, 4), (100, 3), (200, 3), (500, 3)], 3), (11, 0, 1, 3, [(1, 11), (5, 11), (10, 7), (20, 8), (50, 4), (100, 4), (200, 3), (500, 3)], [(1, 3), (5, 4), (10, 3), (20, 4), (50, 4), (100, 4), (200, 3), (500, 4)], 3), (4, 5, 3, 2, [(1, 9), (5, 8), (10, 9), (20, 3), (50, 4), (100, 2), (200, 2), (500, 2)], [(1, 4), (5, 2), (10, 2), (20, 2), (50, 2), (100, 2), (200, 2), (500, 2)], 2), (2, 6, 4, 3, [(1, 5), (5, 6), (10, 3), (20, 4), (50, 3), (100, 3), (200, 3), (500, 3)], [(1, 3), (5, 3), (10, 4), (20, 3), (50, 3), (100, 3), (200, 3), (500, 3)], 3), (0, 8, 4, 1, [(1, 3), (5, 1), (10, 2), (20, 1), (50, 1), (100, 1), (200, 1), (500, 1)], [(1, 1), (5, 1), (10, 1), (20, 1), (50, 1), (100, 1), (200, 1), (500, 1)], 1), (2, 6, 4, 2, [(1, 6), (5, 6), (10, 6), (20, 2), (50, 2), (100, 2), (200, 2), (500, 2)], [(1, 2), (5, 3), (10, 2), (20, 2), (50, 2), (100, 2), (200, 2), (500, 2)], 2), (5, 4, 3, 2, [(1, 3), (5, 3), (10, 3), (20, 2), (50, 2), (100, 2), (200, 2), (500, 2)], [(1, 3), (5, 3), (10, 2), (20, 2), (50, 2), (100, 2), (200, 2), (500, 2)], 2), (1, 7, 4, 1, [(1, 4), (5, 1), (10, 1), (20, 1), (50, 1), (100, 1), (200, 1), (500, 1)], [(1, 2), (5, 1), (10, 1), (20, 1), (50, 1), (100, 1), (200, 1), (500, 1)], 1), (9, 2, 1, 2, [(1, 7), (5, 8), (10, 2), (20, 2), (50, 3), (100, 2), (200, 2), (500, 2)], [(1, 2), (5, 2), (10, 2), (20, 2), (50, 2), (100, 2), (200, 2), (500, 2)], 2), (11, 0, 1, 7, [(1, 10), (5, 10), (10, 9), (20, 10), (50, 10), (100, 7), (200, 7), (500, 7)], [(1, 10), (5, 7), (10, 7), (20, 7), (50, 7), (100, 7), (200, 7), (500, 7)], 7), (3, 6, 3, 1, [(1, 7), (5, 8), (10, 1), (20, 1), (50, 1), (100, 1), (200, 1), (500, 1)], [(1, 2), (5, 1), (10, 1), (20, 1), (50, 1), (100, 1), (200, 1), (500, 1)], 1), (7, 3, 2, 1, [(1, 2), (5, 2), (10, 2), (20, 2), (50, 1), (100, 1), (200, 1), (500, 1)], [(1, 1), (5, 1), (10, 1), (20, 1), (50, 1), (100, 1), (200, 1), (500, 1)], 1), (9, 2, 1, 2, [(1, 3), (5, 4), (10, 3), (20, 2), (50, 2), (100, 2), (200, 2), (500, 2)], [(1, 2), (5, 2), (10, 2), (20, 3), (50, 2), (100, 3), (200, 3), (500, 2)], 2), (8, 2, 2, 4, [(1, 8), (5, 5), (10, 5), (20, 4), (50, 4), (100, 4), (200, 4), (500, 4)], [(1, 4), (5, 6), (10, 4), (20, 4), (50, 4), (100, 4), (200, 4), (500, 4)], 4), (11, 0, 1, 8, [(1, 10), (5, 10), (10, 10), (20, 8), (50, 11), (100, 8), (200, 8), (500, 8)], [(1, 10), (5, 9), (10, 9), (20, 9), (50, 8), (100, 8), (200, 8), (500, 8)], 8), (6, 4, 2, 1, [(1, 1), (5, 1), (10, 1), (20, 1), (50, 1), (100, 1), (200, 1), (500, 1)], [(1, 1), (5, 1), (10, 1), (20, 1), (50, 1), (100, 1), (200, 1), (500, 1)], 1), (3, 6, 3, 2, [(1, 6), (5, 6), (10, 5), (20, 2), (50, 2), (100, 2), (200, 2), (500, 2)], [(1, 2), (5, 2), (10, 2), (20, 2), (50, 2), (100, 2), (200, 2), (500, 2)], 2), (6, 4, 2, 2, [(1, 10), (5, 10), (10, 10), (20, 10), (50, 3), (100, 3), (200, 3), (500, 3)], [(1, 10), (5, 3), (10, 4), (20, 4), (50, 3), (100, 3), (200, 3), (500, 3)], 4)]\n",
      "new experiment: 30\n",
      "3 6 3\n",
      "\u001b[34mLoading sequences and calculating alignments to all references, this might take a while. Number of reads: \u001b[0m 12\n",
      "start working on read number 0\n",
      "working on size:  0\n",
      "working on size:  1\n",
      "groundtruth: 1\n",
      "groundtruth values: [0]\n",
      "Change dominating species from Homo Sapiens to Neanderthal would require removing 1 reads: [2]\n",
      "[2]\n",
      "counter_factual monte carlo on size 1: 1\n",
      "1\n"
     ]
    },
    {
     "data": {
      "application/vnd.jupyter.widget-view+json": {
       "model_id": "ef5fe255c7724aad857975107c060c4d",
       "version_major": 2,
       "version_minor": 0
      },
      "text/plain": [
       "  0%|          | 0/1 [00:00<?, ?it/s]"
      ]
     },
     "metadata": {},
     "output_type": "display_data"
    },
    {
     "name": "stdout",
     "output_type": "stream",
     "text": [
      "1\n",
      "1\n",
      "Change dominating species from Homo Sapiens to Neanderthal would require removing 1 reads: [0]\n",
      "[0]\n",
      "counter_factual shap on size 1: 1\n",
      "Change dominating species from Homo Sapiens to Neanderthal would require removing 1 reads: [1]\n",
      "[1]\n",
      "counter_factual monte carlo on size 5: 1\n",
      "1\n"
     ]
    },
    {
     "data": {
      "application/vnd.jupyter.widget-view+json": {
       "model_id": "5772637c7f7441fc8055118d4edb5643",
       "version_major": 2,
       "version_minor": 0
      },
      "text/plain": [
       "  0%|          | 0/1 [00:00<?, ?it/s]"
      ]
     },
     "metadata": {},
     "output_type": "display_data"
    },
    {
     "name": "stdout",
     "output_type": "stream",
     "text": [
      "1\n",
      "5\n",
      "Change dominating species from Homo Sapiens to Neanderthal would require removing 1 reads: [0]\n",
      "[0]\n",
      "counter_factual shap on size 5: 1\n",
      "Change dominating species from Homo Sapiens to Neanderthal would require removing 1 reads: [1]\n",
      "[1]\n",
      "counter_factual monte carlo on size 10: 1\n",
      "1\n"
     ]
    },
    {
     "data": {
      "application/vnd.jupyter.widget-view+json": {
       "model_id": "0cb358024b244f68958b19e83a4a4258",
       "version_major": 2,
       "version_minor": 0
      },
      "text/plain": [
       "  0%|          | 0/1 [00:00<?, ?it/s]"
      ]
     },
     "metadata": {},
     "output_type": "display_data"
    },
    {
     "name": "stdout",
     "output_type": "stream",
     "text": [
      "1\n",
      "10\n",
      "Change dominating species from Homo Sapiens to Neanderthal would require removing 1 reads: [2]\n",
      "[2]\n",
      "counter_factual shap on size 10: 1\n",
      "Change dominating species from Homo Sapiens to Neanderthal would require removing 1 reads: [0]\n",
      "[0]\n",
      "counter_factual monte carlo on size 20: 1\n",
      "1\n"
     ]
    },
    {
     "data": {
      "application/vnd.jupyter.widget-view+json": {
       "model_id": "6c40326f49ff4fcb9cbd03cca6358720",
       "version_major": 2,
       "version_minor": 0
      },
      "text/plain": [
       "  0%|          | 0/1 [00:00<?, ?it/s]"
      ]
     },
     "metadata": {},
     "output_type": "display_data"
    },
    {
     "name": "stdout",
     "output_type": "stream",
     "text": [
      "1\n",
      "20\n",
      "Change dominating species from Homo Sapiens to Neanderthal would require removing 1 reads: [1]\n",
      "[1]\n",
      "counter_factual shap on size 20: 1\n",
      "Change dominating species from Homo Sapiens to Neanderthal would require removing 1 reads: [1]\n",
      "[1]\n",
      "counter_factual monte carlo on size 50: 1\n",
      "1\n"
     ]
    },
    {
     "data": {
      "application/vnd.jupyter.widget-view+json": {
       "model_id": "d00920ee6cf3428fafeb4bcc6764b9b4",
       "version_major": 2,
       "version_minor": 0
      },
      "text/plain": [
       "  0%|          | 0/1 [00:00<?, ?it/s]"
      ]
     },
     "metadata": {},
     "output_type": "display_data"
    },
    {
     "name": "stdout",
     "output_type": "stream",
     "text": [
      "1\n",
      "50\n",
      "Change dominating species from Homo Sapiens to Neanderthal would require removing 1 reads: [1]\n",
      "[1]\n",
      "counter_factual shap on size 50: 1\n",
      "Change dominating species from Homo Sapiens to Neanderthal would require removing 1 reads: [0]\n",
      "[0]\n",
      "counter_factual monte carlo on size 100: 1\n",
      "1\n"
     ]
    },
    {
     "data": {
      "application/vnd.jupyter.widget-view+json": {
       "model_id": "45094481c3354cc08647cfcf5490f226",
       "version_major": 2,
       "version_minor": 0
      },
      "text/plain": [
       "  0%|          | 0/1 [00:00<?, ?it/s]"
      ]
     },
     "metadata": {},
     "output_type": "display_data"
    },
    {
     "name": "stdout",
     "output_type": "stream",
     "text": [
      "1\n",
      "100\n",
      "Change dominating species from Homo Sapiens to Neanderthal would require removing 1 reads: [0]\n",
      "[0]\n",
      "counter_factual shap on size 100: 1\n",
      "Change dominating species from Homo Sapiens to Neanderthal would require removing 1 reads: [0]\n",
      "[0]\n",
      "counter_factual monte carlo on size 200: 1\n",
      "1\n"
     ]
    },
    {
     "data": {
      "application/vnd.jupyter.widget-view+json": {
       "model_id": "56931519f8ea485da554647b8a9bd1fd",
       "version_major": 2,
       "version_minor": 0
      },
      "text/plain": [
       "  0%|          | 0/1 [00:00<?, ?it/s]"
      ]
     },
     "metadata": {},
     "output_type": "display_data"
    },
    {
     "name": "stdout",
     "output_type": "stream",
     "text": [
      "1\n",
      "200\n",
      "Change dominating species from Homo Sapiens to Neanderthal would require removing 1 reads: [1]\n",
      "[1]\n",
      "counter_factual shap on size 200: 1\n",
      "Change dominating species from Homo Sapiens to Neanderthal would require removing 1 reads: [1]\n",
      "[1]\n",
      "counter_factual monte carlo on size 500: 1\n",
      "1\n"
     ]
    },
    {
     "data": {
      "application/vnd.jupyter.widget-view+json": {
       "model_id": "391b19fea5114a15a98dfad074f4a392",
       "version_major": 2,
       "version_minor": 0
      },
      "text/plain": [
       "  0%|          | 0/1 [00:00<?, ?it/s]"
      ]
     },
     "metadata": {},
     "output_type": "display_data"
    },
    {
     "name": "stdout",
     "output_type": "stream",
     "text": [
      "1\n",
      "500\n",
      "Change dominating species from Homo Sapiens to Neanderthal would require removing 1 reads: [2]\n",
      "[2]\n",
      "counter_factual shap on size 500: 1\n",
      "Change dominating species from Homo Sapiens to Neanderthal would require removing 1 reads: [1]\n",
      "[1]\n",
      "counter_factualA_s_d: 1\n",
      "[(10, 1, 1, 6, [(1, 10), (5, 10), (10, 10), (20, 11), (50, 7), (100, 6), (200, 6), (500, 7)], [(1, 9), (5, 6), (10, 8), (20, 6), (50, 7), (100, 7), (200, 7), (500, 7)], 7), (5, 4, 3, 3, [(1, 5), (5, 5), (10, 5), (20, 5), (50, 3), (100, 3), (200, 3), (500, 3)], [(1, 4), (5, 3), (10, 3), (20, 3), (50, 3), (100, 3), (200, 3), (500, 3)], 3), (2, 6, 4, 1, [(1, 3), (5, 3), (10, 2), (20, 1), (50, 1), (100, 1), (200, 1), (500, 1)], [(1, 3), (5, 1), (10, 1), (20, 1), (50, 1), (100, 1), (200, 1), (500, 1)], 1), (4, 5, 3, 2, [(1, 3), (5, 2), (10, 2), (20, 2), (50, 2), (100, 2), (200, 2), (500, 2)], [(1, 2), (5, 2), (10, 2), (20, 2), (50, 2), (100, 2), (200, 2), (500, 2)], 2), (9, 2, 1, 3, [(1, 8), (5, 7), (10, 7), (20, 9), (50, 5), (100, 5), (200, 6), (500, 5)], [(1, 4), (5, 6), (10, 5), (20, 5), (50, 4), (100, 4), (200, 4), (500, 5)], 6), (6, 4, 2, 2, [(1, 5), (5, 5), (10, 3), (20, 2), (50, 2), (100, 2), (200, 2), (500, 2)], [(1, 2), (5, 2), (10, 2), (20, 2), (50, 2), (100, 2), (200, 2), (500, 2)], 2), (6, 4, 2, 3, [(1, 4), (5, 5), (10, 4), (20, 5), (50, 3), (100, 3), (200, 3), (500, 3)], [(1, 3), (5, 3), (10, 4), (20, 3), (50, 3), (100, 3), (200, 3), (500, 3)], 3), (2, 6, 4, 3, [(1, 6), (5, 6), (10, 6), (20, 5), (50, 3), (100, 3), (200, 3), (500, 3)], [(1, 5), (5, 4), (10, 3), (20, 3), (50, 3), (100, 3), (200, 3), (500, 3)], 3), (0, 8, 4, 3, [(1, 5), (5, 5), (10, 7), (20, 4), (50, 4), (100, 3), (200, 3), (500, 3)], [(1, 3), (5, 3), (10, 3), (20, 3), (50, 4), (100, 3), (200, 3), (500, 3)], 3), (4, 5, 3, 4, [(1, 4), (5, 4), (10, 4), (20, 6), (50, 4), (100, 4), (200, 4), (500, 4)], [(1, 5), (5, 4), (10, 5), (20, 4), (50, 4), (100, 4), (200, 4), (500, 4)], 4), (3, 6, 3, 2, [(1, 2), (5, 2), (10, 2), (20, 2), (50, 2), (100, 2), (200, 2), (500, 2)], [(1, 4), (5, 2), (10, 2), (20, 2), (50, 2), (100, 2), (200, 2), (500, 2)], 2), (3, 6, 3, 4, [(1, 8), (5, 6), (10, 8), (20, 8), (50, 4), (100, 4), (200, 4), (500, 4)], [(1, 8), (5, 6), (10, 5), (20, 4), (50, 4), (100, 4), (200, 4), (500, 4)], 4), (5, 4, 3, 3, [(1, 8), (5, 8), (10, 8), (20, 4), (50, 4), (100, 4), (200, 3), (500, 3)], [(1, 5), (5, 5), (10, 5), (20, 4), (50, 4), (100, 3), (200, 3), (500, 3)], 3), (11, 0, 1, 3, [(1, 11), (5, 11), (10, 7), (20, 8), (50, 4), (100, 4), (200, 3), (500, 3)], [(1, 3), (5, 4), (10, 3), (20, 4), (50, 4), (100, 4), (200, 3), (500, 4)], 3), (4, 5, 3, 2, [(1, 9), (5, 8), (10, 9), (20, 3), (50, 4), (100, 2), (200, 2), (500, 2)], [(1, 4), (5, 2), (10, 2), (20, 2), (50, 2), (100, 2), (200, 2), (500, 2)], 2), (2, 6, 4, 3, [(1, 5), (5, 6), (10, 3), (20, 4), (50, 3), (100, 3), (200, 3), (500, 3)], [(1, 3), (5, 3), (10, 4), (20, 3), (50, 3), (100, 3), (200, 3), (500, 3)], 3), (0, 8, 4, 1, [(1, 3), (5, 1), (10, 2), (20, 1), (50, 1), (100, 1), (200, 1), (500, 1)], [(1, 1), (5, 1), (10, 1), (20, 1), (50, 1), (100, 1), (200, 1), (500, 1)], 1), (2, 6, 4, 2, [(1, 6), (5, 6), (10, 6), (20, 2), (50, 2), (100, 2), (200, 2), (500, 2)], [(1, 2), (5, 3), (10, 2), (20, 2), (50, 2), (100, 2), (200, 2), (500, 2)], 2), (5, 4, 3, 2, [(1, 3), (5, 3), (10, 3), (20, 2), (50, 2), (100, 2), (200, 2), (500, 2)], [(1, 3), (5, 3), (10, 2), (20, 2), (50, 2), (100, 2), (200, 2), (500, 2)], 2), (1, 7, 4, 1, [(1, 4), (5, 1), (10, 1), (20, 1), (50, 1), (100, 1), (200, 1), (500, 1)], [(1, 2), (5, 1), (10, 1), (20, 1), (50, 1), (100, 1), (200, 1), (500, 1)], 1), (9, 2, 1, 2, [(1, 7), (5, 8), (10, 2), (20, 2), (50, 3), (100, 2), (200, 2), (500, 2)], [(1, 2), (5, 2), (10, 2), (20, 2), (50, 2), (100, 2), (200, 2), (500, 2)], 2), (11, 0, 1, 7, [(1, 10), (5, 10), (10, 9), (20, 10), (50, 10), (100, 7), (200, 7), (500, 7)], [(1, 10), (5, 7), (10, 7), (20, 7), (50, 7), (100, 7), (200, 7), (500, 7)], 7), (3, 6, 3, 1, [(1, 7), (5, 8), (10, 1), (20, 1), (50, 1), (100, 1), (200, 1), (500, 1)], [(1, 2), (5, 1), (10, 1), (20, 1), (50, 1), (100, 1), (200, 1), (500, 1)], 1), (7, 3, 2, 1, [(1, 2), (5, 2), (10, 2), (20, 2), (50, 1), (100, 1), (200, 1), (500, 1)], [(1, 1), (5, 1), (10, 1), (20, 1), (50, 1), (100, 1), (200, 1), (500, 1)], 1), (9, 2, 1, 2, [(1, 3), (5, 4), (10, 3), (20, 2), (50, 2), (100, 2), (200, 2), (500, 2)], [(1, 2), (5, 2), (10, 2), (20, 3), (50, 2), (100, 3), (200, 3), (500, 2)], 2), (8, 2, 2, 4, [(1, 8), (5, 5), (10, 5), (20, 4), (50, 4), (100, 4), (200, 4), (500, 4)], [(1, 4), (5, 6), (10, 4), (20, 4), (50, 4), (100, 4), (200, 4), (500, 4)], 4), (11, 0, 1, 8, [(1, 10), (5, 10), (10, 10), (20, 8), (50, 11), (100, 8), (200, 8), (500, 8)], [(1, 10), (5, 9), (10, 9), (20, 9), (50, 8), (100, 8), (200, 8), (500, 8)], 8), (6, 4, 2, 1, [(1, 1), (5, 1), (10, 1), (20, 1), (50, 1), (100, 1), (200, 1), (500, 1)], [(1, 1), (5, 1), (10, 1), (20, 1), (50, 1), (100, 1), (200, 1), (500, 1)], 1), (3, 6, 3, 2, [(1, 6), (5, 6), (10, 5), (20, 2), (50, 2), (100, 2), (200, 2), (500, 2)], [(1, 2), (5, 2), (10, 2), (20, 2), (50, 2), (100, 2), (200, 2), (500, 2)], 2), (6, 4, 2, 2, [(1, 10), (5, 10), (10, 10), (20, 10), (50, 3), (100, 3), (200, 3), (500, 3)], [(1, 10), (5, 3), (10, 4), (20, 4), (50, 3), (100, 3), (200, 3), (500, 3)], 4), (3, 6, 3, 1, [(1, 1), (5, 1), (10, 1), (20, 1), (50, 1), (100, 1), (200, 1), (500, 1)], [(1, 1), (5, 1), (10, 1), (20, 1), (50, 1), (100, 1), (200, 1), (500, 1)], 1)]\n",
      "new experiment: 31\n",
      "8 2 2\n",
      "\u001b[34mLoading sequences and calculating alignments to all references, this might take a while. Number of reads: \u001b[0m 12\n",
      "start working on read number 0\n",
      "working on size:  0\n",
      "working on size:  1\n",
      "working on size:  2\n",
      "working on size:  3\n",
      "working on size:  4\n",
      "groundtruth: 4\n",
      "groundtruth values: [1, 3, 4, 7]\n",
      "Change dominating species from Homo Sapiens to Denisovan would require removing 6 reads: [5, 4, 3, 2, 7, 1]\n",
      "[5, 4, 3, 2, 7, 1]\n",
      "counter_factual monte carlo on size 1: 6\n",
      "1\n"
     ]
    },
    {
     "data": {
      "application/vnd.jupyter.widget-view+json": {
       "model_id": "ff2acdb94f0749118bfd6ab09ba3918f",
       "version_major": 2,
       "version_minor": 0
      },
      "text/plain": [
       "  0%|          | 0/1 [00:00<?, ?it/s]"
      ]
     },
     "metadata": {},
     "output_type": "display_data"
    },
    {
     "name": "stdout",
     "output_type": "stream",
     "text": [
      "1\n",
      "1\n",
      "Change dominating species from Homo Sapiens to Denisovan would require removing 6 reads: [0, 1, 2, 3, 4, 5]\n",
      "[0, 1, 2, 3, 4, 5]\n",
      "counter_factual shap on size 1: 6\n",
      "Change dominating species from Homo Sapiens to Denisovan would require removing 6 reads: [4, 5, 1, 2, 7, 0]\n",
      "[4, 5, 1, 2, 7, 0]\n",
      "counter_factual monte carlo on size 5: 6\n",
      "1\n"
     ]
    },
    {
     "data": {
      "application/vnd.jupyter.widget-view+json": {
       "model_id": "18ff1f4d309a40bf903033b211c34054",
       "version_major": 2,
       "version_minor": 0
      },
      "text/plain": [
       "  0%|          | 0/1 [00:00<?, ?it/s]"
      ]
     },
     "metadata": {},
     "output_type": "display_data"
    },
    {
     "name": "stdout",
     "output_type": "stream",
     "text": [
      "1\n",
      "5\n",
      "Change dominating species from Homo Sapiens to Denisovan would require removing 6 reads: [1, 4, 0, 2, 3, 5]\n",
      "[1, 4, 0, 2, 3, 5]\n",
      "counter_factual shap on size 5: 6\n",
      "Change dominating species from Homo Sapiens to Neanderthal would require removing 5 reads: [4, 1, 5, 7, 3]\n",
      "[4, 1, 5, 7, 3]\n",
      "counter_factual monte carlo on size 10: 5\n",
      "1\n"
     ]
    },
    {
     "data": {
      "application/vnd.jupyter.widget-view+json": {
       "model_id": "25d0139ff87340388200741b327f51fc",
       "version_major": 2,
       "version_minor": 0
      },
      "text/plain": [
       "  0%|          | 0/1 [00:00<?, ?it/s]"
      ]
     },
     "metadata": {},
     "output_type": "display_data"
    },
    {
     "name": "stdout",
     "output_type": "stream",
     "text": [
      "1\n",
      "10\n",
      "Change dominating species from Homo Sapiens to Denisovan would require removing 8 reads: [1, 4, 9, 7, 0, 2, 3, 5]\n",
      "[1, 4, 9, 7, 0, 2, 3, 5]\n",
      "counter_factual shap on size 10: 8\n",
      "Change dominating species from Homo Sapiens to Neanderthal would require removing 4 reads: [4, 7, 1, 3]\n",
      "[4, 7, 1, 3]\n",
      "counter_factual monte carlo on size 20: 4\n",
      "1\n"
     ]
    },
    {
     "data": {
      "application/vnd.jupyter.widget-view+json": {
       "model_id": "789f7bb97c444b389c87776c92f72699",
       "version_major": 2,
       "version_minor": 0
      },
      "text/plain": [
       "  0%|          | 0/1 [00:00<?, ?it/s]"
      ]
     },
     "metadata": {},
     "output_type": "display_data"
    },
    {
     "name": "stdout",
     "output_type": "stream",
     "text": [
      "1\n",
      "20\n",
      "Change dominating species from Homo Sapiens to Neanderthal would require removing 4 reads: [7, 3, 1, 4]\n",
      "[7, 3, 1, 4]\n",
      "counter_factual shap on size 20: 4\n",
      "Change dominating species from Homo Sapiens to Neanderthal would require removing 5 reads: [4, 1, 5, 7, 3]\n",
      "[4, 1, 5, 7, 3]\n",
      "counter_factual monte carlo on size 50: 5\n",
      "1\n"
     ]
    },
    {
     "data": {
      "application/vnd.jupyter.widget-view+json": {
       "model_id": "8a7c3dffcd6d4120803b5000647bdc60",
       "version_major": 2,
       "version_minor": 0
      },
      "text/plain": [
       "  0%|          | 0/1 [00:00<?, ?it/s]"
      ]
     },
     "metadata": {},
     "output_type": "display_data"
    },
    {
     "name": "stdout",
     "output_type": "stream",
     "text": [
      "1\n",
      "50\n",
      "Change dominating species from Homo Sapiens to Neanderthal would require removing 5 reads: [1, 5, 4, 3, 7]\n",
      "[1, 5, 4, 3, 7]\n",
      "counter_factual shap on size 50: 5\n",
      "Change dominating species from Homo Sapiens to Neanderthal would require removing 5 reads: [4, 7, 3, 5, 1]\n",
      "[4, 7, 3, 5, 1]\n",
      "counter_factual monte carlo on size 100: 5\n",
      "1\n"
     ]
    },
    {
     "data": {
      "application/vnd.jupyter.widget-view+json": {
       "model_id": "700c4d0955a14a58aee3dc7f8a432259",
       "version_major": 2,
       "version_minor": 0
      },
      "text/plain": [
       "  0%|          | 0/1 [00:00<?, ?it/s]"
      ]
     },
     "metadata": {},
     "output_type": "display_data"
    },
    {
     "name": "stdout",
     "output_type": "stream",
     "text": [
      "1\n",
      "100\n",
      "Change dominating species from Homo Sapiens to Neanderthal would require removing 5 reads: [7, 4, 5, 3, 1]\n",
      "[7, 4, 5, 3, 1]\n",
      "counter_factual shap on size 100: 5\n",
      "Change dominating species from Homo Sapiens to Neanderthal would require removing 5 reads: [4, 7, 1, 5, 3]\n",
      "[4, 7, 1, 5, 3]\n",
      "counter_factual monte carlo on size 200: 5\n",
      "1\n"
     ]
    },
    {
     "data": {
      "application/vnd.jupyter.widget-view+json": {
       "model_id": "2a6c3a2a80d8417aa1d695d75991b698",
       "version_major": 2,
       "version_minor": 0
      },
      "text/plain": [
       "  0%|          | 0/1 [00:00<?, ?it/s]"
      ]
     },
     "metadata": {},
     "output_type": "display_data"
    },
    {
     "name": "stdout",
     "output_type": "stream",
     "text": [
      "1\n",
      "200\n",
      "Change dominating species from Homo Sapiens to Neanderthal would require removing 4 reads: [3, 1, 7, 4]\n",
      "[3, 1, 7, 4]\n",
      "counter_factual shap on size 200: 4\n",
      "Change dominating species from Homo Sapiens to Neanderthal would require removing 4 reads: [7, 4, 3, 1]\n",
      "[7, 4, 3, 1]\n",
      "counter_factual monte carlo on size 500: 4\n",
      "1\n"
     ]
    },
    {
     "data": {
      "application/vnd.jupyter.widget-view+json": {
       "model_id": "b5198aec5e0a4e9c9ab482f5e65bc537",
       "version_major": 2,
       "version_minor": 0
      },
      "text/plain": [
       "  0%|          | 0/1 [00:00<?, ?it/s]"
      ]
     },
     "metadata": {},
     "output_type": "display_data"
    },
    {
     "name": "stdout",
     "output_type": "stream",
     "text": [
      "1\n",
      "500\n",
      "Change dominating species from Homo Sapiens to Neanderthal would require removing 4 reads: [3, 7, 4, 1]\n",
      "[3, 7, 4, 1]\n",
      "counter_factual shap on size 500: 4\n",
      "Change dominating species from Homo Sapiens to Neanderthal would require removing 4 reads: [7, 3, 1, 4]\n",
      "[7, 3, 1, 4]\n",
      "counter_factualA_s_d: 4\n",
      "[(10, 1, 1, 6, [(1, 10), (5, 10), (10, 10), (20, 11), (50, 7), (100, 6), (200, 6), (500, 7)], [(1, 9), (5, 6), (10, 8), (20, 6), (50, 7), (100, 7), (200, 7), (500, 7)], 7), (5, 4, 3, 3, [(1, 5), (5, 5), (10, 5), (20, 5), (50, 3), (100, 3), (200, 3), (500, 3)], [(1, 4), (5, 3), (10, 3), (20, 3), (50, 3), (100, 3), (200, 3), (500, 3)], 3), (2, 6, 4, 1, [(1, 3), (5, 3), (10, 2), (20, 1), (50, 1), (100, 1), (200, 1), (500, 1)], [(1, 3), (5, 1), (10, 1), (20, 1), (50, 1), (100, 1), (200, 1), (500, 1)], 1), (4, 5, 3, 2, [(1, 3), (5, 2), (10, 2), (20, 2), (50, 2), (100, 2), (200, 2), (500, 2)], [(1, 2), (5, 2), (10, 2), (20, 2), (50, 2), (100, 2), (200, 2), (500, 2)], 2), (9, 2, 1, 3, [(1, 8), (5, 7), (10, 7), (20, 9), (50, 5), (100, 5), (200, 6), (500, 5)], [(1, 4), (5, 6), (10, 5), (20, 5), (50, 4), (100, 4), (200, 4), (500, 5)], 6), (6, 4, 2, 2, [(1, 5), (5, 5), (10, 3), (20, 2), (50, 2), (100, 2), (200, 2), (500, 2)], [(1, 2), (5, 2), (10, 2), (20, 2), (50, 2), (100, 2), (200, 2), (500, 2)], 2), (6, 4, 2, 3, [(1, 4), (5, 5), (10, 4), (20, 5), (50, 3), (100, 3), (200, 3), (500, 3)], [(1, 3), (5, 3), (10, 4), (20, 3), (50, 3), (100, 3), (200, 3), (500, 3)], 3), (2, 6, 4, 3, [(1, 6), (5, 6), (10, 6), (20, 5), (50, 3), (100, 3), (200, 3), (500, 3)], [(1, 5), (5, 4), (10, 3), (20, 3), (50, 3), (100, 3), (200, 3), (500, 3)], 3), (0, 8, 4, 3, [(1, 5), (5, 5), (10, 7), (20, 4), (50, 4), (100, 3), (200, 3), (500, 3)], [(1, 3), (5, 3), (10, 3), (20, 3), (50, 4), (100, 3), (200, 3), (500, 3)], 3), (4, 5, 3, 4, [(1, 4), (5, 4), (10, 4), (20, 6), (50, 4), (100, 4), (200, 4), (500, 4)], [(1, 5), (5, 4), (10, 5), (20, 4), (50, 4), (100, 4), (200, 4), (500, 4)], 4), (3, 6, 3, 2, [(1, 2), (5, 2), (10, 2), (20, 2), (50, 2), (100, 2), (200, 2), (500, 2)], [(1, 4), (5, 2), (10, 2), (20, 2), (50, 2), (100, 2), (200, 2), (500, 2)], 2), (3, 6, 3, 4, [(1, 8), (5, 6), (10, 8), (20, 8), (50, 4), (100, 4), (200, 4), (500, 4)], [(1, 8), (5, 6), (10, 5), (20, 4), (50, 4), (100, 4), (200, 4), (500, 4)], 4), (5, 4, 3, 3, [(1, 8), (5, 8), (10, 8), (20, 4), (50, 4), (100, 4), (200, 3), (500, 3)], [(1, 5), (5, 5), (10, 5), (20, 4), (50, 4), (100, 3), (200, 3), (500, 3)], 3), (11, 0, 1, 3, [(1, 11), (5, 11), (10, 7), (20, 8), (50, 4), (100, 4), (200, 3), (500, 3)], [(1, 3), (5, 4), (10, 3), (20, 4), (50, 4), (100, 4), (200, 3), (500, 4)], 3), (4, 5, 3, 2, [(1, 9), (5, 8), (10, 9), (20, 3), (50, 4), (100, 2), (200, 2), (500, 2)], [(1, 4), (5, 2), (10, 2), (20, 2), (50, 2), (100, 2), (200, 2), (500, 2)], 2), (2, 6, 4, 3, [(1, 5), (5, 6), (10, 3), (20, 4), (50, 3), (100, 3), (200, 3), (500, 3)], [(1, 3), (5, 3), (10, 4), (20, 3), (50, 3), (100, 3), (200, 3), (500, 3)], 3), (0, 8, 4, 1, [(1, 3), (5, 1), (10, 2), (20, 1), (50, 1), (100, 1), (200, 1), (500, 1)], [(1, 1), (5, 1), (10, 1), (20, 1), (50, 1), (100, 1), (200, 1), (500, 1)], 1), (2, 6, 4, 2, [(1, 6), (5, 6), (10, 6), (20, 2), (50, 2), (100, 2), (200, 2), (500, 2)], [(1, 2), (5, 3), (10, 2), (20, 2), (50, 2), (100, 2), (200, 2), (500, 2)], 2), (5, 4, 3, 2, [(1, 3), (5, 3), (10, 3), (20, 2), (50, 2), (100, 2), (200, 2), (500, 2)], [(1, 3), (5, 3), (10, 2), (20, 2), (50, 2), (100, 2), (200, 2), (500, 2)], 2), (1, 7, 4, 1, [(1, 4), (5, 1), (10, 1), (20, 1), (50, 1), (100, 1), (200, 1), (500, 1)], [(1, 2), (5, 1), (10, 1), (20, 1), (50, 1), (100, 1), (200, 1), (500, 1)], 1), (9, 2, 1, 2, [(1, 7), (5, 8), (10, 2), (20, 2), (50, 3), (100, 2), (200, 2), (500, 2)], [(1, 2), (5, 2), (10, 2), (20, 2), (50, 2), (100, 2), (200, 2), (500, 2)], 2), (11, 0, 1, 7, [(1, 10), (5, 10), (10, 9), (20, 10), (50, 10), (100, 7), (200, 7), (500, 7)], [(1, 10), (5, 7), (10, 7), (20, 7), (50, 7), (100, 7), (200, 7), (500, 7)], 7), (3, 6, 3, 1, [(1, 7), (5, 8), (10, 1), (20, 1), (50, 1), (100, 1), (200, 1), (500, 1)], [(1, 2), (5, 1), (10, 1), (20, 1), (50, 1), (100, 1), (200, 1), (500, 1)], 1), (7, 3, 2, 1, [(1, 2), (5, 2), (10, 2), (20, 2), (50, 1), (100, 1), (200, 1), (500, 1)], [(1, 1), (5, 1), (10, 1), (20, 1), (50, 1), (100, 1), (200, 1), (500, 1)], 1), (9, 2, 1, 2, [(1, 3), (5, 4), (10, 3), (20, 2), (50, 2), (100, 2), (200, 2), (500, 2)], [(1, 2), (5, 2), (10, 2), (20, 3), (50, 2), (100, 3), (200, 3), (500, 2)], 2), (8, 2, 2, 4, [(1, 8), (5, 5), (10, 5), (20, 4), (50, 4), (100, 4), (200, 4), (500, 4)], [(1, 4), (5, 6), (10, 4), (20, 4), (50, 4), (100, 4), (200, 4), (500, 4)], 4), (11, 0, 1, 8, [(1, 10), (5, 10), (10, 10), (20, 8), (50, 11), (100, 8), (200, 8), (500, 8)], [(1, 10), (5, 9), (10, 9), (20, 9), (50, 8), (100, 8), (200, 8), (500, 8)], 8), (6, 4, 2, 1, [(1, 1), (5, 1), (10, 1), (20, 1), (50, 1), (100, 1), (200, 1), (500, 1)], [(1, 1), (5, 1), (10, 1), (20, 1), (50, 1), (100, 1), (200, 1), (500, 1)], 1), (3, 6, 3, 2, [(1, 6), (5, 6), (10, 5), (20, 2), (50, 2), (100, 2), (200, 2), (500, 2)], [(1, 2), (5, 2), (10, 2), (20, 2), (50, 2), (100, 2), (200, 2), (500, 2)], 2), (6, 4, 2, 2, [(1, 10), (5, 10), (10, 10), (20, 10), (50, 3), (100, 3), (200, 3), (500, 3)], [(1, 10), (5, 3), (10, 4), (20, 4), (50, 3), (100, 3), (200, 3), (500, 3)], 4), (3, 6, 3, 1, [(1, 1), (5, 1), (10, 1), (20, 1), (50, 1), (100, 1), (200, 1), (500, 1)], [(1, 1), (5, 1), (10, 1), (20, 1), (50, 1), (100, 1), (200, 1), (500, 1)], 1), (8, 2, 2, 4, [(1, 6), (5, 6), (10, 8), (20, 4), (50, 5), (100, 5), (200, 4), (500, 4)], [(1, 6), (5, 6), (10, 5), (20, 4), (50, 5), (100, 5), (200, 5), (500, 4)], 4)]\n",
      "new experiment: 32\n",
      "4 5 3\n",
      "\u001b[34mLoading sequences and calculating alignments to all references, this might take a while. Number of reads: \u001b[0m 12\n",
      "start working on read number 0\n",
      "working on size:  0\n",
      "working on size:  1\n",
      "groundtruth: 1\n",
      "groundtruth values: [2]\n",
      "Change dominating species from Homo Sapiens to Neanderthal would require removing 1 reads: [2]\n",
      "[2]\n",
      "counter_factual monte carlo on size 1: 1\n",
      "1\n"
     ]
    },
    {
     "data": {
      "application/vnd.jupyter.widget-view+json": {
       "model_id": "c3312ea44854420e91bb528a9caca5c7",
       "version_major": 2,
       "version_minor": 0
      },
      "text/plain": [
       "  0%|          | 0/1 [00:00<?, ?it/s]"
      ]
     },
     "metadata": {},
     "output_type": "display_data"
    },
    {
     "name": "stdout",
     "output_type": "stream",
     "text": [
      "1\n",
      "1\n",
      "Change dominating species from Homo Sapiens to Neanderthal would require removing 3 reads: [0, 1, 2]\n",
      "[0, 1, 2]\n",
      "counter_factual shap on size 1: 3\n",
      "Change dominating species from Homo Sapiens to Neanderthal would require removing 1 reads: [3]\n",
      "[3]\n",
      "counter_factual monte carlo on size 5: 1\n",
      "1\n"
     ]
    },
    {
     "data": {
      "application/vnd.jupyter.widget-view+json": {
       "model_id": "3b4408ec4af24afd92c0777da2697827",
       "version_major": 2,
       "version_minor": 0
      },
      "text/plain": [
       "  0%|          | 0/1 [00:00<?, ?it/s]"
      ]
     },
     "metadata": {},
     "output_type": "display_data"
    },
    {
     "name": "stdout",
     "output_type": "stream",
     "text": [
      "1\n",
      "5\n",
      "Change dominating species from Homo Sapiens to Neanderthal would require removing 1 reads: [3]\n",
      "[3]\n",
      "counter_factual shap on size 5: 1\n",
      "Change dominating species from Homo Sapiens to Neanderthal would require removing 1 reads: [2]\n",
      "[2]\n",
      "counter_factual monte carlo on size 10: 1\n",
      "1\n"
     ]
    },
    {
     "data": {
      "application/vnd.jupyter.widget-view+json": {
       "model_id": "630e4ea30e86407bbaf36647dadfd364",
       "version_major": 2,
       "version_minor": 0
      },
      "text/plain": [
       "  0%|          | 0/1 [00:00<?, ?it/s]"
      ]
     },
     "metadata": {},
     "output_type": "display_data"
    },
    {
     "name": "stdout",
     "output_type": "stream",
     "text": [
      "1\n",
      "10\n",
      "Change dominating species from Homo Sapiens to Neanderthal would require removing 1 reads: [2]\n",
      "[2]\n",
      "counter_factual shap on size 10: 1\n",
      "Change dominating species from Homo Sapiens to Neanderthal would require removing 1 reads: [2]\n",
      "[2]\n",
      "counter_factual monte carlo on size 20: 1\n",
      "1\n"
     ]
    },
    {
     "data": {
      "application/vnd.jupyter.widget-view+json": {
       "model_id": "8cab0a4e20dc471288ec273245be4c25",
       "version_major": 2,
       "version_minor": 0
      },
      "text/plain": [
       "  0%|          | 0/1 [00:00<?, ?it/s]"
      ]
     },
     "metadata": {},
     "output_type": "display_data"
    },
    {
     "name": "stdout",
     "output_type": "stream",
     "text": [
      "1\n",
      "20\n",
      "Change dominating species from Homo Sapiens to Neanderthal would require removing 1 reads: [3]\n",
      "[3]\n",
      "counter_factual shap on size 20: 1\n",
      "Change dominating species from Homo Sapiens to Neanderthal would require removing 1 reads: [3]\n",
      "[3]\n",
      "counter_factual monte carlo on size 50: 1\n",
      "1\n"
     ]
    },
    {
     "data": {
      "application/vnd.jupyter.widget-view+json": {
       "model_id": "3a35c7935acc4c28a1d5563b3e4ca29c",
       "version_major": 2,
       "version_minor": 0
      },
      "text/plain": [
       "  0%|          | 0/1 [00:00<?, ?it/s]"
      ]
     },
     "metadata": {},
     "output_type": "display_data"
    },
    {
     "name": "stdout",
     "output_type": "stream",
     "text": [
      "1\n",
      "50\n",
      "Change dominating species from Homo Sapiens to Neanderthal would require removing 1 reads: [3]\n",
      "[3]\n",
      "counter_factual shap on size 50: 1\n",
      "Change dominating species from Homo Sapiens to Neanderthal would require removing 1 reads: [2]\n",
      "[2]\n",
      "counter_factual monte carlo on size 100: 1\n",
      "1\n"
     ]
    },
    {
     "data": {
      "application/vnd.jupyter.widget-view+json": {
       "model_id": "a37880c5815a45f99238c8679f6c450b",
       "version_major": 2,
       "version_minor": 0
      },
      "text/plain": [
       "  0%|          | 0/1 [00:00<?, ?it/s]"
      ]
     },
     "metadata": {},
     "output_type": "display_data"
    },
    {
     "name": "stdout",
     "output_type": "stream",
     "text": [
      "1\n",
      "100\n",
      "Change dominating species from Homo Sapiens to Neanderthal would require removing 1 reads: [2]\n",
      "[2]\n",
      "counter_factual shap on size 100: 1\n",
      "Change dominating species from Homo Sapiens to Neanderthal would require removing 1 reads: [2]\n",
      "[2]\n",
      "counter_factual monte carlo on size 200: 1\n",
      "1\n"
     ]
    },
    {
     "data": {
      "application/vnd.jupyter.widget-view+json": {
       "model_id": "fb8ea5c08ff142b38c8a48e0a90c7cea",
       "version_major": 2,
       "version_minor": 0
      },
      "text/plain": [
       "  0%|          | 0/1 [00:00<?, ?it/s]"
      ]
     },
     "metadata": {},
     "output_type": "display_data"
    },
    {
     "name": "stdout",
     "output_type": "stream",
     "text": [
      "1\n",
      "200\n",
      "Change dominating species from Homo Sapiens to Neanderthal would require removing 1 reads: [2]\n",
      "[2]\n",
      "counter_factual shap on size 200: 1\n",
      "Change dominating species from Homo Sapiens to Neanderthal would require removing 1 reads: [3]\n",
      "[3]\n",
      "counter_factual monte carlo on size 500: 1\n",
      "1\n"
     ]
    },
    {
     "data": {
      "application/vnd.jupyter.widget-view+json": {
       "model_id": "ade2ee88bc7b451fbdcfe445e65b3dc6",
       "version_major": 2,
       "version_minor": 0
      },
      "text/plain": [
       "  0%|          | 0/1 [00:00<?, ?it/s]"
      ]
     },
     "metadata": {},
     "output_type": "display_data"
    },
    {
     "name": "stdout",
     "output_type": "stream",
     "text": [
      "1\n",
      "500\n",
      "Change dominating species from Homo Sapiens to Neanderthal would require removing 1 reads: [3]\n",
      "[3]\n",
      "counter_factual shap on size 500: 1\n",
      "Change dominating species from Homo Sapiens to Neanderthal would require removing 1 reads: [3]\n",
      "[3]\n",
      "counter_factualA_s_d: 1\n",
      "[(10, 1, 1, 6, [(1, 10), (5, 10), (10, 10), (20, 11), (50, 7), (100, 6), (200, 6), (500, 7)], [(1, 9), (5, 6), (10, 8), (20, 6), (50, 7), (100, 7), (200, 7), (500, 7)], 7), (5, 4, 3, 3, [(1, 5), (5, 5), (10, 5), (20, 5), (50, 3), (100, 3), (200, 3), (500, 3)], [(1, 4), (5, 3), (10, 3), (20, 3), (50, 3), (100, 3), (200, 3), (500, 3)], 3), (2, 6, 4, 1, [(1, 3), (5, 3), (10, 2), (20, 1), (50, 1), (100, 1), (200, 1), (500, 1)], [(1, 3), (5, 1), (10, 1), (20, 1), (50, 1), (100, 1), (200, 1), (500, 1)], 1), (4, 5, 3, 2, [(1, 3), (5, 2), (10, 2), (20, 2), (50, 2), (100, 2), (200, 2), (500, 2)], [(1, 2), (5, 2), (10, 2), (20, 2), (50, 2), (100, 2), (200, 2), (500, 2)], 2), (9, 2, 1, 3, [(1, 8), (5, 7), (10, 7), (20, 9), (50, 5), (100, 5), (200, 6), (500, 5)], [(1, 4), (5, 6), (10, 5), (20, 5), (50, 4), (100, 4), (200, 4), (500, 5)], 6), (6, 4, 2, 2, [(1, 5), (5, 5), (10, 3), (20, 2), (50, 2), (100, 2), (200, 2), (500, 2)], [(1, 2), (5, 2), (10, 2), (20, 2), (50, 2), (100, 2), (200, 2), (500, 2)], 2), (6, 4, 2, 3, [(1, 4), (5, 5), (10, 4), (20, 5), (50, 3), (100, 3), (200, 3), (500, 3)], [(1, 3), (5, 3), (10, 4), (20, 3), (50, 3), (100, 3), (200, 3), (500, 3)], 3), (2, 6, 4, 3, [(1, 6), (5, 6), (10, 6), (20, 5), (50, 3), (100, 3), (200, 3), (500, 3)], [(1, 5), (5, 4), (10, 3), (20, 3), (50, 3), (100, 3), (200, 3), (500, 3)], 3), (0, 8, 4, 3, [(1, 5), (5, 5), (10, 7), (20, 4), (50, 4), (100, 3), (200, 3), (500, 3)], [(1, 3), (5, 3), (10, 3), (20, 3), (50, 4), (100, 3), (200, 3), (500, 3)], 3), (4, 5, 3, 4, [(1, 4), (5, 4), (10, 4), (20, 6), (50, 4), (100, 4), (200, 4), (500, 4)], [(1, 5), (5, 4), (10, 5), (20, 4), (50, 4), (100, 4), (200, 4), (500, 4)], 4), (3, 6, 3, 2, [(1, 2), (5, 2), (10, 2), (20, 2), (50, 2), (100, 2), (200, 2), (500, 2)], [(1, 4), (5, 2), (10, 2), (20, 2), (50, 2), (100, 2), (200, 2), (500, 2)], 2), (3, 6, 3, 4, [(1, 8), (5, 6), (10, 8), (20, 8), (50, 4), (100, 4), (200, 4), (500, 4)], [(1, 8), (5, 6), (10, 5), (20, 4), (50, 4), (100, 4), (200, 4), (500, 4)], 4), (5, 4, 3, 3, [(1, 8), (5, 8), (10, 8), (20, 4), (50, 4), (100, 4), (200, 3), (500, 3)], [(1, 5), (5, 5), (10, 5), (20, 4), (50, 4), (100, 3), (200, 3), (500, 3)], 3), (11, 0, 1, 3, [(1, 11), (5, 11), (10, 7), (20, 8), (50, 4), (100, 4), (200, 3), (500, 3)], [(1, 3), (5, 4), (10, 3), (20, 4), (50, 4), (100, 4), (200, 3), (500, 4)], 3), (4, 5, 3, 2, [(1, 9), (5, 8), (10, 9), (20, 3), (50, 4), (100, 2), (200, 2), (500, 2)], [(1, 4), (5, 2), (10, 2), (20, 2), (50, 2), (100, 2), (200, 2), (500, 2)], 2), (2, 6, 4, 3, [(1, 5), (5, 6), (10, 3), (20, 4), (50, 3), (100, 3), (200, 3), (500, 3)], [(1, 3), (5, 3), (10, 4), (20, 3), (50, 3), (100, 3), (200, 3), (500, 3)], 3), (0, 8, 4, 1, [(1, 3), (5, 1), (10, 2), (20, 1), (50, 1), (100, 1), (200, 1), (500, 1)], [(1, 1), (5, 1), (10, 1), (20, 1), (50, 1), (100, 1), (200, 1), (500, 1)], 1), (2, 6, 4, 2, [(1, 6), (5, 6), (10, 6), (20, 2), (50, 2), (100, 2), (200, 2), (500, 2)], [(1, 2), (5, 3), (10, 2), (20, 2), (50, 2), (100, 2), (200, 2), (500, 2)], 2), (5, 4, 3, 2, [(1, 3), (5, 3), (10, 3), (20, 2), (50, 2), (100, 2), (200, 2), (500, 2)], [(1, 3), (5, 3), (10, 2), (20, 2), (50, 2), (100, 2), (200, 2), (500, 2)], 2), (1, 7, 4, 1, [(1, 4), (5, 1), (10, 1), (20, 1), (50, 1), (100, 1), (200, 1), (500, 1)], [(1, 2), (5, 1), (10, 1), (20, 1), (50, 1), (100, 1), (200, 1), (500, 1)], 1), (9, 2, 1, 2, [(1, 7), (5, 8), (10, 2), (20, 2), (50, 3), (100, 2), (200, 2), (500, 2)], [(1, 2), (5, 2), (10, 2), (20, 2), (50, 2), (100, 2), (200, 2), (500, 2)], 2), (11, 0, 1, 7, [(1, 10), (5, 10), (10, 9), (20, 10), (50, 10), (100, 7), (200, 7), (500, 7)], [(1, 10), (5, 7), (10, 7), (20, 7), (50, 7), (100, 7), (200, 7), (500, 7)], 7), (3, 6, 3, 1, [(1, 7), (5, 8), (10, 1), (20, 1), (50, 1), (100, 1), (200, 1), (500, 1)], [(1, 2), (5, 1), (10, 1), (20, 1), (50, 1), (100, 1), (200, 1), (500, 1)], 1), (7, 3, 2, 1, [(1, 2), (5, 2), (10, 2), (20, 2), (50, 1), (100, 1), (200, 1), (500, 1)], [(1, 1), (5, 1), (10, 1), (20, 1), (50, 1), (100, 1), (200, 1), (500, 1)], 1), (9, 2, 1, 2, [(1, 3), (5, 4), (10, 3), (20, 2), (50, 2), (100, 2), (200, 2), (500, 2)], [(1, 2), (5, 2), (10, 2), (20, 3), (50, 2), (100, 3), (200, 3), (500, 2)], 2), (8, 2, 2, 4, [(1, 8), (5, 5), (10, 5), (20, 4), (50, 4), (100, 4), (200, 4), (500, 4)], [(1, 4), (5, 6), (10, 4), (20, 4), (50, 4), (100, 4), (200, 4), (500, 4)], 4), (11, 0, 1, 8, [(1, 10), (5, 10), (10, 10), (20, 8), (50, 11), (100, 8), (200, 8), (500, 8)], [(1, 10), (5, 9), (10, 9), (20, 9), (50, 8), (100, 8), (200, 8), (500, 8)], 8), (6, 4, 2, 1, [(1, 1), (5, 1), (10, 1), (20, 1), (50, 1), (100, 1), (200, 1), (500, 1)], [(1, 1), (5, 1), (10, 1), (20, 1), (50, 1), (100, 1), (200, 1), (500, 1)], 1), (3, 6, 3, 2, [(1, 6), (5, 6), (10, 5), (20, 2), (50, 2), (100, 2), (200, 2), (500, 2)], [(1, 2), (5, 2), (10, 2), (20, 2), (50, 2), (100, 2), (200, 2), (500, 2)], 2), (6, 4, 2, 2, [(1, 10), (5, 10), (10, 10), (20, 10), (50, 3), (100, 3), (200, 3), (500, 3)], [(1, 10), (5, 3), (10, 4), (20, 4), (50, 3), (100, 3), (200, 3), (500, 3)], 4), (3, 6, 3, 1, [(1, 1), (5, 1), (10, 1), (20, 1), (50, 1), (100, 1), (200, 1), (500, 1)], [(1, 1), (5, 1), (10, 1), (20, 1), (50, 1), (100, 1), (200, 1), (500, 1)], 1), (8, 2, 2, 4, [(1, 6), (5, 6), (10, 8), (20, 4), (50, 5), (100, 5), (200, 4), (500, 4)], [(1, 6), (5, 6), (10, 5), (20, 4), (50, 5), (100, 5), (200, 5), (500, 4)], 4), (4, 5, 3, 1, [(1, 3), (5, 1), (10, 1), (20, 1), (50, 1), (100, 1), (200, 1), (500, 1)], [(1, 1), (5, 1), (10, 1), (20, 1), (50, 1), (100, 1), (200, 1), (500, 1)], 1)]\n",
      "new experiment: 33\n",
      "7 3 2\n",
      "\u001b[34mLoading sequences and calculating alignments to all references, this might take a while. Number of reads: \u001b[0m 12\n",
      "start working on read number 0\n",
      "working on size:  0\n",
      "working on size:  1\n",
      "groundtruth: 1\n",
      "groundtruth values: [8]\n",
      "Change dominating species from Neanderthal to Homo Sapiens would require removing 1 reads: [8]\n",
      "[8]\n",
      "counter_factual monte carlo on size 1: 1\n",
      "1\n"
     ]
    },
    {
     "data": {
      "application/vnd.jupyter.widget-view+json": {
       "model_id": "f2da9b766de14b1a9989a725007b90ab",
       "version_major": 2,
       "version_minor": 0
      },
      "text/plain": [
       "  0%|          | 0/1 [00:00<?, ?it/s]"
      ]
     },
     "metadata": {},
     "output_type": "display_data"
    },
    {
     "name": "stdout",
     "output_type": "stream",
     "text": [
      "1\n",
      "1\n",
      "Change dominating species from Neanderthal to Denisovan would require removing 9 reads: [0, 1, 2, 3, 4, 5, 6, 7, 8]\n",
      "[0, 1, 2, 3, 4, 5, 6, 7, 8]\n",
      "counter_factual shap on size 1: 9\n",
      "Change dominating species from Neanderthal to Homo Sapiens would require removing 1 reads: [9]\n",
      "[9]\n",
      "counter_factual monte carlo on size 5: 1\n",
      "1\n"
     ]
    },
    {
     "data": {
      "application/vnd.jupyter.widget-view+json": {
       "model_id": "5be95c86a75e49c7af7b16edc900ecf2",
       "version_major": 2,
       "version_minor": 0
      },
      "text/plain": [
       "  0%|          | 0/1 [00:00<?, ?it/s]"
      ]
     },
     "metadata": {},
     "output_type": "display_data"
    },
    {
     "name": "stdout",
     "output_type": "stream",
     "text": [
      "1\n",
      "5\n",
      "Change dominating species from Neanderthal to Denisovan would require removing 9 reads: [7, 0, 1, 2, 3, 4, 5, 6, 8]\n",
      "[7, 0, 1, 2, 3, 4, 5, 6, 8]\n",
      "counter_factual shap on size 5: 9\n",
      "Change dominating species from Neanderthal to Homo Sapiens would require removing 1 reads: [9]\n",
      "[9]\n",
      "counter_factual monte carlo on size 10: 1\n",
      "1\n"
     ]
    },
    {
     "data": {
      "application/vnd.jupyter.widget-view+json": {
       "model_id": "177b6f5b30a24c58b8591bd8d71aea9f",
       "version_major": 2,
       "version_minor": 0
      },
      "text/plain": [
       "  0%|          | 0/1 [00:00<?, ?it/s]"
      ]
     },
     "metadata": {},
     "output_type": "display_data"
    },
    {
     "name": "stdout",
     "output_type": "stream",
     "text": [
      "1\n",
      "10\n",
      "Change dominating species from Neanderthal to Homo Sapiens would require removing 1 reads: [8]\n",
      "[8]\n",
      "counter_factual shap on size 10: 1\n",
      "Change dominating species from Neanderthal to Homo Sapiens would require removing 1 reads: [9]\n",
      "[9]\n",
      "counter_factual monte carlo on size 20: 1\n",
      "1\n"
     ]
    },
    {
     "data": {
      "application/vnd.jupyter.widget-view+json": {
       "model_id": "cfc8dd6eca2d4f8a83fc6261b1f601d1",
       "version_major": 2,
       "version_minor": 0
      },
      "text/plain": [
       "  0%|          | 0/1 [00:00<?, ?it/s]"
      ]
     },
     "metadata": {},
     "output_type": "display_data"
    },
    {
     "name": "stdout",
     "output_type": "stream",
     "text": [
      "1\n",
      "20\n",
      "Change dominating species from Neanderthal to Homo Sapiens would require removing 1 reads: [8]\n",
      "[8]\n",
      "counter_factual shap on size 20: 1\n",
      "Change dominating species from Neanderthal to Homo Sapiens would require removing 1 reads: [8]\n",
      "[8]\n",
      "counter_factual monte carlo on size 50: 1\n",
      "1\n"
     ]
    },
    {
     "data": {
      "application/vnd.jupyter.widget-view+json": {
       "model_id": "bfd096eb74f64164a5b77ad57b430d45",
       "version_major": 2,
       "version_minor": 0
      },
      "text/plain": [
       "  0%|          | 0/1 [00:00<?, ?it/s]"
      ]
     },
     "metadata": {},
     "output_type": "display_data"
    },
    {
     "name": "stdout",
     "output_type": "stream",
     "text": [
      "1\n",
      "50\n",
      "Change dominating species from Neanderthal to Homo Sapiens would require removing 1 reads: [8]\n",
      "[8]\n",
      "counter_factual shap on size 50: 1\n",
      "Change dominating species from Neanderthal to Homo Sapiens would require removing 1 reads: [9]\n",
      "[9]\n",
      "counter_factual monte carlo on size 100: 1\n",
      "1\n"
     ]
    },
    {
     "data": {
      "application/vnd.jupyter.widget-view+json": {
       "model_id": "414ff7409fcb44f1911cf709eec4f6f4",
       "version_major": 2,
       "version_minor": 0
      },
      "text/plain": [
       "  0%|          | 0/1 [00:00<?, ?it/s]"
      ]
     },
     "metadata": {},
     "output_type": "display_data"
    },
    {
     "name": "stdout",
     "output_type": "stream",
     "text": [
      "1\n",
      "100\n",
      "Change dominating species from Neanderthal to Homo Sapiens would require removing 1 reads: [9]\n",
      "[9]\n",
      "counter_factual shap on size 100: 1\n",
      "Change dominating species from Neanderthal to Homo Sapiens would require removing 1 reads: [9]\n",
      "[9]\n",
      "counter_factual monte carlo on size 200: 1\n",
      "1\n"
     ]
    },
    {
     "data": {
      "application/vnd.jupyter.widget-view+json": {
       "model_id": "efa58aa3dc4c40388e799c7ab47f94d8",
       "version_major": 2,
       "version_minor": 0
      },
      "text/plain": [
       "  0%|          | 0/1 [00:00<?, ?it/s]"
      ]
     },
     "metadata": {},
     "output_type": "display_data"
    },
    {
     "name": "stdout",
     "output_type": "stream",
     "text": [
      "1\n",
      "200\n",
      "Change dominating species from Neanderthal to Homo Sapiens would require removing 1 reads: [9]\n",
      "[9]\n",
      "counter_factual shap on size 200: 1\n",
      "Change dominating species from Neanderthal to Homo Sapiens would require removing 1 reads: [9]\n",
      "[9]\n",
      "counter_factual monte carlo on size 500: 1\n",
      "1\n"
     ]
    },
    {
     "data": {
      "application/vnd.jupyter.widget-view+json": {
       "model_id": "96cb77a172054e17835dd8eedadfd730",
       "version_major": 2,
       "version_minor": 0
      },
      "text/plain": [
       "  0%|          | 0/1 [00:00<?, ?it/s]"
      ]
     },
     "metadata": {},
     "output_type": "display_data"
    },
    {
     "name": "stdout",
     "output_type": "stream",
     "text": [
      "1\n",
      "500\n",
      "Change dominating species from Neanderthal to Homo Sapiens would require removing 1 reads: [8]\n",
      "[8]\n",
      "counter_factual shap on size 500: 1\n",
      "Change dominating species from Neanderthal to Homo Sapiens would require removing 1 reads: [8]\n",
      "[8]\n",
      "counter_factualA_s_d: 1\n",
      "[(10, 1, 1, 6, [(1, 10), (5, 10), (10, 10), (20, 11), (50, 7), (100, 6), (200, 6), (500, 7)], [(1, 9), (5, 6), (10, 8), (20, 6), (50, 7), (100, 7), (200, 7), (500, 7)], 7), (5, 4, 3, 3, [(1, 5), (5, 5), (10, 5), (20, 5), (50, 3), (100, 3), (200, 3), (500, 3)], [(1, 4), (5, 3), (10, 3), (20, 3), (50, 3), (100, 3), (200, 3), (500, 3)], 3), (2, 6, 4, 1, [(1, 3), (5, 3), (10, 2), (20, 1), (50, 1), (100, 1), (200, 1), (500, 1)], [(1, 3), (5, 1), (10, 1), (20, 1), (50, 1), (100, 1), (200, 1), (500, 1)], 1), (4, 5, 3, 2, [(1, 3), (5, 2), (10, 2), (20, 2), (50, 2), (100, 2), (200, 2), (500, 2)], [(1, 2), (5, 2), (10, 2), (20, 2), (50, 2), (100, 2), (200, 2), (500, 2)], 2), (9, 2, 1, 3, [(1, 8), (5, 7), (10, 7), (20, 9), (50, 5), (100, 5), (200, 6), (500, 5)], [(1, 4), (5, 6), (10, 5), (20, 5), (50, 4), (100, 4), (200, 4), (500, 5)], 6), (6, 4, 2, 2, [(1, 5), (5, 5), (10, 3), (20, 2), (50, 2), (100, 2), (200, 2), (500, 2)], [(1, 2), (5, 2), (10, 2), (20, 2), (50, 2), (100, 2), (200, 2), (500, 2)], 2), (6, 4, 2, 3, [(1, 4), (5, 5), (10, 4), (20, 5), (50, 3), (100, 3), (200, 3), (500, 3)], [(1, 3), (5, 3), (10, 4), (20, 3), (50, 3), (100, 3), (200, 3), (500, 3)], 3), (2, 6, 4, 3, [(1, 6), (5, 6), (10, 6), (20, 5), (50, 3), (100, 3), (200, 3), (500, 3)], [(1, 5), (5, 4), (10, 3), (20, 3), (50, 3), (100, 3), (200, 3), (500, 3)], 3), (0, 8, 4, 3, [(1, 5), (5, 5), (10, 7), (20, 4), (50, 4), (100, 3), (200, 3), (500, 3)], [(1, 3), (5, 3), (10, 3), (20, 3), (50, 4), (100, 3), (200, 3), (500, 3)], 3), (4, 5, 3, 4, [(1, 4), (5, 4), (10, 4), (20, 6), (50, 4), (100, 4), (200, 4), (500, 4)], [(1, 5), (5, 4), (10, 5), (20, 4), (50, 4), (100, 4), (200, 4), (500, 4)], 4), (3, 6, 3, 2, [(1, 2), (5, 2), (10, 2), (20, 2), (50, 2), (100, 2), (200, 2), (500, 2)], [(1, 4), (5, 2), (10, 2), (20, 2), (50, 2), (100, 2), (200, 2), (500, 2)], 2), (3, 6, 3, 4, [(1, 8), (5, 6), (10, 8), (20, 8), (50, 4), (100, 4), (200, 4), (500, 4)], [(1, 8), (5, 6), (10, 5), (20, 4), (50, 4), (100, 4), (200, 4), (500, 4)], 4), (5, 4, 3, 3, [(1, 8), (5, 8), (10, 8), (20, 4), (50, 4), (100, 4), (200, 3), (500, 3)], [(1, 5), (5, 5), (10, 5), (20, 4), (50, 4), (100, 3), (200, 3), (500, 3)], 3), (11, 0, 1, 3, [(1, 11), (5, 11), (10, 7), (20, 8), (50, 4), (100, 4), (200, 3), (500, 3)], [(1, 3), (5, 4), (10, 3), (20, 4), (50, 4), (100, 4), (200, 3), (500, 4)], 3), (4, 5, 3, 2, [(1, 9), (5, 8), (10, 9), (20, 3), (50, 4), (100, 2), (200, 2), (500, 2)], [(1, 4), (5, 2), (10, 2), (20, 2), (50, 2), (100, 2), (200, 2), (500, 2)], 2), (2, 6, 4, 3, [(1, 5), (5, 6), (10, 3), (20, 4), (50, 3), (100, 3), (200, 3), (500, 3)], [(1, 3), (5, 3), (10, 4), (20, 3), (50, 3), (100, 3), (200, 3), (500, 3)], 3), (0, 8, 4, 1, [(1, 3), (5, 1), (10, 2), (20, 1), (50, 1), (100, 1), (200, 1), (500, 1)], [(1, 1), (5, 1), (10, 1), (20, 1), (50, 1), (100, 1), (200, 1), (500, 1)], 1), (2, 6, 4, 2, [(1, 6), (5, 6), (10, 6), (20, 2), (50, 2), (100, 2), (200, 2), (500, 2)], [(1, 2), (5, 3), (10, 2), (20, 2), (50, 2), (100, 2), (200, 2), (500, 2)], 2), (5, 4, 3, 2, [(1, 3), (5, 3), (10, 3), (20, 2), (50, 2), (100, 2), (200, 2), (500, 2)], [(1, 3), (5, 3), (10, 2), (20, 2), (50, 2), (100, 2), (200, 2), (500, 2)], 2), (1, 7, 4, 1, [(1, 4), (5, 1), (10, 1), (20, 1), (50, 1), (100, 1), (200, 1), (500, 1)], [(1, 2), (5, 1), (10, 1), (20, 1), (50, 1), (100, 1), (200, 1), (500, 1)], 1), (9, 2, 1, 2, [(1, 7), (5, 8), (10, 2), (20, 2), (50, 3), (100, 2), (200, 2), (500, 2)], [(1, 2), (5, 2), (10, 2), (20, 2), (50, 2), (100, 2), (200, 2), (500, 2)], 2), (11, 0, 1, 7, [(1, 10), (5, 10), (10, 9), (20, 10), (50, 10), (100, 7), (200, 7), (500, 7)], [(1, 10), (5, 7), (10, 7), (20, 7), (50, 7), (100, 7), (200, 7), (500, 7)], 7), (3, 6, 3, 1, [(1, 7), (5, 8), (10, 1), (20, 1), (50, 1), (100, 1), (200, 1), (500, 1)], [(1, 2), (5, 1), (10, 1), (20, 1), (50, 1), (100, 1), (200, 1), (500, 1)], 1), (7, 3, 2, 1, [(1, 2), (5, 2), (10, 2), (20, 2), (50, 1), (100, 1), (200, 1), (500, 1)], [(1, 1), (5, 1), (10, 1), (20, 1), (50, 1), (100, 1), (200, 1), (500, 1)], 1), (9, 2, 1, 2, [(1, 3), (5, 4), (10, 3), (20, 2), (50, 2), (100, 2), (200, 2), (500, 2)], [(1, 2), (5, 2), (10, 2), (20, 3), (50, 2), (100, 3), (200, 3), (500, 2)], 2), (8, 2, 2, 4, [(1, 8), (5, 5), (10, 5), (20, 4), (50, 4), (100, 4), (200, 4), (500, 4)], [(1, 4), (5, 6), (10, 4), (20, 4), (50, 4), (100, 4), (200, 4), (500, 4)], 4), (11, 0, 1, 8, [(1, 10), (5, 10), (10, 10), (20, 8), (50, 11), (100, 8), (200, 8), (500, 8)], [(1, 10), (5, 9), (10, 9), (20, 9), (50, 8), (100, 8), (200, 8), (500, 8)], 8), (6, 4, 2, 1, [(1, 1), (5, 1), (10, 1), (20, 1), (50, 1), (100, 1), (200, 1), (500, 1)], [(1, 1), (5, 1), (10, 1), (20, 1), (50, 1), (100, 1), (200, 1), (500, 1)], 1), (3, 6, 3, 2, [(1, 6), (5, 6), (10, 5), (20, 2), (50, 2), (100, 2), (200, 2), (500, 2)], [(1, 2), (5, 2), (10, 2), (20, 2), (50, 2), (100, 2), (200, 2), (500, 2)], 2), (6, 4, 2, 2, [(1, 10), (5, 10), (10, 10), (20, 10), (50, 3), (100, 3), (200, 3), (500, 3)], [(1, 10), (5, 3), (10, 4), (20, 4), (50, 3), (100, 3), (200, 3), (500, 3)], 4), (3, 6, 3, 1, [(1, 1), (5, 1), (10, 1), (20, 1), (50, 1), (100, 1), (200, 1), (500, 1)], [(1, 1), (5, 1), (10, 1), (20, 1), (50, 1), (100, 1), (200, 1), (500, 1)], 1), (8, 2, 2, 4, [(1, 6), (5, 6), (10, 8), (20, 4), (50, 5), (100, 5), (200, 4), (500, 4)], [(1, 6), (5, 6), (10, 5), (20, 4), (50, 5), (100, 5), (200, 5), (500, 4)], 4), (4, 5, 3, 1, [(1, 3), (5, 1), (10, 1), (20, 1), (50, 1), (100, 1), (200, 1), (500, 1)], [(1, 1), (5, 1), (10, 1), (20, 1), (50, 1), (100, 1), (200, 1), (500, 1)], 1), (7, 3, 2, 1, [(1, 9), (5, 9), (10, 1), (20, 1), (50, 1), (100, 1), (200, 1), (500, 1)], [(1, 1), (5, 1), (10, 1), (20, 1), (50, 1), (100, 1), (200, 1), (500, 1)], 1)]\n",
      "new experiment: 34\n",
      "8 2 2\n",
      "\u001b[34mLoading sequences and calculating alignments to all references, this might take a while. Number of reads: \u001b[0m 12\n",
      "start working on read number 0\n",
      "working on size:  0\n",
      "working on size:  1\n",
      "working on size:  2\n",
      "working on size:  3\n",
      "groundtruth: 3\n",
      "groundtruth values: [3, 5, 6]\n",
      "Change dominating species from Homo Sapiens to Denisovan would require removing 7 reads: [3, 2, 0, 1, 4, 5, 6]\n",
      "[3, 2, 0, 1, 4, 5, 6]\n",
      "counter_factual monte carlo on size 1: 7\n",
      "1\n"
     ]
    },
    {
     "data": {
      "application/vnd.jupyter.widget-view+json": {
       "model_id": "c835eb733c0e4b1b8efdf7d69572942d",
       "version_major": 2,
       "version_minor": 0
      },
      "text/plain": [
       "  0%|          | 0/1 [00:00<?, ?it/s]"
      ]
     },
     "metadata": {},
     "output_type": "display_data"
    },
    {
     "name": "stdout",
     "output_type": "stream",
     "text": [
      "1\n",
      "1\n",
      "Change dominating species from Homo Sapiens to Denisovan would require removing 7 reads: [0, 1, 2, 3, 4, 5, 6]\n",
      "[0, 1, 2, 3, 4, 5, 6]\n",
      "counter_factual shap on size 1: 7\n",
      "Change dominating species from Homo Sapiens to Neanderthal would require removing 4 reads: [6, 5, 1, 3]\n",
      "[6, 5, 1, 3]\n",
      "counter_factual monte carlo on size 5: 4\n",
      "1\n"
     ]
    },
    {
     "data": {
      "application/vnd.jupyter.widget-view+json": {
       "model_id": "8261658ff4024b45a37eb1a2493916b3",
       "version_major": 2,
       "version_minor": 0
      },
      "text/plain": [
       "  0%|          | 0/1 [00:00<?, ?it/s]"
      ]
     },
     "metadata": {},
     "output_type": "display_data"
    },
    {
     "name": "stdout",
     "output_type": "stream",
     "text": [
      "1\n",
      "5\n",
      "Change dominating species from Homo Sapiens to Denisovan would require removing 7 reads: [5, 0, 1, 2, 3, 4, 6]\n",
      "[5, 0, 1, 2, 3, 4, 6]\n",
      "counter_factual shap on size 5: 7\n",
      "Change dominating species from Homo Sapiens to Neanderthal would require removing 4 reads: [9, 5, 6, 3]\n",
      "[9, 5, 6, 3]\n",
      "counter_factual monte carlo on size 10: 4\n",
      "1\n"
     ]
    },
    {
     "data": {
      "application/vnd.jupyter.widget-view+json": {
       "model_id": "ed38285697c640009cff0e6bf8f401ea",
       "version_major": 2,
       "version_minor": 0
      },
      "text/plain": [
       "  0%|          | 0/1 [00:00<?, ?it/s]"
      ]
     },
     "metadata": {},
     "output_type": "display_data"
    },
    {
     "name": "stdout",
     "output_type": "stream",
     "text": [
      "1\n",
      "10\n",
      "Change dominating species from Homo Sapiens to Denisovan would require removing 7 reads: [5, 1, 0, 2, 3, 4, 6]\n",
      "[5, 1, 0, 2, 3, 4, 6]\n",
      "counter_factual shap on size 10: 7\n",
      "Change dominating species from Homo Sapiens to Neanderthal would require removing 4 reads: [5, 9, 3, 6]\n",
      "[5, 9, 3, 6]\n",
      "counter_factual monte carlo on size 20: 4\n",
      "1\n"
     ]
    },
    {
     "data": {
      "application/vnd.jupyter.widget-view+json": {
       "model_id": "95f6606afe774270b196e761a3dc3699",
       "version_major": 2,
       "version_minor": 0
      },
      "text/plain": [
       "  0%|          | 0/1 [00:00<?, ?it/s]"
      ]
     },
     "metadata": {},
     "output_type": "display_data"
    },
    {
     "name": "stdout",
     "output_type": "stream",
     "text": [
      "1\n",
      "20\n",
      "Change dominating species from Homo Sapiens to Denisovan would require removing 7 reads: [5, 3, 4, 0, 1, 2, 6]\n",
      "[5, 3, 4, 0, 1, 2, 6]\n",
      "counter_factual shap on size 20: 7\n",
      "Change dominating species from Homo Sapiens to Neanderthal would require removing 3 reads: [5, 6, 3]\n",
      "[5, 6, 3]\n",
      "counter_factual monte carlo on size 50: 3\n",
      "1\n"
     ]
    },
    {
     "data": {
      "application/vnd.jupyter.widget-view+json": {
       "model_id": "05f95fa887c74ce79a2525acb234e46b",
       "version_major": 2,
       "version_minor": 0
      },
      "text/plain": [
       "  0%|          | 0/1 [00:00<?, ?it/s]"
      ]
     },
     "metadata": {},
     "output_type": "display_data"
    },
    {
     "name": "stdout",
     "output_type": "stream",
     "text": [
      "1\n",
      "50\n",
      "Change dominating species from Homo Sapiens to Neanderthal would require removing 3 reads: [6, 5, 3]\n",
      "[6, 5, 3]\n",
      "counter_factual shap on size 50: 3\n",
      "Change dominating species from Homo Sapiens to Neanderthal would require removing 3 reads: [3, 5, 6]\n",
      "[3, 5, 6]\n",
      "counter_factual monte carlo on size 100: 3\n",
      "1\n"
     ]
    },
    {
     "data": {
      "application/vnd.jupyter.widget-view+json": {
       "model_id": "d8c2261335e04a48b72031a0e1531ef6",
       "version_major": 2,
       "version_minor": 0
      },
      "text/plain": [
       "  0%|          | 0/1 [00:00<?, ?it/s]"
      ]
     },
     "metadata": {},
     "output_type": "display_data"
    },
    {
     "name": "stdout",
     "output_type": "stream",
     "text": [
      "1\n",
      "100\n",
      "Change dominating species from Homo Sapiens to Neanderthal would require removing 3 reads: [6, 5, 3]\n",
      "[6, 5, 3]\n",
      "counter_factual shap on size 100: 3\n",
      "Change dominating species from Homo Sapiens to Neanderthal would require removing 3 reads: [5, 6, 3]\n",
      "[5, 6, 3]\n",
      "counter_factual monte carlo on size 200: 3\n",
      "1\n"
     ]
    },
    {
     "data": {
      "application/vnd.jupyter.widget-view+json": {
       "model_id": "13ebd8b6250a4decb84845ec5333bc5d",
       "version_major": 2,
       "version_minor": 0
      },
      "text/plain": [
       "  0%|          | 0/1 [00:00<?, ?it/s]"
      ]
     },
     "metadata": {},
     "output_type": "display_data"
    },
    {
     "name": "stdout",
     "output_type": "stream",
     "text": [
      "1\n",
      "200\n",
      "Change dominating species from Homo Sapiens to Neanderthal would require removing 3 reads: [5, 6, 3]\n",
      "[5, 6, 3]\n",
      "counter_factual shap on size 200: 3\n",
      "Change dominating species from Homo Sapiens to Neanderthal would require removing 3 reads: [6, 3, 5]\n",
      "[6, 3, 5]\n",
      "counter_factual monte carlo on size 500: 3\n",
      "1\n"
     ]
    },
    {
     "data": {
      "application/vnd.jupyter.widget-view+json": {
       "model_id": "5335ec5e1def4b0ba6b4eaeb4d921a3d",
       "version_major": 2,
       "version_minor": 0
      },
      "text/plain": [
       "  0%|          | 0/1 [00:00<?, ?it/s]"
      ]
     },
     "metadata": {},
     "output_type": "display_data"
    },
    {
     "name": "stdout",
     "output_type": "stream",
     "text": [
      "1\n",
      "500\n",
      "Change dominating species from Homo Sapiens to Neanderthal would require removing 3 reads: [3, 5, 6]\n",
      "[3, 5, 6]\n",
      "counter_factual shap on size 500: 3\n",
      "Change dominating species from Homo Sapiens to Neanderthal would require removing 3 reads: [5, 3, 6]\n",
      "[5, 3, 6]\n",
      "counter_factualA_s_d: 3\n",
      "[(10, 1, 1, 6, [(1, 10), (5, 10), (10, 10), (20, 11), (50, 7), (100, 6), (200, 6), (500, 7)], [(1, 9), (5, 6), (10, 8), (20, 6), (50, 7), (100, 7), (200, 7), (500, 7)], 7), (5, 4, 3, 3, [(1, 5), (5, 5), (10, 5), (20, 5), (50, 3), (100, 3), (200, 3), (500, 3)], [(1, 4), (5, 3), (10, 3), (20, 3), (50, 3), (100, 3), (200, 3), (500, 3)], 3), (2, 6, 4, 1, [(1, 3), (5, 3), (10, 2), (20, 1), (50, 1), (100, 1), (200, 1), (500, 1)], [(1, 3), (5, 1), (10, 1), (20, 1), (50, 1), (100, 1), (200, 1), (500, 1)], 1), (4, 5, 3, 2, [(1, 3), (5, 2), (10, 2), (20, 2), (50, 2), (100, 2), (200, 2), (500, 2)], [(1, 2), (5, 2), (10, 2), (20, 2), (50, 2), (100, 2), (200, 2), (500, 2)], 2), (9, 2, 1, 3, [(1, 8), (5, 7), (10, 7), (20, 9), (50, 5), (100, 5), (200, 6), (500, 5)], [(1, 4), (5, 6), (10, 5), (20, 5), (50, 4), (100, 4), (200, 4), (500, 5)], 6), (6, 4, 2, 2, [(1, 5), (5, 5), (10, 3), (20, 2), (50, 2), (100, 2), (200, 2), (500, 2)], [(1, 2), (5, 2), (10, 2), (20, 2), (50, 2), (100, 2), (200, 2), (500, 2)], 2), (6, 4, 2, 3, [(1, 4), (5, 5), (10, 4), (20, 5), (50, 3), (100, 3), (200, 3), (500, 3)], [(1, 3), (5, 3), (10, 4), (20, 3), (50, 3), (100, 3), (200, 3), (500, 3)], 3), (2, 6, 4, 3, [(1, 6), (5, 6), (10, 6), (20, 5), (50, 3), (100, 3), (200, 3), (500, 3)], [(1, 5), (5, 4), (10, 3), (20, 3), (50, 3), (100, 3), (200, 3), (500, 3)], 3), (0, 8, 4, 3, [(1, 5), (5, 5), (10, 7), (20, 4), (50, 4), (100, 3), (200, 3), (500, 3)], [(1, 3), (5, 3), (10, 3), (20, 3), (50, 4), (100, 3), (200, 3), (500, 3)], 3), (4, 5, 3, 4, [(1, 4), (5, 4), (10, 4), (20, 6), (50, 4), (100, 4), (200, 4), (500, 4)], [(1, 5), (5, 4), (10, 5), (20, 4), (50, 4), (100, 4), (200, 4), (500, 4)], 4), (3, 6, 3, 2, [(1, 2), (5, 2), (10, 2), (20, 2), (50, 2), (100, 2), (200, 2), (500, 2)], [(1, 4), (5, 2), (10, 2), (20, 2), (50, 2), (100, 2), (200, 2), (500, 2)], 2), (3, 6, 3, 4, [(1, 8), (5, 6), (10, 8), (20, 8), (50, 4), (100, 4), (200, 4), (500, 4)], [(1, 8), (5, 6), (10, 5), (20, 4), (50, 4), (100, 4), (200, 4), (500, 4)], 4), (5, 4, 3, 3, [(1, 8), (5, 8), (10, 8), (20, 4), (50, 4), (100, 4), (200, 3), (500, 3)], [(1, 5), (5, 5), (10, 5), (20, 4), (50, 4), (100, 3), (200, 3), (500, 3)], 3), (11, 0, 1, 3, [(1, 11), (5, 11), (10, 7), (20, 8), (50, 4), (100, 4), (200, 3), (500, 3)], [(1, 3), (5, 4), (10, 3), (20, 4), (50, 4), (100, 4), (200, 3), (500, 4)], 3), (4, 5, 3, 2, [(1, 9), (5, 8), (10, 9), (20, 3), (50, 4), (100, 2), (200, 2), (500, 2)], [(1, 4), (5, 2), (10, 2), (20, 2), (50, 2), (100, 2), (200, 2), (500, 2)], 2), (2, 6, 4, 3, [(1, 5), (5, 6), (10, 3), (20, 4), (50, 3), (100, 3), (200, 3), (500, 3)], [(1, 3), (5, 3), (10, 4), (20, 3), (50, 3), (100, 3), (200, 3), (500, 3)], 3), (0, 8, 4, 1, [(1, 3), (5, 1), (10, 2), (20, 1), (50, 1), (100, 1), (200, 1), (500, 1)], [(1, 1), (5, 1), (10, 1), (20, 1), (50, 1), (100, 1), (200, 1), (500, 1)], 1), (2, 6, 4, 2, [(1, 6), (5, 6), (10, 6), (20, 2), (50, 2), (100, 2), (200, 2), (500, 2)], [(1, 2), (5, 3), (10, 2), (20, 2), (50, 2), (100, 2), (200, 2), (500, 2)], 2), (5, 4, 3, 2, [(1, 3), (5, 3), (10, 3), (20, 2), (50, 2), (100, 2), (200, 2), (500, 2)], [(1, 3), (5, 3), (10, 2), (20, 2), (50, 2), (100, 2), (200, 2), (500, 2)], 2), (1, 7, 4, 1, [(1, 4), (5, 1), (10, 1), (20, 1), (50, 1), (100, 1), (200, 1), (500, 1)], [(1, 2), (5, 1), (10, 1), (20, 1), (50, 1), (100, 1), (200, 1), (500, 1)], 1), (9, 2, 1, 2, [(1, 7), (5, 8), (10, 2), (20, 2), (50, 3), (100, 2), (200, 2), (500, 2)], [(1, 2), (5, 2), (10, 2), (20, 2), (50, 2), (100, 2), (200, 2), (500, 2)], 2), (11, 0, 1, 7, [(1, 10), (5, 10), (10, 9), (20, 10), (50, 10), (100, 7), (200, 7), (500, 7)], [(1, 10), (5, 7), (10, 7), (20, 7), (50, 7), (100, 7), (200, 7), (500, 7)], 7), (3, 6, 3, 1, [(1, 7), (5, 8), (10, 1), (20, 1), (50, 1), (100, 1), (200, 1), (500, 1)], [(1, 2), (5, 1), (10, 1), (20, 1), (50, 1), (100, 1), (200, 1), (500, 1)], 1), (7, 3, 2, 1, [(1, 2), (5, 2), (10, 2), (20, 2), (50, 1), (100, 1), (200, 1), (500, 1)], [(1, 1), (5, 1), (10, 1), (20, 1), (50, 1), (100, 1), (200, 1), (500, 1)], 1), (9, 2, 1, 2, [(1, 3), (5, 4), (10, 3), (20, 2), (50, 2), (100, 2), (200, 2), (500, 2)], [(1, 2), (5, 2), (10, 2), (20, 3), (50, 2), (100, 3), (200, 3), (500, 2)], 2), (8, 2, 2, 4, [(1, 8), (5, 5), (10, 5), (20, 4), (50, 4), (100, 4), (200, 4), (500, 4)], [(1, 4), (5, 6), (10, 4), (20, 4), (50, 4), (100, 4), (200, 4), (500, 4)], 4), (11, 0, 1, 8, [(1, 10), (5, 10), (10, 10), (20, 8), (50, 11), (100, 8), (200, 8), (500, 8)], [(1, 10), (5, 9), (10, 9), (20, 9), (50, 8), (100, 8), (200, 8), (500, 8)], 8), (6, 4, 2, 1, [(1, 1), (5, 1), (10, 1), (20, 1), (50, 1), (100, 1), (200, 1), (500, 1)], [(1, 1), (5, 1), (10, 1), (20, 1), (50, 1), (100, 1), (200, 1), (500, 1)], 1), (3, 6, 3, 2, [(1, 6), (5, 6), (10, 5), (20, 2), (50, 2), (100, 2), (200, 2), (500, 2)], [(1, 2), (5, 2), (10, 2), (20, 2), (50, 2), (100, 2), (200, 2), (500, 2)], 2), (6, 4, 2, 2, [(1, 10), (5, 10), (10, 10), (20, 10), (50, 3), (100, 3), (200, 3), (500, 3)], [(1, 10), (5, 3), (10, 4), (20, 4), (50, 3), (100, 3), (200, 3), (500, 3)], 4), (3, 6, 3, 1, [(1, 1), (5, 1), (10, 1), (20, 1), (50, 1), (100, 1), (200, 1), (500, 1)], [(1, 1), (5, 1), (10, 1), (20, 1), (50, 1), (100, 1), (200, 1), (500, 1)], 1), (8, 2, 2, 4, [(1, 6), (5, 6), (10, 8), (20, 4), (50, 5), (100, 5), (200, 4), (500, 4)], [(1, 6), (5, 6), (10, 5), (20, 4), (50, 5), (100, 5), (200, 5), (500, 4)], 4), (4, 5, 3, 1, [(1, 3), (5, 1), (10, 1), (20, 1), (50, 1), (100, 1), (200, 1), (500, 1)], [(1, 1), (5, 1), (10, 1), (20, 1), (50, 1), (100, 1), (200, 1), (500, 1)], 1), (7, 3, 2, 1, [(1, 9), (5, 9), (10, 1), (20, 1), (50, 1), (100, 1), (200, 1), (500, 1)], [(1, 1), (5, 1), (10, 1), (20, 1), (50, 1), (100, 1), (200, 1), (500, 1)], 1), (8, 2, 2, 3, [(1, 7), (5, 7), (10, 7), (20, 7), (50, 3), (100, 3), (200, 3), (500, 3)], [(1, 7), (5, 4), (10, 4), (20, 4), (50, 3), (100, 3), (200, 3), (500, 3)], 3)]\n",
      "new experiment: 35\n",
      "8 2 2\n",
      "\u001b[34mLoading sequences and calculating alignments to all references, this might take a while. Number of reads: \u001b[0m 12\n",
      "start working on read number 0\n",
      "working on size:  0\n",
      "working on size:  1\n",
      "working on size:  2\n",
      "working on size:  3\n",
      "groundtruth: 3\n",
      "groundtruth values: [0, 1, 5]\n",
      "Change dominating species from Homo Sapiens to Denisovan would require removing 4 reads: [4, 7, 1, 0]\n",
      "[4, 7, 1, 0]\n",
      "counter_factual monte carlo on size 1: 4\n",
      "1\n"
     ]
    },
    {
     "data": {
      "application/vnd.jupyter.widget-view+json": {
       "model_id": "c5bff3c054394832987b922b0d14e3dc",
       "version_major": 2,
       "version_minor": 0
      },
      "text/plain": [
       "  0%|          | 0/1 [00:00<?, ?it/s]"
      ]
     },
     "metadata": {},
     "output_type": "display_data"
    },
    {
     "name": "stdout",
     "output_type": "stream",
     "text": [
      "1\n",
      "1\n",
      "Change dominating species from Homo Sapiens to Denisovan would require removing 6 reads: [0, 1, 2, 3, 4, 5]\n",
      "[0, 1, 2, 3, 4, 5]\n",
      "counter_factual shap on size 1: 6\n",
      "Change dominating species from Homo Sapiens to Denisovan would require removing 4 reads: [7, 0, 4, 5]\n",
      "[7, 0, 4, 5]\n",
      "counter_factual monte carlo on size 5: 4\n",
      "1\n"
     ]
    },
    {
     "data": {
      "application/vnd.jupyter.widget-view+json": {
       "model_id": "4b8b68a5a2fc4a17bdd817e5ad1dbfa9",
       "version_major": 2,
       "version_minor": 0
      },
      "text/plain": [
       "  0%|          | 0/1 [00:00<?, ?it/s]"
      ]
     },
     "metadata": {},
     "output_type": "display_data"
    },
    {
     "name": "stdout",
     "output_type": "stream",
     "text": [
      "1\n",
      "5\n",
      "Change dominating species from Homo Sapiens to Denisovan would require removing 3 reads: [7, 0, 1]\n",
      "[7, 0, 1]\n",
      "counter_factual shap on size 5: 3\n",
      "Change dominating species from Homo Sapiens to Denisovan would require removing 3 reads: [0, 1, 7]\n",
      "[0, 1, 7]\n",
      "counter_factual monte carlo on size 10: 3\n",
      "1\n"
     ]
    },
    {
     "data": {
      "application/vnd.jupyter.widget-view+json": {
       "model_id": "0538a99964f044ad8c2de5c89a474028",
       "version_major": 2,
       "version_minor": 0
      },
      "text/plain": [
       "  0%|          | 0/1 [00:00<?, ?it/s]"
      ]
     },
     "metadata": {},
     "output_type": "display_data"
    },
    {
     "name": "stdout",
     "output_type": "stream",
     "text": [
      "1\n",
      "10\n",
      "Change dominating species from Homo Sapiens to Denisovan would require removing 4 reads: [1, 5, 4, 0]\n",
      "[1, 5, 4, 0]\n",
      "counter_factual shap on size 10: 4\n",
      "Change dominating species from Homo Sapiens to Denisovan would require removing 3 reads: [0, 1, 5]\n",
      "[0, 1, 5]\n",
      "counter_factual monte carlo on size 20: 3\n",
      "1\n"
     ]
    },
    {
     "data": {
      "application/vnd.jupyter.widget-view+json": {
       "model_id": "d3fb9e23706a4c7c8c413eedf81b258a",
       "version_major": 2,
       "version_minor": 0
      },
      "text/plain": [
       "  0%|          | 0/1 [00:00<?, ?it/s]"
      ]
     },
     "metadata": {},
     "output_type": "display_data"
    },
    {
     "name": "stdout",
     "output_type": "stream",
     "text": [
      "1\n",
      "20\n",
      "Change dominating species from Homo Sapiens to Denisovan would require removing 5 reads: [7, 8, 4, 0, 1]\n",
      "[7, 8, 4, 0, 1]\n",
      "counter_factual shap on size 20: 5\n",
      "Change dominating species from Homo Sapiens to Denisovan would require removing 3 reads: [5, 0, 1]\n",
      "[5, 0, 1]\n",
      "counter_factual monte carlo on size 50: 3\n",
      "1\n"
     ]
    },
    {
     "data": {
      "application/vnd.jupyter.widget-view+json": {
       "model_id": "1f4c5461da22472bbac58421b68465f9",
       "version_major": 2,
       "version_minor": 0
      },
      "text/plain": [
       "  0%|          | 0/1 [00:00<?, ?it/s]"
      ]
     },
     "metadata": {},
     "output_type": "display_data"
    },
    {
     "name": "stdout",
     "output_type": "stream",
     "text": [
      "1\n",
      "50\n",
      "Change dominating species from Homo Sapiens to Denisovan would require removing 3 reads: [7, 5, 1]\n",
      "[7, 5, 1]\n",
      "counter_factual shap on size 50: 3\n",
      "Change dominating species from Homo Sapiens to Denisovan would require removing 3 reads: [1, 5, 0]\n",
      "[1, 5, 0]\n",
      "counter_factual monte carlo on size 100: 3\n",
      "1\n"
     ]
    },
    {
     "data": {
      "application/vnd.jupyter.widget-view+json": {
       "model_id": "fe22d7f874a742b9b204908e6fa10cf9",
       "version_major": 2,
       "version_minor": 0
      },
      "text/plain": [
       "  0%|          | 0/1 [00:00<?, ?it/s]"
      ]
     },
     "metadata": {},
     "output_type": "display_data"
    },
    {
     "name": "stdout",
     "output_type": "stream",
     "text": [
      "1\n",
      "100\n",
      "Change dominating species from Homo Sapiens to Denisovan would require removing 3 reads: [5, 1, 0]\n",
      "[5, 1, 0]\n",
      "counter_factual shap on size 100: 3\n",
      "Change dominating species from Homo Sapiens to Denisovan would require removing 3 reads: [0, 1, 5]\n",
      "[0, 1, 5]\n",
      "counter_factual monte carlo on size 200: 3\n",
      "1\n"
     ]
    },
    {
     "data": {
      "application/vnd.jupyter.widget-view+json": {
       "model_id": "954eb9c48c6649b5840b0932defac519",
       "version_major": 2,
       "version_minor": 0
      },
      "text/plain": [
       "  0%|          | 0/1 [00:00<?, ?it/s]"
      ]
     },
     "metadata": {},
     "output_type": "display_data"
    },
    {
     "name": "stdout",
     "output_type": "stream",
     "text": [
      "1\n",
      "200\n",
      "Change dominating species from Homo Sapiens to Denisovan would require removing 3 reads: [0, 5, 7]\n",
      "[0, 5, 7]\n",
      "counter_factual shap on size 200: 3\n",
      "Change dominating species from Homo Sapiens to Denisovan would require removing 3 reads: [5, 7, 0]\n",
      "[5, 7, 0]\n",
      "counter_factual monte carlo on size 500: 3\n",
      "1\n"
     ]
    },
    {
     "data": {
      "application/vnd.jupyter.widget-view+json": {
       "model_id": "8047250e199d412599eb19c4c1e503a5",
       "version_major": 2,
       "version_minor": 0
      },
      "text/plain": [
       "  0%|          | 0/1 [00:00<?, ?it/s]"
      ]
     },
     "metadata": {},
     "output_type": "display_data"
    },
    {
     "name": "stdout",
     "output_type": "stream",
     "text": [
      "1\n",
      "500\n",
      "Change dominating species from Homo Sapiens to Denisovan would require removing 3 reads: [1, 5, 7]\n",
      "[1, 5, 7]\n",
      "counter_factual shap on size 500: 3\n",
      "Change dominating species from Homo Sapiens to Denisovan would require removing 3 reads: [1, 0, 5]\n",
      "[1, 0, 5]\n",
      "counter_factualA_s_d: 3\n",
      "[(10, 1, 1, 6, [(1, 10), (5, 10), (10, 10), (20, 11), (50, 7), (100, 6), (200, 6), (500, 7)], [(1, 9), (5, 6), (10, 8), (20, 6), (50, 7), (100, 7), (200, 7), (500, 7)], 7), (5, 4, 3, 3, [(1, 5), (5, 5), (10, 5), (20, 5), (50, 3), (100, 3), (200, 3), (500, 3)], [(1, 4), (5, 3), (10, 3), (20, 3), (50, 3), (100, 3), (200, 3), (500, 3)], 3), (2, 6, 4, 1, [(1, 3), (5, 3), (10, 2), (20, 1), (50, 1), (100, 1), (200, 1), (500, 1)], [(1, 3), (5, 1), (10, 1), (20, 1), (50, 1), (100, 1), (200, 1), (500, 1)], 1), (4, 5, 3, 2, [(1, 3), (5, 2), (10, 2), (20, 2), (50, 2), (100, 2), (200, 2), (500, 2)], [(1, 2), (5, 2), (10, 2), (20, 2), (50, 2), (100, 2), (200, 2), (500, 2)], 2), (9, 2, 1, 3, [(1, 8), (5, 7), (10, 7), (20, 9), (50, 5), (100, 5), (200, 6), (500, 5)], [(1, 4), (5, 6), (10, 5), (20, 5), (50, 4), (100, 4), (200, 4), (500, 5)], 6), (6, 4, 2, 2, [(1, 5), (5, 5), (10, 3), (20, 2), (50, 2), (100, 2), (200, 2), (500, 2)], [(1, 2), (5, 2), (10, 2), (20, 2), (50, 2), (100, 2), (200, 2), (500, 2)], 2), (6, 4, 2, 3, [(1, 4), (5, 5), (10, 4), (20, 5), (50, 3), (100, 3), (200, 3), (500, 3)], [(1, 3), (5, 3), (10, 4), (20, 3), (50, 3), (100, 3), (200, 3), (500, 3)], 3), (2, 6, 4, 3, [(1, 6), (5, 6), (10, 6), (20, 5), (50, 3), (100, 3), (200, 3), (500, 3)], [(1, 5), (5, 4), (10, 3), (20, 3), (50, 3), (100, 3), (200, 3), (500, 3)], 3), (0, 8, 4, 3, [(1, 5), (5, 5), (10, 7), (20, 4), (50, 4), (100, 3), (200, 3), (500, 3)], [(1, 3), (5, 3), (10, 3), (20, 3), (50, 4), (100, 3), (200, 3), (500, 3)], 3), (4, 5, 3, 4, [(1, 4), (5, 4), (10, 4), (20, 6), (50, 4), (100, 4), (200, 4), (500, 4)], [(1, 5), (5, 4), (10, 5), (20, 4), (50, 4), (100, 4), (200, 4), (500, 4)], 4), (3, 6, 3, 2, [(1, 2), (5, 2), (10, 2), (20, 2), (50, 2), (100, 2), (200, 2), (500, 2)], [(1, 4), (5, 2), (10, 2), (20, 2), (50, 2), (100, 2), (200, 2), (500, 2)], 2), (3, 6, 3, 4, [(1, 8), (5, 6), (10, 8), (20, 8), (50, 4), (100, 4), (200, 4), (500, 4)], [(1, 8), (5, 6), (10, 5), (20, 4), (50, 4), (100, 4), (200, 4), (500, 4)], 4), (5, 4, 3, 3, [(1, 8), (5, 8), (10, 8), (20, 4), (50, 4), (100, 4), (200, 3), (500, 3)], [(1, 5), (5, 5), (10, 5), (20, 4), (50, 4), (100, 3), (200, 3), (500, 3)], 3), (11, 0, 1, 3, [(1, 11), (5, 11), (10, 7), (20, 8), (50, 4), (100, 4), (200, 3), (500, 3)], [(1, 3), (5, 4), (10, 3), (20, 4), (50, 4), (100, 4), (200, 3), (500, 4)], 3), (4, 5, 3, 2, [(1, 9), (5, 8), (10, 9), (20, 3), (50, 4), (100, 2), (200, 2), (500, 2)], [(1, 4), (5, 2), (10, 2), (20, 2), (50, 2), (100, 2), (200, 2), (500, 2)], 2), (2, 6, 4, 3, [(1, 5), (5, 6), (10, 3), (20, 4), (50, 3), (100, 3), (200, 3), (500, 3)], [(1, 3), (5, 3), (10, 4), (20, 3), (50, 3), (100, 3), (200, 3), (500, 3)], 3), (0, 8, 4, 1, [(1, 3), (5, 1), (10, 2), (20, 1), (50, 1), (100, 1), (200, 1), (500, 1)], [(1, 1), (5, 1), (10, 1), (20, 1), (50, 1), (100, 1), (200, 1), (500, 1)], 1), (2, 6, 4, 2, [(1, 6), (5, 6), (10, 6), (20, 2), (50, 2), (100, 2), (200, 2), (500, 2)], [(1, 2), (5, 3), (10, 2), (20, 2), (50, 2), (100, 2), (200, 2), (500, 2)], 2), (5, 4, 3, 2, [(1, 3), (5, 3), (10, 3), (20, 2), (50, 2), (100, 2), (200, 2), (500, 2)], [(1, 3), (5, 3), (10, 2), (20, 2), (50, 2), (100, 2), (200, 2), (500, 2)], 2), (1, 7, 4, 1, [(1, 4), (5, 1), (10, 1), (20, 1), (50, 1), (100, 1), (200, 1), (500, 1)], [(1, 2), (5, 1), (10, 1), (20, 1), (50, 1), (100, 1), (200, 1), (500, 1)], 1), (9, 2, 1, 2, [(1, 7), (5, 8), (10, 2), (20, 2), (50, 3), (100, 2), (200, 2), (500, 2)], [(1, 2), (5, 2), (10, 2), (20, 2), (50, 2), (100, 2), (200, 2), (500, 2)], 2), (11, 0, 1, 7, [(1, 10), (5, 10), (10, 9), (20, 10), (50, 10), (100, 7), (200, 7), (500, 7)], [(1, 10), (5, 7), (10, 7), (20, 7), (50, 7), (100, 7), (200, 7), (500, 7)], 7), (3, 6, 3, 1, [(1, 7), (5, 8), (10, 1), (20, 1), (50, 1), (100, 1), (200, 1), (500, 1)], [(1, 2), (5, 1), (10, 1), (20, 1), (50, 1), (100, 1), (200, 1), (500, 1)], 1), (7, 3, 2, 1, [(1, 2), (5, 2), (10, 2), (20, 2), (50, 1), (100, 1), (200, 1), (500, 1)], [(1, 1), (5, 1), (10, 1), (20, 1), (50, 1), (100, 1), (200, 1), (500, 1)], 1), (9, 2, 1, 2, [(1, 3), (5, 4), (10, 3), (20, 2), (50, 2), (100, 2), (200, 2), (500, 2)], [(1, 2), (5, 2), (10, 2), (20, 3), (50, 2), (100, 3), (200, 3), (500, 2)], 2), (8, 2, 2, 4, [(1, 8), (5, 5), (10, 5), (20, 4), (50, 4), (100, 4), (200, 4), (500, 4)], [(1, 4), (5, 6), (10, 4), (20, 4), (50, 4), (100, 4), (200, 4), (500, 4)], 4), (11, 0, 1, 8, [(1, 10), (5, 10), (10, 10), (20, 8), (50, 11), (100, 8), (200, 8), (500, 8)], [(1, 10), (5, 9), (10, 9), (20, 9), (50, 8), (100, 8), (200, 8), (500, 8)], 8), (6, 4, 2, 1, [(1, 1), (5, 1), (10, 1), (20, 1), (50, 1), (100, 1), (200, 1), (500, 1)], [(1, 1), (5, 1), (10, 1), (20, 1), (50, 1), (100, 1), (200, 1), (500, 1)], 1), (3, 6, 3, 2, [(1, 6), (5, 6), (10, 5), (20, 2), (50, 2), (100, 2), (200, 2), (500, 2)], [(1, 2), (5, 2), (10, 2), (20, 2), (50, 2), (100, 2), (200, 2), (500, 2)], 2), (6, 4, 2, 2, [(1, 10), (5, 10), (10, 10), (20, 10), (50, 3), (100, 3), (200, 3), (500, 3)], [(1, 10), (5, 3), (10, 4), (20, 4), (50, 3), (100, 3), (200, 3), (500, 3)], 4), (3, 6, 3, 1, [(1, 1), (5, 1), (10, 1), (20, 1), (50, 1), (100, 1), (200, 1), (500, 1)], [(1, 1), (5, 1), (10, 1), (20, 1), (50, 1), (100, 1), (200, 1), (500, 1)], 1), (8, 2, 2, 4, [(1, 6), (5, 6), (10, 8), (20, 4), (50, 5), (100, 5), (200, 4), (500, 4)], [(1, 6), (5, 6), (10, 5), (20, 4), (50, 5), (100, 5), (200, 5), (500, 4)], 4), (4, 5, 3, 1, [(1, 3), (5, 1), (10, 1), (20, 1), (50, 1), (100, 1), (200, 1), (500, 1)], [(1, 1), (5, 1), (10, 1), (20, 1), (50, 1), (100, 1), (200, 1), (500, 1)], 1), (7, 3, 2, 1, [(1, 9), (5, 9), (10, 1), (20, 1), (50, 1), (100, 1), (200, 1), (500, 1)], [(1, 1), (5, 1), (10, 1), (20, 1), (50, 1), (100, 1), (200, 1), (500, 1)], 1), (8, 2, 2, 3, [(1, 7), (5, 7), (10, 7), (20, 7), (50, 3), (100, 3), (200, 3), (500, 3)], [(1, 7), (5, 4), (10, 4), (20, 4), (50, 3), (100, 3), (200, 3), (500, 3)], 3), (8, 2, 2, 3, [(1, 6), (5, 3), (10, 4), (20, 5), (50, 3), (100, 3), (200, 3), (500, 3)], [(1, 4), (5, 4), (10, 3), (20, 3), (50, 3), (100, 3), (200, 3), (500, 3)], 3)]\n",
      "new experiment: 36\n",
      "9 2 1\n",
      "\u001b[34mLoading sequences and calculating alignments to all references, this might take a while. Number of reads: \u001b[0m 12\n",
      "start working on read number 0\n",
      "working on size:  0\n",
      "working on size:  1\n",
      "working on size:  2\n",
      "working on size:  3\n",
      "working on size:  4\n",
      "working on size:  5\n",
      "working on size:  6\n",
      "groundtruth: 6\n",
      "groundtruth values: [0, 2, 3, 4, 5, 6]\n",
      "Change dominating species from Homo Sapiens to Neanderthal would require removing 7 reads: [5, 0, 1, 2, 3, 4, 6]\n",
      "[5, 0, 1, 2, 3, 4, 6]\n",
      "counter_factual monte carlo on size 1: 7\n",
      "1\n"
     ]
    },
    {
     "data": {
      "application/vnd.jupyter.widget-view+json": {
       "model_id": "15e83838512e4fcfa70a51a352290209",
       "version_major": 2,
       "version_minor": 0
      },
      "text/plain": [
       "  0%|          | 0/1 [00:00<?, ?it/s]"
      ]
     },
     "metadata": {},
     "output_type": "display_data"
    },
    {
     "name": "stdout",
     "output_type": "stream",
     "text": [
      "1\n",
      "1\n",
      "Change dominating species from Homo Sapiens to Neanderthal would require removing 7 reads: [0, 1, 2, 3, 4, 5, 6]\n",
      "[0, 1, 2, 3, 4, 5, 6]\n",
      "counter_factual shap on size 1: 7\n",
      "Change dominating species from Homo Sapiens to Denisovan would require removing 8 reads: [5, 2, 3, 8, 0, 9, 1, 6]\n",
      "[5, 2, 3, 8, 0, 9, 1, 6]\n",
      "counter_factual monte carlo on size 5: 8\n",
      "1\n"
     ]
    },
    {
     "data": {
      "application/vnd.jupyter.widget-view+json": {
       "model_id": "7c374066154c45a4814eec0f362021dc",
       "version_major": 2,
       "version_minor": 0
      },
      "text/plain": [
       "  0%|          | 0/1 [00:00<?, ?it/s]"
      ]
     },
     "metadata": {},
     "output_type": "display_data"
    },
    {
     "name": "stdout",
     "output_type": "stream",
     "text": [
      "1\n",
      "5\n",
      "Change dominating species from Homo Sapiens to Neanderthal would require removing 8 reads: [10, 0, 1, 2, 3, 4, 5, 6]\n",
      "[10, 0, 1, 2, 3, 4, 5, 6]\n",
      "counter_factual shap on size 5: 8\n",
      "Change dominating species from Homo Sapiens to Denisovan would require removing 8 reads: [5, 2, 4, 10, 9, 6, 8, 0]\n",
      "[5, 2, 4, 10, 9, 6, 8, 0]\n",
      "counter_factual monte carlo on size 10: 8\n",
      "1\n"
     ]
    },
    {
     "data": {
      "application/vnd.jupyter.widget-view+json": {
       "model_id": "158c43f0b23c45a6a8ebcb242e39db32",
       "version_major": 2,
       "version_minor": 0
      },
      "text/plain": [
       "  0%|          | 0/1 [00:00<?, ?it/s]"
      ]
     },
     "metadata": {},
     "output_type": "display_data"
    },
    {
     "name": "stdout",
     "output_type": "stream",
     "text": [
      "1\n",
      "10\n",
      "Change dominating species from Homo Sapiens to Neanderthal would require removing 9 reads: [10, 1, 8, 0, 2, 3, 4, 5, 6]\n",
      "[10, 1, 8, 0, 2, 3, 4, 5, 6]\n",
      "counter_factual shap on size 10: 9\n",
      "Change dominating species from Homo Sapiens to Neanderthal would require removing 6 reads: [0, 2, 5, 6, 3, 4]\n",
      "[0, 2, 5, 6, 3, 4]\n",
      "counter_factual monte carlo on size 20: 6\n",
      "1\n"
     ]
    },
    {
     "data": {
      "application/vnd.jupyter.widget-view+json": {
       "model_id": "5dd2d93408114f03932753b7ccb576bf",
       "version_major": 2,
       "version_minor": 0
      },
      "text/plain": [
       "  0%|          | 0/1 [00:00<?, ?it/s]"
      ]
     },
     "metadata": {},
     "output_type": "display_data"
    },
    {
     "name": "stdout",
     "output_type": "stream",
     "text": [
      "1\n",
      "20\n",
      "Change dominating species from Homo Sapiens to Neanderthal would require removing 7 reads: [6, 2, 5, 1, 0, 3, 4]\n",
      "[6, 2, 5, 1, 0, 3, 4]\n",
      "counter_factual shap on size 20: 7\n",
      "Change dominating species from Homo Sapiens to Neanderthal would require removing 7 reads: [2, 6, 5, 3, 0, 9, 4]\n",
      "[2, 6, 5, 3, 0, 9, 4]\n",
      "counter_factual monte carlo on size 50: 7\n",
      "1\n"
     ]
    },
    {
     "data": {
      "application/vnd.jupyter.widget-view+json": {
       "model_id": "331531f0a9944244a6064cea0d1082f9",
       "version_major": 2,
       "version_minor": 0
      },
      "text/plain": [
       "  0%|          | 0/1 [00:00<?, ?it/s]"
      ]
     },
     "metadata": {},
     "output_type": "display_data"
    },
    {
     "name": "stdout",
     "output_type": "stream",
     "text": [
      "1\n",
      "50\n",
      "Change dominating species from Homo Sapiens to Neanderthal would require removing 10 reads: [5, 0, 2, 6, 7, 9, 4, 10, 1, 3]\n",
      "[5, 0, 2, 6, 7, 9, 4, 10, 1, 3]\n",
      "counter_factual shap on size 50: 10\n",
      "Change dominating species from Homo Sapiens to Neanderthal would require removing 8 reads: [2, 5, 0, 6, 9, 8, 4, 3]\n",
      "[2, 5, 0, 6, 9, 8, 4, 3]\n",
      "counter_factual monte carlo on size 100: 8\n",
      "1\n"
     ]
    },
    {
     "data": {
      "application/vnd.jupyter.widget-view+json": {
       "model_id": "619ce182f04f44e68e3669c3e5c2a16b",
       "version_major": 2,
       "version_minor": 0
      },
      "text/plain": [
       "  0%|          | 0/1 [00:00<?, ?it/s]"
      ]
     },
     "metadata": {},
     "output_type": "display_data"
    },
    {
     "name": "stdout",
     "output_type": "stream",
     "text": [
      "1\n",
      "100\n",
      "Change dominating species from Homo Sapiens to Neanderthal would require removing 8 reads: [0, 5, 2, 9, 3, 1, 6, 4]\n",
      "[0, 5, 2, 9, 3, 1, 6, 4]\n",
      "counter_factual shap on size 100: 8\n",
      "Change dominating species from Homo Sapiens to Neanderthal would require removing 8 reads: [5, 2, 0, 6, 9, 8, 3, 4]\n",
      "[5, 2, 0, 6, 9, 8, 3, 4]\n",
      "counter_factual monte carlo on size 200: 8\n",
      "1\n"
     ]
    },
    {
     "data": {
      "application/vnd.jupyter.widget-view+json": {
       "model_id": "098cf5dd5ed24e8cb95aa3947305045d",
       "version_major": 2,
       "version_minor": 0
      },
      "text/plain": [
       "  0%|          | 0/1 [00:00<?, ?it/s]"
      ]
     },
     "metadata": {},
     "output_type": "display_data"
    },
    {
     "name": "stdout",
     "output_type": "stream",
     "text": [
      "1\n",
      "200\n",
      "Change dominating species from Homo Sapiens to Neanderthal would require removing 7 reads: [2, 6, 5, 0, 3, 1, 4]\n",
      "[2, 6, 5, 0, 3, 1, 4]\n",
      "counter_factual shap on size 200: 7\n",
      "Change dominating species from Homo Sapiens to Denisovan would require removing 8 reads: [5, 0, 2, 6, 9, 3, 8, 1]\n",
      "[5, 0, 2, 6, 9, 3, 8, 1]\n",
      "counter_factual monte carlo on size 500: 8\n",
      "1\n"
     ]
    },
    {
     "data": {
      "application/vnd.jupyter.widget-view+json": {
       "model_id": "481ba98582654d23988aded3e9a91694",
       "version_major": 2,
       "version_minor": 0
      },
      "text/plain": [
       "  0%|          | 0/1 [00:00<?, ?it/s]"
      ]
     },
     "metadata": {},
     "output_type": "display_data"
    },
    {
     "name": "stdout",
     "output_type": "stream",
     "text": [
      "1\n",
      "500\n",
      "Change dominating species from Homo Sapiens to Neanderthal would require removing 8 reads: [2, 0, 5, 6, 9, 8, 3, 4]\n",
      "[2, 0, 5, 6, 9, 8, 3, 4]\n",
      "counter_factual shap on size 500: 8\n",
      "Change dominating species from Homo Sapiens to Denisovan would require removing 8 reads: [0, 2, 6, 5, 9, 8, 4, 1]\n",
      "[0, 2, 6, 5, 9, 8, 4, 1]\n",
      "counter_factualA_s_d: 8\n",
      "[(10, 1, 1, 6, [(1, 10), (5, 10), (10, 10), (20, 11), (50, 7), (100, 6), (200, 6), (500, 7)], [(1, 9), (5, 6), (10, 8), (20, 6), (50, 7), (100, 7), (200, 7), (500, 7)], 7), (5, 4, 3, 3, [(1, 5), (5, 5), (10, 5), (20, 5), (50, 3), (100, 3), (200, 3), (500, 3)], [(1, 4), (5, 3), (10, 3), (20, 3), (50, 3), (100, 3), (200, 3), (500, 3)], 3), (2, 6, 4, 1, [(1, 3), (5, 3), (10, 2), (20, 1), (50, 1), (100, 1), (200, 1), (500, 1)], [(1, 3), (5, 1), (10, 1), (20, 1), (50, 1), (100, 1), (200, 1), (500, 1)], 1), (4, 5, 3, 2, [(1, 3), (5, 2), (10, 2), (20, 2), (50, 2), (100, 2), (200, 2), (500, 2)], [(1, 2), (5, 2), (10, 2), (20, 2), (50, 2), (100, 2), (200, 2), (500, 2)], 2), (9, 2, 1, 3, [(1, 8), (5, 7), (10, 7), (20, 9), (50, 5), (100, 5), (200, 6), (500, 5)], [(1, 4), (5, 6), (10, 5), (20, 5), (50, 4), (100, 4), (200, 4), (500, 5)], 6), (6, 4, 2, 2, [(1, 5), (5, 5), (10, 3), (20, 2), (50, 2), (100, 2), (200, 2), (500, 2)], [(1, 2), (5, 2), (10, 2), (20, 2), (50, 2), (100, 2), (200, 2), (500, 2)], 2), (6, 4, 2, 3, [(1, 4), (5, 5), (10, 4), (20, 5), (50, 3), (100, 3), (200, 3), (500, 3)], [(1, 3), (5, 3), (10, 4), (20, 3), (50, 3), (100, 3), (200, 3), (500, 3)], 3), (2, 6, 4, 3, [(1, 6), (5, 6), (10, 6), (20, 5), (50, 3), (100, 3), (200, 3), (500, 3)], [(1, 5), (5, 4), (10, 3), (20, 3), (50, 3), (100, 3), (200, 3), (500, 3)], 3), (0, 8, 4, 3, [(1, 5), (5, 5), (10, 7), (20, 4), (50, 4), (100, 3), (200, 3), (500, 3)], [(1, 3), (5, 3), (10, 3), (20, 3), (50, 4), (100, 3), (200, 3), (500, 3)], 3), (4, 5, 3, 4, [(1, 4), (5, 4), (10, 4), (20, 6), (50, 4), (100, 4), (200, 4), (500, 4)], [(1, 5), (5, 4), (10, 5), (20, 4), (50, 4), (100, 4), (200, 4), (500, 4)], 4), (3, 6, 3, 2, [(1, 2), (5, 2), (10, 2), (20, 2), (50, 2), (100, 2), (200, 2), (500, 2)], [(1, 4), (5, 2), (10, 2), (20, 2), (50, 2), (100, 2), (200, 2), (500, 2)], 2), (3, 6, 3, 4, [(1, 8), (5, 6), (10, 8), (20, 8), (50, 4), (100, 4), (200, 4), (500, 4)], [(1, 8), (5, 6), (10, 5), (20, 4), (50, 4), (100, 4), (200, 4), (500, 4)], 4), (5, 4, 3, 3, [(1, 8), (5, 8), (10, 8), (20, 4), (50, 4), (100, 4), (200, 3), (500, 3)], [(1, 5), (5, 5), (10, 5), (20, 4), (50, 4), (100, 3), (200, 3), (500, 3)], 3), (11, 0, 1, 3, [(1, 11), (5, 11), (10, 7), (20, 8), (50, 4), (100, 4), (200, 3), (500, 3)], [(1, 3), (5, 4), (10, 3), (20, 4), (50, 4), (100, 4), (200, 3), (500, 4)], 3), (4, 5, 3, 2, [(1, 9), (5, 8), (10, 9), (20, 3), (50, 4), (100, 2), (200, 2), (500, 2)], [(1, 4), (5, 2), (10, 2), (20, 2), (50, 2), (100, 2), (200, 2), (500, 2)], 2), (2, 6, 4, 3, [(1, 5), (5, 6), (10, 3), (20, 4), (50, 3), (100, 3), (200, 3), (500, 3)], [(1, 3), (5, 3), (10, 4), (20, 3), (50, 3), (100, 3), (200, 3), (500, 3)], 3), (0, 8, 4, 1, [(1, 3), (5, 1), (10, 2), (20, 1), (50, 1), (100, 1), (200, 1), (500, 1)], [(1, 1), (5, 1), (10, 1), (20, 1), (50, 1), (100, 1), (200, 1), (500, 1)], 1), (2, 6, 4, 2, [(1, 6), (5, 6), (10, 6), (20, 2), (50, 2), (100, 2), (200, 2), (500, 2)], [(1, 2), (5, 3), (10, 2), (20, 2), (50, 2), (100, 2), (200, 2), (500, 2)], 2), (5, 4, 3, 2, [(1, 3), (5, 3), (10, 3), (20, 2), (50, 2), (100, 2), (200, 2), (500, 2)], [(1, 3), (5, 3), (10, 2), (20, 2), (50, 2), (100, 2), (200, 2), (500, 2)], 2), (1, 7, 4, 1, [(1, 4), (5, 1), (10, 1), (20, 1), (50, 1), (100, 1), (200, 1), (500, 1)], [(1, 2), (5, 1), (10, 1), (20, 1), (50, 1), (100, 1), (200, 1), (500, 1)], 1), (9, 2, 1, 2, [(1, 7), (5, 8), (10, 2), (20, 2), (50, 3), (100, 2), (200, 2), (500, 2)], [(1, 2), (5, 2), (10, 2), (20, 2), (50, 2), (100, 2), (200, 2), (500, 2)], 2), (11, 0, 1, 7, [(1, 10), (5, 10), (10, 9), (20, 10), (50, 10), (100, 7), (200, 7), (500, 7)], [(1, 10), (5, 7), (10, 7), (20, 7), (50, 7), (100, 7), (200, 7), (500, 7)], 7), (3, 6, 3, 1, [(1, 7), (5, 8), (10, 1), (20, 1), (50, 1), (100, 1), (200, 1), (500, 1)], [(1, 2), (5, 1), (10, 1), (20, 1), (50, 1), (100, 1), (200, 1), (500, 1)], 1), (7, 3, 2, 1, [(1, 2), (5, 2), (10, 2), (20, 2), (50, 1), (100, 1), (200, 1), (500, 1)], [(1, 1), (5, 1), (10, 1), (20, 1), (50, 1), (100, 1), (200, 1), (500, 1)], 1), (9, 2, 1, 2, [(1, 3), (5, 4), (10, 3), (20, 2), (50, 2), (100, 2), (200, 2), (500, 2)], [(1, 2), (5, 2), (10, 2), (20, 3), (50, 2), (100, 3), (200, 3), (500, 2)], 2), (8, 2, 2, 4, [(1, 8), (5, 5), (10, 5), (20, 4), (50, 4), (100, 4), (200, 4), (500, 4)], [(1, 4), (5, 6), (10, 4), (20, 4), (50, 4), (100, 4), (200, 4), (500, 4)], 4), (11, 0, 1, 8, [(1, 10), (5, 10), (10, 10), (20, 8), (50, 11), (100, 8), (200, 8), (500, 8)], [(1, 10), (5, 9), (10, 9), (20, 9), (50, 8), (100, 8), (200, 8), (500, 8)], 8), (6, 4, 2, 1, [(1, 1), (5, 1), (10, 1), (20, 1), (50, 1), (100, 1), (200, 1), (500, 1)], [(1, 1), (5, 1), (10, 1), (20, 1), (50, 1), (100, 1), (200, 1), (500, 1)], 1), (3, 6, 3, 2, [(1, 6), (5, 6), (10, 5), (20, 2), (50, 2), (100, 2), (200, 2), (500, 2)], [(1, 2), (5, 2), (10, 2), (20, 2), (50, 2), (100, 2), (200, 2), (500, 2)], 2), (6, 4, 2, 2, [(1, 10), (5, 10), (10, 10), (20, 10), (50, 3), (100, 3), (200, 3), (500, 3)], [(1, 10), (5, 3), (10, 4), (20, 4), (50, 3), (100, 3), (200, 3), (500, 3)], 4), (3, 6, 3, 1, [(1, 1), (5, 1), (10, 1), (20, 1), (50, 1), (100, 1), (200, 1), (500, 1)], [(1, 1), (5, 1), (10, 1), (20, 1), (50, 1), (100, 1), (200, 1), (500, 1)], 1), (8, 2, 2, 4, [(1, 6), (5, 6), (10, 8), (20, 4), (50, 5), (100, 5), (200, 4), (500, 4)], [(1, 6), (5, 6), (10, 5), (20, 4), (50, 5), (100, 5), (200, 5), (500, 4)], 4), (4, 5, 3, 1, [(1, 3), (5, 1), (10, 1), (20, 1), (50, 1), (100, 1), (200, 1), (500, 1)], [(1, 1), (5, 1), (10, 1), (20, 1), (50, 1), (100, 1), (200, 1), (500, 1)], 1), (7, 3, 2, 1, [(1, 9), (5, 9), (10, 1), (20, 1), (50, 1), (100, 1), (200, 1), (500, 1)], [(1, 1), (5, 1), (10, 1), (20, 1), (50, 1), (100, 1), (200, 1), (500, 1)], 1), (8, 2, 2, 3, [(1, 7), (5, 7), (10, 7), (20, 7), (50, 3), (100, 3), (200, 3), (500, 3)], [(1, 7), (5, 4), (10, 4), (20, 4), (50, 3), (100, 3), (200, 3), (500, 3)], 3), (8, 2, 2, 3, [(1, 6), (5, 3), (10, 4), (20, 5), (50, 3), (100, 3), (200, 3), (500, 3)], [(1, 4), (5, 4), (10, 3), (20, 3), (50, 3), (100, 3), (200, 3), (500, 3)], 3), (9, 2, 1, 6, [(1, 7), (5, 8), (10, 9), (20, 7), (50, 10), (100, 8), (200, 7), (500, 8)], [(1, 7), (5, 8), (10, 8), (20, 6), (50, 7), (100, 8), (200, 8), (500, 8)], 8)]\n",
      "new experiment: 37\n",
      "2 6 4\n",
      "\u001b[34mLoading sequences and calculating alignments to all references, this might take a while. Number of reads: \u001b[0m 12\n",
      "start working on read number 0\n",
      "working on size:  0\n",
      "working on size:  1\n",
      "groundtruth: 1\n",
      "groundtruth values: [2]\n",
      "Change dominating species from Neanderthal to Homo Sapiens would require removing 2 reads: [3, 7]\n",
      "[3, 7]\n",
      "counter_factual monte carlo on size 1: 2\n",
      "1\n"
     ]
    },
    {
     "data": {
      "application/vnd.jupyter.widget-view+json": {
       "model_id": "675384782e45494292ef67d65e98500d",
       "version_major": 2,
       "version_minor": 0
      },
      "text/plain": [
       "  0%|          | 0/1 [00:00<?, ?it/s]"
      ]
     },
     "metadata": {},
     "output_type": "display_data"
    },
    {
     "name": "stdout",
     "output_type": "stream",
     "text": [
      "1\n",
      "1\n",
      "Change dominating species from Neanderthal to Denisovan would require removing 7 reads: [0, 1, 2, 3, 4, 5, 6]\n",
      "[0, 1, 2, 3, 4, 5, 6]\n",
      "counter_factual shap on size 1: 7\n",
      "Change dominating species from Neanderthal to Homo Sapiens would require removing 1 reads: [6]\n",
      "[6]\n",
      "counter_factual monte carlo on size 5: 1\n",
      "1\n"
     ]
    },
    {
     "data": {
      "application/vnd.jupyter.widget-view+json": {
       "model_id": "68bde96c6be34358b179e49bfd0ab874",
       "version_major": 2,
       "version_minor": 0
      },
      "text/plain": [
       "  0%|          | 0/1 [00:00<?, ?it/s]"
      ]
     },
     "metadata": {},
     "output_type": "display_data"
    },
    {
     "name": "stdout",
     "output_type": "stream",
     "text": [
      "1\n",
      "5\n",
      "Change dominating species from Neanderthal to Homo Sapiens would require removing 1 reads: [2]\n",
      "[2]\n",
      "counter_factual shap on size 5: 1\n",
      "Change dominating species from Neanderthal to Homo Sapiens would require removing 1 reads: [2]\n",
      "[2]\n",
      "counter_factual monte carlo on size 10: 1\n",
      "1\n"
     ]
    },
    {
     "data": {
      "application/vnd.jupyter.widget-view+json": {
       "model_id": "0a6b120e20924e19ba51fa0b96d10598",
       "version_major": 2,
       "version_minor": 0
      },
      "text/plain": [
       "  0%|          | 0/1 [00:00<?, ?it/s]"
      ]
     },
     "metadata": {},
     "output_type": "display_data"
    },
    {
     "name": "stdout",
     "output_type": "stream",
     "text": [
      "1\n",
      "10\n",
      "Change dominating species from Neanderthal to Homo Sapiens would require removing 1 reads: [2]\n",
      "[2]\n",
      "counter_factual shap on size 10: 1\n",
      "Change dominating species from Neanderthal to Homo Sapiens would require removing 1 reads: [6]\n",
      "[6]\n",
      "counter_factual monte carlo on size 20: 1\n",
      "1\n"
     ]
    },
    {
     "data": {
      "application/vnd.jupyter.widget-view+json": {
       "model_id": "a94c13850bc64319ac4a709fde641614",
       "version_major": 2,
       "version_minor": 0
      },
      "text/plain": [
       "  0%|          | 0/1 [00:00<?, ?it/s]"
      ]
     },
     "metadata": {},
     "output_type": "display_data"
    },
    {
     "name": "stdout",
     "output_type": "stream",
     "text": [
      "1\n",
      "20\n",
      "Change dominating species from Neanderthal to Homo Sapiens would require removing 1 reads: [2]\n",
      "[2]\n",
      "counter_factual shap on size 20: 1\n",
      "Change dominating species from Neanderthal to Homo Sapiens would require removing 1 reads: [7]\n",
      "[7]\n",
      "counter_factual monte carlo on size 50: 1\n",
      "1\n"
     ]
    },
    {
     "data": {
      "application/vnd.jupyter.widget-view+json": {
       "model_id": "8fafc3fb2de4446a9018946d4cd2e720",
       "version_major": 2,
       "version_minor": 0
      },
      "text/plain": [
       "  0%|          | 0/1 [00:00<?, ?it/s]"
      ]
     },
     "metadata": {},
     "output_type": "display_data"
    },
    {
     "name": "stdout",
     "output_type": "stream",
     "text": [
      "1\n",
      "50\n",
      "Change dominating species from Neanderthal to Homo Sapiens would require removing 1 reads: [2]\n",
      "[2]\n",
      "counter_factual shap on size 50: 1\n",
      "Change dominating species from Neanderthal to Homo Sapiens would require removing 1 reads: [7]\n",
      "[7]\n",
      "counter_factual monte carlo on size 100: 1\n",
      "1\n"
     ]
    },
    {
     "data": {
      "application/vnd.jupyter.widget-view+json": {
       "model_id": "18ea2d16c23849dc949119d717530abb",
       "version_major": 2,
       "version_minor": 0
      },
      "text/plain": [
       "  0%|          | 0/1 [00:00<?, ?it/s]"
      ]
     },
     "metadata": {},
     "output_type": "display_data"
    },
    {
     "name": "stdout",
     "output_type": "stream",
     "text": [
      "1\n",
      "100\n",
      "Change dominating species from Neanderthal to Homo Sapiens would require removing 1 reads: [7]\n",
      "[7]\n",
      "counter_factual shap on size 100: 1\n",
      "Change dominating species from Neanderthal to Homo Sapiens would require removing 1 reads: [7]\n",
      "[7]\n",
      "counter_factual monte carlo on size 200: 1\n",
      "1\n"
     ]
    },
    {
     "data": {
      "application/vnd.jupyter.widget-view+json": {
       "model_id": "77380683ecc947e19507bf654cac0f64",
       "version_major": 2,
       "version_minor": 0
      },
      "text/plain": [
       "  0%|          | 0/1 [00:00<?, ?it/s]"
      ]
     },
     "metadata": {},
     "output_type": "display_data"
    },
    {
     "name": "stdout",
     "output_type": "stream",
     "text": [
      "1\n",
      "200\n",
      "Change dominating species from Neanderthal to Homo Sapiens would require removing 1 reads: [2]\n",
      "[2]\n",
      "counter_factual shap on size 200: 1\n",
      "Change dominating species from Neanderthal to Homo Sapiens would require removing 1 reads: [7]\n",
      "[7]\n",
      "counter_factual monte carlo on size 500: 1\n",
      "1\n"
     ]
    },
    {
     "data": {
      "application/vnd.jupyter.widget-view+json": {
       "model_id": "7962a67c02a54758a53a0d033ec7d0e0",
       "version_major": 2,
       "version_minor": 0
      },
      "text/plain": [
       "  0%|          | 0/1 [00:00<?, ?it/s]"
      ]
     },
     "metadata": {},
     "output_type": "display_data"
    },
    {
     "name": "stdout",
     "output_type": "stream",
     "text": [
      "1\n",
      "500\n",
      "Change dominating species from Neanderthal to Homo Sapiens would require removing 1 reads: [2]\n",
      "[2]\n",
      "counter_factual shap on size 500: 1\n",
      "Change dominating species from Neanderthal to Homo Sapiens would require removing 1 reads: [7]\n",
      "[7]\n",
      "counter_factualA_s_d: 1\n",
      "[(10, 1, 1, 6, [(1, 10), (5, 10), (10, 10), (20, 11), (50, 7), (100, 6), (200, 6), (500, 7)], [(1, 9), (5, 6), (10, 8), (20, 6), (50, 7), (100, 7), (200, 7), (500, 7)], 7), (5, 4, 3, 3, [(1, 5), (5, 5), (10, 5), (20, 5), (50, 3), (100, 3), (200, 3), (500, 3)], [(1, 4), (5, 3), (10, 3), (20, 3), (50, 3), (100, 3), (200, 3), (500, 3)], 3), (2, 6, 4, 1, [(1, 3), (5, 3), (10, 2), (20, 1), (50, 1), (100, 1), (200, 1), (500, 1)], [(1, 3), (5, 1), (10, 1), (20, 1), (50, 1), (100, 1), (200, 1), (500, 1)], 1), (4, 5, 3, 2, [(1, 3), (5, 2), (10, 2), (20, 2), (50, 2), (100, 2), (200, 2), (500, 2)], [(1, 2), (5, 2), (10, 2), (20, 2), (50, 2), (100, 2), (200, 2), (500, 2)], 2), (9, 2, 1, 3, [(1, 8), (5, 7), (10, 7), (20, 9), (50, 5), (100, 5), (200, 6), (500, 5)], [(1, 4), (5, 6), (10, 5), (20, 5), (50, 4), (100, 4), (200, 4), (500, 5)], 6), (6, 4, 2, 2, [(1, 5), (5, 5), (10, 3), (20, 2), (50, 2), (100, 2), (200, 2), (500, 2)], [(1, 2), (5, 2), (10, 2), (20, 2), (50, 2), (100, 2), (200, 2), (500, 2)], 2), (6, 4, 2, 3, [(1, 4), (5, 5), (10, 4), (20, 5), (50, 3), (100, 3), (200, 3), (500, 3)], [(1, 3), (5, 3), (10, 4), (20, 3), (50, 3), (100, 3), (200, 3), (500, 3)], 3), (2, 6, 4, 3, [(1, 6), (5, 6), (10, 6), (20, 5), (50, 3), (100, 3), (200, 3), (500, 3)], [(1, 5), (5, 4), (10, 3), (20, 3), (50, 3), (100, 3), (200, 3), (500, 3)], 3), (0, 8, 4, 3, [(1, 5), (5, 5), (10, 7), (20, 4), (50, 4), (100, 3), (200, 3), (500, 3)], [(1, 3), (5, 3), (10, 3), (20, 3), (50, 4), (100, 3), (200, 3), (500, 3)], 3), (4, 5, 3, 4, [(1, 4), (5, 4), (10, 4), (20, 6), (50, 4), (100, 4), (200, 4), (500, 4)], [(1, 5), (5, 4), (10, 5), (20, 4), (50, 4), (100, 4), (200, 4), (500, 4)], 4), (3, 6, 3, 2, [(1, 2), (5, 2), (10, 2), (20, 2), (50, 2), (100, 2), (200, 2), (500, 2)], [(1, 4), (5, 2), (10, 2), (20, 2), (50, 2), (100, 2), (200, 2), (500, 2)], 2), (3, 6, 3, 4, [(1, 8), (5, 6), (10, 8), (20, 8), (50, 4), (100, 4), (200, 4), (500, 4)], [(1, 8), (5, 6), (10, 5), (20, 4), (50, 4), (100, 4), (200, 4), (500, 4)], 4), (5, 4, 3, 3, [(1, 8), (5, 8), (10, 8), (20, 4), (50, 4), (100, 4), (200, 3), (500, 3)], [(1, 5), (5, 5), (10, 5), (20, 4), (50, 4), (100, 3), (200, 3), (500, 3)], 3), (11, 0, 1, 3, [(1, 11), (5, 11), (10, 7), (20, 8), (50, 4), (100, 4), (200, 3), (500, 3)], [(1, 3), (5, 4), (10, 3), (20, 4), (50, 4), (100, 4), (200, 3), (500, 4)], 3), (4, 5, 3, 2, [(1, 9), (5, 8), (10, 9), (20, 3), (50, 4), (100, 2), (200, 2), (500, 2)], [(1, 4), (5, 2), (10, 2), (20, 2), (50, 2), (100, 2), (200, 2), (500, 2)], 2), (2, 6, 4, 3, [(1, 5), (5, 6), (10, 3), (20, 4), (50, 3), (100, 3), (200, 3), (500, 3)], [(1, 3), (5, 3), (10, 4), (20, 3), (50, 3), (100, 3), (200, 3), (500, 3)], 3), (0, 8, 4, 1, [(1, 3), (5, 1), (10, 2), (20, 1), (50, 1), (100, 1), (200, 1), (500, 1)], [(1, 1), (5, 1), (10, 1), (20, 1), (50, 1), (100, 1), (200, 1), (500, 1)], 1), (2, 6, 4, 2, [(1, 6), (5, 6), (10, 6), (20, 2), (50, 2), (100, 2), (200, 2), (500, 2)], [(1, 2), (5, 3), (10, 2), (20, 2), (50, 2), (100, 2), (200, 2), (500, 2)], 2), (5, 4, 3, 2, [(1, 3), (5, 3), (10, 3), (20, 2), (50, 2), (100, 2), (200, 2), (500, 2)], [(1, 3), (5, 3), (10, 2), (20, 2), (50, 2), (100, 2), (200, 2), (500, 2)], 2), (1, 7, 4, 1, [(1, 4), (5, 1), (10, 1), (20, 1), (50, 1), (100, 1), (200, 1), (500, 1)], [(1, 2), (5, 1), (10, 1), (20, 1), (50, 1), (100, 1), (200, 1), (500, 1)], 1), (9, 2, 1, 2, [(1, 7), (5, 8), (10, 2), (20, 2), (50, 3), (100, 2), (200, 2), (500, 2)], [(1, 2), (5, 2), (10, 2), (20, 2), (50, 2), (100, 2), (200, 2), (500, 2)], 2), (11, 0, 1, 7, [(1, 10), (5, 10), (10, 9), (20, 10), (50, 10), (100, 7), (200, 7), (500, 7)], [(1, 10), (5, 7), (10, 7), (20, 7), (50, 7), (100, 7), (200, 7), (500, 7)], 7), (3, 6, 3, 1, [(1, 7), (5, 8), (10, 1), (20, 1), (50, 1), (100, 1), (200, 1), (500, 1)], [(1, 2), (5, 1), (10, 1), (20, 1), (50, 1), (100, 1), (200, 1), (500, 1)], 1), (7, 3, 2, 1, [(1, 2), (5, 2), (10, 2), (20, 2), (50, 1), (100, 1), (200, 1), (500, 1)], [(1, 1), (5, 1), (10, 1), (20, 1), (50, 1), (100, 1), (200, 1), (500, 1)], 1), (9, 2, 1, 2, [(1, 3), (5, 4), (10, 3), (20, 2), (50, 2), (100, 2), (200, 2), (500, 2)], [(1, 2), (5, 2), (10, 2), (20, 3), (50, 2), (100, 3), (200, 3), (500, 2)], 2), (8, 2, 2, 4, [(1, 8), (5, 5), (10, 5), (20, 4), (50, 4), (100, 4), (200, 4), (500, 4)], [(1, 4), (5, 6), (10, 4), (20, 4), (50, 4), (100, 4), (200, 4), (500, 4)], 4), (11, 0, 1, 8, [(1, 10), (5, 10), (10, 10), (20, 8), (50, 11), (100, 8), (200, 8), (500, 8)], [(1, 10), (5, 9), (10, 9), (20, 9), (50, 8), (100, 8), (200, 8), (500, 8)], 8), (6, 4, 2, 1, [(1, 1), (5, 1), (10, 1), (20, 1), (50, 1), (100, 1), (200, 1), (500, 1)], [(1, 1), (5, 1), (10, 1), (20, 1), (50, 1), (100, 1), (200, 1), (500, 1)], 1), (3, 6, 3, 2, [(1, 6), (5, 6), (10, 5), (20, 2), (50, 2), (100, 2), (200, 2), (500, 2)], [(1, 2), (5, 2), (10, 2), (20, 2), (50, 2), (100, 2), (200, 2), (500, 2)], 2), (6, 4, 2, 2, [(1, 10), (5, 10), (10, 10), (20, 10), (50, 3), (100, 3), (200, 3), (500, 3)], [(1, 10), (5, 3), (10, 4), (20, 4), (50, 3), (100, 3), (200, 3), (500, 3)], 4), (3, 6, 3, 1, [(1, 1), (5, 1), (10, 1), (20, 1), (50, 1), (100, 1), (200, 1), (500, 1)], [(1, 1), (5, 1), (10, 1), (20, 1), (50, 1), (100, 1), (200, 1), (500, 1)], 1), (8, 2, 2, 4, [(1, 6), (5, 6), (10, 8), (20, 4), (50, 5), (100, 5), (200, 4), (500, 4)], [(1, 6), (5, 6), (10, 5), (20, 4), (50, 5), (100, 5), (200, 5), (500, 4)], 4), (4, 5, 3, 1, [(1, 3), (5, 1), (10, 1), (20, 1), (50, 1), (100, 1), (200, 1), (500, 1)], [(1, 1), (5, 1), (10, 1), (20, 1), (50, 1), (100, 1), (200, 1), (500, 1)], 1), (7, 3, 2, 1, [(1, 9), (5, 9), (10, 1), (20, 1), (50, 1), (100, 1), (200, 1), (500, 1)], [(1, 1), (5, 1), (10, 1), (20, 1), (50, 1), (100, 1), (200, 1), (500, 1)], 1), (8, 2, 2, 3, [(1, 7), (5, 7), (10, 7), (20, 7), (50, 3), (100, 3), (200, 3), (500, 3)], [(1, 7), (5, 4), (10, 4), (20, 4), (50, 3), (100, 3), (200, 3), (500, 3)], 3), (8, 2, 2, 3, [(1, 6), (5, 3), (10, 4), (20, 5), (50, 3), (100, 3), (200, 3), (500, 3)], [(1, 4), (5, 4), (10, 3), (20, 3), (50, 3), (100, 3), (200, 3), (500, 3)], 3), (9, 2, 1, 6, [(1, 7), (5, 8), (10, 9), (20, 7), (50, 10), (100, 8), (200, 7), (500, 8)], [(1, 7), (5, 8), (10, 8), (20, 6), (50, 7), (100, 8), (200, 8), (500, 8)], 8), (2, 6, 4, 1, [(1, 7), (5, 1), (10, 1), (20, 1), (50, 1), (100, 1), (200, 1), (500, 1)], [(1, 2), (5, 1), (10, 1), (20, 1), (50, 1), (100, 1), (200, 1), (500, 1)], 1)]\n",
      "new experiment: 38\n",
      "8 2 2\n",
      "\u001b[34mLoading sequences and calculating alignments to all references, this might take a while. Number of reads: \u001b[0m 12\n",
      "start working on read number 0\n",
      "working on size:  0\n",
      "working on size:  1\n",
      "working on size:  2\n",
      "working on size:  3\n",
      "working on size:  4\n",
      "working on size:  5\n",
      "groundtruth: 5\n",
      "groundtruth values: [1, 2, 4, 6, 7]\n",
      "Change dominating species from Homo Sapiens to Denisovan would require removing 6 reads: [7, 4, 0, 9, 3, 1]\n",
      "[7, 4, 0, 9, 3, 1]\n",
      "counter_factual monte carlo on size 1: 6\n",
      "1\n"
     ]
    },
    {
     "data": {
      "application/vnd.jupyter.widget-view+json": {
       "model_id": "0c388a5396e64c7f8d84436249d0061b",
       "version_major": 2,
       "version_minor": 0
      },
      "text/plain": [
       "  0%|          | 0/1 [00:00<?, ?it/s]"
      ]
     },
     "metadata": {},
     "output_type": "display_data"
    },
    {
     "name": "stdout",
     "output_type": "stream",
     "text": [
      "1\n",
      "1\n",
      "Change dominating species from Homo Sapiens to Denisovan would require removing 8 reads: [0, 1, 2, 3, 4, 5, 6, 7]\n",
      "[0, 1, 2, 3, 4, 5, 6, 7]\n",
      "counter_factual shap on size 1: 8\n",
      "Change dominating species from Homo Sapiens to Denisovan would require removing 6 reads: [1, 4, 9, 7, 0, 3]\n",
      "[1, 4, 9, 7, 0, 3]\n",
      "counter_factual monte carlo on size 5: 6\n",
      "1\n"
     ]
    },
    {
     "data": {
      "application/vnd.jupyter.widget-view+json": {
       "model_id": "968fdf276ed34ce6916a10676e260059",
       "version_major": 2,
       "version_minor": 0
      },
      "text/plain": [
       "  0%|          | 0/1 [00:00<?, ?it/s]"
      ]
     },
     "metadata": {},
     "output_type": "display_data"
    },
    {
     "name": "stdout",
     "output_type": "stream",
     "text": [
      "1\n",
      "5\n",
      "Change dominating species from Homo Sapiens to Neanderthal would require removing 7 reads: [1, 6, 3, 2, 4, 5, 7]\n",
      "[1, 6, 3, 2, 4, 5, 7]\n",
      "counter_factual shap on size 5: 7\n",
      "Change dominating species from Homo Sapiens to Neanderthal would require removing 6 reads: [1, 7, 9, 2, 6, 4]\n",
      "[1, 7, 9, 2, 6, 4]\n",
      "counter_factual monte carlo on size 10: 6\n",
      "1\n"
     ]
    },
    {
     "data": {
      "application/vnd.jupyter.widget-view+json": {
       "model_id": "9c4ee5b8f6264447972bb306b859ea99",
       "version_major": 2,
       "version_minor": 0
      },
      "text/plain": [
       "  0%|          | 0/1 [00:00<?, ?it/s]"
      ]
     },
     "metadata": {},
     "output_type": "display_data"
    },
    {
     "name": "stdout",
     "output_type": "stream",
     "text": [
      "1\n",
      "10\n",
      "Change dominating species from Homo Sapiens to Denisovan would require removing 8 reads: [2, 7, 0, 1, 3, 4, 5, 6]\n",
      "[2, 7, 0, 1, 3, 4, 5, 6]\n",
      "counter_factual shap on size 10: 8\n",
      "Change dominating species from Homo Sapiens to Neanderthal would require removing 9 reads: [7, 6, 1, 4, 9, 11, 3, 8, 2]\n",
      "[7, 6, 1, 4, 9, 11, 3, 8, 2]\n",
      "counter_factual monte carlo on size 20: 9\n",
      "1\n"
     ]
    },
    {
     "data": {
      "application/vnd.jupyter.widget-view+json": {
       "model_id": "8e0eb5c02afe46e88cde6cbfb56945dc",
       "version_major": 2,
       "version_minor": 0
      },
      "text/plain": [
       "  0%|          | 0/1 [00:00<?, ?it/s]"
      ]
     },
     "metadata": {},
     "output_type": "display_data"
    },
    {
     "name": "stdout",
     "output_type": "stream",
     "text": [
      "1\n",
      "20\n",
      "Change dominating species from Homo Sapiens to Denisovan would require removing 10 reads: [4, 11, 6, 9, 0, 1, 2, 3, 5, 7]\n",
      "[4, 11, 6, 9, 0, 1, 2, 3, 5, 7]\n",
      "counter_factual shap on size 20: 10\n",
      "Change dominating species from Homo Sapiens to Neanderthal would require removing 8 reads: [7, 4, 6, 1, 9, 8, 11, 2]\n",
      "[7, 4, 6, 1, 9, 8, 11, 2]\n",
      "counter_factual monte carlo on size 50: 8\n",
      "1\n"
     ]
    },
    {
     "data": {
      "application/vnd.jupyter.widget-view+json": {
       "model_id": "b9d8b125852b41869f980dec2cba7f85",
       "version_major": 2,
       "version_minor": 0
      },
      "text/plain": [
       "  0%|          | 0/1 [00:00<?, ?it/s]"
      ]
     },
     "metadata": {},
     "output_type": "display_data"
    },
    {
     "name": "stdout",
     "output_type": "stream",
     "text": [
      "1\n",
      "50\n",
      "Change dominating species from Homo Sapiens to Neanderthal would require removing 9 reads: [6, 11, 1, 8, 9, 4, 7, 3, 2]\n",
      "[6, 11, 1, 8, 9, 4, 7, 3, 2]\n",
      "counter_factual shap on size 50: 9\n",
      "Change dominating species from Homo Sapiens to Neanderthal would require removing 8 reads: [6, 1, 7, 4, 8, 9, 11, 2]\n",
      "[6, 1, 7, 4, 8, 9, 11, 2]\n",
      "counter_factual monte carlo on size 100: 8\n",
      "1\n"
     ]
    },
    {
     "data": {
      "application/vnd.jupyter.widget-view+json": {
       "model_id": "4027bc5182a44305afff3f9d76ef4dec",
       "version_major": 2,
       "version_minor": 0
      },
      "text/plain": [
       "  0%|          | 0/1 [00:00<?, ?it/s]"
      ]
     },
     "metadata": {},
     "output_type": "display_data"
    },
    {
     "name": "stdout",
     "output_type": "stream",
     "text": [
      "1\n",
      "100\n",
      "Change dominating species from Homo Sapiens to Neanderthal would require removing 5 reads: [4, 7, 6, 1, 2]\n",
      "[4, 7, 6, 1, 2]\n",
      "counter_factual shap on size 100: 5\n",
      "Change dominating species from Homo Sapiens to Neanderthal would require removing 8 reads: [7, 1, 6, 4, 8, 3, 9, 2]\n",
      "[7, 1, 6, 4, 8, 3, 9, 2]\n",
      "counter_factual monte carlo on size 200: 8\n",
      "1\n"
     ]
    },
    {
     "data": {
      "application/vnd.jupyter.widget-view+json": {
       "model_id": "df70ac32c7f640429f832abcec542858",
       "version_major": 2,
       "version_minor": 0
      },
      "text/plain": [
       "  0%|          | 0/1 [00:00<?, ?it/s]"
      ]
     },
     "metadata": {},
     "output_type": "display_data"
    },
    {
     "name": "stdout",
     "output_type": "stream",
     "text": [
      "1\n",
      "200\n",
      "Change dominating species from Homo Sapiens to Neanderthal would require removing 6 reads: [7, 6, 1, 8, 4, 2]\n",
      "[7, 6, 1, 8, 4, 2]\n",
      "counter_factual shap on size 200: 6\n",
      "Change dominating species from Homo Sapiens to Neanderthal would require removing 6 reads: [1, 7, 4, 6, 9, 2]\n",
      "[1, 7, 4, 6, 9, 2]\n",
      "counter_factual monte carlo on size 500: 6\n",
      "1\n"
     ]
    },
    {
     "data": {
      "application/vnd.jupyter.widget-view+json": {
       "model_id": "dbcba41ed49c475582e2c82cf8392d24",
       "version_major": 2,
       "version_minor": 0
      },
      "text/plain": [
       "  0%|          | 0/1 [00:00<?, ?it/s]"
      ]
     },
     "metadata": {},
     "output_type": "display_data"
    },
    {
     "name": "stdout",
     "output_type": "stream",
     "text": [
      "1\n",
      "500\n",
      "Change dominating species from Homo Sapiens to Neanderthal would require removing 7 reads: [4, 1, 7, 6, 11, 9, 2]\n",
      "[4, 1, 7, 6, 11, 9, 2]\n",
      "counter_factual shap on size 500: 7\n",
      "Change dominating species from Homo Sapiens to Neanderthal would require removing 7 reads: [1, 4, 7, 3, 9, 6, 2]\n",
      "[1, 4, 7, 3, 9, 6, 2]\n",
      "counter_factualA_s_d: 7\n",
      "[(10, 1, 1, 6, [(1, 10), (5, 10), (10, 10), (20, 11), (50, 7), (100, 6), (200, 6), (500, 7)], [(1, 9), (5, 6), (10, 8), (20, 6), (50, 7), (100, 7), (200, 7), (500, 7)], 7), (5, 4, 3, 3, [(1, 5), (5, 5), (10, 5), (20, 5), (50, 3), (100, 3), (200, 3), (500, 3)], [(1, 4), (5, 3), (10, 3), (20, 3), (50, 3), (100, 3), (200, 3), (500, 3)], 3), (2, 6, 4, 1, [(1, 3), (5, 3), (10, 2), (20, 1), (50, 1), (100, 1), (200, 1), (500, 1)], [(1, 3), (5, 1), (10, 1), (20, 1), (50, 1), (100, 1), (200, 1), (500, 1)], 1), (4, 5, 3, 2, [(1, 3), (5, 2), (10, 2), (20, 2), (50, 2), (100, 2), (200, 2), (500, 2)], [(1, 2), (5, 2), (10, 2), (20, 2), (50, 2), (100, 2), (200, 2), (500, 2)], 2), (9, 2, 1, 3, [(1, 8), (5, 7), (10, 7), (20, 9), (50, 5), (100, 5), (200, 6), (500, 5)], [(1, 4), (5, 6), (10, 5), (20, 5), (50, 4), (100, 4), (200, 4), (500, 5)], 6), (6, 4, 2, 2, [(1, 5), (5, 5), (10, 3), (20, 2), (50, 2), (100, 2), (200, 2), (500, 2)], [(1, 2), (5, 2), (10, 2), (20, 2), (50, 2), (100, 2), (200, 2), (500, 2)], 2), (6, 4, 2, 3, [(1, 4), (5, 5), (10, 4), (20, 5), (50, 3), (100, 3), (200, 3), (500, 3)], [(1, 3), (5, 3), (10, 4), (20, 3), (50, 3), (100, 3), (200, 3), (500, 3)], 3), (2, 6, 4, 3, [(1, 6), (5, 6), (10, 6), (20, 5), (50, 3), (100, 3), (200, 3), (500, 3)], [(1, 5), (5, 4), (10, 3), (20, 3), (50, 3), (100, 3), (200, 3), (500, 3)], 3), (0, 8, 4, 3, [(1, 5), (5, 5), (10, 7), (20, 4), (50, 4), (100, 3), (200, 3), (500, 3)], [(1, 3), (5, 3), (10, 3), (20, 3), (50, 4), (100, 3), (200, 3), (500, 3)], 3), (4, 5, 3, 4, [(1, 4), (5, 4), (10, 4), (20, 6), (50, 4), (100, 4), (200, 4), (500, 4)], [(1, 5), (5, 4), (10, 5), (20, 4), (50, 4), (100, 4), (200, 4), (500, 4)], 4), (3, 6, 3, 2, [(1, 2), (5, 2), (10, 2), (20, 2), (50, 2), (100, 2), (200, 2), (500, 2)], [(1, 4), (5, 2), (10, 2), (20, 2), (50, 2), (100, 2), (200, 2), (500, 2)], 2), (3, 6, 3, 4, [(1, 8), (5, 6), (10, 8), (20, 8), (50, 4), (100, 4), (200, 4), (500, 4)], [(1, 8), (5, 6), (10, 5), (20, 4), (50, 4), (100, 4), (200, 4), (500, 4)], 4), (5, 4, 3, 3, [(1, 8), (5, 8), (10, 8), (20, 4), (50, 4), (100, 4), (200, 3), (500, 3)], [(1, 5), (5, 5), (10, 5), (20, 4), (50, 4), (100, 3), (200, 3), (500, 3)], 3), (11, 0, 1, 3, [(1, 11), (5, 11), (10, 7), (20, 8), (50, 4), (100, 4), (200, 3), (500, 3)], [(1, 3), (5, 4), (10, 3), (20, 4), (50, 4), (100, 4), (200, 3), (500, 4)], 3), (4, 5, 3, 2, [(1, 9), (5, 8), (10, 9), (20, 3), (50, 4), (100, 2), (200, 2), (500, 2)], [(1, 4), (5, 2), (10, 2), (20, 2), (50, 2), (100, 2), (200, 2), (500, 2)], 2), (2, 6, 4, 3, [(1, 5), (5, 6), (10, 3), (20, 4), (50, 3), (100, 3), (200, 3), (500, 3)], [(1, 3), (5, 3), (10, 4), (20, 3), (50, 3), (100, 3), (200, 3), (500, 3)], 3), (0, 8, 4, 1, [(1, 3), (5, 1), (10, 2), (20, 1), (50, 1), (100, 1), (200, 1), (500, 1)], [(1, 1), (5, 1), (10, 1), (20, 1), (50, 1), (100, 1), (200, 1), (500, 1)], 1), (2, 6, 4, 2, [(1, 6), (5, 6), (10, 6), (20, 2), (50, 2), (100, 2), (200, 2), (500, 2)], [(1, 2), (5, 3), (10, 2), (20, 2), (50, 2), (100, 2), (200, 2), (500, 2)], 2), (5, 4, 3, 2, [(1, 3), (5, 3), (10, 3), (20, 2), (50, 2), (100, 2), (200, 2), (500, 2)], [(1, 3), (5, 3), (10, 2), (20, 2), (50, 2), (100, 2), (200, 2), (500, 2)], 2), (1, 7, 4, 1, [(1, 4), (5, 1), (10, 1), (20, 1), (50, 1), (100, 1), (200, 1), (500, 1)], [(1, 2), (5, 1), (10, 1), (20, 1), (50, 1), (100, 1), (200, 1), (500, 1)], 1), (9, 2, 1, 2, [(1, 7), (5, 8), (10, 2), (20, 2), (50, 3), (100, 2), (200, 2), (500, 2)], [(1, 2), (5, 2), (10, 2), (20, 2), (50, 2), (100, 2), (200, 2), (500, 2)], 2), (11, 0, 1, 7, [(1, 10), (5, 10), (10, 9), (20, 10), (50, 10), (100, 7), (200, 7), (500, 7)], [(1, 10), (5, 7), (10, 7), (20, 7), (50, 7), (100, 7), (200, 7), (500, 7)], 7), (3, 6, 3, 1, [(1, 7), (5, 8), (10, 1), (20, 1), (50, 1), (100, 1), (200, 1), (500, 1)], [(1, 2), (5, 1), (10, 1), (20, 1), (50, 1), (100, 1), (200, 1), (500, 1)], 1), (7, 3, 2, 1, [(1, 2), (5, 2), (10, 2), (20, 2), (50, 1), (100, 1), (200, 1), (500, 1)], [(1, 1), (5, 1), (10, 1), (20, 1), (50, 1), (100, 1), (200, 1), (500, 1)], 1), (9, 2, 1, 2, [(1, 3), (5, 4), (10, 3), (20, 2), (50, 2), (100, 2), (200, 2), (500, 2)], [(1, 2), (5, 2), (10, 2), (20, 3), (50, 2), (100, 3), (200, 3), (500, 2)], 2), (8, 2, 2, 4, [(1, 8), (5, 5), (10, 5), (20, 4), (50, 4), (100, 4), (200, 4), (500, 4)], [(1, 4), (5, 6), (10, 4), (20, 4), (50, 4), (100, 4), (200, 4), (500, 4)], 4), (11, 0, 1, 8, [(1, 10), (5, 10), (10, 10), (20, 8), (50, 11), (100, 8), (200, 8), (500, 8)], [(1, 10), (5, 9), (10, 9), (20, 9), (50, 8), (100, 8), (200, 8), (500, 8)], 8), (6, 4, 2, 1, [(1, 1), (5, 1), (10, 1), (20, 1), (50, 1), (100, 1), (200, 1), (500, 1)], [(1, 1), (5, 1), (10, 1), (20, 1), (50, 1), (100, 1), (200, 1), (500, 1)], 1), (3, 6, 3, 2, [(1, 6), (5, 6), (10, 5), (20, 2), (50, 2), (100, 2), (200, 2), (500, 2)], [(1, 2), (5, 2), (10, 2), (20, 2), (50, 2), (100, 2), (200, 2), (500, 2)], 2), (6, 4, 2, 2, [(1, 10), (5, 10), (10, 10), (20, 10), (50, 3), (100, 3), (200, 3), (500, 3)], [(1, 10), (5, 3), (10, 4), (20, 4), (50, 3), (100, 3), (200, 3), (500, 3)], 4), (3, 6, 3, 1, [(1, 1), (5, 1), (10, 1), (20, 1), (50, 1), (100, 1), (200, 1), (500, 1)], [(1, 1), (5, 1), (10, 1), (20, 1), (50, 1), (100, 1), (200, 1), (500, 1)], 1), (8, 2, 2, 4, [(1, 6), (5, 6), (10, 8), (20, 4), (50, 5), (100, 5), (200, 4), (500, 4)], [(1, 6), (5, 6), (10, 5), (20, 4), (50, 5), (100, 5), (200, 5), (500, 4)], 4), (4, 5, 3, 1, [(1, 3), (5, 1), (10, 1), (20, 1), (50, 1), (100, 1), (200, 1), (500, 1)], [(1, 1), (5, 1), (10, 1), (20, 1), (50, 1), (100, 1), (200, 1), (500, 1)], 1), (7, 3, 2, 1, [(1, 9), (5, 9), (10, 1), (20, 1), (50, 1), (100, 1), (200, 1), (500, 1)], [(1, 1), (5, 1), (10, 1), (20, 1), (50, 1), (100, 1), (200, 1), (500, 1)], 1), (8, 2, 2, 3, [(1, 7), (5, 7), (10, 7), (20, 7), (50, 3), (100, 3), (200, 3), (500, 3)], [(1, 7), (5, 4), (10, 4), (20, 4), (50, 3), (100, 3), (200, 3), (500, 3)], 3), (8, 2, 2, 3, [(1, 6), (5, 3), (10, 4), (20, 5), (50, 3), (100, 3), (200, 3), (500, 3)], [(1, 4), (5, 4), (10, 3), (20, 3), (50, 3), (100, 3), (200, 3), (500, 3)], 3), (9, 2, 1, 6, [(1, 7), (5, 8), (10, 9), (20, 7), (50, 10), (100, 8), (200, 7), (500, 8)], [(1, 7), (5, 8), (10, 8), (20, 6), (50, 7), (100, 8), (200, 8), (500, 8)], 8), (2, 6, 4, 1, [(1, 7), (5, 1), (10, 1), (20, 1), (50, 1), (100, 1), (200, 1), (500, 1)], [(1, 2), (5, 1), (10, 1), (20, 1), (50, 1), (100, 1), (200, 1), (500, 1)], 1), (8, 2, 2, 5, [(1, 8), (5, 7), (10, 8), (20, 10), (50, 9), (100, 5), (200, 6), (500, 7)], [(1, 6), (5, 6), (10, 6), (20, 9), (50, 8), (100, 8), (200, 8), (500, 6)], 7)]\n",
      "new experiment: 39\n",
      "11 0 1\n",
      "\u001b[34mLoading sequences and calculating alignments to all references, this might take a while. Number of reads: \u001b[0m 12\n",
      "start working on read number 0\n",
      "working on size:  0\n",
      "working on size:  1\n",
      "working on size:  2\n",
      "working on size:  3\n",
      "working on size:  4\n",
      "groundtruth: 4\n",
      "groundtruth values: [1, 3, 6, 7]\n",
      "Change dominating species from Homo Sapiens to Denisovan would require removing 4 reads: [3, 1, 6, 7]\n",
      "[3, 1, 6, 7]\n",
      "counter_factual monte carlo on size 1: 4\n",
      "1\n"
     ]
    },
    {
     "data": {
      "application/vnd.jupyter.widget-view+json": {
       "model_id": "151db25a4577485db5918c4fc5c693df",
       "version_major": 2,
       "version_minor": 0
      },
      "text/plain": [
       "  0%|          | 0/1 [00:00<?, ?it/s]"
      ]
     },
     "metadata": {},
     "output_type": "display_data"
    },
    {
     "name": "stdout",
     "output_type": "stream",
     "text": [
      "1\n",
      "1\n",
      "Change dominating species from Homo Sapiens to Denisovan would require removing 10 reads: [0, 1, 2, 3, 4, 5, 6, 7, 8, 9]\n",
      "[0, 1, 2, 3, 4, 5, 6, 7, 8, 9]\n",
      "counter_factual shap on size 1: 10\n",
      "Change dominating species from Homo Sapiens to Denisovan would require removing 5 reads: [3, 7, 2, 6, 1]\n",
      "[3, 7, 2, 6, 1]\n",
      "counter_factual monte carlo on size 5: 5\n",
      "1\n"
     ]
    },
    {
     "data": {
      "application/vnd.jupyter.widget-view+json": {
       "model_id": "1edeadf3d41f4dcea54edfedbfabb96d",
       "version_major": 2,
       "version_minor": 0
      },
      "text/plain": [
       "  0%|          | 0/1 [00:00<?, ?it/s]"
      ]
     },
     "metadata": {},
     "output_type": "display_data"
    },
    {
     "name": "stdout",
     "output_type": "stream",
     "text": [
      "1\n",
      "5\n",
      "Change dominating species from Homo Sapiens to Denisovan would require removing 10 reads: [0, 1, 2, 3, 4, 5, 6, 7, 8, 9]\n",
      "[0, 1, 2, 3, 4, 5, 6, 7, 8, 9]\n",
      "counter_factual shap on size 5: 10\n",
      "Change dominating species from Homo Sapiens to Denisovan would require removing 5 reads: [0, 3, 9, 1, 7]\n",
      "[0, 3, 9, 1, 7]\n",
      "counter_factual monte carlo on size 10: 5\n",
      "1\n"
     ]
    },
    {
     "data": {
      "application/vnd.jupyter.widget-view+json": {
       "model_id": "0d37c3b96d8f4bc9ab52af8439e892cd",
       "version_major": 2,
       "version_minor": 0
      },
      "text/plain": [
       "  0%|          | 0/1 [00:00<?, ?it/s]"
      ]
     },
     "metadata": {},
     "output_type": "display_data"
    },
    {
     "name": "stdout",
     "output_type": "stream",
     "text": [
      "1\n",
      "10\n",
      "Change dominating species from Homo Sapiens to Denisovan would require removing 6 reads: [7, 9, 0, 1, 2, 3]\n",
      "[7, 9, 0, 1, 2, 3]\n",
      "counter_factual shap on size 10: 6\n",
      "Change dominating species from Homo Sapiens to Denisovan would require removing 5 reads: [3, 0, 7, 1, 9]\n",
      "[3, 0, 7, 1, 9]\n",
      "counter_factual monte carlo on size 20: 5\n",
      "1\n"
     ]
    },
    {
     "data": {
      "application/vnd.jupyter.widget-view+json": {
       "model_id": "dce82605da8c41fbb91669f3c27b16c7",
       "version_major": 2,
       "version_minor": 0
      },
      "text/plain": [
       "  0%|          | 0/1 [00:00<?, ?it/s]"
      ]
     },
     "metadata": {},
     "output_type": "display_data"
    },
    {
     "name": "stdout",
     "output_type": "stream",
     "text": [
      "1\n",
      "20\n",
      "Change dominating species from Homo Sapiens to Denisovan would require removing 6 reads: [7, 0, 9, 1, 2, 3]\n",
      "[7, 0, 9, 1, 2, 3]\n",
      "counter_factual shap on size 20: 6\n",
      "Change dominating species from Homo Sapiens to Denisovan would require removing 5 reads: [9, 7, 1, 0, 3]\n",
      "[9, 7, 1, 0, 3]\n",
      "counter_factual monte carlo on size 50: 5\n",
      "1\n"
     ]
    },
    {
     "data": {
      "application/vnd.jupyter.widget-view+json": {
       "model_id": "a32637cf85b84ac0828c978e19c26d0a",
       "version_major": 2,
       "version_minor": 0
      },
      "text/plain": [
       "  0%|          | 0/1 [00:00<?, ?it/s]"
      ]
     },
     "metadata": {},
     "output_type": "display_data"
    },
    {
     "name": "stdout",
     "output_type": "stream",
     "text": [
      "1\n",
      "50\n",
      "Change dominating species from Homo Sapiens to Denisovan would require removing 4 reads: [1, 7, 3, 6]\n",
      "[1, 7, 3, 6]\n",
      "counter_factual shap on size 50: 4\n",
      "Change dominating species from Homo Sapiens to Denisovan would require removing 4 reads: [7, 9, 1, 3]\n",
      "[7, 9, 1, 3]\n",
      "counter_factual monte carlo on size 100: 4\n",
      "1\n"
     ]
    },
    {
     "data": {
      "application/vnd.jupyter.widget-view+json": {
       "model_id": "071185a25cff4f38be6f7b3b019c0b0f",
       "version_major": 2,
       "version_minor": 0
      },
      "text/plain": [
       "  0%|          | 0/1 [00:00<?, ?it/s]"
      ]
     },
     "metadata": {},
     "output_type": "display_data"
    },
    {
     "name": "stdout",
     "output_type": "stream",
     "text": [
      "1\n",
      "100\n",
      "Change dominating species from Homo Sapiens to Denisovan would require removing 4 reads: [7, 3, 1, 9]\n",
      "[7, 3, 1, 9]\n",
      "counter_factual shap on size 100: 4\n",
      "Change dominating species from Homo Sapiens to Denisovan would require removing 4 reads: [1, 3, 9, 7]\n",
      "[1, 3, 9, 7]\n",
      "counter_factual monte carlo on size 200: 4\n",
      "1\n"
     ]
    },
    {
     "data": {
      "application/vnd.jupyter.widget-view+json": {
       "model_id": "d093b218a985414b8b0cc3a3d68722b0",
       "version_major": 2,
       "version_minor": 0
      },
      "text/plain": [
       "  0%|          | 0/1 [00:00<?, ?it/s]"
      ]
     },
     "metadata": {},
     "output_type": "display_data"
    },
    {
     "name": "stdout",
     "output_type": "stream",
     "text": [
      "1\n",
      "200\n",
      "Change dominating species from Homo Sapiens to Denisovan would require removing 4 reads: [9, 3, 1, 7]\n",
      "[9, 3, 1, 7]\n",
      "counter_factual shap on size 200: 4\n",
      "Change dominating species from Homo Sapiens to Denisovan would require removing 4 reads: [1, 7, 3, 9]\n",
      "[1, 7, 3, 9]\n",
      "counter_factual monte carlo on size 500: 4\n",
      "1\n"
     ]
    },
    {
     "data": {
      "application/vnd.jupyter.widget-view+json": {
       "model_id": "375c3050180a4c979d5738b9802a189e",
       "version_major": 2,
       "version_minor": 0
      },
      "text/plain": [
       "  0%|          | 0/1 [00:00<?, ?it/s]"
      ]
     },
     "metadata": {},
     "output_type": "display_data"
    },
    {
     "name": "stdout",
     "output_type": "stream",
     "text": [
      "1\n",
      "500\n",
      "Change dominating species from Homo Sapiens to Denisovan would require removing 4 reads: [7, 1, 3, 9]\n",
      "[7, 1, 3, 9]\n",
      "counter_factual shap on size 500: 4\n",
      "Change dominating species from Homo Sapiens to Denisovan would require removing 4 reads: [9, 1, 7, 3]\n",
      "[9, 1, 7, 3]\n",
      "counter_factualA_s_d: 4\n",
      "[(10, 1, 1, 6, [(1, 10), (5, 10), (10, 10), (20, 11), (50, 7), (100, 6), (200, 6), (500, 7)], [(1, 9), (5, 6), (10, 8), (20, 6), (50, 7), (100, 7), (200, 7), (500, 7)], 7), (5, 4, 3, 3, [(1, 5), (5, 5), (10, 5), (20, 5), (50, 3), (100, 3), (200, 3), (500, 3)], [(1, 4), (5, 3), (10, 3), (20, 3), (50, 3), (100, 3), (200, 3), (500, 3)], 3), (2, 6, 4, 1, [(1, 3), (5, 3), (10, 2), (20, 1), (50, 1), (100, 1), (200, 1), (500, 1)], [(1, 3), (5, 1), (10, 1), (20, 1), (50, 1), (100, 1), (200, 1), (500, 1)], 1), (4, 5, 3, 2, [(1, 3), (5, 2), (10, 2), (20, 2), (50, 2), (100, 2), (200, 2), (500, 2)], [(1, 2), (5, 2), (10, 2), (20, 2), (50, 2), (100, 2), (200, 2), (500, 2)], 2), (9, 2, 1, 3, [(1, 8), (5, 7), (10, 7), (20, 9), (50, 5), (100, 5), (200, 6), (500, 5)], [(1, 4), (5, 6), (10, 5), (20, 5), (50, 4), (100, 4), (200, 4), (500, 5)], 6), (6, 4, 2, 2, [(1, 5), (5, 5), (10, 3), (20, 2), (50, 2), (100, 2), (200, 2), (500, 2)], [(1, 2), (5, 2), (10, 2), (20, 2), (50, 2), (100, 2), (200, 2), (500, 2)], 2), (6, 4, 2, 3, [(1, 4), (5, 5), (10, 4), (20, 5), (50, 3), (100, 3), (200, 3), (500, 3)], [(1, 3), (5, 3), (10, 4), (20, 3), (50, 3), (100, 3), (200, 3), (500, 3)], 3), (2, 6, 4, 3, [(1, 6), (5, 6), (10, 6), (20, 5), (50, 3), (100, 3), (200, 3), (500, 3)], [(1, 5), (5, 4), (10, 3), (20, 3), (50, 3), (100, 3), (200, 3), (500, 3)], 3), (0, 8, 4, 3, [(1, 5), (5, 5), (10, 7), (20, 4), (50, 4), (100, 3), (200, 3), (500, 3)], [(1, 3), (5, 3), (10, 3), (20, 3), (50, 4), (100, 3), (200, 3), (500, 3)], 3), (4, 5, 3, 4, [(1, 4), (5, 4), (10, 4), (20, 6), (50, 4), (100, 4), (200, 4), (500, 4)], [(1, 5), (5, 4), (10, 5), (20, 4), (50, 4), (100, 4), (200, 4), (500, 4)], 4), (3, 6, 3, 2, [(1, 2), (5, 2), (10, 2), (20, 2), (50, 2), (100, 2), (200, 2), (500, 2)], [(1, 4), (5, 2), (10, 2), (20, 2), (50, 2), (100, 2), (200, 2), (500, 2)], 2), (3, 6, 3, 4, [(1, 8), (5, 6), (10, 8), (20, 8), (50, 4), (100, 4), (200, 4), (500, 4)], [(1, 8), (5, 6), (10, 5), (20, 4), (50, 4), (100, 4), (200, 4), (500, 4)], 4), (5, 4, 3, 3, [(1, 8), (5, 8), (10, 8), (20, 4), (50, 4), (100, 4), (200, 3), (500, 3)], [(1, 5), (5, 5), (10, 5), (20, 4), (50, 4), (100, 3), (200, 3), (500, 3)], 3), (11, 0, 1, 3, [(1, 11), (5, 11), (10, 7), (20, 8), (50, 4), (100, 4), (200, 3), (500, 3)], [(1, 3), (5, 4), (10, 3), (20, 4), (50, 4), (100, 4), (200, 3), (500, 4)], 3), (4, 5, 3, 2, [(1, 9), (5, 8), (10, 9), (20, 3), (50, 4), (100, 2), (200, 2), (500, 2)], [(1, 4), (5, 2), (10, 2), (20, 2), (50, 2), (100, 2), (200, 2), (500, 2)], 2), (2, 6, 4, 3, [(1, 5), (5, 6), (10, 3), (20, 4), (50, 3), (100, 3), (200, 3), (500, 3)], [(1, 3), (5, 3), (10, 4), (20, 3), (50, 3), (100, 3), (200, 3), (500, 3)], 3), (0, 8, 4, 1, [(1, 3), (5, 1), (10, 2), (20, 1), (50, 1), (100, 1), (200, 1), (500, 1)], [(1, 1), (5, 1), (10, 1), (20, 1), (50, 1), (100, 1), (200, 1), (500, 1)], 1), (2, 6, 4, 2, [(1, 6), (5, 6), (10, 6), (20, 2), (50, 2), (100, 2), (200, 2), (500, 2)], [(1, 2), (5, 3), (10, 2), (20, 2), (50, 2), (100, 2), (200, 2), (500, 2)], 2), (5, 4, 3, 2, [(1, 3), (5, 3), (10, 3), (20, 2), (50, 2), (100, 2), (200, 2), (500, 2)], [(1, 3), (5, 3), (10, 2), (20, 2), (50, 2), (100, 2), (200, 2), (500, 2)], 2), (1, 7, 4, 1, [(1, 4), (5, 1), (10, 1), (20, 1), (50, 1), (100, 1), (200, 1), (500, 1)], [(1, 2), (5, 1), (10, 1), (20, 1), (50, 1), (100, 1), (200, 1), (500, 1)], 1), (9, 2, 1, 2, [(1, 7), (5, 8), (10, 2), (20, 2), (50, 3), (100, 2), (200, 2), (500, 2)], [(1, 2), (5, 2), (10, 2), (20, 2), (50, 2), (100, 2), (200, 2), (500, 2)], 2), (11, 0, 1, 7, [(1, 10), (5, 10), (10, 9), (20, 10), (50, 10), (100, 7), (200, 7), (500, 7)], [(1, 10), (5, 7), (10, 7), (20, 7), (50, 7), (100, 7), (200, 7), (500, 7)], 7), (3, 6, 3, 1, [(1, 7), (5, 8), (10, 1), (20, 1), (50, 1), (100, 1), (200, 1), (500, 1)], [(1, 2), (5, 1), (10, 1), (20, 1), (50, 1), (100, 1), (200, 1), (500, 1)], 1), (7, 3, 2, 1, [(1, 2), (5, 2), (10, 2), (20, 2), (50, 1), (100, 1), (200, 1), (500, 1)], [(1, 1), (5, 1), (10, 1), (20, 1), (50, 1), (100, 1), (200, 1), (500, 1)], 1), (9, 2, 1, 2, [(1, 3), (5, 4), (10, 3), (20, 2), (50, 2), (100, 2), (200, 2), (500, 2)], [(1, 2), (5, 2), (10, 2), (20, 3), (50, 2), (100, 3), (200, 3), (500, 2)], 2), (8, 2, 2, 4, [(1, 8), (5, 5), (10, 5), (20, 4), (50, 4), (100, 4), (200, 4), (500, 4)], [(1, 4), (5, 6), (10, 4), (20, 4), (50, 4), (100, 4), (200, 4), (500, 4)], 4), (11, 0, 1, 8, [(1, 10), (5, 10), (10, 10), (20, 8), (50, 11), (100, 8), (200, 8), (500, 8)], [(1, 10), (5, 9), (10, 9), (20, 9), (50, 8), (100, 8), (200, 8), (500, 8)], 8), (6, 4, 2, 1, [(1, 1), (5, 1), (10, 1), (20, 1), (50, 1), (100, 1), (200, 1), (500, 1)], [(1, 1), (5, 1), (10, 1), (20, 1), (50, 1), (100, 1), (200, 1), (500, 1)], 1), (3, 6, 3, 2, [(1, 6), (5, 6), (10, 5), (20, 2), (50, 2), (100, 2), (200, 2), (500, 2)], [(1, 2), (5, 2), (10, 2), (20, 2), (50, 2), (100, 2), (200, 2), (500, 2)], 2), (6, 4, 2, 2, [(1, 10), (5, 10), (10, 10), (20, 10), (50, 3), (100, 3), (200, 3), (500, 3)], [(1, 10), (5, 3), (10, 4), (20, 4), (50, 3), (100, 3), (200, 3), (500, 3)], 4), (3, 6, 3, 1, [(1, 1), (5, 1), (10, 1), (20, 1), (50, 1), (100, 1), (200, 1), (500, 1)], [(1, 1), (5, 1), (10, 1), (20, 1), (50, 1), (100, 1), (200, 1), (500, 1)], 1), (8, 2, 2, 4, [(1, 6), (5, 6), (10, 8), (20, 4), (50, 5), (100, 5), (200, 4), (500, 4)], [(1, 6), (5, 6), (10, 5), (20, 4), (50, 5), (100, 5), (200, 5), (500, 4)], 4), (4, 5, 3, 1, [(1, 3), (5, 1), (10, 1), (20, 1), (50, 1), (100, 1), (200, 1), (500, 1)], [(1, 1), (5, 1), (10, 1), (20, 1), (50, 1), (100, 1), (200, 1), (500, 1)], 1), (7, 3, 2, 1, [(1, 9), (5, 9), (10, 1), (20, 1), (50, 1), (100, 1), (200, 1), (500, 1)], [(1, 1), (5, 1), (10, 1), (20, 1), (50, 1), (100, 1), (200, 1), (500, 1)], 1), (8, 2, 2, 3, [(1, 7), (5, 7), (10, 7), (20, 7), (50, 3), (100, 3), (200, 3), (500, 3)], [(1, 7), (5, 4), (10, 4), (20, 4), (50, 3), (100, 3), (200, 3), (500, 3)], 3), (8, 2, 2, 3, [(1, 6), (5, 3), (10, 4), (20, 5), (50, 3), (100, 3), (200, 3), (500, 3)], [(1, 4), (5, 4), (10, 3), (20, 3), (50, 3), (100, 3), (200, 3), (500, 3)], 3), (9, 2, 1, 6, [(1, 7), (5, 8), (10, 9), (20, 7), (50, 10), (100, 8), (200, 7), (500, 8)], [(1, 7), (5, 8), (10, 8), (20, 6), (50, 7), (100, 8), (200, 8), (500, 8)], 8), (2, 6, 4, 1, [(1, 7), (5, 1), (10, 1), (20, 1), (50, 1), (100, 1), (200, 1), (500, 1)], [(1, 2), (5, 1), (10, 1), (20, 1), (50, 1), (100, 1), (200, 1), (500, 1)], 1), (8, 2, 2, 5, [(1, 8), (5, 7), (10, 8), (20, 10), (50, 9), (100, 5), (200, 6), (500, 7)], [(1, 6), (5, 6), (10, 6), (20, 9), (50, 8), (100, 8), (200, 8), (500, 6)], 7), (11, 0, 1, 4, [(1, 10), (5, 10), (10, 6), (20, 6), (50, 4), (100, 4), (200, 4), (500, 4)], [(1, 4), (5, 5), (10, 5), (20, 5), (50, 5), (100, 4), (200, 4), (500, 4)], 4)]\n",
      "new experiment: 40\n",
      "2 6 4\n",
      "\u001b[34mLoading sequences and calculating alignments to all references, this might take a while. Number of reads: \u001b[0m 12\n",
      "start working on read number 0\n",
      "working on size:  0\n",
      "working on size:  1\n",
      "groundtruth: 1\n",
      "groundtruth values: [10]\n",
      "Change dominating species from Denisovan to Neanderthal would require removing 1 reads: [10]\n",
      "[10]\n",
      "counter_factual monte carlo on size 1: 1\n",
      "1\n"
     ]
    },
    {
     "data": {
      "application/vnd.jupyter.widget-view+json": {
       "model_id": "e063fabbc1ee47d0a9089f039155b587",
       "version_major": 2,
       "version_minor": 0
      },
      "text/plain": [
       "  0%|          | 0/1 [00:00<?, ?it/s]"
      ]
     },
     "metadata": {},
     "output_type": "display_data"
    },
    {
     "name": "stdout",
     "output_type": "stream",
     "text": [
      "1\n",
      "1\n",
      "Change dominating species from Denisovan to Neanderthal would require removing 2 reads: [0, 1]\n",
      "[0, 1]\n",
      "counter_factual shap on size 1: 2\n",
      "Change dominating species from Denisovan to Neanderthal would require removing 1 reads: [11]\n",
      "[11]\n",
      "counter_factual monte carlo on size 5: 1\n",
      "1\n"
     ]
    },
    {
     "data": {
      "application/vnd.jupyter.widget-view+json": {
       "model_id": "210576ae9d484cd898cf8a97dee133d8",
       "version_major": 2,
       "version_minor": 0
      },
      "text/plain": [
       "  0%|          | 0/1 [00:00<?, ?it/s]"
      ]
     },
     "metadata": {},
     "output_type": "display_data"
    },
    {
     "name": "stdout",
     "output_type": "stream",
     "text": [
      "1\n",
      "5\n",
      "Change dominating species from Denisovan to Neanderthal would require removing 1 reads: [11]\n",
      "[11]\n",
      "counter_factual shap on size 5: 1\n",
      "Change dominating species from Denisovan to Neanderthal would require removing 1 reads: [10]\n",
      "[10]\n",
      "counter_factual monte carlo on size 10: 1\n",
      "1\n"
     ]
    },
    {
     "data": {
      "application/vnd.jupyter.widget-view+json": {
       "model_id": "a27f58dea3a143b7b5ec9c84bd725596",
       "version_major": 2,
       "version_minor": 0
      },
      "text/plain": [
       "  0%|          | 0/1 [00:00<?, ?it/s]"
      ]
     },
     "metadata": {},
     "output_type": "display_data"
    },
    {
     "name": "stdout",
     "output_type": "stream",
     "text": [
      "1\n",
      "10\n",
      "Change dominating species from Denisovan to Neanderthal would require removing 4 reads: [5, 0, 6, 1]\n",
      "[5, 0, 6, 1]\n",
      "counter_factual shap on size 10: 4\n",
      "Change dominating species from Denisovan to Neanderthal would require removing 1 reads: [11]\n",
      "[11]\n",
      "counter_factual monte carlo on size 20: 1\n",
      "1\n"
     ]
    },
    {
     "data": {
      "application/vnd.jupyter.widget-view+json": {
       "model_id": "532f6bcfccf74408bf067e0ee44df307",
       "version_major": 2,
       "version_minor": 0
      },
      "text/plain": [
       "  0%|          | 0/1 [00:00<?, ?it/s]"
      ]
     },
     "metadata": {},
     "output_type": "display_data"
    },
    {
     "name": "stdout",
     "output_type": "stream",
     "text": [
      "1\n",
      "20\n",
      "Change dominating species from Denisovan to Neanderthal would require removing 1 reads: [11]\n",
      "[11]\n",
      "counter_factual shap on size 20: 1\n",
      "Change dominating species from Denisovan to Neanderthal would require removing 1 reads: [10]\n",
      "[10]\n",
      "counter_factual monte carlo on size 50: 1\n",
      "1\n"
     ]
    },
    {
     "data": {
      "application/vnd.jupyter.widget-view+json": {
       "model_id": "f0e1940c7ebf4c32ba6d0df6dde2b04f",
       "version_major": 2,
       "version_minor": 0
      },
      "text/plain": [
       "  0%|          | 0/1 [00:00<?, ?it/s]"
      ]
     },
     "metadata": {},
     "output_type": "display_data"
    },
    {
     "name": "stdout",
     "output_type": "stream",
     "text": [
      "1\n",
      "50\n",
      "Change dominating species from Denisovan to Neanderthal would require removing 1 reads: [11]\n",
      "[11]\n",
      "counter_factual shap on size 50: 1\n",
      "Change dominating species from Denisovan to Neanderthal would require removing 1 reads: [10]\n",
      "[10]\n",
      "counter_factual monte carlo on size 100: 1\n",
      "1\n"
     ]
    },
    {
     "data": {
      "application/vnd.jupyter.widget-view+json": {
       "model_id": "2b3c3a71f1c440d2bf60906c9e2939be",
       "version_major": 2,
       "version_minor": 0
      },
      "text/plain": [
       "  0%|          | 0/1 [00:00<?, ?it/s]"
      ]
     },
     "metadata": {},
     "output_type": "display_data"
    },
    {
     "name": "stdout",
     "output_type": "stream",
     "text": [
      "1\n",
      "100\n",
      "Change dominating species from Denisovan to Neanderthal would require removing 1 reads: [10]\n",
      "[10]\n",
      "counter_factual shap on size 100: 1\n",
      "Change dominating species from Denisovan to Neanderthal would require removing 1 reads: [11]\n",
      "[11]\n",
      "counter_factual monte carlo on size 200: 1\n",
      "1\n"
     ]
    },
    {
     "data": {
      "application/vnd.jupyter.widget-view+json": {
       "model_id": "4fa86315dd804d7bb525d61ebd1af2e9",
       "version_major": 2,
       "version_minor": 0
      },
      "text/plain": [
       "  0%|          | 0/1 [00:00<?, ?it/s]"
      ]
     },
     "metadata": {},
     "output_type": "display_data"
    },
    {
     "name": "stdout",
     "output_type": "stream",
     "text": [
      "1\n",
      "200\n",
      "Change dominating species from Denisovan to Neanderthal would require removing 1 reads: [11]\n",
      "[11]\n",
      "counter_factual shap on size 200: 1\n",
      "Change dominating species from Denisovan to Neanderthal would require removing 1 reads: [11]\n",
      "[11]\n",
      "counter_factual monte carlo on size 500: 1\n",
      "1\n"
     ]
    },
    {
     "data": {
      "application/vnd.jupyter.widget-view+json": {
       "model_id": "05afdcd225bf44a5bda352407e395604",
       "version_major": 2,
       "version_minor": 0
      },
      "text/plain": [
       "  0%|          | 0/1 [00:00<?, ?it/s]"
      ]
     },
     "metadata": {},
     "output_type": "display_data"
    },
    {
     "name": "stdout",
     "output_type": "stream",
     "text": [
      "1\n",
      "500\n",
      "Change dominating species from Denisovan to Neanderthal would require removing 1 reads: [10]\n",
      "[10]\n",
      "counter_factual shap on size 500: 1\n",
      "Change dominating species from Denisovan to Neanderthal would require removing 1 reads: [10]\n",
      "[10]\n",
      "counter_factualA_s_d: 1\n",
      "[(10, 1, 1, 6, [(1, 10), (5, 10), (10, 10), (20, 11), (50, 7), (100, 6), (200, 6), (500, 7)], [(1, 9), (5, 6), (10, 8), (20, 6), (50, 7), (100, 7), (200, 7), (500, 7)], 7), (5, 4, 3, 3, [(1, 5), (5, 5), (10, 5), (20, 5), (50, 3), (100, 3), (200, 3), (500, 3)], [(1, 4), (5, 3), (10, 3), (20, 3), (50, 3), (100, 3), (200, 3), (500, 3)], 3), (2, 6, 4, 1, [(1, 3), (5, 3), (10, 2), (20, 1), (50, 1), (100, 1), (200, 1), (500, 1)], [(1, 3), (5, 1), (10, 1), (20, 1), (50, 1), (100, 1), (200, 1), (500, 1)], 1), (4, 5, 3, 2, [(1, 3), (5, 2), (10, 2), (20, 2), (50, 2), (100, 2), (200, 2), (500, 2)], [(1, 2), (5, 2), (10, 2), (20, 2), (50, 2), (100, 2), (200, 2), (500, 2)], 2), (9, 2, 1, 3, [(1, 8), (5, 7), (10, 7), (20, 9), (50, 5), (100, 5), (200, 6), (500, 5)], [(1, 4), (5, 6), (10, 5), (20, 5), (50, 4), (100, 4), (200, 4), (500, 5)], 6), (6, 4, 2, 2, [(1, 5), (5, 5), (10, 3), (20, 2), (50, 2), (100, 2), (200, 2), (500, 2)], [(1, 2), (5, 2), (10, 2), (20, 2), (50, 2), (100, 2), (200, 2), (500, 2)], 2), (6, 4, 2, 3, [(1, 4), (5, 5), (10, 4), (20, 5), (50, 3), (100, 3), (200, 3), (500, 3)], [(1, 3), (5, 3), (10, 4), (20, 3), (50, 3), (100, 3), (200, 3), (500, 3)], 3), (2, 6, 4, 3, [(1, 6), (5, 6), (10, 6), (20, 5), (50, 3), (100, 3), (200, 3), (500, 3)], [(1, 5), (5, 4), (10, 3), (20, 3), (50, 3), (100, 3), (200, 3), (500, 3)], 3), (0, 8, 4, 3, [(1, 5), (5, 5), (10, 7), (20, 4), (50, 4), (100, 3), (200, 3), (500, 3)], [(1, 3), (5, 3), (10, 3), (20, 3), (50, 4), (100, 3), (200, 3), (500, 3)], 3), (4, 5, 3, 4, [(1, 4), (5, 4), (10, 4), (20, 6), (50, 4), (100, 4), (200, 4), (500, 4)], [(1, 5), (5, 4), (10, 5), (20, 4), (50, 4), (100, 4), (200, 4), (500, 4)], 4), (3, 6, 3, 2, [(1, 2), (5, 2), (10, 2), (20, 2), (50, 2), (100, 2), (200, 2), (500, 2)], [(1, 4), (5, 2), (10, 2), (20, 2), (50, 2), (100, 2), (200, 2), (500, 2)], 2), (3, 6, 3, 4, [(1, 8), (5, 6), (10, 8), (20, 8), (50, 4), (100, 4), (200, 4), (500, 4)], [(1, 8), (5, 6), (10, 5), (20, 4), (50, 4), (100, 4), (200, 4), (500, 4)], 4), (5, 4, 3, 3, [(1, 8), (5, 8), (10, 8), (20, 4), (50, 4), (100, 4), (200, 3), (500, 3)], [(1, 5), (5, 5), (10, 5), (20, 4), (50, 4), (100, 3), (200, 3), (500, 3)], 3), (11, 0, 1, 3, [(1, 11), (5, 11), (10, 7), (20, 8), (50, 4), (100, 4), (200, 3), (500, 3)], [(1, 3), (5, 4), (10, 3), (20, 4), (50, 4), (100, 4), (200, 3), (500, 4)], 3), (4, 5, 3, 2, [(1, 9), (5, 8), (10, 9), (20, 3), (50, 4), (100, 2), (200, 2), (500, 2)], [(1, 4), (5, 2), (10, 2), (20, 2), (50, 2), (100, 2), (200, 2), (500, 2)], 2), (2, 6, 4, 3, [(1, 5), (5, 6), (10, 3), (20, 4), (50, 3), (100, 3), (200, 3), (500, 3)], [(1, 3), (5, 3), (10, 4), (20, 3), (50, 3), (100, 3), (200, 3), (500, 3)], 3), (0, 8, 4, 1, [(1, 3), (5, 1), (10, 2), (20, 1), (50, 1), (100, 1), (200, 1), (500, 1)], [(1, 1), (5, 1), (10, 1), (20, 1), (50, 1), (100, 1), (200, 1), (500, 1)], 1), (2, 6, 4, 2, [(1, 6), (5, 6), (10, 6), (20, 2), (50, 2), (100, 2), (200, 2), (500, 2)], [(1, 2), (5, 3), (10, 2), (20, 2), (50, 2), (100, 2), (200, 2), (500, 2)], 2), (5, 4, 3, 2, [(1, 3), (5, 3), (10, 3), (20, 2), (50, 2), (100, 2), (200, 2), (500, 2)], [(1, 3), (5, 3), (10, 2), (20, 2), (50, 2), (100, 2), (200, 2), (500, 2)], 2), (1, 7, 4, 1, [(1, 4), (5, 1), (10, 1), (20, 1), (50, 1), (100, 1), (200, 1), (500, 1)], [(1, 2), (5, 1), (10, 1), (20, 1), (50, 1), (100, 1), (200, 1), (500, 1)], 1), (9, 2, 1, 2, [(1, 7), (5, 8), (10, 2), (20, 2), (50, 3), (100, 2), (200, 2), (500, 2)], [(1, 2), (5, 2), (10, 2), (20, 2), (50, 2), (100, 2), (200, 2), (500, 2)], 2), (11, 0, 1, 7, [(1, 10), (5, 10), (10, 9), (20, 10), (50, 10), (100, 7), (200, 7), (500, 7)], [(1, 10), (5, 7), (10, 7), (20, 7), (50, 7), (100, 7), (200, 7), (500, 7)], 7), (3, 6, 3, 1, [(1, 7), (5, 8), (10, 1), (20, 1), (50, 1), (100, 1), (200, 1), (500, 1)], [(1, 2), (5, 1), (10, 1), (20, 1), (50, 1), (100, 1), (200, 1), (500, 1)], 1), (7, 3, 2, 1, [(1, 2), (5, 2), (10, 2), (20, 2), (50, 1), (100, 1), (200, 1), (500, 1)], [(1, 1), (5, 1), (10, 1), (20, 1), (50, 1), (100, 1), (200, 1), (500, 1)], 1), (9, 2, 1, 2, [(1, 3), (5, 4), (10, 3), (20, 2), (50, 2), (100, 2), (200, 2), (500, 2)], [(1, 2), (5, 2), (10, 2), (20, 3), (50, 2), (100, 3), (200, 3), (500, 2)], 2), (8, 2, 2, 4, [(1, 8), (5, 5), (10, 5), (20, 4), (50, 4), (100, 4), (200, 4), (500, 4)], [(1, 4), (5, 6), (10, 4), (20, 4), (50, 4), (100, 4), (200, 4), (500, 4)], 4), (11, 0, 1, 8, [(1, 10), (5, 10), (10, 10), (20, 8), (50, 11), (100, 8), (200, 8), (500, 8)], [(1, 10), (5, 9), (10, 9), (20, 9), (50, 8), (100, 8), (200, 8), (500, 8)], 8), (6, 4, 2, 1, [(1, 1), (5, 1), (10, 1), (20, 1), (50, 1), (100, 1), (200, 1), (500, 1)], [(1, 1), (5, 1), (10, 1), (20, 1), (50, 1), (100, 1), (200, 1), (500, 1)], 1), (3, 6, 3, 2, [(1, 6), (5, 6), (10, 5), (20, 2), (50, 2), (100, 2), (200, 2), (500, 2)], [(1, 2), (5, 2), (10, 2), (20, 2), (50, 2), (100, 2), (200, 2), (500, 2)], 2), (6, 4, 2, 2, [(1, 10), (5, 10), (10, 10), (20, 10), (50, 3), (100, 3), (200, 3), (500, 3)], [(1, 10), (5, 3), (10, 4), (20, 4), (50, 3), (100, 3), (200, 3), (500, 3)], 4), (3, 6, 3, 1, [(1, 1), (5, 1), (10, 1), (20, 1), (50, 1), (100, 1), (200, 1), (500, 1)], [(1, 1), (5, 1), (10, 1), (20, 1), (50, 1), (100, 1), (200, 1), (500, 1)], 1), (8, 2, 2, 4, [(1, 6), (5, 6), (10, 8), (20, 4), (50, 5), (100, 5), (200, 4), (500, 4)], [(1, 6), (5, 6), (10, 5), (20, 4), (50, 5), (100, 5), (200, 5), (500, 4)], 4), (4, 5, 3, 1, [(1, 3), (5, 1), (10, 1), (20, 1), (50, 1), (100, 1), (200, 1), (500, 1)], [(1, 1), (5, 1), (10, 1), (20, 1), (50, 1), (100, 1), (200, 1), (500, 1)], 1), (7, 3, 2, 1, [(1, 9), (5, 9), (10, 1), (20, 1), (50, 1), (100, 1), (200, 1), (500, 1)], [(1, 1), (5, 1), (10, 1), (20, 1), (50, 1), (100, 1), (200, 1), (500, 1)], 1), (8, 2, 2, 3, [(1, 7), (5, 7), (10, 7), (20, 7), (50, 3), (100, 3), (200, 3), (500, 3)], [(1, 7), (5, 4), (10, 4), (20, 4), (50, 3), (100, 3), (200, 3), (500, 3)], 3), (8, 2, 2, 3, [(1, 6), (5, 3), (10, 4), (20, 5), (50, 3), (100, 3), (200, 3), (500, 3)], [(1, 4), (5, 4), (10, 3), (20, 3), (50, 3), (100, 3), (200, 3), (500, 3)], 3), (9, 2, 1, 6, [(1, 7), (5, 8), (10, 9), (20, 7), (50, 10), (100, 8), (200, 7), (500, 8)], [(1, 7), (5, 8), (10, 8), (20, 6), (50, 7), (100, 8), (200, 8), (500, 8)], 8), (2, 6, 4, 1, [(1, 7), (5, 1), (10, 1), (20, 1), (50, 1), (100, 1), (200, 1), (500, 1)], [(1, 2), (5, 1), (10, 1), (20, 1), (50, 1), (100, 1), (200, 1), (500, 1)], 1), (8, 2, 2, 5, [(1, 8), (5, 7), (10, 8), (20, 10), (50, 9), (100, 5), (200, 6), (500, 7)], [(1, 6), (5, 6), (10, 6), (20, 9), (50, 8), (100, 8), (200, 8), (500, 6)], 7), (11, 0, 1, 4, [(1, 10), (5, 10), (10, 6), (20, 6), (50, 4), (100, 4), (200, 4), (500, 4)], [(1, 4), (5, 5), (10, 5), (20, 5), (50, 5), (100, 4), (200, 4), (500, 4)], 4), (2, 6, 4, 1, [(1, 2), (5, 1), (10, 4), (20, 1), (50, 1), (100, 1), (200, 1), (500, 1)], [(1, 1), (5, 1), (10, 1), (20, 1), (50, 1), (100, 1), (200, 1), (500, 1)], 1)]\n",
      "new experiment: 41\n",
      "2 6 4\n",
      "\u001b[34mLoading sequences and calculating alignments to all references, this might take a while. Number of reads: \u001b[0m 12\n",
      "start working on read number 0\n",
      "working on size:  0\n",
      "working on size:  1\n",
      "working on size:  2\n",
      "groundtruth: 2\n",
      "groundtruth values: [1, 2]\n",
      "Change dominating species from Neanderthal to Denisovan would require removing 2 reads: [5, 2]\n",
      "[5, 2]\n",
      "counter_factual monte carlo on size 1: 2\n",
      "1\n"
     ]
    },
    {
     "data": {
      "application/vnd.jupyter.widget-view+json": {
       "model_id": "448cc798f5ee48c39f8fde77f439feee",
       "version_major": 2,
       "version_minor": 0
      },
      "text/plain": [
       "  0%|          | 0/1 [00:00<?, ?it/s]"
      ]
     },
     "metadata": {},
     "output_type": "display_data"
    },
    {
     "name": "stdout",
     "output_type": "stream",
     "text": [
      "1\n",
      "1\n",
      "Change dominating species from Neanderthal to Denisovan would require removing 3 reads: [0, 1, 2]\n",
      "[0, 1, 2]\n",
      "counter_factual shap on size 1: 3\n",
      "Change dominating species from Neanderthal to Denisovan would require removing 2 reads: [2, 6]\n",
      "[2, 6]\n",
      "counter_factual monte carlo on size 5: 2\n",
      "1\n"
     ]
    },
    {
     "data": {
      "application/vnd.jupyter.widget-view+json": {
       "model_id": "1424daca49c4447eb565fc39aaaaba2f",
       "version_major": 2,
       "version_minor": 0
      },
      "text/plain": [
       "  0%|          | 0/1 [00:00<?, ?it/s]"
      ]
     },
     "metadata": {},
     "output_type": "display_data"
    },
    {
     "name": "stdout",
     "output_type": "stream",
     "text": [
      "1\n",
      "5\n",
      "Change dominating species from Neanderthal to Denisovan would require removing 2 reads: [4, 6]\n",
      "[4, 6]\n",
      "counter_factual shap on size 5: 2\n",
      "Change dominating species from Neanderthal to Denisovan would require removing 2 reads: [4, 1]\n",
      "[4, 1]\n",
      "counter_factual monte carlo on size 10: 2\n",
      "1\n"
     ]
    },
    {
     "data": {
      "application/vnd.jupyter.widget-view+json": {
       "model_id": "e5790e4ba4ca4799a83963436d0a924d",
       "version_major": 2,
       "version_minor": 0
      },
      "text/plain": [
       "  0%|          | 0/1 [00:00<?, ?it/s]"
      ]
     },
     "metadata": {},
     "output_type": "display_data"
    },
    {
     "name": "stdout",
     "output_type": "stream",
     "text": [
      "1\n",
      "10\n",
      "Change dominating species from Neanderthal to Denisovan would require removing 3 reads: [4, 0, 1]\n",
      "[4, 0, 1]\n",
      "counter_factual shap on size 10: 3\n",
      "Change dominating species from Neanderthal to Denisovan would require removing 2 reads: [4, 1]\n",
      "[4, 1]\n",
      "counter_factual monte carlo on size 20: 2\n",
      "1\n"
     ]
    },
    {
     "data": {
      "application/vnd.jupyter.widget-view+json": {
       "model_id": "7993355f8e2c4ba5b612bdcf559fa030",
       "version_major": 2,
       "version_minor": 0
      },
      "text/plain": [
       "  0%|          | 0/1 [00:00<?, ?it/s]"
      ]
     },
     "metadata": {},
     "output_type": "display_data"
    },
    {
     "name": "stdout",
     "output_type": "stream",
     "text": [
      "1\n",
      "20\n",
      "Change dominating species from Neanderthal to Denisovan would require removing 3 reads: [2, 0, 1]\n",
      "[2, 0, 1]\n",
      "counter_factual shap on size 20: 3\n",
      "Change dominating species from Neanderthal to Denisovan would require removing 2 reads: [5, 2]\n",
      "[5, 2]\n",
      "counter_factual monte carlo on size 50: 2\n",
      "1\n"
     ]
    },
    {
     "data": {
      "application/vnd.jupyter.widget-view+json": {
       "model_id": "1d3f8a6cac6d441c8a991948e5d2b7d5",
       "version_major": 2,
       "version_minor": 0
      },
      "text/plain": [
       "  0%|          | 0/1 [00:00<?, ?it/s]"
      ]
     },
     "metadata": {},
     "output_type": "display_data"
    },
    {
     "name": "stdout",
     "output_type": "stream",
     "text": [
      "1\n",
      "50\n",
      "Change dominating species from Neanderthal to Denisovan would require removing 2 reads: [2, 4]\n",
      "[2, 4]\n",
      "counter_factual shap on size 50: 2\n",
      "Change dominating species from Neanderthal to Denisovan would require removing 2 reads: [2, 4]\n",
      "[2, 4]\n",
      "counter_factual monte carlo on size 100: 2\n",
      "1\n"
     ]
    },
    {
     "data": {
      "application/vnd.jupyter.widget-view+json": {
       "model_id": "65140c5977d847e48518af902d3e9d61",
       "version_major": 2,
       "version_minor": 0
      },
      "text/plain": [
       "  0%|          | 0/1 [00:00<?, ?it/s]"
      ]
     },
     "metadata": {},
     "output_type": "display_data"
    },
    {
     "name": "stdout",
     "output_type": "stream",
     "text": [
      "1\n",
      "100\n",
      "Change dominating species from Neanderthal to Denisovan would require removing 2 reads: [4, 2]\n",
      "[4, 2]\n",
      "counter_factual shap on size 100: 2\n",
      "Change dominating species from Neanderthal to Denisovan would require removing 2 reads: [5, 2]\n",
      "[5, 2]\n",
      "counter_factual monte carlo on size 200: 2\n",
      "1\n"
     ]
    },
    {
     "data": {
      "application/vnd.jupyter.widget-view+json": {
       "model_id": "dc94b8694b2143eba01a27887c99d97b",
       "version_major": 2,
       "version_minor": 0
      },
      "text/plain": [
       "  0%|          | 0/1 [00:00<?, ?it/s]"
      ]
     },
     "metadata": {},
     "output_type": "display_data"
    },
    {
     "name": "stdout",
     "output_type": "stream",
     "text": [
      "1\n",
      "200\n",
      "Change dominating species from Neanderthal to Denisovan would require removing 2 reads: [4, 2]\n",
      "[4, 2]\n",
      "counter_factual shap on size 200: 2\n",
      "Change dominating species from Neanderthal to Denisovan would require removing 2 reads: [2, 5]\n",
      "[2, 5]\n",
      "counter_factual monte carlo on size 500: 2\n",
      "1\n"
     ]
    },
    {
     "data": {
      "application/vnd.jupyter.widget-view+json": {
       "model_id": "b75e77d584884b34b31bf0150aa7fdd0",
       "version_major": 2,
       "version_minor": 0
      },
      "text/plain": [
       "  0%|          | 0/1 [00:00<?, ?it/s]"
      ]
     },
     "metadata": {},
     "output_type": "display_data"
    },
    {
     "name": "stdout",
     "output_type": "stream",
     "text": [
      "1\n",
      "500\n",
      "Change dominating species from Neanderthal to Denisovan would require removing 2 reads: [5, 4]\n",
      "[5, 4]\n",
      "counter_factual shap on size 500: 2\n",
      "Change dominating species from Neanderthal to Denisovan would require removing 2 reads: [5, 2]\n",
      "[5, 2]\n",
      "counter_factualA_s_d: 2\n",
      "[(10, 1, 1, 6, [(1, 10), (5, 10), (10, 10), (20, 11), (50, 7), (100, 6), (200, 6), (500, 7)], [(1, 9), (5, 6), (10, 8), (20, 6), (50, 7), (100, 7), (200, 7), (500, 7)], 7), (5, 4, 3, 3, [(1, 5), (5, 5), (10, 5), (20, 5), (50, 3), (100, 3), (200, 3), (500, 3)], [(1, 4), (5, 3), (10, 3), (20, 3), (50, 3), (100, 3), (200, 3), (500, 3)], 3), (2, 6, 4, 1, [(1, 3), (5, 3), (10, 2), (20, 1), (50, 1), (100, 1), (200, 1), (500, 1)], [(1, 3), (5, 1), (10, 1), (20, 1), (50, 1), (100, 1), (200, 1), (500, 1)], 1), (4, 5, 3, 2, [(1, 3), (5, 2), (10, 2), (20, 2), (50, 2), (100, 2), (200, 2), (500, 2)], [(1, 2), (5, 2), (10, 2), (20, 2), (50, 2), (100, 2), (200, 2), (500, 2)], 2), (9, 2, 1, 3, [(1, 8), (5, 7), (10, 7), (20, 9), (50, 5), (100, 5), (200, 6), (500, 5)], [(1, 4), (5, 6), (10, 5), (20, 5), (50, 4), (100, 4), (200, 4), (500, 5)], 6), (6, 4, 2, 2, [(1, 5), (5, 5), (10, 3), (20, 2), (50, 2), (100, 2), (200, 2), (500, 2)], [(1, 2), (5, 2), (10, 2), (20, 2), (50, 2), (100, 2), (200, 2), (500, 2)], 2), (6, 4, 2, 3, [(1, 4), (5, 5), (10, 4), (20, 5), (50, 3), (100, 3), (200, 3), (500, 3)], [(1, 3), (5, 3), (10, 4), (20, 3), (50, 3), (100, 3), (200, 3), (500, 3)], 3), (2, 6, 4, 3, [(1, 6), (5, 6), (10, 6), (20, 5), (50, 3), (100, 3), (200, 3), (500, 3)], [(1, 5), (5, 4), (10, 3), (20, 3), (50, 3), (100, 3), (200, 3), (500, 3)], 3), (0, 8, 4, 3, [(1, 5), (5, 5), (10, 7), (20, 4), (50, 4), (100, 3), (200, 3), (500, 3)], [(1, 3), (5, 3), (10, 3), (20, 3), (50, 4), (100, 3), (200, 3), (500, 3)], 3), (4, 5, 3, 4, [(1, 4), (5, 4), (10, 4), (20, 6), (50, 4), (100, 4), (200, 4), (500, 4)], [(1, 5), (5, 4), (10, 5), (20, 4), (50, 4), (100, 4), (200, 4), (500, 4)], 4), (3, 6, 3, 2, [(1, 2), (5, 2), (10, 2), (20, 2), (50, 2), (100, 2), (200, 2), (500, 2)], [(1, 4), (5, 2), (10, 2), (20, 2), (50, 2), (100, 2), (200, 2), (500, 2)], 2), (3, 6, 3, 4, [(1, 8), (5, 6), (10, 8), (20, 8), (50, 4), (100, 4), (200, 4), (500, 4)], [(1, 8), (5, 6), (10, 5), (20, 4), (50, 4), (100, 4), (200, 4), (500, 4)], 4), (5, 4, 3, 3, [(1, 8), (5, 8), (10, 8), (20, 4), (50, 4), (100, 4), (200, 3), (500, 3)], [(1, 5), (5, 5), (10, 5), (20, 4), (50, 4), (100, 3), (200, 3), (500, 3)], 3), (11, 0, 1, 3, [(1, 11), (5, 11), (10, 7), (20, 8), (50, 4), (100, 4), (200, 3), (500, 3)], [(1, 3), (5, 4), (10, 3), (20, 4), (50, 4), (100, 4), (200, 3), (500, 4)], 3), (4, 5, 3, 2, [(1, 9), (5, 8), (10, 9), (20, 3), (50, 4), (100, 2), (200, 2), (500, 2)], [(1, 4), (5, 2), (10, 2), (20, 2), (50, 2), (100, 2), (200, 2), (500, 2)], 2), (2, 6, 4, 3, [(1, 5), (5, 6), (10, 3), (20, 4), (50, 3), (100, 3), (200, 3), (500, 3)], [(1, 3), (5, 3), (10, 4), (20, 3), (50, 3), (100, 3), (200, 3), (500, 3)], 3), (0, 8, 4, 1, [(1, 3), (5, 1), (10, 2), (20, 1), (50, 1), (100, 1), (200, 1), (500, 1)], [(1, 1), (5, 1), (10, 1), (20, 1), (50, 1), (100, 1), (200, 1), (500, 1)], 1), (2, 6, 4, 2, [(1, 6), (5, 6), (10, 6), (20, 2), (50, 2), (100, 2), (200, 2), (500, 2)], [(1, 2), (5, 3), (10, 2), (20, 2), (50, 2), (100, 2), (200, 2), (500, 2)], 2), (5, 4, 3, 2, [(1, 3), (5, 3), (10, 3), (20, 2), (50, 2), (100, 2), (200, 2), (500, 2)], [(1, 3), (5, 3), (10, 2), (20, 2), (50, 2), (100, 2), (200, 2), (500, 2)], 2), (1, 7, 4, 1, [(1, 4), (5, 1), (10, 1), (20, 1), (50, 1), (100, 1), (200, 1), (500, 1)], [(1, 2), (5, 1), (10, 1), (20, 1), (50, 1), (100, 1), (200, 1), (500, 1)], 1), (9, 2, 1, 2, [(1, 7), (5, 8), (10, 2), (20, 2), (50, 3), (100, 2), (200, 2), (500, 2)], [(1, 2), (5, 2), (10, 2), (20, 2), (50, 2), (100, 2), (200, 2), (500, 2)], 2), (11, 0, 1, 7, [(1, 10), (5, 10), (10, 9), (20, 10), (50, 10), (100, 7), (200, 7), (500, 7)], [(1, 10), (5, 7), (10, 7), (20, 7), (50, 7), (100, 7), (200, 7), (500, 7)], 7), (3, 6, 3, 1, [(1, 7), (5, 8), (10, 1), (20, 1), (50, 1), (100, 1), (200, 1), (500, 1)], [(1, 2), (5, 1), (10, 1), (20, 1), (50, 1), (100, 1), (200, 1), (500, 1)], 1), (7, 3, 2, 1, [(1, 2), (5, 2), (10, 2), (20, 2), (50, 1), (100, 1), (200, 1), (500, 1)], [(1, 1), (5, 1), (10, 1), (20, 1), (50, 1), (100, 1), (200, 1), (500, 1)], 1), (9, 2, 1, 2, [(1, 3), (5, 4), (10, 3), (20, 2), (50, 2), (100, 2), (200, 2), (500, 2)], [(1, 2), (5, 2), (10, 2), (20, 3), (50, 2), (100, 3), (200, 3), (500, 2)], 2), (8, 2, 2, 4, [(1, 8), (5, 5), (10, 5), (20, 4), (50, 4), (100, 4), (200, 4), (500, 4)], [(1, 4), (5, 6), (10, 4), (20, 4), (50, 4), (100, 4), (200, 4), (500, 4)], 4), (11, 0, 1, 8, [(1, 10), (5, 10), (10, 10), (20, 8), (50, 11), (100, 8), (200, 8), (500, 8)], [(1, 10), (5, 9), (10, 9), (20, 9), (50, 8), (100, 8), (200, 8), (500, 8)], 8), (6, 4, 2, 1, [(1, 1), (5, 1), (10, 1), (20, 1), (50, 1), (100, 1), (200, 1), (500, 1)], [(1, 1), (5, 1), (10, 1), (20, 1), (50, 1), (100, 1), (200, 1), (500, 1)], 1), (3, 6, 3, 2, [(1, 6), (5, 6), (10, 5), (20, 2), (50, 2), (100, 2), (200, 2), (500, 2)], [(1, 2), (5, 2), (10, 2), (20, 2), (50, 2), (100, 2), (200, 2), (500, 2)], 2), (6, 4, 2, 2, [(1, 10), (5, 10), (10, 10), (20, 10), (50, 3), (100, 3), (200, 3), (500, 3)], [(1, 10), (5, 3), (10, 4), (20, 4), (50, 3), (100, 3), (200, 3), (500, 3)], 4), (3, 6, 3, 1, [(1, 1), (5, 1), (10, 1), (20, 1), (50, 1), (100, 1), (200, 1), (500, 1)], [(1, 1), (5, 1), (10, 1), (20, 1), (50, 1), (100, 1), (200, 1), (500, 1)], 1), (8, 2, 2, 4, [(1, 6), (5, 6), (10, 8), (20, 4), (50, 5), (100, 5), (200, 4), (500, 4)], [(1, 6), (5, 6), (10, 5), (20, 4), (50, 5), (100, 5), (200, 5), (500, 4)], 4), (4, 5, 3, 1, [(1, 3), (5, 1), (10, 1), (20, 1), (50, 1), (100, 1), (200, 1), (500, 1)], [(1, 1), (5, 1), (10, 1), (20, 1), (50, 1), (100, 1), (200, 1), (500, 1)], 1), (7, 3, 2, 1, [(1, 9), (5, 9), (10, 1), (20, 1), (50, 1), (100, 1), (200, 1), (500, 1)], [(1, 1), (5, 1), (10, 1), (20, 1), (50, 1), (100, 1), (200, 1), (500, 1)], 1), (8, 2, 2, 3, [(1, 7), (5, 7), (10, 7), (20, 7), (50, 3), (100, 3), (200, 3), (500, 3)], [(1, 7), (5, 4), (10, 4), (20, 4), (50, 3), (100, 3), (200, 3), (500, 3)], 3), (8, 2, 2, 3, [(1, 6), (5, 3), (10, 4), (20, 5), (50, 3), (100, 3), (200, 3), (500, 3)], [(1, 4), (5, 4), (10, 3), (20, 3), (50, 3), (100, 3), (200, 3), (500, 3)], 3), (9, 2, 1, 6, [(1, 7), (5, 8), (10, 9), (20, 7), (50, 10), (100, 8), (200, 7), (500, 8)], [(1, 7), (5, 8), (10, 8), (20, 6), (50, 7), (100, 8), (200, 8), (500, 8)], 8), (2, 6, 4, 1, [(1, 7), (5, 1), (10, 1), (20, 1), (50, 1), (100, 1), (200, 1), (500, 1)], [(1, 2), (5, 1), (10, 1), (20, 1), (50, 1), (100, 1), (200, 1), (500, 1)], 1), (8, 2, 2, 5, [(1, 8), (5, 7), (10, 8), (20, 10), (50, 9), (100, 5), (200, 6), (500, 7)], [(1, 6), (5, 6), (10, 6), (20, 9), (50, 8), (100, 8), (200, 8), (500, 6)], 7), (11, 0, 1, 4, [(1, 10), (5, 10), (10, 6), (20, 6), (50, 4), (100, 4), (200, 4), (500, 4)], [(1, 4), (5, 5), (10, 5), (20, 5), (50, 5), (100, 4), (200, 4), (500, 4)], 4), (2, 6, 4, 1, [(1, 2), (5, 1), (10, 4), (20, 1), (50, 1), (100, 1), (200, 1), (500, 1)], [(1, 1), (5, 1), (10, 1), (20, 1), (50, 1), (100, 1), (200, 1), (500, 1)], 1), (2, 6, 4, 2, [(1, 3), (5, 2), (10, 3), (20, 3), (50, 2), (100, 2), (200, 2), (500, 2)], [(1, 2), (5, 2), (10, 2), (20, 2), (50, 2), (100, 2), (200, 2), (500, 2)], 2)]\n",
      "new experiment: 42\n",
      "1 7 4\n",
      "\u001b[34mLoading sequences and calculating alignments to all references, this might take a while. Number of reads: \u001b[0m 12\n",
      "start working on read number 0\n",
      "working on size:  0\n",
      "working on size:  1\n",
      "working on size:  2\n",
      "groundtruth: 2\n",
      "groundtruth values: [1, 5]\n",
      "Change dominating species from Neanderthal to Denisovan would require removing 3 reads: [1, 3, 4]\n",
      "[1, 3, 4]\n",
      "counter_factual monte carlo on size 1: 3\n",
      "1\n"
     ]
    },
    {
     "data": {
      "application/vnd.jupyter.widget-view+json": {
       "model_id": "6a73560ac75548d28eefef1c11876b76",
       "version_major": 2,
       "version_minor": 0
      },
      "text/plain": [
       "  0%|          | 0/1 [00:00<?, ?it/s]"
      ]
     },
     "metadata": {},
     "output_type": "display_data"
    },
    {
     "name": "stdout",
     "output_type": "stream",
     "text": [
      "1\n",
      "1\n",
      "Change dominating species from Neanderthal to Denisovan would require removing 6 reads: [0, 1, 2, 3, 4, 5]\n",
      "[0, 1, 2, 3, 4, 5]\n",
      "counter_factual shap on size 1: 6\n",
      "Change dominating species from Neanderthal to Homo Sapiens would require removing 2 reads: [10, 5]\n",
      "[10, 5]\n",
      "counter_factual monte carlo on size 5: 2\n",
      "1\n"
     ]
    },
    {
     "data": {
      "application/vnd.jupyter.widget-view+json": {
       "model_id": "10f4bca5f116434da046c19ad18cf14c",
       "version_major": 2,
       "version_minor": 0
      },
      "text/plain": [
       "  0%|          | 0/1 [00:00<?, ?it/s]"
      ]
     },
     "metadata": {},
     "output_type": "display_data"
    },
    {
     "name": "stdout",
     "output_type": "stream",
     "text": [
      "1\n",
      "5\n",
      "Change dominating species from Neanderthal to Denisovan would require removing 6 reads: [1, 0, 2, 3, 4, 5]\n",
      "[1, 0, 2, 3, 4, 5]\n",
      "counter_factual shap on size 5: 6\n",
      "Change dominating species from Neanderthal to Homo Sapiens would require removing 2 reads: [5, 1]\n",
      "[5, 1]\n",
      "counter_factual monte carlo on size 10: 2\n",
      "1\n"
     ]
    },
    {
     "data": {
      "application/vnd.jupyter.widget-view+json": {
       "model_id": "8024f881a6eb43b0b81ca1b586af5952",
       "version_major": 2,
       "version_minor": 0
      },
      "text/plain": [
       "  0%|          | 0/1 [00:00<?, ?it/s]"
      ]
     },
     "metadata": {},
     "output_type": "display_data"
    },
    {
     "name": "stdout",
     "output_type": "stream",
     "text": [
      "1\n",
      "10\n",
      "Change dominating species from Neanderthal to Denisovan would require removing 3 reads: [1, 2, 3]\n",
      "[1, 2, 3]\n",
      "counter_factual shap on size 10: 3\n",
      "Change dominating species from Neanderthal to Homo Sapiens would require removing 2 reads: [1, 5]\n",
      "[1, 5]\n",
      "counter_factual monte carlo on size 20: 2\n",
      "1\n"
     ]
    },
    {
     "data": {
      "application/vnd.jupyter.widget-view+json": {
       "model_id": "3d2b4e78ee834696b43a6ba541caa6f4",
       "version_major": 2,
       "version_minor": 0
      },
      "text/plain": [
       "  0%|          | 0/1 [00:00<?, ?it/s]"
      ]
     },
     "metadata": {},
     "output_type": "display_data"
    },
    {
     "name": "stdout",
     "output_type": "stream",
     "text": [
      "1\n",
      "20\n",
      "Change dominating species from Neanderthal to Homo Sapiens would require removing 3 reads: [7, 1, 5]\n",
      "[7, 1, 5]\n",
      "counter_factual shap on size 20: 3\n",
      "Change dominating species from Neanderthal to Homo Sapiens would require removing 2 reads: [1, 5]\n",
      "[1, 5]\n",
      "counter_factual monte carlo on size 50: 2\n",
      "1\n"
     ]
    },
    {
     "data": {
      "application/vnd.jupyter.widget-view+json": {
       "model_id": "528504777ee241edb256fc22b9963969",
       "version_major": 2,
       "version_minor": 0
      },
      "text/plain": [
       "  0%|          | 0/1 [00:00<?, ?it/s]"
      ]
     },
     "metadata": {},
     "output_type": "display_data"
    },
    {
     "name": "stdout",
     "output_type": "stream",
     "text": [
      "1\n",
      "50\n",
      "Change dominating species from Neanderthal to Homo Sapiens would require removing 3 reads: [5, 7, 1]\n",
      "[5, 7, 1]\n",
      "counter_factual shap on size 50: 3\n",
      "Change dominating species from Neanderthal to Homo Sapiens would require removing 2 reads: [1, 5]\n",
      "[1, 5]\n",
      "counter_factual monte carlo on size 100: 2\n",
      "1\n"
     ]
    },
    {
     "data": {
      "application/vnd.jupyter.widget-view+json": {
       "model_id": "da891434ff0746a1876fbca615870f33",
       "version_major": 2,
       "version_minor": 0
      },
      "text/plain": [
       "  0%|          | 0/1 [00:00<?, ?it/s]"
      ]
     },
     "metadata": {},
     "output_type": "display_data"
    },
    {
     "name": "stdout",
     "output_type": "stream",
     "text": [
      "1\n",
      "100\n",
      "Change dominating species from Neanderthal to Homo Sapiens would require removing 2 reads: [5, 1]\n",
      "[5, 1]\n",
      "counter_factual shap on size 100: 2\n",
      "Change dominating species from Neanderthal to Homo Sapiens would require removing 2 reads: [1, 5]\n",
      "[1, 5]\n",
      "counter_factual monte carlo on size 200: 2\n",
      "1\n"
     ]
    },
    {
     "data": {
      "application/vnd.jupyter.widget-view+json": {
       "model_id": "722f190ab97b4fde85b744ef40eadb49",
       "version_major": 2,
       "version_minor": 0
      },
      "text/plain": [
       "  0%|          | 0/1 [00:00<?, ?it/s]"
      ]
     },
     "metadata": {},
     "output_type": "display_data"
    },
    {
     "name": "stdout",
     "output_type": "stream",
     "text": [
      "1\n",
      "200\n",
      "Change dominating species from Neanderthal to Homo Sapiens would require removing 2 reads: [1, 5]\n",
      "[1, 5]\n",
      "counter_factual shap on size 200: 2\n",
      "Change dominating species from Neanderthal to Homo Sapiens would require removing 2 reads: [5, 1]\n",
      "[5, 1]\n",
      "counter_factual monte carlo on size 500: 2\n",
      "1\n"
     ]
    },
    {
     "data": {
      "application/vnd.jupyter.widget-view+json": {
       "model_id": "2c88e09a073942d2a180925a9838e6a1",
       "version_major": 2,
       "version_minor": 0
      },
      "text/plain": [
       "  0%|          | 0/1 [00:00<?, ?it/s]"
      ]
     },
     "metadata": {},
     "output_type": "display_data"
    },
    {
     "name": "stdout",
     "output_type": "stream",
     "text": [
      "1\n",
      "500\n",
      "Change dominating species from Neanderthal to Homo Sapiens would require removing 2 reads: [5, 1]\n",
      "[5, 1]\n",
      "counter_factual shap on size 500: 2\n",
      "Change dominating species from Neanderthal to Homo Sapiens would require removing 2 reads: [1, 5]\n",
      "[1, 5]\n",
      "counter_factualA_s_d: 2\n",
      "[(10, 1, 1, 6, [(1, 10), (5, 10), (10, 10), (20, 11), (50, 7), (100, 6), (200, 6), (500, 7)], [(1, 9), (5, 6), (10, 8), (20, 6), (50, 7), (100, 7), (200, 7), (500, 7)], 7), (5, 4, 3, 3, [(1, 5), (5, 5), (10, 5), (20, 5), (50, 3), (100, 3), (200, 3), (500, 3)], [(1, 4), (5, 3), (10, 3), (20, 3), (50, 3), (100, 3), (200, 3), (500, 3)], 3), (2, 6, 4, 1, [(1, 3), (5, 3), (10, 2), (20, 1), (50, 1), (100, 1), (200, 1), (500, 1)], [(1, 3), (5, 1), (10, 1), (20, 1), (50, 1), (100, 1), (200, 1), (500, 1)], 1), (4, 5, 3, 2, [(1, 3), (5, 2), (10, 2), (20, 2), (50, 2), (100, 2), (200, 2), (500, 2)], [(1, 2), (5, 2), (10, 2), (20, 2), (50, 2), (100, 2), (200, 2), (500, 2)], 2), (9, 2, 1, 3, [(1, 8), (5, 7), (10, 7), (20, 9), (50, 5), (100, 5), (200, 6), (500, 5)], [(1, 4), (5, 6), (10, 5), (20, 5), (50, 4), (100, 4), (200, 4), (500, 5)], 6), (6, 4, 2, 2, [(1, 5), (5, 5), (10, 3), (20, 2), (50, 2), (100, 2), (200, 2), (500, 2)], [(1, 2), (5, 2), (10, 2), (20, 2), (50, 2), (100, 2), (200, 2), (500, 2)], 2), (6, 4, 2, 3, [(1, 4), (5, 5), (10, 4), (20, 5), (50, 3), (100, 3), (200, 3), (500, 3)], [(1, 3), (5, 3), (10, 4), (20, 3), (50, 3), (100, 3), (200, 3), (500, 3)], 3), (2, 6, 4, 3, [(1, 6), (5, 6), (10, 6), (20, 5), (50, 3), (100, 3), (200, 3), (500, 3)], [(1, 5), (5, 4), (10, 3), (20, 3), (50, 3), (100, 3), (200, 3), (500, 3)], 3), (0, 8, 4, 3, [(1, 5), (5, 5), (10, 7), (20, 4), (50, 4), (100, 3), (200, 3), (500, 3)], [(1, 3), (5, 3), (10, 3), (20, 3), (50, 4), (100, 3), (200, 3), (500, 3)], 3), (4, 5, 3, 4, [(1, 4), (5, 4), (10, 4), (20, 6), (50, 4), (100, 4), (200, 4), (500, 4)], [(1, 5), (5, 4), (10, 5), (20, 4), (50, 4), (100, 4), (200, 4), (500, 4)], 4), (3, 6, 3, 2, [(1, 2), (5, 2), (10, 2), (20, 2), (50, 2), (100, 2), (200, 2), (500, 2)], [(1, 4), (5, 2), (10, 2), (20, 2), (50, 2), (100, 2), (200, 2), (500, 2)], 2), (3, 6, 3, 4, [(1, 8), (5, 6), (10, 8), (20, 8), (50, 4), (100, 4), (200, 4), (500, 4)], [(1, 8), (5, 6), (10, 5), (20, 4), (50, 4), (100, 4), (200, 4), (500, 4)], 4), (5, 4, 3, 3, [(1, 8), (5, 8), (10, 8), (20, 4), (50, 4), (100, 4), (200, 3), (500, 3)], [(1, 5), (5, 5), (10, 5), (20, 4), (50, 4), (100, 3), (200, 3), (500, 3)], 3), (11, 0, 1, 3, [(1, 11), (5, 11), (10, 7), (20, 8), (50, 4), (100, 4), (200, 3), (500, 3)], [(1, 3), (5, 4), (10, 3), (20, 4), (50, 4), (100, 4), (200, 3), (500, 4)], 3), (4, 5, 3, 2, [(1, 9), (5, 8), (10, 9), (20, 3), (50, 4), (100, 2), (200, 2), (500, 2)], [(1, 4), (5, 2), (10, 2), (20, 2), (50, 2), (100, 2), (200, 2), (500, 2)], 2), (2, 6, 4, 3, [(1, 5), (5, 6), (10, 3), (20, 4), (50, 3), (100, 3), (200, 3), (500, 3)], [(1, 3), (5, 3), (10, 4), (20, 3), (50, 3), (100, 3), (200, 3), (500, 3)], 3), (0, 8, 4, 1, [(1, 3), (5, 1), (10, 2), (20, 1), (50, 1), (100, 1), (200, 1), (500, 1)], [(1, 1), (5, 1), (10, 1), (20, 1), (50, 1), (100, 1), (200, 1), (500, 1)], 1), (2, 6, 4, 2, [(1, 6), (5, 6), (10, 6), (20, 2), (50, 2), (100, 2), (200, 2), (500, 2)], [(1, 2), (5, 3), (10, 2), (20, 2), (50, 2), (100, 2), (200, 2), (500, 2)], 2), (5, 4, 3, 2, [(1, 3), (5, 3), (10, 3), (20, 2), (50, 2), (100, 2), (200, 2), (500, 2)], [(1, 3), (5, 3), (10, 2), (20, 2), (50, 2), (100, 2), (200, 2), (500, 2)], 2), (1, 7, 4, 1, [(1, 4), (5, 1), (10, 1), (20, 1), (50, 1), (100, 1), (200, 1), (500, 1)], [(1, 2), (5, 1), (10, 1), (20, 1), (50, 1), (100, 1), (200, 1), (500, 1)], 1), (9, 2, 1, 2, [(1, 7), (5, 8), (10, 2), (20, 2), (50, 3), (100, 2), (200, 2), (500, 2)], [(1, 2), (5, 2), (10, 2), (20, 2), (50, 2), (100, 2), (200, 2), (500, 2)], 2), (11, 0, 1, 7, [(1, 10), (5, 10), (10, 9), (20, 10), (50, 10), (100, 7), (200, 7), (500, 7)], [(1, 10), (5, 7), (10, 7), (20, 7), (50, 7), (100, 7), (200, 7), (500, 7)], 7), (3, 6, 3, 1, [(1, 7), (5, 8), (10, 1), (20, 1), (50, 1), (100, 1), (200, 1), (500, 1)], [(1, 2), (5, 1), (10, 1), (20, 1), (50, 1), (100, 1), (200, 1), (500, 1)], 1), (7, 3, 2, 1, [(1, 2), (5, 2), (10, 2), (20, 2), (50, 1), (100, 1), (200, 1), (500, 1)], [(1, 1), (5, 1), (10, 1), (20, 1), (50, 1), (100, 1), (200, 1), (500, 1)], 1), (9, 2, 1, 2, [(1, 3), (5, 4), (10, 3), (20, 2), (50, 2), (100, 2), (200, 2), (500, 2)], [(1, 2), (5, 2), (10, 2), (20, 3), (50, 2), (100, 3), (200, 3), (500, 2)], 2), (8, 2, 2, 4, [(1, 8), (5, 5), (10, 5), (20, 4), (50, 4), (100, 4), (200, 4), (500, 4)], [(1, 4), (5, 6), (10, 4), (20, 4), (50, 4), (100, 4), (200, 4), (500, 4)], 4), (11, 0, 1, 8, [(1, 10), (5, 10), (10, 10), (20, 8), (50, 11), (100, 8), (200, 8), (500, 8)], [(1, 10), (5, 9), (10, 9), (20, 9), (50, 8), (100, 8), (200, 8), (500, 8)], 8), (6, 4, 2, 1, [(1, 1), (5, 1), (10, 1), (20, 1), (50, 1), (100, 1), (200, 1), (500, 1)], [(1, 1), (5, 1), (10, 1), (20, 1), (50, 1), (100, 1), (200, 1), (500, 1)], 1), (3, 6, 3, 2, [(1, 6), (5, 6), (10, 5), (20, 2), (50, 2), (100, 2), (200, 2), (500, 2)], [(1, 2), (5, 2), (10, 2), (20, 2), (50, 2), (100, 2), (200, 2), (500, 2)], 2), (6, 4, 2, 2, [(1, 10), (5, 10), (10, 10), (20, 10), (50, 3), (100, 3), (200, 3), (500, 3)], [(1, 10), (5, 3), (10, 4), (20, 4), (50, 3), (100, 3), (200, 3), (500, 3)], 4), (3, 6, 3, 1, [(1, 1), (5, 1), (10, 1), (20, 1), (50, 1), (100, 1), (200, 1), (500, 1)], [(1, 1), (5, 1), (10, 1), (20, 1), (50, 1), (100, 1), (200, 1), (500, 1)], 1), (8, 2, 2, 4, [(1, 6), (5, 6), (10, 8), (20, 4), (50, 5), (100, 5), (200, 4), (500, 4)], [(1, 6), (5, 6), (10, 5), (20, 4), (50, 5), (100, 5), (200, 5), (500, 4)], 4), (4, 5, 3, 1, [(1, 3), (5, 1), (10, 1), (20, 1), (50, 1), (100, 1), (200, 1), (500, 1)], [(1, 1), (5, 1), (10, 1), (20, 1), (50, 1), (100, 1), (200, 1), (500, 1)], 1), (7, 3, 2, 1, [(1, 9), (5, 9), (10, 1), (20, 1), (50, 1), (100, 1), (200, 1), (500, 1)], [(1, 1), (5, 1), (10, 1), (20, 1), (50, 1), (100, 1), (200, 1), (500, 1)], 1), (8, 2, 2, 3, [(1, 7), (5, 7), (10, 7), (20, 7), (50, 3), (100, 3), (200, 3), (500, 3)], [(1, 7), (5, 4), (10, 4), (20, 4), (50, 3), (100, 3), (200, 3), (500, 3)], 3), (8, 2, 2, 3, [(1, 6), (5, 3), (10, 4), (20, 5), (50, 3), (100, 3), (200, 3), (500, 3)], [(1, 4), (5, 4), (10, 3), (20, 3), (50, 3), (100, 3), (200, 3), (500, 3)], 3), (9, 2, 1, 6, [(1, 7), (5, 8), (10, 9), (20, 7), (50, 10), (100, 8), (200, 7), (500, 8)], [(1, 7), (5, 8), (10, 8), (20, 6), (50, 7), (100, 8), (200, 8), (500, 8)], 8), (2, 6, 4, 1, [(1, 7), (5, 1), (10, 1), (20, 1), (50, 1), (100, 1), (200, 1), (500, 1)], [(1, 2), (5, 1), (10, 1), (20, 1), (50, 1), (100, 1), (200, 1), (500, 1)], 1), (8, 2, 2, 5, [(1, 8), (5, 7), (10, 8), (20, 10), (50, 9), (100, 5), (200, 6), (500, 7)], [(1, 6), (5, 6), (10, 6), (20, 9), (50, 8), (100, 8), (200, 8), (500, 6)], 7), (11, 0, 1, 4, [(1, 10), (5, 10), (10, 6), (20, 6), (50, 4), (100, 4), (200, 4), (500, 4)], [(1, 4), (5, 5), (10, 5), (20, 5), (50, 5), (100, 4), (200, 4), (500, 4)], 4), (2, 6, 4, 1, [(1, 2), (5, 1), (10, 4), (20, 1), (50, 1), (100, 1), (200, 1), (500, 1)], [(1, 1), (5, 1), (10, 1), (20, 1), (50, 1), (100, 1), (200, 1), (500, 1)], 1), (2, 6, 4, 2, [(1, 3), (5, 2), (10, 3), (20, 3), (50, 2), (100, 2), (200, 2), (500, 2)], [(1, 2), (5, 2), (10, 2), (20, 2), (50, 2), (100, 2), (200, 2), (500, 2)], 2), (1, 7, 4, 2, [(1, 6), (5, 6), (10, 3), (20, 3), (50, 3), (100, 2), (200, 2), (500, 2)], [(1, 3), (5, 2), (10, 2), (20, 2), (50, 2), (100, 2), (200, 2), (500, 2)], 2)]\n",
      "new experiment: 43\n",
      "8 2 2\n",
      "\u001b[34mLoading sequences and calculating alignments to all references, this might take a while. Number of reads: \u001b[0m 12\n",
      "start working on read number 0\n",
      "working on size:  0\n",
      "working on size:  1\n",
      "working on size:  2\n",
      "working on size:  3\n",
      "working on size:  4\n",
      "groundtruth: 4\n",
      "groundtruth values: [0, 1, 2, 3]\n",
      "Change dominating species from Homo Sapiens to Neanderthal would require removing 4 reads: [1, 0, 3, 2]\n",
      "[1, 0, 3, 2]\n",
      "counter_factual monte carlo on size 1: 4\n",
      "1\n"
     ]
    },
    {
     "data": {
      "application/vnd.jupyter.widget-view+json": {
       "model_id": "e2c032ba3f994d4789b302eb848ed131",
       "version_major": 2,
       "version_minor": 0
      },
      "text/plain": [
       "  0%|          | 0/1 [00:00<?, ?it/s]"
      ]
     },
     "metadata": {},
     "output_type": "display_data"
    },
    {
     "name": "stdout",
     "output_type": "stream",
     "text": [
      "1\n",
      "1\n",
      "Change dominating species from Homo Sapiens to Neanderthal would require removing 4 reads: [0, 1, 2, 3]\n",
      "[0, 1, 2, 3]\n",
      "counter_factual shap on size 1: 4\n",
      "Change dominating species from Homo Sapiens to Neanderthal would require removing 4 reads: [1, 0, 2, 3]\n",
      "[1, 0, 2, 3]\n",
      "counter_factual monte carlo on size 5: 4\n",
      "1\n"
     ]
    },
    {
     "data": {
      "application/vnd.jupyter.widget-view+json": {
       "model_id": "b7914cb84cc643d7adae3dde3d82f6b2",
       "version_major": 2,
       "version_minor": 0
      },
      "text/plain": [
       "  0%|          | 0/1 [00:00<?, ?it/s]"
      ]
     },
     "metadata": {},
     "output_type": "display_data"
    },
    {
     "name": "stdout",
     "output_type": "stream",
     "text": [
      "1\n",
      "5\n",
      "Change dominating species from Homo Sapiens to Neanderthal would require removing 4 reads: [1, 0, 2, 3]\n",
      "[1, 0, 2, 3]\n",
      "counter_factual shap on size 5: 4\n",
      "Change dominating species from Homo Sapiens to Neanderthal would require removing 5 reads: [0, 1, 4, 2, 3]\n",
      "[0, 1, 4, 2, 3]\n",
      "counter_factual monte carlo on size 10: 5\n",
      "1\n"
     ]
    },
    {
     "data": {
      "application/vnd.jupyter.widget-view+json": {
       "model_id": "6706d8f9785e468595d099c95105dec3",
       "version_major": 2,
       "version_minor": 0
      },
      "text/plain": [
       "  0%|          | 0/1 [00:00<?, ?it/s]"
      ]
     },
     "metadata": {},
     "output_type": "display_data"
    },
    {
     "name": "stdout",
     "output_type": "stream",
     "text": [
      "1\n",
      "10\n",
      "Change dominating species from Homo Sapiens to Neanderthal would require removing 5 reads: [1, 4, 0, 2, 3]\n",
      "[1, 4, 0, 2, 3]\n",
      "counter_factual shap on size 10: 5\n",
      "Change dominating species from Homo Sapiens to Neanderthal would require removing 5 reads: [0, 1, 2, 9, 3]\n",
      "[0, 1, 2, 9, 3]\n",
      "counter_factual monte carlo on size 20: 5\n",
      "1\n"
     ]
    },
    {
     "data": {
      "application/vnd.jupyter.widget-view+json": {
       "model_id": "c5cf66bca52149c2ad8e430ac3f1af50",
       "version_major": 2,
       "version_minor": 0
      },
      "text/plain": [
       "  0%|          | 0/1 [00:00<?, ?it/s]"
      ]
     },
     "metadata": {},
     "output_type": "display_data"
    },
    {
     "name": "stdout",
     "output_type": "stream",
     "text": [
      "1\n",
      "20\n",
      "Change dominating species from Homo Sapiens to Neanderthal would require removing 4 reads: [1, 2, 0, 3]\n",
      "[1, 2, 0, 3]\n",
      "counter_factual shap on size 20: 4\n",
      "Change dominating species from Homo Sapiens to Neanderthal would require removing 4 reads: [2, 0, 1, 3]\n",
      "[2, 0, 1, 3]\n",
      "counter_factual monte carlo on size 50: 4\n",
      "1\n"
     ]
    },
    {
     "data": {
      "application/vnd.jupyter.widget-view+json": {
       "model_id": "ac587f79a9ac4df0a14db1ad63c5615f",
       "version_major": 2,
       "version_minor": 0
      },
      "text/plain": [
       "  0%|          | 0/1 [00:00<?, ?it/s]"
      ]
     },
     "metadata": {},
     "output_type": "display_data"
    },
    {
     "name": "stdout",
     "output_type": "stream",
     "text": [
      "1\n",
      "50\n",
      "Change dominating species from Homo Sapiens to Neanderthal would require removing 4 reads: [0, 1, 3, 2]\n",
      "[0, 1, 3, 2]\n",
      "counter_factual shap on size 50: 4\n",
      "Change dominating species from Homo Sapiens to Neanderthal would require removing 4 reads: [0, 1, 2, 3]\n",
      "[0, 1, 2, 3]\n",
      "counter_factual monte carlo on size 100: 4\n",
      "1\n"
     ]
    },
    {
     "data": {
      "application/vnd.jupyter.widget-view+json": {
       "model_id": "86690b7c90324b688fa339c65d814212",
       "version_major": 2,
       "version_minor": 0
      },
      "text/plain": [
       "  0%|          | 0/1 [00:00<?, ?it/s]"
      ]
     },
     "metadata": {},
     "output_type": "display_data"
    },
    {
     "name": "stdout",
     "output_type": "stream",
     "text": [
      "1\n",
      "100\n",
      "Change dominating species from Homo Sapiens to Neanderthal would require removing 4 reads: [1, 0, 2, 3]\n",
      "[1, 0, 2, 3]\n",
      "counter_factual shap on size 100: 4\n",
      "Change dominating species from Homo Sapiens to Neanderthal would require removing 4 reads: [0, 1, 2, 3]\n",
      "[0, 1, 2, 3]\n",
      "counter_factual monte carlo on size 200: 4\n",
      "1\n"
     ]
    },
    {
     "data": {
      "application/vnd.jupyter.widget-view+json": {
       "model_id": "c5eca75bdd9145d498cdb0dd9eff4224",
       "version_major": 2,
       "version_minor": 0
      },
      "text/plain": [
       "  0%|          | 0/1 [00:00<?, ?it/s]"
      ]
     },
     "metadata": {},
     "output_type": "display_data"
    },
    {
     "name": "stdout",
     "output_type": "stream",
     "text": [
      "1\n",
      "200\n",
      "Change dominating species from Homo Sapiens to Neanderthal would require removing 4 reads: [2, 1, 0, 3]\n",
      "[2, 1, 0, 3]\n",
      "counter_factual shap on size 200: 4\n",
      "Change dominating species from Homo Sapiens to Neanderthal would require removing 4 reads: [0, 1, 2, 3]\n",
      "[0, 1, 2, 3]\n",
      "counter_factual monte carlo on size 500: 4\n",
      "1\n"
     ]
    },
    {
     "data": {
      "application/vnd.jupyter.widget-view+json": {
       "model_id": "0a4d83a513b04ab0bb476a3bdb6d4f33",
       "version_major": 2,
       "version_minor": 0
      },
      "text/plain": [
       "  0%|          | 0/1 [00:00<?, ?it/s]"
      ]
     },
     "metadata": {},
     "output_type": "display_data"
    },
    {
     "name": "stdout",
     "output_type": "stream",
     "text": [
      "1\n",
      "500\n",
      "Change dominating species from Homo Sapiens to Neanderthal would require removing 4 reads: [2, 0, 1, 3]\n",
      "[2, 0, 1, 3]\n",
      "counter_factual shap on size 500: 4\n",
      "Change dominating species from Homo Sapiens to Neanderthal would require removing 4 reads: [1, 2, 0, 3]\n",
      "[1, 2, 0, 3]\n",
      "counter_factualA_s_d: 4\n",
      "[(10, 1, 1, 6, [(1, 10), (5, 10), (10, 10), (20, 11), (50, 7), (100, 6), (200, 6), (500, 7)], [(1, 9), (5, 6), (10, 8), (20, 6), (50, 7), (100, 7), (200, 7), (500, 7)], 7), (5, 4, 3, 3, [(1, 5), (5, 5), (10, 5), (20, 5), (50, 3), (100, 3), (200, 3), (500, 3)], [(1, 4), (5, 3), (10, 3), (20, 3), (50, 3), (100, 3), (200, 3), (500, 3)], 3), (2, 6, 4, 1, [(1, 3), (5, 3), (10, 2), (20, 1), (50, 1), (100, 1), (200, 1), (500, 1)], [(1, 3), (5, 1), (10, 1), (20, 1), (50, 1), (100, 1), (200, 1), (500, 1)], 1), (4, 5, 3, 2, [(1, 3), (5, 2), (10, 2), (20, 2), (50, 2), (100, 2), (200, 2), (500, 2)], [(1, 2), (5, 2), (10, 2), (20, 2), (50, 2), (100, 2), (200, 2), (500, 2)], 2), (9, 2, 1, 3, [(1, 8), (5, 7), (10, 7), (20, 9), (50, 5), (100, 5), (200, 6), (500, 5)], [(1, 4), (5, 6), (10, 5), (20, 5), (50, 4), (100, 4), (200, 4), (500, 5)], 6), (6, 4, 2, 2, [(1, 5), (5, 5), (10, 3), (20, 2), (50, 2), (100, 2), (200, 2), (500, 2)], [(1, 2), (5, 2), (10, 2), (20, 2), (50, 2), (100, 2), (200, 2), (500, 2)], 2), (6, 4, 2, 3, [(1, 4), (5, 5), (10, 4), (20, 5), (50, 3), (100, 3), (200, 3), (500, 3)], [(1, 3), (5, 3), (10, 4), (20, 3), (50, 3), (100, 3), (200, 3), (500, 3)], 3), (2, 6, 4, 3, [(1, 6), (5, 6), (10, 6), (20, 5), (50, 3), (100, 3), (200, 3), (500, 3)], [(1, 5), (5, 4), (10, 3), (20, 3), (50, 3), (100, 3), (200, 3), (500, 3)], 3), (0, 8, 4, 3, [(1, 5), (5, 5), (10, 7), (20, 4), (50, 4), (100, 3), (200, 3), (500, 3)], [(1, 3), (5, 3), (10, 3), (20, 3), (50, 4), (100, 3), (200, 3), (500, 3)], 3), (4, 5, 3, 4, [(1, 4), (5, 4), (10, 4), (20, 6), (50, 4), (100, 4), (200, 4), (500, 4)], [(1, 5), (5, 4), (10, 5), (20, 4), (50, 4), (100, 4), (200, 4), (500, 4)], 4), (3, 6, 3, 2, [(1, 2), (5, 2), (10, 2), (20, 2), (50, 2), (100, 2), (200, 2), (500, 2)], [(1, 4), (5, 2), (10, 2), (20, 2), (50, 2), (100, 2), (200, 2), (500, 2)], 2), (3, 6, 3, 4, [(1, 8), (5, 6), (10, 8), (20, 8), (50, 4), (100, 4), (200, 4), (500, 4)], [(1, 8), (5, 6), (10, 5), (20, 4), (50, 4), (100, 4), (200, 4), (500, 4)], 4), (5, 4, 3, 3, [(1, 8), (5, 8), (10, 8), (20, 4), (50, 4), (100, 4), (200, 3), (500, 3)], [(1, 5), (5, 5), (10, 5), (20, 4), (50, 4), (100, 3), (200, 3), (500, 3)], 3), (11, 0, 1, 3, [(1, 11), (5, 11), (10, 7), (20, 8), (50, 4), (100, 4), (200, 3), (500, 3)], [(1, 3), (5, 4), (10, 3), (20, 4), (50, 4), (100, 4), (200, 3), (500, 4)], 3), (4, 5, 3, 2, [(1, 9), (5, 8), (10, 9), (20, 3), (50, 4), (100, 2), (200, 2), (500, 2)], [(1, 4), (5, 2), (10, 2), (20, 2), (50, 2), (100, 2), (200, 2), (500, 2)], 2), (2, 6, 4, 3, [(1, 5), (5, 6), (10, 3), (20, 4), (50, 3), (100, 3), (200, 3), (500, 3)], [(1, 3), (5, 3), (10, 4), (20, 3), (50, 3), (100, 3), (200, 3), (500, 3)], 3), (0, 8, 4, 1, [(1, 3), (5, 1), (10, 2), (20, 1), (50, 1), (100, 1), (200, 1), (500, 1)], [(1, 1), (5, 1), (10, 1), (20, 1), (50, 1), (100, 1), (200, 1), (500, 1)], 1), (2, 6, 4, 2, [(1, 6), (5, 6), (10, 6), (20, 2), (50, 2), (100, 2), (200, 2), (500, 2)], [(1, 2), (5, 3), (10, 2), (20, 2), (50, 2), (100, 2), (200, 2), (500, 2)], 2), (5, 4, 3, 2, [(1, 3), (5, 3), (10, 3), (20, 2), (50, 2), (100, 2), (200, 2), (500, 2)], [(1, 3), (5, 3), (10, 2), (20, 2), (50, 2), (100, 2), (200, 2), (500, 2)], 2), (1, 7, 4, 1, [(1, 4), (5, 1), (10, 1), (20, 1), (50, 1), (100, 1), (200, 1), (500, 1)], [(1, 2), (5, 1), (10, 1), (20, 1), (50, 1), (100, 1), (200, 1), (500, 1)], 1), (9, 2, 1, 2, [(1, 7), (5, 8), (10, 2), (20, 2), (50, 3), (100, 2), (200, 2), (500, 2)], [(1, 2), (5, 2), (10, 2), (20, 2), (50, 2), (100, 2), (200, 2), (500, 2)], 2), (11, 0, 1, 7, [(1, 10), (5, 10), (10, 9), (20, 10), (50, 10), (100, 7), (200, 7), (500, 7)], [(1, 10), (5, 7), (10, 7), (20, 7), (50, 7), (100, 7), (200, 7), (500, 7)], 7), (3, 6, 3, 1, [(1, 7), (5, 8), (10, 1), (20, 1), (50, 1), (100, 1), (200, 1), (500, 1)], [(1, 2), (5, 1), (10, 1), (20, 1), (50, 1), (100, 1), (200, 1), (500, 1)], 1), (7, 3, 2, 1, [(1, 2), (5, 2), (10, 2), (20, 2), (50, 1), (100, 1), (200, 1), (500, 1)], [(1, 1), (5, 1), (10, 1), (20, 1), (50, 1), (100, 1), (200, 1), (500, 1)], 1), (9, 2, 1, 2, [(1, 3), (5, 4), (10, 3), (20, 2), (50, 2), (100, 2), (200, 2), (500, 2)], [(1, 2), (5, 2), (10, 2), (20, 3), (50, 2), (100, 3), (200, 3), (500, 2)], 2), (8, 2, 2, 4, [(1, 8), (5, 5), (10, 5), (20, 4), (50, 4), (100, 4), (200, 4), (500, 4)], [(1, 4), (5, 6), (10, 4), (20, 4), (50, 4), (100, 4), (200, 4), (500, 4)], 4), (11, 0, 1, 8, [(1, 10), (5, 10), (10, 10), (20, 8), (50, 11), (100, 8), (200, 8), (500, 8)], [(1, 10), (5, 9), (10, 9), (20, 9), (50, 8), (100, 8), (200, 8), (500, 8)], 8), (6, 4, 2, 1, [(1, 1), (5, 1), (10, 1), (20, 1), (50, 1), (100, 1), (200, 1), (500, 1)], [(1, 1), (5, 1), (10, 1), (20, 1), (50, 1), (100, 1), (200, 1), (500, 1)], 1), (3, 6, 3, 2, [(1, 6), (5, 6), (10, 5), (20, 2), (50, 2), (100, 2), (200, 2), (500, 2)], [(1, 2), (5, 2), (10, 2), (20, 2), (50, 2), (100, 2), (200, 2), (500, 2)], 2), (6, 4, 2, 2, [(1, 10), (5, 10), (10, 10), (20, 10), (50, 3), (100, 3), (200, 3), (500, 3)], [(1, 10), (5, 3), (10, 4), (20, 4), (50, 3), (100, 3), (200, 3), (500, 3)], 4), (3, 6, 3, 1, [(1, 1), (5, 1), (10, 1), (20, 1), (50, 1), (100, 1), (200, 1), (500, 1)], [(1, 1), (5, 1), (10, 1), (20, 1), (50, 1), (100, 1), (200, 1), (500, 1)], 1), (8, 2, 2, 4, [(1, 6), (5, 6), (10, 8), (20, 4), (50, 5), (100, 5), (200, 4), (500, 4)], [(1, 6), (5, 6), (10, 5), (20, 4), (50, 5), (100, 5), (200, 5), (500, 4)], 4), (4, 5, 3, 1, [(1, 3), (5, 1), (10, 1), (20, 1), (50, 1), (100, 1), (200, 1), (500, 1)], [(1, 1), (5, 1), (10, 1), (20, 1), (50, 1), (100, 1), (200, 1), (500, 1)], 1), (7, 3, 2, 1, [(1, 9), (5, 9), (10, 1), (20, 1), (50, 1), (100, 1), (200, 1), (500, 1)], [(1, 1), (5, 1), (10, 1), (20, 1), (50, 1), (100, 1), (200, 1), (500, 1)], 1), (8, 2, 2, 3, [(1, 7), (5, 7), (10, 7), (20, 7), (50, 3), (100, 3), (200, 3), (500, 3)], [(1, 7), (5, 4), (10, 4), (20, 4), (50, 3), (100, 3), (200, 3), (500, 3)], 3), (8, 2, 2, 3, [(1, 6), (5, 3), (10, 4), (20, 5), (50, 3), (100, 3), (200, 3), (500, 3)], [(1, 4), (5, 4), (10, 3), (20, 3), (50, 3), (100, 3), (200, 3), (500, 3)], 3), (9, 2, 1, 6, [(1, 7), (5, 8), (10, 9), (20, 7), (50, 10), (100, 8), (200, 7), (500, 8)], [(1, 7), (5, 8), (10, 8), (20, 6), (50, 7), (100, 8), (200, 8), (500, 8)], 8), (2, 6, 4, 1, [(1, 7), (5, 1), (10, 1), (20, 1), (50, 1), (100, 1), (200, 1), (500, 1)], [(1, 2), (5, 1), (10, 1), (20, 1), (50, 1), (100, 1), (200, 1), (500, 1)], 1), (8, 2, 2, 5, [(1, 8), (5, 7), (10, 8), (20, 10), (50, 9), (100, 5), (200, 6), (500, 7)], [(1, 6), (5, 6), (10, 6), (20, 9), (50, 8), (100, 8), (200, 8), (500, 6)], 7), (11, 0, 1, 4, [(1, 10), (5, 10), (10, 6), (20, 6), (50, 4), (100, 4), (200, 4), (500, 4)], [(1, 4), (5, 5), (10, 5), (20, 5), (50, 5), (100, 4), (200, 4), (500, 4)], 4), (2, 6, 4, 1, [(1, 2), (5, 1), (10, 4), (20, 1), (50, 1), (100, 1), (200, 1), (500, 1)], [(1, 1), (5, 1), (10, 1), (20, 1), (50, 1), (100, 1), (200, 1), (500, 1)], 1), (2, 6, 4, 2, [(1, 3), (5, 2), (10, 3), (20, 3), (50, 2), (100, 2), (200, 2), (500, 2)], [(1, 2), (5, 2), (10, 2), (20, 2), (50, 2), (100, 2), (200, 2), (500, 2)], 2), (1, 7, 4, 2, [(1, 6), (5, 6), (10, 3), (20, 3), (50, 3), (100, 2), (200, 2), (500, 2)], [(1, 3), (5, 2), (10, 2), (20, 2), (50, 2), (100, 2), (200, 2), (500, 2)], 2), (8, 2, 2, 4, [(1, 4), (5, 4), (10, 5), (20, 4), (50, 4), (100, 4), (200, 4), (500, 4)], [(1, 4), (5, 4), (10, 5), (20, 5), (50, 4), (100, 4), (200, 4), (500, 4)], 4)]\n",
      "new experiment: 44\n",
      "7 3 2\n",
      "\u001b[34mLoading sequences and calculating alignments to all references, this might take a while. Number of reads: \u001b[0m 12\n",
      "start working on read number 0\n",
      "working on size:  0\n",
      "working on size:  1\n",
      "working on size:  2\n",
      "working on size:  3\n",
      "groundtruth: 3\n",
      "groundtruth values: [0, 1, 2]\n",
      "Change dominating species from Homo Sapiens to Denisovan would require removing 7 reads: [1, 8, 4, 11, 6, 0, 2]\n",
      "[1, 8, 4, 11, 6, 0, 2]\n",
      "counter_factual monte carlo on size 1: 7\n",
      "1\n"
     ]
    },
    {
     "data": {
      "application/vnd.jupyter.widget-view+json": {
       "model_id": "82b22c4cdc954f73b07766d5cf8d9bd9",
       "version_major": 2,
       "version_minor": 0
      },
      "text/plain": [
       "  0%|          | 0/1 [00:00<?, ?it/s]"
      ]
     },
     "metadata": {},
     "output_type": "display_data"
    },
    {
     "name": "stdout",
     "output_type": "stream",
     "text": [
      "1\n",
      "1\n",
      "Change dominating species from Homo Sapiens to Neanderthal would require removing 3 reads: [0, 1, 2]\n",
      "[0, 1, 2]\n",
      "counter_factual shap on size 1: 3\n",
      "Change dominating species from Homo Sapiens to Neanderthal would require removing 6 reads: [2, 8, 6, 5, 1, 0]\n",
      "[2, 8, 6, 5, 1, 0]\n",
      "counter_factual monte carlo on size 5: 6\n",
      "1\n"
     ]
    },
    {
     "data": {
      "application/vnd.jupyter.widget-view+json": {
       "model_id": "b968f8263ba74270b542be8c6cce1ce0",
       "version_major": 2,
       "version_minor": 0
      },
      "text/plain": [
       "  0%|          | 0/1 [00:00<?, ?it/s]"
      ]
     },
     "metadata": {},
     "output_type": "display_data"
    },
    {
     "name": "stdout",
     "output_type": "stream",
     "text": [
      "1\n",
      "5\n",
      "Change dominating species from Homo Sapiens to Neanderthal would require removing 3 reads: [1, 0, 2]\n",
      "[1, 0, 2]\n",
      "counter_factual shap on size 5: 3\n",
      "Change dominating species from Homo Sapiens to Neanderthal would require removing 4 reads: [8, 2, 1, 0]\n",
      "[8, 2, 1, 0]\n",
      "counter_factual monte carlo on size 10: 4\n",
      "1\n"
     ]
    },
    {
     "data": {
      "application/vnd.jupyter.widget-view+json": {
       "model_id": "c80471796b8d46418f4c9be29466df28",
       "version_major": 2,
       "version_minor": 0
      },
      "text/plain": [
       "  0%|          | 0/1 [00:00<?, ?it/s]"
      ]
     },
     "metadata": {},
     "output_type": "display_data"
    },
    {
     "name": "stdout",
     "output_type": "stream",
     "text": [
      "1\n",
      "10\n",
      "Change dominating species from Homo Sapiens to Neanderthal would require removing 4 reads: [0, 8, 1, 2]\n",
      "[0, 8, 1, 2]\n",
      "counter_factual shap on size 10: 4\n",
      "Change dominating species from Homo Sapiens to Neanderthal would require removing 4 reads: [1, 8, 2, 0]\n",
      "[1, 8, 2, 0]\n",
      "counter_factual monte carlo on size 20: 4\n",
      "1\n"
     ]
    },
    {
     "data": {
      "application/vnd.jupyter.widget-view+json": {
       "model_id": "4e1efb5e1ef249909457f05052581790",
       "version_major": 2,
       "version_minor": 0
      },
      "text/plain": [
       "  0%|          | 0/1 [00:00<?, ?it/s]"
      ]
     },
     "metadata": {},
     "output_type": "display_data"
    },
    {
     "name": "stdout",
     "output_type": "stream",
     "text": [
      "1\n",
      "20\n",
      "Change dominating species from Homo Sapiens to Neanderthal would require removing 4 reads: [8, 2, 0, 1]\n",
      "[8, 2, 0, 1]\n",
      "counter_factual shap on size 20: 4\n",
      "Change dominating species from Homo Sapiens to Neanderthal would require removing 4 reads: [1, 2, 8, 0]\n",
      "[1, 2, 8, 0]\n",
      "counter_factual monte carlo on size 50: 4\n",
      "1\n"
     ]
    },
    {
     "data": {
      "application/vnd.jupyter.widget-view+json": {
       "model_id": "9ec49b3024ee43bfab70d78d1d140248",
       "version_major": 2,
       "version_minor": 0
      },
      "text/plain": [
       "  0%|          | 0/1 [00:00<?, ?it/s]"
      ]
     },
     "metadata": {},
     "output_type": "display_data"
    },
    {
     "name": "stdout",
     "output_type": "stream",
     "text": [
      "1\n",
      "50\n",
      "Change dominating species from Homo Sapiens to Neanderthal would require removing 3 reads: [2, 1, 0]\n",
      "[2, 1, 0]\n",
      "counter_factual shap on size 50: 3\n",
      "Change dominating species from Homo Sapiens to Neanderthal would require removing 4 reads: [0, 1, 8, 2]\n",
      "[0, 1, 8, 2]\n",
      "counter_factual monte carlo on size 100: 4\n",
      "1\n"
     ]
    },
    {
     "data": {
      "application/vnd.jupyter.widget-view+json": {
       "model_id": "e69ab90c24b641b1a7b9d040eb4b22cc",
       "version_major": 2,
       "version_minor": 0
      },
      "text/plain": [
       "  0%|          | 0/1 [00:00<?, ?it/s]"
      ]
     },
     "metadata": {},
     "output_type": "display_data"
    },
    {
     "name": "stdout",
     "output_type": "stream",
     "text": [
      "1\n",
      "100\n",
      "Change dominating species from Homo Sapiens to Neanderthal would require removing 4 reads: [2, 1, 8, 0]\n",
      "[2, 1, 8, 0]\n",
      "counter_factual shap on size 100: 4\n",
      "Change dominating species from Homo Sapiens to Neanderthal would require removing 3 reads: [2, 1, 0]\n",
      "[2, 1, 0]\n",
      "counter_factual monte carlo on size 200: 3\n",
      "1\n"
     ]
    },
    {
     "data": {
      "application/vnd.jupyter.widget-view+json": {
       "model_id": "7718c64571b7493497eb56e5bef865c8",
       "version_major": 2,
       "version_minor": 0
      },
      "text/plain": [
       "  0%|          | 0/1 [00:00<?, ?it/s]"
      ]
     },
     "metadata": {},
     "output_type": "display_data"
    },
    {
     "name": "stdout",
     "output_type": "stream",
     "text": [
      "1\n",
      "200\n",
      "Change dominating species from Homo Sapiens to Neanderthal would require removing 3 reads: [2, 0, 1]\n",
      "[2, 0, 1]\n",
      "counter_factual shap on size 200: 3\n",
      "Change dominating species from Homo Sapiens to Neanderthal would require removing 4 reads: [8, 2, 1, 0]\n",
      "[8, 2, 1, 0]\n",
      "counter_factual monte carlo on size 500: 4\n",
      "1\n"
     ]
    },
    {
     "data": {
      "application/vnd.jupyter.widget-view+json": {
       "model_id": "c7cc404f39e54817b7962bef228fb376",
       "version_major": 2,
       "version_minor": 0
      },
      "text/plain": [
       "  0%|          | 0/1 [00:00<?, ?it/s]"
      ]
     },
     "metadata": {},
     "output_type": "display_data"
    },
    {
     "name": "stdout",
     "output_type": "stream",
     "text": [
      "1\n",
      "500\n",
      "Change dominating species from Homo Sapiens to Neanderthal would require removing 3 reads: [1, 2, 0]\n",
      "[1, 2, 0]\n",
      "counter_factual shap on size 500: 3\n",
      "Change dominating species from Homo Sapiens to Neanderthal would require removing 4 reads: [2, 1, 8, 0]\n",
      "[2, 1, 8, 0]\n",
      "counter_factualA_s_d: 4\n",
      "[(10, 1, 1, 6, [(1, 10), (5, 10), (10, 10), (20, 11), (50, 7), (100, 6), (200, 6), (500, 7)], [(1, 9), (5, 6), (10, 8), (20, 6), (50, 7), (100, 7), (200, 7), (500, 7)], 7), (5, 4, 3, 3, [(1, 5), (5, 5), (10, 5), (20, 5), (50, 3), (100, 3), (200, 3), (500, 3)], [(1, 4), (5, 3), (10, 3), (20, 3), (50, 3), (100, 3), (200, 3), (500, 3)], 3), (2, 6, 4, 1, [(1, 3), (5, 3), (10, 2), (20, 1), (50, 1), (100, 1), (200, 1), (500, 1)], [(1, 3), (5, 1), (10, 1), (20, 1), (50, 1), (100, 1), (200, 1), (500, 1)], 1), (4, 5, 3, 2, [(1, 3), (5, 2), (10, 2), (20, 2), (50, 2), (100, 2), (200, 2), (500, 2)], [(1, 2), (5, 2), (10, 2), (20, 2), (50, 2), (100, 2), (200, 2), (500, 2)], 2), (9, 2, 1, 3, [(1, 8), (5, 7), (10, 7), (20, 9), (50, 5), (100, 5), (200, 6), (500, 5)], [(1, 4), (5, 6), (10, 5), (20, 5), (50, 4), (100, 4), (200, 4), (500, 5)], 6), (6, 4, 2, 2, [(1, 5), (5, 5), (10, 3), (20, 2), (50, 2), (100, 2), (200, 2), (500, 2)], [(1, 2), (5, 2), (10, 2), (20, 2), (50, 2), (100, 2), (200, 2), (500, 2)], 2), (6, 4, 2, 3, [(1, 4), (5, 5), (10, 4), (20, 5), (50, 3), (100, 3), (200, 3), (500, 3)], [(1, 3), (5, 3), (10, 4), (20, 3), (50, 3), (100, 3), (200, 3), (500, 3)], 3), (2, 6, 4, 3, [(1, 6), (5, 6), (10, 6), (20, 5), (50, 3), (100, 3), (200, 3), (500, 3)], [(1, 5), (5, 4), (10, 3), (20, 3), (50, 3), (100, 3), (200, 3), (500, 3)], 3), (0, 8, 4, 3, [(1, 5), (5, 5), (10, 7), (20, 4), (50, 4), (100, 3), (200, 3), (500, 3)], [(1, 3), (5, 3), (10, 3), (20, 3), (50, 4), (100, 3), (200, 3), (500, 3)], 3), (4, 5, 3, 4, [(1, 4), (5, 4), (10, 4), (20, 6), (50, 4), (100, 4), (200, 4), (500, 4)], [(1, 5), (5, 4), (10, 5), (20, 4), (50, 4), (100, 4), (200, 4), (500, 4)], 4), (3, 6, 3, 2, [(1, 2), (5, 2), (10, 2), (20, 2), (50, 2), (100, 2), (200, 2), (500, 2)], [(1, 4), (5, 2), (10, 2), (20, 2), (50, 2), (100, 2), (200, 2), (500, 2)], 2), (3, 6, 3, 4, [(1, 8), (5, 6), (10, 8), (20, 8), (50, 4), (100, 4), (200, 4), (500, 4)], [(1, 8), (5, 6), (10, 5), (20, 4), (50, 4), (100, 4), (200, 4), (500, 4)], 4), (5, 4, 3, 3, [(1, 8), (5, 8), (10, 8), (20, 4), (50, 4), (100, 4), (200, 3), (500, 3)], [(1, 5), (5, 5), (10, 5), (20, 4), (50, 4), (100, 3), (200, 3), (500, 3)], 3), (11, 0, 1, 3, [(1, 11), (5, 11), (10, 7), (20, 8), (50, 4), (100, 4), (200, 3), (500, 3)], [(1, 3), (5, 4), (10, 3), (20, 4), (50, 4), (100, 4), (200, 3), (500, 4)], 3), (4, 5, 3, 2, [(1, 9), (5, 8), (10, 9), (20, 3), (50, 4), (100, 2), (200, 2), (500, 2)], [(1, 4), (5, 2), (10, 2), (20, 2), (50, 2), (100, 2), (200, 2), (500, 2)], 2), (2, 6, 4, 3, [(1, 5), (5, 6), (10, 3), (20, 4), (50, 3), (100, 3), (200, 3), (500, 3)], [(1, 3), (5, 3), (10, 4), (20, 3), (50, 3), (100, 3), (200, 3), (500, 3)], 3), (0, 8, 4, 1, [(1, 3), (5, 1), (10, 2), (20, 1), (50, 1), (100, 1), (200, 1), (500, 1)], [(1, 1), (5, 1), (10, 1), (20, 1), (50, 1), (100, 1), (200, 1), (500, 1)], 1), (2, 6, 4, 2, [(1, 6), (5, 6), (10, 6), (20, 2), (50, 2), (100, 2), (200, 2), (500, 2)], [(1, 2), (5, 3), (10, 2), (20, 2), (50, 2), (100, 2), (200, 2), (500, 2)], 2), (5, 4, 3, 2, [(1, 3), (5, 3), (10, 3), (20, 2), (50, 2), (100, 2), (200, 2), (500, 2)], [(1, 3), (5, 3), (10, 2), (20, 2), (50, 2), (100, 2), (200, 2), (500, 2)], 2), (1, 7, 4, 1, [(1, 4), (5, 1), (10, 1), (20, 1), (50, 1), (100, 1), (200, 1), (500, 1)], [(1, 2), (5, 1), (10, 1), (20, 1), (50, 1), (100, 1), (200, 1), (500, 1)], 1), (9, 2, 1, 2, [(1, 7), (5, 8), (10, 2), (20, 2), (50, 3), (100, 2), (200, 2), (500, 2)], [(1, 2), (5, 2), (10, 2), (20, 2), (50, 2), (100, 2), (200, 2), (500, 2)], 2), (11, 0, 1, 7, [(1, 10), (5, 10), (10, 9), (20, 10), (50, 10), (100, 7), (200, 7), (500, 7)], [(1, 10), (5, 7), (10, 7), (20, 7), (50, 7), (100, 7), (200, 7), (500, 7)], 7), (3, 6, 3, 1, [(1, 7), (5, 8), (10, 1), (20, 1), (50, 1), (100, 1), (200, 1), (500, 1)], [(1, 2), (5, 1), (10, 1), (20, 1), (50, 1), (100, 1), (200, 1), (500, 1)], 1), (7, 3, 2, 1, [(1, 2), (5, 2), (10, 2), (20, 2), (50, 1), (100, 1), (200, 1), (500, 1)], [(1, 1), (5, 1), (10, 1), (20, 1), (50, 1), (100, 1), (200, 1), (500, 1)], 1), (9, 2, 1, 2, [(1, 3), (5, 4), (10, 3), (20, 2), (50, 2), (100, 2), (200, 2), (500, 2)], [(1, 2), (5, 2), (10, 2), (20, 3), (50, 2), (100, 3), (200, 3), (500, 2)], 2), (8, 2, 2, 4, [(1, 8), (5, 5), (10, 5), (20, 4), (50, 4), (100, 4), (200, 4), (500, 4)], [(1, 4), (5, 6), (10, 4), (20, 4), (50, 4), (100, 4), (200, 4), (500, 4)], 4), (11, 0, 1, 8, [(1, 10), (5, 10), (10, 10), (20, 8), (50, 11), (100, 8), (200, 8), (500, 8)], [(1, 10), (5, 9), (10, 9), (20, 9), (50, 8), (100, 8), (200, 8), (500, 8)], 8), (6, 4, 2, 1, [(1, 1), (5, 1), (10, 1), (20, 1), (50, 1), (100, 1), (200, 1), (500, 1)], [(1, 1), (5, 1), (10, 1), (20, 1), (50, 1), (100, 1), (200, 1), (500, 1)], 1), (3, 6, 3, 2, [(1, 6), (5, 6), (10, 5), (20, 2), (50, 2), (100, 2), (200, 2), (500, 2)], [(1, 2), (5, 2), (10, 2), (20, 2), (50, 2), (100, 2), (200, 2), (500, 2)], 2), (6, 4, 2, 2, [(1, 10), (5, 10), (10, 10), (20, 10), (50, 3), (100, 3), (200, 3), (500, 3)], [(1, 10), (5, 3), (10, 4), (20, 4), (50, 3), (100, 3), (200, 3), (500, 3)], 4), (3, 6, 3, 1, [(1, 1), (5, 1), (10, 1), (20, 1), (50, 1), (100, 1), (200, 1), (500, 1)], [(1, 1), (5, 1), (10, 1), (20, 1), (50, 1), (100, 1), (200, 1), (500, 1)], 1), (8, 2, 2, 4, [(1, 6), (5, 6), (10, 8), (20, 4), (50, 5), (100, 5), (200, 4), (500, 4)], [(1, 6), (5, 6), (10, 5), (20, 4), (50, 5), (100, 5), (200, 5), (500, 4)], 4), (4, 5, 3, 1, [(1, 3), (5, 1), (10, 1), (20, 1), (50, 1), (100, 1), (200, 1), (500, 1)], [(1, 1), (5, 1), (10, 1), (20, 1), (50, 1), (100, 1), (200, 1), (500, 1)], 1), (7, 3, 2, 1, [(1, 9), (5, 9), (10, 1), (20, 1), (50, 1), (100, 1), (200, 1), (500, 1)], [(1, 1), (5, 1), (10, 1), (20, 1), (50, 1), (100, 1), (200, 1), (500, 1)], 1), (8, 2, 2, 3, [(1, 7), (5, 7), (10, 7), (20, 7), (50, 3), (100, 3), (200, 3), (500, 3)], [(1, 7), (5, 4), (10, 4), (20, 4), (50, 3), (100, 3), (200, 3), (500, 3)], 3), (8, 2, 2, 3, [(1, 6), (5, 3), (10, 4), (20, 5), (50, 3), (100, 3), (200, 3), (500, 3)], [(1, 4), (5, 4), (10, 3), (20, 3), (50, 3), (100, 3), (200, 3), (500, 3)], 3), (9, 2, 1, 6, [(1, 7), (5, 8), (10, 9), (20, 7), (50, 10), (100, 8), (200, 7), (500, 8)], [(1, 7), (5, 8), (10, 8), (20, 6), (50, 7), (100, 8), (200, 8), (500, 8)], 8), (2, 6, 4, 1, [(1, 7), (5, 1), (10, 1), (20, 1), (50, 1), (100, 1), (200, 1), (500, 1)], [(1, 2), (5, 1), (10, 1), (20, 1), (50, 1), (100, 1), (200, 1), (500, 1)], 1), (8, 2, 2, 5, [(1, 8), (5, 7), (10, 8), (20, 10), (50, 9), (100, 5), (200, 6), (500, 7)], [(1, 6), (5, 6), (10, 6), (20, 9), (50, 8), (100, 8), (200, 8), (500, 6)], 7), (11, 0, 1, 4, [(1, 10), (5, 10), (10, 6), (20, 6), (50, 4), (100, 4), (200, 4), (500, 4)], [(1, 4), (5, 5), (10, 5), (20, 5), (50, 5), (100, 4), (200, 4), (500, 4)], 4), (2, 6, 4, 1, [(1, 2), (5, 1), (10, 4), (20, 1), (50, 1), (100, 1), (200, 1), (500, 1)], [(1, 1), (5, 1), (10, 1), (20, 1), (50, 1), (100, 1), (200, 1), (500, 1)], 1), (2, 6, 4, 2, [(1, 3), (5, 2), (10, 3), (20, 3), (50, 2), (100, 2), (200, 2), (500, 2)], [(1, 2), (5, 2), (10, 2), (20, 2), (50, 2), (100, 2), (200, 2), (500, 2)], 2), (1, 7, 4, 2, [(1, 6), (5, 6), (10, 3), (20, 3), (50, 3), (100, 2), (200, 2), (500, 2)], [(1, 3), (5, 2), (10, 2), (20, 2), (50, 2), (100, 2), (200, 2), (500, 2)], 2), (8, 2, 2, 4, [(1, 4), (5, 4), (10, 5), (20, 4), (50, 4), (100, 4), (200, 4), (500, 4)], [(1, 4), (5, 4), (10, 5), (20, 5), (50, 4), (100, 4), (200, 4), (500, 4)], 4), (7, 3, 2, 3, [(1, 3), (5, 3), (10, 4), (20, 4), (50, 3), (100, 4), (200, 3), (500, 3)], [(1, 7), (5, 6), (10, 4), (20, 4), (50, 4), (100, 4), (200, 3), (500, 4)], 4)]\n",
      "new experiment: 45\n",
      "0 8 4\n",
      "\u001b[34mLoading sequences and calculating alignments to all references, this might take a while. Number of reads: \u001b[0m 12\n",
      "start working on read number 0\n",
      "working on size:  0\n",
      "working on size:  1\n",
      "working on size:  2\n",
      "working on size:  3\n",
      "groundtruth: 3\n",
      "groundtruth values: [0, 2, 3]\n",
      "Change dominating species from Neanderthal to Denisovan would require removing 4 reads: [1, 7, 3, 5]\n",
      "[1, 7, 3, 5]\n",
      "counter_factual monte carlo on size 1: 4\n",
      "1\n"
     ]
    },
    {
     "data": {
      "application/vnd.jupyter.widget-view+json": {
       "model_id": "8018b0a982374c0a88c4bc81d31859cc",
       "version_major": 2,
       "version_minor": 0
      },
      "text/plain": [
       "  0%|          | 0/1 [00:00<?, ?it/s]"
      ]
     },
     "metadata": {},
     "output_type": "display_data"
    },
    {
     "name": "stdout",
     "output_type": "stream",
     "text": [
      "1\n",
      "1\n",
      "Change dominating species from Neanderthal to Denisovan would require removing 4 reads: [0, 1, 2, 3]\n",
      "[0, 1, 2, 3]\n",
      "counter_factual shap on size 1: 4\n",
      "Change dominating species from Neanderthal to Denisovan would require removing 3 reads: [7, 0, 5]\n",
      "[7, 0, 5]\n",
      "counter_factual monte carlo on size 5: 3\n",
      "1\n"
     ]
    },
    {
     "data": {
      "application/vnd.jupyter.widget-view+json": {
       "model_id": "f56aa061e2d344eaa17acd8d82d353e4",
       "version_major": 2,
       "version_minor": 0
      },
      "text/plain": [
       "  0%|          | 0/1 [00:00<?, ?it/s]"
      ]
     },
     "metadata": {},
     "output_type": "display_data"
    },
    {
     "name": "stdout",
     "output_type": "stream",
     "text": [
      "1\n",
      "5\n",
      "Change dominating species from Neanderthal to Denisovan would require removing 4 reads: [3, 0, 1, 2]\n",
      "[3, 0, 1, 2]\n",
      "counter_factual shap on size 5: 4\n",
      "Change dominating species from Neanderthal to Denisovan would require removing 3 reads: [3, 7, 5]\n",
      "[3, 7, 5]\n",
      "counter_factual monte carlo on size 10: 3\n",
      "1\n"
     ]
    },
    {
     "data": {
      "application/vnd.jupyter.widget-view+json": {
       "model_id": "aa84e0570fdd48d7bdefeacb6e220fe3",
       "version_major": 2,
       "version_minor": 0
      },
      "text/plain": [
       "  0%|          | 0/1 [00:00<?, ?it/s]"
      ]
     },
     "metadata": {},
     "output_type": "display_data"
    },
    {
     "name": "stdout",
     "output_type": "stream",
     "text": [
      "1\n",
      "10\n",
      "Change dominating species from Neanderthal to Denisovan would require removing 4 reads: [5, 0, 1, 2]\n",
      "[5, 0, 1, 2]\n",
      "counter_factual shap on size 10: 4\n",
      "Change dominating species from Neanderthal to Denisovan would require removing 3 reads: [5, 0, 3]\n",
      "[5, 0, 3]\n",
      "counter_factual monte carlo on size 20: 3\n",
      "1\n"
     ]
    },
    {
     "data": {
      "application/vnd.jupyter.widget-view+json": {
       "model_id": "59059845b16342b49d2386708a52c331",
       "version_major": 2,
       "version_minor": 0
      },
      "text/plain": [
       "  0%|          | 0/1 [00:00<?, ?it/s]"
      ]
     },
     "metadata": {},
     "output_type": "display_data"
    },
    {
     "name": "stdout",
     "output_type": "stream",
     "text": [
      "1\n",
      "20\n",
      "Change dominating species from Neanderthal to Denisovan would require removing 5 reads: [0, 4, 7, 1, 2]\n",
      "[0, 4, 7, 1, 2]\n",
      "counter_factual shap on size 20: 5\n",
      "Change dominating species from Neanderthal to Denisovan would require removing 3 reads: [0, 5, 7]\n",
      "[0, 5, 7]\n",
      "counter_factual monte carlo on size 50: 3\n",
      "1\n"
     ]
    },
    {
     "data": {
      "application/vnd.jupyter.widget-view+json": {
       "model_id": "192dd847efd740588e4cae103a2293c1",
       "version_major": 2,
       "version_minor": 0
      },
      "text/plain": [
       "  0%|          | 0/1 [00:00<?, ?it/s]"
      ]
     },
     "metadata": {},
     "output_type": "display_data"
    },
    {
     "name": "stdout",
     "output_type": "stream",
     "text": [
      "1\n",
      "50\n",
      "Change dominating species from Neanderthal to Denisovan would require removing 3 reads: [5, 3, 7]\n",
      "[5, 3, 7]\n",
      "counter_factual shap on size 50: 3\n",
      "Change dominating species from Neanderthal to Denisovan would require removing 3 reads: [5, 3, 0]\n",
      "[5, 3, 0]\n",
      "counter_factual monte carlo on size 100: 3\n",
      "1\n"
     ]
    },
    {
     "data": {
      "application/vnd.jupyter.widget-view+json": {
       "model_id": "9861796abab04cec93b632a4712420ba",
       "version_major": 2,
       "version_minor": 0
      },
      "text/plain": [
       "  0%|          | 0/1 [00:00<?, ?it/s]"
      ]
     },
     "metadata": {},
     "output_type": "display_data"
    },
    {
     "name": "stdout",
     "output_type": "stream",
     "text": [
      "1\n",
      "100\n",
      "Change dominating species from Neanderthal to Denisovan would require removing 3 reads: [3, 7, 0]\n",
      "[3, 7, 0]\n",
      "counter_factual shap on size 100: 3\n",
      "Change dominating species from Neanderthal to Denisovan would require removing 3 reads: [0, 5, 3]\n",
      "[0, 5, 3]\n",
      "counter_factual monte carlo on size 200: 3\n",
      "1\n"
     ]
    },
    {
     "data": {
      "application/vnd.jupyter.widget-view+json": {
       "model_id": "c2c89b174d61459a9ee59a28c4b2268e",
       "version_major": 2,
       "version_minor": 0
      },
      "text/plain": [
       "  0%|          | 0/1 [00:00<?, ?it/s]"
      ]
     },
     "metadata": {},
     "output_type": "display_data"
    },
    {
     "name": "stdout",
     "output_type": "stream",
     "text": [
      "1\n",
      "200\n",
      "Change dominating species from Neanderthal to Denisovan would require removing 3 reads: [5, 3, 0]\n",
      "[5, 3, 0]\n",
      "counter_factual shap on size 200: 3\n",
      "Change dominating species from Neanderthal to Denisovan would require removing 3 reads: [5, 0, 3]\n",
      "[5, 0, 3]\n",
      "counter_factual monte carlo on size 500: 3\n",
      "1\n"
     ]
    },
    {
     "data": {
      "application/vnd.jupyter.widget-view+json": {
       "model_id": "9bc06c3bf1ee4667b754ea6c568f97fa",
       "version_major": 2,
       "version_minor": 0
      },
      "text/plain": [
       "  0%|          | 0/1 [00:00<?, ?it/s]"
      ]
     },
     "metadata": {},
     "output_type": "display_data"
    },
    {
     "name": "stdout",
     "output_type": "stream",
     "text": [
      "1\n",
      "500\n",
      "Change dominating species from Neanderthal to Denisovan would require removing 3 reads: [7, 5, 3]\n",
      "[7, 5, 3]\n",
      "counter_factual shap on size 500: 3\n",
      "Change dominating species from Neanderthal to Denisovan would require removing 3 reads: [5, 3, 0]\n",
      "[5, 3, 0]\n",
      "counter_factualA_s_d: 3\n",
      "[(10, 1, 1, 6, [(1, 10), (5, 10), (10, 10), (20, 11), (50, 7), (100, 6), (200, 6), (500, 7)], [(1, 9), (5, 6), (10, 8), (20, 6), (50, 7), (100, 7), (200, 7), (500, 7)], 7), (5, 4, 3, 3, [(1, 5), (5, 5), (10, 5), (20, 5), (50, 3), (100, 3), (200, 3), (500, 3)], [(1, 4), (5, 3), (10, 3), (20, 3), (50, 3), (100, 3), (200, 3), (500, 3)], 3), (2, 6, 4, 1, [(1, 3), (5, 3), (10, 2), (20, 1), (50, 1), (100, 1), (200, 1), (500, 1)], [(1, 3), (5, 1), (10, 1), (20, 1), (50, 1), (100, 1), (200, 1), (500, 1)], 1), (4, 5, 3, 2, [(1, 3), (5, 2), (10, 2), (20, 2), (50, 2), (100, 2), (200, 2), (500, 2)], [(1, 2), (5, 2), (10, 2), (20, 2), (50, 2), (100, 2), (200, 2), (500, 2)], 2), (9, 2, 1, 3, [(1, 8), (5, 7), (10, 7), (20, 9), (50, 5), (100, 5), (200, 6), (500, 5)], [(1, 4), (5, 6), (10, 5), (20, 5), (50, 4), (100, 4), (200, 4), (500, 5)], 6), (6, 4, 2, 2, [(1, 5), (5, 5), (10, 3), (20, 2), (50, 2), (100, 2), (200, 2), (500, 2)], [(1, 2), (5, 2), (10, 2), (20, 2), (50, 2), (100, 2), (200, 2), (500, 2)], 2), (6, 4, 2, 3, [(1, 4), (5, 5), (10, 4), (20, 5), (50, 3), (100, 3), (200, 3), (500, 3)], [(1, 3), (5, 3), (10, 4), (20, 3), (50, 3), (100, 3), (200, 3), (500, 3)], 3), (2, 6, 4, 3, [(1, 6), (5, 6), (10, 6), (20, 5), (50, 3), (100, 3), (200, 3), (500, 3)], [(1, 5), (5, 4), (10, 3), (20, 3), (50, 3), (100, 3), (200, 3), (500, 3)], 3), (0, 8, 4, 3, [(1, 5), (5, 5), (10, 7), (20, 4), (50, 4), (100, 3), (200, 3), (500, 3)], [(1, 3), (5, 3), (10, 3), (20, 3), (50, 4), (100, 3), (200, 3), (500, 3)], 3), (4, 5, 3, 4, [(1, 4), (5, 4), (10, 4), (20, 6), (50, 4), (100, 4), (200, 4), (500, 4)], [(1, 5), (5, 4), (10, 5), (20, 4), (50, 4), (100, 4), (200, 4), (500, 4)], 4), (3, 6, 3, 2, [(1, 2), (5, 2), (10, 2), (20, 2), (50, 2), (100, 2), (200, 2), (500, 2)], [(1, 4), (5, 2), (10, 2), (20, 2), (50, 2), (100, 2), (200, 2), (500, 2)], 2), (3, 6, 3, 4, [(1, 8), (5, 6), (10, 8), (20, 8), (50, 4), (100, 4), (200, 4), (500, 4)], [(1, 8), (5, 6), (10, 5), (20, 4), (50, 4), (100, 4), (200, 4), (500, 4)], 4), (5, 4, 3, 3, [(1, 8), (5, 8), (10, 8), (20, 4), (50, 4), (100, 4), (200, 3), (500, 3)], [(1, 5), (5, 5), (10, 5), (20, 4), (50, 4), (100, 3), (200, 3), (500, 3)], 3), (11, 0, 1, 3, [(1, 11), (5, 11), (10, 7), (20, 8), (50, 4), (100, 4), (200, 3), (500, 3)], [(1, 3), (5, 4), (10, 3), (20, 4), (50, 4), (100, 4), (200, 3), (500, 4)], 3), (4, 5, 3, 2, [(1, 9), (5, 8), (10, 9), (20, 3), (50, 4), (100, 2), (200, 2), (500, 2)], [(1, 4), (5, 2), (10, 2), (20, 2), (50, 2), (100, 2), (200, 2), (500, 2)], 2), (2, 6, 4, 3, [(1, 5), (5, 6), (10, 3), (20, 4), (50, 3), (100, 3), (200, 3), (500, 3)], [(1, 3), (5, 3), (10, 4), (20, 3), (50, 3), (100, 3), (200, 3), (500, 3)], 3), (0, 8, 4, 1, [(1, 3), (5, 1), (10, 2), (20, 1), (50, 1), (100, 1), (200, 1), (500, 1)], [(1, 1), (5, 1), (10, 1), (20, 1), (50, 1), (100, 1), (200, 1), (500, 1)], 1), (2, 6, 4, 2, [(1, 6), (5, 6), (10, 6), (20, 2), (50, 2), (100, 2), (200, 2), (500, 2)], [(1, 2), (5, 3), (10, 2), (20, 2), (50, 2), (100, 2), (200, 2), (500, 2)], 2), (5, 4, 3, 2, [(1, 3), (5, 3), (10, 3), (20, 2), (50, 2), (100, 2), (200, 2), (500, 2)], [(1, 3), (5, 3), (10, 2), (20, 2), (50, 2), (100, 2), (200, 2), (500, 2)], 2), (1, 7, 4, 1, [(1, 4), (5, 1), (10, 1), (20, 1), (50, 1), (100, 1), (200, 1), (500, 1)], [(1, 2), (5, 1), (10, 1), (20, 1), (50, 1), (100, 1), (200, 1), (500, 1)], 1), (9, 2, 1, 2, [(1, 7), (5, 8), (10, 2), (20, 2), (50, 3), (100, 2), (200, 2), (500, 2)], [(1, 2), (5, 2), (10, 2), (20, 2), (50, 2), (100, 2), (200, 2), (500, 2)], 2), (11, 0, 1, 7, [(1, 10), (5, 10), (10, 9), (20, 10), (50, 10), (100, 7), (200, 7), (500, 7)], [(1, 10), (5, 7), (10, 7), (20, 7), (50, 7), (100, 7), (200, 7), (500, 7)], 7), (3, 6, 3, 1, [(1, 7), (5, 8), (10, 1), (20, 1), (50, 1), (100, 1), (200, 1), (500, 1)], [(1, 2), (5, 1), (10, 1), (20, 1), (50, 1), (100, 1), (200, 1), (500, 1)], 1), (7, 3, 2, 1, [(1, 2), (5, 2), (10, 2), (20, 2), (50, 1), (100, 1), (200, 1), (500, 1)], [(1, 1), (5, 1), (10, 1), (20, 1), (50, 1), (100, 1), (200, 1), (500, 1)], 1), (9, 2, 1, 2, [(1, 3), (5, 4), (10, 3), (20, 2), (50, 2), (100, 2), (200, 2), (500, 2)], [(1, 2), (5, 2), (10, 2), (20, 3), (50, 2), (100, 3), (200, 3), (500, 2)], 2), (8, 2, 2, 4, [(1, 8), (5, 5), (10, 5), (20, 4), (50, 4), (100, 4), (200, 4), (500, 4)], [(1, 4), (5, 6), (10, 4), (20, 4), (50, 4), (100, 4), (200, 4), (500, 4)], 4), (11, 0, 1, 8, [(1, 10), (5, 10), (10, 10), (20, 8), (50, 11), (100, 8), (200, 8), (500, 8)], [(1, 10), (5, 9), (10, 9), (20, 9), (50, 8), (100, 8), (200, 8), (500, 8)], 8), (6, 4, 2, 1, [(1, 1), (5, 1), (10, 1), (20, 1), (50, 1), (100, 1), (200, 1), (500, 1)], [(1, 1), (5, 1), (10, 1), (20, 1), (50, 1), (100, 1), (200, 1), (500, 1)], 1), (3, 6, 3, 2, [(1, 6), (5, 6), (10, 5), (20, 2), (50, 2), (100, 2), (200, 2), (500, 2)], [(1, 2), (5, 2), (10, 2), (20, 2), (50, 2), (100, 2), (200, 2), (500, 2)], 2), (6, 4, 2, 2, [(1, 10), (5, 10), (10, 10), (20, 10), (50, 3), (100, 3), (200, 3), (500, 3)], [(1, 10), (5, 3), (10, 4), (20, 4), (50, 3), (100, 3), (200, 3), (500, 3)], 4), (3, 6, 3, 1, [(1, 1), (5, 1), (10, 1), (20, 1), (50, 1), (100, 1), (200, 1), (500, 1)], [(1, 1), (5, 1), (10, 1), (20, 1), (50, 1), (100, 1), (200, 1), (500, 1)], 1), (8, 2, 2, 4, [(1, 6), (5, 6), (10, 8), (20, 4), (50, 5), (100, 5), (200, 4), (500, 4)], [(1, 6), (5, 6), (10, 5), (20, 4), (50, 5), (100, 5), (200, 5), (500, 4)], 4), (4, 5, 3, 1, [(1, 3), (5, 1), (10, 1), (20, 1), (50, 1), (100, 1), (200, 1), (500, 1)], [(1, 1), (5, 1), (10, 1), (20, 1), (50, 1), (100, 1), (200, 1), (500, 1)], 1), (7, 3, 2, 1, [(1, 9), (5, 9), (10, 1), (20, 1), (50, 1), (100, 1), (200, 1), (500, 1)], [(1, 1), (5, 1), (10, 1), (20, 1), (50, 1), (100, 1), (200, 1), (500, 1)], 1), (8, 2, 2, 3, [(1, 7), (5, 7), (10, 7), (20, 7), (50, 3), (100, 3), (200, 3), (500, 3)], [(1, 7), (5, 4), (10, 4), (20, 4), (50, 3), (100, 3), (200, 3), (500, 3)], 3), (8, 2, 2, 3, [(1, 6), (5, 3), (10, 4), (20, 5), (50, 3), (100, 3), (200, 3), (500, 3)], [(1, 4), (5, 4), (10, 3), (20, 3), (50, 3), (100, 3), (200, 3), (500, 3)], 3), (9, 2, 1, 6, [(1, 7), (5, 8), (10, 9), (20, 7), (50, 10), (100, 8), (200, 7), (500, 8)], [(1, 7), (5, 8), (10, 8), (20, 6), (50, 7), (100, 8), (200, 8), (500, 8)], 8), (2, 6, 4, 1, [(1, 7), (5, 1), (10, 1), (20, 1), (50, 1), (100, 1), (200, 1), (500, 1)], [(1, 2), (5, 1), (10, 1), (20, 1), (50, 1), (100, 1), (200, 1), (500, 1)], 1), (8, 2, 2, 5, [(1, 8), (5, 7), (10, 8), (20, 10), (50, 9), (100, 5), (200, 6), (500, 7)], [(1, 6), (5, 6), (10, 6), (20, 9), (50, 8), (100, 8), (200, 8), (500, 6)], 7), (11, 0, 1, 4, [(1, 10), (5, 10), (10, 6), (20, 6), (50, 4), (100, 4), (200, 4), (500, 4)], [(1, 4), (5, 5), (10, 5), (20, 5), (50, 5), (100, 4), (200, 4), (500, 4)], 4), (2, 6, 4, 1, [(1, 2), (5, 1), (10, 4), (20, 1), (50, 1), (100, 1), (200, 1), (500, 1)], [(1, 1), (5, 1), (10, 1), (20, 1), (50, 1), (100, 1), (200, 1), (500, 1)], 1), (2, 6, 4, 2, [(1, 3), (5, 2), (10, 3), (20, 3), (50, 2), (100, 2), (200, 2), (500, 2)], [(1, 2), (5, 2), (10, 2), (20, 2), (50, 2), (100, 2), (200, 2), (500, 2)], 2), (1, 7, 4, 2, [(1, 6), (5, 6), (10, 3), (20, 3), (50, 3), (100, 2), (200, 2), (500, 2)], [(1, 3), (5, 2), (10, 2), (20, 2), (50, 2), (100, 2), (200, 2), (500, 2)], 2), (8, 2, 2, 4, [(1, 4), (5, 4), (10, 5), (20, 4), (50, 4), (100, 4), (200, 4), (500, 4)], [(1, 4), (5, 4), (10, 5), (20, 5), (50, 4), (100, 4), (200, 4), (500, 4)], 4), (7, 3, 2, 3, [(1, 3), (5, 3), (10, 4), (20, 4), (50, 3), (100, 4), (200, 3), (500, 3)], [(1, 7), (5, 6), (10, 4), (20, 4), (50, 4), (100, 4), (200, 3), (500, 4)], 4), (0, 8, 4, 3, [(1, 4), (5, 4), (10, 4), (20, 5), (50, 3), (100, 3), (200, 3), (500, 3)], [(1, 4), (5, 3), (10, 3), (20, 3), (50, 3), (100, 3), (200, 3), (500, 3)], 3)]\n",
      "new experiment: 46\n",
      "10 1 1\n",
      "\u001b[34mLoading sequences and calculating alignments to all references, this might take a while. Number of reads: \u001b[0m 12\n",
      "start working on read number 0\n",
      "working on size:  0\n",
      "working on size:  1\n",
      "working on size:  2\n",
      "working on size:  3\n",
      "working on size:  4\n",
      "groundtruth: 4\n",
      "groundtruth values: [0, 4, 6, 7]\n",
      "Change dominating species from Homo Sapiens to Neanderthal would require removing 5 reads: [0, 4, 3, 6, 8]\n",
      "[0, 4, 3, 6, 8]\n",
      "counter_factual monte carlo on size 1: 5\n",
      "1\n"
     ]
    },
    {
     "data": {
      "application/vnd.jupyter.widget-view+json": {
       "model_id": "b4dd565ec220490da107f3382e57448b",
       "version_major": 2,
       "version_minor": 0
      },
      "text/plain": [
       "  0%|          | 0/1 [00:00<?, ?it/s]"
      ]
     },
     "metadata": {},
     "output_type": "display_data"
    },
    {
     "name": "stdout",
     "output_type": "stream",
     "text": [
      "1\n",
      "1\n",
      "Change dominating species from Homo Sapiens to Neanderthal would require removing 9 reads: [0, 1, 2, 3, 4, 5, 6, 7, 8]\n",
      "[0, 1, 2, 3, 4, 5, 6, 7, 8]\n",
      "counter_factual shap on size 1: 9\n",
      "Change dominating species from Homo Sapiens to Neanderthal would require removing 4 reads: [8, 0, 7, 4]\n",
      "[8, 0, 7, 4]\n",
      "counter_factual monte carlo on size 5: 4\n",
      "1\n"
     ]
    },
    {
     "data": {
      "application/vnd.jupyter.widget-view+json": {
       "model_id": "1dfa6fc4e7d1469faebb4332cf513357",
       "version_major": 2,
       "version_minor": 0
      },
      "text/plain": [
       "  0%|          | 0/1 [00:00<?, ?it/s]"
      ]
     },
     "metadata": {},
     "output_type": "display_data"
    },
    {
     "name": "stdout",
     "output_type": "stream",
     "text": [
      "1\n",
      "5\n",
      "Change dominating species from Homo Sapiens to Neanderthal would require removing 9 reads: [2, 0, 1, 3, 4, 5, 6, 7, 8]\n",
      "[2, 0, 1, 3, 4, 5, 6, 7, 8]\n",
      "counter_factual shap on size 5: 9\n",
      "Change dominating species from Homo Sapiens to Neanderthal would require removing 4 reads: [8, 7, 4, 0]\n",
      "[8, 7, 4, 0]\n",
      "counter_factual monte carlo on size 10: 4\n",
      "1\n"
     ]
    },
    {
     "data": {
      "application/vnd.jupyter.widget-view+json": {
       "model_id": "af5ee69dff4d4c988340a4ecebc1e066",
       "version_major": 2,
       "version_minor": 0
      },
      "text/plain": [
       "  0%|          | 0/1 [00:00<?, ?it/s]"
      ]
     },
     "metadata": {},
     "output_type": "display_data"
    },
    {
     "name": "stdout",
     "output_type": "stream",
     "text": [
      "1\n",
      "10\n",
      "Change dominating species from Homo Sapiens to Neanderthal would require removing 9 reads: [4, 6, 0, 1, 2, 3, 5, 7, 8]\n",
      "[4, 6, 0, 1, 2, 3, 5, 7, 8]\n",
      "counter_factual shap on size 10: 9\n",
      "Change dominating species from Homo Sapiens to Neanderthal would require removing 4 reads: [0, 8, 6, 7]\n",
      "[0, 8, 6, 7]\n",
      "counter_factual monte carlo on size 20: 4\n",
      "1\n"
     ]
    },
    {
     "data": {
      "application/vnd.jupyter.widget-view+json": {
       "model_id": "1df108641c35417f8e9656eea50157ea",
       "version_major": 2,
       "version_minor": 0
      },
      "text/plain": [
       "  0%|          | 0/1 [00:00<?, ?it/s]"
      ]
     },
     "metadata": {},
     "output_type": "display_data"
    },
    {
     "name": "stdout",
     "output_type": "stream",
     "text": [
      "1\n",
      "20\n",
      "Change dominating species from Homo Sapiens to Neanderthal would require removing 5 reads: [7, 4, 8, 2, 0]\n",
      "[7, 4, 8, 2, 0]\n",
      "counter_factual shap on size 20: 5\n",
      "Change dominating species from Homo Sapiens to Neanderthal would require removing 4 reads: [0, 8, 7, 4]\n",
      "[0, 8, 7, 4]\n",
      "counter_factual monte carlo on size 50: 4\n",
      "1\n"
     ]
    },
    {
     "data": {
      "application/vnd.jupyter.widget-view+json": {
       "model_id": "1810f417c3264ccb9d086331bafbad10",
       "version_major": 2,
       "version_minor": 0
      },
      "text/plain": [
       "  0%|          | 0/1 [00:00<?, ?it/s]"
      ]
     },
     "metadata": {},
     "output_type": "display_data"
    },
    {
     "name": "stdout",
     "output_type": "stream",
     "text": [
      "1\n",
      "50\n",
      "Change dominating species from Homo Sapiens to Neanderthal would require removing 4 reads: [8, 0, 7, 6]\n",
      "[8, 0, 7, 6]\n",
      "counter_factual shap on size 50: 4\n",
      "Change dominating species from Homo Sapiens to Neanderthal would require removing 4 reads: [6, 4, 8, 7]\n",
      "[6, 4, 8, 7]\n",
      "counter_factual monte carlo on size 100: 4\n",
      "1\n"
     ]
    },
    {
     "data": {
      "application/vnd.jupyter.widget-view+json": {
       "model_id": "a44ccfcca99b4297bb4afc3e723a66a9",
       "version_major": 2,
       "version_minor": 0
      },
      "text/plain": [
       "  0%|          | 0/1 [00:00<?, ?it/s]"
      ]
     },
     "metadata": {},
     "output_type": "display_data"
    },
    {
     "name": "stdout",
     "output_type": "stream",
     "text": [
      "1\n",
      "100\n",
      "Change dominating species from Homo Sapiens to Neanderthal would require removing 4 reads: [4, 8, 0, 7]\n",
      "[4, 8, 0, 7]\n",
      "counter_factual shap on size 100: 4\n",
      "Change dominating species from Homo Sapiens to Neanderthal would require removing 4 reads: [0, 4, 6, 8]\n",
      "[0, 4, 6, 8]\n",
      "counter_factual monte carlo on size 200: 4\n",
      "1\n"
     ]
    },
    {
     "data": {
      "application/vnd.jupyter.widget-view+json": {
       "model_id": "af223eef190f4dceb1065dbd9fb9f680",
       "version_major": 2,
       "version_minor": 0
      },
      "text/plain": [
       "  0%|          | 0/1 [00:00<?, ?it/s]"
      ]
     },
     "metadata": {},
     "output_type": "display_data"
    },
    {
     "name": "stdout",
     "output_type": "stream",
     "text": [
      "1\n",
      "200\n",
      "Change dominating species from Homo Sapiens to Neanderthal would require removing 4 reads: [0, 4, 8, 6]\n",
      "[0, 4, 8, 6]\n",
      "counter_factual shap on size 200: 4\n",
      "Change dominating species from Homo Sapiens to Neanderthal would require removing 4 reads: [7, 0, 8, 6]\n",
      "[7, 0, 8, 6]\n",
      "counter_factual monte carlo on size 500: 4\n",
      "1\n"
     ]
    },
    {
     "data": {
      "application/vnd.jupyter.widget-view+json": {
       "model_id": "7dee8b939c3b4406b0f545cbd396ac61",
       "version_major": 2,
       "version_minor": 0
      },
      "text/plain": [
       "  0%|          | 0/1 [00:00<?, ?it/s]"
      ]
     },
     "metadata": {},
     "output_type": "display_data"
    },
    {
     "name": "stdout",
     "output_type": "stream",
     "text": [
      "1\n",
      "500\n",
      "Change dominating species from Homo Sapiens to Neanderthal would require removing 4 reads: [6, 0, 4, 7]\n",
      "[6, 0, 4, 7]\n",
      "counter_factual shap on size 500: 4\n",
      "Change dominating species from Homo Sapiens to Neanderthal would require removing 4 reads: [0, 4, 6, 8]\n",
      "[0, 4, 6, 8]\n",
      "counter_factualA_s_d: 4\n",
      "[(10, 1, 1, 6, [(1, 10), (5, 10), (10, 10), (20, 11), (50, 7), (100, 6), (200, 6), (500, 7)], [(1, 9), (5, 6), (10, 8), (20, 6), (50, 7), (100, 7), (200, 7), (500, 7)], 7), (5, 4, 3, 3, [(1, 5), (5, 5), (10, 5), (20, 5), (50, 3), (100, 3), (200, 3), (500, 3)], [(1, 4), (5, 3), (10, 3), (20, 3), (50, 3), (100, 3), (200, 3), (500, 3)], 3), (2, 6, 4, 1, [(1, 3), (5, 3), (10, 2), (20, 1), (50, 1), (100, 1), (200, 1), (500, 1)], [(1, 3), (5, 1), (10, 1), (20, 1), (50, 1), (100, 1), (200, 1), (500, 1)], 1), (4, 5, 3, 2, [(1, 3), (5, 2), (10, 2), (20, 2), (50, 2), (100, 2), (200, 2), (500, 2)], [(1, 2), (5, 2), (10, 2), (20, 2), (50, 2), (100, 2), (200, 2), (500, 2)], 2), (9, 2, 1, 3, [(1, 8), (5, 7), (10, 7), (20, 9), (50, 5), (100, 5), (200, 6), (500, 5)], [(1, 4), (5, 6), (10, 5), (20, 5), (50, 4), (100, 4), (200, 4), (500, 5)], 6), (6, 4, 2, 2, [(1, 5), (5, 5), (10, 3), (20, 2), (50, 2), (100, 2), (200, 2), (500, 2)], [(1, 2), (5, 2), (10, 2), (20, 2), (50, 2), (100, 2), (200, 2), (500, 2)], 2), (6, 4, 2, 3, [(1, 4), (5, 5), (10, 4), (20, 5), (50, 3), (100, 3), (200, 3), (500, 3)], [(1, 3), (5, 3), (10, 4), (20, 3), (50, 3), (100, 3), (200, 3), (500, 3)], 3), (2, 6, 4, 3, [(1, 6), (5, 6), (10, 6), (20, 5), (50, 3), (100, 3), (200, 3), (500, 3)], [(1, 5), (5, 4), (10, 3), (20, 3), (50, 3), (100, 3), (200, 3), (500, 3)], 3), (0, 8, 4, 3, [(1, 5), (5, 5), (10, 7), (20, 4), (50, 4), (100, 3), (200, 3), (500, 3)], [(1, 3), (5, 3), (10, 3), (20, 3), (50, 4), (100, 3), (200, 3), (500, 3)], 3), (4, 5, 3, 4, [(1, 4), (5, 4), (10, 4), (20, 6), (50, 4), (100, 4), (200, 4), (500, 4)], [(1, 5), (5, 4), (10, 5), (20, 4), (50, 4), (100, 4), (200, 4), (500, 4)], 4), (3, 6, 3, 2, [(1, 2), (5, 2), (10, 2), (20, 2), (50, 2), (100, 2), (200, 2), (500, 2)], [(1, 4), (5, 2), (10, 2), (20, 2), (50, 2), (100, 2), (200, 2), (500, 2)], 2), (3, 6, 3, 4, [(1, 8), (5, 6), (10, 8), (20, 8), (50, 4), (100, 4), (200, 4), (500, 4)], [(1, 8), (5, 6), (10, 5), (20, 4), (50, 4), (100, 4), (200, 4), (500, 4)], 4), (5, 4, 3, 3, [(1, 8), (5, 8), (10, 8), (20, 4), (50, 4), (100, 4), (200, 3), (500, 3)], [(1, 5), (5, 5), (10, 5), (20, 4), (50, 4), (100, 3), (200, 3), (500, 3)], 3), (11, 0, 1, 3, [(1, 11), (5, 11), (10, 7), (20, 8), (50, 4), (100, 4), (200, 3), (500, 3)], [(1, 3), (5, 4), (10, 3), (20, 4), (50, 4), (100, 4), (200, 3), (500, 4)], 3), (4, 5, 3, 2, [(1, 9), (5, 8), (10, 9), (20, 3), (50, 4), (100, 2), (200, 2), (500, 2)], [(1, 4), (5, 2), (10, 2), (20, 2), (50, 2), (100, 2), (200, 2), (500, 2)], 2), (2, 6, 4, 3, [(1, 5), (5, 6), (10, 3), (20, 4), (50, 3), (100, 3), (200, 3), (500, 3)], [(1, 3), (5, 3), (10, 4), (20, 3), (50, 3), (100, 3), (200, 3), (500, 3)], 3), (0, 8, 4, 1, [(1, 3), (5, 1), (10, 2), (20, 1), (50, 1), (100, 1), (200, 1), (500, 1)], [(1, 1), (5, 1), (10, 1), (20, 1), (50, 1), (100, 1), (200, 1), (500, 1)], 1), (2, 6, 4, 2, [(1, 6), (5, 6), (10, 6), (20, 2), (50, 2), (100, 2), (200, 2), (500, 2)], [(1, 2), (5, 3), (10, 2), (20, 2), (50, 2), (100, 2), (200, 2), (500, 2)], 2), (5, 4, 3, 2, [(1, 3), (5, 3), (10, 3), (20, 2), (50, 2), (100, 2), (200, 2), (500, 2)], [(1, 3), (5, 3), (10, 2), (20, 2), (50, 2), (100, 2), (200, 2), (500, 2)], 2), (1, 7, 4, 1, [(1, 4), (5, 1), (10, 1), (20, 1), (50, 1), (100, 1), (200, 1), (500, 1)], [(1, 2), (5, 1), (10, 1), (20, 1), (50, 1), (100, 1), (200, 1), (500, 1)], 1), (9, 2, 1, 2, [(1, 7), (5, 8), (10, 2), (20, 2), (50, 3), (100, 2), (200, 2), (500, 2)], [(1, 2), (5, 2), (10, 2), (20, 2), (50, 2), (100, 2), (200, 2), (500, 2)], 2), (11, 0, 1, 7, [(1, 10), (5, 10), (10, 9), (20, 10), (50, 10), (100, 7), (200, 7), (500, 7)], [(1, 10), (5, 7), (10, 7), (20, 7), (50, 7), (100, 7), (200, 7), (500, 7)], 7), (3, 6, 3, 1, [(1, 7), (5, 8), (10, 1), (20, 1), (50, 1), (100, 1), (200, 1), (500, 1)], [(1, 2), (5, 1), (10, 1), (20, 1), (50, 1), (100, 1), (200, 1), (500, 1)], 1), (7, 3, 2, 1, [(1, 2), (5, 2), (10, 2), (20, 2), (50, 1), (100, 1), (200, 1), (500, 1)], [(1, 1), (5, 1), (10, 1), (20, 1), (50, 1), (100, 1), (200, 1), (500, 1)], 1), (9, 2, 1, 2, [(1, 3), (5, 4), (10, 3), (20, 2), (50, 2), (100, 2), (200, 2), (500, 2)], [(1, 2), (5, 2), (10, 2), (20, 3), (50, 2), (100, 3), (200, 3), (500, 2)], 2), (8, 2, 2, 4, [(1, 8), (5, 5), (10, 5), (20, 4), (50, 4), (100, 4), (200, 4), (500, 4)], [(1, 4), (5, 6), (10, 4), (20, 4), (50, 4), (100, 4), (200, 4), (500, 4)], 4), (11, 0, 1, 8, [(1, 10), (5, 10), (10, 10), (20, 8), (50, 11), (100, 8), (200, 8), (500, 8)], [(1, 10), (5, 9), (10, 9), (20, 9), (50, 8), (100, 8), (200, 8), (500, 8)], 8), (6, 4, 2, 1, [(1, 1), (5, 1), (10, 1), (20, 1), (50, 1), (100, 1), (200, 1), (500, 1)], [(1, 1), (5, 1), (10, 1), (20, 1), (50, 1), (100, 1), (200, 1), (500, 1)], 1), (3, 6, 3, 2, [(1, 6), (5, 6), (10, 5), (20, 2), (50, 2), (100, 2), (200, 2), (500, 2)], [(1, 2), (5, 2), (10, 2), (20, 2), (50, 2), (100, 2), (200, 2), (500, 2)], 2), (6, 4, 2, 2, [(1, 10), (5, 10), (10, 10), (20, 10), (50, 3), (100, 3), (200, 3), (500, 3)], [(1, 10), (5, 3), (10, 4), (20, 4), (50, 3), (100, 3), (200, 3), (500, 3)], 4), (3, 6, 3, 1, [(1, 1), (5, 1), (10, 1), (20, 1), (50, 1), (100, 1), (200, 1), (500, 1)], [(1, 1), (5, 1), (10, 1), (20, 1), (50, 1), (100, 1), (200, 1), (500, 1)], 1), (8, 2, 2, 4, [(1, 6), (5, 6), (10, 8), (20, 4), (50, 5), (100, 5), (200, 4), (500, 4)], [(1, 6), (5, 6), (10, 5), (20, 4), (50, 5), (100, 5), (200, 5), (500, 4)], 4), (4, 5, 3, 1, [(1, 3), (5, 1), (10, 1), (20, 1), (50, 1), (100, 1), (200, 1), (500, 1)], [(1, 1), (5, 1), (10, 1), (20, 1), (50, 1), (100, 1), (200, 1), (500, 1)], 1), (7, 3, 2, 1, [(1, 9), (5, 9), (10, 1), (20, 1), (50, 1), (100, 1), (200, 1), (500, 1)], [(1, 1), (5, 1), (10, 1), (20, 1), (50, 1), (100, 1), (200, 1), (500, 1)], 1), (8, 2, 2, 3, [(1, 7), (5, 7), (10, 7), (20, 7), (50, 3), (100, 3), (200, 3), (500, 3)], [(1, 7), (5, 4), (10, 4), (20, 4), (50, 3), (100, 3), (200, 3), (500, 3)], 3), (8, 2, 2, 3, [(1, 6), (5, 3), (10, 4), (20, 5), (50, 3), (100, 3), (200, 3), (500, 3)], [(1, 4), (5, 4), (10, 3), (20, 3), (50, 3), (100, 3), (200, 3), (500, 3)], 3), (9, 2, 1, 6, [(1, 7), (5, 8), (10, 9), (20, 7), (50, 10), (100, 8), (200, 7), (500, 8)], [(1, 7), (5, 8), (10, 8), (20, 6), (50, 7), (100, 8), (200, 8), (500, 8)], 8), (2, 6, 4, 1, [(1, 7), (5, 1), (10, 1), (20, 1), (50, 1), (100, 1), (200, 1), (500, 1)], [(1, 2), (5, 1), (10, 1), (20, 1), (50, 1), (100, 1), (200, 1), (500, 1)], 1), (8, 2, 2, 5, [(1, 8), (5, 7), (10, 8), (20, 10), (50, 9), (100, 5), (200, 6), (500, 7)], [(1, 6), (5, 6), (10, 6), (20, 9), (50, 8), (100, 8), (200, 8), (500, 6)], 7), (11, 0, 1, 4, [(1, 10), (5, 10), (10, 6), (20, 6), (50, 4), (100, 4), (200, 4), (500, 4)], [(1, 4), (5, 5), (10, 5), (20, 5), (50, 5), (100, 4), (200, 4), (500, 4)], 4), (2, 6, 4, 1, [(1, 2), (5, 1), (10, 4), (20, 1), (50, 1), (100, 1), (200, 1), (500, 1)], [(1, 1), (5, 1), (10, 1), (20, 1), (50, 1), (100, 1), (200, 1), (500, 1)], 1), (2, 6, 4, 2, [(1, 3), (5, 2), (10, 3), (20, 3), (50, 2), (100, 2), (200, 2), (500, 2)], [(1, 2), (5, 2), (10, 2), (20, 2), (50, 2), (100, 2), (200, 2), (500, 2)], 2), (1, 7, 4, 2, [(1, 6), (5, 6), (10, 3), (20, 3), (50, 3), (100, 2), (200, 2), (500, 2)], [(1, 3), (5, 2), (10, 2), (20, 2), (50, 2), (100, 2), (200, 2), (500, 2)], 2), (8, 2, 2, 4, [(1, 4), (5, 4), (10, 5), (20, 4), (50, 4), (100, 4), (200, 4), (500, 4)], [(1, 4), (5, 4), (10, 5), (20, 5), (50, 4), (100, 4), (200, 4), (500, 4)], 4), (7, 3, 2, 3, [(1, 3), (5, 3), (10, 4), (20, 4), (50, 3), (100, 4), (200, 3), (500, 3)], [(1, 7), (5, 6), (10, 4), (20, 4), (50, 4), (100, 4), (200, 3), (500, 4)], 4), (0, 8, 4, 3, [(1, 4), (5, 4), (10, 4), (20, 5), (50, 3), (100, 3), (200, 3), (500, 3)], [(1, 4), (5, 3), (10, 3), (20, 3), (50, 3), (100, 3), (200, 3), (500, 3)], 3), (10, 1, 1, 4, [(1, 9), (5, 9), (10, 9), (20, 5), (50, 4), (100, 4), (200, 4), (500, 4)], [(1, 5), (5, 4), (10, 4), (20, 4), (50, 4), (100, 4), (200, 4), (500, 4)], 4)]\n",
      "new experiment: 47\n",
      "9 2 1\n",
      "\u001b[34mLoading sequences and calculating alignments to all references, this might take a while. Number of reads: \u001b[0m 12\n",
      "start working on read number 0\n",
      "working on size:  0\n",
      "working on size:  1\n",
      "working on size:  2\n",
      "working on size:  3\n",
      "working on size:  4\n",
      "working on size:  5\n",
      "groundtruth: 5\n",
      "groundtruth values: [0, 3, 4, 6, 7]\n",
      "Change dominating species from Homo Sapiens to Denisovan would require removing 9 reads: [10, 4, 7, 0, 1, 2, 3, 5, 6]\n",
      "[10, 4, 7, 0, 1, 2, 3, 5, 6]\n",
      "counter_factual monte carlo on size 1: 9\n",
      "1\n"
     ]
    },
    {
     "data": {
      "application/vnd.jupyter.widget-view+json": {
       "model_id": "b0e5f255c510480fb07975072655c2ce",
       "version_major": 2,
       "version_minor": 0
      },
      "text/plain": [
       "  0%|          | 0/1 [00:00<?, ?it/s]"
      ]
     },
     "metadata": {},
     "output_type": "display_data"
    },
    {
     "name": "stdout",
     "output_type": "stream",
     "text": [
      "1\n",
      "1\n",
      "Change dominating species from Homo Sapiens to Denisovan would require removing 8 reads: [0, 1, 2, 3, 4, 5, 6, 7]\n",
      "[0, 1, 2, 3, 4, 5, 6, 7]\n",
      "counter_factual shap on size 1: 8\n",
      "Change dominating species from Homo Sapiens to Neanderthal would require removing 6 reads: [7, 6, 0, 5, 3, 4]\n",
      "[7, 6, 0, 5, 3, 4]\n",
      "counter_factual monte carlo on size 5: 6\n",
      "1\n"
     ]
    },
    {
     "data": {
      "application/vnd.jupyter.widget-view+json": {
       "model_id": "e774c48c0a5c425dbeefc0f28fdd5318",
       "version_major": 2,
       "version_minor": 0
      },
      "text/plain": [
       "  0%|          | 0/1 [00:00<?, ?it/s]"
      ]
     },
     "metadata": {},
     "output_type": "display_data"
    },
    {
     "name": "stdout",
     "output_type": "stream",
     "text": [
      "1\n",
      "5\n",
      "Change dominating species from Homo Sapiens to Denisovan would require removing 8 reads: [3, 0, 1, 2, 4, 5, 6, 7]\n",
      "[3, 0, 1, 2, 4, 5, 6, 7]\n",
      "counter_factual shap on size 5: 8\n",
      "Change dominating species from Homo Sapiens to Neanderthal would require removing 5 reads: [7, 3, 6, 0, 4]\n",
      "[7, 3, 6, 0, 4]\n",
      "counter_factual monte carlo on size 10: 5\n",
      "1\n"
     ]
    },
    {
     "data": {
      "application/vnd.jupyter.widget-view+json": {
       "model_id": "fcab362abfea42b58b6c22a3a503ed3e",
       "version_major": 2,
       "version_minor": 0
      },
      "text/plain": [
       "  0%|          | 0/1 [00:00<?, ?it/s]"
      ]
     },
     "metadata": {},
     "output_type": "display_data"
    },
    {
     "name": "stdout",
     "output_type": "stream",
     "text": [
      "1\n",
      "10\n",
      "Change dominating species from Homo Sapiens to Denisovan would require removing 9 reads: [0, 5, 10, 1, 2, 3, 4, 6, 7]\n",
      "[0, 5, 10, 1, 2, 3, 4, 6, 7]\n",
      "counter_factual shap on size 10: 9\n",
      "Change dominating species from Homo Sapiens to Neanderthal would require removing 5 reads: [0, 3, 6, 4, 7]\n",
      "[0, 3, 6, 4, 7]\n",
      "counter_factual monte carlo on size 20: 5\n",
      "1\n"
     ]
    },
    {
     "data": {
      "application/vnd.jupyter.widget-view+json": {
       "model_id": "cbd86b10fa9248799a2e90fd68b12cc6",
       "version_major": 2,
       "version_minor": 0
      },
      "text/plain": [
       "  0%|          | 0/1 [00:00<?, ?it/s]"
      ]
     },
     "metadata": {},
     "output_type": "display_data"
    },
    {
     "name": "stdout",
     "output_type": "stream",
     "text": [
      "1\n",
      "20\n",
      "Change dominating species from Homo Sapiens to Denisovan would require removing 7 reads: [7, 1, 6, 0, 2, 3, 4]\n",
      "[7, 1, 6, 0, 2, 3, 4]\n",
      "counter_factual shap on size 20: 7\n",
      "Change dominating species from Homo Sapiens to Neanderthal would require removing 5 reads: [7, 0, 3, 6, 4]\n",
      "[7, 0, 3, 6, 4]\n",
      "counter_factual monte carlo on size 50: 5\n",
      "1\n"
     ]
    },
    {
     "data": {
      "application/vnd.jupyter.widget-view+json": {
       "model_id": "0274fb76a0594030ad5980323565b5bd",
       "version_major": 2,
       "version_minor": 0
      },
      "text/plain": [
       "  0%|          | 0/1 [00:00<?, ?it/s]"
      ]
     },
     "metadata": {},
     "output_type": "display_data"
    },
    {
     "name": "stdout",
     "output_type": "stream",
     "text": [
      "1\n",
      "50\n",
      "Change dominating species from Homo Sapiens to Neanderthal would require removing 6 reads: [0, 6, 10, 7, 4, 3]\n",
      "[0, 6, 10, 7, 4, 3]\n",
      "counter_factual shap on size 50: 6\n",
      "Change dominating species from Homo Sapiens to Neanderthal would require removing 5 reads: [7, 0, 6, 3, 4]\n",
      "[7, 0, 6, 3, 4]\n",
      "counter_factual monte carlo on size 100: 5\n",
      "1\n"
     ]
    },
    {
     "data": {
      "application/vnd.jupyter.widget-view+json": {
       "model_id": "3e50e69ebb8a4134b581fece20f11ec0",
       "version_major": 2,
       "version_minor": 0
      },
      "text/plain": [
       "  0%|          | 0/1 [00:00<?, ?it/s]"
      ]
     },
     "metadata": {},
     "output_type": "display_data"
    },
    {
     "name": "stdout",
     "output_type": "stream",
     "text": [
      "1\n",
      "100\n",
      "Change dominating species from Homo Sapiens to Neanderthal would require removing 5 reads: [3, 4, 7, 6, 0]\n",
      "[3, 4, 7, 6, 0]\n",
      "counter_factual shap on size 100: 5\n",
      "Change dominating species from Homo Sapiens to Neanderthal would require removing 5 reads: [7, 4, 0, 6, 3]\n",
      "[7, 4, 0, 6, 3]\n",
      "counter_factual monte carlo on size 200: 5\n",
      "1\n"
     ]
    },
    {
     "data": {
      "application/vnd.jupyter.widget-view+json": {
       "model_id": "097e001f93d44a93acc10119660ceab9",
       "version_major": 2,
       "version_minor": 0
      },
      "text/plain": [
       "  0%|          | 0/1 [00:00<?, ?it/s]"
      ]
     },
     "metadata": {},
     "output_type": "display_data"
    },
    {
     "name": "stdout",
     "output_type": "stream",
     "text": [
      "1\n",
      "200\n",
      "Change dominating species from Homo Sapiens to Neanderthal would require removing 5 reads: [0, 3, 4, 7, 6]\n",
      "[0, 3, 4, 7, 6]\n",
      "counter_factual shap on size 200: 5\n",
      "Change dominating species from Homo Sapiens to Neanderthal would require removing 5 reads: [7, 3, 4, 6, 0]\n",
      "[7, 3, 4, 6, 0]\n",
      "counter_factual monte carlo on size 500: 5\n",
      "1\n"
     ]
    },
    {
     "data": {
      "application/vnd.jupyter.widget-view+json": {
       "model_id": "449d83fbdcf54dfe8791277aec819ee8",
       "version_major": 2,
       "version_minor": 0
      },
      "text/plain": [
       "  0%|          | 0/1 [00:00<?, ?it/s]"
      ]
     },
     "metadata": {},
     "output_type": "display_data"
    },
    {
     "name": "stdout",
     "output_type": "stream",
     "text": [
      "1\n",
      "500\n",
      "Change dominating species from Homo Sapiens to Neanderthal would require removing 5 reads: [3, 7, 4, 6, 0]\n",
      "[3, 7, 4, 6, 0]\n",
      "counter_factual shap on size 500: 5\n",
      "Change dominating species from Homo Sapiens to Neanderthal would require removing 5 reads: [7, 0, 6, 3, 4]\n",
      "[7, 0, 6, 3, 4]\n",
      "counter_factualA_s_d: 5\n",
      "[(10, 1, 1, 6, [(1, 10), (5, 10), (10, 10), (20, 11), (50, 7), (100, 6), (200, 6), (500, 7)], [(1, 9), (5, 6), (10, 8), (20, 6), (50, 7), (100, 7), (200, 7), (500, 7)], 7), (5, 4, 3, 3, [(1, 5), (5, 5), (10, 5), (20, 5), (50, 3), (100, 3), (200, 3), (500, 3)], [(1, 4), (5, 3), (10, 3), (20, 3), (50, 3), (100, 3), (200, 3), (500, 3)], 3), (2, 6, 4, 1, [(1, 3), (5, 3), (10, 2), (20, 1), (50, 1), (100, 1), (200, 1), (500, 1)], [(1, 3), (5, 1), (10, 1), (20, 1), (50, 1), (100, 1), (200, 1), (500, 1)], 1), (4, 5, 3, 2, [(1, 3), (5, 2), (10, 2), (20, 2), (50, 2), (100, 2), (200, 2), (500, 2)], [(1, 2), (5, 2), (10, 2), (20, 2), (50, 2), (100, 2), (200, 2), (500, 2)], 2), (9, 2, 1, 3, [(1, 8), (5, 7), (10, 7), (20, 9), (50, 5), (100, 5), (200, 6), (500, 5)], [(1, 4), (5, 6), (10, 5), (20, 5), (50, 4), (100, 4), (200, 4), (500, 5)], 6), (6, 4, 2, 2, [(1, 5), (5, 5), (10, 3), (20, 2), (50, 2), (100, 2), (200, 2), (500, 2)], [(1, 2), (5, 2), (10, 2), (20, 2), (50, 2), (100, 2), (200, 2), (500, 2)], 2), (6, 4, 2, 3, [(1, 4), (5, 5), (10, 4), (20, 5), (50, 3), (100, 3), (200, 3), (500, 3)], [(1, 3), (5, 3), (10, 4), (20, 3), (50, 3), (100, 3), (200, 3), (500, 3)], 3), (2, 6, 4, 3, [(1, 6), (5, 6), (10, 6), (20, 5), (50, 3), (100, 3), (200, 3), (500, 3)], [(1, 5), (5, 4), (10, 3), (20, 3), (50, 3), (100, 3), (200, 3), (500, 3)], 3), (0, 8, 4, 3, [(1, 5), (5, 5), (10, 7), (20, 4), (50, 4), (100, 3), (200, 3), (500, 3)], [(1, 3), (5, 3), (10, 3), (20, 3), (50, 4), (100, 3), (200, 3), (500, 3)], 3), (4, 5, 3, 4, [(1, 4), (5, 4), (10, 4), (20, 6), (50, 4), (100, 4), (200, 4), (500, 4)], [(1, 5), (5, 4), (10, 5), (20, 4), (50, 4), (100, 4), (200, 4), (500, 4)], 4), (3, 6, 3, 2, [(1, 2), (5, 2), (10, 2), (20, 2), (50, 2), (100, 2), (200, 2), (500, 2)], [(1, 4), (5, 2), (10, 2), (20, 2), (50, 2), (100, 2), (200, 2), (500, 2)], 2), (3, 6, 3, 4, [(1, 8), (5, 6), (10, 8), (20, 8), (50, 4), (100, 4), (200, 4), (500, 4)], [(1, 8), (5, 6), (10, 5), (20, 4), (50, 4), (100, 4), (200, 4), (500, 4)], 4), (5, 4, 3, 3, [(1, 8), (5, 8), (10, 8), (20, 4), (50, 4), (100, 4), (200, 3), (500, 3)], [(1, 5), (5, 5), (10, 5), (20, 4), (50, 4), (100, 3), (200, 3), (500, 3)], 3), (11, 0, 1, 3, [(1, 11), (5, 11), (10, 7), (20, 8), (50, 4), (100, 4), (200, 3), (500, 3)], [(1, 3), (5, 4), (10, 3), (20, 4), (50, 4), (100, 4), (200, 3), (500, 4)], 3), (4, 5, 3, 2, [(1, 9), (5, 8), (10, 9), (20, 3), (50, 4), (100, 2), (200, 2), (500, 2)], [(1, 4), (5, 2), (10, 2), (20, 2), (50, 2), (100, 2), (200, 2), (500, 2)], 2), (2, 6, 4, 3, [(1, 5), (5, 6), (10, 3), (20, 4), (50, 3), (100, 3), (200, 3), (500, 3)], [(1, 3), (5, 3), (10, 4), (20, 3), (50, 3), (100, 3), (200, 3), (500, 3)], 3), (0, 8, 4, 1, [(1, 3), (5, 1), (10, 2), (20, 1), (50, 1), (100, 1), (200, 1), (500, 1)], [(1, 1), (5, 1), (10, 1), (20, 1), (50, 1), (100, 1), (200, 1), (500, 1)], 1), (2, 6, 4, 2, [(1, 6), (5, 6), (10, 6), (20, 2), (50, 2), (100, 2), (200, 2), (500, 2)], [(1, 2), (5, 3), (10, 2), (20, 2), (50, 2), (100, 2), (200, 2), (500, 2)], 2), (5, 4, 3, 2, [(1, 3), (5, 3), (10, 3), (20, 2), (50, 2), (100, 2), (200, 2), (500, 2)], [(1, 3), (5, 3), (10, 2), (20, 2), (50, 2), (100, 2), (200, 2), (500, 2)], 2), (1, 7, 4, 1, [(1, 4), (5, 1), (10, 1), (20, 1), (50, 1), (100, 1), (200, 1), (500, 1)], [(1, 2), (5, 1), (10, 1), (20, 1), (50, 1), (100, 1), (200, 1), (500, 1)], 1), (9, 2, 1, 2, [(1, 7), (5, 8), (10, 2), (20, 2), (50, 3), (100, 2), (200, 2), (500, 2)], [(1, 2), (5, 2), (10, 2), (20, 2), (50, 2), (100, 2), (200, 2), (500, 2)], 2), (11, 0, 1, 7, [(1, 10), (5, 10), (10, 9), (20, 10), (50, 10), (100, 7), (200, 7), (500, 7)], [(1, 10), (5, 7), (10, 7), (20, 7), (50, 7), (100, 7), (200, 7), (500, 7)], 7), (3, 6, 3, 1, [(1, 7), (5, 8), (10, 1), (20, 1), (50, 1), (100, 1), (200, 1), (500, 1)], [(1, 2), (5, 1), (10, 1), (20, 1), (50, 1), (100, 1), (200, 1), (500, 1)], 1), (7, 3, 2, 1, [(1, 2), (5, 2), (10, 2), (20, 2), (50, 1), (100, 1), (200, 1), (500, 1)], [(1, 1), (5, 1), (10, 1), (20, 1), (50, 1), (100, 1), (200, 1), (500, 1)], 1), (9, 2, 1, 2, [(1, 3), (5, 4), (10, 3), (20, 2), (50, 2), (100, 2), (200, 2), (500, 2)], [(1, 2), (5, 2), (10, 2), (20, 3), (50, 2), (100, 3), (200, 3), (500, 2)], 2), (8, 2, 2, 4, [(1, 8), (5, 5), (10, 5), (20, 4), (50, 4), (100, 4), (200, 4), (500, 4)], [(1, 4), (5, 6), (10, 4), (20, 4), (50, 4), (100, 4), (200, 4), (500, 4)], 4), (11, 0, 1, 8, [(1, 10), (5, 10), (10, 10), (20, 8), (50, 11), (100, 8), (200, 8), (500, 8)], [(1, 10), (5, 9), (10, 9), (20, 9), (50, 8), (100, 8), (200, 8), (500, 8)], 8), (6, 4, 2, 1, [(1, 1), (5, 1), (10, 1), (20, 1), (50, 1), (100, 1), (200, 1), (500, 1)], [(1, 1), (5, 1), (10, 1), (20, 1), (50, 1), (100, 1), (200, 1), (500, 1)], 1), (3, 6, 3, 2, [(1, 6), (5, 6), (10, 5), (20, 2), (50, 2), (100, 2), (200, 2), (500, 2)], [(1, 2), (5, 2), (10, 2), (20, 2), (50, 2), (100, 2), (200, 2), (500, 2)], 2), (6, 4, 2, 2, [(1, 10), (5, 10), (10, 10), (20, 10), (50, 3), (100, 3), (200, 3), (500, 3)], [(1, 10), (5, 3), (10, 4), (20, 4), (50, 3), (100, 3), (200, 3), (500, 3)], 4), (3, 6, 3, 1, [(1, 1), (5, 1), (10, 1), (20, 1), (50, 1), (100, 1), (200, 1), (500, 1)], [(1, 1), (5, 1), (10, 1), (20, 1), (50, 1), (100, 1), (200, 1), (500, 1)], 1), (8, 2, 2, 4, [(1, 6), (5, 6), (10, 8), (20, 4), (50, 5), (100, 5), (200, 4), (500, 4)], [(1, 6), (5, 6), (10, 5), (20, 4), (50, 5), (100, 5), (200, 5), (500, 4)], 4), (4, 5, 3, 1, [(1, 3), (5, 1), (10, 1), (20, 1), (50, 1), (100, 1), (200, 1), (500, 1)], [(1, 1), (5, 1), (10, 1), (20, 1), (50, 1), (100, 1), (200, 1), (500, 1)], 1), (7, 3, 2, 1, [(1, 9), (5, 9), (10, 1), (20, 1), (50, 1), (100, 1), (200, 1), (500, 1)], [(1, 1), (5, 1), (10, 1), (20, 1), (50, 1), (100, 1), (200, 1), (500, 1)], 1), (8, 2, 2, 3, [(1, 7), (5, 7), (10, 7), (20, 7), (50, 3), (100, 3), (200, 3), (500, 3)], [(1, 7), (5, 4), (10, 4), (20, 4), (50, 3), (100, 3), (200, 3), (500, 3)], 3), (8, 2, 2, 3, [(1, 6), (5, 3), (10, 4), (20, 5), (50, 3), (100, 3), (200, 3), (500, 3)], [(1, 4), (5, 4), (10, 3), (20, 3), (50, 3), (100, 3), (200, 3), (500, 3)], 3), (9, 2, 1, 6, [(1, 7), (5, 8), (10, 9), (20, 7), (50, 10), (100, 8), (200, 7), (500, 8)], [(1, 7), (5, 8), (10, 8), (20, 6), (50, 7), (100, 8), (200, 8), (500, 8)], 8), (2, 6, 4, 1, [(1, 7), (5, 1), (10, 1), (20, 1), (50, 1), (100, 1), (200, 1), (500, 1)], [(1, 2), (5, 1), (10, 1), (20, 1), (50, 1), (100, 1), (200, 1), (500, 1)], 1), (8, 2, 2, 5, [(1, 8), (5, 7), (10, 8), (20, 10), (50, 9), (100, 5), (200, 6), (500, 7)], [(1, 6), (5, 6), (10, 6), (20, 9), (50, 8), (100, 8), (200, 8), (500, 6)], 7), (11, 0, 1, 4, [(1, 10), (5, 10), (10, 6), (20, 6), (50, 4), (100, 4), (200, 4), (500, 4)], [(1, 4), (5, 5), (10, 5), (20, 5), (50, 5), (100, 4), (200, 4), (500, 4)], 4), (2, 6, 4, 1, [(1, 2), (5, 1), (10, 4), (20, 1), (50, 1), (100, 1), (200, 1), (500, 1)], [(1, 1), (5, 1), (10, 1), (20, 1), (50, 1), (100, 1), (200, 1), (500, 1)], 1), (2, 6, 4, 2, [(1, 3), (5, 2), (10, 3), (20, 3), (50, 2), (100, 2), (200, 2), (500, 2)], [(1, 2), (5, 2), (10, 2), (20, 2), (50, 2), (100, 2), (200, 2), (500, 2)], 2), (1, 7, 4, 2, [(1, 6), (5, 6), (10, 3), (20, 3), (50, 3), (100, 2), (200, 2), (500, 2)], [(1, 3), (5, 2), (10, 2), (20, 2), (50, 2), (100, 2), (200, 2), (500, 2)], 2), (8, 2, 2, 4, [(1, 4), (5, 4), (10, 5), (20, 4), (50, 4), (100, 4), (200, 4), (500, 4)], [(1, 4), (5, 4), (10, 5), (20, 5), (50, 4), (100, 4), (200, 4), (500, 4)], 4), (7, 3, 2, 3, [(1, 3), (5, 3), (10, 4), (20, 4), (50, 3), (100, 4), (200, 3), (500, 3)], [(1, 7), (5, 6), (10, 4), (20, 4), (50, 4), (100, 4), (200, 3), (500, 4)], 4), (0, 8, 4, 3, [(1, 4), (5, 4), (10, 4), (20, 5), (50, 3), (100, 3), (200, 3), (500, 3)], [(1, 4), (5, 3), (10, 3), (20, 3), (50, 3), (100, 3), (200, 3), (500, 3)], 3), (10, 1, 1, 4, [(1, 9), (5, 9), (10, 9), (20, 5), (50, 4), (100, 4), (200, 4), (500, 4)], [(1, 5), (5, 4), (10, 4), (20, 4), (50, 4), (100, 4), (200, 4), (500, 4)], 4), (9, 2, 1, 5, [(1, 8), (5, 8), (10, 9), (20, 7), (50, 6), (100, 5), (200, 5), (500, 5)], [(1, 9), (5, 6), (10, 5), (20, 5), (50, 5), (100, 5), (200, 5), (500, 5)], 5)]\n",
      "new experiment: 48\n",
      "0 8 4\n",
      "\u001b[34mLoading sequences and calculating alignments to all references, this might take a while. Number of reads: \u001b[0m 12\n",
      "start working on read number 0\n",
      "working on size:  0\n",
      "working on size:  1\n",
      "working on size:  2\n",
      "groundtruth: 2\n",
      "groundtruth values: [1, 3]\n",
      "Change dominating species from Neanderthal to Denisovan would require removing 2 reads: [1, 7]\n",
      "[1, 7]\n",
      "counter_factual monte carlo on size 1: 2\n",
      "1\n"
     ]
    },
    {
     "data": {
      "application/vnd.jupyter.widget-view+json": {
       "model_id": "9b6c9994d19e46b08a3cc11416a7958c",
       "version_major": 2,
       "version_minor": 0
      },
      "text/plain": [
       "  0%|          | 0/1 [00:00<?, ?it/s]"
      ]
     },
     "metadata": {},
     "output_type": "display_data"
    },
    {
     "name": "stdout",
     "output_type": "stream",
     "text": [
      "1\n",
      "1\n",
      "Change dominating species from Neanderthal to Denisovan would require removing 4 reads: [0, 1, 2, 3]\n",
      "[0, 1, 2, 3]\n",
      "counter_factual shap on size 1: 4\n",
      "Change dominating species from Neanderthal to Denisovan would require removing 3 reads: [4, 5, 3]\n",
      "[4, 5, 3]\n",
      "counter_factual monte carlo on size 5: 3\n",
      "1\n"
     ]
    },
    {
     "data": {
      "application/vnd.jupyter.widget-view+json": {
       "model_id": "2a352e3205d348adb15c4199a5b1dc5e",
       "version_major": 2,
       "version_minor": 0
      },
      "text/plain": [
       "  0%|          | 0/1 [00:00<?, ?it/s]"
      ]
     },
     "metadata": {},
     "output_type": "display_data"
    },
    {
     "name": "stdout",
     "output_type": "stream",
     "text": [
      "1\n",
      "5\n",
      "Change dominating species from Neanderthal to Denisovan would require removing 4 reads: [2, 0, 1, 3]\n",
      "[2, 0, 1, 3]\n",
      "counter_factual shap on size 5: 4\n",
      "Change dominating species from Neanderthal to Denisovan would require removing 2 reads: [7, 3]\n",
      "[7, 3]\n",
      "counter_factual monte carlo on size 10: 2\n",
      "1\n"
     ]
    },
    {
     "data": {
      "application/vnd.jupyter.widget-view+json": {
       "model_id": "6b6a4d1b190e4b26bcd4e2edc9d7f12e",
       "version_major": 2,
       "version_minor": 0
      },
      "text/plain": [
       "  0%|          | 0/1 [00:00<?, ?it/s]"
      ]
     },
     "metadata": {},
     "output_type": "display_data"
    },
    {
     "name": "stdout",
     "output_type": "stream",
     "text": [
      "1\n",
      "10\n",
      "Change dominating species from Neanderthal to Denisovan would require removing 2 reads: [1, 7]\n",
      "[1, 7]\n",
      "counter_factual shap on size 10: 2\n",
      "Change dominating species from Neanderthal to Denisovan would require removing 3 reads: [1, 4, 7]\n",
      "[1, 4, 7]\n",
      "counter_factual monte carlo on size 20: 3\n",
      "1\n"
     ]
    },
    {
     "data": {
      "application/vnd.jupyter.widget-view+json": {
       "model_id": "b5e245e18e6442dc8cd132bd8305a0cd",
       "version_major": 2,
       "version_minor": 0
      },
      "text/plain": [
       "  0%|          | 0/1 [00:00<?, ?it/s]"
      ]
     },
     "metadata": {},
     "output_type": "display_data"
    },
    {
     "name": "stdout",
     "output_type": "stream",
     "text": [
      "1\n",
      "20\n",
      "Change dominating species from Neanderthal to Denisovan would require removing 3 reads: [4, 7, 5]\n",
      "[4, 7, 5]\n",
      "counter_factual shap on size 20: 3\n",
      "Change dominating species from Neanderthal to Denisovan would require removing 2 reads: [7, 1]\n",
      "[7, 1]\n",
      "counter_factual monte carlo on size 50: 2\n",
      "1\n"
     ]
    },
    {
     "data": {
      "application/vnd.jupyter.widget-view+json": {
       "model_id": "76fd5e1bf1f6486f9a5d46737ab076d4",
       "version_major": 2,
       "version_minor": 0
      },
      "text/plain": [
       "  0%|          | 0/1 [00:00<?, ?it/s]"
      ]
     },
     "metadata": {},
     "output_type": "display_data"
    },
    {
     "name": "stdout",
     "output_type": "stream",
     "text": [
      "1\n",
      "50\n",
      "Change dominating species from Neanderthal to Denisovan would require removing 2 reads: [7, 5]\n",
      "[7, 5]\n",
      "counter_factual shap on size 50: 2\n",
      "Change dominating species from Neanderthal to Denisovan would require removing 2 reads: [7, 1]\n",
      "[7, 1]\n",
      "counter_factual monte carlo on size 100: 2\n",
      "1\n"
     ]
    },
    {
     "data": {
      "application/vnd.jupyter.widget-view+json": {
       "model_id": "944f8183585c42c0849c672ebbf7dd2a",
       "version_major": 2,
       "version_minor": 0
      },
      "text/plain": [
       "  0%|          | 0/1 [00:00<?, ?it/s]"
      ]
     },
     "metadata": {},
     "output_type": "display_data"
    },
    {
     "name": "stdout",
     "output_type": "stream",
     "text": [
      "1\n",
      "100\n",
      "Change dominating species from Neanderthal to Denisovan would require removing 2 reads: [7, 5]\n",
      "[7, 5]\n",
      "counter_factual shap on size 100: 2\n",
      "Change dominating species from Neanderthal to Denisovan would require removing 2 reads: [7, 5]\n",
      "[7, 5]\n",
      "counter_factual monte carlo on size 200: 2\n",
      "1\n"
     ]
    },
    {
     "data": {
      "application/vnd.jupyter.widget-view+json": {
       "model_id": "c8d571620ed548748b7a98b6144be04c",
       "version_major": 2,
       "version_minor": 0
      },
      "text/plain": [
       "  0%|          | 0/1 [00:00<?, ?it/s]"
      ]
     },
     "metadata": {},
     "output_type": "display_data"
    },
    {
     "name": "stdout",
     "output_type": "stream",
     "text": [
      "1\n",
      "200\n",
      "Change dominating species from Neanderthal to Denisovan would require removing 2 reads: [7, 5]\n",
      "[7, 5]\n",
      "counter_factual shap on size 200: 2\n",
      "Change dominating species from Neanderthal to Denisovan would require removing 2 reads: [7, 5]\n",
      "[7, 5]\n",
      "counter_factual monte carlo on size 500: 2\n",
      "1\n"
     ]
    },
    {
     "data": {
      "application/vnd.jupyter.widget-view+json": {
       "model_id": "c62f26ed6bc24c05a6b050ac6caddf8c",
       "version_major": 2,
       "version_minor": 0
      },
      "text/plain": [
       "  0%|          | 0/1 [00:00<?, ?it/s]"
      ]
     },
     "metadata": {},
     "output_type": "display_data"
    },
    {
     "name": "stdout",
     "output_type": "stream",
     "text": [
      "1\n",
      "500\n",
      "Change dominating species from Neanderthal to Denisovan would require removing 2 reads: [7, 5]\n",
      "[7, 5]\n",
      "counter_factual shap on size 500: 2\n",
      "Change dominating species from Neanderthal to Denisovan would require removing 2 reads: [7, 5]\n",
      "[7, 5]\n",
      "counter_factualA_s_d: 2\n",
      "[(10, 1, 1, 6, [(1, 10), (5, 10), (10, 10), (20, 11), (50, 7), (100, 6), (200, 6), (500, 7)], [(1, 9), (5, 6), (10, 8), (20, 6), (50, 7), (100, 7), (200, 7), (500, 7)], 7), (5, 4, 3, 3, [(1, 5), (5, 5), (10, 5), (20, 5), (50, 3), (100, 3), (200, 3), (500, 3)], [(1, 4), (5, 3), (10, 3), (20, 3), (50, 3), (100, 3), (200, 3), (500, 3)], 3), (2, 6, 4, 1, [(1, 3), (5, 3), (10, 2), (20, 1), (50, 1), (100, 1), (200, 1), (500, 1)], [(1, 3), (5, 1), (10, 1), (20, 1), (50, 1), (100, 1), (200, 1), (500, 1)], 1), (4, 5, 3, 2, [(1, 3), (5, 2), (10, 2), (20, 2), (50, 2), (100, 2), (200, 2), (500, 2)], [(1, 2), (5, 2), (10, 2), (20, 2), (50, 2), (100, 2), (200, 2), (500, 2)], 2), (9, 2, 1, 3, [(1, 8), (5, 7), (10, 7), (20, 9), (50, 5), (100, 5), (200, 6), (500, 5)], [(1, 4), (5, 6), (10, 5), (20, 5), (50, 4), (100, 4), (200, 4), (500, 5)], 6), (6, 4, 2, 2, [(1, 5), (5, 5), (10, 3), (20, 2), (50, 2), (100, 2), (200, 2), (500, 2)], [(1, 2), (5, 2), (10, 2), (20, 2), (50, 2), (100, 2), (200, 2), (500, 2)], 2), (6, 4, 2, 3, [(1, 4), (5, 5), (10, 4), (20, 5), (50, 3), (100, 3), (200, 3), (500, 3)], [(1, 3), (5, 3), (10, 4), (20, 3), (50, 3), (100, 3), (200, 3), (500, 3)], 3), (2, 6, 4, 3, [(1, 6), (5, 6), (10, 6), (20, 5), (50, 3), (100, 3), (200, 3), (500, 3)], [(1, 5), (5, 4), (10, 3), (20, 3), (50, 3), (100, 3), (200, 3), (500, 3)], 3), (0, 8, 4, 3, [(1, 5), (5, 5), (10, 7), (20, 4), (50, 4), (100, 3), (200, 3), (500, 3)], [(1, 3), (5, 3), (10, 3), (20, 3), (50, 4), (100, 3), (200, 3), (500, 3)], 3), (4, 5, 3, 4, [(1, 4), (5, 4), (10, 4), (20, 6), (50, 4), (100, 4), (200, 4), (500, 4)], [(1, 5), (5, 4), (10, 5), (20, 4), (50, 4), (100, 4), (200, 4), (500, 4)], 4), (3, 6, 3, 2, [(1, 2), (5, 2), (10, 2), (20, 2), (50, 2), (100, 2), (200, 2), (500, 2)], [(1, 4), (5, 2), (10, 2), (20, 2), (50, 2), (100, 2), (200, 2), (500, 2)], 2), (3, 6, 3, 4, [(1, 8), (5, 6), (10, 8), (20, 8), (50, 4), (100, 4), (200, 4), (500, 4)], [(1, 8), (5, 6), (10, 5), (20, 4), (50, 4), (100, 4), (200, 4), (500, 4)], 4), (5, 4, 3, 3, [(1, 8), (5, 8), (10, 8), (20, 4), (50, 4), (100, 4), (200, 3), (500, 3)], [(1, 5), (5, 5), (10, 5), (20, 4), (50, 4), (100, 3), (200, 3), (500, 3)], 3), (11, 0, 1, 3, [(1, 11), (5, 11), (10, 7), (20, 8), (50, 4), (100, 4), (200, 3), (500, 3)], [(1, 3), (5, 4), (10, 3), (20, 4), (50, 4), (100, 4), (200, 3), (500, 4)], 3), (4, 5, 3, 2, [(1, 9), (5, 8), (10, 9), (20, 3), (50, 4), (100, 2), (200, 2), (500, 2)], [(1, 4), (5, 2), (10, 2), (20, 2), (50, 2), (100, 2), (200, 2), (500, 2)], 2), (2, 6, 4, 3, [(1, 5), (5, 6), (10, 3), (20, 4), (50, 3), (100, 3), (200, 3), (500, 3)], [(1, 3), (5, 3), (10, 4), (20, 3), (50, 3), (100, 3), (200, 3), (500, 3)], 3), (0, 8, 4, 1, [(1, 3), (5, 1), (10, 2), (20, 1), (50, 1), (100, 1), (200, 1), (500, 1)], [(1, 1), (5, 1), (10, 1), (20, 1), (50, 1), (100, 1), (200, 1), (500, 1)], 1), (2, 6, 4, 2, [(1, 6), (5, 6), (10, 6), (20, 2), (50, 2), (100, 2), (200, 2), (500, 2)], [(1, 2), (5, 3), (10, 2), (20, 2), (50, 2), (100, 2), (200, 2), (500, 2)], 2), (5, 4, 3, 2, [(1, 3), (5, 3), (10, 3), (20, 2), (50, 2), (100, 2), (200, 2), (500, 2)], [(1, 3), (5, 3), (10, 2), (20, 2), (50, 2), (100, 2), (200, 2), (500, 2)], 2), (1, 7, 4, 1, [(1, 4), (5, 1), (10, 1), (20, 1), (50, 1), (100, 1), (200, 1), (500, 1)], [(1, 2), (5, 1), (10, 1), (20, 1), (50, 1), (100, 1), (200, 1), (500, 1)], 1), (9, 2, 1, 2, [(1, 7), (5, 8), (10, 2), (20, 2), (50, 3), (100, 2), (200, 2), (500, 2)], [(1, 2), (5, 2), (10, 2), (20, 2), (50, 2), (100, 2), (200, 2), (500, 2)], 2), (11, 0, 1, 7, [(1, 10), (5, 10), (10, 9), (20, 10), (50, 10), (100, 7), (200, 7), (500, 7)], [(1, 10), (5, 7), (10, 7), (20, 7), (50, 7), (100, 7), (200, 7), (500, 7)], 7), (3, 6, 3, 1, [(1, 7), (5, 8), (10, 1), (20, 1), (50, 1), (100, 1), (200, 1), (500, 1)], [(1, 2), (5, 1), (10, 1), (20, 1), (50, 1), (100, 1), (200, 1), (500, 1)], 1), (7, 3, 2, 1, [(1, 2), (5, 2), (10, 2), (20, 2), (50, 1), (100, 1), (200, 1), (500, 1)], [(1, 1), (5, 1), (10, 1), (20, 1), (50, 1), (100, 1), (200, 1), (500, 1)], 1), (9, 2, 1, 2, [(1, 3), (5, 4), (10, 3), (20, 2), (50, 2), (100, 2), (200, 2), (500, 2)], [(1, 2), (5, 2), (10, 2), (20, 3), (50, 2), (100, 3), (200, 3), (500, 2)], 2), (8, 2, 2, 4, [(1, 8), (5, 5), (10, 5), (20, 4), (50, 4), (100, 4), (200, 4), (500, 4)], [(1, 4), (5, 6), (10, 4), (20, 4), (50, 4), (100, 4), (200, 4), (500, 4)], 4), (11, 0, 1, 8, [(1, 10), (5, 10), (10, 10), (20, 8), (50, 11), (100, 8), (200, 8), (500, 8)], [(1, 10), (5, 9), (10, 9), (20, 9), (50, 8), (100, 8), (200, 8), (500, 8)], 8), (6, 4, 2, 1, [(1, 1), (5, 1), (10, 1), (20, 1), (50, 1), (100, 1), (200, 1), (500, 1)], [(1, 1), (5, 1), (10, 1), (20, 1), (50, 1), (100, 1), (200, 1), (500, 1)], 1), (3, 6, 3, 2, [(1, 6), (5, 6), (10, 5), (20, 2), (50, 2), (100, 2), (200, 2), (500, 2)], [(1, 2), (5, 2), (10, 2), (20, 2), (50, 2), (100, 2), (200, 2), (500, 2)], 2), (6, 4, 2, 2, [(1, 10), (5, 10), (10, 10), (20, 10), (50, 3), (100, 3), (200, 3), (500, 3)], [(1, 10), (5, 3), (10, 4), (20, 4), (50, 3), (100, 3), (200, 3), (500, 3)], 4), (3, 6, 3, 1, [(1, 1), (5, 1), (10, 1), (20, 1), (50, 1), (100, 1), (200, 1), (500, 1)], [(1, 1), (5, 1), (10, 1), (20, 1), (50, 1), (100, 1), (200, 1), (500, 1)], 1), (8, 2, 2, 4, [(1, 6), (5, 6), (10, 8), (20, 4), (50, 5), (100, 5), (200, 4), (500, 4)], [(1, 6), (5, 6), (10, 5), (20, 4), (50, 5), (100, 5), (200, 5), (500, 4)], 4), (4, 5, 3, 1, [(1, 3), (5, 1), (10, 1), (20, 1), (50, 1), (100, 1), (200, 1), (500, 1)], [(1, 1), (5, 1), (10, 1), (20, 1), (50, 1), (100, 1), (200, 1), (500, 1)], 1), (7, 3, 2, 1, [(1, 9), (5, 9), (10, 1), (20, 1), (50, 1), (100, 1), (200, 1), (500, 1)], [(1, 1), (5, 1), (10, 1), (20, 1), (50, 1), (100, 1), (200, 1), (500, 1)], 1), (8, 2, 2, 3, [(1, 7), (5, 7), (10, 7), (20, 7), (50, 3), (100, 3), (200, 3), (500, 3)], [(1, 7), (5, 4), (10, 4), (20, 4), (50, 3), (100, 3), (200, 3), (500, 3)], 3), (8, 2, 2, 3, [(1, 6), (5, 3), (10, 4), (20, 5), (50, 3), (100, 3), (200, 3), (500, 3)], [(1, 4), (5, 4), (10, 3), (20, 3), (50, 3), (100, 3), (200, 3), (500, 3)], 3), (9, 2, 1, 6, [(1, 7), (5, 8), (10, 9), (20, 7), (50, 10), (100, 8), (200, 7), (500, 8)], [(1, 7), (5, 8), (10, 8), (20, 6), (50, 7), (100, 8), (200, 8), (500, 8)], 8), (2, 6, 4, 1, [(1, 7), (5, 1), (10, 1), (20, 1), (50, 1), (100, 1), (200, 1), (500, 1)], [(1, 2), (5, 1), (10, 1), (20, 1), (50, 1), (100, 1), (200, 1), (500, 1)], 1), (8, 2, 2, 5, [(1, 8), (5, 7), (10, 8), (20, 10), (50, 9), (100, 5), (200, 6), (500, 7)], [(1, 6), (5, 6), (10, 6), (20, 9), (50, 8), (100, 8), (200, 8), (500, 6)], 7), (11, 0, 1, 4, [(1, 10), (5, 10), (10, 6), (20, 6), (50, 4), (100, 4), (200, 4), (500, 4)], [(1, 4), (5, 5), (10, 5), (20, 5), (50, 5), (100, 4), (200, 4), (500, 4)], 4), (2, 6, 4, 1, [(1, 2), (5, 1), (10, 4), (20, 1), (50, 1), (100, 1), (200, 1), (500, 1)], [(1, 1), (5, 1), (10, 1), (20, 1), (50, 1), (100, 1), (200, 1), (500, 1)], 1), (2, 6, 4, 2, [(1, 3), (5, 2), (10, 3), (20, 3), (50, 2), (100, 2), (200, 2), (500, 2)], [(1, 2), (5, 2), (10, 2), (20, 2), (50, 2), (100, 2), (200, 2), (500, 2)], 2), (1, 7, 4, 2, [(1, 6), (5, 6), (10, 3), (20, 3), (50, 3), (100, 2), (200, 2), (500, 2)], [(1, 3), (5, 2), (10, 2), (20, 2), (50, 2), (100, 2), (200, 2), (500, 2)], 2), (8, 2, 2, 4, [(1, 4), (5, 4), (10, 5), (20, 4), (50, 4), (100, 4), (200, 4), (500, 4)], [(1, 4), (5, 4), (10, 5), (20, 5), (50, 4), (100, 4), (200, 4), (500, 4)], 4), (7, 3, 2, 3, [(1, 3), (5, 3), (10, 4), (20, 4), (50, 3), (100, 4), (200, 3), (500, 3)], [(1, 7), (5, 6), (10, 4), (20, 4), (50, 4), (100, 4), (200, 3), (500, 4)], 4), (0, 8, 4, 3, [(1, 4), (5, 4), (10, 4), (20, 5), (50, 3), (100, 3), (200, 3), (500, 3)], [(1, 4), (5, 3), (10, 3), (20, 3), (50, 3), (100, 3), (200, 3), (500, 3)], 3), (10, 1, 1, 4, [(1, 9), (5, 9), (10, 9), (20, 5), (50, 4), (100, 4), (200, 4), (500, 4)], [(1, 5), (5, 4), (10, 4), (20, 4), (50, 4), (100, 4), (200, 4), (500, 4)], 4), (9, 2, 1, 5, [(1, 8), (5, 8), (10, 9), (20, 7), (50, 6), (100, 5), (200, 5), (500, 5)], [(1, 9), (5, 6), (10, 5), (20, 5), (50, 5), (100, 5), (200, 5), (500, 5)], 5), (0, 8, 4, 2, [(1, 4), (5, 4), (10, 2), (20, 3), (50, 2), (100, 2), (200, 2), (500, 2)], [(1, 2), (5, 3), (10, 2), (20, 3), (50, 2), (100, 2), (200, 2), (500, 2)], 2)]\n",
      "new experiment: 49\n",
      "8 2 2\n",
      "\u001b[34mLoading sequences and calculating alignments to all references, this might take a while. Number of reads: \u001b[0m 12\n",
      "start working on read number 0\n",
      "working on size:  0\n",
      "working on size:  1\n",
      "working on size:  2\n",
      "working on size:  3\n",
      "working on size:  4\n",
      "groundtruth: 4\n",
      "groundtruth values: [0, 1, 2, 4]\n",
      "Change dominating species from Homo Sapiens to Denisovan would require removing 5 reads: [0, 5, 7, 4, 2]\n",
      "[0, 5, 7, 4, 2]\n",
      "counter_factual monte carlo on size 1: 5\n",
      "1\n"
     ]
    },
    {
     "data": {
      "application/vnd.jupyter.widget-view+json": {
       "model_id": "c1d64a1da97e4e9980b7816120526c36",
       "version_major": 2,
       "version_minor": 0
      },
      "text/plain": [
       "  0%|          | 0/1 [00:00<?, ?it/s]"
      ]
     },
     "metadata": {},
     "output_type": "display_data"
    },
    {
     "name": "stdout",
     "output_type": "stream",
     "text": [
      "1\n",
      "1\n",
      "Change dominating species from Homo Sapiens to Denisovan would require removing 6 reads: [0, 1, 2, 3, 4, 5]\n",
      "[0, 1, 2, 3, 4, 5]\n",
      "counter_factual shap on size 1: 6\n",
      "Change dominating species from Homo Sapiens to Denisovan would require removing 5 reads: [1, 0, 2, 7, 5]\n",
      "[1, 0, 2, 7, 5]\n",
      "counter_factual monte carlo on size 5: 5\n",
      "1\n"
     ]
    },
    {
     "data": {
      "application/vnd.jupyter.widget-view+json": {
       "model_id": "ca44df0610f7403da130cc1383eb4864",
       "version_major": 2,
       "version_minor": 0
      },
      "text/plain": [
       "  0%|          | 0/1 [00:00<?, ?it/s]"
      ]
     },
     "metadata": {},
     "output_type": "display_data"
    },
    {
     "name": "stdout",
     "output_type": "stream",
     "text": [
      "1\n",
      "5\n",
      "Change dominating species from Homo Sapiens to Denisovan would require removing 6 reads: [0, 1, 2, 3, 4, 5]\n",
      "[0, 1, 2, 3, 4, 5]\n",
      "counter_factual shap on size 5: 6\n",
      "Change dominating species from Homo Sapiens to Denisovan would require removing 5 reads: [7, 1, 5, 0, 4]\n",
      "[7, 1, 5, 0, 4]\n",
      "counter_factual monte carlo on size 10: 5\n",
      "1\n"
     ]
    },
    {
     "data": {
      "application/vnd.jupyter.widget-view+json": {
       "model_id": "76769299b4834d87b8223a6bd9216578",
       "version_major": 2,
       "version_minor": 0
      },
      "text/plain": [
       "  0%|          | 0/1 [00:00<?, ?it/s]"
      ]
     },
     "metadata": {},
     "output_type": "display_data"
    },
    {
     "name": "stdout",
     "output_type": "stream",
     "text": [
      "1\n",
      "10\n",
      "Change dominating species from Homo Sapiens to Denisovan would require removing 6 reads: [0, 1, 2, 3, 4, 5]\n",
      "[0, 1, 2, 3, 4, 5]\n",
      "counter_factual shap on size 10: 6\n",
      "Change dominating species from Homo Sapiens to Denisovan would require removing 4 reads: [2, 1, 0, 5]\n",
      "[2, 1, 0, 5]\n",
      "counter_factual monte carlo on size 20: 4\n",
      "1\n"
     ]
    },
    {
     "data": {
      "application/vnd.jupyter.widget-view+json": {
       "model_id": "9fc233ad2bec48719ce48fafccc8f057",
       "version_major": 2,
       "version_minor": 0
      },
      "text/plain": [
       "  0%|          | 0/1 [00:00<?, ?it/s]"
      ]
     },
     "metadata": {},
     "output_type": "display_data"
    },
    {
     "name": "stdout",
     "output_type": "stream",
     "text": [
      "1\n",
      "20\n",
      "Change dominating species from Homo Sapiens to Denisovan would require removing 5 reads: [11, 5, 0, 1, 2]\n",
      "[11, 5, 0, 1, 2]\n",
      "counter_factual shap on size 20: 5\n",
      "Change dominating species from Homo Sapiens to Denisovan would require removing 5 reads: [5, 1, 7, 0, 2]\n",
      "[5, 1, 7, 0, 2]\n",
      "counter_factual monte carlo on size 50: 5\n",
      "1\n"
     ]
    },
    {
     "data": {
      "application/vnd.jupyter.widget-view+json": {
       "model_id": "b0c30261c56f4349ae96ded90d65cf18",
       "version_major": 2,
       "version_minor": 0
      },
      "text/plain": [
       "  0%|          | 0/1 [00:00<?, ?it/s]"
      ]
     },
     "metadata": {},
     "output_type": "display_data"
    },
    {
     "name": "stdout",
     "output_type": "stream",
     "text": [
      "1\n",
      "50\n",
      "Change dominating species from Homo Sapiens to Denisovan would require removing 5 reads: [5, 0, 1, 7, 2]\n",
      "[5, 0, 1, 7, 2]\n",
      "counter_factual shap on size 50: 5\n",
      "Change dominating species from Homo Sapiens to Denisovan would require removing 5 reads: [5, 0, 2, 7, 1]\n",
      "[5, 0, 2, 7, 1]\n",
      "counter_factual monte carlo on size 100: 5\n",
      "1\n"
     ]
    },
    {
     "data": {
      "application/vnd.jupyter.widget-view+json": {
       "model_id": "7019a6205c514f519bb44205238614de",
       "version_major": 2,
       "version_minor": 0
      },
      "text/plain": [
       "  0%|          | 0/1 [00:00<?, ?it/s]"
      ]
     },
     "metadata": {},
     "output_type": "display_data"
    },
    {
     "name": "stdout",
     "output_type": "stream",
     "text": [
      "1\n",
      "100\n",
      "Change dominating species from Homo Sapiens to Denisovan would require removing 4 reads: [5, 1, 4, 2]\n",
      "[5, 1, 4, 2]\n",
      "counter_factual shap on size 100: 4\n",
      "Change dominating species from Homo Sapiens to Denisovan would require removing 5 reads: [1, 4, 7, 5, 2]\n",
      "[1, 4, 7, 5, 2]\n",
      "counter_factual monte carlo on size 200: 5\n",
      "1\n"
     ]
    },
    {
     "data": {
      "application/vnd.jupyter.widget-view+json": {
       "model_id": "c60734136c2943d8a7532f6bdea39a79",
       "version_major": 2,
       "version_minor": 0
      },
      "text/plain": [
       "  0%|          | 0/1 [00:00<?, ?it/s]"
      ]
     },
     "metadata": {},
     "output_type": "display_data"
    },
    {
     "name": "stdout",
     "output_type": "stream",
     "text": [
      "1\n",
      "200\n",
      "Change dominating species from Homo Sapiens to Denisovan would require removing 5 reads: [2, 7, 4, 0, 1]\n",
      "[2, 7, 4, 0, 1]\n",
      "counter_factual shap on size 200: 5\n",
      "Change dominating species from Homo Sapiens to Denisovan would require removing 4 reads: [1, 2, 0, 5]\n",
      "[1, 2, 0, 5]\n",
      "counter_factual monte carlo on size 500: 4\n",
      "1\n"
     ]
    },
    {
     "data": {
      "application/vnd.jupyter.widget-view+json": {
       "model_id": "4f2150c3484442359fff415924ca14d8",
       "version_major": 2,
       "version_minor": 0
      },
      "text/plain": [
       "  0%|          | 0/1 [00:00<?, ?it/s]"
      ]
     },
     "metadata": {},
     "output_type": "display_data"
    },
    {
     "name": "stdout",
     "output_type": "stream",
     "text": [
      "1\n",
      "500\n",
      "Change dominating species from Homo Sapiens to Denisovan would require removing 5 reads: [0, 7, 1, 5, 4]\n",
      "[0, 7, 1, 5, 4]\n",
      "counter_factual shap on size 500: 5\n",
      "Change dominating species from Homo Sapiens to Denisovan would require removing 4 reads: [1, 0, 4, 2]\n",
      "[1, 0, 4, 2]\n",
      "counter_factualA_s_d: 4\n",
      "[(10, 1, 1, 6, [(1, 10), (5, 10), (10, 10), (20, 11), (50, 7), (100, 6), (200, 6), (500, 7)], [(1, 9), (5, 6), (10, 8), (20, 6), (50, 7), (100, 7), (200, 7), (500, 7)], 7), (5, 4, 3, 3, [(1, 5), (5, 5), (10, 5), (20, 5), (50, 3), (100, 3), (200, 3), (500, 3)], [(1, 4), (5, 3), (10, 3), (20, 3), (50, 3), (100, 3), (200, 3), (500, 3)], 3), (2, 6, 4, 1, [(1, 3), (5, 3), (10, 2), (20, 1), (50, 1), (100, 1), (200, 1), (500, 1)], [(1, 3), (5, 1), (10, 1), (20, 1), (50, 1), (100, 1), (200, 1), (500, 1)], 1), (4, 5, 3, 2, [(1, 3), (5, 2), (10, 2), (20, 2), (50, 2), (100, 2), (200, 2), (500, 2)], [(1, 2), (5, 2), (10, 2), (20, 2), (50, 2), (100, 2), (200, 2), (500, 2)], 2), (9, 2, 1, 3, [(1, 8), (5, 7), (10, 7), (20, 9), (50, 5), (100, 5), (200, 6), (500, 5)], [(1, 4), (5, 6), (10, 5), (20, 5), (50, 4), (100, 4), (200, 4), (500, 5)], 6), (6, 4, 2, 2, [(1, 5), (5, 5), (10, 3), (20, 2), (50, 2), (100, 2), (200, 2), (500, 2)], [(1, 2), (5, 2), (10, 2), (20, 2), (50, 2), (100, 2), (200, 2), (500, 2)], 2), (6, 4, 2, 3, [(1, 4), (5, 5), (10, 4), (20, 5), (50, 3), (100, 3), (200, 3), (500, 3)], [(1, 3), (5, 3), (10, 4), (20, 3), (50, 3), (100, 3), (200, 3), (500, 3)], 3), (2, 6, 4, 3, [(1, 6), (5, 6), (10, 6), (20, 5), (50, 3), (100, 3), (200, 3), (500, 3)], [(1, 5), (5, 4), (10, 3), (20, 3), (50, 3), (100, 3), (200, 3), (500, 3)], 3), (0, 8, 4, 3, [(1, 5), (5, 5), (10, 7), (20, 4), (50, 4), (100, 3), (200, 3), (500, 3)], [(1, 3), (5, 3), (10, 3), (20, 3), (50, 4), (100, 3), (200, 3), (500, 3)], 3), (4, 5, 3, 4, [(1, 4), (5, 4), (10, 4), (20, 6), (50, 4), (100, 4), (200, 4), (500, 4)], [(1, 5), (5, 4), (10, 5), (20, 4), (50, 4), (100, 4), (200, 4), (500, 4)], 4), (3, 6, 3, 2, [(1, 2), (5, 2), (10, 2), (20, 2), (50, 2), (100, 2), (200, 2), (500, 2)], [(1, 4), (5, 2), (10, 2), (20, 2), (50, 2), (100, 2), (200, 2), (500, 2)], 2), (3, 6, 3, 4, [(1, 8), (5, 6), (10, 8), (20, 8), (50, 4), (100, 4), (200, 4), (500, 4)], [(1, 8), (5, 6), (10, 5), (20, 4), (50, 4), (100, 4), (200, 4), (500, 4)], 4), (5, 4, 3, 3, [(1, 8), (5, 8), (10, 8), (20, 4), (50, 4), (100, 4), (200, 3), (500, 3)], [(1, 5), (5, 5), (10, 5), (20, 4), (50, 4), (100, 3), (200, 3), (500, 3)], 3), (11, 0, 1, 3, [(1, 11), (5, 11), (10, 7), (20, 8), (50, 4), (100, 4), (200, 3), (500, 3)], [(1, 3), (5, 4), (10, 3), (20, 4), (50, 4), (100, 4), (200, 3), (500, 4)], 3), (4, 5, 3, 2, [(1, 9), (5, 8), (10, 9), (20, 3), (50, 4), (100, 2), (200, 2), (500, 2)], [(1, 4), (5, 2), (10, 2), (20, 2), (50, 2), (100, 2), (200, 2), (500, 2)], 2), (2, 6, 4, 3, [(1, 5), (5, 6), (10, 3), (20, 4), (50, 3), (100, 3), (200, 3), (500, 3)], [(1, 3), (5, 3), (10, 4), (20, 3), (50, 3), (100, 3), (200, 3), (500, 3)], 3), (0, 8, 4, 1, [(1, 3), (5, 1), (10, 2), (20, 1), (50, 1), (100, 1), (200, 1), (500, 1)], [(1, 1), (5, 1), (10, 1), (20, 1), (50, 1), (100, 1), (200, 1), (500, 1)], 1), (2, 6, 4, 2, [(1, 6), (5, 6), (10, 6), (20, 2), (50, 2), (100, 2), (200, 2), (500, 2)], [(1, 2), (5, 3), (10, 2), (20, 2), (50, 2), (100, 2), (200, 2), (500, 2)], 2), (5, 4, 3, 2, [(1, 3), (5, 3), (10, 3), (20, 2), (50, 2), (100, 2), (200, 2), (500, 2)], [(1, 3), (5, 3), (10, 2), (20, 2), (50, 2), (100, 2), (200, 2), (500, 2)], 2), (1, 7, 4, 1, [(1, 4), (5, 1), (10, 1), (20, 1), (50, 1), (100, 1), (200, 1), (500, 1)], [(1, 2), (5, 1), (10, 1), (20, 1), (50, 1), (100, 1), (200, 1), (500, 1)], 1), (9, 2, 1, 2, [(1, 7), (5, 8), (10, 2), (20, 2), (50, 3), (100, 2), (200, 2), (500, 2)], [(1, 2), (5, 2), (10, 2), (20, 2), (50, 2), (100, 2), (200, 2), (500, 2)], 2), (11, 0, 1, 7, [(1, 10), (5, 10), (10, 9), (20, 10), (50, 10), (100, 7), (200, 7), (500, 7)], [(1, 10), (5, 7), (10, 7), (20, 7), (50, 7), (100, 7), (200, 7), (500, 7)], 7), (3, 6, 3, 1, [(1, 7), (5, 8), (10, 1), (20, 1), (50, 1), (100, 1), (200, 1), (500, 1)], [(1, 2), (5, 1), (10, 1), (20, 1), (50, 1), (100, 1), (200, 1), (500, 1)], 1), (7, 3, 2, 1, [(1, 2), (5, 2), (10, 2), (20, 2), (50, 1), (100, 1), (200, 1), (500, 1)], [(1, 1), (5, 1), (10, 1), (20, 1), (50, 1), (100, 1), (200, 1), (500, 1)], 1), (9, 2, 1, 2, [(1, 3), (5, 4), (10, 3), (20, 2), (50, 2), (100, 2), (200, 2), (500, 2)], [(1, 2), (5, 2), (10, 2), (20, 3), (50, 2), (100, 3), (200, 3), (500, 2)], 2), (8, 2, 2, 4, [(1, 8), (5, 5), (10, 5), (20, 4), (50, 4), (100, 4), (200, 4), (500, 4)], [(1, 4), (5, 6), (10, 4), (20, 4), (50, 4), (100, 4), (200, 4), (500, 4)], 4), (11, 0, 1, 8, [(1, 10), (5, 10), (10, 10), (20, 8), (50, 11), (100, 8), (200, 8), (500, 8)], [(1, 10), (5, 9), (10, 9), (20, 9), (50, 8), (100, 8), (200, 8), (500, 8)], 8), (6, 4, 2, 1, [(1, 1), (5, 1), (10, 1), (20, 1), (50, 1), (100, 1), (200, 1), (500, 1)], [(1, 1), (5, 1), (10, 1), (20, 1), (50, 1), (100, 1), (200, 1), (500, 1)], 1), (3, 6, 3, 2, [(1, 6), (5, 6), (10, 5), (20, 2), (50, 2), (100, 2), (200, 2), (500, 2)], [(1, 2), (5, 2), (10, 2), (20, 2), (50, 2), (100, 2), (200, 2), (500, 2)], 2), (6, 4, 2, 2, [(1, 10), (5, 10), (10, 10), (20, 10), (50, 3), (100, 3), (200, 3), (500, 3)], [(1, 10), (5, 3), (10, 4), (20, 4), (50, 3), (100, 3), (200, 3), (500, 3)], 4), (3, 6, 3, 1, [(1, 1), (5, 1), (10, 1), (20, 1), (50, 1), (100, 1), (200, 1), (500, 1)], [(1, 1), (5, 1), (10, 1), (20, 1), (50, 1), (100, 1), (200, 1), (500, 1)], 1), (8, 2, 2, 4, [(1, 6), (5, 6), (10, 8), (20, 4), (50, 5), (100, 5), (200, 4), (500, 4)], [(1, 6), (5, 6), (10, 5), (20, 4), (50, 5), (100, 5), (200, 5), (500, 4)], 4), (4, 5, 3, 1, [(1, 3), (5, 1), (10, 1), (20, 1), (50, 1), (100, 1), (200, 1), (500, 1)], [(1, 1), (5, 1), (10, 1), (20, 1), (50, 1), (100, 1), (200, 1), (500, 1)], 1), (7, 3, 2, 1, [(1, 9), (5, 9), (10, 1), (20, 1), (50, 1), (100, 1), (200, 1), (500, 1)], [(1, 1), (5, 1), (10, 1), (20, 1), (50, 1), (100, 1), (200, 1), (500, 1)], 1), (8, 2, 2, 3, [(1, 7), (5, 7), (10, 7), (20, 7), (50, 3), (100, 3), (200, 3), (500, 3)], [(1, 7), (5, 4), (10, 4), (20, 4), (50, 3), (100, 3), (200, 3), (500, 3)], 3), (8, 2, 2, 3, [(1, 6), (5, 3), (10, 4), (20, 5), (50, 3), (100, 3), (200, 3), (500, 3)], [(1, 4), (5, 4), (10, 3), (20, 3), (50, 3), (100, 3), (200, 3), (500, 3)], 3), (9, 2, 1, 6, [(1, 7), (5, 8), (10, 9), (20, 7), (50, 10), (100, 8), (200, 7), (500, 8)], [(1, 7), (5, 8), (10, 8), (20, 6), (50, 7), (100, 8), (200, 8), (500, 8)], 8), (2, 6, 4, 1, [(1, 7), (5, 1), (10, 1), (20, 1), (50, 1), (100, 1), (200, 1), (500, 1)], [(1, 2), (5, 1), (10, 1), (20, 1), (50, 1), (100, 1), (200, 1), (500, 1)], 1), (8, 2, 2, 5, [(1, 8), (5, 7), (10, 8), (20, 10), (50, 9), (100, 5), (200, 6), (500, 7)], [(1, 6), (5, 6), (10, 6), (20, 9), (50, 8), (100, 8), (200, 8), (500, 6)], 7), (11, 0, 1, 4, [(1, 10), (5, 10), (10, 6), (20, 6), (50, 4), (100, 4), (200, 4), (500, 4)], [(1, 4), (5, 5), (10, 5), (20, 5), (50, 5), (100, 4), (200, 4), (500, 4)], 4), (2, 6, 4, 1, [(1, 2), (5, 1), (10, 4), (20, 1), (50, 1), (100, 1), (200, 1), (500, 1)], [(1, 1), (5, 1), (10, 1), (20, 1), (50, 1), (100, 1), (200, 1), (500, 1)], 1), (2, 6, 4, 2, [(1, 3), (5, 2), (10, 3), (20, 3), (50, 2), (100, 2), (200, 2), (500, 2)], [(1, 2), (5, 2), (10, 2), (20, 2), (50, 2), (100, 2), (200, 2), (500, 2)], 2), (1, 7, 4, 2, [(1, 6), (5, 6), (10, 3), (20, 3), (50, 3), (100, 2), (200, 2), (500, 2)], [(1, 3), (5, 2), (10, 2), (20, 2), (50, 2), (100, 2), (200, 2), (500, 2)], 2), (8, 2, 2, 4, [(1, 4), (5, 4), (10, 5), (20, 4), (50, 4), (100, 4), (200, 4), (500, 4)], [(1, 4), (5, 4), (10, 5), (20, 5), (50, 4), (100, 4), (200, 4), (500, 4)], 4), (7, 3, 2, 3, [(1, 3), (5, 3), (10, 4), (20, 4), (50, 3), (100, 4), (200, 3), (500, 3)], [(1, 7), (5, 6), (10, 4), (20, 4), (50, 4), (100, 4), (200, 3), (500, 4)], 4), (0, 8, 4, 3, [(1, 4), (5, 4), (10, 4), (20, 5), (50, 3), (100, 3), (200, 3), (500, 3)], [(1, 4), (5, 3), (10, 3), (20, 3), (50, 3), (100, 3), (200, 3), (500, 3)], 3), (10, 1, 1, 4, [(1, 9), (5, 9), (10, 9), (20, 5), (50, 4), (100, 4), (200, 4), (500, 4)], [(1, 5), (5, 4), (10, 4), (20, 4), (50, 4), (100, 4), (200, 4), (500, 4)], 4), (9, 2, 1, 5, [(1, 8), (5, 8), (10, 9), (20, 7), (50, 6), (100, 5), (200, 5), (500, 5)], [(1, 9), (5, 6), (10, 5), (20, 5), (50, 5), (100, 5), (200, 5), (500, 5)], 5), (0, 8, 4, 2, [(1, 4), (5, 4), (10, 2), (20, 3), (50, 2), (100, 2), (200, 2), (500, 2)], [(1, 2), (5, 3), (10, 2), (20, 3), (50, 2), (100, 2), (200, 2), (500, 2)], 2), (8, 2, 2, 4, [(1, 6), (5, 6), (10, 6), (20, 5), (50, 5), (100, 4), (200, 5), (500, 5)], [(1, 5), (5, 5), (10, 5), (20, 4), (50, 5), (100, 5), (200, 5), (500, 4)], 4)]\n"
     ]
    }
   ],
   "source": [
    "\n",
    "results = []\n",
    "number_of_experiments = 50\n",
    "sample_sizes = [1,5,10,20,50,100,200,500]\n",
    "for i in range(number_of_experiments):\n",
    "    print(\"new experiment:\", i)\n",
    "    size_of_sample = 12\n",
    "    number_of_sap = random.randint(0,size_of_sample-1)\n",
    "    number_of_nean = ((size_of_sample-number_of_sap)*2)//3\n",
    "    number_of_denisovan = size_of_sample - number_of_sap - number_of_nean\n",
    "    print(number_of_sap, number_of_nean, number_of_denisovan)\n",
    "    sample = generate_sample(number_of_sap, number_of_nean, number_of_denisovan)\n",
    "    maximum_likelihood_calculator_on_sample = ExplainableMaximumLikelihoodCalculator(sample,\n",
    "                                                ref_neanderthal_file_names=neanderthals_reference_file_names,\n",
    "                                                ref_sapien_file_names=sapiens_reference_file_names,\n",
    "                                                ref_denisovan_file_names=denisovan_reference_file_names,\n",
    "                                                path_to_substitution_matrix=path_to_frequencies_table,\n",
    "                                                number_of_jobs=-1)\n",
    "    ground_truth = calculate_ground_truth(maximum_likelihood_calculator_on_sample, sample)\n",
    "    print(\"groundtruth:\", ground_truth[0])\n",
    "    print(\"groundtruth values:\", ground_truth[1])\n",
    "    if (ground_truth[0] == size_of_sample):\n",
    "        continue\n",
    "    shap_results = []\n",
    "    mc_results = []\n",
    "    for sample in sample_sizes:\n",
    "        \n",
    "        size_of_cf_monte_carlo = get_counter_factual_based_on_monte_carlo(maximum_likelihood_calculator_on_sample, sample)\n",
    "        mc_results.append((sample, size_of_cf_monte_carlo))\n",
    "        print(f\"counter_factual monte carlo on size {sample}:\", size_of_cf_monte_carlo)\n",
    "\n",
    "        size_of_cf_shap = get_counter_factual_based_on_shap(maximum_likelihood_calculator_on_sample, sample)\n",
    "        shap_results.append((sample, size_of_cf_shap))\n",
    "        print(f\"counter_factual shap on size {sample}:\", size_of_cf_shap)\n",
    "    \n",
    "    size_of_cf_based_on_a_s_d = get_cf_based_on_a_s_d(maximum_likelihood_calculator_on_sample)\n",
    "    print(\"counter_factualA_s_d:\", size_of_cf_based_on_a_s_d)\n",
    "\n",
    "    results.append((number_of_sap, number_of_nean, number_of_denisovan, ground_truth[0], shap_results, mc_results, size_of_cf_based_on_a_s_d))\n",
    "    print(results)\n",
    "    \n",
    "    "
   ]
  },
  {
   "cell_type": "markdown",
   "id": "fecdbcd4-840e-49ec-9612-2cab8ab038f8",
   "metadata": {},
   "source": [
    "## We will create datasets of 50%-25%-25% and will run shapley and CF1`"
   ]
  },
  {
   "cell_type": "code",
   "execution_count": null,
   "id": "feeb69e7-1332-4fe8-9cc6-7f6b86f80913",
   "metadata": {},
   "outputs": [],
   "source": [
    "results_a = [(6, 4, 3, 3, 3), (2, 8, 4, 4, 4), (8, 2, 5, 5, 5), (3, 7, 2, 2, 2), (6, 4, 1, 1, 1), (9, 1, 6, 6, 6), (8, 2, 4, 4, 4), (2, 8, 4, 4, 4), (8, 2, 1, 1, 1), (6, 4, 1, 1, 1), (5, 5, 2, 2, 2), (8, 2, 1, 1, 1), (8, 2, 6, 7, 7), (1, 9, 4, 7, 6), (2, 8, 10, 0, 0), (9, 1, 4, 4, 4), (5, 5, 3, 3, 3), (7, 3, 3, 6, 5), (0, 10, 3, 5, 7), (4, 6, 4, 5, 8)]\n",
    "\n",
    "results_b = [(5, 10, 3, 3, 3), (5, 10, 4, 4, 4), (15, 0, 6, 6, 6), (15, 0, 6, 6, 6), (13, 2, 6, 6, 6), (15, 0, 9, 9, 9), (7, 8, 1, 1, 1), (12, 3, 6, 7, 7), (9, 6, 3, 3, 3), (12, 3, 3, 3, 3), (11, 4, 4, 4, 4), (5, 10, 2, 2, 2), (6, 9, 2, 2, 2), (2, 13, 9, 12, 12), (5, 10, 6, 6, 6), (4, 11, 4, 4, 4), (10, 5, 4, 4, 4), (1, 14, 9, 12, 12), (15, 0, 9, 10, 12), (4, 11, 2, 2, 2)]\n",
    "\n",
    "results_c = [(12, 2, 1, 4, 4, 4), (8, 4, 3, 3, 3, 3), (2, 8, 5, 1, 1, 1), (12, 2, 1, 5, 5, 5), (15, 0, 0, 8, 8, 8), (5, 6, 4, 2, 2, 2), (11, 2, 2, 6, 6, 6), (6, 6, 3, 5, 5, 5), (5, 6, 4, 1, 1, 1), (7, 5, 3, 1, 1, 1), (14, 0, 1, 5, 5, 5), (7, 5, 3, 1, 1, 1), (13, 1, 1, 8, 8, 8), (8, 4, 3, 4, 4, 4), (4, 7, 4, 1, 1, 1), (15, 0, 0, 8, 8, 8), (2, 8, 5, 1, 1, 1), (1, 9, 5, 3, 3, 4), (13, 1, 1, 5, 5, 5), (14, 0, 1, 4, 4, 4)]\n",
    "\n",
    "results_d = [(14, 0, 1, 7, 7, 7), (3, 8, 4, 2, 2, 2), (4, 7, 4, 2, 2, 2), (12, 2, 1, 5, 5, 5), (1, 9, 5, 5, 5, 5), (9, 4, 2, 6, 6, 6), (3, 8, 4, 3, 3, 3), (2, 8, 5, 3, 3, 3), (6, 6, 3, 1, 1, 1), (15, 0, 0, 5, 5, 6), (8, 4, 3, 2, 2, 2), (6, 6, 3, 2, 2, 2), (6, 6, 3, 3, 3, 3), (1, 9, 5, 3, 3, 3), (7, 5, 3, 2, 2, 2), (1, 9, 5, 2, 2, 2), (11, 2, 2, 4, 4, 4), (8, 4, 3, 4, 4, 4), (4, 7, 4, 1, 1, 3), (15, 0, 0, 9, 9, 9)]\n",
    "\n",
    "results_e = [(12, 2, 1, 3, 3, 3), (9, 4, 2, 2, 2, 2), (11, 2, 2, 3, 3, 3), (8, 4, 3, 4, 4, 4), (5, 6, 4, 2, 2, 2), (13, 1, 1, 4, 4, 4), (15, 0, 0, 10, 11, 11), (2, 8, 5, 2, 2, 2), (12, 2, 1, 8, 9, 13), (3, 8, 4, 3, 3, 3), (0, 10, 5, 6, 7, 6), (13, 1, 1, 2, 2, 2), (0, 10, 5, 5, 5, 5), (1, 9, 5, 3, 3, 3), (4, 7, 4, 2, 2, 2), (3, 8, 4, 2, 2, 2), (2, 8, 5, 4, 4, 4), (11, 2, 2, 5, 5, 5), (15, 0, 0, 7, 7, 7), (9, 4, 2, 1, 1, 1)]"
   ]
  },
  {
   "cell_type": "code",
   "execution_count": null,
   "id": "dfa4eee5-f85c-4d97-8d72-fd6a7e585c13",
   "metadata": {},
   "outputs": [],
   "source": [
    "results_a = [(6, 4, 0, 3, 3, 3),\n",
    " (2, 8, 0, 4, 4, 4),\n",
    " (8, 2, 0, 5, 5, 5),\n",
    " (3, 7, 0, 2, 2, 2),\n",
    " (6, 4, 0, 1, 1, 1),\n",
    " (9, 1, 0, 6, 6, 6),\n",
    " (8, 2, 0, 4, 4, 4),\n",
    " (2, 8, 0, 4, 4, 4),\n",
    " (8, 2, 0, 1, 1, 1),\n",
    " (6, 4, 0, 1, 1, 1),\n",
    " (5, 5, 0, 2, 2, 2),\n",
    " (8, 2, 0, 1, 1, 1),\n",
    " (8, 2, 0, 6, 7, 7),\n",
    " (1, 9, 0, 4, 7, 6),\n",
    " (2, 8, 0, 0, 0, 0),\n",
    " (9, 1, 0, 4, 4, 4),\n",
    " (5, 5, 0, 3, 3, 3),\n",
    " (7, 3, 0, 3, 6, 5),\n",
    " (0, 10, 0, 3, 5, 7),\n",
    " (4, 6, 0, 4, 5, 8)]"
   ]
  },
  {
   "cell_type": "code",
   "execution_count": null,
   "id": "b18bded1-3d73-4137-a7f3-20e23f4f9b73",
   "metadata": {},
   "outputs": [],
   "source": [
    "results_b = [(t[0], t[1], 0, t[2], t[3], t[4]) for t in results_b]"
   ]
  },
  {
   "cell_type": "code",
   "execution_count": null,
   "id": "b014c7ea-9394-4059-8052-31949bae9792",
   "metadata": {},
   "outputs": [
    {
     "data": {
      "text/plain": [
       "[(5, 10, 0, 3, 3, 3),\n",
       " (5, 10, 0, 4, 4, 4),\n",
       " (15, 0, 0, 6, 6, 6),\n",
       " (15, 0, 0, 6, 6, 6),\n",
       " (13, 2, 0, 6, 6, 6),\n",
       " (15, 0, 0, 9, 9, 9),\n",
       " (7, 8, 0, 1, 1, 1),\n",
       " (12, 3, 0, 6, 7, 7),\n",
       " (9, 6, 0, 3, 3, 3),\n",
       " (12, 3, 0, 3, 3, 3),\n",
       " (11, 4, 0, 4, 4, 4),\n",
       " (5, 10, 0, 2, 2, 2),\n",
       " (6, 9, 0, 2, 2, 2),\n",
       " (2, 13, 0, 9, 12, 12),\n",
       " (5, 10, 0, 6, 6, 6),\n",
       " (4, 11, 0, 4, 4, 4),\n",
       " (10, 5, 0, 4, 4, 4),\n",
       " (1, 14, 0, 9, 12, 12),\n",
       " (15, 0, 0, 9, 10, 12),\n",
       " (4, 11, 0, 2, 2, 2)]"
      ]
     },
     "execution_count": 13,
     "metadata": {},
     "output_type": "execute_result"
    }
   ],
   "source": [
    "results_b"
   ]
  },
  {
   "cell_type": "code",
   "execution_count": 29,
   "id": "77fafd15-11f2-45a3-9674-c954ca0368d7",
   "metadata": {},
   "outputs": [],
   "source": [
    "all = results_a + results_b + results_c + results_d + results_e"
   ]
  },
  {
   "cell_type": "code",
   "execution_count": 30,
   "id": "df4e18ee-3cc4-4cc5-b0c4-7d1cb906483a",
   "metadata": {},
   "outputs": [],
   "source": [
    "ground = [i[3] for i in all]"
   ]
  },
  {
   "cell_type": "code",
   "execution_count": 31,
   "id": "20a01715-1b9c-483c-9e1c-d2a1c8a8eb10",
   "metadata": {},
   "outputs": [
    {
     "data": {
      "text/plain": [
       "3.84"
      ]
     },
     "execution_count": 31,
     "metadata": {},
     "output_type": "execute_result"
    }
   ],
   "source": [
    "np.mean(ground)"
   ]
  },
  {
   "cell_type": "code",
   "execution_count": 32,
   "id": "eed8b5b7-17cf-4482-9e84-d07e33560894",
   "metadata": {},
   "outputs": [],
   "source": [
    "diffs_shap = [i[4]-i[3] for i in all]\n",
    "diffs_a_s_d = [i[5]-i[3] for i in all]"
   ]
  },
  {
   "cell_type": "code",
   "execution_count": 35,
   "id": "66590287-3c54-4321-a0ab-7316c452a5a0",
   "metadata": {},
   "outputs": [
    {
     "data": {
      "text/plain": [
       "88"
      ]
     },
     "execution_count": 35,
     "metadata": {},
     "output_type": "execute_result"
    }
   ],
   "source": [
    "diffs_shap.count(0)"
   ]
  },
  {
   "cell_type": "code",
   "execution_count": 38,
   "id": "89248b9c-71d5-4a3e-9abd-3c1a4aa1c6e3",
   "metadata": {},
   "outputs": [
    {
     "data": {
      "image/png": "[encoded data removed]",
      "text/plain": [
       "<Figure size 640x480 with 1 Axes>"
      ]
     },
     "metadata": {},
     "output_type": "display_data"
    }
   ],
   "source": [
    "import matplotlib.pyplot as plt\n",
    "import numpy as np\n",
    "plt.rcParams.update({'font.size': 14})\n",
    "\n",
    "your_bins=10\n",
    "arr=plt.hist(diffs_shap,bins=your_bins, range=[0, 5])\n",
    "for i in range(your_bins):\n",
    "    if (i%2==0):\n",
    "        plt.text(arr[1][i],arr[0][i],str(arr[0][i]))\n",
    "plt.ylabel('Number of datasets')\n",
    "plt.xlabel('Distance from ground truth - SHAP');\n",
    "plt.title(\"Counterfactual accuracy\")\n",
    "\n",
    "plt.savefig(\"accuracy_of_counter_factual_shap.png\")"
   ]
  },
  {
   "cell_type": "code",
   "execution_count": 39,
   "id": "88c61c36-f3e1-4724-8d66-34d8e4d14cc2",
   "metadata": {},
   "outputs": [
    {
     "data": {
      "image/png": "[encoded data removed]",
      "text/plain": [
       "<Figure size 640x480 with 1 Axes>"
      ]
     },
     "metadata": {},
     "output_type": "display_data"
    }
   ],
   "source": [
    "\n",
    "plt.rcParams.update({'font.size': 14})\n",
    "\n",
    "your_bins=10\n",
    "arr=plt.hist(diffs_a_s_d,bins=your_bins, range=[0, 5])\n",
    "for i in range(your_bins):\n",
    "    if (i%2==0):\n",
    "        plt.text(arr[1][i],arr[0][i],str(arr[0][i]))\n",
    "plt.ylabel('Number of datasets')\n",
    "plt.xlabel('Distance from ground truth - a_s_d values');\n",
    "plt.title(\"Counterfactual accuracy\")\n",
    "\n",
    "plt.savefig(\"accuracy_of_counter_factual_a_s_d.png\")"
   ]
  },
  {
   "cell_type": "code",
   "execution_count": 9,
   "id": "9e959df9-fe9f-4a74-b281-3e34e8c8eee9",
   "metadata": {},
   "outputs": [
    {
     "data": {
      "text/plain": [
       "[(10,\n",
       "  1,\n",
       "  1,\n",
       "  6,\n",
       "  [(1, 10),\n",
       "   (5, 10),\n",
       "   (10, 10),\n",
       "   (20, 11),\n",
       "   (50, 7),\n",
       "   (100, 6),\n",
       "   (200, 6),\n",
       "   (500, 7)],\n",
       "  [(1, 9), (5, 6), (10, 8), (20, 6), (50, 7), (100, 7), (200, 7), (500, 7)],\n",
       "  7),\n",
       " (5,\n",
       "  4,\n",
       "  3,\n",
       "  3,\n",
       "  [(1, 5), (5, 5), (10, 5), (20, 5), (50, 3), (100, 3), (200, 3), (500, 3)],\n",
       "  [(1, 4), (5, 3), (10, 3), (20, 3), (50, 3), (100, 3), (200, 3), (500, 3)],\n",
       "  3),\n",
       " (2,\n",
       "  6,\n",
       "  4,\n",
       "  1,\n",
       "  [(1, 3), (5, 3), (10, 2), (20, 1), (50, 1), (100, 1), (200, 1), (500, 1)],\n",
       "  [(1, 3), (5, 1), (10, 1), (20, 1), (50, 1), (100, 1), (200, 1), (500, 1)],\n",
       "  1),\n",
       " (4,\n",
       "  5,\n",
       "  3,\n",
       "  2,\n",
       "  [(1, 3), (5, 2), (10, 2), (20, 2), (50, 2), (100, 2), (200, 2), (500, 2)],\n",
       "  [(1, 2), (5, 2), (10, 2), (20, 2), (50, 2), (100, 2), (200, 2), (500, 2)],\n",
       "  2),\n",
       " (9,\n",
       "  2,\n",
       "  1,\n",
       "  3,\n",
       "  [(1, 8), (5, 7), (10, 7), (20, 9), (50, 5), (100, 5), (200, 6), (500, 5)],\n",
       "  [(1, 4), (5, 6), (10, 5), (20, 5), (50, 4), (100, 4), (200, 4), (500, 5)],\n",
       "  6),\n",
       " (6,\n",
       "  4,\n",
       "  2,\n",
       "  2,\n",
       "  [(1, 5), (5, 5), (10, 3), (20, 2), (50, 2), (100, 2), (200, 2), (500, 2)],\n",
       "  [(1, 2), (5, 2), (10, 2), (20, 2), (50, 2), (100, 2), (200, 2), (500, 2)],\n",
       "  2),\n",
       " (6,\n",
       "  4,\n",
       "  2,\n",
       "  3,\n",
       "  [(1, 4), (5, 5), (10, 4), (20, 5), (50, 3), (100, 3), (200, 3), (500, 3)],\n",
       "  [(1, 3), (5, 3), (10, 4), (20, 3), (50, 3), (100, 3), (200, 3), (500, 3)],\n",
       "  3),\n",
       " (2,\n",
       "  6,\n",
       "  4,\n",
       "  3,\n",
       "  [(1, 6), (5, 6), (10, 6), (20, 5), (50, 3), (100, 3), (200, 3), (500, 3)],\n",
       "  [(1, 5), (5, 4), (10, 3), (20, 3), (50, 3), (100, 3), (200, 3), (500, 3)],\n",
       "  3),\n",
       " (0,\n",
       "  8,\n",
       "  4,\n",
       "  3,\n",
       "  [(1, 5), (5, 5), (10, 7), (20, 4), (50, 4), (100, 3), (200, 3), (500, 3)],\n",
       "  [(1, 3), (5, 3), (10, 3), (20, 3), (50, 4), (100, 3), (200, 3), (500, 3)],\n",
       "  3),\n",
       " (4,\n",
       "  5,\n",
       "  3,\n",
       "  4,\n",
       "  [(1, 4), (5, 4), (10, 4), (20, 6), (50, 4), (100, 4), (200, 4), (500, 4)],\n",
       "  [(1, 5), (5, 4), (10, 5), (20, 4), (50, 4), (100, 4), (200, 4), (500, 4)],\n",
       "  4),\n",
       " (3,\n",
       "  6,\n",
       "  3,\n",
       "  2,\n",
       "  [(1, 2), (5, 2), (10, 2), (20, 2), (50, 2), (100, 2), (200, 2), (500, 2)],\n",
       "  [(1, 4), (5, 2), (10, 2), (20, 2), (50, 2), (100, 2), (200, 2), (500, 2)],\n",
       "  2),\n",
       " (3,\n",
       "  6,\n",
       "  3,\n",
       "  4,\n",
       "  [(1, 8), (5, 6), (10, 8), (20, 8), (50, 4), (100, 4), (200, 4), (500, 4)],\n",
       "  [(1, 8), (5, 6), (10, 5), (20, 4), (50, 4), (100, 4), (200, 4), (500, 4)],\n",
       "  4),\n",
       " (5,\n",
       "  4,\n",
       "  3,\n",
       "  3,\n",
       "  [(1, 8), (5, 8), (10, 8), (20, 4), (50, 4), (100, 4), (200, 3), (500, 3)],\n",
       "  [(1, 5), (5, 5), (10, 5), (20, 4), (50, 4), (100, 3), (200, 3), (500, 3)],\n",
       "  3),\n",
       " (11,\n",
       "  0,\n",
       "  1,\n",
       "  3,\n",
       "  [(1, 11), (5, 11), (10, 7), (20, 8), (50, 4), (100, 4), (200, 3), (500, 3)],\n",
       "  [(1, 3), (5, 4), (10, 3), (20, 4), (50, 4), (100, 4), (200, 3), (500, 4)],\n",
       "  3),\n",
       " (4,\n",
       "  5,\n",
       "  3,\n",
       "  2,\n",
       "  [(1, 9), (5, 8), (10, 9), (20, 3), (50, 4), (100, 2), (200, 2), (500, 2)],\n",
       "  [(1, 4), (5, 2), (10, 2), (20, 2), (50, 2), (100, 2), (200, 2), (500, 2)],\n",
       "  2),\n",
       " (2,\n",
       "  6,\n",
       "  4,\n",
       "  3,\n",
       "  [(1, 5), (5, 6), (10, 3), (20, 4), (50, 3), (100, 3), (200, 3), (500, 3)],\n",
       "  [(1, 3), (5, 3), (10, 4), (20, 3), (50, 3), (100, 3), (200, 3), (500, 3)],\n",
       "  3),\n",
       " (0,\n",
       "  8,\n",
       "  4,\n",
       "  1,\n",
       "  [(1, 3), (5, 1), (10, 2), (20, 1), (50, 1), (100, 1), (200, 1), (500, 1)],\n",
       "  [(1, 1), (5, 1), (10, 1), (20, 1), (50, 1), (100, 1), (200, 1), (500, 1)],\n",
       "  1),\n",
       " (2,\n",
       "  6,\n",
       "  4,\n",
       "  2,\n",
       "  [(1, 6), (5, 6), (10, 6), (20, 2), (50, 2), (100, 2), (200, 2), (500, 2)],\n",
       "  [(1, 2), (5, 3), (10, 2), (20, 2), (50, 2), (100, 2), (200, 2), (500, 2)],\n",
       "  2),\n",
       " (5,\n",
       "  4,\n",
       "  3,\n",
       "  2,\n",
       "  [(1, 3), (5, 3), (10, 3), (20, 2), (50, 2), (100, 2), (200, 2), (500, 2)],\n",
       "  [(1, 3), (5, 3), (10, 2), (20, 2), (50, 2), (100, 2), (200, 2), (500, 2)],\n",
       "  2),\n",
       " (1,\n",
       "  7,\n",
       "  4,\n",
       "  1,\n",
       "  [(1, 4), (5, 1), (10, 1), (20, 1), (50, 1), (100, 1), (200, 1), (500, 1)],\n",
       "  [(1, 2), (5, 1), (10, 1), (20, 1), (50, 1), (100, 1), (200, 1), (500, 1)],\n",
       "  1),\n",
       " (9,\n",
       "  2,\n",
       "  1,\n",
       "  2,\n",
       "  [(1, 7), (5, 8), (10, 2), (20, 2), (50, 3), (100, 2), (200, 2), (500, 2)],\n",
       "  [(1, 2), (5, 2), (10, 2), (20, 2), (50, 2), (100, 2), (200, 2), (500, 2)],\n",
       "  2),\n",
       " (11,\n",
       "  0,\n",
       "  1,\n",
       "  7,\n",
       "  [(1, 10),\n",
       "   (5, 10),\n",
       "   (10, 9),\n",
       "   (20, 10),\n",
       "   (50, 10),\n",
       "   (100, 7),\n",
       "   (200, 7),\n",
       "   (500, 7)],\n",
       "  [(1, 10), (5, 7), (10, 7), (20, 7), (50, 7), (100, 7), (200, 7), (500, 7)],\n",
       "  7),\n",
       " (3,\n",
       "  6,\n",
       "  3,\n",
       "  1,\n",
       "  [(1, 7), (5, 8), (10, 1), (20, 1), (50, 1), (100, 1), (200, 1), (500, 1)],\n",
       "  [(1, 2), (5, 1), (10, 1), (20, 1), (50, 1), (100, 1), (200, 1), (500, 1)],\n",
       "  1),\n",
       " (7,\n",
       "  3,\n",
       "  2,\n",
       "  1,\n",
       "  [(1, 2), (5, 2), (10, 2), (20, 2), (50, 1), (100, 1), (200, 1), (500, 1)],\n",
       "  [(1, 1), (5, 1), (10, 1), (20, 1), (50, 1), (100, 1), (200, 1), (500, 1)],\n",
       "  1),\n",
       " (9,\n",
       "  2,\n",
       "  1,\n",
       "  2,\n",
       "  [(1, 3), (5, 4), (10, 3), (20, 2), (50, 2), (100, 2), (200, 2), (500, 2)],\n",
       "  [(1, 2), (5, 2), (10, 2), (20, 3), (50, 2), (100, 3), (200, 3), (500, 2)],\n",
       "  2),\n",
       " (8,\n",
       "  2,\n",
       "  2,\n",
       "  4,\n",
       "  [(1, 8), (5, 5), (10, 5), (20, 4), (50, 4), (100, 4), (200, 4), (500, 4)],\n",
       "  [(1, 4), (5, 6), (10, 4), (20, 4), (50, 4), (100, 4), (200, 4), (500, 4)],\n",
       "  4),\n",
       " (11,\n",
       "  0,\n",
       "  1,\n",
       "  8,\n",
       "  [(1, 10),\n",
       "   (5, 10),\n",
       "   (10, 10),\n",
       "   (20, 8),\n",
       "   (50, 11),\n",
       "   (100, 8),\n",
       "   (200, 8),\n",
       "   (500, 8)],\n",
       "  [(1, 10), (5, 9), (10, 9), (20, 9), (50, 8), (100, 8), (200, 8), (500, 8)],\n",
       "  8),\n",
       " (6,\n",
       "  4,\n",
       "  2,\n",
       "  1,\n",
       "  [(1, 1), (5, 1), (10, 1), (20, 1), (50, 1), (100, 1), (200, 1), (500, 1)],\n",
       "  [(1, 1), (5, 1), (10, 1), (20, 1), (50, 1), (100, 1), (200, 1), (500, 1)],\n",
       "  1),\n",
       " (3,\n",
       "  6,\n",
       "  3,\n",
       "  2,\n",
       "  [(1, 6), (5, 6), (10, 5), (20, 2), (50, 2), (100, 2), (200, 2), (500, 2)],\n",
       "  [(1, 2), (5, 2), (10, 2), (20, 2), (50, 2), (100, 2), (200, 2), (500, 2)],\n",
       "  2),\n",
       " (6,\n",
       "  4,\n",
       "  2,\n",
       "  2,\n",
       "  [(1, 10),\n",
       "   (5, 10),\n",
       "   (10, 10),\n",
       "   (20, 10),\n",
       "   (50, 3),\n",
       "   (100, 3),\n",
       "   (200, 3),\n",
       "   (500, 3)],\n",
       "  [(1, 10), (5, 3), (10, 4), (20, 4), (50, 3), (100, 3), (200, 3), (500, 3)],\n",
       "  4),\n",
       " (3,\n",
       "  6,\n",
       "  3,\n",
       "  1,\n",
       "  [(1, 1), (5, 1), (10, 1), (20, 1), (50, 1), (100, 1), (200, 1), (500, 1)],\n",
       "  [(1, 1), (5, 1), (10, 1), (20, 1), (50, 1), (100, 1), (200, 1), (500, 1)],\n",
       "  1),\n",
       " (8,\n",
       "  2,\n",
       "  2,\n",
       "  4,\n",
       "  [(1, 6), (5, 6), (10, 8), (20, 4), (50, 5), (100, 5), (200, 4), (500, 4)],\n",
       "  [(1, 6), (5, 6), (10, 5), (20, 4), (50, 5), (100, 5), (200, 5), (500, 4)],\n",
       "  4),\n",
       " (4,\n",
       "  5,\n",
       "  3,\n",
       "  1,\n",
       "  [(1, 3), (5, 1), (10, 1), (20, 1), (50, 1), (100, 1), (200, 1), (500, 1)],\n",
       "  [(1, 1), (5, 1), (10, 1), (20, 1), (50, 1), (100, 1), (200, 1), (500, 1)],\n",
       "  1),\n",
       " (7,\n",
       "  3,\n",
       "  2,\n",
       "  1,\n",
       "  [(1, 9), (5, 9), (10, 1), (20, 1), (50, 1), (100, 1), (200, 1), (500, 1)],\n",
       "  [(1, 1), (5, 1), (10, 1), (20, 1), (50, 1), (100, 1), (200, 1), (500, 1)],\n",
       "  1),\n",
       " (8,\n",
       "  2,\n",
       "  2,\n",
       "  3,\n",
       "  [(1, 7), (5, 7), (10, 7), (20, 7), (50, 3), (100, 3), (200, 3), (500, 3)],\n",
       "  [(1, 7), (5, 4), (10, 4), (20, 4), (50, 3), (100, 3), (200, 3), (500, 3)],\n",
       "  3),\n",
       " (8,\n",
       "  2,\n",
       "  2,\n",
       "  3,\n",
       "  [(1, 6), (5, 3), (10, 4), (20, 5), (50, 3), (100, 3), (200, 3), (500, 3)],\n",
       "  [(1, 4), (5, 4), (10, 3), (20, 3), (50, 3), (100, 3), (200, 3), (500, 3)],\n",
       "  3),\n",
       " (9,\n",
       "  2,\n",
       "  1,\n",
       "  6,\n",
       "  [(1, 7), (5, 8), (10, 9), (20, 7), (50, 10), (100, 8), (200, 7), (500, 8)],\n",
       "  [(1, 7), (5, 8), (10, 8), (20, 6), (50, 7), (100, 8), (200, 8), (500, 8)],\n",
       "  8),\n",
       " (2,\n",
       "  6,\n",
       "  4,\n",
       "  1,\n",
       "  [(1, 7), (5, 1), (10, 1), (20, 1), (50, 1), (100, 1), (200, 1), (500, 1)],\n",
       "  [(1, 2), (5, 1), (10, 1), (20, 1), (50, 1), (100, 1), (200, 1), (500, 1)],\n",
       "  1),\n",
       " (8,\n",
       "  2,\n",
       "  2,\n",
       "  5,\n",
       "  [(1, 8), (5, 7), (10, 8), (20, 10), (50, 9), (100, 5), (200, 6), (500, 7)],\n",
       "  [(1, 6), (5, 6), (10, 6), (20, 9), (50, 8), (100, 8), (200, 8), (500, 6)],\n",
       "  7),\n",
       " (11,\n",
       "  0,\n",
       "  1,\n",
       "  4,\n",
       "  [(1, 10), (5, 10), (10, 6), (20, 6), (50, 4), (100, 4), (200, 4), (500, 4)],\n",
       "  [(1, 4), (5, 5), (10, 5), (20, 5), (50, 5), (100, 4), (200, 4), (500, 4)],\n",
       "  4),\n",
       " (2,\n",
       "  6,\n",
       "  4,\n",
       "  1,\n",
       "  [(1, 2), (5, 1), (10, 4), (20, 1), (50, 1), (100, 1), (200, 1), (500, 1)],\n",
       "  [(1, 1), (5, 1), (10, 1), (20, 1), (50, 1), (100, 1), (200, 1), (500, 1)],\n",
       "  1),\n",
       " (2,\n",
       "  6,\n",
       "  4,\n",
       "  2,\n",
       "  [(1, 3), (5, 2), (10, 3), (20, 3), (50, 2), (100, 2), (200, 2), (500, 2)],\n",
       "  [(1, 2), (5, 2), (10, 2), (20, 2), (50, 2), (100, 2), (200, 2), (500, 2)],\n",
       "  2),\n",
       " (1,\n",
       "  7,\n",
       "  4,\n",
       "  2,\n",
       "  [(1, 6), (5, 6), (10, 3), (20, 3), (50, 3), (100, 2), (200, 2), (500, 2)],\n",
       "  [(1, 3), (5, 2), (10, 2), (20, 2), (50, 2), (100, 2), (200, 2), (500, 2)],\n",
       "  2),\n",
       " (8,\n",
       "  2,\n",
       "  2,\n",
       "  4,\n",
       "  [(1, 4), (5, 4), (10, 5), (20, 4), (50, 4), (100, 4), (200, 4), (500, 4)],\n",
       "  [(1, 4), (5, 4), (10, 5), (20, 5), (50, 4), (100, 4), (200, 4), (500, 4)],\n",
       "  4),\n",
       " (7,\n",
       "  3,\n",
       "  2,\n",
       "  3,\n",
       "  [(1, 3), (5, 3), (10, 4), (20, 4), (50, 3), (100, 4), (200, 3), (500, 3)],\n",
       "  [(1, 7), (5, 6), (10, 4), (20, 4), (50, 4), (100, 4), (200, 3), (500, 4)],\n",
       "  4),\n",
       " (0,\n",
       "  8,\n",
       "  4,\n",
       "  3,\n",
       "  [(1, 4), (5, 4), (10, 4), (20, 5), (50, 3), (100, 3), (200, 3), (500, 3)],\n",
       "  [(1, 4), (5, 3), (10, 3), (20, 3), (50, 3), (100, 3), (200, 3), (500, 3)],\n",
       "  3),\n",
       " (10,\n",
       "  1,\n",
       "  1,\n",
       "  4,\n",
       "  [(1, 9), (5, 9), (10, 9), (20, 5), (50, 4), (100, 4), (200, 4), (500, 4)],\n",
       "  [(1, 5), (5, 4), (10, 4), (20, 4), (50, 4), (100, 4), (200, 4), (500, 4)],\n",
       "  4),\n",
       " (9,\n",
       "  2,\n",
       "  1,\n",
       "  5,\n",
       "  [(1, 8), (5, 8), (10, 9), (20, 7), (50, 6), (100, 5), (200, 5), (500, 5)],\n",
       "  [(1, 9), (5, 6), (10, 5), (20, 5), (50, 5), (100, 5), (200, 5), (500, 5)],\n",
       "  5),\n",
       " (0,\n",
       "  8,\n",
       "  4,\n",
       "  2,\n",
       "  [(1, 4), (5, 4), (10, 2), (20, 3), (50, 2), (100, 2), (200, 2), (500, 2)],\n",
       "  [(1, 2), (5, 3), (10, 2), (20, 3), (50, 2), (100, 2), (200, 2), (500, 2)],\n",
       "  2),\n",
       " (8,\n",
       "  2,\n",
       "  2,\n",
       "  4,\n",
       "  [(1, 6), (5, 6), (10, 6), (20, 5), (50, 5), (100, 4), (200, 5), (500, 5)],\n",
       "  [(1, 5), (5, 5), (10, 5), (20, 4), (50, 5), (100, 5), (200, 5), (500, 4)],\n",
       "  4)]"
      ]
     },
     "execution_count": 9,
     "metadata": {},
     "output_type": "execute_result"
    }
   ],
   "source": [
    "results"
   ]
  },
  {
   "cell_type": "code",
   "execution_count": 13,
   "id": "3f0c711b-608b-4a21-88cc-79ea2ddb74d8",
   "metadata": {},
   "outputs": [],
   "source": [
    "to_plot = []\n",
    "for i in results:\n",
    "    gt = i[3]\n",
    "    shaps = i[4]\n",
    "    mcs = i[5]\n",
    "    a_s_d_val = i[6]\n",
    "    \n",
    "    for ind in range(len(shaps)):\n",
    "        cur_shap = shaps[ind]\n",
    "        size = cur_shap[0]\n",
    "        dist_shap = cur_shap[1] - gt\n",
    "        dist_a_s_d = a_s_d_val - gt\n",
    "        cur_mc = mcs[ind]\n",
    "        size_mc = cur_mc[0]\n",
    "        dist_mc = cur_mc[1] - gt\n",
    "        to_plot.append((size, dist_shap, dist_a_s_d, dist_mc))"
   ]
  },
  {
   "cell_type": "code",
   "execution_count": 14,
   "id": "5ddb6aa3-e12d-4b0d-9293-b0e870474492",
   "metadata": {},
   "outputs": [
    {
     "data": {
      "text/plain": [
       "[(1, 4, 1, 3),\n",
       " (5, 4, 1, 0),\n",
       " (10, 4, 1, 2),\n",
       " (20, 5, 1, 0),\n",
       " (50, 1, 1, 1),\n",
       " (100, 0, 1, 1),\n",
       " (200, 0, 1, 1),\n",
       " (500, 1, 1, 1),\n",
       " (1, 2, 0, 1),\n",
       " (5, 2, 0, 0),\n",
       " (10, 2, 0, 0),\n",
       " (20, 2, 0, 0),\n",
       " (50, 0, 0, 0),\n",
       " (100, 0, 0, 0),\n",
       " (200, 0, 0, 0),\n",
       " (500, 0, 0, 0),\n",
       " (1, 2, 0, 2),\n",
       " (5, 2, 0, 0),\n",
       " (10, 1, 0, 0),\n",
       " (20, 0, 0, 0),\n",
       " (50, 0, 0, 0),\n",
       " (100, 0, 0, 0),\n",
       " (200, 0, 0, 0),\n",
       " (500, 0, 0, 0),\n",
       " (1, 1, 0, 0),\n",
       " (5, 0, 0, 0),\n",
       " (10, 0, 0, 0),\n",
       " (20, 0, 0, 0),\n",
       " (50, 0, 0, 0),\n",
       " (100, 0, 0, 0),\n",
       " (200, 0, 0, 0),\n",
       " (500, 0, 0, 0),\n",
       " (1, 5, 3, 1),\n",
       " (5, 4, 3, 3),\n",
       " (10, 4, 3, 2),\n",
       " (20, 6, 3, 2),\n",
       " (50, 2, 3, 1),\n",
       " (100, 2, 3, 1),\n",
       " (200, 3, 3, 1),\n",
       " (500, 2, 3, 2),\n",
       " (1, 3, 0, 0),\n",
       " (5, 3, 0, 0),\n",
       " (10, 1, 0, 0),\n",
       " (20, 0, 0, 0),\n",
       " (50, 0, 0, 0),\n",
       " (100, 0, 0, 0),\n",
       " (200, 0, 0, 0),\n",
       " (500, 0, 0, 0),\n",
       " (1, 1, 0, 0),\n",
       " (5, 2, 0, 0),\n",
       " (10, 1, 0, 1),\n",
       " (20, 2, 0, 0),\n",
       " (50, 0, 0, 0),\n",
       " (100, 0, 0, 0),\n",
       " (200, 0, 0, 0),\n",
       " (500, 0, 0, 0),\n",
       " (1, 3, 0, 2),\n",
       " (5, 3, 0, 1),\n",
       " (10, 3, 0, 0),\n",
       " (20, 2, 0, 0),\n",
       " (50, 0, 0, 0),\n",
       " (100, 0, 0, 0),\n",
       " (200, 0, 0, 0),\n",
       " (500, 0, 0, 0),\n",
       " (1, 2, 0, 0),\n",
       " (5, 2, 0, 0),\n",
       " (10, 4, 0, 0),\n",
       " (20, 1, 0, 0),\n",
       " (50, 1, 0, 1),\n",
       " (100, 0, 0, 0),\n",
       " (200, 0, 0, 0),\n",
       " (500, 0, 0, 0),\n",
       " (1, 0, 0, 1),\n",
       " (5, 0, 0, 0),\n",
       " (10, 0, 0, 1),\n",
       " (20, 2, 0, 0),\n",
       " (50, 0, 0, 0),\n",
       " (100, 0, 0, 0),\n",
       " (200, 0, 0, 0),\n",
       " (500, 0, 0, 0),\n",
       " (1, 0, 0, 2),\n",
       " (5, 0, 0, 0),\n",
       " (10, 0, 0, 0),\n",
       " (20, 0, 0, 0),\n",
       " (50, 0, 0, 0),\n",
       " (100, 0, 0, 0),\n",
       " (200, 0, 0, 0),\n",
       " (500, 0, 0, 0),\n",
       " (1, 4, 0, 4),\n",
       " (5, 2, 0, 2),\n",
       " (10, 4, 0, 1),\n",
       " (20, 4, 0, 0),\n",
       " (50, 0, 0, 0),\n",
       " (100, 0, 0, 0),\n",
       " (200, 0, 0, 0),\n",
       " (500, 0, 0, 0),\n",
       " (1, 5, 0, 2),\n",
       " (5, 5, 0, 2),\n",
       " (10, 5, 0, 2),\n",
       " (20, 1, 0, 1),\n",
       " (50, 1, 0, 1),\n",
       " (100, 1, 0, 0),\n",
       " (200, 0, 0, 0),\n",
       " (500, 0, 0, 0),\n",
       " (1, 8, 0, 0),\n",
       " (5, 8, 0, 1),\n",
       " (10, 4, 0, 0),\n",
       " (20, 5, 0, 1),\n",
       " (50, 1, 0, 1),\n",
       " (100, 1, 0, 1),\n",
       " (200, 0, 0, 0),\n",
       " (500, 0, 0, 1),\n",
       " (1, 7, 0, 2),\n",
       " (5, 6, 0, 0),\n",
       " (10, 7, 0, 0),\n",
       " (20, 1, 0, 0),\n",
       " (50, 2, 0, 0),\n",
       " (100, 0, 0, 0),\n",
       " (200, 0, 0, 0),\n",
       " (500, 0, 0, 0),\n",
       " (1, 2, 0, 0),\n",
       " (5, 3, 0, 0),\n",
       " (10, 0, 0, 1),\n",
       " (20, 1, 0, 0),\n",
       " (50, 0, 0, 0),\n",
       " (100, 0, 0, 0),\n",
       " (200, 0, 0, 0),\n",
       " (500, 0, 0, 0),\n",
       " (1, 2, 0, 0),\n",
       " (5, 0, 0, 0),\n",
       " (10, 1, 0, 0),\n",
       " (20, 0, 0, 0),\n",
       " (50, 0, 0, 0),\n",
       " (100, 0, 0, 0),\n",
       " (200, 0, 0, 0),\n",
       " (500, 0, 0, 0),\n",
       " (1, 4, 0, 0),\n",
       " (5, 4, 0, 1),\n",
       " (10, 4, 0, 0),\n",
       " (20, 0, 0, 0),\n",
       " (50, 0, 0, 0),\n",
       " (100, 0, 0, 0),\n",
       " (200, 0, 0, 0),\n",
       " (500, 0, 0, 0),\n",
       " (1, 1, 0, 1),\n",
       " (5, 1, 0, 1),\n",
       " (10, 1, 0, 0),\n",
       " (20, 0, 0, 0),\n",
       " (50, 0, 0, 0),\n",
       " (100, 0, 0, 0),\n",
       " (200, 0, 0, 0),\n",
       " (500, 0, 0, 0),\n",
       " (1, 3, 0, 1),\n",
       " (5, 0, 0, 0),\n",
       " (10, 0, 0, 0),\n",
       " (20, 0, 0, 0),\n",
       " (50, 0, 0, 0),\n",
       " (100, 0, 0, 0),\n",
       " (200, 0, 0, 0),\n",
       " (500, 0, 0, 0),\n",
       " (1, 5, 0, 0),\n",
       " (5, 6, 0, 0),\n",
       " (10, 0, 0, 0),\n",
       " (20, 0, 0, 0),\n",
       " (50, 1, 0, 0),\n",
       " (100, 0, 0, 0),\n",
       " (200, 0, 0, 0),\n",
       " (500, 0, 0, 0),\n",
       " (1, 3, 0, 3),\n",
       " (5, 3, 0, 0),\n",
       " (10, 2, 0, 0),\n",
       " (20, 3, 0, 0),\n",
       " (50, 3, 0, 0),\n",
       " (100, 0, 0, 0),\n",
       " (200, 0, 0, 0),\n",
       " (500, 0, 0, 0),\n",
       " (1, 6, 0, 1),\n",
       " (5, 7, 0, 0),\n",
       " (10, 0, 0, 0),\n",
       " (20, 0, 0, 0),\n",
       " (50, 0, 0, 0),\n",
       " (100, 0, 0, 0),\n",
       " (200, 0, 0, 0),\n",
       " (500, 0, 0, 0),\n",
       " (1, 1, 0, 0),\n",
       " (5, 1, 0, 0),\n",
       " (10, 1, 0, 0),\n",
       " (20, 1, 0, 0),\n",
       " (50, 0, 0, 0),\n",
       " (100, 0, 0, 0),\n",
       " (200, 0, 0, 0),\n",
       " (500, 0, 0, 0),\n",
       " (1, 1, 0, 0),\n",
       " (5, 2, 0, 0),\n",
       " (10, 1, 0, 0),\n",
       " (20, 0, 0, 1),\n",
       " (50, 0, 0, 0),\n",
       " (100, 0, 0, 1),\n",
       " (200, 0, 0, 1),\n",
       " (500, 0, 0, 0),\n",
       " (1, 4, 0, 0),\n",
       " (5, 1, 0, 2),\n",
       " (10, 1, 0, 0),\n",
       " (20, 0, 0, 0),\n",
       " (50, 0, 0, 0),\n",
       " (100, 0, 0, 0),\n",
       " (200, 0, 0, 0),\n",
       " (500, 0, 0, 0),\n",
       " (1, 2, 0, 2),\n",
       " (5, 2, 0, 1),\n",
       " (10, 2, 0, 1),\n",
       " (20, 0, 0, 1),\n",
       " (50, 3, 0, 0),\n",
       " (100, 0, 0, 0),\n",
       " (200, 0, 0, 0),\n",
       " (500, 0, 0, 0),\n",
       " (1, 0, 0, 0),\n",
       " (5, 0, 0, 0),\n",
       " (10, 0, 0, 0),\n",
       " (20, 0, 0, 0),\n",
       " (50, 0, 0, 0),\n",
       " (100, 0, 0, 0),\n",
       " (200, 0, 0, 0),\n",
       " (500, 0, 0, 0),\n",
       " (1, 4, 0, 0),\n",
       " (5, 4, 0, 0),\n",
       " (10, 3, 0, 0),\n",
       " (20, 0, 0, 0),\n",
       " (50, 0, 0, 0),\n",
       " (100, 0, 0, 0),\n",
       " (200, 0, 0, 0),\n",
       " (500, 0, 0, 0),\n",
       " (1, 8, 2, 8),\n",
       " (5, 8, 2, 1),\n",
       " (10, 8, 2, 2),\n",
       " (20, 8, 2, 2),\n",
       " (50, 1, 2, 1),\n",
       " (100, 1, 2, 1),\n",
       " (200, 1, 2, 1),\n",
       " (500, 1, 2, 1),\n",
       " (1, 0, 0, 0),\n",
       " (5, 0, 0, 0),\n",
       " (10, 0, 0, 0),\n",
       " (20, 0, 0, 0),\n",
       " (50, 0, 0, 0),\n",
       " (100, 0, 0, 0),\n",
       " (200, 0, 0, 0),\n",
       " (500, 0, 0, 0),\n",
       " (1, 2, 0, 2),\n",
       " (5, 2, 0, 2),\n",
       " (10, 4, 0, 1),\n",
       " (20, 0, 0, 0),\n",
       " (50, 1, 0, 1),\n",
       " (100, 1, 0, 1),\n",
       " (200, 0, 0, 1),\n",
       " (500, 0, 0, 0),\n",
       " (1, 2, 0, 0),\n",
       " (5, 0, 0, 0),\n",
       " (10, 0, 0, 0),\n",
       " (20, 0, 0, 0),\n",
       " (50, 0, 0, 0),\n",
       " (100, 0, 0, 0),\n",
       " (200, 0, 0, 0),\n",
       " (500, 0, 0, 0),\n",
       " (1, 8, 0, 0),\n",
       " (5, 8, 0, 0),\n",
       " (10, 0, 0, 0),\n",
       " (20, 0, 0, 0),\n",
       " (50, 0, 0, 0),\n",
       " (100, 0, 0, 0),\n",
       " (200, 0, 0, 0),\n",
       " (500, 0, 0, 0),\n",
       " (1, 4, 0, 4),\n",
       " (5, 4, 0, 1),\n",
       " (10, 4, 0, 1),\n",
       " (20, 4, 0, 1),\n",
       " (50, 0, 0, 0),\n",
       " (100, 0, 0, 0),\n",
       " (200, 0, 0, 0),\n",
       " (500, 0, 0, 0),\n",
       " (1, 3, 0, 1),\n",
       " (5, 0, 0, 1),\n",
       " (10, 1, 0, 0),\n",
       " (20, 2, 0, 0),\n",
       " (50, 0, 0, 0),\n",
       " (100, 0, 0, 0),\n",
       " (200, 0, 0, 0),\n",
       " (500, 0, 0, 0),\n",
       " (1, 1, 2, 1),\n",
       " (5, 2, 2, 2),\n",
       " (10, 3, 2, 2),\n",
       " (20, 1, 2, 0),\n",
       " (50, 4, 2, 1),\n",
       " (100, 2, 2, 2),\n",
       " (200, 1, 2, 2),\n",
       " (500, 2, 2, 2),\n",
       " (1, 6, 0, 1),\n",
       " (5, 0, 0, 0),\n",
       " (10, 0, 0, 0),\n",
       " (20, 0, 0, 0),\n",
       " (50, 0, 0, 0),\n",
       " (100, 0, 0, 0),\n",
       " (200, 0, 0, 0),\n",
       " (500, 0, 0, 0),\n",
       " (1, 3, 2, 1),\n",
       " (5, 2, 2, 1),\n",
       " (10, 3, 2, 1),\n",
       " (20, 5, 2, 4),\n",
       " (50, 4, 2, 3),\n",
       " (100, 0, 2, 3),\n",
       " (200, 1, 2, 3),\n",
       " (500, 2, 2, 1),\n",
       " (1, 6, 0, 0),\n",
       " (5, 6, 0, 1),\n",
       " (10, 2, 0, 1),\n",
       " (20, 2, 0, 1),\n",
       " (50, 0, 0, 1),\n",
       " (100, 0, 0, 0),\n",
       " (200, 0, 0, 0),\n",
       " (500, 0, 0, 0),\n",
       " (1, 1, 0, 0),\n",
       " (5, 0, 0, 0),\n",
       " (10, 3, 0, 0),\n",
       " (20, 0, 0, 0),\n",
       " (50, 0, 0, 0),\n",
       " (100, 0, 0, 0),\n",
       " (200, 0, 0, 0),\n",
       " (500, 0, 0, 0),\n",
       " (1, 1, 0, 0),\n",
       " (5, 0, 0, 0),\n",
       " (10, 1, 0, 0),\n",
       " (20, 1, 0, 0),\n",
       " (50, 0, 0, 0),\n",
       " (100, 0, 0, 0),\n",
       " (200, 0, 0, 0),\n",
       " (500, 0, 0, 0),\n",
       " (1, 4, 0, 1),\n",
       " (5, 4, 0, 0),\n",
       " (10, 1, 0, 0),\n",
       " (20, 1, 0, 0),\n",
       " (50, 1, 0, 0),\n",
       " (100, 0, 0, 0),\n",
       " (200, 0, 0, 0),\n",
       " (500, 0, 0, 0),\n",
       " (1, 0, 0, 0),\n",
       " (5, 0, 0, 0),\n",
       " (10, 1, 0, 1),\n",
       " (20, 0, 0, 1),\n",
       " (50, 0, 0, 0),\n",
       " (100, 0, 0, 0),\n",
       " (200, 0, 0, 0),\n",
       " (500, 0, 0, 0),\n",
       " (1, 0, 1, 4),\n",
       " (5, 0, 1, 3),\n",
       " (10, 1, 1, 1),\n",
       " (20, 1, 1, 1),\n",
       " (50, 0, 1, 1),\n",
       " (100, 1, 1, 1),\n",
       " (200, 0, 1, 0),\n",
       " (500, 0, 1, 1),\n",
       " (1, 1, 0, 1),\n",
       " (5, 1, 0, 0),\n",
       " (10, 1, 0, 0),\n",
       " (20, 2, 0, 0),\n",
       " (50, 0, 0, 0),\n",
       " (100, 0, 0, 0),\n",
       " (200, 0, 0, 0),\n",
       " (500, 0, 0, 0),\n",
       " (1, 5, 0, 1),\n",
       " (5, 5, 0, 0),\n",
       " (10, 5, 0, 0),\n",
       " (20, 1, 0, 0),\n",
       " (50, 0, 0, 0),\n",
       " (100, 0, 0, 0),\n",
       " (200, 0, 0, 0),\n",
       " (500, 0, 0, 0),\n",
       " (1, 3, 0, 4),\n",
       " (5, 3, 0, 1),\n",
       " (10, 4, 0, 0),\n",
       " (20, 2, 0, 0),\n",
       " (50, 1, 0, 0),\n",
       " (100, 0, 0, 0),\n",
       " (200, 0, 0, 0),\n",
       " (500, 0, 0, 0),\n",
       " (1, 2, 0, 0),\n",
       " (5, 2, 0, 1),\n",
       " (10, 0, 0, 0),\n",
       " (20, 1, 0, 1),\n",
       " (50, 0, 0, 0),\n",
       " (100, 0, 0, 0),\n",
       " (200, 0, 0, 0),\n",
       " (500, 0, 0, 0),\n",
       " (1, 2, 0, 1),\n",
       " (5, 2, 0, 1),\n",
       " (10, 2, 0, 1),\n",
       " (20, 1, 0, 0),\n",
       " (50, 1, 0, 1),\n",
       " (100, 0, 0, 1),\n",
       " (200, 1, 0, 1),\n",
       " (500, 1, 0, 0)]"
      ]
     },
     "execution_count": 14,
     "metadata": {},
     "output_type": "execute_result"
    }
   ],
   "source": [
    "to_plot"
   ]
  },
  {
   "cell_type": "code",
   "execution_count": 17,
   "id": "6a6c350a-517d-4392-8908-232b8ec70c15",
   "metadata": {},
   "outputs": [],
   "source": [
    "plotting = []\n",
    "for i in sample_sizes:\n",
    "    avg_list_shap = [k[1] for k in to_plot if k[0] == i]\n",
    "\n",
    "    avg_list_a_s_d = [k[2] for k in to_plot if k[0] == i]\n",
    "    avg_list_mc = [k[3] for k in to_plot if k[0] == i]\n",
    "    \n",
    "    plotting.append((i, np.mean(avg_list_shap), np.mean(avg_list_a_s_d), np.mean(avg_list_mc)))"
   ]
  },
  {
   "cell_type": "code",
   "execution_count": 18,
   "id": "ec9ea3c4-20d1-4e23-8fc9-d80c12c799bc",
   "metadata": {},
   "outputs": [
    {
     "data": {
      "text/plain": [
       "[(1, 2.94, 0.22, 1.16),\n",
       " (5, 2.52, 0.22, 0.58),\n",
       " (10, 2.0, 0.22, 0.44),\n",
       " (20, 1.36, 0.22, 0.34),\n",
       " (50, 0.56, 0.22, 0.28),\n",
       " (100, 0.18, 0.22, 0.26),\n",
       " (200, 0.14, 0.22, 0.22),\n",
       " (500, 0.18, 0.22, 0.18)]"
      ]
     },
     "execution_count": 18,
     "metadata": {},
     "output_type": "execute_result"
    }
   ],
   "source": [
    "plotting"
   ]
  },
  {
   "cell_type": "code",
   "execution_count": 19,
   "id": "ae3f4782-d6e2-4d79-831a-f33445a3e349",
   "metadata": {},
   "outputs": [
    {
     "data": {
      "text/plain": [
       "<Figure size 640x480 with 0 Axes>"
      ]
     },
     "metadata": {},
     "output_type": "display_data"
    },
    {
     "data": {
      "image/png": "[encoded data removed]",
      "text/plain": [
       "<Figure size 640x480 with 1 Axes>"
      ]
     },
     "metadata": {},
     "output_type": "display_data"
    }
   ],
   "source": [
    "import numpy as np\n",
    "import matplotlib.pyplot as plt\n",
    "plt.figure() \n",
    "plt.figure().clear()\n",
    "plt.rcParams.update({'font.size': 14})\n",
    "plt.plot([i[0] for i in plotting], [i[1] for i in plotting], label=\"SHAP\")\n",
    "plt.plot([i[0] for i in plotting], [i[2] for i in plotting], label=\"A_s_d\")\n",
    "plt.plot([i[0] for i in plotting], [i[3] for i in plotting], label=\"MC sampling\")\n",
    "plt.title(\"Average distance from ground truth\")\n",
    "plt.xlabel(\"Number of samples\")\n",
    "plt.ylabel(\"Distance from ground truth CF\")\n",
    "plt.xlim(left=0)\n",
    "plt.ylim(bottom=0)\n",
    "plt.legend()\n",
    "plt.savefig(\"counter_factual_accuracy.png\")\n",
    "plt.show()"
   ]
  },
  {
   "cell_type": "code",
   "execution_count": null,
   "id": "38466096-ad73-4a63-a8d4-51b57d889b6f",
   "metadata": {},
   "outputs": [],
   "source": []
  }
 ],
 "metadata": {
  "kernelspec": {
   "display_name": "Python 3 (ipykernel)",
   "language": "python",
   "name": "python3"
  },
  "language_info": {
   "codemirror_mode": {
    "name": "ipython",
    "version": 3
   },
   "file_extension": ".py",
   "mimetype": "text/x-python",
   "name": "python",
   "nbconvert_exporter": "python",
   "pygments_lexer": "ipython3",
   "version": "3.8.8"
  }
 },
 "nbformat": 4,
 "nbformat_minor": 5
}
