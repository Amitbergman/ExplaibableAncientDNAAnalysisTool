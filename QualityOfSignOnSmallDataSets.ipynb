{
 "cells": [
  {
   "cell_type": "code",
   "execution_count": 1,
   "id": "4ef14012-c44b-4221-84c1-16a13c0db2f7",
   "metadata": {},
   "outputs": [
    {
     "name": "stderr",
     "output_type": "stream",
     "text": [
      "2023-08-11 07:25:59.143540: I tensorflow/core/platform/cpu_feature_guard.cc:193] This TensorFlow binary is optimized with oneAPI Deep Neural Network Library (oneDNN) to use the following CPU instructions in performance-critical operations:  AVX2 AVX512F AVX512_VNNI FMA\n",
      "To enable them in other operations, rebuild TensorFlow with the appropriate compiler flags.\n",
      "2023-08-11 07:25:59.422507: I tensorflow/core/util/util.cc:169] oneDNN custom operations are on. You may see slightly different numerical results due to floating-point round-off errors from different computation orders. To turn them off, set the environment variable `TF_ENABLE_ONEDNN_OPTS=0`.\n",
      "2023-08-11 07:25:59.483351: E tensorflow/stream_executor/cuda/cuda_blas.cc:2981] Unable to register cuBLAS factory: Attempting to register factory for plugin cuBLAS when one has already been registered\n",
      "2023-08-11 07:26:00.489095: W tensorflow/stream_executor/platform/default/dso_loader.cc:64] Could not load dynamic library 'libnvinfer.so.7'; dlerror: libnvinfer.so.7: cannot open shared object file: No such file or directory\n",
      "2023-08-11 07:26:00.489218: W tensorflow/stream_executor/platform/default/dso_loader.cc:64] Could not load dynamic library 'libnvinfer_plugin.so.7'; dlerror: libnvinfer_plugin.so.7: cannot open shared object file: No such file or directory\n",
      "2023-08-11 07:26:00.489226: W tensorflow/compiler/tf2tensorrt/utils/py_utils.cc:38] TF-TRT Warning: Cannot dlopen some TensorRT libraries. If you would like to use Nvidia GPU with TensorRT, please make sure the missing libraries mentioned above are installed properly.\n"
     ]
    }
   ],
   "source": [
    "def warn(*args, **kwargs):\n",
    "    pass\n",
    "import warnings\n",
    "warnings.warn = warn\n",
    "import seaborn as sns\n",
    "from ExplainableMaximumLikelihoodCalculator import ExplainableMaximumLikelihoodCalculator\n",
    "import pysam\n",
    "from Bio import SeqIO, Seq, SeqRecord, pairwise2\n",
    "from Bio.pairwise2 import format_alignment\n",
    "from LoadDataUtils import getListOfReadsFromBamFile, getListOfReadsFromFastaFile\n",
    "import matplotlib.pyplot as plt\n",
    "import numpy as np\n",
    "import pandas as pd\n",
    "import random\n",
    "import math\n",
    "import shap\n",
    "from scipy.stats import chisquare\n",
    "from scipy.special import rel_entr\n",
    "fileNameSapiens =  \"data/simulatedData/human_chinese_AF346973_500samples.fas\" #File that contains 500 reads from homo sapiens\n",
    "fileNameNeanderthals =  \"data/simulatedData/Neanderthal_Goyet_KX198085_500samples.fas\" #File that contains 500 reads from neanderthal\n",
    "fileNameDenisovans =  \"data/simulatedData/denisova_kx663333_500samples.fas\" #File that contains 500 reads from denisovan\n",
    "neanderthals_500_generated = getListOfReadsFromFastaFile(fileNameNeanderthals)\n",
    "sapiens_500_generated = getListOfReadsFromFastaFile(fileNameSapiens)\n",
    "denisovan_500_samples = getListOfReadsFromFastaFile(fileNameDenisovans)\n",
    "path_to_frequencies_table = \"data/substitution_matrix.tsv\""
   ]
  },
  {
   "cell_type": "code",
   "execution_count": 2,
   "id": "873cba0c-0d88-439b-9cad-b078e79be7a4",
   "metadata": {},
   "outputs": [],
   "source": [
    "sapiens_reference_file_names = [\n",
    "                    \"data/reference_files/human_AF346981_French.fa\",\n",
    "                     \"data/reference_files/human_AY195760_Korea.fa\",\n",
    "                      \"data/reference_files/human_AY882416_Ethiopia.fa\",\n",
    "                      \"data/reference_files/human_AY963586_Italian.fa\",\n",
    "                      \"data/reference_files/human_AY195781_Caucasian.fa\",\n",
    "                      \"data/reference_files/human_AY195757_Iraqi-Israeli.fa\",\n",
    "                      \"data/reference_files/human_AY195749_NativeAmerican.fa\"]\n",
    "neanderthals_reference_file_names = [\n",
    "                            \"data/reference_files/neanderthal_mezmaiskaya1_FM865411.fa\",\n",
    "                           \"data/reference_files/Neanderthal_Altai_KC879692.fa\",\n",
    "                           \"data/reference_files/Neanderthal_Denisova11_full_mtDNA_KU131206.fa\",\n",
    "                           \"data/reference_files/Neanderthal_Spy_94a_MG025538.fa\",\n",
    "                            \"data/reference_files/Neanderthal_Vindija33.16_AM948965.fa\",\n",
    "                            \"data/reference_files/Neanderthal_Vindija33.19_KJ533545.fa\"]\n",
    "denisovan_reference_file_names = [  \n",
    "                        \"data/reference_files/Denisova_MT576653.1.fa\",\n",
    "                        \"data/reference_files/Denisova_MT576652.1.fa\",\n",
    "                        \"data/reference_files/Denisova_4_FR695060.fa\",\n",
    "                        \"data/reference_files/Denisova_8_KT780370.fa\",\n",
    "                        \"data/reference_files/Denisova_manual_phalanx_NC_013993.fa\",\n",
    "                        \"data/reference_files/Denisova_MT576651.1.fa\"]"
   ]
  },
  {
   "cell_type": "code",
   "execution_count": 3,
   "id": "de9243a7-ee40-458b-86e2-56743f43917b",
   "metadata": {},
   "outputs": [],
   "source": [
    "def generate_sample(sap, nean, den):\n",
    "    list_before =  list(np.random.choice(sapiens_500_generated, sap)) + list(np.random.choice(neanderthals_500_generated, nean)) + list(np.random.choice(denisovan_500_samples, den))\n",
    "    l = []\n",
    "    for i in list_before:\n",
    "        l.append(str(i))\n",
    "    return l"
   ]
  },
  {
   "cell_type": "code",
   "execution_count": 4,
   "id": "66c5d7a3-f884-4ede-9cee-d855af7dada0",
   "metadata": {},
   "outputs": [],
   "source": [
    "sapiens = 5\n",
    "neanderthals = 5\n",
    "denisovans = 0\n",
    "\n",
    "dataset_1 = generate_sample(sapiens, neanderthals, denisovans)"
   ]
  },
  {
   "cell_type": "code",
   "execution_count": 5,
   "id": "4f365286-d0e6-48f0-bd6b-6f69738698bb",
   "metadata": {},
   "outputs": [
    {
     "name": "stdout",
     "output_type": "stream",
     "text": [
      "\u001b[34mLoading sequences and calculating alignments to all references, this might take a while. Number of reads: \u001b[0m 10\n",
      "start working on read number 0\n"
     ]
    }
   ],
   "source": [
    "maximum_likelihood_calculator_d_1 = ExplainableMaximumLikelihoodCalculator(dataset_1,\n",
    "                                                    ref_neanderthal_file_names=neanderthals_reference_file_names,\n",
    "                                                    ref_sapien_file_names=sapiens_reference_file_names,\n",
    "                                                    ref_denisovan_file_names=denisovan_reference_file_names,\n",
    "                                                    path_to_substitution_matrix=path_to_frequencies_table,\n",
    "                                                    number_of_jobs=-1)"
   ]
  },
  {
   "cell_type": "code",
   "execution_count": 6,
   "id": "0109d881-bd5d-4e25-ac1b-1dad4fb89be6",
   "metadata": {},
   "outputs": [
    {
     "data": {
      "text/html": [
       "<div>\n",
       "<style scoped>\n",
       "    .dataframe tbody tr th:only-of-type {\n",
       "        vertical-align: middle;\n",
       "    }\n",
       "\n",
       "    .dataframe tbody tr th {\n",
       "        vertical-align: top;\n",
       "    }\n",
       "\n",
       "    .dataframe thead th {\n",
       "        text-align: right;\n",
       "    }\n",
       "</style>\n",
       "<table border=\"1\" class=\"dataframe\">\n",
       "  <thead>\n",
       "    <tr style=\"text-align: right;\">\n",
       "      <th></th>\n",
       "      <th>Homo Sapiens</th>\n",
       "      <th>Neanderthals</th>\n",
       "      <th>Denisovans</th>\n",
       "    </tr>\n",
       "  </thead>\n",
       "  <tbody>\n",
       "    <tr>\n",
       "      <th>Estimation</th>\n",
       "      <td>0.475</td>\n",
       "      <td>0.525</td>\n",
       "      <td>0.0</td>\n",
       "    </tr>\n",
       "  </tbody>\n",
       "</table>\n",
       "</div>"
      ],
      "text/plain": [
       "            Homo Sapiens  Neanderthals  Denisovans\n",
       "Estimation         0.475         0.525         0.0"
      ]
     },
     "execution_count": 6,
     "metadata": {},
     "output_type": "execute_result"
    }
   ],
   "source": [
    "maximum_likelihood_calculator_d_1.estimate_species_proportions()"
   ]
  },
  {
   "cell_type": "code",
   "execution_count": 7,
   "id": "c68029f8-cfae-41dc-83be-2bae9bc4488c",
   "metadata": {},
   "outputs": [],
   "source": [
    "from itertools import combinations\n",
    "\n",
    "def find_all_subsets(group):\n",
    "    all_subsets = []\n",
    "    n = len(group)\n",
    "    \n",
    "    for r in range(n + 1):\n",
    "        subsets_r = combinations(group, r)\n",
    "        all_subsets.extend(list(subsets_r))\n",
    "        \n",
    "    return all_subsets"
   ]
  },
  {
   "cell_type": "code",
   "execution_count": 8,
   "id": "3304fb46-269e-4290-9cb8-993794479218",
   "metadata": {},
   "outputs": [],
   "source": [
    "def calculate_shapley_values_for_datum(data_point, length_of_data, ml_calculator):\n",
    "    indexes_without_datum = [i for i in range(length_of_data) if i != data_point]\n",
    "    all_subsets = find_all_subsets(indexes_without_datum)\n",
    "    sum_over_all_subsets = 0 \n",
    "    for G in all_subsets:\n",
    "        g_with = [i for i in G]\n",
    "        g_with.append(data_point)\n",
    "        with_datum = ml_calculator.calc_maximum_likelihood_on_subset(subset_of_indexes=g_with).values[0]\n",
    "        without_datum = ml_calculator.calc_maximum_likelihood_on_subset(subset_of_indexes=G).values[0]\n",
    "        with_minus_without = with_datum - without_datum\n",
    "        multiplier = np.math.factorial(len(G)) * np.math.factorial(length_of_data - len(G) - 1)\n",
    "        value_for_sum = with_minus_without * multiplier \n",
    "        sum_over_all_subsets += value_for_sum\n",
    "    shapleys = sum_over_all_subsets / np.math.factorial(length_of_data)\n",
    "    return  shapleys"
   ]
  },
  {
   "cell_type": "code",
   "execution_count": 9,
   "id": "27ece109-c761-40b3-97c8-6f940639252c",
   "metadata": {},
   "outputs": [
    {
     "name": "stdout",
     "output_type": "stream",
     "text": [
      "0\n",
      "1\n",
      "2\n",
      "3\n",
      "4\n",
      "5\n",
      "6\n",
      "7\n",
      "8\n",
      "9\n"
     ]
    }
   ],
   "source": [
    "ground_truth_shapleys = []\n",
    "for i in range(len(dataset_1)):\n",
    "    print(i)\n",
    "    ground_truth_shapleys.append(calculate_shapley_values_for_datum(i,len(dataset_1),maximum_likelihood_calculator_d_1))"
   ]
  },
  {
   "cell_type": "code",
   "execution_count": 15,
   "id": "59f8a6b7-995d-4a26-8520-408842e56c92",
   "metadata": {},
   "outputs": [
    {
     "name": "stdout",
     "output_type": "stream",
     "text": [
      "1\n"
     ]
    },
    {
     "data": {
      "application/vnd.jupyter.widget-view+json": {
       "model_id": "694a11193b184cfba1a43c40575fb42d",
       "version_major": 2,
       "version_minor": 0
      },
      "text/plain": [
       "  0%|          | 0/1 [00:00<?, ?it/s]"
      ]
     },
     "metadata": {},
     "output_type": "display_data"
    },
    {
     "name": "stdout",
     "output_type": "stream",
     "text": [
      "1\n",
      "1022\n",
      "\u001b[32mStart working on read number 0 in processId 353\u001b[0m\n",
      "\u001b[32mStart working on read number 1 in processId 354\u001b[0m\n",
      "\u001b[32mStart working on read number 2 in processId 355\u001b[0m\n",
      "\u001b[32mStart working on read number 3 in processId 356\u001b[0m\u001b[32mStart working on read number 4 in processId 357\u001b[0m\n",
      "\u001b[32mStart working on read number 5 in processId 358\u001b[0m\n",
      "\u001b[32mStart working on read number 6 in processId 359\u001b[0m\n",
      "\n",
      "\u001b[32mStart working on read number 7 in processId 360\u001b[0m\n",
      "\u001b[32mStart working on read number 8 in processId 355\u001b[0m\n",
      "\u001b[32mStart working on read number 9 in processId 357\u001b[0m\n"
     ]
    }
   ],
   "source": []
  },
  {
   "cell_type": "code",
   "execution_count": 55,
   "id": "4ce7ee0c-e11a-4c04-8a14-a859e76f7b87",
   "metadata": {},
   "outputs": [
    {
     "data": {
      "text/plain": [
       "[array([[ 0.    , -0.0388, -0.0285,  0.4634,  0.    , -0.2026,  0.0007,\n",
       "         -0.2106,  0.004 ,  0.    ]]),\n",
       " array([[ 0.    ,  0.0388,  0.0285, -0.4634,  0.    ,  0.2026, -0.0007,\n",
       "          0.2106, -0.004 ,  0.    ]]),\n",
       " array([[0., 0., 0., 0., 0., 0., 0., 0., 0., 0.]])]"
      ]
     },
     "execution_count": 55,
     "metadata": {},
     "output_type": "execute_result"
    }
   ],
   "source": [
    "shapley_values_monte_carlo"
   ]
  },
  {
   "cell_type": "code",
   "execution_count": 16,
   "id": "bbc70825-c331-4ac3-8c55-8194a1e62535",
   "metadata": {},
   "outputs": [
    {
     "data": {
      "text/plain": [
       "[array([-0.0255    ,  0.07061111, -0.04511111]),\n",
       " array([-0.08596627,  0.01996627,  0.066     ]),\n",
       " array([-0.0830496 ,  0.12816071, -0.04511111]),\n",
       " array([ 0.5182004 , -0.47308929, -0.04511111]),\n",
       " array([-0.01111508,  0.05622619, -0.04511111]),\n",
       " array([-0.2142996 ,  0.25941071, -0.04511111]),\n",
       " array([-0.02897222,  0.07408333, -0.04511111]),\n",
       " array([-0.2142996 ,  0.25941071, -0.04511111]),\n",
       " array([ 0.12611706, -0.08100595, -0.04511111]),\n",
       " array([-0.01111508,  0.05622619, -0.04511111])]"
      ]
     },
     "execution_count": 16,
     "metadata": {},
     "output_type": "execute_result"
    }
   ],
   "source": [
    "ground_truth_shapleys"
   ]
  },
  {
   "cell_type": "code",
   "execution_count": 48,
   "id": "ae987597-6189-453e-acfa-8e8c2cbb31a4",
   "metadata": {},
   "outputs": [
    {
     "data": {
      "text/plain": [
       "[array([[-0.01194444, -0.09146825, -0.08813492,  0.51353175, -0.0234127 ,\n",
       "         -0.21646825, -0.00555556, -0.21646825,  0.12019841, -0.01027778]]),\n",
       " array([[ 0.05461111,  0.2       ,  0.13080159, -0.47086508,  0.06607937,\n",
       "          0.25913492,  0.04822222,  0.25913492, -0.07753175,  0.05294444]]),\n",
       " array([[-0.04266667,  0.044     , -0.04266667, -0.04266667, -0.04266667,\n",
       "         -0.04266667, -0.04266667, -0.04266667, -0.04266667, -0.04266667]])]"
      ]
     },
     "execution_count": 48,
     "metadata": {},
     "output_type": "execute_result"
    }
   ],
   "source": [
    "shaps"
   ]
  },
  {
   "cell_type": "code",
   "execution_count": 47,
   "id": "8801ea49-c061-4250-8a53-520b3ff4bcbf",
   "metadata": {},
   "outputs": [
    {
     "data": {
      "text/plain": [
       "[0.16999989037650481,\n",
       " -0.06424012157879294,\n",
       " 0.13140795756860968,\n",
       " 0.6696065899022112,\n",
       " 0.1699240034541737,\n",
       " -0.32939248933844206,\n",
       " 0.0449861379546187,\n",
       " -0.3299514707569916,\n",
       " 0.1773825495983548,\n",
       " 0.16999751097076016]"
      ]
     },
     "execution_count": 47,
     "metadata": {},
     "output_type": "execute_result"
    }
   ],
   "source": [
    "a_s_d[0][0]"
   ]
  },
  {
   "cell_type": "code",
   "execution_count": 36,
   "id": "e3a6092d-f210-484e-a532-5496a710ee4c",
   "metadata": {},
   "outputs": [
    {
     "data": {
      "text/plain": [
       "array([[-0.04266667,  0.044     , -0.04266667, -0.04266667, -0.04266667,\n",
       "        -0.04266667, -0.04266667, -0.04266667, -0.04266667, -0.04266667]])"
      ]
     },
     "execution_count": 36,
     "metadata": {},
     "output_type": "execute_result"
    }
   ],
   "source": [
    "shaps[2]"
   ]
  },
  {
   "cell_type": "code",
   "execution_count": 10,
   "id": "336e0413-4a8e-45bf-8158-69602a4562d7",
   "metadata": {},
   "outputs": [],
   "source": [
    "def accuracy_shap(shap_values, ground_truth):\n",
    "    count_correct = 0\n",
    "    count = 0\n",
    "    for label in range(3):\n",
    "        \n",
    "        first_label_shaps = shaps[label][0]\n",
    "        first_label_gt = [i[label] for i in ground_truth]\n",
    "        for i in range(len(first_label_gt)):\n",
    "            if(first_label_shaps[i] * first_label_gt[i] > 0):\n",
    "                count_correct +=1\n",
    "            count +=1\n",
    "    return count_correct / count\n",
    "    \n",
    "    \n",
    "    "
   ]
  },
  {
   "cell_type": "code",
   "execution_count": 11,
   "id": "76a979ef-9d5b-43f7-a279-b9d9e02ef94c",
   "metadata": {},
   "outputs": [],
   "source": [
    "def accuracy_a_d_s(a_d_s_values, ground_truth):\n",
    "    count_correct = 0\n",
    "    count = 0\n",
    "    for label in range(3):\n",
    "        first_label_a_d = a_d_s_values[label][0]\n",
    "        first_label_gt = [i[label] for i in ground_truth]\n",
    "        for i in range(len(first_label_gt)):\n",
    "            if(first_label_a_d[i] * first_label_gt[i] > 0):\n",
    "                count_correct +=1\n",
    "            count +=1\n",
    "    return count_correct / count\n",
    "    "
   ]
  },
  {
   "cell_type": "code",
   "execution_count": 12,
   "id": "ead52bf8-d5d4-4605-81ea-2815ab4936b4",
   "metadata": {},
   "outputs": [],
   "source": [
    "def accuracy_monte_carlo(monte_carlo_values, ground_truth):\n",
    "    count_correct = 0\n",
    "    count = 0\n",
    "    for label in range(3):\n",
    "        first_label_monte = monte_carlo_values[label][0]\n",
    "        first_label_gt = [i[label] for i in ground_truth]\n",
    "        for i in range(len(first_label_gt)):\n",
    "            if(first_label_monte[i] * first_label_gt[i] > 0):\n",
    "                count_correct +=1\n",
    "            count +=1\n",
    "    return count_correct / count"
   ]
  },
  {
   "cell_type": "code",
   "execution_count": 13,
   "id": "6d05baf4-9af0-41af-ba32-af6230079155",
   "metadata": {},
   "outputs": [],
   "source": [
    "data_shap = []\n",
    "data_monte = []\n",
    "data_a_s_d = []"
   ]
  },
  {
   "cell_type": "code",
   "execution_count": 29,
   "id": "38fcc725-7da5-4c84-92df-4fbbefbe13b9",
   "metadata": {},
   "outputs": [
    {
     "name": "stdout",
     "output_type": "stream",
     "text": [
      "1\n"
     ]
    },
    {
     "data": {
      "application/vnd.jupyter.widget-view+json": {
       "model_id": "1387e1bffd5b4291a85b3713a8dc2cda",
       "version_major": 2,
       "version_minor": 0
      },
      "text/plain": [
       "  0%|          | 0/1 [00:00<?, ?it/s]"
      ]
     },
     "metadata": {},
     "output_type": "display_data"
    },
    {
     "name": "stdout",
     "output_type": "stream",
     "text": [
      "1\n",
      "1\n",
      "\u001b[32mStart working on read number 0 in processId 4579\u001b[0m\n",
      "\u001b[32mStart working on read number 1 in processId 4580\u001b[0m\n",
      "\u001b[32mStart working on read number 2 in processId 4581\u001b[0m\n",
      "\u001b[32mStart working on read number 3 in processId 4582\u001b[0m\n",
      "\u001b[32mStart working on read number 4 in processId 4583\u001b[0m\n",
      "\u001b[32mStart working on read number 5 in processId 4584\u001b[0m\n",
      "\u001b[32mStart working on read number 6 in processId 4585\u001b[0m\n",
      "\u001b[32mStart working on read number 7 in processId 4586\u001b[0m\n",
      "\u001b[32mStart working on read number 8 in processId 4581\u001b[0m\n",
      "\u001b[32mStart working on read number 9 in processId 4580\u001b[0m\n",
      "shap 0.0\n",
      "monte carlo 0.13333333333333333\n",
      "asd 0.6666666666666666\n",
      "1\n"
     ]
    },
    {
     "data": {
      "application/vnd.jupyter.widget-view+json": {
       "model_id": "9e053d4461b6464a8888fc97aca0c5cc",
       "version_major": 2,
       "version_minor": 0
      },
      "text/plain": [
       "  0%|          | 0/1 [00:00<?, ?it/s]"
      ]
     },
     "metadata": {},
     "output_type": "display_data"
    },
    {
     "name": "stdout",
     "output_type": "stream",
     "text": [
      "1\n",
      "51\n",
      "\u001b[32mStart working on read number 0 in processId 4670\u001b[0m\n",
      "\u001b[32mStart working on read number 1 in processId 4671\u001b[0m\n",
      "\u001b[32mStart working on read number 2 in processId 4672\u001b[0m\n",
      "\u001b[32mStart working on read number 3 in processId 4673\u001b[0m\n",
      "\u001b[32mStart working on read number 4 in processId 4674\u001b[0m\n",
      "\u001b[32mStart working on read number 5 in processId 4675\u001b[0m\n",
      "\u001b[32mStart working on read number 6 in processId 4676\u001b[0m\n",
      "\u001b[32mStart working on read number 7 in processId 4677\u001b[0m\n",
      "\u001b[32mStart working on read number 8 in processId 4676\u001b[0m\n",
      "\u001b[32mStart working on read number 9 in processId 4670\u001b[0m\n",
      "shap 0.6333333333333333\n",
      "monte carlo 0.7666666666666667\n",
      "asd 0.6666666666666666\n",
      "1\n"
     ]
    },
    {
     "data": {
      "application/vnd.jupyter.widget-view+json": {
       "model_id": "de077bdc308b4908bb87334ed346a988",
       "version_major": 2,
       "version_minor": 0
      },
      "text/plain": [
       "  0%|          | 0/1 [00:00<?, ?it/s]"
      ]
     },
     "metadata": {},
     "output_type": "display_data"
    },
    {
     "name": "stdout",
     "output_type": "stream",
     "text": [
      "1\n",
      "101\n",
      "\u001b[32mStart working on read number 0 in processId 4761\u001b[0m\n",
      "\u001b[32mStart working on read number 1 in processId 4762\u001b[0m\n",
      "\u001b[32mStart working on read number 2 in processId 4763\u001b[0m\n",
      "\u001b[32mStart working on read number 3 in processId 4764\u001b[0m\n",
      "\u001b[32mStart working on read number 4 in processId 4765\u001b[0m\n",
      "\u001b[32mStart working on read number 5 in processId 4766\u001b[0m\n",
      "\u001b[32mStart working on read number 6 in processId 4767\u001b[0m\n",
      "\u001b[32mStart working on read number 7 in processId 4768\u001b[0m\n",
      "\u001b[32mStart working on read number 8 in processId 4765\u001b[0m\n",
      "\u001b[32mStart working on read number 9 in processId 4761\u001b[0m\n",
      "shap 0.5666666666666667\n",
      "monte carlo 0.7666666666666667\n",
      "asd 0.6666666666666666\n",
      "1\n"
     ]
    },
    {
     "data": {
      "application/vnd.jupyter.widget-view+json": {
       "model_id": "aa3900e1ff534dc38fe13d0833006f59",
       "version_major": 2,
       "version_minor": 0
      },
      "text/plain": [
       "  0%|          | 0/1 [00:00<?, ?it/s]"
      ]
     },
     "metadata": {},
     "output_type": "display_data"
    },
    {
     "name": "stdout",
     "output_type": "stream",
     "text": [
      "1\n",
      "151\n",
      "\u001b[32mStart working on read number 0 in processId 4852\u001b[0m\n",
      "\u001b[32mStart working on read number 1 in processId 4853\u001b[0m\n",
      "\u001b[32mStart working on read number 2 in processId 4854\u001b[0m\u001b[32mStart working on read number 3 in processId 4855\u001b[0m\n",
      "\u001b[32mStart working on read number 4 in processId 4856\u001b[0m\n",
      "\n",
      "\u001b[32mStart working on read number 5 in processId 4857\u001b[0m\n",
      "\u001b[32mStart working on read number 6 in processId 4858\u001b[0m\u001b[32mStart working on read number 7 in processId 4859\u001b[0m\n",
      "\n",
      "\u001b[32mStart working on read number 8 in processId 4853\u001b[0m\n",
      "\u001b[32mStart working on read number 9 in processId 4854\u001b[0m\n",
      "shap 0.7333333333333333\n",
      "monte carlo 0.8333333333333334\n",
      "asd 0.6666666666666666\n",
      "1\n"
     ]
    },
    {
     "data": {
      "application/vnd.jupyter.widget-view+json": {
       "model_id": "18de42abf9fd47d3a0bfdfcbaa824172",
       "version_major": 2,
       "version_minor": 0
      },
      "text/plain": [
       "  0%|          | 0/1 [00:00<?, ?it/s]"
      ]
     },
     "metadata": {},
     "output_type": "display_data"
    },
    {
     "name": "stdout",
     "output_type": "stream",
     "text": [
      "1\n",
      "201\n",
      "\u001b[32mStart working on read number 0 in processId 4943\u001b[0m\n",
      "\u001b[32mStart working on read number 1 in processId 4944\u001b[0m\n",
      "\u001b[32mStart working on read number 2 in processId 4945\u001b[0m\n",
      "\u001b[32mStart working on read number 3 in processId 4946\u001b[0m\n",
      "\u001b[32mStart working on read number 4 in processId 4947\u001b[0m\n",
      "\u001b[32mStart working on read number 5 in processId 4948\u001b[0m\u001b[32mStart working on read number 6 in processId 4949\u001b[0m\n",
      "\u001b[32mStart working on read number 7 in processId 4950\u001b[0m\n",
      "\n",
      "\u001b[32mStart working on read number 8 in processId 4947\u001b[0m\n",
      "\u001b[32mStart working on read number 9 in processId 4948\u001b[0m\n",
      "shap 0.8666666666666667\n",
      "monte carlo 0.8\n",
      "asd 0.6666666666666666\n",
      "1\n"
     ]
    },
    {
     "data": {
      "application/vnd.jupyter.widget-view+json": {
       "model_id": "cd4cba7f237243fa85e0625348a42e63",
       "version_major": 2,
       "version_minor": 0
      },
      "text/plain": [
       "  0%|          | 0/1 [00:00<?, ?it/s]"
      ]
     },
     "metadata": {},
     "output_type": "display_data"
    },
    {
     "name": "stdout",
     "output_type": "stream",
     "text": [
      "1\n",
      "251\n",
      "\u001b[32mStart working on read number 0 in processId 5034\u001b[0m\n",
      "\u001b[32mStart working on read number 1 in processId 5035\u001b[0m\n",
      "\u001b[32mStart working on read number 2 in processId 5036\u001b[0m\n",
      "\u001b[32mStart working on read number 3 in processId 5037\u001b[0m\n",
      "\u001b[32mStart working on read number 4 in processId 5038\u001b[0m\n",
      "\u001b[32mStart working on read number 5 in processId 5039\u001b[0m\n",
      "\u001b[32mStart working on read number 6 in processId 5040\u001b[0m\n",
      "\u001b[32mStart working on read number 7 in processId 5041\u001b[0m\n",
      "\u001b[32mStart working on read number 8 in processId 5039\u001b[0m\n",
      "\u001b[32mStart working on read number 9 in processId 5037\u001b[0m\n",
      "shap 0.9333333333333333\n",
      "monte carlo 0.8\n",
      "asd 0.6666666666666666\n",
      "1\n"
     ]
    },
    {
     "data": {
      "application/vnd.jupyter.widget-view+json": {
       "model_id": "c38d75d8e95d40d19335a444f50ed164",
       "version_major": 2,
       "version_minor": 0
      },
      "text/plain": [
       "  0%|          | 0/1 [00:00<?, ?it/s]"
      ]
     },
     "metadata": {},
     "output_type": "display_data"
    },
    {
     "name": "stdout",
     "output_type": "stream",
     "text": [
      "1\n",
      "301\n",
      "\u001b[32mStart working on read number 0 in processId 5125\u001b[0m\n",
      "\u001b[32mStart working on read number 1 in processId 5126\u001b[0m\u001b[32mStart working on read number 2 in processId 5127\u001b[0m\n",
      "\n",
      "\u001b[32mStart working on read number 3 in processId 5128\u001b[0m\n",
      "\u001b[32mStart working on read number 4 in processId 5129\u001b[0m\n",
      "\u001b[32mStart working on read number 5 in processId 5130\u001b[0m\u001b[32mStart working on read number 6 in processId 5131\u001b[0m\n",
      "\n",
      "\u001b[32mStart working on read number 7 in processId 5132\u001b[0m\n",
      "\u001b[32mStart working on read number 8 in processId 5125\u001b[0m\n",
      "\u001b[32mStart working on read number 9 in processId 5130\u001b[0m\n",
      "shap 1.0\n",
      "monte carlo 0.8333333333333334\n",
      "asd 0.6666666666666666\n",
      "1\n"
     ]
    },
    {
     "data": {
      "application/vnd.jupyter.widget-view+json": {
       "model_id": "b35a47a4aac745dcb661e54958f705af",
       "version_major": 2,
       "version_minor": 0
      },
      "text/plain": [
       "  0%|          | 0/1 [00:00<?, ?it/s]"
      ]
     },
     "metadata": {},
     "output_type": "display_data"
    },
    {
     "name": "stdout",
     "output_type": "stream",
     "text": [
      "1\n",
      "351\n",
      "\u001b[32mStart working on read number 0 in processId 5216\u001b[0m\n",
      "\u001b[32mStart working on read number 1 in processId 5217\u001b[0m\n",
      "\u001b[32mStart working on read number 2 in processId 5218\u001b[0m\n",
      "\u001b[32mStart working on read number 3 in processId 5219\u001b[0m\u001b[32mStart working on read number 4 in processId 5220\u001b[0m\n",
      "\n",
      "\u001b[32mStart working on read number 5 in processId 5221\u001b[0m\u001b[32mStart working on read number 6 in processId 5222\u001b[0m\n",
      "\n",
      "\u001b[32mStart working on read number 7 in processId 5223\u001b[0m\n",
      "\u001b[32mStart working on read number 8 in processId 5222\u001b[0m\n",
      "\u001b[32mStart working on read number 9 in processId 5216\u001b[0m\n",
      "shap 0.9666666666666667\n",
      "monte carlo 0.8\n",
      "asd 0.6666666666666666\n",
      "1\n"
     ]
    },
    {
     "data": {
      "application/vnd.jupyter.widget-view+json": {
       "model_id": "d88e17aa3dea4fd2ab80a6cbcf807212",
       "version_major": 2,
       "version_minor": 0
      },
      "text/plain": [
       "  0%|          | 0/1 [00:00<?, ?it/s]"
      ]
     },
     "metadata": {},
     "output_type": "display_data"
    },
    {
     "name": "stdout",
     "output_type": "stream",
     "text": [
      "1\n",
      "401\n",
      "\u001b[32mStart working on read number 0 in processId 5307\u001b[0m\n",
      "\u001b[32mStart working on read number 1 in processId 5308\u001b[0m\u001b[32mStart working on read number 2 in processId 5309\u001b[0m\n",
      "\n",
      "\u001b[32mStart working on read number 3 in processId 5310\u001b[0m\n",
      "\u001b[32mStart working on read number 4 in processId 5311\u001b[0m\u001b[32mStart working on read number 5 in processId 5312\u001b[0m\n",
      "\n",
      "\u001b[32mStart working on read number 6 in processId 5313\u001b[0m\n",
      "\u001b[32mStart working on read number 7 in processId 5314\u001b[0m\n",
      "\u001b[32mStart working on read number 8 in processId 5308\u001b[0m\n",
      "\u001b[32mStart working on read number 9 in processId 5307\u001b[0m\n",
      "shap 1.0\n",
      "monte carlo 0.7666666666666667\n",
      "asd 0.6666666666666666\n",
      "1\n"
     ]
    },
    {
     "data": {
      "application/vnd.jupyter.widget-view+json": {
       "model_id": "ed1ec197f47644638cc6e0a16cde84ac",
       "version_major": 2,
       "version_minor": 0
      },
      "text/plain": [
       "  0%|          | 0/1 [00:00<?, ?it/s]"
      ]
     },
     "metadata": {},
     "output_type": "display_data"
    },
    {
     "name": "stdout",
     "output_type": "stream",
     "text": [
      "1\n",
      "451\n",
      "\u001b[32mStart working on read number 0 in processId 5398\u001b[0m\n",
      "\u001b[32mStart working on read number 1 in processId 5399\u001b[0m\n",
      "\u001b[32mStart working on read number 2 in processId 5400\u001b[0m\n",
      "\u001b[32mStart working on read number 3 in processId 5401\u001b[0m\n",
      "\u001b[32mStart working on read number 4 in processId 5402\u001b[0m\n",
      "\u001b[32mStart working on read number 5 in processId 5403\u001b[0m\n",
      "\u001b[32mStart working on read number 6 in processId 5404\u001b[0m\u001b[32mStart working on read number 7 in processId 5405\u001b[0m\n",
      "\n",
      "\u001b[32mStart working on read number 8 in processId 5400\u001b[0m\n",
      "\u001b[32mStart working on read number 9 in processId 5398\u001b[0m\n",
      "shap 0.9666666666666667\n",
      "monte carlo 0.7666666666666667\n",
      "asd 0.6666666666666666\n",
      "1\n"
     ]
    },
    {
     "data": {
      "application/vnd.jupyter.widget-view+json": {
       "model_id": "4024ba6b3b034a2b8e0c15f7c37ab2ae",
       "version_major": 2,
       "version_minor": 0
      },
      "text/plain": [
       "  0%|          | 0/1 [00:00<?, ?it/s]"
      ]
     },
     "metadata": {},
     "output_type": "display_data"
    },
    {
     "name": "stdout",
     "output_type": "stream",
     "text": [
      "1\n",
      "501\n",
      "\u001b[32mStart working on read number 0 in processId 5489\u001b[0m\n",
      "\u001b[32mStart working on read number 1 in processId 5490\u001b[0m\n",
      "\u001b[32mStart working on read number 2 in processId 5491\u001b[0m\n",
      "\u001b[32mStart working on read number 3 in processId 5492\u001b[0m\n",
      "\u001b[32mStart working on read number 4 in processId 5493\u001b[0m\n",
      "\u001b[32mStart working on read number 5 in processId 5494\u001b[0m\u001b[32mStart working on read number 6 in processId 5495\u001b[0m\n",
      "\n",
      "\u001b[32mStart working on read number 7 in processId 5496\u001b[0m\n",
      "\u001b[32mStart working on read number 8 in processId 5489\u001b[0m\n",
      "\u001b[32mStart working on read number 9 in processId 5492\u001b[0m\n",
      "shap 0.9666666666666667\n",
      "monte carlo 0.7666666666666667\n",
      "asd 0.6666666666666666\n",
      "1\n"
     ]
    },
    {
     "data": {
      "application/vnd.jupyter.widget-view+json": {
       "model_id": "8a7269aa92a44792b7244f91242a9221",
       "version_major": 2,
       "version_minor": 0
      },
      "text/plain": [
       "  0%|          | 0/1 [00:00<?, ?it/s]"
      ]
     },
     "metadata": {},
     "output_type": "display_data"
    },
    {
     "name": "stdout",
     "output_type": "stream",
     "text": [
      "1\n",
      "551\n",
      "\u001b[32mStart working on read number 0 in processId 5580\u001b[0m\n",
      "\u001b[32mStart working on read number 1 in processId 5581\u001b[0m\n",
      "\u001b[32mStart working on read number 2 in processId 5582\u001b[0m\n",
      "\u001b[32mStart working on read number 3 in processId 5583\u001b[0m\n",
      "\u001b[32mStart working on read number 4 in processId 5584\u001b[0m\n",
      "\u001b[32mStart working on read number 5 in processId 5585\u001b[0m\n",
      "\u001b[32mStart working on read number 7 in processId 5587\u001b[0m\u001b[32mStart working on read number 6 in processId 5586\u001b[0m\n",
      "\n",
      "\u001b[32mStart working on read number 8 in processId 5581\u001b[0m\n",
      "\u001b[32mStart working on read number 9 in processId 5583\u001b[0m\n",
      "shap 0.9666666666666667\n",
      "monte carlo 0.7666666666666667\n",
      "asd 0.6666666666666666\n",
      "1\n"
     ]
    },
    {
     "data": {
      "application/vnd.jupyter.widget-view+json": {
       "model_id": "72f59b04bd104db7acfb7a5f63b9f78e",
       "version_major": 2,
       "version_minor": 0
      },
      "text/plain": [
       "  0%|          | 0/1 [00:00<?, ?it/s]"
      ]
     },
     "metadata": {},
     "output_type": "display_data"
    },
    {
     "name": "stdout",
     "output_type": "stream",
     "text": [
      "1\n",
      "601\n",
      "\u001b[32mStart working on read number 0 in processId 5671\u001b[0m\n",
      "\u001b[32mStart working on read number 1 in processId 5672\u001b[0m\n",
      "\u001b[32mStart working on read number 2 in processId 5673\u001b[0m\n",
      "\u001b[32mStart working on read number 3 in processId 5674\u001b[0m\n",
      "\u001b[32mStart working on read number 4 in processId 5675\u001b[0m\n",
      "\u001b[32mStart working on read number 5 in processId 5676\u001b[0m\u001b[32mStart working on read number 6 in processId 5677\u001b[0m\n",
      "\n",
      "\u001b[32mStart working on read number 7 in processId 5678\u001b[0m\n",
      "\u001b[32mStart working on read number 8 in processId 5674\u001b[0m\n",
      "\u001b[32mStart working on read number 9 in processId 5677\u001b[0m\n",
      "shap 0.9666666666666667\n",
      "monte carlo 0.7666666666666667\n",
      "asd 0.6666666666666666\n",
      "1\n"
     ]
    },
    {
     "data": {
      "application/vnd.jupyter.widget-view+json": {
       "model_id": "f91cab7e4a8041b4a7f28c527de160d7",
       "version_major": 2,
       "version_minor": 0
      },
      "text/plain": [
       "  0%|          | 0/1 [00:00<?, ?it/s]"
      ]
     },
     "metadata": {},
     "output_type": "display_data"
    },
    {
     "name": "stdout",
     "output_type": "stream",
     "text": [
      "1\n",
      "651\n",
      "\u001b[32mStart working on read number 0 in processId 5762\u001b[0m\n",
      "\u001b[32mStart working on read number 1 in processId 5763\u001b[0m\n",
      "\u001b[32mStart working on read number 2 in processId 5764\u001b[0m\n",
      "\u001b[32mStart working on read number 3 in processId 5765\u001b[0m\u001b[32mStart working on read number 4 in processId 5766\u001b[0m\u001b[32mStart working on read number 5 in processId 5767\u001b[0m\n",
      "\n",
      "\n",
      "\u001b[32mStart working on read number 6 in processId 5768\u001b[0m\u001b[32mStart working on read number 7 in processId 5769\u001b[0m\n",
      "\n",
      "\u001b[32mStart working on read number 8 in processId 5762\u001b[0m\n",
      "\u001b[32mStart working on read number 9 in processId 5763\u001b[0m\n",
      "shap 0.9666666666666667\n",
      "monte carlo 0.8\n",
      "asd 0.6666666666666666\n",
      "1\n"
     ]
    },
    {
     "data": {
      "application/vnd.jupyter.widget-view+json": {
       "model_id": "cbbc1ad2abde452ba1c85eebfc1be93b",
       "version_major": 2,
       "version_minor": 0
      },
      "text/plain": [
       "  0%|          | 0/1 [00:00<?, ?it/s]"
      ]
     },
     "metadata": {},
     "output_type": "display_data"
    },
    {
     "name": "stdout",
     "output_type": "stream",
     "text": [
      "1\n",
      "701\n",
      "\u001b[32mStart working on read number 0 in processId 5853\u001b[0m\n",
      "\u001b[32mStart working on read number 1 in processId 5854\u001b[0m\n",
      "\u001b[32mStart working on read number 2 in processId 5855\u001b[0m\n",
      "\u001b[32mStart working on read number 3 in processId 5856\u001b[0m\n",
      "\u001b[32mStart working on read number 4 in processId 5857\u001b[0m\n",
      "\u001b[32mStart working on read number 5 in processId 5858\u001b[0m\u001b[32mStart working on read number 6 in processId 5859\u001b[0m\n",
      "\u001b[32mStart working on read number 7 in processId 5860\u001b[0m\n",
      "\n",
      "\u001b[32mStart working on read number 8 in processId 5855\u001b[0m\n",
      "\u001b[32mStart working on read number 9 in processId 5859\u001b[0m\n",
      "shap 1.0\n",
      "monte carlo 0.8\n",
      "asd 0.6666666666666666\n",
      "1\n"
     ]
    },
    {
     "data": {
      "application/vnd.jupyter.widget-view+json": {
       "model_id": "9b64a595f87a40e3808d08ce95ff08b9",
       "version_major": 2,
       "version_minor": 0
      },
      "text/plain": [
       "  0%|          | 0/1 [00:00<?, ?it/s]"
      ]
     },
     "metadata": {},
     "output_type": "display_data"
    },
    {
     "name": "stdout",
     "output_type": "stream",
     "text": [
      "1\n",
      "751\n",
      "\u001b[32mStart working on read number 0 in processId 5944\u001b[0m\n",
      "\u001b[32mStart working on read number 1 in processId 5945\u001b[0m\n",
      "\u001b[32mStart working on read number 2 in processId 5946\u001b[0m\n",
      "\u001b[32mStart working on read number 3 in processId 5947\u001b[0m\n",
      "\u001b[32mStart working on read number 4 in processId 5948\u001b[0m\n",
      "\u001b[32mStart working on read number 5 in processId 5949\u001b[0m\u001b[32mStart working on read number 6 in processId 5950\u001b[0m\n",
      "\n",
      "\u001b[32mStart working on read number 7 in processId 5951\u001b[0m\n",
      "\u001b[32mStart working on read number 8 in processId 5950\u001b[0m\n",
      "\u001b[32mStart working on read number 9 in processId 5945\u001b[0m\n",
      "shap 1.0\n",
      "monte carlo 0.8\n",
      "asd 0.6666666666666666\n",
      "1\n"
     ]
    },
    {
     "data": {
      "application/vnd.jupyter.widget-view+json": {
       "model_id": "eaa0f7df3a15480ba0868b7dfd0087ac",
       "version_major": 2,
       "version_minor": 0
      },
      "text/plain": [
       "  0%|          | 0/1 [00:00<?, ?it/s]"
      ]
     },
     "metadata": {},
     "output_type": "display_data"
    },
    {
     "name": "stdout",
     "output_type": "stream",
     "text": [
      "1\n",
      "801\n",
      "\u001b[32mStart working on read number 0 in processId 6035\u001b[0m\n",
      "\u001b[32mStart working on read number 1 in processId 6036\u001b[0m\n",
      "\u001b[32mStart working on read number 2 in processId 6037\u001b[0m\n",
      "\u001b[32mStart working on read number 3 in processId 6038\u001b[0m\u001b[32mStart working on read number 4 in processId 6039\u001b[0m\n",
      "\n",
      "\u001b[32mStart working on read number 5 in processId 6040\u001b[0m\u001b[32mStart working on read number 6 in processId 6041\u001b[0m\n",
      "\u001b[32mStart working on read number 7 in processId 6042\u001b[0m\n",
      "\n",
      "\u001b[32mStart working on read number 8 in processId 6039\u001b[0m\n",
      "\u001b[32mStart working on read number 9 in processId 6038\u001b[0m\n",
      "shap 0.9666666666666667\n",
      "monte carlo 0.7666666666666667\n",
      "asd 0.6666666666666666\n",
      "1\n"
     ]
    },
    {
     "data": {
      "application/vnd.jupyter.widget-view+json": {
       "model_id": "0469e1264d4d4f44964aac8835b3480f",
       "version_major": 2,
       "version_minor": 0
      },
      "text/plain": [
       "  0%|          | 0/1 [00:00<?, ?it/s]"
      ]
     },
     "metadata": {},
     "output_type": "display_data"
    },
    {
     "name": "stdout",
     "output_type": "stream",
     "text": [
      "1\n",
      "851\n",
      "\u001b[32mStart working on read number 0 in processId 6126\u001b[0m\n",
      "\u001b[32mStart working on read number 1 in processId 6127\u001b[0m\n",
      "\u001b[32mStart working on read number 2 in processId 6128\u001b[0m\n",
      "\u001b[32mStart working on read number 3 in processId 6129\u001b[0m\n",
      "\u001b[32mStart working on read number 4 in processId 6130\u001b[0m\u001b[32mStart working on read number 5 in processId 6131\u001b[0m\n",
      "\n",
      "\u001b[32mStart working on read number 6 in processId 6132\u001b[0m\n",
      "\u001b[32mStart working on read number 7 in processId 6133\u001b[0m\n",
      "\u001b[32mStart working on read number 8 in processId 6132\u001b[0m\n",
      "\u001b[32mStart working on read number 9 in processId 6127\u001b[0m\n",
      "shap 1.0\n",
      "monte carlo 0.7666666666666667\n",
      "asd 0.6666666666666666\n",
      "1\n"
     ]
    },
    {
     "data": {
      "application/vnd.jupyter.widget-view+json": {
       "model_id": "bc57746a01544f66b0e01035fd376842",
       "version_major": 2,
       "version_minor": 0
      },
      "text/plain": [
       "  0%|          | 0/1 [00:00<?, ?it/s]"
      ]
     },
     "metadata": {},
     "output_type": "display_data"
    },
    {
     "name": "stdout",
     "output_type": "stream",
     "text": [
      "1\n",
      "901\n",
      "\u001b[32mStart working on read number 0 in processId 6217\u001b[0m\n",
      "\u001b[32mStart working on read number 1 in processId 6218\u001b[0m\n",
      "\u001b[32mStart working on read number 2 in processId 6219\u001b[0m\n",
      "\u001b[32mStart working on read number 3 in processId 6220\u001b[0m\n",
      "\u001b[32mStart working on read number 4 in processId 6221\u001b[0m\u001b[32mStart working on read number 5 in processId 6222\u001b[0m\n",
      "\n",
      "\u001b[32mStart working on read number 6 in processId 6223\u001b[0m\n",
      "\u001b[32mStart working on read number 7 in processId 6224\u001b[0m\n",
      "\u001b[32mStart working on read number 8 in processId 6217\u001b[0m\n",
      "\u001b[32mStart working on read number 9 in processId 6223\u001b[0m\n",
      "shap 1.0\n",
      "monte carlo 0.7666666666666667\n",
      "asd 0.6666666666666666\n",
      "1\n"
     ]
    },
    {
     "data": {
      "application/vnd.jupyter.widget-view+json": {
       "model_id": "ab7ac9ee1d41409dac74683ac0bf05a7",
       "version_major": 2,
       "version_minor": 0
      },
      "text/plain": [
       "  0%|          | 0/1 [00:00<?, ?it/s]"
      ]
     },
     "metadata": {},
     "output_type": "display_data"
    },
    {
     "name": "stdout",
     "output_type": "stream",
     "text": [
      "1\n",
      "951\n",
      "\u001b[32mStart working on read number 0 in processId 6308\u001b[0m\n",
      "\u001b[32mStart working on read number 1 in processId 6309\u001b[0m\n",
      "\u001b[32mStart working on read number 2 in processId 6310\u001b[0m\n",
      "\u001b[32mStart working on read number 3 in processId 6311\u001b[0m\n",
      "\u001b[32mStart working on read number 4 in processId 6312\u001b[0m\n",
      "\u001b[32mStart working on read number 5 in processId 6313\u001b[0m\u001b[32mStart working on read number 6 in processId 6314\u001b[0m\n",
      "\n",
      "\u001b[32mStart working on read number 7 in processId 6315\u001b[0m\n",
      "\u001b[32mStart working on read number 8 in processId 6309\u001b[0m\n",
      "\u001b[32mStart working on read number 9 in processId 6313\u001b[0m\n",
      "shap 0.9666666666666667\n",
      "monte carlo 0.7666666666666667\n",
      "asd 0.6666666666666666\n"
     ]
    }
   ],
   "source": [
    "for num in range(1,1000,50):\n",
    "    shaps = maximum_likelihood_calculator_d_1.calculate_shapley_values(num)\n",
    "    shapley_values_monte_carlo = maximum_likelihood_calculator_d_1.estimate_shapley_values(number_of_samples_per_read = num)[1]\n",
    "    a_s_d = maximum_likelihood_calculator_d_1.get_A_s_d_values()\n",
    "    a_s_d = maximum_likelihood_calculator_d_1.get_A_s_d_values()\n",
    "    first = [a[0]-0.33 for a in a_s_d ]\n",
    "    second = [a[1]-0.33 for a in a_s_d ]\n",
    "    thirs = [a[2]-0.33 for a in a_s_d ]\n",
    "    a_s_d_values = [[first], [second], [thirs]]\n",
    "    sign_accuracy_shap = accuracy_shap(shaps, ground_truth_shapleys)\n",
    "    sign_accuracy_monte_carlo = accuracy_monte_carlo(shapley_values_monte_carlo, ground_truth_shapleys)\n",
    "    sign_accuracy_a_s_d = accuracy_a_d_s(a_s_d_values, ground_truth_shapleys)\n",
    "    \n",
    "    data_shap.append((num, sign_accuracy_shap))\n",
    "    data_monte.append((num, sign_accuracy_monte_carlo))\n",
    "    data_a_s_d.append((num, sign_accuracy_a_s_d))\n",
    "                     \n",
    "    print(\"shap\", sign_accuracy_shap)\n",
    "    print(\"monte carlo\", sign_accuracy_monte_carlo)    \n",
    "    print(\"asd\",sign_accuracy_a_s_d)   "
   ]
  },
  {
   "cell_type": "code",
   "execution_count": 32,
   "id": "7419f385-91f5-4472-9823-1a634526278a",
   "metadata": {},
   "outputs": [],
   "source": [
    "def plot(t,s, name, title):\n",
    "\n",
    "    plt.rcParams.update({'font.size': 14})\n",
    "    plt.plot(t, s)\n",
    "    plt.title(title)\n",
    "    plt.xlabel(\"Number of samples per sequence\")\n",
    "    plt.ylabel(\"Percentage of correct explanation values\")\n",
    "    \n",
    "    plt.savefig(name)\n",
    "\n",
    "    plt.show()"
   ]
  },
  {
   "cell_type": "code",
   "execution_count": 37,
   "id": "f7ed1870-a648-4888-a273-9786be72de36",
   "metadata": {},
   "outputs": [
    {
     "data": {
      "text/plain": [
       "[(1, 0.13333333333333333),\n",
       " (51, 0.7666666666666667),\n",
       " (101, 0.7666666666666667),\n",
       " (151, 0.8333333333333334),\n",
       " (201, 0.8),\n",
       " (251, 0.8),\n",
       " (301, 0.8333333333333334),\n",
       " (351, 0.8),\n",
       " (401, 0.7666666666666667),\n",
       " (451, 0.7666666666666667),\n",
       " (501, 0.7666666666666667),\n",
       " (551, 0.7666666666666667),\n",
       " (601, 0.7666666666666667),\n",
       " (651, 0.8),\n",
       " (701, 0.8),\n",
       " (751, 0.8),\n",
       " (801, 0.7666666666666667),\n",
       " (851, 0.7666666666666667),\n",
       " (901, 0.7666666666666667),\n",
       " (951, 0.7666666666666667)]"
      ]
     },
     "execution_count": 37,
     "metadata": {},
     "output_type": "execute_result"
    }
   ],
   "source": [
    "data_monte"
   ]
  },
  {
   "cell_type": "code",
   "execution_count": 46,
   "id": "54ae67b8-a68f-4f45-a834-694f471c43b0",
   "metadata": {},
   "outputs": [
    {
     "data": {
      "text/plain": [
       "<Figure size 640x480 with 0 Axes>"
      ]
     },
     "metadata": {},
     "output_type": "display_data"
    },
    {
     "data": {
      "image/png": "[encoded data removed]",
      "text/plain": [
       "<Figure size 640x480 with 1 Axes>"
      ]
     },
     "metadata": {},
     "output_type": "display_data"
    }
   ],
   "source": [
    "import numpy as np\n",
    "import matplotlib.pyplot as plt\n",
    "plt.figure() \n",
    "plt.figure().clear()\n",
    "plt.rcParams.update({'font.size': 14})\n",
    "t = [i[0] for i in data_shap]\n",
    "plt.plot(t,[i[1] for i in data_shap],label='Shap')\n",
    "plt.plot(t,[i[1] for i in data_monte ],label='Sampling')\n",
    "plt.title(\"Sign accuracy - dataset size: 10\")\n",
    "plt.xlabel(\"Number of samples\")\n",
    "plt.ylabel(\"Sign accuracy\")\n",
    "plt.xlim(left=0)\n",
    "plt.ylim(bottom=0)\n",
    "plt.legend()\n",
    "plt.savefig(\"sign_accuracy_shap_10.png\")\n",
    "plt.show()\n",
    "\n"
   ]
  },
  {
   "cell_type": "code",
   "execution_count": 40,
   "id": "9fbd9028-5f14-40db-b9df-f6392f4b1055",
   "metadata": {},
   "outputs": [
    {
     "data": {
      "text/plain": [
       "[(1, 0.0),\n",
       " (51, 0.6333333333333333),\n",
       " (101, 0.5666666666666667),\n",
       " (151, 0.7333333333333333),\n",
       " (201, 0.8666666666666667),\n",
       " (251, 0.9333333333333333),\n",
       " (301, 1.0),\n",
       " (351, 0.9666666666666667),\n",
       " (401, 1.0),\n",
       " (451, 0.9666666666666667),\n",
       " (501, 0.9666666666666667),\n",
       " (551, 0.9666666666666667),\n",
       " (601, 0.9666666666666667),\n",
       " (651, 0.9666666666666667),\n",
       " (701, 1.0),\n",
       " (751, 1.0),\n",
       " (801, 0.9666666666666667),\n",
       " (851, 1.0),\n",
       " (901, 1.0),\n",
       " (951, 0.9666666666666667)]"
      ]
     },
     "execution_count": 40,
     "metadata": {},
     "output_type": "execute_result"
    }
   ],
   "source": [
    "data_shap"
   ]
  },
  {
   "cell_type": "code",
   "execution_count": 45,
   "id": "781be3b1-f5c5-4a70-8617-74bb03bd9167",
   "metadata": {},
   "outputs": [
    {
     "data": {
      "text/plain": [
       "1"
      ]
     },
     "execution_count": 45,
     "metadata": {},
     "output_type": "execute_result"
    }
   ],
   "source": [
    "random.randint(1,2)"
   ]
  },
  {
   "cell_type": "code",
   "execution_count": null,
   "id": "8da85ea0-dada-48ac-8495-7eac6ac29c95",
   "metadata": {},
   "outputs": [],
   "source": []
  },
  {
   "cell_type": "code",
   "execution_count": null,
   "id": "dd129b16-e912-4c29-8bc0-3bc7418876dd",
   "metadata": {},
   "outputs": [],
   "source": []
  }
 ],
 "metadata": {
  "kernelspec": {
   "display_name": "Python 3 (ipykernel)",
   "language": "python",
   "name": "python3"
  },
  "language_info": {
   "codemirror_mode": {
    "name": "ipython",
    "version": 3
   },
   "file_extension": ".py",
   "mimetype": "text/x-python",
   "name": "python",
   "nbconvert_exporter": "python",
   "pygments_lexer": "ipython3",
   "version": "3.8.8"
  }
 },
 "nbformat": 4,
 "nbformat_minor": 5
}
