{
 "cells": [
  {
   "cell_type": "code",
   "execution_count": 1,
   "id": "4ef14012-c44b-4221-84c1-16a13c0db2f7",
   "metadata": {},
   "outputs": [
    {
     "name": "stderr",
     "output_type": "stream",
     "text": [
      "2023-08-11 07:25:59.143540: I tensorflow/core/platform/cpu_feature_guard.cc:193] This TensorFlow binary is optimized with oneAPI Deep Neural Network Library (oneDNN) to use the following CPU instructions in performance-critical operations:  AVX2 AVX512F AVX512_VNNI FMA\n",
      "To enable them in other operations, rebuild TensorFlow with the appropriate compiler flags.\n",
      "2023-08-11 07:25:59.422507: I tensorflow/core/util/util.cc:169] oneDNN custom operations are on. You may see slightly different numerical results due to floating-point round-off errors from different computation orders. To turn them off, set the environment variable `TF_ENABLE_ONEDNN_OPTS=0`.\n",
      "2023-08-11 07:25:59.483351: E tensorflow/stream_executor/cuda/cuda_blas.cc:2981] Unable to register cuBLAS factory: Attempting to register factory for plugin cuBLAS when one has already been registered\n",
      "2023-08-11 07:26:00.489095: W tensorflow/stream_executor/platform/default/dso_loader.cc:64] Could not load dynamic library 'libnvinfer.so.7'; dlerror: libnvinfer.so.7: cannot open shared object file: No such file or directory\n",
      "2023-08-11 07:26:00.489218: W tensorflow/stream_executor/platform/default/dso_loader.cc:64] Could not load dynamic library 'libnvinfer_plugin.so.7'; dlerror: libnvinfer_plugin.so.7: cannot open shared object file: No such file or directory\n",
      "2023-08-11 07:26:00.489226: W tensorflow/compiler/tf2tensorrt/utils/py_utils.cc:38] TF-TRT Warning: Cannot dlopen some TensorRT libraries. If you would like to use Nvidia GPU with TensorRT, please make sure the missing libraries mentioned above are installed properly.\n"
     ]
    }
   ],
   "source": [
    "def warn(*args, **kwargs):\n",
    "    pass\n",
    "import warnings\n",
    "warnings.warn = warn\n",
    "import seaborn as sns\n",
    "from ExplainableMaximumLikelihoodCalculator import ExplainableMaximumLikelihoodCalculator\n",
    "import pysam\n",
    "from Bio import SeqIO, Seq, SeqRecord, pairwise2\n",
    "from Bio.pairwise2 import format_alignment\n",
    "from LoadDataUtils import getListOfReadsFromBamFile, getListOfReadsFromFastaFile\n",
    "import matplotlib.pyplot as plt\n",
    "import numpy as np\n",
    "import pandas as pd\n",
    "import random\n",
    "import math\n",
    "import shap\n",
    "from scipy.stats import chisquare\n",
    "from scipy.special import rel_entr\n",
    "fileNameSapiens =  \"data/simulatedData/human_chinese_AF346973_500samples.fas\" #File that contains 500 reads from homo sapiens\n",
    "fileNameNeanderthals =  \"data/simulatedData/Neanderthal_Goyet_KX198085_500samples.fas\" #File that contains 500 reads from neanderthal\n",
    "fileNameDenisovans =  \"data/simulatedData/denisova_kx663333_500samples.fas\" #File that contains 500 reads from denisovan\n",
    "neanderthals_500_generated = getListOfReadsFromFastaFile(fileNameNeanderthals)\n",
    "sapiens_500_generated = getListOfReadsFromFastaFile(fileNameSapiens)\n",
    "denisovan_500_samples = getListOfReadsFromFastaFile(fileNameDenisovans)\n",
    "path_to_frequencies_table = \"data/substitution_matrix.tsv\""
   ]
  },
  {
   "cell_type": "code",
   "execution_count": 2,
   "id": "873cba0c-0d88-439b-9cad-b078e79be7a4",
   "metadata": {},
   "outputs": [],
   "source": [
    "sapiens_reference_file_names = [\n",
    "                    \"data/reference_files/human_AF346981_French.fa\",\n",
    "                     \"data/reference_files/human_AY195760_Korea.fa\",\n",
    "                      \"data/reference_files/human_AY882416_Ethiopia.fa\",\n",
    "                      \"data/reference_files/human_AY963586_Italian.fa\",\n",
    "                      \"data/reference_files/human_AY195781_Caucasian.fa\",\n",
    "                      \"data/reference_files/human_AY195757_Iraqi-Israeli.fa\",\n",
    "                      \"data/reference_files/human_AY195749_NativeAmerican.fa\"]\n",
    "neanderthals_reference_file_names = [\n",
    "                            \"data/reference_files/neanderthal_mezmaiskaya1_FM865411.fa\",\n",
    "                           \"data/reference_files/Neanderthal_Altai_KC879692.fa\",\n",
    "                           \"data/reference_files/Neanderthal_Denisova11_full_mtDNA_KU131206.fa\",\n",
    "                           \"data/reference_files/Neanderthal_Spy_94a_MG025538.fa\",\n",
    "                            \"data/reference_files/Neanderthal_Vindija33.16_AM948965.fa\",\n",
    "                            \"data/reference_files/Neanderthal_Vindija33.19_KJ533545.fa\"]\n",
    "denisovan_reference_file_names = [  \n",
    "                        \"data/reference_files/Denisova_MT576653.1.fa\",\n",
    "                        \"data/reference_files/Denisova_MT576652.1.fa\",\n",
    "                        \"data/reference_files/Denisova_4_FR695060.fa\",\n",
    "                        \"data/reference_files/Denisova_8_KT780370.fa\",\n",
    "                        \"data/reference_files/Denisova_manual_phalanx_NC_013993.fa\",\n",
    "                        \"data/reference_files/Denisova_MT576651.1.fa\"]"
   ]
  },
  {
   "cell_type": "code",
   "execution_count": 3,
   "id": "de9243a7-ee40-458b-86e2-56743f43917b",
   "metadata": {},
   "outputs": [],
   "source": [
    "def generate_sample(sap, nean, den):\n",
    "    list_before =  list(np.random.choice(sapiens_500_generated, sap)) + list(np.random.choice(neanderthals_500_generated, nean)) + list(np.random.choice(denisovan_500_samples, den))\n",
    "    l = []\n",
    "    for i in list_before:\n",
    "        l.append(str(i))\n",
    "    return l"
   ]
  },
  {
   "cell_type": "code",
   "execution_count": 4,
   "id": "66c5d7a3-f884-4ede-9cee-d855af7dada0",
   "metadata": {},
   "outputs": [],
   "source": [
    "sapiens = 5\n",
    "neanderthals = 5\n",
    "denisovans = 0\n",
    "\n",
    "dataset_1 = generate_sample(sapiens, neanderthals, denisovans)"
   ]
  },
  {
   "cell_type": "code",
   "execution_count": 5,
   "id": "4f365286-d0e6-48f0-bd6b-6f69738698bb",
   "metadata": {},
   "outputs": [
    {
     "name": "stdout",
     "output_type": "stream",
     "text": [
      "\u001b[34mLoading sequences and calculating alignments to all references, this might take a while. Number of reads: \u001b[0m 10\n",
      "start working on read number 0\n"
     ]
    }
   ],
   "source": [
    "maximum_likelihood_calculator_d_1 = ExplainableMaximumLikelihoodCalculator(dataset_1,\n",
    "                                                    ref_neanderthal_file_names=neanderthals_reference_file_names,\n",
    "                                                    ref_sapien_file_names=sapiens_reference_file_names,\n",
    "                                                    ref_denisovan_file_names=denisovan_reference_file_names,\n",
    "                                                    path_to_substitution_matrix=path_to_frequencies_table,\n",
    "                                                    number_of_jobs=-1)"
   ]
  },
  {
   "cell_type": "code",
   "execution_count": 6,
   "id": "0109d881-bd5d-4e25-ac1b-1dad4fb89be6",
   "metadata": {},
   "outputs": [
    {
     "data": {
      "text/html": [
       "<div>\n",
       "<style scoped>\n",
       "    .dataframe tbody tr th:only-of-type {\n",
       "        vertical-align: middle;\n",
       "    }\n",
       "\n",
       "    .dataframe tbody tr th {\n",
       "        vertical-align: top;\n",
       "    }\n",
       "\n",
       "    .dataframe thead th {\n",
       "        text-align: right;\n",
       "    }\n",
       "</style>\n",
       "<table border=\"1\" class=\"dataframe\">\n",
       "  <thead>\n",
       "    <tr style=\"text-align: right;\">\n",
       "      <th></th>\n",
       "      <th>Homo Sapiens</th>\n",
       "      <th>Neanderthals</th>\n",
       "      <th>Denisovans</th>\n",
       "    </tr>\n",
       "  </thead>\n",
       "  <tbody>\n",
       "    <tr>\n",
       "      <th>Estimation</th>\n",
       "      <td>0.475</td>\n",
       "      <td>0.525</td>\n",
       "      <td>0.0</td>\n",
       "    </tr>\n",
       "  </tbody>\n",
       "</table>\n",
       "</div>"
      ],
      "text/plain": [
       "            Homo Sapiens  Neanderthals  Denisovans\n",
       "Estimation         0.475         0.525         0.0"
      ]
     },
     "execution_count": 6,
     "metadata": {},
     "output_type": "execute_result"
    }
   ],
   "source": [
    "maximum_likelihood_calculator_d_1.estimate_species_proportions()"
   ]
  },
  {
   "cell_type": "code",
   "execution_count": 7,
   "id": "c68029f8-cfae-41dc-83be-2bae9bc4488c",
   "metadata": {},
   "outputs": [],
   "source": [
    "from itertools import combinations\n",
    "\n",
    "def find_all_subsets(group):\n",
    "    all_subsets = []\n",
    "    n = len(group)\n",
    "    \n",
    "    for r in range(n + 1):\n",
    "        subsets_r = combinations(group, r)\n",
    "        all_subsets.extend(list(subsets_r))\n",
    "        \n",
    "    return all_subsets"
   ]
  },
  {
   "cell_type": "code",
   "execution_count": 8,
   "id": "3304fb46-269e-4290-9cb8-993794479218",
   "metadata": {},
   "outputs": [],
   "source": [
    "def calculate_shapley_values_for_datum(data_point, length_of_data, ml_calculator):\n",
    "    indexes_without_datum = [i for i in range(length_of_data) if i != data_point]\n",
    "    all_subsets = find_all_subsets(indexes_without_datum)\n",
    "    sum_over_all_subsets = 0 \n",
    "    for G in all_subsets:\n",
    "        g_with = [i for i in G]\n",
    "        g_with.append(data_point)\n",
    "        with_datum = ml_calculator.calc_maximum_likelihood_on_subset(subset_of_indexes=g_with).values[0]\n",
    "        without_datum = ml_calculator.calc_maximum_likelihood_on_subset(subset_of_indexes=G).values[0]\n",
    "        with_minus_without = with_datum - without_datum\n",
    "        multiplier = np.math.factorial(len(G)) * np.math.factorial(length_of_data - len(G) - 1)\n",
    "        value_for_sum = with_minus_without * multiplier \n",
    "        sum_over_all_subsets += value_for_sum\n",
    "    shapleys = sum_over_all_subsets / np.math.factorial(length_of_data)\n",
    "    return  shapleys"
   ]
  },
  {
   "cell_type": "code",
   "execution_count": null,
   "id": "27ece109-c761-40b3-97c8-6f940639252c",
   "metadata": {},
   "outputs": [
    {
     "name": "stdout",
     "output_type": "stream",
     "text": [
      "0\n",
      "1\n",
      "2\n"
     ]
    }
   ],
   "source": [
    "ground_truth_shapleys = []\n",
    "for i in range(len(dataset_1)):\n",
    "    print(i)\n",
    "    ground_truth_shapleys.append(calculate_shapley_values_for_datum(i,len(dataset_1),maximum_likelihood_calculator_d_1))"
   ]
  },
  {
   "cell_type": "code",
   "execution_count": 15,
   "id": "59f8a6b7-995d-4a26-8520-408842e56c92",
   "metadata": {},
   "outputs": [
    {
     "name": "stdout",
     "output_type": "stream",
     "text": [
      "1\n"
     ]
    },
    {
     "data": {
      "application/vnd.jupyter.widget-view+json": {
       "model_id": "694a11193b184cfba1a43c40575fb42d",
       "version_major": 2,
       "version_minor": 0
      },
      "text/plain": [
       "  0%|          | 0/1 [00:00<?, ?it/s]"
      ]
     },
     "metadata": {},
     "output_type": "display_data"
    },
    {
     "name": "stdout",
     "output_type": "stream",
     "text": [
      "1\n",
      "1022\n",
      "\u001b[32mStart working on read number 0 in processId 353\u001b[0m\n",
      "\u001b[32mStart working on read number 1 in processId 354\u001b[0m\n",
      "\u001b[32mStart working on read number 2 in processId 355\u001b[0m\n",
      "\u001b[32mStart working on read number 3 in processId 356\u001b[0m\u001b[32mStart working on read number 4 in processId 357\u001b[0m\n",
      "\u001b[32mStart working on read number 5 in processId 358\u001b[0m\n",
      "\u001b[32mStart working on read number 6 in processId 359\u001b[0m\n",
      "\n",
      "\u001b[32mStart working on read number 7 in processId 360\u001b[0m\n",
      "\u001b[32mStart working on read number 8 in processId 355\u001b[0m\n",
      "\u001b[32mStart working on read number 9 in processId 357\u001b[0m\n"
     ]
    }
   ],
   "source": []
  },
  {
   "cell_type": "code",
   "execution_count": 55,
   "id": "4ce7ee0c-e11a-4c04-8a14-a859e76f7b87",
   "metadata": {},
   "outputs": [
    {
     "data": {
      "text/plain": [
       "[array([[ 0.    , -0.0388, -0.0285,  0.4634,  0.    , -0.2026,  0.0007,\n",
       "         -0.2106,  0.004 ,  0.    ]]),\n",
       " array([[ 0.    ,  0.0388,  0.0285, -0.4634,  0.    ,  0.2026, -0.0007,\n",
       "          0.2106, -0.004 ,  0.    ]]),\n",
       " array([[0., 0., 0., 0., 0., 0., 0., 0., 0., 0.]])]"
      ]
     },
     "execution_count": 55,
     "metadata": {},
     "output_type": "execute_result"
    }
   ],
   "source": [
    "shapley_values_monte_carlo"
   ]
  },
  {
   "cell_type": "code",
   "execution_count": 16,
   "id": "bbc70825-c331-4ac3-8c55-8194a1e62535",
   "metadata": {},
   "outputs": [
    {
     "data": {
      "text/plain": [
       "[array([-0.0255    ,  0.07061111, -0.04511111]),\n",
       " array([-0.08596627,  0.01996627,  0.066     ]),\n",
       " array([-0.0830496 ,  0.12816071, -0.04511111]),\n",
       " array([ 0.5182004 , -0.47308929, -0.04511111]),\n",
       " array([-0.01111508,  0.05622619, -0.04511111]),\n",
       " array([-0.2142996 ,  0.25941071, -0.04511111]),\n",
       " array([-0.02897222,  0.07408333, -0.04511111]),\n",
       " array([-0.2142996 ,  0.25941071, -0.04511111]),\n",
       " array([ 0.12611706, -0.08100595, -0.04511111]),\n",
       " array([-0.01111508,  0.05622619, -0.04511111])]"
      ]
     },
     "execution_count": 16,
     "metadata": {},
     "output_type": "execute_result"
    }
   ],
   "source": [
    "ground_truth_shapleys"
   ]
  },
  {
   "cell_type": "code",
   "execution_count": 48,
   "id": "ae987597-6189-453e-acfa-8e8c2cbb31a4",
   "metadata": {},
   "outputs": [
    {
     "data": {
      "text/plain": [
       "[array([[-0.01194444, -0.09146825, -0.08813492,  0.51353175, -0.0234127 ,\n",
       "         -0.21646825, -0.00555556, -0.21646825,  0.12019841, -0.01027778]]),\n",
       " array([[ 0.05461111,  0.2       ,  0.13080159, -0.47086508,  0.06607937,\n",
       "          0.25913492,  0.04822222,  0.25913492, -0.07753175,  0.05294444]]),\n",
       " array([[-0.04266667,  0.044     , -0.04266667, -0.04266667, -0.04266667,\n",
       "         -0.04266667, -0.04266667, -0.04266667, -0.04266667, -0.04266667]])]"
      ]
     },
     "execution_count": 48,
     "metadata": {},
     "output_type": "execute_result"
    }
   ],
   "source": [
    "shaps"
   ]
  },
  {
   "cell_type": "code",
   "execution_count": 47,
   "id": "8801ea49-c061-4250-8a53-520b3ff4bcbf",
   "metadata": {},
   "outputs": [
    {
     "data": {
      "text/plain": [
       "[0.16999989037650481,\n",
       " -0.06424012157879294,\n",
       " 0.13140795756860968,\n",
       " 0.6696065899022112,\n",
       " 0.1699240034541737,\n",
       " -0.32939248933844206,\n",
       " 0.0449861379546187,\n",
       " -0.3299514707569916,\n",
       " 0.1773825495983548,\n",
       " 0.16999751097076016]"
      ]
     },
     "execution_count": 47,
     "metadata": {},
     "output_type": "execute_result"
    }
   ],
   "source": [
    "a_s_d[0][0]"
   ]
  },
  {
   "cell_type": "code",
   "execution_count": 36,
   "id": "e3a6092d-f210-484e-a532-5496a710ee4c",
   "metadata": {},
   "outputs": [
    {
     "data": {
      "text/plain": [
       "array([[-0.04266667,  0.044     , -0.04266667, -0.04266667, -0.04266667,\n",
       "        -0.04266667, -0.04266667, -0.04266667, -0.04266667, -0.04266667]])"
      ]
     },
     "execution_count": 36,
     "metadata": {},
     "output_type": "execute_result"
    }
   ],
   "source": [
    "shaps[2]"
   ]
  },
  {
   "cell_type": "code",
   "execution_count": 43,
   "id": "336e0413-4a8e-45bf-8158-69602a4562d7",
   "metadata": {},
   "outputs": [],
   "source": [
    "def accuracy_shap(shap_values, ground_truth):\n",
    "    count_correct = 0\n",
    "    count = 0\n",
    "    for label in range(3):\n",
    "        \n",
    "        first_label_shaps = shaps[label][0]\n",
    "        first_label_gt = [i[label] for i in ground_truth]\n",
    "        for i in range(len(first_label_gt)):\n",
    "            if(first_label_shaps[i] * first_label_gt[i] > 0):\n",
    "                count_correct +=1\n",
    "            count +=1\n",
    "    return count_correct / count\n",
    "    \n",
    "    \n",
    "    "
   ]
  },
  {
   "cell_type": "code",
   "execution_count": 49,
   "id": "76a979ef-9d5b-43f7-a279-b9d9e02ef94c",
   "metadata": {},
   "outputs": [],
   "source": [
    "def accuracy_a_d_s(a_d_s_values, ground_truth):\n",
    "    count_correct = 0\n",
    "    count = 0\n",
    "    for label in range(3):\n",
    "        first_label_a_d = a_d_s_values[label][0]\n",
    "        first_label_gt = [i[label] for i in ground_truth]\n",
    "        for i in range(len(first_label_gt)):\n",
    "            if(first_label_a_d[i] * first_label_gt[i] > 0):\n",
    "                count_correct +=1\n",
    "            count +=1\n",
    "    return count_correct / count\n",
    "    "
   ]
  },
  {
   "cell_type": "code",
   "execution_count": 56,
   "id": "ead52bf8-d5d4-4605-81ea-2815ab4936b4",
   "metadata": {},
   "outputs": [],
   "source": [
    "def accuracy_monte_carlo(monte_carlo_values, ground_truth):\n",
    "    count_correct = 0\n",
    "    count = 0\n",
    "    for label in range(3):\n",
    "        first_label_monte = monte_carlo_values[label][0]\n",
    "        first_label_gt = [i[label] for i in ground_truth]\n",
    "        for i in range(len(first_label_gt)):\n",
    "            if(first_label_monte[i] * first_label_gt[i] > 0):\n",
    "                count_correct +=1\n",
    "            count +=1\n",
    "    return count_correct / count"
   ]
  },
  {
   "cell_type": "code",
   "execution_count": 65,
   "id": "6d05baf4-9af0-41af-ba32-af6230079155",
   "metadata": {},
   "outputs": [],
   "source": [
    "data_shap = []\n",
    "data_monte = []\n",
    "data_a_s_d = []"
   ]
  },
  {
   "cell_type": "code",
   "execution_count": 67,
   "id": "38fcc725-7da5-4c84-92df-4fbbefbe13b9",
   "metadata": {},
   "outputs": [
    {
     "name": "stdout",
     "output_type": "stream",
     "text": [
      "1\n"
     ]
    },
    {
     "data": {
      "application/vnd.jupyter.widget-view+json": {
       "model_id": "689acd4ae3c143fca3247a9084d70c7e",
       "version_major": 2,
       "version_minor": 0
      },
      "text/plain": [
       "  0%|          | 0/1 [00:00<?, ?it/s]"
      ]
     },
     "metadata": {},
     "output_type": "display_data"
    },
    {
     "name": "stdout",
     "output_type": "stream",
     "text": [
      "1\n",
      "1\n",
      "\u001b[32mStart working on read number 0 in processId 2052\u001b[0m\u001b[32mStart working on read number 1 in processId 2053\u001b[0m\n",
      "\n",
      "\u001b[32mStart working on read number 2 in processId 2054\u001b[0m\n",
      "\u001b[32mStart working on read number 3 in processId 2055\u001b[0m\u001b[32mStart working on read number 4 in processId 2056\u001b[0m\n",
      "\u001b[32mStart working on read number 5 in processId 2057\u001b[0m\u001b[32mStart working on read number 6 in processId 2058\u001b[0m\n",
      "\u001b[32mStart working on read number 7 in processId 2059\u001b[0m\n",
      "\n",
      "\n",
      "\u001b[32mStart working on read number 8 in processId 2053\u001b[0m\u001b[32mStart working on read number 9 in processId 2058\u001b[0m\n",
      "\n",
      "shap 0.0\n",
      "monte carlo 0.26666666666666666\n",
      "asd 0.8\n",
      "1\n"
     ]
    },
    {
     "data": {
      "application/vnd.jupyter.widget-view+json": {
       "model_id": "747d2d73c68a44ff82805b9813e10e18",
       "version_major": 2,
       "version_minor": 0
      },
      "text/plain": [
       "  0%|          | 0/1 [00:00<?, ?it/s]"
      ]
     },
     "metadata": {},
     "output_type": "display_data"
    },
    {
     "name": "stdout",
     "output_type": "stream",
     "text": [
      "1\n",
      "2\n",
      "\u001b[32mStart working on read number 0 in processId 2136\u001b[0m\n",
      "\u001b[32mStart working on read number 1 in processId 2137\u001b[0m\u001b[32mStart working on read number 2 in processId 2138\u001b[0m\n",
      "\n",
      "\u001b[32mStart working on read number 3 in processId 2139\u001b[0m\n",
      "\u001b[32mStart working on read number 5 in processId 2141\u001b[0m\u001b[32mStart working on read number 4 in processId 2140\u001b[0m\n",
      "\n",
      "\u001b[32mStart working on read number 6 in processId 2142\u001b[0m\n",
      "\u001b[32mStart working on read number 7 in processId 2143\u001b[0m\n",
      "\u001b[32mStart working on read number 8 in processId 2136\u001b[0m\n",
      "\u001b[32mStart working on read number 9 in processId 2140\u001b[0m\n",
      "shap 0.03333333333333333\n",
      "monte carlo 0.2\n",
      "asd 0.8\n",
      "1\n"
     ]
    },
    {
     "data": {
      "application/vnd.jupyter.widget-view+json": {
       "model_id": "42af4c4c812c4296b985fafacba15cfa",
       "version_major": 2,
       "version_minor": 0
      },
      "text/plain": [
       "  0%|          | 0/1 [00:00<?, ?it/s]"
      ]
     },
     "metadata": {},
     "output_type": "display_data"
    },
    {
     "name": "stdout",
     "output_type": "stream",
     "text": [
      "1\n",
      "3\n",
      "\u001b[32mStart working on read number 0 in processId 2220\u001b[0m\u001b[32mStart working on read number 1 in processId 2221\u001b[0m\n",
      "\n",
      "\u001b[32mStart working on read number 2 in processId 2222\u001b[0m\u001b[32mStart working on read number 3 in processId 2223\u001b[0m\n",
      "\u001b[32mStart working on read number 4 in processId 2224\u001b[0m\n",
      "\u001b[32mStart working on read number 5 in processId 2225\u001b[0m\n",
      "\n",
      "\u001b[32mStart working on read number 6 in processId 2226\u001b[0m\n",
      "\u001b[32mStart working on read number 7 in processId 2227\u001b[0m\n",
      "\u001b[32mStart working on read number 8 in processId 2221\u001b[0m\n",
      "\u001b[32mStart working on read number 9 in processId 2227\u001b[0m\n",
      "shap 0.13333333333333333\n",
      "monte carlo 0.3333333333333333\n",
      "asd 0.8\n",
      "1\n"
     ]
    },
    {
     "data": {
      "application/vnd.jupyter.widget-view+json": {
       "model_id": "3700fd45e8a24b8b9266f0dfd6b99037",
       "version_major": 2,
       "version_minor": 0
      },
      "text/plain": [
       "  0%|          | 0/1 [00:00<?, ?it/s]"
      ]
     },
     "metadata": {},
     "output_type": "display_data"
    },
    {
     "name": "stdout",
     "output_type": "stream",
     "text": [
      "1\n",
      "4\n",
      "\u001b[32mStart working on read number 0 in processId 2304\u001b[0m\n",
      "\u001b[32mStart working on read number 1 in processId 2305\u001b[0m\n",
      "\u001b[32mStart working on read number 2 in processId 2306\u001b[0m\n",
      "\u001b[32mStart working on read number 3 in processId 2307\u001b[0m\n",
      "\u001b[32mStart working on read number 4 in processId 2308\u001b[0m\n",
      "\u001b[32mStart working on read number 5 in processId 2309\u001b[0m\n",
      "\u001b[32mStart working on read number 6 in processId 2310\u001b[0m\n",
      "\u001b[32mStart working on read number 7 in processId 2311\u001b[0m\n",
      "\u001b[32mStart working on read number 8 in processId 2304\u001b[0m\n",
      "\u001b[32mStart working on read number 9 in processId 2309\u001b[0m\n",
      "shap 0.1\n",
      "monte carlo 0.3333333333333333\n",
      "asd 0.8\n",
      "1\n"
     ]
    },
    {
     "data": {
      "application/vnd.jupyter.widget-view+json": {
       "model_id": "56a1db3bf68b4f5fade2fa16fb83989b",
       "version_major": 2,
       "version_minor": 0
      },
      "text/plain": [
       "  0%|          | 0/1 [00:00<?, ?it/s]"
      ]
     },
     "metadata": {},
     "output_type": "display_data"
    },
    {
     "name": "stdout",
     "output_type": "stream",
     "text": [
      "1\n",
      "5\n",
      "\u001b[32mStart working on read number 0 in processId 2388\u001b[0m\n",
      "\u001b[32mStart working on read number 1 in processId 2389\u001b[0m\n",
      "\u001b[32mStart working on read number 2 in processId 2390\u001b[0m\n",
      "\u001b[32mStart working on read number 3 in processId 2391\u001b[0m\u001b[32mStart working on read number 4 in processId 2392\u001b[0m\u001b[32mStart working on read number 6 in processId 2394\u001b[0m\u001b[32mStart working on read number 5 in processId 2393\u001b[0m\n",
      "\u001b[32mStart working on read number 7 in processId 2395\u001b[0m\n",
      "\n",
      "\n",
      "\n",
      "\u001b[32mStart working on read number 8 in processId 2391\u001b[0m\u001b[32mStart working on read number 9 in processId 2390\u001b[0m\n",
      "\n",
      "shap 0.16666666666666666\n",
      "monte carlo 0.3333333333333333\n",
      "asd 0.8\n",
      "1\n"
     ]
    },
    {
     "data": {
      "application/vnd.jupyter.widget-view+json": {
       "model_id": "af31649db83f46ce938d71b2f6279c56",
       "version_major": 2,
       "version_minor": 0
      },
      "text/plain": [
       "  0%|          | 0/1 [00:00<?, ?it/s]"
      ]
     },
     "metadata": {},
     "output_type": "display_data"
    },
    {
     "name": "stdout",
     "output_type": "stream",
     "text": [
      "1\n",
      "6\n",
      "\u001b[32mStart working on read number 0 in processId 2479\u001b[0m\u001b[32mStart working on read number 1 in processId 2480\u001b[0m\n",
      "\n",
      "\u001b[32mStart working on read number 2 in processId 2481\u001b[0m\n",
      "\u001b[32mStart working on read number 3 in processId 2482\u001b[0m\n",
      "\u001b[32mStart working on read number 4 in processId 2483\u001b[0m\u001b[32mStart working on read number 6 in processId 2485\u001b[0m\n",
      "\u001b[32mStart working on read number 5 in processId 2484\u001b[0m\u001b[32mStart working on read number 7 in processId 2486\u001b[0m\n",
      "\n",
      "\n",
      "\u001b[32mStart working on read number 8 in processId 2479\u001b[0m\n",
      "\u001b[32mStart working on read number 9 in processId 2482\u001b[0m\n",
      "shap 0.3\n",
      "monte carlo 0.3333333333333333\n",
      "asd 0.8\n",
      "1\n"
     ]
    },
    {
     "data": {
      "application/vnd.jupyter.widget-view+json": {
       "model_id": "683375305264430385211b4ca55da692",
       "version_major": 2,
       "version_minor": 0
      },
      "text/plain": [
       "  0%|          | 0/1 [00:00<?, ?it/s]"
      ]
     },
     "metadata": {},
     "output_type": "display_data"
    },
    {
     "name": "stdout",
     "output_type": "stream",
     "text": [
      "1\n",
      "7\n",
      "\u001b[32mStart working on read number 0 in processId 2570\u001b[0m\n",
      "\u001b[32mStart working on read number 1 in processId 2571\u001b[0m\n",
      "\u001b[32mStart working on read number 2 in processId 2572\u001b[0m\n",
      "\u001b[32mStart working on read number 3 in processId 2573\u001b[0m\u001b[32mStart working on read number 4 in processId 2574\u001b[0m\u001b[32mStart working on read number 5 in processId 2575\u001b[0m\u001b[32mStart working on read number 6 in processId 2576\u001b[0m\n",
      "\u001b[32mStart working on read number 7 in processId 2577\u001b[0m\n",
      "\n",
      "\n",
      "\n",
      "\u001b[32mStart working on read number 8 in processId 2571\u001b[0m\n",
      "\u001b[32mStart working on read number 9 in processId 2572\u001b[0m\n",
      "shap 0.23333333333333334\n",
      "monte carlo 0.3333333333333333\n",
      "asd 0.8\n",
      "1\n"
     ]
    },
    {
     "data": {
      "application/vnd.jupyter.widget-view+json": {
       "model_id": "8a64f65860cd4afe97186932346a64c8",
       "version_major": 2,
       "version_minor": 0
      },
      "text/plain": [
       "  0%|          | 0/1 [00:00<?, ?it/s]"
      ]
     },
     "metadata": {},
     "output_type": "display_data"
    },
    {
     "name": "stdout",
     "output_type": "stream",
     "text": [
      "1\n",
      "8\n",
      "\u001b[32mStart working on read number 0 in processId 2661\u001b[0m\u001b[32mStart working on read number 1 in processId 2662\u001b[0m\n",
      "\n",
      "\u001b[32mStart working on read number 2 in processId 2663\u001b[0m\n",
      "\u001b[32mStart working on read number 3 in processId 2664\u001b[0m\u001b[32mStart working on read number 4 in processId 2665\u001b[0m\n",
      "\u001b[32mStart working on read number 5 in processId 2666\u001b[0m\u001b[32mStart working on read number 7 in processId 2668\u001b[0m\n",
      "\n",
      "\u001b[32mStart working on read number 6 in processId 2667\u001b[0m\n",
      "\n",
      "\u001b[32mStart working on read number 8 in processId 2663\u001b[0m\n",
      "\u001b[32mStart working on read number 9 in processId 2664\u001b[0m\n",
      "shap 0.2\n",
      "monte carlo 0.3333333333333333\n",
      "asd 0.8\n",
      "1\n"
     ]
    },
    {
     "data": {
      "application/vnd.jupyter.widget-view+json": {
       "model_id": "fdfdbf4fe71542a1bfb62f977effc52b",
       "version_major": 2,
       "version_minor": 0
      },
      "text/plain": [
       "  0%|          | 0/1 [00:00<?, ?it/s]"
      ]
     },
     "metadata": {},
     "output_type": "display_data"
    },
    {
     "name": "stdout",
     "output_type": "stream",
     "text": [
      "1\n",
      "9\n",
      "\u001b[32mStart working on read number 0 in processId 2752\u001b[0m\n",
      "\u001b[32mStart working on read number 1 in processId 2753\u001b[0m\u001b[32mStart working on read number 2 in processId 2754\u001b[0m\n",
      "\n",
      "\u001b[32mStart working on read number 3 in processId 2755\u001b[0m\u001b[32mStart working on read number 4 in processId 2756\u001b[0m\n",
      "\u001b[32mStart working on read number 5 in processId 2757\u001b[0m\n",
      "\n",
      "\u001b[32mStart working on read number 6 in processId 2758\u001b[0m\u001b[32mStart working on read number 7 in processId 2759\u001b[0m\n",
      "\n",
      "\u001b[32mStart working on read number 8 in processId 2754\u001b[0m\n",
      "\u001b[32mStart working on read number 9 in processId 2756\u001b[0m\n",
      "shap 0.16666666666666666\n",
      "monte carlo 0.3333333333333333\n",
      "asd 0.8\n"
     ]
    }
   ],
   "source": [
    "for num in range(1,10):\n",
    "    shaps = maximum_likelihood_calculator_d_1.calculate_shapley_values(num)\n",
    "    shapley_values_monte_carlo = maximum_likelihood_calculator_d_1.estimate_shapley_values(number_of_samples_per_read = num)[1]\n",
    "    a_s_d = maximum_likelihood_calculator_d_1.get_A_s_d_values()\n",
    "    a_s_d = maximum_likelihood_calculator_d_1.get_A_s_d_values()\n",
    "    first = [a[0]-0.33 for a in a_s_d ]\n",
    "    second = [a[1]-0.33 for a in a_s_d ]\n",
    "    thirs = [a[2]-0.33 for a in a_s_d ]\n",
    "    a_s_d_values = [[first], [second], [thirs]]\n",
    "    sign_accuracy_shap = accuracy_shap(shaps, ground_truth_shapleys)\n",
    "    sign_accuracy_monte_carlo = accuracy_monte_carlo(shapley_values_monte_carlo, ground_truth_shapleys)\n",
    "    sign_accuracy_a_s_d = accuracy_a_d_s(a_s_d_values, ground_truth_shapleys)\n",
    "    \n",
    "    data_shap.append((num, sign_accuracy_shap))\n",
    "    data_monte.append((num, sign_accuracy_monte_carlo))\n",
    "    data_a_s_d.append((num, sign_accuracy_a_s_d))\n",
    "                     \n",
    "    print(\"shap\", sign_accuracy_shap)\n",
    "    print(\"monte carlo\", sign_accuracy_monte_carlo)    \n",
    "    print(\"asd\",sign_accuracy_a_s_d)    "
   ]
  },
  {
   "cell_type": "code",
   "execution_count": 20,
   "id": "8d7cb2ca-b4ee-48ab-b4d6-e733f9441d31",
   "metadata": {},
   "outputs": [
    {
     "data": {
      "text/plain": [
       "[[[0.16999989037650481,\n",
       "   -0.06424012157879294,\n",
       "   0.13140795756860968,\n",
       "   0.6696065899022112,\n",
       "   0.1699240034541737,\n",
       "   -0.32939248933844206,\n",
       "   0.0449861379546187,\n",
       "   -0.3299514707569916,\n",
       "   0.1773825495983548,\n",
       "   0.16999751097076016]],\n",
       " [[0.16999989037650481,\n",
       "   0.03712006078939645,\n",
       "   0.2082820079687781,\n",
       "   -0.32999979778352734,\n",
       "   0.1699240034541737,\n",
       "   0.6693924598407637,\n",
       "   0.0449861379546187,\n",
       "   0.6694695860665383,\n",
       "   0.16249775543709022,\n",
       "   0.16999751097076016]],\n",
       " [[-0.3299997807530097,\n",
       "   0.03712006078939645,\n",
       "   -0.32968996553738783,\n",
       "   -0.32960679211868393,\n",
       "   -0.3298480069083475,\n",
       "   -0.3299999705023215,\n",
       "   -0.0799722759092375,\n",
       "   -0.3295181153095468,\n",
       "   -0.32988030503544513,\n",
       "   -0.3299950219415203]]]"
      ]
     },
     "execution_count": 20,
     "metadata": {},
     "output_type": "execute_result"
    }
   ],
   "source": [
    "a_s_d"
   ]
  },
  {
   "cell_type": "code",
   "execution_count": 63,
   "id": "7419f385-91f5-4472-9823-1a634526278a",
   "metadata": {},
   "outputs": [],
   "source": [
    "def plot(t,s, name, title):\n",
    "\n",
    "    plt.rcParams.update({'font.size': 14})\n",
    "    plt.plot(t, s)\n",
    "    plt.title(title)\n",
    "    plt.xlabel(\"Number of samples per sequence\")\n",
    "    plt.ylabel(\"Percentage of correct explanation values\")\n",
    "    \n",
    "    plt.savefig(name)\n",
    "\n",
    "    plt.show()"
   ]
  },
  {
   "cell_type": "code",
   "execution_count": 64,
   "id": "b24783d1-dc1f-400b-95d7-b556109b6560",
   "metadata": {},
   "outputs": [],
   "source": [
    "import time\n"
   ]
  },
  {
   "cell_type": "code",
   "execution_count": 84,
   "id": "54ae67b8-a68f-4f45-a834-694f471c43b0",
   "metadata": {},
   "outputs": [
    {
     "data": {
      "text/plain": [
       "<Figure size 640x480 with 0 Axes>"
      ]
     },
     "metadata": {},
     "output_type": "display_data"
    },
    {
     "data": {
      "image/png": "[encoded data removed]",
      "text/plain": [
       "<Figure size 640x480 with 1 Axes>"
      ]
     },
     "metadata": {},
     "output_type": "display_data"
    }
   ],
   "source": [
    "import numpy as np\n",
    "import matplotlib.pyplot as plt\n",
    "plt.figure() \n",
    "plt.figure().clear()\n",
    "plt.rcParams.update({'font.size': 14})\n",
    "t = [i[0] for i in data_shap]\n",
    "plt.plot(t,[i[1] for i in data_shap],label='Shap')\n",
    "plt.plot(t,[i[1] for i in data_monte_carlo ],label='Monte Carlo')\n",
    "plt.title(\"Sign accuracy - dataset size: 200\")\n",
    "plt.xlabel(\"Number of samples\")\n",
    "plt.ylabel(\"Sign accuracy\")\n",
    "plt.xlim(left=0)\n",
    "plt.ylim(bottom=0)\n",
    "plt.legend()\n",
    "plt.savefig(\"sign_accuracy_shap_200.png\")\n",
    "plt.show()\n",
    "\n"
   ]
  },
  {
   "cell_type": "code",
   "execution_count": null,
   "id": "9fbd9028-5f14-40db-b9df-f6392f4b1055",
   "metadata": {},
   "outputs": [],
   "source": []
  }
 ],
 "metadata": {
  "kernelspec": {
   "display_name": "Python 3 (ipykernel)",
   "language": "python",
   "name": "python3"
  },
  "language_info": {
   "codemirror_mode": {
    "name": "ipython",
    "version": 3
   },
   "file_extension": ".py",
   "mimetype": "text/x-python",
   "name": "python",
   "nbconvert_exporter": "python",
   "pygments_lexer": "ipython3",
   "version": "3.8.8"
  }
 },
 "nbformat": 4,
 "nbformat_minor": 5
}
