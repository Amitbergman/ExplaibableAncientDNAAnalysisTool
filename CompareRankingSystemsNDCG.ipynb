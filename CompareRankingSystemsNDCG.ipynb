{
 "cells": [
  {
   "cell_type": "code",
   "execution_count": 1,
   "id": "87985d8c-3fd8-4124-bba2-cf5e1e29c7da",
   "metadata": {},
   "outputs": [],
   "source": [
    "import numpy as np\n",
    "import math"
   ]
  },
  {
   "cell_type": "code",
   "execution_count": 2,
   "id": "1786cb3b-e3d8-4bbd-9b57-a72c6f3a8d82",
   "metadata": {},
   "outputs": [],
   "source": [
    "def dcg_of_item(actual_location, desired_location, length):\n",
    "    distance = np.abs(actual_location - desired_location)\n",
    "    score = length - distance\n",
    "    # the closer you are the higher the score\n",
    "    denominator = np.log2(actual_location+1)\n",
    "    return score/denominator\n",
    "    \n",
    "    "
   ]
  },
  {
   "cell_type": "code",
   "execution_count": 3,
   "id": "9065ffad-c077-4b96-a6d0-2b7b07024923",
   "metadata": {},
   "outputs": [],
   "source": [
    "def calculate_score_of_ranking(desired_ranking, actual_ranking):\n",
    "    score_sum = 0\n",
    "    for i in range(len(desired_ranking)):\n",
    "        item = actual_ranking[i] # this is the item that was in the ith place\n",
    "        desired_rank_of_item = desired_ranking.index(item)+1\n",
    "        score = dcg_of_item(i+1, desired_rank_of_item, len(desired_ranking))\n",
    "        score_sum += score\n",
    "    return score_sum"
   ]
  },
  {
   "cell_type": "code",
   "execution_count": 59,
   "id": "8849b58a-3b2b-436f-ab03-7878cb566909",
   "metadata": {},
   "outputs": [],
   "source": [
    "def calculate_ideal_score(size):\n",
    "    ideal_list = list(range(size))\n",
    "    return calculate_score_of_ranking(ideal_list,ideal_list)"
   ]
  },
  {
   "cell_type": "code",
   "execution_count": 4,
   "id": "7dd790bd-52b9-43b0-842d-c83a54d1e1b8",
   "metadata": {},
   "outputs": [
    {
     "name": "stderr",
     "output_type": "stream",
     "text": [
      "2023-08-12 15:38:27.164872: I tensorflow/core/platform/cpu_feature_guard.cc:193] This TensorFlow binary is optimized with oneAPI Deep Neural Network Library (oneDNN) to use the following CPU instructions in performance-critical operations:  AVX2 AVX512F AVX512_VNNI FMA\n",
      "To enable them in other operations, rebuild TensorFlow with the appropriate compiler flags.\n",
      "2023-08-12 15:38:27.565089: I tensorflow/core/util/util.cc:169] oneDNN custom operations are on. You may see slightly different numerical results due to floating-point round-off errors from different computation orders. To turn them off, set the environment variable `TF_ENABLE_ONEDNN_OPTS=0`.\n",
      "2023-08-12 15:38:27.630938: E tensorflow/stream_executor/cuda/cuda_blas.cc:2981] Unable to register cuBLAS factory: Attempting to register factory for plugin cuBLAS when one has already been registered\n",
      "2023-08-12 15:38:28.465015: W tensorflow/stream_executor/platform/default/dso_loader.cc:64] Could not load dynamic library 'libnvinfer.so.7'; dlerror: libnvinfer.so.7: cannot open shared object file: No such file or directory\n",
      "2023-08-12 15:38:28.465270: W tensorflow/stream_executor/platform/default/dso_loader.cc:64] Could not load dynamic library 'libnvinfer_plugin.so.7'; dlerror: libnvinfer_plugin.so.7: cannot open shared object file: No such file or directory\n",
      "2023-08-12 15:38:28.465280: W tensorflow/compiler/tf2tensorrt/utils/py_utils.cc:38] TF-TRT Warning: Cannot dlopen some TensorRT libraries. If you would like to use Nvidia GPU with TensorRT, please make sure the missing libraries mentioned above are installed properly.\n"
     ]
    }
   ],
   "source": [
    "def warn(*args, **kwargs):\n",
    "    pass\n",
    "import warnings\n",
    "warnings.warn = warn\n",
    "import seaborn as sns\n",
    "from ExplainableMaximumLikelihoodCalculator import ExplainableMaximumLikelihoodCalculator\n",
    "import pysam\n",
    "from Bio import SeqIO, Seq, SeqRecord, pairwise2\n",
    "from Bio.pairwise2 import format_alignment\n",
    "from LoadDataUtils import getListOfReadsFromBamFile, getListOfReadsFromFastaFile\n",
    "import matplotlib.pyplot as plt\n",
    "import numpy as np\n",
    "import pandas as pd\n",
    "import random\n",
    "import math\n",
    "import shap\n",
    "from scipy.stats import chisquare\n",
    "from scipy.special import rel_entr\n",
    "fileNameSapiens =  \"data/simulatedData/human_chinese_AF346973_500samples.fas\" #File that contains 500 reads from homo sapiens\n",
    "fileNameNeanderthals =  \"data/simulatedData/Neanderthal_Goyet_KX198085_500samples.fas\" #File that contains 500 reads from neanderthal\n",
    "fileNameDenisovans =  \"data/simulatedData/denisova_kx663333_500samples.fas\" #File that contains 500 reads from denisovan\n",
    "neanderthals_500_generated = getListOfReadsFromFastaFile(fileNameNeanderthals)\n",
    "sapiens_500_generated = getListOfReadsFromFastaFile(fileNameSapiens)\n",
    "denisovan_500_samples = getListOfReadsFromFastaFile(fileNameDenisovans)\n",
    "path_to_frequencies_table = \"data/substitution_matrix.tsv\""
   ]
  },
  {
   "cell_type": "code",
   "execution_count": 5,
   "id": "f55dc2db-0fbb-48f7-ba5e-a29f0589dcf2",
   "metadata": {},
   "outputs": [],
   "source": [
    "sapiens_reference_file_names = [\n",
    "                    \"data/reference_files/human_AF346981_French.fa\",\n",
    "                     \"data/reference_files/human_AY195760_Korea.fa\",\n",
    "                      \"data/reference_files/human_AY882416_Ethiopia.fa\",\n",
    "                      \"data/reference_files/human_AY963586_Italian.fa\",\n",
    "                      \"data/reference_files/human_AY195781_Caucasian.fa\",\n",
    "                      \"data/reference_files/human_AY195757_Iraqi-Israeli.fa\",\n",
    "                      \"data/reference_files/human_AY195749_NativeAmerican.fa\"]\n",
    "neanderthals_reference_file_names = [\n",
    "                            \"data/reference_files/neanderthal_mezmaiskaya1_FM865411.fa\",\n",
    "                           \"data/reference_files/Neanderthal_Altai_KC879692.fa\",\n",
    "                           \"data/reference_files/Neanderthal_Denisova11_full_mtDNA_KU131206.fa\",\n",
    "                           \"data/reference_files/Neanderthal_Spy_94a_MG025538.fa\",\n",
    "                            \"data/reference_files/Neanderthal_Vindija33.16_AM948965.fa\",\n",
    "                            \"data/reference_files/Neanderthal_Vindija33.19_KJ533545.fa\"]\n",
    "denisovan_reference_file_names = [  \n",
    "                        \"data/reference_files/Denisova_MT576653.1.fa\",\n",
    "                        \"data/reference_files/Denisova_MT576652.1.fa\",\n",
    "                        \"data/reference_files/Denisova_4_FR695060.fa\",\n",
    "                        \"data/reference_files/Denisova_8_KT780370.fa\",\n",
    "                        \"data/reference_files/Denisova_manual_phalanx_NC_013993.fa\",\n",
    "                        \"data/reference_files/Denisova_MT576651.1.fa\"]"
   ]
  },
  {
   "cell_type": "code",
   "execution_count": 6,
   "id": "1e51db59-a37f-4a7d-8d6c-094e299dc5e1",
   "metadata": {},
   "outputs": [],
   "source": [
    "def generate_sample(sap, nean, den):\n",
    "    list_before =  list(np.random.choice(sapiens_500_generated, sap)) + list(np.random.choice(neanderthals_500_generated, nean)) + list(np.random.choice(denisovan_500_samples, den))\n",
    "    l = []\n",
    "    for i in list_before:\n",
    "        l.append(str(i))\n",
    "    return l"
   ]
  },
  {
   "cell_type": "code",
   "execution_count": 7,
   "id": "48159d07-c447-4db5-847b-10290e27dd26",
   "metadata": {},
   "outputs": [],
   "source": [
    "from itertools import combinations\n",
    "\n",
    "def find_all_subsets(group):\n",
    "    all_subsets = []\n",
    "    n = len(group)\n",
    "    \n",
    "    for r in range(n + 1):\n",
    "        subsets_r = combinations(group, r)\n",
    "        all_subsets.extend(list(subsets_r))\n",
    "        \n",
    "    return all_subsets"
   ]
  },
  {
   "cell_type": "code",
   "execution_count": 8,
   "id": "fd15cce2-5039-434f-99ec-a90a13932b78",
   "metadata": {},
   "outputs": [],
   "source": [
    "def calculate_shapley_values_for_datum(data_point, length_of_data, ml_calculator):\n",
    "    indexes_without_datum = [i for i in range(length_of_data) if i != data_point]\n",
    "    all_subsets = find_all_subsets(indexes_without_datum)\n",
    "    sum_over_all_subsets = 0 \n",
    "    for G in all_subsets:\n",
    "        g_with = [i for i in G]\n",
    "        g_with.append(data_point)\n",
    "        with_datum = ml_calculator.calc_maximum_likelihood_on_subset(subset_of_indexes=g_with).values[0]\n",
    "        without_datum = ml_calculator.calc_maximum_likelihood_on_subset(subset_of_indexes=G).values[0]\n",
    "        with_minus_without = with_datum - without_datum\n",
    "        multiplier = np.math.factorial(len(G)) * np.math.factorial(length_of_data - len(G) - 1)\n",
    "        value_for_sum = with_minus_without * multiplier \n",
    "        sum_over_all_subsets += value_for_sum\n",
    "    shapleys = sum_over_all_subsets / np.math.factorial(length_of_data)\n",
    "    return  shapleys"
   ]
  },
  {
   "cell_type": "code",
   "execution_count": 10,
   "id": "c85bc4b4-53e3-4ea8-a759-7ec9b455808a",
   "metadata": {},
   "outputs": [],
   "source": [
    "def calculateRankingResultsForLabel(label, ground_truth_shapleys, shaps, a_s_d, shapley_values_monte_carlo):\n",
    "    ranking_results = []\n",
    "    ground_truth_shapley_label = [i[label] for i in ground_truth_shapleys]\n",
    "    ground_shapley_label_with_index = []\n",
    "    for i in range(len(ground_truth_shapley_label)):\n",
    "        ground_shapley_label_with_index.append((ground_truth_shapley_label[i], i))\n",
    "    ground_shapley_label_with_index_sorted = sorted(ground_shapley_label_with_index, key=lambda a:a[0], reverse=True)\n",
    "    only_indexes_sorted = [i[1] for i in ground_shapley_label_with_index_sorted]\n",
    "\n",
    "    shaps_label = shaps[label][0]\n",
    "    shaps_with_index = []\n",
    "    for i in range(len(shaps_label)):\n",
    "        shaps_with_index.append((shaps_label[i], i))\n",
    "    shap_label_with_index_sorted = sorted(shaps_with_index, key=lambda a:a[0], reverse=True)\n",
    "    only_indexes_sorted_shap = [i[1] for i in shap_label_with_index_sorted]\n",
    "    ranking_result_shap = calculate_score_of_ranking(only_indexes_sorted, only_indexes_sorted_shap)\n",
    "\n",
    "    a_s_d_label = [i[label] for i in a_s_d]\n",
    "    a_s_d_index = []\n",
    "    for i in range(len(a_s_d_label)):\n",
    "        a_s_d_index.append((a_s_d_label[i], i))\n",
    "    a_s_d_with_index_sorted = sorted(a_s_d_index, key=lambda a:a[0], reverse=True)\n",
    "    only_indexes_sorted_a_s_d = [i[1] for i in a_s_d_with_index_sorted]\n",
    "    ranking_result_a_s_d = calculate_score_of_ranking(only_indexes_sorted, only_indexes_sorted_a_s_d)\n",
    "\n",
    "    monte_carlo_label = shapley_values_monte_carlo[label][0]\n",
    "    monte_carlo_label_with_index = []\n",
    "    for i in range(len(monte_carlo_label)):\n",
    "        monte_carlo_label_with_index.append((monte_carlo_label[i], i))\n",
    "    monte_carlo_label_with_index_sorted = sorted(monte_carlo_label_with_index, key=lambda a:a[0], reverse=True)\n",
    "    monte_carlo_only_indexes_sorted = [i[1] for i in monte_carlo_label_with_index_sorted]\n",
    "    ranking_result_monte_carlo = calculate_score_of_ranking(only_indexes_sorted, monte_carlo_only_indexes_sorted)\n",
    "\n",
    "    ranking_results.append((ranking_result_shap, ranking_result_a_s_d, ranking_result_monte_carlo))\n",
    "    return ranking_results\n"
   ]
  },
  {
   "cell_type": "code",
   "execution_count": 54,
   "id": "0a811eb2-a68b-462a-b3f0-a978438e4007",
   "metadata": {},
   "outputs": [],
   "source": [
    "def calculateRankingForAllALgorithms(ml_calculator, number_of_samples, ground_truth_shapleys):\n",
    "    \n",
    "    \n",
    "    shaps = ml_calculator.calculate_shapley_values(number_of_samples)\n",
    "    a_s_d = ml_calculator.get_A_s_d_values()\n",
    "    shapley_values_monte_carlo = ml_calculator.estimate_shapley_values(number_of_samples_per_read = number_of_samples)\n",
    "    results = []\n",
    "    for i in range(3):\n",
    "        result = calculateRankingResultsForLabel(i, ground_truth_shapleys, shaps, a_s_d, shapley_values_monte_carlo)\n",
    "        results.append(result)\n",
    "\n",
    "    results_shap = np.mean([i[0][0] for i in results])\n",
    "    results_a_s_d = np.mean([i[0][1] for i in results])\n",
    "    results_monte_carlo = np.mean([i[0][2] for i in results])\n",
    "\n",
    "\n",
    "    return((results_shap, results_a_s_d, results_monte_carlo))\n",
    "\n"
   ]
  },
  {
   "cell_type": "code",
   "execution_count": 56,
   "id": "f67c296d-bd64-4692-81dc-991713c5c4af",
   "metadata": {},
   "outputs": [
    {
     "name": "stdout",
     "output_type": "stream",
     "text": [
      "\u001b[34mLoading sequences and calculating alignments to all references, this might take a while. Number of reads: \u001b[0m 12\n",
      "start working on read number 0\n",
      "0\n",
      "1\n",
      "2\n",
      "3\n",
      "4\n",
      "5\n",
      "6\n",
      "7\n",
      "8\n",
      "9\n",
      "10\n",
      "11\n"
     ]
    }
   ],
   "source": [
    "data = generate_sample(5,4,3)\n",
    "maximum_likelihood_calculator_d_1 = ExplainableMaximumLikelihoodCalculator(data,\n",
    "                                                    ref_neanderthal_file_names=neanderthals_reference_file_names,\n",
    "                                                    ref_sapien_file_names=sapiens_reference_file_names,\n",
    "                                                    ref_denisovan_file_names=denisovan_reference_file_names,\n",
    "                                                    path_to_substitution_matrix=path_to_frequencies_table,\n",
    "                                                    number_of_jobs=-1)\n",
    "ground_truth_shapleys = []\n",
    "for i in range(len(data)):\n",
    "    print(i)\n",
    "    ground_truth_shapleys.append(calculate_shapley_values_for_datum(i,len(data),maximum_likelihood_calculator_d_1))\n",
    "\n"
   ]
  },
  {
   "cell_type": "code",
   "execution_count": 62,
   "id": "b22c619e-0d5d-4acb-8c9d-f433256238e9",
   "metadata": {},
   "outputs": [
    {
     "name": "stdout",
     "output_type": "stream",
     "text": [
      "1\n",
      "1\n"
     ]
    },
    {
     "data": {
      "application/vnd.jupyter.widget-view+json": {
       "model_id": "3fabf5e446ec4738a33049c98565be0e",
       "version_major": 2,
       "version_minor": 0
      },
      "text/plain": [
       "  0%|          | 0/1 [00:00<?, ?it/s]"
      ]
     },
     "metadata": {},
     "output_type": "display_data"
    },
    {
     "name": "stdout",
     "output_type": "stream",
     "text": [
      "1\n",
      "1\n",
      "[(1, [0.6796071650077011, 0.9258408981735105, 0.8450310989966305])]\n",
      "5\n",
      "1\n"
     ]
    },
    {
     "data": {
      "application/vnd.jupyter.widget-view+json": {
       "model_id": "86d17f229788409183c66cf5d6cb1898",
       "version_major": 2,
       "version_minor": 0
      },
      "text/plain": [
       "  0%|          | 0/1 [00:00<?, ?it/s]"
      ]
     },
     "metadata": {},
     "output_type": "display_data"
    },
    {
     "name": "stdout",
     "output_type": "stream",
     "text": [
      "1\n",
      "5\n",
      "[(1, [0.6796071650077011, 0.9258408981735105, 0.8450310989966305]), (5, [0.6901382997563645, 0.9258408981735105, 0.9067386748217748])]\n",
      "10\n",
      "1\n"
     ]
    },
    {
     "data": {
      "application/vnd.jupyter.widget-view+json": {
       "model_id": "e1afe627117a49149ae8a2029d4d93a8",
       "version_major": 2,
       "version_minor": 0
      },
      "text/plain": [
       "  0%|          | 0/1 [00:00<?, ?it/s]"
      ]
     },
     "metadata": {},
     "output_type": "display_data"
    },
    {
     "name": "stdout",
     "output_type": "stream",
     "text": [
      "1\n",
      "10\n",
      "[(1, [0.6796071650077011, 0.9258408981735105, 0.8450310989966305]), (5, [0.6901382997563645, 0.9258408981735105, 0.9067386748217748]), (10, [0.7230868297249391, 0.9258408981735105, 0.9183213348322976])]\n",
      "20\n",
      "1\n"
     ]
    },
    {
     "data": {
      "application/vnd.jupyter.widget-view+json": {
       "model_id": "1e1f9d68900b4d7ca82e20d6a82beb80",
       "version_major": 2,
       "version_minor": 0
      },
      "text/plain": [
       "  0%|          | 0/1 [00:00<?, ?it/s]"
      ]
     },
     "metadata": {},
     "output_type": "display_data"
    },
    {
     "name": "stdout",
     "output_type": "stream",
     "text": [
      "1\n",
      "20\n",
      "[(1, [0.6796071650077011, 0.9258408981735105, 0.8450310989966305]), (5, [0.6901382997563645, 0.9258408981735105, 0.9067386748217748]), (10, [0.7230868297249391, 0.9258408981735105, 0.9183213348322976]), (20, [0.7721475641844133, 0.9258408981735105, 0.9455763392013109])]\n",
      "30\n",
      "1\n"
     ]
    },
    {
     "data": {
      "application/vnd.jupyter.widget-view+json": {
       "model_id": "2d53aff081e84b9bb45ea5f42435046c",
       "version_major": 2,
       "version_minor": 0
      },
      "text/plain": [
       "  0%|          | 0/1 [00:00<?, ?it/s]"
      ]
     },
     "metadata": {},
     "output_type": "display_data"
    },
    {
     "name": "stdout",
     "output_type": "stream",
     "text": [
      "1\n",
      "30\n",
      "[(1, [0.6796071650077011, 0.9258408981735105, 0.8450310989966305]), (5, [0.6901382997563645, 0.9258408981735105, 0.9067386748217748]), (10, [0.7230868297249391, 0.9258408981735105, 0.9183213348322976]), (20, [0.7721475641844133, 0.9258408981735105, 0.9455763392013109]), (30, [0.8860272104740144, 0.9258408981735105, 0.9254985770941598])]\n",
      "50\n",
      "1\n"
     ]
    },
    {
     "data": {
      "application/vnd.jupyter.widget-view+json": {
       "model_id": "f5a4237fe977402c9fcbd3625f80ed2c",
       "version_major": 2,
       "version_minor": 0
      },
      "text/plain": [
       "  0%|          | 0/1 [00:00<?, ?it/s]"
      ]
     },
     "metadata": {},
     "output_type": "display_data"
    },
    {
     "name": "stdout",
     "output_type": "stream",
     "text": [
      "1\n",
      "50\n",
      "[(1, [0.6796071650077011, 0.9258408981735105, 0.8450310989966305]), (5, [0.6901382997563645, 0.9258408981735105, 0.9067386748217748]), (10, [0.7230868297249391, 0.9258408981735105, 0.9183213348322976]), (20, [0.7721475641844133, 0.9258408981735105, 0.9455763392013109]), (30, [0.8860272104740144, 0.9258408981735105, 0.9254985770941598]), (50, [0.8688864780385712, 0.9258408981735105, 0.9400016471892979])]\n",
      "100\n",
      "1\n"
     ]
    },
    {
     "data": {
      "application/vnd.jupyter.widget-view+json": {
       "model_id": "669dd456d710428c9d0c9bbec628e545",
       "version_major": 2,
       "version_minor": 0
      },
      "text/plain": [
       "  0%|          | 0/1 [00:00<?, ?it/s]"
      ]
     },
     "metadata": {},
     "output_type": "display_data"
    },
    {
     "name": "stdout",
     "output_type": "stream",
     "text": [
      "1\n",
      "100\n",
      "[(1, [0.6796071650077011, 0.9258408981735105, 0.8450310989966305]), (5, [0.6901382997563645, 0.9258408981735105, 0.9067386748217748]), (10, [0.7230868297249391, 0.9258408981735105, 0.9183213348322976]), (20, [0.7721475641844133, 0.9258408981735105, 0.9455763392013109]), (30, [0.8860272104740144, 0.9258408981735105, 0.9254985770941598]), (50, [0.8688864780385712, 0.9258408981735105, 0.9400016471892979]), (100, [0.9101386983734195, 0.9258408981735105, 0.9374351810937778])]\n",
      "200\n",
      "1\n"
     ]
    },
    {
     "data": {
      "application/vnd.jupyter.widget-view+json": {
       "model_id": "49002d3860a34653b3760de60be140a4",
       "version_major": 2,
       "version_minor": 0
      },
      "text/plain": [
       "  0%|          | 0/1 [00:00<?, ?it/s]"
      ]
     },
     "metadata": {},
     "output_type": "display_data"
    },
    {
     "name": "stdout",
     "output_type": "stream",
     "text": [
      "1\n",
      "200\n",
      "[(1, [0.6796071650077011, 0.9258408981735105, 0.8450310989966305]), (5, [0.6901382997563645, 0.9258408981735105, 0.9067386748217748]), (10, [0.7230868297249391, 0.9258408981735105, 0.9183213348322976]), (20, [0.7721475641844133, 0.9258408981735105, 0.9455763392013109]), (30, [0.8860272104740144, 0.9258408981735105, 0.9254985770941598]), (50, [0.8688864780385712, 0.9258408981735105, 0.9400016471892979]), (100, [0.9101386983734195, 0.9258408981735105, 0.9374351810937778]), (200, [0.9266047706932667, 0.9258408981735105, 0.9221136073102815])]\n",
      "400\n",
      "1\n"
     ]
    },
    {
     "data": {
      "application/vnd.jupyter.widget-view+json": {
       "model_id": "52ab58627c9347ce9fda435028c54369",
       "version_major": 2,
       "version_minor": 0
      },
      "text/plain": [
       "  0%|          | 0/1 [00:00<?, ?it/s]"
      ]
     },
     "metadata": {},
     "output_type": "display_data"
    },
    {
     "name": "stdout",
     "output_type": "stream",
     "text": [
      "1\n",
      "400\n",
      "[(1, [0.6796071650077011, 0.9258408981735105, 0.8450310989966305]), (5, [0.6901382997563645, 0.9258408981735105, 0.9067386748217748]), (10, [0.7230868297249391, 0.9258408981735105, 0.9183213348322976]), (20, [0.7721475641844133, 0.9258408981735105, 0.9455763392013109]), (30, [0.8860272104740144, 0.9258408981735105, 0.9254985770941598]), (50, [0.8688864780385712, 0.9258408981735105, 0.9400016471892979]), (100, [0.9101386983734195, 0.9258408981735105, 0.9374351810937778]), (200, [0.9266047706932667, 0.9258408981735105, 0.9221136073102815]), (400, [0.9257495350669427, 0.9258408981735105, 0.9314097747428441])]\n",
      "600\n",
      "1\n"
     ]
    },
    {
     "data": {
      "application/vnd.jupyter.widget-view+json": {
       "model_id": "fa864c668e9e47ee89ec75c43afc03ed",
       "version_major": 2,
       "version_minor": 0
      },
      "text/plain": [
       "  0%|          | 0/1 [00:00<?, ?it/s]"
      ]
     },
     "metadata": {},
     "output_type": "display_data"
    },
    {
     "name": "stdout",
     "output_type": "stream",
     "text": [
      "1\n",
      "600\n",
      "[(1, [0.6796071650077011, 0.9258408981735105, 0.8450310989966305]), (5, [0.6901382997563645, 0.9258408981735105, 0.9067386748217748]), (10, [0.7230868297249391, 0.9258408981735105, 0.9183213348322976]), (20, [0.7721475641844133, 0.9258408981735105, 0.9455763392013109]), (30, [0.8860272104740144, 0.9258408981735105, 0.9254985770941598]), (50, [0.8688864780385712, 0.9258408981735105, 0.9400016471892979]), (100, [0.9101386983734195, 0.9258408981735105, 0.9374351810937778]), (200, [0.9266047706932667, 0.9258408981735105, 0.9221136073102815]), (400, [0.9257495350669427, 0.9258408981735105, 0.9314097747428441]), (600, [0.9336979785952056, 0.9258408981735105, 0.9364330144106288])]\n",
      "800\n",
      "1\n"
     ]
    },
    {
     "data": {
      "application/vnd.jupyter.widget-view+json": {
       "model_id": "beb913dddd214c63a3e7ed0c77a5cf63",
       "version_major": 2,
       "version_minor": 0
      },
      "text/plain": [
       "  0%|          | 0/1 [00:00<?, ?it/s]"
      ]
     },
     "metadata": {},
     "output_type": "display_data"
    },
    {
     "name": "stdout",
     "output_type": "stream",
     "text": [
      "1\n",
      "800\n",
      "[(1, [0.6796071650077011, 0.9258408981735105, 0.8450310989966305]), (5, [0.6901382997563645, 0.9258408981735105, 0.9067386748217748]), (10, [0.7230868297249391, 0.9258408981735105, 0.9183213348322976]), (20, [0.7721475641844133, 0.9258408981735105, 0.9455763392013109]), (30, [0.8860272104740144, 0.9258408981735105, 0.9254985770941598]), (50, [0.8688864780385712, 0.9258408981735105, 0.9400016471892979]), (100, [0.9101386983734195, 0.9258408981735105, 0.9374351810937778]), (200, [0.9266047706932667, 0.9258408981735105, 0.9221136073102815]), (400, [0.9257495350669427, 0.9258408981735105, 0.9314097747428441]), (600, [0.9336979785952056, 0.9258408981735105, 0.9364330144106288]), (800, [0.9336953307236041, 0.9258408981735105, 0.9308523467934887])]\n",
      "1000\n",
      "1\n"
     ]
    },
    {
     "data": {
      "application/vnd.jupyter.widget-view+json": {
       "model_id": "ab22ff104dcc42eab04efe463055403f",
       "version_major": 2,
       "version_minor": 0
      },
      "text/plain": [
       "  0%|          | 0/1 [00:00<?, ?it/s]"
      ]
     },
     "metadata": {},
     "output_type": "display_data"
    },
    {
     "name": "stdout",
     "output_type": "stream",
     "text": [
      "1\n",
      "1000\n",
      "[(1, [0.6796071650077011, 0.9258408981735105, 0.8450310989966305]), (5, [0.6901382997563645, 0.9258408981735105, 0.9067386748217748]), (10, [0.7230868297249391, 0.9258408981735105, 0.9183213348322976]), (20, [0.7721475641844133, 0.9258408981735105, 0.9455763392013109]), (30, [0.8860272104740144, 0.9258408981735105, 0.9254985770941598]), (50, [0.8688864780385712, 0.9258408981735105, 0.9400016471892979]), (100, [0.9101386983734195, 0.9258408981735105, 0.9374351810937778]), (200, [0.9266047706932667, 0.9258408981735105, 0.9221136073102815]), (400, [0.9257495350669427, 0.9258408981735105, 0.9314097747428441]), (600, [0.9336979785952056, 0.9258408981735105, 0.9364330144106288]), (800, [0.9336953307236041, 0.9258408981735105, 0.9308523467934887]), (1000, [0.9280986122337307, 0.9258408981735105, 0.9209222910150662])]\n"
     ]
    }
   ],
   "source": [
    "sample_sizes = [1,5,10,20,30,50,100,200,400,600,800,1000]\n",
    "all_scores = []\n",
    "for size in sample_sizes:\n",
    "    print(size)\n",
    "    res = calculateRankingForAllALgorithms(maximum_likelihood_calculator_d_1, size, ground_truth_shapleys)\n",
    "    ideal_score = calculate_ideal_score(len(data))\n",
    "    all_scores.append((size, [i/ideal_score for i in res]))\n",
    "    print(all_scores)"
   ]
  },
  {
   "cell_type": "code",
   "execution_count": 64,
   "id": "03165a8c-bb30-4300-abae-103742c92318",
   "metadata": {},
   "outputs": [
    {
     "data": {
      "text/plain": [
       "[(1, [0.6796071650077011, 0.9258408981735105, 0.8450310989966305]),\n",
       " (5, [0.6901382997563645, 0.9258408981735105, 0.9067386748217748]),\n",
       " (10, [0.7230868297249391, 0.9258408981735105, 0.9183213348322976]),\n",
       " (20, [0.7721475641844133, 0.9258408981735105, 0.9455763392013109]),\n",
       " (30, [0.8860272104740144, 0.9258408981735105, 0.9254985770941598]),\n",
       " (50, [0.8688864780385712, 0.9258408981735105, 0.9400016471892979]),\n",
       " (100, [0.9101386983734195, 0.9258408981735105, 0.9374351810937778]),\n",
       " (200, [0.9266047706932667, 0.9258408981735105, 0.9221136073102815]),\n",
       " (400, [0.9257495350669427, 0.9258408981735105, 0.9314097747428441]),\n",
       " (600, [0.9336979785952056, 0.9258408981735105, 0.9364330144106288]),\n",
       " (800, [0.9336953307236041, 0.9258408981735105, 0.9308523467934887]),\n",
       " (1000, [0.9280986122337307, 0.9258408981735105, 0.9209222910150662])]"
      ]
     },
     "execution_count": 64,
     "metadata": {},
     "output_type": "execute_result"
    }
   ],
   "source": [
    "all_scores"
   ]
  },
  {
   "cell_type": "code",
   "execution_count": 67,
   "id": "5dac6758-670e-4ef9-a78c-4eb8592e715d",
   "metadata": {},
   "outputs": [],
   "source": [
    "shap_scores = [i[1][0] for i in all_scores]\n",
    "asd_scores = [i[1][1] for i in all_scores]\n",
    "mc_scores = [i[1][2] for i in all_scores]"
   ]
  },
  {
   "cell_type": "code",
   "execution_count": 68,
   "id": "ca041991-123b-4929-b7a2-76e14fab0508",
   "metadata": {},
   "outputs": [
    {
     "data": {
      "text/plain": [
       "<Figure size 640x480 with 0 Axes>"
      ]
     },
     "metadata": {},
     "output_type": "display_data"
    },
    {
     "data": {
      "image/png": "[encoded data removed]",
      "text/plain": [
       "<Figure size 640x480 with 1 Axes>"
      ]
     },
     "metadata": {},
     "output_type": "display_data"
    }
   ],
   "source": [
    "import numpy as np\n",
    "import matplotlib.pyplot as plt\n",
    "plt.figure() \n",
    "plt.figure().clear()\n",
    "plt.rcParams.update({'font.size': 14})\n",
    "t = [i[0] for i in all_scores]\n",
    "plt.plot(t,shap_scores,label='Shap')\n",
    "plt.plot(t,mc_scores,label='Sampling')\n",
    "plt.plot(t,asd_scores,label='A_s_d')\n",
    "plt.title(\"Ranking score\")\n",
    "plt.xlabel(\"Number of samples\")\n",
    "plt.ylabel(\"Ranking score\")\n",
    "plt.xlim(left=0)\n",
    "plt.ylim(bottom=0)\n",
    "plt.legend()\n",
    "plt.savefig(\"ranking_score.png\")\n",
    "plt.show()\n"
   ]
  },
  {
   "cell_type": "code",
   "execution_count": 22,
   "id": "0eceeeae-75ce-440f-a0e1-9038ced3befd",
   "metadata": {},
   "outputs": [
    {
     "name": "stdout",
     "output_type": "stream",
     "text": [
      "1\n"
     ]
    },
    {
     "data": {
      "application/vnd.jupyter.widget-view+json": {
       "model_id": "47f40d2ce48441a8b248c64e00133aa5",
       "version_major": 2,
       "version_minor": 0
      },
      "text/plain": [
       "  0%|          | 0/1 [00:00<?, ?it/s]"
      ]
     },
     "metadata": {},
     "output_type": "display_data"
    },
    {
     "name": "stdout",
     "output_type": "stream",
     "text": [
      "1\n",
      "10\n"
     ]
    }
   ],
   "source": [
    "shaps = maximum_likelihood_calculator_d_1.calculate_shapley_values(10)"
   ]
  },
  {
   "cell_type": "code",
   "execution_count": 23,
   "id": "b617d722-386a-4ce1-85ff-65a6330e31b8",
   "metadata": {},
   "outputs": [
    {
     "data": {
      "text/plain": [
       "[array([[0.  , 0.53, 0.  , 0.  , 0.  , 0.  , 0.  , 0.  , 0.  , 0.  ]]),\n",
       " array([[ 0.335, -0.665,  0.   ,  0.   ,  0.   ,  0.   ,  0.   ,  0.   ,\n",
       "          0.   ,  0.   ]]),\n",
       " array([[ 0.       , -0.278125 ,  0.       ,  0.       , -0.1359375,\n",
       "          0.       ,  0.       ,  0.       , -0.1528125,  0.366875 ]])]"
      ]
     },
     "execution_count": 23,
     "metadata": {},
     "output_type": "execute_result"
    }
   ],
   "source": [
    "shaps"
   ]
  },
  {
   "cell_type": "code",
   "execution_count": 24,
   "id": "91e132c4-c82f-4988-a6f6-e323ebb82c85",
   "metadata": {},
   "outputs": [
    {
     "data": {
      "text/plain": [
       "[array([-0.0407381 ,  0.12841865, -0.08768056]),\n",
       " array([ 0.38297222, -0.29733532, -0.0856369 ]),\n",
       " array([ 0.17461905, -0.08733532, -0.08728373]),\n",
       " array([ 0.38297222, -0.29733532, -0.0856369 ]),\n",
       " array([-0.0407381 ,  0.12841865, -0.08768056]),\n",
       " array([-0.05725595,  0.01377579,  0.04348016]),\n",
       " array([ 0.00443056,  0.0832004 , -0.08763095]),\n",
       " array([-0.086125 ,  0.0247877,  0.0613373]),\n",
       " array([ 0.01831944,  0.06931151, -0.08763095]),\n",
       " array([-0.19345635, -0.09590675,  0.2893631 ])]"
      ]
     },
     "execution_count": 24,
     "metadata": {},
     "output_type": "execute_result"
    }
   ],
   "source": [
    "ground_truth_shapleys\n"
   ]
  },
  {
   "cell_type": "code",
   "execution_count": 58,
   "id": "09c4bbeb-f140-4f55-b971-c40f2c4a578f",
   "metadata": {},
   "outputs": [
    {
     "data": {
      "text/plain": [
       "61.11288525800155"
      ]
     },
     "execution_count": 58,
     "metadata": {},
     "output_type": "execute_result"
    }
   ],
   "source": [
    "calculate_score_of_ranking(list(range(12)),list(range(12)))"
   ]
  },
  {
   "cell_type": "code",
   "execution_count": 51,
   "id": "e8fa2106-1427-424f-aff1-113c7b388a1d",
   "metadata": {},
   "outputs": [
    {
     "data": {
      "text/plain": [
       "[(45.43559338088346, 43.804663627311996, 42.98713426200406)]"
      ]
     },
     "execution_count": 51,
     "metadata": {},
     "output_type": "execute_result"
    }
   ],
   "source": [
    "calculateRankingResultsForLabel(0, ground_truth_shapleys, shaps, maximum_likelihood_calculator_d_1.get_A_s_d_values(), shaps_real)"
   ]
  },
  {
   "cell_type": "code",
   "execution_count": 29,
   "id": "5b546adb-28b7-481d-843c-e63d784266db",
   "metadata": {},
   "outputs": [
    {
     "data": {
      "text/plain": [
       "[array([-0.0407381 ,  0.12841865, -0.08768056]),\n",
       " array([ 0.38297222, -0.29733532, -0.0856369 ]),\n",
       " array([ 0.17461905, -0.08733532, -0.08728373]),\n",
       " array([ 0.38297222, -0.29733532, -0.0856369 ]),\n",
       " array([-0.0407381 ,  0.12841865, -0.08768056]),\n",
       " array([-0.05725595,  0.01377579,  0.04348016]),\n",
       " array([ 0.00443056,  0.0832004 , -0.08763095]),\n",
       " array([-0.086125 ,  0.0247877,  0.0613373]),\n",
       " array([ 0.01831944,  0.06931151, -0.08763095]),\n",
       " array([-0.19345635, -0.09590675,  0.2893631 ])]"
      ]
     },
     "execution_count": 29,
     "metadata": {},
     "output_type": "execute_result"
    }
   ],
   "source": [
    "ground_truth_shapleys"
   ]
  },
  {
   "cell_type": "code",
   "execution_count": 32,
   "id": "5395a10d-3961-4e04-8ef8-80e0a646b8fc",
   "metadata": {},
   "outputs": [],
   "source": [
    "shaps[0]=[[i[0] for i in ground_truth_shapleys]]"
   ]
  },
  {
   "cell_type": "code",
   "execution_count": 33,
   "id": "7be5e0d8-15ed-41eb-a1c8-0d32585e5629",
   "metadata": {},
   "outputs": [
    {
     "data": {
      "text/plain": [
       "[[[-0.04073809523809525,\n",
       "   0.38297222222222227,\n",
       "   0.17461904761904762,\n",
       "   0.38297222222222227,\n",
       "   -0.04073809523809525,\n",
       "   -0.05725595238095239,\n",
       "   0.0044305555555555565,\n",
       "   -0.08612500000000001,\n",
       "   0.018319444444444447,\n",
       "   -0.19345634920634922]],\n",
       " array([[ 0.335, -0.665,  0.   ,  0.   ,  0.   ,  0.   ,  0.   ,  0.   ,\n",
       "          0.   ,  0.   ]]),\n",
       " array([[ 0.       , -0.278125 ,  0.       ,  0.       , -0.1359375,\n",
       "          0.       ,  0.       ,  0.       , -0.1528125,  0.366875 ]])]"
      ]
     },
     "execution_count": 33,
     "metadata": {},
     "output_type": "execute_result"
    }
   ],
   "source": []
  },
  {
   "cell_type": "code",
   "execution_count": 47,
   "id": "b57b5e17-e835-495b-bad3-289f0cd855b8",
   "metadata": {},
   "outputs": [
    {
     "name": "stdout",
     "output_type": "stream",
     "text": [
      "1\n"
     ]
    },
    {
     "data": {
      "application/vnd.jupyter.widget-view+json": {
       "model_id": "e6de5c23af7e4062a7a263776ba883b7",
       "version_major": 2,
       "version_minor": 0
      },
      "text/plain": [
       "  0%|          | 0/1 [00:00<?, ?it/s]"
      ]
     },
     "metadata": {},
     "output_type": "display_data"
    },
    {
     "name": "stdout",
     "output_type": "stream",
     "text": [
      "1\n",
      "1022\n"
     ]
    }
   ],
   "source": [
    "shaps_real = maximum_likelihood_calculator_d_1.calculate_shapley_values(2000)"
   ]
  },
  {
   "cell_type": "code",
   "execution_count": null,
   "id": "404c4266-f0c2-4a16-a70f-622d33c99949",
   "metadata": {},
   "outputs": [],
   "source": []
  }
 ],
 "metadata": {
  "kernelspec": {
   "display_name": "Python 3 (ipykernel)",
   "language": "python",
   "name": "python3"
  },
  "language_info": {
   "codemirror_mode": {
    "name": "ipython",
    "version": 3
   },
   "file_extension": ".py",
   "mimetype": "text/x-python",
   "name": "python",
   "nbconvert_exporter": "python",
   "pygments_lexer": "ipython3",
   "version": "3.8.8"
  }
 },
 "nbformat": 4,
 "nbformat_minor": 5
}
